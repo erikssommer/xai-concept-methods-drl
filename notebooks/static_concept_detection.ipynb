{
 "cells": [
  {
   "cell_type": "markdown",
   "metadata": {},
   "source": [
    "### Notebook for concept detection in neural network"
   ]
  },
  {
   "cell_type": "code",
   "execution_count": 15,
   "metadata": {},
   "outputs": [],
   "source": [
    "%load_ext autoreload\n",
    "%autoreload 2"
   ]
  },
  {
   "cell_type": "code",
   "execution_count": 1,
   "metadata": {},
   "outputs": [],
   "source": [
    "import numpy as np\n",
    "import os\n",
    "import sys\n",
    "\n",
    "sys.path.append(os.path.abspath(os.path.join(os.path.pardir, 'src')))\n",
    "\n",
    "os.environ['TF_CPP_MIN_LOG_LEVEL'] = '2'  # or any {'0', '1', '2'}\n",
    "\n",
    "from concepts import static_concepts, linear_regression, generate_static_concept_datasets\n",
    "from policy import ConvNet, ResNet\n",
    "from utils import concept_folder_setup_and_score\n",
    "\n",
    "import tensorflow as tf\n",
    "\n",
    "# Set memory growth\n",
    "physical_devices = tf.config.list_physical_devices('GPU')\n",
    "tf.config.experimental.set_memory_growth(physical_devices[0], True)\n",
    "\n",
    "reward_function = \"zero_sum\" # \"concept_fn\", \"zero_sum\" or \"jem\"\n",
    "model_name = \"net\"\n",
    "session_name = \"probing\"\n",
    "board_size = 7\n",
    "board_name = f'{board_size}x{board_size}'\n",
    "resnet = True\n",
    "\n",
    "model_type = \"resnet\" if resnet else \"convnet\"\n",
    "\n",
    "agents_to_sample = [0, 10, 50, 100, 300, 500, 600, 800, 1000]\n",
    "\n",
    "full_model_path = f\"../models/saved_sessions/{model_type}/{reward_function}/board_size_{board_size}/{session_name}/\"\n",
    "\n",
    "CONCEPT_FUNC = static_concepts.difference_in_stones\n",
    "\n",
    "CONCEPT_NAME = static_concepts.difference_in_stones.__name__\n",
    "\n",
    "BINARY = False\n",
    "\n",
    "CASES_TO_SAMPLE = 2500 # 25000\n",
    "\n",
    "SAMPLE_RATIO = 0.5\n",
    "\n",
    "# Load the models\n",
    "def load_model(full_name, model_name, epoch):\n",
    "    model_path = full_name + model_name + \"_\" + str(epoch) + \".keras\"\n",
    "    if resnet:\n",
    "        model = ResNet(board_size, model_path)\n",
    "    else:\n",
    "        model = ConvNet(board_size, model_path)\n",
    "    return model\n",
    "\n",
    "agents = [load_model(full_model_path, model_name, epoch) for epoch in agents_to_sample]"
   ]
  },
  {
   "cell_type": "code",
   "execution_count": 2,
   "metadata": {},
   "outputs": [
    {
     "name": "stderr",
     "output_type": "stream",
     "text": [
      "Continues cases for concept 'difference_in_stones':   0%|          | 0/2500 [00:00<?, ?it/s]"
     ]
    },
    {
     "name": "stderr",
     "output_type": "stream",
     "text": [
      "Continues cases for concept 'difference_in_stones': 3505it [04:24, 13.23it/s]                          \n"
     ]
    }
   ],
   "source": [
    "positive_cases, negative_cases = generate_static_concept_datasets(CASES_TO_SAMPLE, agents, board_size, CONCEPT_FUNC, sample_ratio=SAMPLE_RATIO, binary=BINARY)\n",
    "\n",
    "# Create numpy arrays\n",
    "positive_cases = np.array(positive_cases)\n",
    "negative_cases = np.array(negative_cases)"
   ]
  },
  {
   "cell_type": "code",
   "execution_count": 3,
   "metadata": {},
   "outputs": [
    {
     "name": "stdout",
     "output_type": "stream",
     "text": [
      "Positive cases:  (2500, 5, 7, 7)\n",
      "Negative cases:  (2500, 5, 7, 7)\n"
     ]
    }
   ],
   "source": [
    "# Print shapes\n",
    "print(\"Positive cases: \", positive_cases.shape)\n",
    "print(\"Negative cases: \", negative_cases.shape)"
   ]
  },
  {
   "cell_type": "code",
   "execution_count": 4,
   "metadata": {},
   "outputs": [],
   "source": [
    "# Test if there are any duplicates accross the two sets\n",
    "for i in range(len(positive_cases)):\n",
    "    for j in range(len(negative_cases)):\n",
    "        if np.array_equal(positive_cases[i], negative_cases[j]):\n",
    "            print(\"Duplicate found!\")\n",
    "            print(positive_cases[i])\n",
    "            print(negative_cases[j])\n",
    "            break"
   ]
  },
  {
   "cell_type": "code",
   "execution_count": 3,
   "metadata": {},
   "outputs": [
    {
     "name": "stdout",
     "output_type": "stream",
     "text": [
      "Duplicate count in positive cases:  1\n",
      "Duplicate count in negative:  13\n"
     ]
    }
   ],
   "source": [
    "# Find the number of any duplicates within the positive cases\n",
    "duplicate_count = 0\n",
    "for i in range(len(positive_cases)):\n",
    "    for j in range(i + 1, len(positive_cases)):\n",
    "        if np.array_equal(positive_cases[i], positive_cases[j]):\n",
    "            duplicate_count += 1\n",
    "            break\n",
    "\n",
    "print(\"Duplicate count in positive cases: \", duplicate_count)\n",
    "\n",
    "# Find the number of any duplicates within the negative cases\n",
    "duplicate_count = 0\n",
    "for i in range(len(negative_cases)):\n",
    "    for j in range(i + 1, len(negative_cases)):\n",
    "        if np.array_equal(negative_cases[i], negative_cases[j]):\n",
    "            duplicate_count += 1\n",
    "            break\n",
    "\n",
    "print(\"Duplicate count in negative: \", duplicate_count)"
   ]
  },
  {
   "cell_type": "code",
   "execution_count": null,
   "metadata": {},
   "outputs": [],
   "source": [
    "from env import gogame\n",
    "# Print all the positive cases\n",
    "for i in range(100, 120):\n",
    "    print(f\"Positive case {i}:\")\n",
    "    print(positive_cases[i])\n",
    "    print(gogame.str(positive_cases[i], nn_format=True))\n",
    "    print()"
   ]
  },
  {
   "cell_type": "code",
   "execution_count": 3,
   "metadata": {},
   "outputs": [
    {
     "name": "stdout",
     "output_type": "stream",
     "text": [
      "Positions to consider: 2000\n"
     ]
    }
   ],
   "source": [
    "# Positions to consider are 80% of the total positions\n",
    "if BINARY:\n",
    "    POSITIONS_TO_CONSIDER = int(0.8 * positive_cases.shape[0] * 2)\n",
    "    print(f\"Positions to consider: {POSITIONS_TO_CONSIDER}\")\n",
    "    #POSITIONS_TO_CONSIDER = 4000 #40000\n",
    "    VALIDATION_POSITIONS = 10000 #10000\n",
    "else:\n",
    "    POSITIONS_TO_CONSIDER = int(0.8 * positive_cases.shape[0])\n",
    "    print(f\"Positions to consider: {POSITIONS_TO_CONSIDER}\")\n",
    "    #POSITIONS_TO_CONSIDER = 4000 #40000\n",
    "    VALIDATION_POSITIONS = 10000\n",
    "\n",
    "epochs = 5"
   ]
  },
  {
   "cell_type": "code",
   "execution_count": 11,
   "metadata": {},
   "outputs": [
    {
     "name": "stdout",
     "output_type": "stream",
     "text": [
      "Regression score:  1.0\n"
     ]
    }
   ],
   "source": [
    "# First test if the concept can be regressed form the inputs\n",
    "name = \"input\"\n",
    "if BINARY:\n",
    "    all_cases = np.concatenate([positive_cases, negative_cases])\n",
    "    all_labels = [1] * positive_cases.shape[0] + [0] * negative_cases.shape[0]\n",
    "else:\n",
    "    all_cases = np.array(positive_cases)\n",
    "    all_labels = negative_cases\n",
    "\n",
    "all_labels = np.array(all_labels)\n",
    "shuffled_indices = np.arange(all_labels.shape[0])\n",
    "\n",
    "np.random.shuffle(shuffled_indices)\n",
    "\n",
    "all_cases = all_cases[shuffled_indices]\n",
    "all_labels = all_labels[shuffled_indices]\n",
    "\n",
    "points = all_cases.reshape(all_cases.shape[0], -1)\n",
    "\n",
    "# Use the regression\n",
    "score = linear_regression.perform_regression(\n",
    "    points=points[:POSITIONS_TO_CONSIDER], \n",
    "    targets=all_labels[:POSITIONS_TO_CONSIDER], \n",
    "    validation_points=points[POSITIONS_TO_CONSIDER:], \n",
    "    validation_targets=all_labels[POSITIONS_TO_CONSIDER:], \n",
    "    is_binary=BINARY,\n",
    "    epochs=epochs,\n",
    "    verbose=1\n",
    ")\n",
    "\n",
    "score = 0 if score < 0 else score\n",
    "\n",
    "print(\"Regression score: \", score)\n",
    "\n",
    "concept_folder_setup_and_score('static', model_type, board_name, session_name, CONCEPT_NAME, name, score)"
   ]
  },
  {
   "cell_type": "code",
   "execution_count": 12,
   "metadata": {},
   "outputs": [
    {
     "name": "stderr",
     "output_type": "stream",
     "text": [
      "Getting activation outputs: 100%|██████████| 79/79 [00:02<00:00, 29.77it/s]\n"
     ]
    },
    {
     "name": "stdout",
     "output_type": "stream",
     "text": [
      "Performing regression for layer 0\n",
      "The presence of difference_in_stones in resblock 0 is 0.9990625451924315\n",
      "Performing regression for layer 1\n",
      "The presence of difference_in_stones in resblock 1 is 0.9969729568746891\n",
      "Performing regression for layer 2\n",
      "The presence of difference_in_stones in resblock 2 is 0.9988421090721993\n",
      "Performing regression for layer 3\n",
      "The presence of difference_in_stones in resblock 3 is 0.9964637082562439\n",
      "Performing regression for layer 4\n",
      "The presence of difference_in_stones in resblock 4 is 0.9983095670342893\n",
      "Performing regression for layer 5\n"
     ]
    },
    {
     "name": "stderr",
     "output_type": "stream",
     "text": [
      "Epochs:  11%|█         | 1/9 [00:11<01:32, 11.59s/it]"
     ]
    },
    {
     "name": "stdout",
     "output_type": "stream",
     "text": [
      "The presence of difference_in_stones in resblock 5 is 0.995212551162165\n",
      "Performing regression for layer 6\n",
      "The presence of difference_in_stones in resblock 6 is 0.38332185534311625\n",
      "Performing regression for layer 7\n",
      "The presence of difference_in_stones in resblock 7 is 0.6588785378253244\n"
     ]
    },
    {
     "name": "stderr",
     "output_type": "stream",
     "text": [
      "Getting activation outputs: 100%|██████████| 79/79 [00:02<00:00, 35.27it/s]\n"
     ]
    },
    {
     "name": "stdout",
     "output_type": "stream",
     "text": [
      "Performing regression for layer 0\n",
      "The presence of difference_in_stones in resblock 0 is 0.9991232576521979\n",
      "Performing regression for layer 1\n",
      "The presence of difference_in_stones in resblock 1 is 0.9974917825129106\n",
      "Performing regression for layer 2\n",
      "The presence of difference_in_stones in resblock 2 is 0.9988448345922717\n",
      "Performing regression for layer 3\n",
      "The presence of difference_in_stones in resblock 3 is 0.9970028304833823\n",
      "Performing regression for layer 4\n",
      "The presence of difference_in_stones in resblock 4 is 0.9986885324237283\n",
      "Performing regression for layer 5\n"
     ]
    },
    {
     "name": "stderr",
     "output_type": "stream",
     "text": [
      "Epochs:  22%|██▏       | 2/9 [00:22<01:18, 11.19s/it]"
     ]
    },
    {
     "name": "stdout",
     "output_type": "stream",
     "text": [
      "The presence of difference_in_stones in resblock 5 is 0.9958142794554615\n",
      "Performing regression for layer 6\n",
      "The presence of difference_in_stones in resblock 6 is 0.8322256904160974\n",
      "Performing regression for layer 7\n",
      "The presence of difference_in_stones in resblock 7 is 0.841244636077634\n"
     ]
    },
    {
     "name": "stderr",
     "output_type": "stream",
     "text": [
      "Getting activation outputs: 100%|██████████| 79/79 [00:02<00:00, 35.73it/s]\n"
     ]
    },
    {
     "name": "stdout",
     "output_type": "stream",
     "text": [
      "Performing regression for layer 0\n",
      "The presence of difference_in_stones in resblock 0 is 0.998852699060349\n",
      "Performing regression for layer 1\n",
      "The presence of difference_in_stones in resblock 1 is 0.9968805420826016\n",
      "Performing regression for layer 2\n",
      "The presence of difference_in_stones in resblock 2 is 0.9984657868804802\n",
      "Performing regression for layer 3\n",
      "The presence of difference_in_stones in resblock 3 is 0.9960790679624513\n",
      "Performing regression for layer 4\n",
      "The presence of difference_in_stones in resblock 4 is 0.9981176943845582\n",
      "Performing regression for layer 5\n"
     ]
    },
    {
     "name": "stderr",
     "output_type": "stream",
     "text": [
      "Epochs:  33%|███▎      | 3/9 [00:33<01:06, 11.08s/it]"
     ]
    },
    {
     "name": "stdout",
     "output_type": "stream",
     "text": [
      "The presence of difference_in_stones in resblock 5 is 0.9954372031073039\n",
      "Performing regression for layer 6\n",
      "The presence of difference_in_stones in resblock 6 is 0.6956825831781093\n",
      "Performing regression for layer 7\n",
      "The presence of difference_in_stones in resblock 7 is 0.896903575735313\n"
     ]
    },
    {
     "name": "stderr",
     "output_type": "stream",
     "text": [
      "Getting activation outputs: 100%|██████████| 79/79 [00:02<00:00, 35.22it/s]\n"
     ]
    },
    {
     "name": "stdout",
     "output_type": "stream",
     "text": [
      "Performing regression for layer 0\n",
      "The presence of difference_in_stones in resblock 0 is 0.9980590792588053\n",
      "Performing regression for layer 1\n",
      "The presence of difference_in_stones in resblock 1 is 0.9935400673413503\n",
      "Performing regression for layer 2\n",
      "The presence of difference_in_stones in resblock 2 is 0.9949624839687394\n",
      "Performing regression for layer 3\n",
      "The presence of difference_in_stones in resblock 3 is 0.9882677894397832\n",
      "Performing regression for layer 4\n",
      "The presence of difference_in_stones in resblock 4 is 0.9934229571986651\n",
      "Performing regression for layer 5\n"
     ]
    },
    {
     "name": "stderr",
     "output_type": "stream",
     "text": [
      "Epochs:  44%|████▍     | 4/9 [00:44<00:55, 11.12s/it]"
     ]
    },
    {
     "name": "stdout",
     "output_type": "stream",
     "text": [
      "The presence of difference_in_stones in resblock 5 is 0.9831357594118528\n",
      "Performing regression for layer 6\n",
      "The presence of difference_in_stones in resblock 6 is 0.42777446590651325\n",
      "Performing regression for layer 7\n",
      "The presence of difference_in_stones in resblock 7 is 0.7987193068804386\n"
     ]
    },
    {
     "name": "stderr",
     "output_type": "stream",
     "text": [
      "Getting activation outputs: 100%|██████████| 79/79 [00:02<00:00, 33.75it/s]\n"
     ]
    },
    {
     "name": "stdout",
     "output_type": "stream",
     "text": [
      "Performing regression for layer 0\n",
      "The presence of difference_in_stones in resblock 0 is 0.9977146871454431\n",
      "Performing regression for layer 1\n",
      "The presence of difference_in_stones in resblock 1 is 0.9911339846221777\n",
      "Performing regression for layer 2\n",
      "The presence of difference_in_stones in resblock 2 is 0.9869084475886283\n",
      "Performing regression for layer 3\n",
      "The presence of difference_in_stones in resblock 3 is 0.9754977507520883\n",
      "Performing regression for layer 4\n",
      "The presence of difference_in_stones in resblock 4 is 0.9798523126771641\n",
      "Performing regression for layer 5\n"
     ]
    },
    {
     "name": "stderr",
     "output_type": "stream",
     "text": [
      "Epochs:  56%|█████▌    | 5/9 [00:56<00:45, 11.31s/it]"
     ]
    },
    {
     "name": "stdout",
     "output_type": "stream",
     "text": [
      "The presence of difference_in_stones in resblock 5 is 0.9664759620303927\n",
      "Performing regression for layer 6\n",
      "The presence of difference_in_stones in resblock 6 is 0.5077271380506362\n",
      "Performing regression for layer 7\n",
      "The presence of difference_in_stones in resblock 7 is 0.6905368099306837\n"
     ]
    },
    {
     "name": "stderr",
     "output_type": "stream",
     "text": [
      "Getting activation outputs: 100%|██████████| 79/79 [00:02<00:00, 31.24it/s]\n"
     ]
    },
    {
     "name": "stdout",
     "output_type": "stream",
     "text": [
      "Performing regression for layer 0\n",
      "The presence of difference_in_stones in resblock 0 is 0.9943303354260766\n",
      "Performing regression for layer 1\n",
      "The presence of difference_in_stones in resblock 1 is 0.9829310896242587\n",
      "Performing regression for layer 2\n",
      "The presence of difference_in_stones in resblock 2 is 0.9745498970742694\n",
      "Performing regression for layer 3\n",
      "The presence of difference_in_stones in resblock 3 is 0.964083654521248\n",
      "Performing regression for layer 4\n",
      "The presence of difference_in_stones in resblock 4 is 0.9663857691707894\n",
      "Performing regression for layer 5\n"
     ]
    },
    {
     "name": "stderr",
     "output_type": "stream",
     "text": [
      "Epochs:  67%|██████▋   | 6/9 [01:08<00:34, 11.66s/it]"
     ]
    },
    {
     "name": "stdout",
     "output_type": "stream",
     "text": [
      "The presence of difference_in_stones in resblock 5 is 0.9496577251537\n",
      "Performing regression for layer 6\n",
      "The presence of difference_in_stones in resblock 6 is 0.42653771070130064\n",
      "Performing regression for layer 7\n",
      "The presence of difference_in_stones in resblock 7 is 0.3319112892137006\n"
     ]
    },
    {
     "name": "stderr",
     "output_type": "stream",
     "text": [
      "Getting activation outputs: 100%|██████████| 79/79 [00:03<00:00, 26.00it/s]\n"
     ]
    },
    {
     "name": "stdout",
     "output_type": "stream",
     "text": [
      "Performing regression for layer 0\n",
      "The presence of difference_in_stones in resblock 0 is 0.9919492762446744\n",
      "Performing regression for layer 1\n",
      "The presence of difference_in_stones in resblock 1 is 0.9825470903484311\n",
      "Performing regression for layer 2\n",
      "The presence of difference_in_stones in resblock 2 is 0.9797831702820406\n",
      "Performing regression for layer 3\n",
      "The presence of difference_in_stones in resblock 3 is 0.9644369030268105\n",
      "Performing regression for layer 4\n",
      "The presence of difference_in_stones in resblock 4 is 0.9692467812073357\n",
      "Performing regression for layer 5\n"
     ]
    },
    {
     "name": "stderr",
     "output_type": "stream",
     "text": [
      "Epochs:  78%|███████▊  | 7/9 [01:28<00:28, 14.28s/it]"
     ]
    },
    {
     "name": "stdout",
     "output_type": "stream",
     "text": [
      "The presence of difference_in_stones in resblock 5 is 0.9435638284251274\n",
      "Performing regression for layer 6\n",
      "The presence of difference_in_stones in resblock 6 is 0.7545249004444382\n",
      "Performing regression for layer 7\n",
      "The presence of difference_in_stones in resblock 7 is 0.27674247139063535\n"
     ]
    },
    {
     "name": "stderr",
     "output_type": "stream",
     "text": [
      "Getting activation outputs: 100%|██████████| 79/79 [00:03<00:00, 26.28it/s]\n"
     ]
    },
    {
     "name": "stdout",
     "output_type": "stream",
     "text": [
      "Performing regression for layer 0\n",
      "The presence of difference_in_stones in resblock 0 is 0.9931291548315642\n",
      "Performing regression for layer 1\n",
      "The presence of difference_in_stones in resblock 1 is 0.9818777594751765\n",
      "Performing regression for layer 2\n",
      "The presence of difference_in_stones in resblock 2 is 0.9839776948008256\n",
      "Performing regression for layer 3\n",
      "The presence of difference_in_stones in resblock 3 is 0.9681247321596894\n",
      "Performing regression for layer 4\n",
      "The presence of difference_in_stones in resblock 4 is 0.9720866551643618\n",
      "Performing regression for layer 5\n"
     ]
    },
    {
     "name": "stderr",
     "output_type": "stream",
     "text": [
      "Epochs:  89%|████████▉ | 8/9 [01:47<00:15, 15.87s/it]"
     ]
    },
    {
     "name": "stdout",
     "output_type": "stream",
     "text": [
      "The presence of difference_in_stones in resblock 5 is 0.9452162907774605\n",
      "Performing regression for layer 6\n",
      "The presence of difference_in_stones in resblock 6 is 0.7950242432044783\n",
      "Performing regression for layer 7\n",
      "The presence of difference_in_stones in resblock 7 is 0.20578902491283269\n"
     ]
    },
    {
     "name": "stderr",
     "output_type": "stream",
     "text": [
      "Getting activation outputs: 100%|██████████| 79/79 [00:02<00:00, 26.63it/s]\n"
     ]
    },
    {
     "name": "stdout",
     "output_type": "stream",
     "text": [
      "Performing regression for layer 0\n",
      "The presence of difference_in_stones in resblock 0 is 0.9896802806513596\n",
      "Performing regression for layer 1\n",
      "The presence of difference_in_stones in resblock 1 is 0.9800868775612626\n",
      "Performing regression for layer 2\n",
      "The presence of difference_in_stones in resblock 2 is 0.9792809397360243\n",
      "Performing regression for layer 3\n",
      "The presence of difference_in_stones in resblock 3 is 0.9579685513182179\n",
      "Performing regression for layer 4\n",
      "The presence of difference_in_stones in resblock 4 is 0.9577663338811706\n",
      "Performing regression for layer 5\n"
     ]
    },
    {
     "name": "stderr",
     "output_type": "stream",
     "text": [
      "Epochs: 100%|██████████| 9/9 [02:07<00:00, 17.04s/it]"
     ]
    },
    {
     "name": "stdout",
     "output_type": "stream",
     "text": [
      "The presence of difference_in_stones in resblock 5 is 0.9276390430283309\n",
      "Performing regression for layer 6\n",
      "The presence of difference_in_stones in resblock 6 is 0.734755771401223\n",
      "Performing regression for layer 7\n",
      "The presence of difference_in_stones in resblock 7 is 0.16516636285194053\n"
     ]
    }
   ],
   "source": [
    "from tqdm import tqdm\n",
    "epochs_to_look_at = agents_to_sample\n",
    "\n",
    "bar = tqdm(total=len(epochs_to_look_at), desc=\"Epochs\")\n",
    "\n",
    "for epoch in epochs_to_look_at:\n",
    "    path = full_model_path + model_name + \"_\" + str(epoch) + \".keras\"\n",
    "    if resnet:\n",
    "        model = ResNet(board_size, path)\n",
    "    else:\n",
    "        model = ConvNet(board_size, path)\n",
    "\n",
    "    # Will have a length equal to the sum of the numer of rows in the positive and negative cases arrays\n",
    "    # And will contain 1s for positive cases and 0s for negative cases\n",
    "    # Is used as labels/targets for the regression\n",
    "    if BINARY:\n",
    "        all_cases = np.concatenate([positive_cases, negative_cases])\n",
    "        all_labels = [1] * positive_cases.shape[0] + [0] * negative_cases.shape[0]\n",
    "    else:\n",
    "        all_cases = np.array(positive_cases)\n",
    "        all_labels = negative_cases\n",
    "\n",
    "    all_labels = np.array(all_labels)\n",
    "    shuffled_indices = np.arange(all_labels.shape[0])\n",
    "\n",
    "    np.random.shuffle(shuffled_indices)\n",
    "\n",
    "    all_cases = all_cases[shuffled_indices]\n",
    "    all_labels = all_labels[shuffled_indices]\n",
    "\n",
    "    concept_presences = {}\n",
    "    \n",
    "    outputs = model.get_all_activation_values(all_cases)\n",
    "\n",
    "    # Merge outputs\n",
    "    merged_outputs = []\n",
    "    for output_batch in outputs:\n",
    "        for i, output_layer in enumerate(output_batch):\n",
    "            if len(merged_outputs) <= i:\n",
    "                merged_outputs.append([])\n",
    "            merged_outputs[i].extend(output_layer)\n",
    "\n",
    "    for i, layer_output in enumerate(merged_outputs):\n",
    "        merged_outputs[i] = np.array(merged_outputs[i])\n",
    "    \n",
    "    outputs = merged_outputs\n",
    "\n",
    "    # Perform regression\n",
    "    concept_presence_per_layer = []\n",
    "    for (i, output) in enumerate(outputs):\n",
    "        points = output.reshape((output.shape[0], np.prod(output.shape[1:])))\n",
    "        # So one has (n, k) samples where n is the number of positions, and k is the total number of activation values in layer i.\n",
    "        print(f\"Performing regression for layer {i}\")\n",
    "        score = linear_regression.perform_regression(\n",
    "            points=points[:POSITIONS_TO_CONSIDER], \n",
    "            targets=all_labels[:POSITIONS_TO_CONSIDER], \n",
    "            validation_points=points[POSITIONS_TO_CONSIDER:], \n",
    "            validation_targets=all_labels[POSITIONS_TO_CONSIDER:], \n",
    "            is_binary=BINARY,\n",
    "            epochs=epochs,\n",
    "            verbose=1\n",
    "        )\n",
    "        score = 0 if score < 0 else score\n",
    "        concept_presence_per_layer.append(score)\n",
    "\n",
    "        print(f\"The presence of {CONCEPT_NAME} in resblock {i} is {score}\")\n",
    "        \n",
    "    concept_presences[CONCEPT_NAME] = concept_presence_per_layer\n",
    "\n",
    "    concept_folder_setup_and_score('static', model_type, board_name, session_name, CONCEPT_NAME, epoch, concept_presence_per_layer)\n",
    "\n",
    "    bar.update()"
   ]
  }
 ],
 "metadata": {
  "kernelspec": {
   "display_name": "go-xai",
   "language": "python",
   "name": "python3"
  },
  "language_info": {
   "codemirror_mode": {
    "name": "ipython",
    "version": 3
   },
   "file_extension": ".py",
   "mimetype": "text/x-python",
   "name": "python",
   "nbconvert_exporter": "python",
   "pygments_lexer": "ipython3",
   "version": "3.8.18"
  }
 },
 "nbformat": 4,
 "nbformat_minor": 2
}
