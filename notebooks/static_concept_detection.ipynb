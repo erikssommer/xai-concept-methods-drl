{
 "cells": [
  {
   "cell_type": "markdown",
   "metadata": {},
   "source": [
    "### Notebook for concept detection in neural network"
   ]
  },
  {
   "cell_type": "code",
   "execution_count": 15,
   "metadata": {},
   "outputs": [],
   "source": [
    "%load_ext autoreload\n",
    "%autoreload 2"
   ]
  },
  {
   "cell_type": "code",
   "execution_count": 1,
   "metadata": {},
   "outputs": [],
   "source": [
    "import numpy as np\n",
    "import os\n",
    "import sys\n",
    "\n",
    "sys.path.append(os.path.abspath(os.path.join(os.path.pardir, 'src')))\n",
    "\n",
    "os.environ['TF_CPP_MIN_LOG_LEVEL'] = '2'  # or any {'0', '1', '2'}\n",
    "\n",
    "from concepts import static_concepts, linear_regression, generate_static_concept_datasets\n",
    "from policy import ConvNet, ResNet\n",
    "from utils import concept_folder_setup_and_score\n",
    "\n",
    "import tensorflow as tf\n",
    "\n",
    "# Set memory growth\n",
    "physical_devices = tf.config.list_physical_devices('GPU')\n",
    "tf.config.experimental.set_memory_growth(physical_devices[0], True)\n",
    "\n",
    "reward_function = \"zero_sum\" # \"concept_fn\", \"zero_sum\" or \"jem\"\n",
    "model_name = \"net\"\n",
    "session_name = \"probing\"\n",
    "board_size = 7\n",
    "board_name = f'{board_size}x{board_size}'\n",
    "resnet = True\n",
    "\n",
    "model_type = \"resnet\" if resnet else \"convnet\"\n",
    "\n",
    "agents_to_sample = [0, 10, 50, 100, 300, 500, 600, 800, 1000]\n",
    "\n",
    "full_model_path = f\"../models/saved_sessions/{model_type}/{reward_function}/board_size_{board_size}/{session_name}/\"\n",
    "\n",
    "CONCEPT_FUNC = static_concepts.win_on_pass\n",
    "\n",
    "CONCEPT_NAME = static_concepts.win_on_pass.__name__\n",
    "\n",
    "BINARY = True\n",
    "\n",
    "CASES_TO_SAMPLE = 2500 # 25000\n",
    "\n",
    "SAMPLE_RATIO = 0.8\n",
    "\n",
    "# Load the models\n",
    "def load_model(full_name, model_name, epoch):\n",
    "    model_path = full_name + model_name + \"_\" + str(epoch) + \".keras\"\n",
    "    if resnet:\n",
    "        model = ResNet(board_size, model_path)\n",
    "    else:\n",
    "        model = ConvNet(board_size, model_path)\n",
    "    return model\n",
    "\n",
    "agents = [load_model(full_model_path, model_name, epoch) for epoch in agents_to_sample]"
   ]
  },
  {
   "cell_type": "code",
   "execution_count": 2,
   "metadata": {},
   "outputs": [
    {
     "name": "stderr",
     "output_type": "stream",
     "text": [
      "Positive cases for concept 'win_on_pass':   0%|          | 0/2500 [00:00<?, ?it/s]"
     ]
    },
    {
     "name": "stderr",
     "output_type": "stream",
     "text": [
      "Positive cases for concept 'win_on_pass': 2521it [40:00,  1.05it/s]                           \n"
     ]
    }
   ],
   "source": [
    "positive_cases, negative_cases = generate_static_concept_datasets(CASES_TO_SAMPLE, agents, board_size, CONCEPT_FUNC, sample_ratio=SAMPLE_RATIO, binary=BINARY)\n",
    "\n",
    "# Create numpy arrays\n",
    "positive_cases = np.array(positive_cases)\n",
    "negative_cases = np.array(negative_cases)"
   ]
  },
  {
   "cell_type": "code",
   "execution_count": 3,
   "metadata": {},
   "outputs": [
    {
     "name": "stdout",
     "output_type": "stream",
     "text": [
      "Positive cases:  (2500, 5, 7, 7)\n",
      "Negative cases:  (2500, 5, 7, 7)\n"
     ]
    }
   ],
   "source": [
    "# Print shapes\n",
    "print(\"Positive cases: \", positive_cases.shape)\n",
    "print(\"Negative cases: \", negative_cases.shape)"
   ]
  },
  {
   "cell_type": "code",
   "execution_count": 4,
   "metadata": {},
   "outputs": [],
   "source": [
    "# Test if there are any duplicates accross the two sets\n",
    "for i in range(len(positive_cases)):\n",
    "    for j in range(len(negative_cases)):\n",
    "        if np.array_equal(positive_cases[i], negative_cases[j]):\n",
    "            print(\"Duplicate found!\")\n",
    "            print(positive_cases[i])\n",
    "            print(negative_cases[j])\n",
    "            break"
   ]
  },
  {
   "cell_type": "code",
   "execution_count": 3,
   "metadata": {},
   "outputs": [
    {
     "name": "stdout",
     "output_type": "stream",
     "text": [
      "Duplicate count in positive cases:  0\n",
      "Duplicate count in negative:  15\n"
     ]
    }
   ],
   "source": [
    "# Find the number of any duplicates within the positive cases\n",
    "duplicate_count = 0\n",
    "for i in range(len(positive_cases)):\n",
    "    for j in range(i + 1, len(positive_cases)):\n",
    "        if np.array_equal(positive_cases[i], positive_cases[j]):\n",
    "            duplicate_count += 1\n",
    "            break\n",
    "\n",
    "print(\"Duplicate count in positive cases: \", duplicate_count)\n",
    "\n",
    "# Find the number of any duplicates within the negative cases\n",
    "duplicate_count = 0\n",
    "for i in range(len(negative_cases)):\n",
    "    for j in range(i + 1, len(negative_cases)):\n",
    "        if np.array_equal(negative_cases[i], negative_cases[j]):\n",
    "            duplicate_count += 1\n",
    "            break\n",
    "\n",
    "print(\"Duplicate count in negative: \", duplicate_count)"
   ]
  },
  {
   "cell_type": "code",
   "execution_count": null,
   "metadata": {},
   "outputs": [],
   "source": [
    "from env import gogame\n",
    "# Print all the positive cases\n",
    "for i in range(100, 120):\n",
    "    print(f\"Positive case {i}:\")\n",
    "    print(positive_cases[i])\n",
    "    print(gogame.str(positive_cases[i], nn_format=True))\n",
    "    print()"
   ]
  },
  {
   "cell_type": "code",
   "execution_count": 6,
   "metadata": {},
   "outputs": [
    {
     "name": "stdout",
     "output_type": "stream",
     "text": [
      "Positions to consider: 4000\n"
     ]
    }
   ],
   "source": [
    "# Positions to consider are 80% of the total positions\n",
    "if BINARY:\n",
    "    POSITIONS_TO_CONSIDER = int(0.8 * positive_cases.shape[0] * 2)\n",
    "    print(f\"Positions to consider: {POSITIONS_TO_CONSIDER}\")\n",
    "    #POSITIONS_TO_CONSIDER = 4000 #40000\n",
    "    VALIDATION_POSITIONS = 10000 #10000\n",
    "else:\n",
    "    POSITIONS_TO_CONSIDER = int(0.8 * positive_cases.shape[0])\n",
    "    print(f\"Positions to consider: {POSITIONS_TO_CONSIDER}\")\n",
    "    #POSITIONS_TO_CONSIDER = 4000 #40000\n",
    "    VALIDATION_POSITIONS = 10000\n",
    "\n",
    "epochs = 5"
   ]
  },
  {
   "cell_type": "code",
   "execution_count": 5,
   "metadata": {},
   "outputs": [
    {
     "name": "stderr",
     "output_type": "stream",
     "text": [
      "2024-04-24 22:08:49.747055: E tensorflow/core/grappler/optimizers/meta_optimizer.cc:954] model_pruner failed: INVALID_ARGUMENT: Graph does not contain terminal node AssignAddVariableOp_2.\n"
     ]
    },
    {
     "name": "stdout",
     "output_type": "stream",
     "text": [
      "125/125 [==============================] - 4s 22ms/step - loss: 0.9402 - val_loss: 0.9056\n",
      "125/125 [==============================] - 0s 3ms/step\n",
      "0.0015000000000000568\n",
      "32/32 [==============================] - 0s 5ms/step\n",
      "Regression score:  0.02400000000000002\n"
     ]
    }
   ],
   "source": [
    "# First test if the concept can be regressed form the inputs\n",
    "name = \"input\"\n",
    "if BINARY:\n",
    "    all_cases = np.concatenate([positive_cases, negative_cases])\n",
    "    all_labels = [1] * positive_cases.shape[0] + [0] * negative_cases.shape[0]\n",
    "else:\n",
    "    all_cases = np.array(positive_cases)\n",
    "    all_labels = negative_cases\n",
    "\n",
    "all_labels = np.array(all_labels)\n",
    "shuffled_indices = np.arange(all_labels.shape[0])\n",
    "\n",
    "np.random.shuffle(shuffled_indices)\n",
    "\n",
    "all_cases = all_cases[shuffled_indices]\n",
    "all_labels = all_labels[shuffled_indices]\n",
    "\n",
    "points = all_cases.reshape(all_cases.shape[0], -1)\n",
    "\n",
    "# Use the regression\n",
    "score = linear_regression.perform_regression(\n",
    "    points=points[:POSITIONS_TO_CONSIDER], \n",
    "    targets=all_labels[:POSITIONS_TO_CONSIDER], \n",
    "    validation_points=points[POSITIONS_TO_CONSIDER:], \n",
    "    validation_targets=all_labels[POSITIONS_TO_CONSIDER:], \n",
    "    is_binary=BINARY,\n",
    "    epochs=epochs,\n",
    "    verbose=1\n",
    ")\n",
    "\n",
    "score = 0 if score < 0 else score\n",
    "\n",
    "print(\"Regression score: \", score)\n",
    "\n",
    "concept_folder_setup_and_score('static', model_type, board_name, session_name, CONCEPT_NAME, name, score)"
   ]
  },
  {
   "cell_type": "code",
   "execution_count": 7,
   "metadata": {},
   "outputs": [
    {
     "name": "stderr",
     "output_type": "stream",
     "text": [
      "Getting activation outputs: 100%|██████████| 157/157 [00:04<00:00, 32.95it/s]\n"
     ]
    },
    {
     "name": "stdout",
     "output_type": "stream",
     "text": [
      "Performing regression for layer 0\n",
      "Epoch 1/5\n"
     ]
    },
    {
     "name": "stderr",
     "output_type": "stream",
     "text": [
      "2024-04-24 22:09:09.425471: E tensorflow/core/grappler/optimizers/meta_optimizer.cc:954] model_pruner failed: INVALID_ARGUMENT: Graph does not contain terminal node AssignAddVariableOp_2.\n"
     ]
    },
    {
     "name": "stdout",
     "output_type": "stream",
     "text": [
      "125/125 [==============================] - 3s 19ms/step - loss: 1.3069 - val_loss: 1.1203\n",
      "Epoch 2/5\n",
      "125/125 [==============================] - 2s 16ms/step - loss: 0.9875 - val_loss: 0.8638\n",
      "Epoch 3/5\n",
      "125/125 [==============================] - 2s 16ms/step - loss: 0.7888 - val_loss: 0.7262\n",
      "Epoch 4/5\n",
      "125/125 [==============================] - 2s 16ms/step - loss: 0.7063 - val_loss: 0.6881\n",
      "Epoch 5/5\n",
      "125/125 [==============================] - 2s 16ms/step - loss: 0.6863 - val_loss: 0.6776\n",
      "125/125 [==============================] - 0s 3ms/step\n",
      "0.5165\n",
      "32/32 [==============================] - 0s 3ms/step\n",
      "The presence of win_on_pass in resblock 0 is 0.556\n",
      "Performing regression for layer 1\n",
      "Epoch 1/5\n"
     ]
    },
    {
     "name": "stderr",
     "output_type": "stream",
     "text": [
      "2024-04-24 22:09:20.982270: E tensorflow/core/grappler/optimizers/meta_optimizer.cc:954] model_pruner failed: INVALID_ARGUMENT: Graph does not contain terminal node AssignAddVariableOp_2.\n"
     ]
    },
    {
     "name": "stdout",
     "output_type": "stream",
     "text": [
      "125/125 [==============================] - 3s 19ms/step - loss: 1.2929 - val_loss: 1.0911\n",
      "Epoch 2/5\n",
      "125/125 [==============================] - 2s 17ms/step - loss: 0.9512 - val_loss: 0.8259\n",
      "Epoch 3/5\n",
      "125/125 [==============================] - 2s 16ms/step - loss: 0.7585 - val_loss: 0.7076\n",
      "Epoch 4/5\n",
      "125/125 [==============================] - 2s 16ms/step - loss: 0.7011 - val_loss: 0.6933\n",
      "Epoch 5/5\n",
      "125/125 [==============================] - 2s 16ms/step - loss: 0.6945 - val_loss: 0.6906\n",
      "125/125 [==============================] - 0s 3ms/step\n",
      "0.04400000000000004\n",
      "32/32 [==============================] - 0s 3ms/step\n",
      "The presence of win_on_pass in resblock 1 is 0.1060000000000001\n",
      "Performing regression for layer 2\n",
      "Epoch 1/5\n"
     ]
    },
    {
     "name": "stderr",
     "output_type": "stream",
     "text": [
      "2024-04-24 22:09:32.821789: E tensorflow/core/grappler/optimizers/meta_optimizer.cc:954] model_pruner failed: INVALID_ARGUMENT: Graph does not contain terminal node AssignAddVariableOp_2.\n"
     ]
    },
    {
     "name": "stdout",
     "output_type": "stream",
     "text": [
      "125/125 [==============================] - 3s 19ms/step - loss: 1.3013 - val_loss: 1.1139\n",
      "Epoch 2/5\n",
      "125/125 [==============================] - 2s 16ms/step - loss: 0.9856 - val_loss: 0.8631\n",
      "Epoch 3/5\n",
      "125/125 [==============================] - 2s 16ms/step - loss: 0.7909 - val_loss: 0.7267\n",
      "Epoch 4/5\n",
      "125/125 [==============================] - 2s 17ms/step - loss: 0.7096 - val_loss: 0.6910\n",
      "Epoch 5/5\n",
      "125/125 [==============================] - 2s 16ms/step - loss: 0.6902 - val_loss: 0.6820\n",
      "125/125 [==============================] - 0s 3ms/step\n",
      "0.496\n",
      "32/32 [==============================] - 0s 3ms/step\n",
      "The presence of win_on_pass in resblock 2 is 0.536\n",
      "Performing regression for layer 3\n",
      "Epoch 1/5\n"
     ]
    },
    {
     "name": "stderr",
     "output_type": "stream",
     "text": [
      "2024-04-24 22:09:44.641810: E tensorflow/core/grappler/optimizers/meta_optimizer.cc:954] model_pruner failed: INVALID_ARGUMENT: Graph does not contain terminal node AssignAddVariableOp_2.\n"
     ]
    },
    {
     "name": "stdout",
     "output_type": "stream",
     "text": [
      "125/125 [==============================] - 3s 19ms/step - loss: 1.3068 - val_loss: 1.1065\n",
      "Epoch 2/5\n",
      "125/125 [==============================] - 2s 16ms/step - loss: 0.9695 - val_loss: 0.8424\n",
      "Epoch 3/5\n",
      "125/125 [==============================] - 2s 16ms/step - loss: 0.7731 - val_loss: 0.7168\n",
      "Epoch 4/5\n",
      "125/125 [==============================] - 2s 16ms/step - loss: 0.7063 - val_loss: 0.6936\n",
      "Epoch 5/5\n",
      "125/125 [==============================] - 2s 16ms/step - loss: 0.6951 - val_loss: 0.6896\n",
      "125/125 [==============================] - 0s 3ms/step\n",
      "0.08549999999999991\n",
      "32/32 [==============================] - 0s 3ms/step\n",
      "The presence of win_on_pass in resblock 3 is 0.1439999999999999\n",
      "Performing regression for layer 4\n",
      "Epoch 1/5\n"
     ]
    },
    {
     "name": "stderr",
     "output_type": "stream",
     "text": [
      "2024-04-24 22:09:56.491698: E tensorflow/core/grappler/optimizers/meta_optimizer.cc:954] model_pruner failed: INVALID_ARGUMENT: Graph does not contain terminal node AssignAddVariableOp_2.\n"
     ]
    },
    {
     "name": "stdout",
     "output_type": "stream",
     "text": [
      "125/125 [==============================] - 3s 19ms/step - loss: 1.3430 - val_loss: 1.1704\n",
      "Epoch 2/5\n",
      "125/125 [==============================] - 2s 16ms/step - loss: 1.0424 - val_loss: 0.9204\n",
      "Epoch 3/5\n",
      "125/125 [==============================] - 2s 16ms/step - loss: 0.8425 - val_loss: 0.7696\n",
      "Epoch 4/5\n",
      "125/125 [==============================] - 2s 16ms/step - loss: 0.7402 - val_loss: 0.7125\n",
      "Epoch 5/5\n",
      "125/125 [==============================] - 2s 17ms/step - loss: 0.7042 - val_loss: 0.6932\n",
      "125/125 [==============================] - 0s 3ms/step\n",
      "0.5545\n",
      "32/32 [==============================] - 0s 3ms/step\n",
      "The presence of win_on_pass in resblock 4 is 0.5940000000000001\n",
      "Performing regression for layer 5\n",
      "Epoch 1/5\n"
     ]
    },
    {
     "name": "stderr",
     "output_type": "stream",
     "text": [
      "2024-04-24 22:10:08.269798: E tensorflow/core/grappler/optimizers/meta_optimizer.cc:954] model_pruner failed: INVALID_ARGUMENT: Graph does not contain terminal node AssignAddVariableOp_2.\n"
     ]
    },
    {
     "name": "stdout",
     "output_type": "stream",
     "text": [
      "125/125 [==============================] - 3s 19ms/step - loss: 1.3144 - val_loss: 1.1337\n",
      "Epoch 2/5\n",
      "125/125 [==============================] - 2s 17ms/step - loss: 1.0039 - val_loss: 0.8838\n",
      "Epoch 3/5\n",
      "125/125 [==============================] - 2s 16ms/step - loss: 0.8095 - val_loss: 0.7477\n",
      "Epoch 4/5\n",
      "125/125 [==============================] - 2s 16ms/step - loss: 0.7290 - val_loss: 0.7083\n",
      "Epoch 5/5\n",
      "125/125 [==============================] - 2s 16ms/step - loss: 0.7061 - val_loss: 0.6966\n",
      "125/125 [==============================] - 0s 3ms/step\n",
      "0.008499999999999952\n",
      "32/32 [==============================] - 0s 3ms/step\n",
      "The presence of win_on_pass in resblock 5 is 0.06800000000000006\n",
      "Performing regression for layer 6\n",
      "Epoch 1/5\n"
     ]
    },
    {
     "name": "stderr",
     "output_type": "stream",
     "text": [
      "2024-04-24 22:10:20.142390: E tensorflow/core/grappler/optimizers/meta_optimizer.cc:954] model_pruner failed: INVALID_ARGUMENT: Graph does not contain terminal node AssignAddVariableOp_2.\n"
     ]
    },
    {
     "name": "stdout",
     "output_type": "stream",
     "text": [
      "125/125 [==============================] - 3s 19ms/step - loss: 0.7630 - val_loss: 0.7563\n",
      "Epoch 2/5\n",
      "125/125 [==============================] - 2s 16ms/step - loss: 0.7601 - val_loss: 0.7540\n",
      "Epoch 3/5\n",
      "125/125 [==============================] - 2s 17ms/step - loss: 0.7573 - val_loss: 0.7518\n",
      "Epoch 4/5\n",
      "125/125 [==============================] - 2s 20ms/step - loss: 0.7547 - val_loss: 0.7496\n",
      "Epoch 5/5\n",
      "125/125 [==============================] - 2s 18ms/step - loss: 0.7522 - val_loss: 0.7474\n",
      "125/125 [==============================] - 0s 3ms/step\n",
      "0.129\n",
      "32/32 [==============================] - 0s 3ms/step\n",
      "The presence of win_on_pass in resblock 6 is 0.1439999999999999\n",
      "Performing regression for layer 7\n",
      "Epoch 1/5\n"
     ]
    },
    {
     "name": "stderr",
     "output_type": "stream",
     "text": [
      "2024-04-24 22:10:32.856357: E tensorflow/core/grappler/optimizers/meta_optimizer.cc:954] model_pruner failed: INVALID_ARGUMENT: Graph does not contain terminal node AssignAddVariableOp_2.\n"
     ]
    },
    {
     "name": "stdout",
     "output_type": "stream",
     "text": [
      "125/125 [==============================] - 3s 19ms/step - loss: 0.7786 - val_loss: 0.7768\n",
      "Epoch 2/5\n",
      "125/125 [==============================] - 2s 16ms/step - loss: 0.7710 - val_loss: 0.7687\n",
      "Epoch 3/5\n",
      "125/125 [==============================] - 2s 16ms/step - loss: 0.7651 - val_loss: 0.7624\n",
      "Epoch 4/5\n",
      "125/125 [==============================] - 2s 16ms/step - loss: 0.7602 - val_loss: 0.7570\n",
      "Epoch 5/5\n",
      "125/125 [==============================] - 2s 16ms/step - loss: 0.7558 - val_loss: 0.7522\n",
      "125/125 [==============================] - 0s 2ms/step\n",
      "0.10299999999999998\n",
      "32/32 [==============================] - 0s 3ms/step\n"
     ]
    },
    {
     "name": "stderr",
     "output_type": "stream",
     "text": [
      "Epochs:  11%|█         | 1/9 [01:41<13:28, 101.00s/it]"
     ]
    },
    {
     "name": "stdout",
     "output_type": "stream",
     "text": [
      "The presence of win_on_pass in resblock 7 is 0.1180000000000001\n"
     ]
    },
    {
     "name": "stderr",
     "output_type": "stream",
     "text": [
      "Getting activation outputs: 100%|██████████| 157/157 [00:04<00:00, 32.40it/s]\n"
     ]
    },
    {
     "name": "stdout",
     "output_type": "stream",
     "text": [
      "Performing regression for layer 0\n",
      "Epoch 1/5\n"
     ]
    },
    {
     "name": "stderr",
     "output_type": "stream",
     "text": [
      "2024-04-24 22:10:52.037361: E tensorflow/core/grappler/optimizers/meta_optimizer.cc:954] model_pruner failed: INVALID_ARGUMENT: Graph does not contain terminal node AssignAddVariableOp_2.\n"
     ]
    },
    {
     "name": "stdout",
     "output_type": "stream",
     "text": [
      "125/125 [==============================] - 4s 19ms/step - loss: 1.3213 - val_loss: 1.1502\n",
      "Epoch 2/5\n",
      "125/125 [==============================] - 2s 16ms/step - loss: 1.0120 - val_loss: 0.8962\n",
      "Epoch 3/5\n",
      "125/125 [==============================] - 2s 16ms/step - loss: 0.8099 - val_loss: 0.7483\n",
      "Epoch 4/5\n",
      "125/125 [==============================] - 2s 16ms/step - loss: 0.7131 - val_loss: 0.6962\n",
      "Epoch 5/5\n",
      "125/125 [==============================] - 2s 16ms/step - loss: 0.6835 - val_loss: 0.6808\n",
      "125/125 [==============================] - 0s 3ms/step\n",
      "0.5189999999999999\n",
      "32/32 [==============================] - 0s 3ms/step\n",
      "The presence of win_on_pass in resblock 0 is 0.504\n",
      "Performing regression for layer 1\n",
      "Epoch 1/5\n"
     ]
    },
    {
     "name": "stderr",
     "output_type": "stream",
     "text": [
      "2024-04-24 22:11:03.969213: E tensorflow/core/grappler/optimizers/meta_optimizer.cc:954] model_pruner failed: INVALID_ARGUMENT: Graph does not contain terminal node AssignAddVariableOp_2.\n"
     ]
    },
    {
     "name": "stdout",
     "output_type": "stream",
     "text": [
      "125/125 [==============================] - 3s 19ms/step - loss: 1.3156 - val_loss: 1.1377\n",
      "Epoch 2/5\n",
      "125/125 [==============================] - 2s 16ms/step - loss: 0.9964 - val_loss: 0.8785\n",
      "Epoch 3/5\n",
      "125/125 [==============================] - 2s 17ms/step - loss: 0.7987 - val_loss: 0.7430\n",
      "Epoch 4/5\n",
      "125/125 [==============================] - 2s 16ms/step - loss: 0.7166 - val_loss: 0.7041\n",
      "Epoch 5/5\n",
      "125/125 [==============================] - 2s 16ms/step - loss: 0.6952 - val_loss: 0.6927\n",
      "125/125 [==============================] - 0s 3ms/step\n",
      "0.389\n",
      "32/32 [==============================] - 0s 3ms/step\n",
      "The presence of win_on_pass in resblock 1 is 0.3859999999999999\n",
      "Performing regression for layer 2\n",
      "Epoch 1/5\n"
     ]
    },
    {
     "name": "stderr",
     "output_type": "stream",
     "text": [
      "2024-04-24 22:11:15.860325: E tensorflow/core/grappler/optimizers/meta_optimizer.cc:954] model_pruner failed: INVALID_ARGUMENT: Graph does not contain terminal node AssignAddVariableOp_2.\n"
     ]
    },
    {
     "name": "stdout",
     "output_type": "stream",
     "text": [
      "125/125 [==============================] - 4s 25ms/step - loss: 1.3216 - val_loss: 1.1594\n",
      "Epoch 2/5\n",
      "125/125 [==============================] - 2s 17ms/step - loss: 1.0274 - val_loss: 0.9175\n",
      "Epoch 3/5\n",
      "125/125 [==============================] - 2s 16ms/step - loss: 0.8318 - val_loss: 0.7708\n",
      "Epoch 4/5\n",
      "125/125 [==============================] - 2s 16ms/step - loss: 0.7305 - val_loss: 0.7104\n",
      "Epoch 5/5\n",
      "125/125 [==============================] - 2s 15ms/step - loss: 0.6929 - val_loss: 0.6880\n",
      "125/125 [==============================] - 0s 3ms/step\n",
      "0.575\n",
      "32/32 [==============================] - 0s 3ms/step\n",
      "The presence of win_on_pass in resblock 2 is 0.556\n",
      "Performing regression for layer 3\n",
      "Epoch 1/5\n"
     ]
    },
    {
     "name": "stderr",
     "output_type": "stream",
     "text": [
      "2024-04-24 22:11:28.303175: E tensorflow/core/grappler/optimizers/meta_optimizer.cc:954] model_pruner failed: INVALID_ARGUMENT: Graph does not contain terminal node AssignAddVariableOp_2.\n"
     ]
    },
    {
     "name": "stdout",
     "output_type": "stream",
     "text": [
      "125/125 [==============================] - 3s 19ms/step - loss: 1.3143 - val_loss: 1.1443\n",
      "Epoch 2/5\n",
      "125/125 [==============================] - 2s 16ms/step - loss: 1.0101 - val_loss: 0.8946\n",
      "Epoch 3/5\n",
      "125/125 [==============================] - 2s 17ms/step - loss: 0.8158 - val_loss: 0.7573\n",
      "Epoch 4/5\n",
      "125/125 [==============================] - 2s 18ms/step - loss: 0.7293 - val_loss: 0.7129\n",
      "Epoch 5/5\n",
      "125/125 [==============================] - 2s 17ms/step - loss: 0.7030 - val_loss: 0.6987\n",
      "125/125 [==============================] - 0s 3ms/step\n",
      "0.2835000000000001\n",
      "32/32 [==============================] - 0s 3ms/step\n",
      "The presence of win_on_pass in resblock 3 is 0.276\n",
      "Performing regression for layer 4\n",
      "Epoch 1/5\n"
     ]
    },
    {
     "name": "stderr",
     "output_type": "stream",
     "text": [
      "2024-04-24 22:11:40.492849: E tensorflow/core/grappler/optimizers/meta_optimizer.cc:954] model_pruner failed: INVALID_ARGUMENT: Graph does not contain terminal node AssignAddVariableOp_2.\n"
     ]
    },
    {
     "name": "stdout",
     "output_type": "stream",
     "text": [
      "125/125 [==============================] - 3s 22ms/step - loss: 1.3492 - val_loss: 1.1993\n",
      "Epoch 2/5\n",
      "125/125 [==============================] - 2s 18ms/step - loss: 1.0803 - val_loss: 0.9799\n",
      "Epoch 3/5\n",
      "125/125 [==============================] - 2s 16ms/step - loss: 0.8970 - val_loss: 0.8364\n",
      "Epoch 4/5\n",
      "125/125 [==============================] - 2s 17ms/step - loss: 0.7890 - val_loss: 0.7616\n",
      "Epoch 5/5\n",
      "125/125 [==============================] - 2s 16ms/step - loss: 0.7346 - val_loss: 0.7219\n",
      "125/125 [==============================] - 0s 3ms/step\n",
      "0.5700000000000001\n",
      "32/32 [==============================] - 0s 3ms/step\n",
      "The presence of win_on_pass in resblock 4 is 0.528\n",
      "Performing regression for layer 5\n",
      "Epoch 1/5\n"
     ]
    },
    {
     "name": "stderr",
     "output_type": "stream",
     "text": [
      "2024-04-24 22:11:52.929246: E tensorflow/core/grappler/optimizers/meta_optimizer.cc:954] model_pruner failed: INVALID_ARGUMENT: Graph does not contain terminal node AssignAddVariableOp_2.\n"
     ]
    },
    {
     "name": "stdout",
     "output_type": "stream",
     "text": [
      "125/125 [==============================] - 3s 19ms/step - loss: 1.3421 - val_loss: 1.1827\n",
      "Epoch 2/5\n",
      "125/125 [==============================] - 2s 16ms/step - loss: 1.0588 - val_loss: 0.9482\n",
      "Epoch 3/5\n",
      "125/125 [==============================] - 2s 16ms/step - loss: 0.8691 - val_loss: 0.8070\n",
      "Epoch 4/5\n",
      "125/125 [==============================] - 2s 16ms/step - loss: 0.7701 - val_loss: 0.7455\n",
      "Epoch 5/5\n",
      "125/125 [==============================] - 2s 16ms/step - loss: 0.7290 - val_loss: 0.7181\n",
      "125/125 [==============================] - 0s 3ms/step\n",
      "0.3400000000000001\n",
      "32/32 [==============================] - 0s 3ms/step\n",
      "The presence of win_on_pass in resblock 5 is 0.30200000000000005\n",
      "Performing regression for layer 6\n",
      "Epoch 1/5\n"
     ]
    },
    {
     "name": "stderr",
     "output_type": "stream",
     "text": [
      "2024-04-24 22:12:04.762275: E tensorflow/core/grappler/optimizers/meta_optimizer.cc:954] model_pruner failed: INVALID_ARGUMENT: Graph does not contain terminal node AssignAddVariableOp_2.\n"
     ]
    },
    {
     "name": "stdout",
     "output_type": "stream",
     "text": [
      "125/125 [==============================] - 3s 18ms/step - loss: 0.8192 - val_loss: 0.8164\n",
      "Epoch 2/5\n",
      "125/125 [==============================] - 2s 16ms/step - loss: 0.8008 - val_loss: 0.8002\n",
      "Epoch 3/5\n",
      "125/125 [==============================] - 2s 15ms/step - loss: 0.7859 - val_loss: 0.7870\n",
      "Epoch 4/5\n",
      "125/125 [==============================] - 2s 16ms/step - loss: 0.7738 - val_loss: 0.7767\n",
      "Epoch 5/5\n",
      "125/125 [==============================] - 2s 17ms/step - loss: 0.7644 - val_loss: 0.7680\n",
      "125/125 [==============================] - 0s 2ms/step\n",
      "0.09600000000000009\n",
      "32/32 [==============================] - 0s 3ms/step\n",
      "The presence of win_on_pass in resblock 6 is 0.05400000000000005\n",
      "Performing regression for layer 7\n",
      "Epoch 1/5\n"
     ]
    },
    {
     "name": "stderr",
     "output_type": "stream",
     "text": [
      "2024-04-24 22:12:16.053008: E tensorflow/core/grappler/optimizers/meta_optimizer.cc:954] model_pruner failed: INVALID_ARGUMENT: Graph does not contain terminal node AssignAddVariableOp_2.\n"
     ]
    },
    {
     "name": "stdout",
     "output_type": "stream",
     "text": [
      "125/125 [==============================] - 3s 18ms/step - loss: 0.7797 - val_loss: 0.7681\n",
      "Epoch 2/5\n",
      "125/125 [==============================] - 2s 17ms/step - loss: 0.7713 - val_loss: 0.7618\n",
      "Epoch 3/5\n",
      "125/125 [==============================] - 2s 17ms/step - loss: 0.7649 - val_loss: 0.7564\n",
      "Epoch 4/5\n",
      "125/125 [==============================] - 2s 16ms/step - loss: 0.7592 - val_loss: 0.7511\n",
      "Epoch 5/5\n",
      "125/125 [==============================] - 2s 16ms/step - loss: 0.7538 - val_loss: 0.7463\n",
      "125/125 [==============================] - 0s 2ms/step\n",
      "0.1995\n",
      "32/32 [==============================] - 0s 3ms/step\n"
     ]
    },
    {
     "name": "stderr",
     "output_type": "stream",
     "text": [
      "Epochs:  22%|██▏       | 2/9 [03:24<11:55, 102.26s/it]"
     ]
    },
    {
     "name": "stdout",
     "output_type": "stream",
     "text": [
      "The presence of win_on_pass in resblock 7 is 0.236\n"
     ]
    },
    {
     "name": "stderr",
     "output_type": "stream",
     "text": [
      "Getting activation outputs: 100%|██████████| 157/157 [00:04<00:00, 33.22it/s]\n"
     ]
    },
    {
     "name": "stdout",
     "output_type": "stream",
     "text": [
      "Performing regression for layer 0\n",
      "Epoch 1/5\n"
     ]
    },
    {
     "name": "stderr",
     "output_type": "stream",
     "text": [
      "2024-04-24 22:12:33.379242: E tensorflow/core/grappler/optimizers/meta_optimizer.cc:954] model_pruner failed: INVALID_ARGUMENT: Graph does not contain terminal node AssignAddVariableOp_2.\n"
     ]
    },
    {
     "name": "stdout",
     "output_type": "stream",
     "text": [
      "125/125 [==============================] - 3s 19ms/step - loss: 1.3178 - val_loss: 1.1410\n",
      "Epoch 2/5\n",
      "125/125 [==============================] - 2s 16ms/step - loss: 1.0197 - val_loss: 0.8940\n",
      "Epoch 3/5\n",
      "125/125 [==============================] - 2s 16ms/step - loss: 0.8219 - val_loss: 0.7457\n",
      "Epoch 4/5\n",
      "125/125 [==============================] - 2s 16ms/step - loss: 0.7211 - val_loss: 0.6888\n",
      "Epoch 5/5\n",
      "125/125 [==============================] - 2s 17ms/step - loss: 0.6867 - val_loss: 0.6701\n",
      "125/125 [==============================] - 0s 3ms/step\n",
      "0.5475000000000001\n",
      "32/32 [==============================] - 0s 3ms/step\n",
      "The presence of win_on_pass in resblock 0 is 0.5840000000000001\n",
      "Performing regression for layer 1\n",
      "Epoch 1/5\n"
     ]
    },
    {
     "name": "stderr",
     "output_type": "stream",
     "text": [
      "2024-04-24 22:12:45.444685: E tensorflow/core/grappler/optimizers/meta_optimizer.cc:954] model_pruner failed: INVALID_ARGUMENT: Graph does not contain terminal node AssignAddVariableOp_2.\n"
     ]
    },
    {
     "name": "stdout",
     "output_type": "stream",
     "text": [
      "125/125 [==============================] - 3s 20ms/step - loss: 1.3161 - val_loss: 1.1365\n",
      "Epoch 2/5\n",
      "125/125 [==============================] - 2s 17ms/step - loss: 1.0117 - val_loss: 0.8894\n",
      "Epoch 3/5\n",
      "125/125 [==============================] - 2s 16ms/step - loss: 0.8176 - val_loss: 0.7464\n",
      "Epoch 4/5\n",
      "125/125 [==============================] - 2s 16ms/step - loss: 0.7266 - val_loss: 0.6975\n",
      "Epoch 5/5\n",
      "125/125 [==============================] - 2s 16ms/step - loss: 0.6969 - val_loss: 0.6837\n",
      "125/125 [==============================] - 0s 3ms/step\n",
      "0.5365\n",
      "32/32 [==============================] - 0s 3ms/step\n",
      "The presence of win_on_pass in resblock 1 is 0.552\n",
      "Performing regression for layer 2\n",
      "Epoch 1/5\n"
     ]
    },
    {
     "name": "stderr",
     "output_type": "stream",
     "text": [
      "2024-04-24 22:12:57.497775: E tensorflow/core/grappler/optimizers/meta_optimizer.cc:954] model_pruner failed: INVALID_ARGUMENT: Graph does not contain terminal node AssignAddVariableOp_2.\n"
     ]
    },
    {
     "name": "stdout",
     "output_type": "stream",
     "text": [
      "125/125 [==============================] - 3s 20ms/step - loss: 1.3254 - val_loss: 1.1474\n",
      "Epoch 2/5\n",
      "125/125 [==============================] - 2s 16ms/step - loss: 1.0244 - val_loss: 0.9018\n",
      "Epoch 3/5\n",
      "125/125 [==============================] - 2s 17ms/step - loss: 0.8327 - val_loss: 0.7590\n",
      "Epoch 4/5\n",
      "125/125 [==============================] - 2s 16ms/step - loss: 0.7338 - val_loss: 0.7024\n",
      "Epoch 5/5\n",
      "125/125 [==============================] - 2s 16ms/step - loss: 0.6951 - val_loss: 0.6768\n",
      "125/125 [==============================] - 0s 3ms/step\n",
      "0.6005\n",
      "32/32 [==============================] - 0s 3ms/step\n",
      "The presence of win_on_pass in resblock 2 is 0.6000000000000001\n",
      "Performing regression for layer 3\n",
      "Epoch 1/5\n"
     ]
    },
    {
     "name": "stderr",
     "output_type": "stream",
     "text": [
      "2024-04-24 22:13:09.547739: E tensorflow/core/grappler/optimizers/meta_optimizer.cc:954] model_pruner failed: INVALID_ARGUMENT: Graph does not contain terminal node AssignAddVariableOp_2.\n"
     ]
    },
    {
     "name": "stdout",
     "output_type": "stream",
     "text": [
      "125/125 [==============================] - 3s 20ms/step - loss: 1.3293 - val_loss: 1.1454\n",
      "Epoch 2/5\n",
      "125/125 [==============================] - 2s 17ms/step - loss: 1.0161 - val_loss: 0.8893\n",
      "Epoch 3/5\n",
      "125/125 [==============================] - 2s 16ms/step - loss: 0.8147 - val_loss: 0.7436\n",
      "Epoch 4/5\n",
      "125/125 [==============================] - 2s 17ms/step - loss: 0.7264 - val_loss: 0.7008\n",
      "Epoch 5/5\n",
      "125/125 [==============================] - 2s 16ms/step - loss: 0.7012 - val_loss: 0.6874\n",
      "125/125 [==============================] - 0s 3ms/step\n",
      "0.4384999999999999\n",
      "32/32 [==============================] - 0s 3ms/step\n",
      "The presence of win_on_pass in resblock 3 is 0.46799999999999997\n",
      "Performing regression for layer 4\n",
      "Epoch 1/5\n"
     ]
    },
    {
     "name": "stderr",
     "output_type": "stream",
     "text": [
      "2024-04-24 22:13:21.840579: E tensorflow/core/grappler/optimizers/meta_optimizer.cc:954] model_pruner failed: INVALID_ARGUMENT: Graph does not contain terminal node AssignAddVariableOp_2.\n"
     ]
    },
    {
     "name": "stdout",
     "output_type": "stream",
     "text": [
      "125/125 [==============================] - 3s 20ms/step - loss: 1.3365 - val_loss: 1.1852\n",
      "Epoch 2/5\n",
      "125/125 [==============================] - 2s 16ms/step - loss: 1.0706 - val_loss: 0.9629\n",
      "Epoch 3/5\n",
      "125/125 [==============================] - 2s 16ms/step - loss: 0.8912 - val_loss: 0.8167\n",
      "Epoch 4/5\n",
      "125/125 [==============================] - 2s 16ms/step - loss: 0.7844 - val_loss: 0.7413\n",
      "Epoch 5/5\n",
      "125/125 [==============================] - 2s 17ms/step - loss: 0.7289 - val_loss: 0.7028\n",
      "125/125 [==============================] - 0s 3ms/step\n",
      "0.5805\n",
      "32/32 [==============================] - 0s 3ms/step\n",
      "The presence of win_on_pass in resblock 4 is 0.5960000000000001\n",
      "Performing regression for layer 5\n",
      "Epoch 1/5\n"
     ]
    },
    {
     "name": "stderr",
     "output_type": "stream",
     "text": [
      "2024-04-24 22:13:33.956644: E tensorflow/core/grappler/optimizers/meta_optimizer.cc:954] model_pruner failed: INVALID_ARGUMENT: Graph does not contain terminal node AssignAddVariableOp_2.\n"
     ]
    },
    {
     "name": "stdout",
     "output_type": "stream",
     "text": [
      "125/125 [==============================] - 3s 22ms/step - loss: 1.3025 - val_loss: 1.1260\n",
      "Epoch 2/5\n",
      "125/125 [==============================] - 2s 16ms/step - loss: 1.0022 - val_loss: 0.8841\n",
      "Epoch 3/5\n",
      "125/125 [==============================] - 2s 16ms/step - loss: 0.8147 - val_loss: 0.7510\n",
      "Epoch 4/5\n",
      "125/125 [==============================] - 2s 16ms/step - loss: 0.7285 - val_loss: 0.7053\n",
      "Epoch 5/5\n",
      "125/125 [==============================] - 2s 16ms/step - loss: 0.6997 - val_loss: 0.6879\n",
      "125/125 [==============================] - 0s 3ms/step\n",
      "0.5634999999999999\n",
      "32/32 [==============================] - 0s 3ms/step\n",
      "The presence of win_on_pass in resblock 5 is 0.5660000000000001\n",
      "Performing regression for layer 6\n",
      "Epoch 1/5\n"
     ]
    },
    {
     "name": "stderr",
     "output_type": "stream",
     "text": [
      "2024-04-24 22:13:48.058186: E tensorflow/core/grappler/optimizers/meta_optimizer.cc:954] model_pruner failed: INVALID_ARGUMENT: Graph does not contain terminal node AssignAddVariableOp_2.\n"
     ]
    },
    {
     "name": "stdout",
     "output_type": "stream",
     "text": [
      "125/125 [==============================] - 3s 20ms/step - loss: 0.8111 - val_loss: 0.8139\n",
      "Epoch 2/5\n",
      "125/125 [==============================] - 2s 17ms/step - loss: 0.7977 - val_loss: 0.7996\n",
      "Epoch 3/5\n",
      "125/125 [==============================] - 2s 16ms/step - loss: 0.7877 - val_loss: 0.7880\n",
      "Epoch 4/5\n",
      "125/125 [==============================] - 2s 16ms/step - loss: 0.7794 - val_loss: 0.7787\n",
      "Epoch 5/5\n",
      "125/125 [==============================] - 2s 16ms/step - loss: 0.7722 - val_loss: 0.7709\n",
      "125/125 [==============================] - 0s 2ms/step\n",
      "-0.050000000000000044\n",
      "32/32 [==============================] - 0s 3ms/step\n",
      "The presence of win_on_pass in resblock 6 is 0\n",
      "Performing regression for layer 7\n",
      "Epoch 1/5\n"
     ]
    },
    {
     "name": "stderr",
     "output_type": "stream",
     "text": [
      "2024-04-24 22:13:59.749812: E tensorflow/core/grappler/optimizers/meta_optimizer.cc:954] model_pruner failed: INVALID_ARGUMENT: Graph does not contain terminal node AssignAddVariableOp_2.\n"
     ]
    },
    {
     "name": "stdout",
     "output_type": "stream",
     "text": [
      "125/125 [==============================] - 3s 19ms/step - loss: 0.8027 - val_loss: 0.7999\n",
      "Epoch 2/5\n",
      "125/125 [==============================] - 2s 16ms/step - loss: 0.7776 - val_loss: 0.7750\n",
      "Epoch 3/5\n",
      "125/125 [==============================] - 2s 16ms/step - loss: 0.7607 - val_loss: 0.7575\n",
      "Epoch 4/5\n",
      "125/125 [==============================] - 2s 16ms/step - loss: 0.7486 - val_loss: 0.7443\n",
      "Epoch 5/5\n",
      "125/125 [==============================] - 2s 16ms/step - loss: 0.7392 - val_loss: 0.7338\n",
      "125/125 [==============================] - 0s 2ms/step\n",
      "0.36650000000000005\n",
      "32/32 [==============================] - 0s 3ms/step\n"
     ]
    },
    {
     "name": "stderr",
     "output_type": "stream",
     "text": [
      "Epochs:  33%|███▎      | 3/9 [05:07<10:17, 102.88s/it]"
     ]
    },
    {
     "name": "stdout",
     "output_type": "stream",
     "text": [
      "The presence of win_on_pass in resblock 7 is 0.4039999999999999\n"
     ]
    },
    {
     "name": "stderr",
     "output_type": "stream",
     "text": [
      "Getting activation outputs: 100%|██████████| 157/157 [00:04<00:00, 33.72it/s]\n"
     ]
    },
    {
     "name": "stdout",
     "output_type": "stream",
     "text": [
      "Performing regression for layer 0\n",
      "Epoch 1/5\n"
     ]
    },
    {
     "name": "stderr",
     "output_type": "stream",
     "text": [
      "2024-04-24 22:14:17.040536: E tensorflow/core/grappler/optimizers/meta_optimizer.cc:954] model_pruner failed: INVALID_ARGUMENT: Graph does not contain terminal node AssignAddVariableOp_2.\n"
     ]
    },
    {
     "name": "stdout",
     "output_type": "stream",
     "text": [
      "125/125 [==============================] - 3s 19ms/step - loss: 1.2977 - val_loss: 1.1319\n",
      "Epoch 2/5\n",
      "125/125 [==============================] - 2s 16ms/step - loss: 0.9913 - val_loss: 0.8866\n",
      "Epoch 3/5\n",
      "125/125 [==============================] - 2s 16ms/step - loss: 0.7972 - val_loss: 0.7452\n",
      "Epoch 4/5\n",
      "125/125 [==============================] - 2s 16ms/step - loss: 0.7088 - val_loss: 0.7031\n",
      "Epoch 5/5\n",
      "125/125 [==============================] - 2s 16ms/step - loss: 0.6861 - val_loss: 0.6918\n",
      "125/125 [==============================] - 0s 3ms/step\n",
      "0.4564999999999999\n",
      "32/32 [==============================] - 0s 3ms/step\n",
      "The presence of win_on_pass in resblock 0 is 0.4039999999999999\n",
      "Performing regression for layer 1\n",
      "Epoch 1/5\n"
     ]
    },
    {
     "name": "stderr",
     "output_type": "stream",
     "text": [
      "2024-04-24 22:14:28.588067: E tensorflow/core/grappler/optimizers/meta_optimizer.cc:954] model_pruner failed: INVALID_ARGUMENT: Graph does not contain terminal node AssignAddVariableOp_2.\n"
     ]
    },
    {
     "name": "stdout",
     "output_type": "stream",
     "text": [
      "125/125 [==============================] - 3s 20ms/step - loss: 1.3184 - val_loss: 1.1594\n",
      "Epoch 2/5\n",
      "125/125 [==============================] - 2s 16ms/step - loss: 1.0128 - val_loss: 0.9143\n",
      "Epoch 3/5\n",
      "125/125 [==============================] - 2s 16ms/step - loss: 0.8141 - val_loss: 0.7651\n",
      "Epoch 4/5\n",
      "125/125 [==============================] - 2s 16ms/step - loss: 0.7081 - val_loss: 0.7020\n",
      "Epoch 5/5\n",
      "125/125 [==============================] - 2s 16ms/step - loss: 0.6697 - val_loss: 0.6801\n",
      "125/125 [==============================] - 0s 3ms/step\n",
      "0.6160000000000001\n",
      "32/32 [==============================] - 0s 3ms/step\n",
      "The presence of win_on_pass in resblock 1 is 0.51\n",
      "Performing regression for layer 2\n",
      "Epoch 1/5\n"
     ]
    },
    {
     "name": "stderr",
     "output_type": "stream",
     "text": [
      "2024-04-24 22:14:40.468871: E tensorflow/core/grappler/optimizers/meta_optimizer.cc:954] model_pruner failed: INVALID_ARGUMENT: Graph does not contain terminal node AssignAddVariableOp_2.\n"
     ]
    },
    {
     "name": "stdout",
     "output_type": "stream",
     "text": [
      "125/125 [==============================] - 3s 19ms/step - loss: 1.3167 - val_loss: 1.1875\n",
      "Epoch 2/5\n",
      "125/125 [==============================] - 2s 17ms/step - loss: 1.0679 - val_loss: 0.9950\n",
      "Epoch 3/5\n",
      "125/125 [==============================] - 2s 16ms/step - loss: 0.9026 - val_loss: 0.8602\n",
      "Epoch 4/5\n",
      "125/125 [==============================] - 2s 16ms/step - loss: 0.7969 - val_loss: 0.7780\n",
      "Epoch 5/5\n",
      "125/125 [==============================] - 2s 16ms/step - loss: 0.7343 - val_loss: 0.7299\n",
      "125/125 [==============================] - 0s 3ms/step\n",
      "0.6154999999999999\n",
      "32/32 [==============================] - 0s 3ms/step\n",
      "The presence of win_on_pass in resblock 2 is 0.56\n",
      "Performing regression for layer 3\n",
      "Epoch 1/5\n"
     ]
    },
    {
     "name": "stderr",
     "output_type": "stream",
     "text": [
      "2024-04-24 22:14:52.317166: E tensorflow/core/grappler/optimizers/meta_optimizer.cc:954] model_pruner failed: INVALID_ARGUMENT: Graph does not contain terminal node AssignAddVariableOp_2.\n"
     ]
    },
    {
     "name": "stdout",
     "output_type": "stream",
     "text": [
      "125/125 [==============================] - 3s 19ms/step - loss: 1.3987 - val_loss: 1.2732\n",
      "Epoch 2/5\n",
      "125/125 [==============================] - 2s 16ms/step - loss: 1.1657 - val_loss: 1.0834\n",
      "Epoch 3/5\n",
      "125/125 [==============================] - 2s 16ms/step - loss: 0.9981 - val_loss: 0.9458\n",
      "Epoch 4/5\n",
      "125/125 [==============================] - 2s 17ms/step - loss: 0.8816 - val_loss: 0.8588\n",
      "Epoch 5/5\n",
      "125/125 [==============================] - 2s 16ms/step - loss: 0.8031 - val_loss: 0.7911\n",
      "125/125 [==============================] - 0s 3ms/step\n",
      "0.567\n",
      "32/32 [==============================] - 0s 3ms/step\n",
      "The presence of win_on_pass in resblock 3 is 0.524\n",
      "Performing regression for layer 4\n",
      "Epoch 1/5\n"
     ]
    },
    {
     "name": "stderr",
     "output_type": "stream",
     "text": [
      "2024-04-24 22:15:04.205340: E tensorflow/core/grappler/optimizers/meta_optimizer.cc:954] model_pruner failed: INVALID_ARGUMENT: Graph does not contain terminal node AssignAddVariableOp_2.\n"
     ]
    },
    {
     "name": "stdout",
     "output_type": "stream",
     "text": [
      "125/125 [==============================] - 3s 19ms/step - loss: 1.4281 - val_loss: 1.3130\n",
      "Epoch 2/5\n",
      "125/125 [==============================] - 2s 17ms/step - loss: 1.2120 - val_loss: 1.1503\n",
      "Epoch 3/5\n",
      "125/125 [==============================] - 2s 16ms/step - loss: 1.0654 - val_loss: 1.0326\n",
      "Epoch 4/5\n",
      "125/125 [==============================] - 2s 16ms/step - loss: 0.9561 - val_loss: 0.9373\n",
      "Epoch 5/5\n",
      "125/125 [==============================] - 2s 17ms/step - loss: 0.8746 - val_loss: 0.8674\n",
      "125/125 [==============================] - 0s 3ms/step\n",
      "0.6100000000000001\n",
      "32/32 [==============================] - 0s 3ms/step\n",
      "The presence of win_on_pass in resblock 4 is 0.546\n",
      "Performing regression for layer 5\n",
      "Epoch 1/5\n"
     ]
    },
    {
     "name": "stderr",
     "output_type": "stream",
     "text": [
      "2024-04-24 22:15:16.133501: E tensorflow/core/grappler/optimizers/meta_optimizer.cc:954] model_pruner failed: INVALID_ARGUMENT: Graph does not contain terminal node AssignAddVariableOp_2.\n"
     ]
    },
    {
     "name": "stdout",
     "output_type": "stream",
     "text": [
      "125/125 [==============================] - 3s 19ms/step - loss: 1.3772 - val_loss: 1.2605\n",
      "Epoch 2/5\n",
      "125/125 [==============================] - 2s 16ms/step - loss: 1.1614 - val_loss: 1.0858\n",
      "Epoch 3/5\n",
      "125/125 [==============================] - 2s 16ms/step - loss: 1.0050 - val_loss: 0.9574\n",
      "Epoch 4/5\n",
      "125/125 [==============================] - 2s 16ms/step - loss: 0.8934 - val_loss: 0.8674\n",
      "Epoch 5/5\n",
      "125/125 [==============================] - 2s 16ms/step - loss: 0.8196 - val_loss: 0.8139\n",
      "125/125 [==============================] - 0s 3ms/step\n",
      "0.5954999999999999\n",
      "32/32 [==============================] - 0s 3ms/step\n",
      "The presence of win_on_pass in resblock 5 is 0.52\n",
      "Performing regression for layer 6\n",
      "Epoch 1/5\n"
     ]
    },
    {
     "name": "stderr",
     "output_type": "stream",
     "text": [
      "2024-04-24 22:15:27.797911: E tensorflow/core/grappler/optimizers/meta_optimizer.cc:954] model_pruner failed: INVALID_ARGUMENT: Graph does not contain terminal node AssignAddVariableOp_2.\n"
     ]
    },
    {
     "name": "stdout",
     "output_type": "stream",
     "text": [
      "125/125 [==============================] - 3s 21ms/step - loss: 0.8571 - val_loss: 0.8416\n",
      "Epoch 2/5\n",
      "125/125 [==============================] - 2s 18ms/step - loss: 0.8183 - val_loss: 0.8144\n",
      "Epoch 3/5\n",
      "125/125 [==============================] - 2s 19ms/step - loss: 0.8028 - val_loss: 0.8029\n",
      "Epoch 4/5\n",
      "125/125 [==============================] - 2s 18ms/step - loss: 0.7946 - val_loss: 0.7953\n",
      "Epoch 5/5\n",
      "125/125 [==============================] - 2s 17ms/step - loss: 0.7879 - val_loss: 0.7891\n",
      "125/125 [==============================] - 0s 2ms/step\n",
      "0.13650000000000007\n",
      "32/32 [==============================] - 0s 3ms/step\n",
      "The presence of win_on_pass in resblock 6 is 0.12200000000000011\n",
      "Performing regression for layer 7\n",
      "Epoch 1/5\n"
     ]
    },
    {
     "name": "stderr",
     "output_type": "stream",
     "text": [
      "2024-04-24 22:15:40.541538: E tensorflow/core/grappler/optimizers/meta_optimizer.cc:954] model_pruner failed: INVALID_ARGUMENT: Graph does not contain terminal node AssignAddVariableOp_2.\n"
     ]
    },
    {
     "name": "stdout",
     "output_type": "stream",
     "text": [
      "125/125 [==============================] - 3s 21ms/step - loss: 0.8170 - val_loss: 0.8110\n",
      "Epoch 2/5\n",
      "125/125 [==============================] - 2s 17ms/step - loss: 0.8074 - val_loss: 0.8081\n",
      "Epoch 3/5\n",
      "125/125 [==============================] - 2s 17ms/step - loss: 0.8033 - val_loss: 0.8046\n",
      "Epoch 4/5\n",
      "125/125 [==============================] - 2s 17ms/step - loss: 0.7993 - val_loss: 0.8009\n",
      "Epoch 5/5\n",
      "125/125 [==============================] - 2s 17ms/step - loss: 0.7951 - val_loss: 0.7969\n",
      "125/125 [==============================] - 0s 3ms/step\n",
      "0.13949999999999996\n",
      "32/32 [==============================] - 0s 3ms/step\n"
     ]
    },
    {
     "name": "stderr",
     "output_type": "stream",
     "text": [
      "Epochs:  44%|████▍     | 4/9 [06:49<08:31, 102.35s/it]"
     ]
    },
    {
     "name": "stdout",
     "output_type": "stream",
     "text": [
      "The presence of win_on_pass in resblock 7 is 0.1060000000000001\n"
     ]
    },
    {
     "name": "stderr",
     "output_type": "stream",
     "text": [
      "Getting activation outputs: 100%|██████████| 157/157 [00:05<00:00, 30.11it/s]\n"
     ]
    },
    {
     "name": "stdout",
     "output_type": "stream",
     "text": [
      "Performing regression for layer 0\n",
      "Epoch 1/5\n"
     ]
    },
    {
     "name": "stderr",
     "output_type": "stream",
     "text": [
      "2024-04-24 22:15:59.234882: E tensorflow/core/grappler/optimizers/meta_optimizer.cc:954] model_pruner failed: INVALID_ARGUMENT: Graph does not contain terminal node AssignAddVariableOp_2.\n"
     ]
    },
    {
     "name": "stdout",
     "output_type": "stream",
     "text": [
      "125/125 [==============================] - 3s 21ms/step - loss: 1.3306 - val_loss: 1.1440\n",
      "Epoch 2/5\n",
      "125/125 [==============================] - 2s 17ms/step - loss: 1.0048 - val_loss: 0.8798\n",
      "Epoch 3/5\n",
      "125/125 [==============================] - 2s 18ms/step - loss: 0.7975 - val_loss: 0.7335\n",
      "Epoch 4/5\n",
      "125/125 [==============================] - 2s 17ms/step - loss: 0.7091 - val_loss: 0.6940\n",
      "Epoch 5/5\n",
      "125/125 [==============================] - 2s 17ms/step - loss: 0.6896 - val_loss: 0.6848\n",
      "125/125 [==============================] - 0s 3ms/step\n",
      "0.4910000000000001\n",
      "32/32 [==============================] - 0s 3ms/step\n",
      "The presence of win_on_pass in resblock 0 is 0.508\n",
      "Performing regression for layer 1\n",
      "Epoch 1/5\n"
     ]
    },
    {
     "name": "stderr",
     "output_type": "stream",
     "text": [
      "2024-04-24 22:16:11.790789: E tensorflow/core/grappler/optimizers/meta_optimizer.cc:954] model_pruner failed: INVALID_ARGUMENT: Graph does not contain terminal node AssignAddVariableOp_2.\n"
     ]
    },
    {
     "name": "stdout",
     "output_type": "stream",
     "text": [
      "125/125 [==============================] - 3s 22ms/step - loss: 1.3418 - val_loss: 1.1910\n",
      "Epoch 2/5\n",
      "125/125 [==============================] - 2s 18ms/step - loss: 1.0782 - val_loss: 0.9849\n",
      "Epoch 3/5\n",
      "125/125 [==============================] - 2s 17ms/step - loss: 0.8991 - val_loss: 0.8396\n",
      "Epoch 4/5\n",
      "125/125 [==============================] - 2s 18ms/step - loss: 0.7696 - val_loss: 0.7253\n",
      "Epoch 5/5\n",
      "125/125 [==============================] - 2s 17ms/step - loss: 0.6850 - val_loss: 0.6641\n",
      "125/125 [==============================] - 0s 3ms/step\n",
      "0.6225\n",
      "32/32 [==============================] - 0s 3ms/step\n",
      "The presence of win_on_pass in resblock 1 is 0.6259999999999999\n",
      "Performing regression for layer 2\n",
      "Epoch 1/5\n"
     ]
    },
    {
     "name": "stderr",
     "output_type": "stream",
     "text": [
      "2024-04-24 22:16:24.506995: E tensorflow/core/grappler/optimizers/meta_optimizer.cc:954] model_pruner failed: INVALID_ARGUMENT: Graph does not contain terminal node AssignAddVariableOp_2.\n"
     ]
    },
    {
     "name": "stdout",
     "output_type": "stream",
     "text": [
      "125/125 [==============================] - 3s 21ms/step - loss: 1.3613 - val_loss: 1.2242\n",
      "Epoch 2/5\n",
      "125/125 [==============================] - 2s 19ms/step - loss: 1.1297 - val_loss: 1.0516\n",
      "Epoch 3/5\n",
      "125/125 [==============================] - 2s 17ms/step - loss: 0.9733 - val_loss: 0.9114\n",
      "Epoch 4/5\n",
      "125/125 [==============================] - 2s 18ms/step - loss: 0.8525 - val_loss: 0.8121\n",
      "Epoch 5/5\n",
      "125/125 [==============================] - 2s 18ms/step - loss: 0.7639 - val_loss: 0.7328\n",
      "125/125 [==============================] - 0s 3ms/step\n",
      "0.6234999999999999\n",
      "32/32 [==============================] - 0s 3ms/step\n",
      "The presence of win_on_pass in resblock 2 is 0.6180000000000001\n",
      "Performing regression for layer 3\n",
      "Epoch 1/5\n"
     ]
    },
    {
     "name": "stderr",
     "output_type": "stream",
     "text": [
      "2024-04-24 22:16:39.316550: E tensorflow/core/grappler/optimizers/meta_optimizer.cc:954] model_pruner failed: INVALID_ARGUMENT: Graph does not contain terminal node AssignAddVariableOp_2.\n"
     ]
    },
    {
     "name": "stdout",
     "output_type": "stream",
     "text": [
      "125/125 [==============================] - 5s 22ms/step - loss: 1.3642 - val_loss: 1.2319\n",
      "Epoch 2/5\n",
      "125/125 [==============================] - 2s 19ms/step - loss: 1.1512 - val_loss: 1.0707\n",
      "Epoch 3/5\n",
      "125/125 [==============================] - 2s 18ms/step - loss: 1.0078 - val_loss: 0.9539\n",
      "Epoch 4/5\n",
      "125/125 [==============================] - 2s 17ms/step - loss: 0.8962 - val_loss: 0.8536\n",
      "Epoch 5/5\n",
      "125/125 [==============================] - 2s 17ms/step - loss: 0.8093 - val_loss: 0.7782\n",
      "125/125 [==============================] - 0s 3ms/step\n",
      "0.623\n",
      "32/32 [==============================] - 0s 3ms/step\n",
      "The presence of win_on_pass in resblock 3 is 0.6220000000000001\n",
      "Performing regression for layer 4\n",
      "Epoch 1/5\n"
     ]
    },
    {
     "name": "stderr",
     "output_type": "stream",
     "text": [
      "2024-04-24 22:16:52.260003: E tensorflow/core/grappler/optimizers/meta_optimizer.cc:954] model_pruner failed: INVALID_ARGUMENT: Graph does not contain terminal node AssignAddVariableOp_2.\n"
     ]
    },
    {
     "name": "stdout",
     "output_type": "stream",
     "text": [
      "125/125 [==============================] - 3s 20ms/step - loss: 1.3889 - val_loss: 1.3006\n",
      "Epoch 2/5\n",
      "125/125 [==============================] - 2s 17ms/step - loss: 1.1999 - val_loss: 1.1596\n",
      "Epoch 3/5\n",
      "125/125 [==============================] - 2s 18ms/step - loss: 1.0846 - val_loss: 1.0441\n",
      "Epoch 4/5\n",
      "125/125 [==============================] - 2s 17ms/step - loss: 0.9914 - val_loss: 0.9594\n",
      "Epoch 5/5\n",
      "125/125 [==============================] - 2s 17ms/step - loss: 0.9139 - val_loss: 0.8923\n",
      "125/125 [==============================] - 0s 3ms/step\n",
      "0.637\n",
      "32/32 [==============================] - 0s 3ms/step\n",
      "The presence of win_on_pass in resblock 4 is 0.6080000000000001\n",
      "Performing regression for layer 5\n",
      "Epoch 1/5\n"
     ]
    },
    {
     "name": "stderr",
     "output_type": "stream",
     "text": [
      "2024-04-24 22:17:04.667720: E tensorflow/core/grappler/optimizers/meta_optimizer.cc:954] model_pruner failed: INVALID_ARGUMENT: Graph does not contain terminal node AssignAddVariableOp_2.\n"
     ]
    },
    {
     "name": "stdout",
     "output_type": "stream",
     "text": [
      "125/125 [==============================] - 3s 20ms/step - loss: 1.3686 - val_loss: 1.2453\n",
      "Epoch 2/5\n",
      "125/125 [==============================] - 2s 17ms/step - loss: 1.1780 - val_loss: 1.1224\n",
      "Epoch 3/5\n",
      "125/125 [==============================] - 2s 17ms/step - loss: 1.0499 - val_loss: 0.9909\n",
      "Epoch 4/5\n",
      "125/125 [==============================] - 2s 17ms/step - loss: 0.9471 - val_loss: 0.9034\n",
      "Epoch 5/5\n",
      "125/125 [==============================] - 2s 18ms/step - loss: 0.8639 - val_loss: 0.8389\n",
      "125/125 [==============================] - 0s 3ms/step\n",
      "0.615\n",
      "32/32 [==============================] - 0s 3ms/step\n",
      "The presence of win_on_pass in resblock 5 is 0.6040000000000001\n",
      "Performing regression for layer 6\n",
      "Epoch 1/5\n"
     ]
    },
    {
     "name": "stderr",
     "output_type": "stream",
     "text": [
      "2024-04-24 22:17:17.051494: E tensorflow/core/grappler/optimizers/meta_optimizer.cc:954] model_pruner failed: INVALID_ARGUMENT: Graph does not contain terminal node AssignAddVariableOp_2.\n"
     ]
    },
    {
     "name": "stdout",
     "output_type": "stream",
     "text": [
      "125/125 [==============================] - 3s 20ms/step - loss: 2.0906 - val_loss: 1.8067\n",
      "Epoch 2/5\n",
      "125/125 [==============================] - 2s 17ms/step - loss: 1.8465 - val_loss: 1.6156\n",
      "Epoch 3/5\n",
      "125/125 [==============================] - 2s 17ms/step - loss: 1.6615 - val_loss: 1.4813\n",
      "Epoch 4/5\n",
      "125/125 [==============================] - 2s 17ms/step - loss: 1.5284 - val_loss: 1.3900\n",
      "Epoch 5/5\n",
      "125/125 [==============================] - 2s 17ms/step - loss: 1.4353 - val_loss: 1.3303\n",
      "125/125 [==============================] - 0s 3ms/step\n",
      "0.012499999999999956\n",
      "32/32 [==============================] - 0s 4ms/step\n",
      "The presence of win_on_pass in resblock 6 is 0.040000000000000036\n",
      "Performing regression for layer 7\n",
      "Epoch 1/5\n"
     ]
    },
    {
     "name": "stderr",
     "output_type": "stream",
     "text": [
      "2024-04-24 22:17:29.140661: E tensorflow/core/grappler/optimizers/meta_optimizer.cc:954] model_pruner failed: INVALID_ARGUMENT: Graph does not contain terminal node AssignAddVariableOp_2.\n"
     ]
    },
    {
     "name": "stdout",
     "output_type": "stream",
     "text": [
      "125/125 [==============================] - 3s 21ms/step - loss: 1.2162 - val_loss: 1.0003\n",
      "Epoch 2/5\n",
      "125/125 [==============================] - 2s 17ms/step - loss: 0.9418 - val_loss: 0.8668\n",
      "Epoch 3/5\n",
      "125/125 [==============================] - 2s 17ms/step - loss: 0.8567 - val_loss: 0.8417\n",
      "Epoch 4/5\n",
      "125/125 [==============================] - 2s 17ms/step - loss: 0.8380 - val_loss: 0.8354\n",
      "Epoch 5/5\n",
      "125/125 [==============================] - 2s 17ms/step - loss: 0.8298 - val_loss: 0.8287\n",
      "125/125 [==============================] - 0s 3ms/step\n",
      "0.1279999999999999\n",
      "32/32 [==============================] - 0s 3ms/step\n"
     ]
    },
    {
     "name": "stderr",
     "output_type": "stream",
     "text": [
      "Epochs:  56%|█████▌    | 5/9 [08:37<06:58, 104.58s/it]"
     ]
    },
    {
     "name": "stdout",
     "output_type": "stream",
     "text": [
      "The presence of win_on_pass in resblock 7 is 0.1100000000000001\n"
     ]
    },
    {
     "name": "stderr",
     "output_type": "stream",
     "text": [
      "Getting activation outputs: 100%|██████████| 157/157 [00:04<00:00, 32.24it/s]\n"
     ]
    },
    {
     "name": "stdout",
     "output_type": "stream",
     "text": [
      "Performing regression for layer 0\n",
      "Epoch 1/5\n"
     ]
    },
    {
     "name": "stderr",
     "output_type": "stream",
     "text": [
      "2024-04-24 22:17:47.339367: E tensorflow/core/grappler/optimizers/meta_optimizer.cc:954] model_pruner failed: INVALID_ARGUMENT: Graph does not contain terminal node AssignAddVariableOp_2.\n"
     ]
    },
    {
     "name": "stdout",
     "output_type": "stream",
     "text": [
      "125/125 [==============================] - 3s 20ms/step - loss: 1.3219 - val_loss: 1.1360\n",
      "Epoch 2/5\n",
      "125/125 [==============================] - 2s 17ms/step - loss: 1.0034 - val_loss: 0.8799\n",
      "Epoch 3/5\n",
      "125/125 [==============================] - 2s 17ms/step - loss: 0.8005 - val_loss: 0.7350\n",
      "Epoch 4/5\n",
      "125/125 [==============================] - 2s 17ms/step - loss: 0.7106 - val_loss: 0.6931\n",
      "Epoch 5/5\n",
      "125/125 [==============================] - 2s 17ms/step - loss: 0.6892 - val_loss: 0.6831\n",
      "125/125 [==============================] - 0s 3ms/step\n",
      "0.5445\n",
      "32/32 [==============================] - 0s 3ms/step\n",
      "The presence of win_on_pass in resblock 0 is 0.5800000000000001\n",
      "Performing regression for layer 1\n",
      "Epoch 1/5\n"
     ]
    },
    {
     "name": "stderr",
     "output_type": "stream",
     "text": [
      "2024-04-24 22:17:59.639651: E tensorflow/core/grappler/optimizers/meta_optimizer.cc:954] model_pruner failed: INVALID_ARGUMENT: Graph does not contain terminal node AssignAddVariableOp_2.\n"
     ]
    },
    {
     "name": "stdout",
     "output_type": "stream",
     "text": [
      "125/125 [==============================] - 3s 21ms/step - loss: 1.4018 - val_loss: 1.2395\n",
      "Epoch 2/5\n",
      "125/125 [==============================] - 2s 17ms/step - loss: 1.1811 - val_loss: 1.1237\n",
      "Epoch 3/5\n",
      "125/125 [==============================] - 2s 17ms/step - loss: 1.0755 - val_loss: 1.0250\n",
      "Epoch 4/5\n",
      "125/125 [==============================] - 2s 17ms/step - loss: 0.9835 - val_loss: 0.9443\n",
      "Epoch 5/5\n",
      "125/125 [==============================] - 2s 17ms/step - loss: 0.9016 - val_loss: 0.8740\n",
      "125/125 [==============================] - 0s 3ms/step\n",
      "0.6884999999999999\n",
      "32/32 [==============================] - 0s 3ms/step\n",
      "The presence of win_on_pass in resblock 1 is 0.6859999999999999\n",
      "Performing regression for layer 2\n",
      "Epoch 1/5\n"
     ]
    },
    {
     "name": "stderr",
     "output_type": "stream",
     "text": [
      "2024-04-24 22:18:12.210388: E tensorflow/core/grappler/optimizers/meta_optimizer.cc:954] model_pruner failed: INVALID_ARGUMENT: Graph does not contain terminal node AssignAddVariableOp_2.\n"
     ]
    },
    {
     "name": "stdout",
     "output_type": "stream",
     "text": [
      "125/125 [==============================] - 3s 21ms/step - loss: 1.3812 - val_loss: 1.2375\n",
      "Epoch 2/5\n",
      "125/125 [==============================] - 2s 18ms/step - loss: 1.1924 - val_loss: 1.1254\n",
      "Epoch 3/5\n",
      "125/125 [==============================] - 2s 17ms/step - loss: 1.0882 - val_loss: 1.0387\n",
      "Epoch 4/5\n",
      "125/125 [==============================] - 2s 17ms/step - loss: 1.0011 - val_loss: 0.9682\n",
      "Epoch 5/5\n",
      "125/125 [==============================] - 2s 17ms/step - loss: 0.9258 - val_loss: 0.8935\n",
      "125/125 [==============================] - 0s 3ms/step\n",
      "0.6970000000000001\n",
      "32/32 [==============================] - 0s 3ms/step\n",
      "The presence of win_on_pass in resblock 2 is 0.706\n",
      "Performing regression for layer 3\n",
      "Epoch 1/5\n"
     ]
    },
    {
     "name": "stderr",
     "output_type": "stream",
     "text": [
      "2024-04-24 22:18:24.804069: E tensorflow/core/grappler/optimizers/meta_optimizer.cc:954] model_pruner failed: INVALID_ARGUMENT: Graph does not contain terminal node AssignAddVariableOp_2.\n"
     ]
    },
    {
     "name": "stdout",
     "output_type": "stream",
     "text": [
      "125/125 [==============================] - 3s 20ms/step - loss: 1.3964 - val_loss: 1.2471\n",
      "Epoch 2/5\n",
      "125/125 [==============================] - 2s 18ms/step - loss: 1.2011 - val_loss: 1.1351\n",
      "Epoch 3/5\n",
      "125/125 [==============================] - 2s 17ms/step - loss: 1.0948 - val_loss: 1.0447\n",
      "Epoch 4/5\n",
      "125/125 [==============================] - 2s 17ms/step - loss: 1.0018 - val_loss: 0.9621\n",
      "Epoch 5/5\n",
      "125/125 [==============================] - 2s 17ms/step - loss: 0.9221 - val_loss: 0.8922\n",
      "125/125 [==============================] - 0s 3ms/step\n",
      "0.673\n",
      "32/32 [==============================] - 0s 3ms/step\n",
      "The presence of win_on_pass in resblock 3 is 0.6759999999999999\n",
      "Performing regression for layer 4\n",
      "Epoch 1/5\n"
     ]
    },
    {
     "name": "stderr",
     "output_type": "stream",
     "text": [
      "2024-04-24 22:18:37.342765: E tensorflow/core/grappler/optimizers/meta_optimizer.cc:954] model_pruner failed: INVALID_ARGUMENT: Graph does not contain terminal node AssignAddVariableOp_2.\n"
     ]
    },
    {
     "name": "stdout",
     "output_type": "stream",
     "text": [
      "125/125 [==============================] - 3s 21ms/step - loss: 1.4607 - val_loss: 1.3016\n",
      "Epoch 2/5\n",
      "125/125 [==============================] - 2s 18ms/step - loss: 1.2653 - val_loss: 1.2012\n",
      "Epoch 3/5\n",
      "125/125 [==============================] - 2s 18ms/step - loss: 1.1629 - val_loss: 1.1274\n",
      "Epoch 4/5\n",
      "125/125 [==============================] - 2s 19ms/step - loss: 1.0843 - val_loss: 1.0600\n",
      "Epoch 5/5\n",
      "125/125 [==============================] - 2s 18ms/step - loss: 1.0149 - val_loss: 1.0055\n",
      "125/125 [==============================] - 0s 3ms/step\n",
      "0.6910000000000001\n",
      "32/32 [==============================] - 0s 3ms/step\n",
      "The presence of win_on_pass in resblock 4 is 0.6739999999999999\n",
      "Performing regression for layer 5\n",
      "Epoch 1/5\n"
     ]
    },
    {
     "name": "stderr",
     "output_type": "stream",
     "text": [
      "2024-04-24 22:18:50.286771: E tensorflow/core/grappler/optimizers/meta_optimizer.cc:954] model_pruner failed: INVALID_ARGUMENT: Graph does not contain terminal node AssignAddVariableOp_2.\n"
     ]
    },
    {
     "name": "stdout",
     "output_type": "stream",
     "text": [
      "125/125 [==============================] - 3s 21ms/step - loss: 1.4474 - val_loss: 1.3045\n",
      "Epoch 2/5\n",
      "125/125 [==============================] - 2s 18ms/step - loss: 1.2489 - val_loss: 1.1934\n",
      "Epoch 3/5\n",
      "125/125 [==============================] - 2s 18ms/step - loss: 1.1546 - val_loss: 1.1171\n",
      "Epoch 4/5\n",
      "125/125 [==============================] - 2s 17ms/step - loss: 1.0726 - val_loss: 1.0361\n",
      "Epoch 5/5\n",
      "125/125 [==============================] - 2s 18ms/step - loss: 0.9979 - val_loss: 0.9963\n",
      "125/125 [==============================] - 0s 3ms/step\n",
      "0.6140000000000001\n",
      "32/32 [==============================] - 0s 3ms/step\n",
      "The presence of win_on_pass in resblock 5 is 0.6220000000000001\n",
      "Performing regression for layer 6\n",
      "Epoch 1/5\n"
     ]
    },
    {
     "name": "stderr",
     "output_type": "stream",
     "text": [
      "2024-04-24 22:19:03.199537: E tensorflow/core/grappler/optimizers/meta_optimizer.cc:954] model_pruner failed: INVALID_ARGUMENT: Graph does not contain terminal node AssignAddVariableOp_2.\n"
     ]
    },
    {
     "name": "stdout",
     "output_type": "stream",
     "text": [
      "125/125 [==============================] - 3s 20ms/step - loss: 4.0197 - val_loss: 3.8020\n",
      "Epoch 2/5\n",
      "125/125 [==============================] - 2s 17ms/step - loss: 3.6899 - val_loss: 3.5101\n",
      "Epoch 3/5\n",
      "125/125 [==============================] - 2s 17ms/step - loss: 3.3861 - val_loss: 3.2421\n",
      "Epoch 4/5\n",
      "125/125 [==============================] - 2s 17ms/step - loss: 3.1089 - val_loss: 2.9994\n",
      "Epoch 5/5\n",
      "125/125 [==============================] - 2s 17ms/step - loss: 2.8604 - val_loss: 2.7822\n",
      "125/125 [==============================] - 0s 3ms/step\n",
      "-0.10699999999999998\n",
      "32/32 [==============================] - 0s 3ms/step\n",
      "The presence of win_on_pass in resblock 6 is 0\n",
      "Performing regression for layer 7\n",
      "Epoch 1/5\n"
     ]
    },
    {
     "name": "stderr",
     "output_type": "stream",
     "text": [
      "2024-04-24 22:19:15.423303: E tensorflow/core/grappler/optimizers/meta_optimizer.cc:954] model_pruner failed: INVALID_ARGUMENT: Graph does not contain terminal node AssignAddVariableOp_2.\n"
     ]
    },
    {
     "name": "stdout",
     "output_type": "stream",
     "text": [
      "125/125 [==============================] - 3s 21ms/step - loss: 2.3224 - val_loss: 2.0130\n",
      "Epoch 2/5\n",
      "125/125 [==============================] - 2s 17ms/step - loss: 1.9419 - val_loss: 1.6969\n",
      "Epoch 3/5\n",
      "125/125 [==============================] - 2s 17ms/step - loss: 1.6438 - val_loss: 1.4656\n",
      "Epoch 4/5\n",
      "125/125 [==============================] - 2s 17ms/step - loss: 1.4349 - val_loss: 1.3143\n",
      "Epoch 5/5\n",
      "125/125 [==============================] - 2s 17ms/step - loss: 1.3015 - val_loss: 1.2243\n",
      "125/125 [==============================] - 0s 3ms/step\n",
      "0.15250000000000008\n",
      "32/32 [==============================] - 0s 3ms/step\n"
     ]
    },
    {
     "name": "stderr",
     "output_type": "stream",
     "text": [
      "Epochs:  67%|██████▋   | 6/9 [10:24<05:15, 105.22s/it]"
     ]
    },
    {
     "name": "stdout",
     "output_type": "stream",
     "text": [
      "The presence of win_on_pass in resblock 7 is 0.18399999999999994\n"
     ]
    },
    {
     "name": "stderr",
     "output_type": "stream",
     "text": [
      "Getting activation outputs: 100%|██████████| 157/157 [00:06<00:00, 25.37it/s]\n"
     ]
    },
    {
     "name": "stdout",
     "output_type": "stream",
     "text": [
      "Performing regression for layer 0\n",
      "Epoch 1/5\n"
     ]
    },
    {
     "name": "stderr",
     "output_type": "stream",
     "text": [
      "2024-04-24 22:19:35.879195: E tensorflow/core/grappler/optimizers/meta_optimizer.cc:954] model_pruner failed: INVALID_ARGUMENT: Graph does not contain terminal node AssignAddVariableOp_2.\n"
     ]
    },
    {
     "name": "stdout",
     "output_type": "stream",
     "text": [
      "125/125 [==============================] - 3s 23ms/step - loss: 2.1352 - val_loss: 1.8029\n",
      "Epoch 2/5\n",
      "125/125 [==============================] - 2s 18ms/step - loss: 1.6850 - val_loss: 1.7735\n",
      "Epoch 3/5\n",
      "125/125 [==============================] - 2s 18ms/step - loss: 1.5452 - val_loss: 1.5502\n",
      "Epoch 4/5\n",
      "125/125 [==============================] - 2s 18ms/step - loss: 1.4283 - val_loss: 1.4713\n",
      "Epoch 5/5\n",
      "125/125 [==============================] - 2s 18ms/step - loss: 1.3374 - val_loss: 1.3804\n",
      "125/125 [==============================] - 0s 3ms/step\n",
      "0.7275\n",
      "32/32 [==============================] - 0s 3ms/step\n",
      "The presence of win_on_pass in resblock 0 is 0.6419999999999999\n",
      "Performing regression for layer 1\n",
      "Epoch 1/5\n"
     ]
    },
    {
     "name": "stderr",
     "output_type": "stream",
     "text": [
      "2024-04-24 22:19:49.370038: E tensorflow/core/grappler/optimizers/meta_optimizer.cc:954] model_pruner failed: INVALID_ARGUMENT: Graph does not contain terminal node AssignAddVariableOp_2.\n"
     ]
    },
    {
     "name": "stdout",
     "output_type": "stream",
     "text": [
      "125/125 [==============================] - 5s 39ms/step - loss: 2.6084 - val_loss: 2.0485\n",
      "Epoch 2/5\n",
      "125/125 [==============================] - 2s 18ms/step - loss: 1.9058 - val_loss: 1.7939\n",
      "Epoch 3/5\n",
      "125/125 [==============================] - 2s 18ms/step - loss: 1.6940 - val_loss: 1.7456\n",
      "Epoch 4/5\n",
      "125/125 [==============================] - 2s 18ms/step - loss: 1.5486 - val_loss: 1.5948\n",
      "Epoch 5/5\n",
      "125/125 [==============================] - 2s 17ms/step - loss: 1.4403 - val_loss: 1.4905\n",
      "125/125 [==============================] - 1s 4ms/step\n",
      "0.7755000000000001\n",
      "32/32 [==============================] - 0s 3ms/step\n",
      "The presence of win_on_pass in resblock 1 is 0.696\n",
      "Performing regression for layer 2\n",
      "Epoch 1/5\n"
     ]
    },
    {
     "name": "stderr",
     "output_type": "stream",
     "text": [
      "2024-04-24 22:20:04.826566: E tensorflow/core/grappler/optimizers/meta_optimizer.cc:954] model_pruner failed: INVALID_ARGUMENT: Graph does not contain terminal node AssignAddVariableOp_2.\n"
     ]
    },
    {
     "name": "stdout",
     "output_type": "stream",
     "text": [
      "125/125 [==============================] - 3s 22ms/step - loss: 2.8342 - val_loss: 2.3555\n",
      "Epoch 2/5\n",
      "125/125 [==============================] - 2s 18ms/step - loss: 2.0823 - val_loss: 2.2160\n",
      "Epoch 3/5\n",
      "125/125 [==============================] - 2s 17ms/step - loss: 1.8200 - val_loss: 1.9393\n",
      "Epoch 4/5\n",
      "125/125 [==============================] - 2s 17ms/step - loss: 1.6552 - val_loss: 1.7627\n",
      "Epoch 5/5\n",
      "125/125 [==============================] - 2s 17ms/step - loss: 1.5063 - val_loss: 1.7073\n",
      "125/125 [==============================] - 0s 3ms/step\n",
      "0.7430000000000001\n",
      "32/32 [==============================] - 0s 3ms/step\n",
      "The presence of win_on_pass in resblock 2 is 0.6559999999999999\n",
      "Performing regression for layer 3\n",
      "Epoch 1/5\n"
     ]
    },
    {
     "name": "stderr",
     "output_type": "stream",
     "text": [
      "2024-04-24 22:20:17.795519: E tensorflow/core/grappler/optimizers/meta_optimizer.cc:954] model_pruner failed: INVALID_ARGUMENT: Graph does not contain terminal node AssignAddVariableOp_2.\n"
     ]
    },
    {
     "name": "stdout",
     "output_type": "stream",
     "text": [
      "125/125 [==============================] - 3s 23ms/step - loss: 2.4769 - val_loss: 2.2153\n",
      "Epoch 2/5\n",
      "125/125 [==============================] - 2s 18ms/step - loss: 1.9443 - val_loss: 1.9533\n",
      "Epoch 3/5\n",
      "125/125 [==============================] - 2s 17ms/step - loss: 1.7759 - val_loss: 1.7858\n",
      "Epoch 4/5\n",
      "125/125 [==============================] - 2s 17ms/step - loss: 1.5672 - val_loss: 1.7094\n",
      "Epoch 5/5\n",
      "125/125 [==============================] - 2s 17ms/step - loss: 1.4670 - val_loss: 1.6015\n",
      "125/125 [==============================] - 0s 3ms/step\n",
      "0.7575000000000001\n",
      "32/32 [==============================] - 0s 4ms/step\n",
      "The presence of win_on_pass in resblock 3 is 0.6499999999999999\n",
      "Performing regression for layer 4\n",
      "Epoch 1/5\n"
     ]
    },
    {
     "name": "stderr",
     "output_type": "stream",
     "text": [
      "2024-04-24 22:20:30.953915: E tensorflow/core/grappler/optimizers/meta_optimizer.cc:954] model_pruner failed: INVALID_ARGUMENT: Graph does not contain terminal node AssignAddVariableOp_2.\n"
     ]
    },
    {
     "name": "stdout",
     "output_type": "stream",
     "text": [
      "125/125 [==============================] - 3s 23ms/step - loss: 3.4465 - val_loss: 2.8037\n",
      "Epoch 2/5\n",
      "125/125 [==============================] - 2s 19ms/step - loss: 2.5335 - val_loss: 2.6187\n",
      "Epoch 3/5\n",
      "125/125 [==============================] - 2s 18ms/step - loss: 2.1767 - val_loss: 2.2552\n",
      "Epoch 4/5\n",
      "125/125 [==============================] - 2s 19ms/step - loss: 1.8593 - val_loss: 2.1448\n",
      "Epoch 5/5\n",
      "125/125 [==============================] - 2s 19ms/step - loss: 1.6905 - val_loss: 2.0262\n",
      "125/125 [==============================] - 0s 3ms/step\n",
      "0.7575000000000001\n",
      "32/32 [==============================] - 0s 4ms/step\n",
      "The presence of win_on_pass in resblock 4 is 0.6339999999999999\n",
      "Performing regression for layer 5\n",
      "Epoch 1/5\n"
     ]
    },
    {
     "name": "stderr",
     "output_type": "stream",
     "text": [
      "2024-04-24 22:20:44.743771: E tensorflow/core/grappler/optimizers/meta_optimizer.cc:954] model_pruner failed: INVALID_ARGUMENT: Graph does not contain terminal node AssignAddVariableOp_2.\n"
     ]
    },
    {
     "name": "stdout",
     "output_type": "stream",
     "text": [
      "125/125 [==============================] - 3s 23ms/step - loss: 2.5368 - val_loss: 2.2650\n",
      "Epoch 2/5\n",
      "125/125 [==============================] - 2s 18ms/step - loss: 2.1078 - val_loss: 2.3237\n",
      "Epoch 3/5\n",
      "125/125 [==============================] - 2s 19ms/step - loss: 1.8964 - val_loss: 1.9937\n",
      "Epoch 4/5\n",
      "125/125 [==============================] - 2s 19ms/step - loss: 1.7593 - val_loss: 1.8674\n",
      "Epoch 5/5\n",
      "125/125 [==============================] - 2s 18ms/step - loss: 1.6439 - val_loss: 1.8430\n",
      "125/125 [==============================] - 1s 4ms/step\n",
      "0.6259999999999999\n",
      "32/32 [==============================] - 0s 3ms/step\n",
      "The presence of win_on_pass in resblock 5 is 0.516\n",
      "Performing regression for layer 6\n",
      "Epoch 1/5\n"
     ]
    },
    {
     "name": "stderr",
     "output_type": "stream",
     "text": [
      "2024-04-24 22:20:58.568305: E tensorflow/core/grappler/optimizers/meta_optimizer.cc:954] model_pruner failed: INVALID_ARGUMENT: Graph does not contain terminal node AssignAddVariableOp_2.\n"
     ]
    },
    {
     "name": "stdout",
     "output_type": "stream",
     "text": [
      "125/125 [==============================] - 3s 22ms/step - loss: 4.3466 - val_loss: 3.8320\n",
      "Epoch 2/5\n",
      "125/125 [==============================] - 2s 18ms/step - loss: 3.9233 - val_loss: 3.4850\n",
      "Epoch 3/5\n",
      "125/125 [==============================] - 2s 18ms/step - loss: 3.6360 - val_loss: 3.2485\n",
      "Epoch 4/5\n",
      "125/125 [==============================] - 2s 18ms/step - loss: 3.4195 - val_loss: 3.0679\n",
      "Epoch 5/5\n",
      "125/125 [==============================] - 2s 18ms/step - loss: 3.2452 - val_loss: 2.9217\n",
      "125/125 [==============================] - 0s 3ms/step\n",
      "0.14050000000000007\n",
      "32/32 [==============================] - 0s 3ms/step\n",
      "The presence of win_on_pass in resblock 6 is 0.18799999999999994\n",
      "Performing regression for layer 7\n",
      "Epoch 1/5\n"
     ]
    },
    {
     "name": "stderr",
     "output_type": "stream",
     "text": [
      "2024-04-24 22:21:11.554715: E tensorflow/core/grappler/optimizers/meta_optimizer.cc:954] model_pruner failed: INVALID_ARGUMENT: Graph does not contain terminal node AssignAddVariableOp_2.\n"
     ]
    },
    {
     "name": "stdout",
     "output_type": "stream",
     "text": [
      "125/125 [==============================] - 3s 20ms/step - loss: 5.8860 - val_loss: 5.1230\n",
      "Epoch 2/5\n",
      "125/125 [==============================] - 2s 18ms/step - loss: 5.5180 - val_loss: 4.8142\n",
      "Epoch 3/5\n",
      "125/125 [==============================] - 2s 17ms/step - loss: 5.1743 - val_loss: 4.5331\n",
      "Epoch 4/5\n",
      "125/125 [==============================] - 2s 17ms/step - loss: 4.8549 - val_loss: 4.2722\n",
      "Epoch 5/5\n",
      "125/125 [==============================] - 2s 18ms/step - loss: 4.5620 - val_loss: 4.0343\n",
      "125/125 [==============================] - 1s 4ms/step\n",
      "0.013500000000000068\n",
      "32/32 [==============================] - 0s 3ms/step\n"
     ]
    },
    {
     "name": "stderr",
     "output_type": "stream",
     "text": [
      "Epochs:  78%|███████▊  | 7/9 [12:20<03:37, 108.86s/it]"
     ]
    },
    {
     "name": "stdout",
     "output_type": "stream",
     "text": [
      "The presence of win_on_pass in resblock 7 is 0.09400000000000008\n"
     ]
    },
    {
     "name": "stderr",
     "output_type": "stream",
     "text": [
      "Getting activation outputs: 100%|██████████| 157/157 [00:05<00:00, 26.50it/s]\n"
     ]
    },
    {
     "name": "stdout",
     "output_type": "stream",
     "text": [
      "Performing regression for layer 0\n",
      "Epoch 1/5\n"
     ]
    },
    {
     "name": "stderr",
     "output_type": "stream",
     "text": [
      "2024-04-24 22:21:32.102945: E tensorflow/core/grappler/optimizers/meta_optimizer.cc:954] model_pruner failed: INVALID_ARGUMENT: Graph does not contain terminal node AssignAddVariableOp_2.\n"
     ]
    },
    {
     "name": "stdout",
     "output_type": "stream",
     "text": [
      "125/125 [==============================] - 4s 28ms/step - loss: 2.2253 - val_loss: 1.8924\n",
      "Epoch 2/5\n",
      "125/125 [==============================] - 2s 19ms/step - loss: 1.7382 - val_loss: 1.7724\n",
      "Epoch 3/5\n",
      "125/125 [==============================] - 2s 17ms/step - loss: 1.5609 - val_loss: 1.5864\n",
      "Epoch 4/5\n",
      "125/125 [==============================] - 2s 17ms/step - loss: 1.4535 - val_loss: 1.5116\n",
      "Epoch 5/5\n",
      "125/125 [==============================] - 2s 17ms/step - loss: 1.3461 - val_loss: 1.4941\n",
      "125/125 [==============================] - 0s 3ms/step\n",
      "0.7050000000000001\n",
      "32/32 [==============================] - 0s 4ms/step\n",
      "The presence of win_on_pass in resblock 0 is 0.6240000000000001\n",
      "Performing regression for layer 1\n",
      "Epoch 1/5\n"
     ]
    },
    {
     "name": "stderr",
     "output_type": "stream",
     "text": [
      "2024-04-24 22:21:45.898324: E tensorflow/core/grappler/optimizers/meta_optimizer.cc:954] model_pruner failed: INVALID_ARGUMENT: Graph does not contain terminal node AssignAddVariableOp_2.\n"
     ]
    },
    {
     "name": "stdout",
     "output_type": "stream",
     "text": [
      "125/125 [==============================] - 3s 21ms/step - loss: 2.8629 - val_loss: 2.3982\n",
      "Epoch 2/5\n",
      "125/125 [==============================] - 2s 17ms/step - loss: 2.0910 - val_loss: 2.0832\n",
      "Epoch 3/5\n",
      "125/125 [==============================] - 2s 18ms/step - loss: 1.8400 - val_loss: 1.9377\n",
      "Epoch 4/5\n",
      "125/125 [==============================] - 2s 17ms/step - loss: 1.6549 - val_loss: 1.9263\n",
      "Epoch 5/5\n",
      "125/125 [==============================] - 2s 17ms/step - loss: 1.5551 - val_loss: 1.6789\n",
      "125/125 [==============================] - 0s 3ms/step\n",
      "0.7545\n",
      "32/32 [==============================] - 0s 3ms/step\n",
      "The presence of win_on_pass in resblock 1 is 0.6279999999999999\n",
      "Performing regression for layer 2\n",
      "Epoch 1/5\n"
     ]
    },
    {
     "name": "stderr",
     "output_type": "stream",
     "text": [
      "2024-04-24 22:21:58.753079: E tensorflow/core/grappler/optimizers/meta_optimizer.cc:954] model_pruner failed: INVALID_ARGUMENT: Graph does not contain terminal node AssignAddVariableOp_2.\n"
     ]
    },
    {
     "name": "stdout",
     "output_type": "stream",
     "text": [
      "125/125 [==============================] - 3s 21ms/step - loss: 2.9933 - val_loss: 2.6560\n",
      "Epoch 2/5\n",
      "125/125 [==============================] - 2s 17ms/step - loss: 2.2625 - val_loss: 2.3768\n",
      "Epoch 3/5\n",
      "125/125 [==============================] - 2s 17ms/step - loss: 1.9789 - val_loss: 2.1312\n",
      "Epoch 4/5\n",
      "125/125 [==============================] - 2s 17ms/step - loss: 1.7451 - val_loss: 2.0249\n",
      "Epoch 5/5\n",
      "125/125 [==============================] - 2s 18ms/step - loss: 1.5995 - val_loss: 1.9172\n",
      "125/125 [==============================] - 0s 3ms/step\n",
      "0.7450000000000001\n",
      "32/32 [==============================] - 0s 3ms/step\n",
      "The presence of win_on_pass in resblock 2 is 0.6020000000000001\n",
      "Performing regression for layer 3\n",
      "Epoch 1/5\n"
     ]
    },
    {
     "name": "stderr",
     "output_type": "stream",
     "text": [
      "2024-04-24 22:22:11.671871: E tensorflow/core/grappler/optimizers/meta_optimizer.cc:954] model_pruner failed: INVALID_ARGUMENT: Graph does not contain terminal node AssignAddVariableOp_2.\n"
     ]
    },
    {
     "name": "stdout",
     "output_type": "stream",
     "text": [
      "125/125 [==============================] - 3s 22ms/step - loss: 2.5914 - val_loss: 2.1468\n",
      "Epoch 2/5\n",
      "125/125 [==============================] - 2s 17ms/step - loss: 2.0053 - val_loss: 1.9248\n",
      "Epoch 3/5\n",
      "125/125 [==============================] - 2s 17ms/step - loss: 1.7540 - val_loss: 1.7844\n",
      "Epoch 4/5\n",
      "125/125 [==============================] - 2s 17ms/step - loss: 1.5793 - val_loss: 1.7080\n",
      "Epoch 5/5\n",
      "125/125 [==============================] - 2s 17ms/step - loss: 1.4465 - val_loss: 1.6274\n",
      "125/125 [==============================] - 0s 3ms/step\n",
      "0.7410000000000001\n",
      "32/32 [==============================] - 0s 3ms/step\n",
      "The presence of win_on_pass in resblock 3 is 0.6100000000000001\n",
      "Performing regression for layer 4\n",
      "Epoch 1/5\n"
     ]
    },
    {
     "name": "stderr",
     "output_type": "stream",
     "text": [
      "2024-04-24 22:22:24.454302: E tensorflow/core/grappler/optimizers/meta_optimizer.cc:954] model_pruner failed: INVALID_ARGUMENT: Graph does not contain terminal node AssignAddVariableOp_2.\n"
     ]
    },
    {
     "name": "stdout",
     "output_type": "stream",
     "text": [
      "125/125 [==============================] - 3s 22ms/step - loss: 3.8564 - val_loss: 3.3473\n",
      "Epoch 2/5\n",
      "125/125 [==============================] - 2s 17ms/step - loss: 2.7197 - val_loss: 2.9340\n",
      "Epoch 3/5\n",
      "125/125 [==============================] - 2s 17ms/step - loss: 2.2796 - val_loss: 2.8286\n",
      "Epoch 4/5\n",
      "125/125 [==============================] - 2s 17ms/step - loss: 1.9611 - val_loss: 2.5059\n",
      "Epoch 5/5\n",
      "125/125 [==============================] - 2s 17ms/step - loss: 1.7279 - val_loss: 2.4995\n",
      "125/125 [==============================] - 0s 3ms/step\n",
      "0.6805000000000001\n",
      "32/32 [==============================] - 0s 5ms/step\n",
      "The presence of win_on_pass in resblock 4 is 0.534\n",
      "Performing regression for layer 5\n",
      "Epoch 1/5\n"
     ]
    },
    {
     "name": "stderr",
     "output_type": "stream",
     "text": [
      "2024-04-24 22:22:37.322724: E tensorflow/core/grappler/optimizers/meta_optimizer.cc:954] model_pruner failed: INVALID_ARGUMENT: Graph does not contain terminal node AssignAddVariableOp_2.\n"
     ]
    },
    {
     "name": "stdout",
     "output_type": "stream",
     "text": [
      "125/125 [==============================] - 3s 21ms/step - loss: 2.8306 - val_loss: 2.3446\n",
      "Epoch 2/5\n",
      "125/125 [==============================] - 2s 18ms/step - loss: 2.1745 - val_loss: 2.0639\n",
      "Epoch 3/5\n",
      "125/125 [==============================] - 2s 17ms/step - loss: 1.9698 - val_loss: 1.9343\n",
      "Epoch 4/5\n",
      "125/125 [==============================] - 2s 17ms/step - loss: 1.7934 - val_loss: 1.8920\n",
      "Epoch 5/5\n",
      "125/125 [==============================] - 2s 17ms/step - loss: 1.6629 - val_loss: 1.7910\n",
      "125/125 [==============================] - 0s 3ms/step\n",
      "0.6815\n",
      "32/32 [==============================] - 0s 4ms/step\n",
      "The presence of win_on_pass in resblock 5 is 0.6040000000000001\n",
      "Performing regression for layer 6\n",
      "Epoch 1/5\n"
     ]
    },
    {
     "name": "stderr",
     "output_type": "stream",
     "text": [
      "2024-04-24 22:22:49.997650: E tensorflow/core/grappler/optimizers/meta_optimizer.cc:954] model_pruner failed: INVALID_ARGUMENT: Graph does not contain terminal node AssignAddVariableOp_2.\n"
     ]
    },
    {
     "name": "stdout",
     "output_type": "stream",
     "text": [
      "125/125 [==============================] - 3s 23ms/step - loss: 9.0142 - val_loss: 8.2373\n",
      "Epoch 2/5\n",
      "125/125 [==============================] - 2s 17ms/step - loss: 7.3977 - val_loss: 6.7323\n",
      "Epoch 3/5\n",
      "125/125 [==============================] - 2s 17ms/step - loss: 6.0779 - val_loss: 5.5715\n",
      "Epoch 4/5\n",
      "125/125 [==============================] - 2s 18ms/step - loss: 5.0989 - val_loss: 4.7395\n",
      "Epoch 5/5\n",
      "125/125 [==============================] - 2s 18ms/step - loss: 4.4272 - val_loss: 4.1771\n",
      "125/125 [==============================] - 0s 3ms/step\n",
      "0.13949999999999996\n",
      "32/32 [==============================] - 0s 3ms/step\n",
      "The presence of win_on_pass in resblock 6 is 0.1200000000000001\n",
      "Performing regression for layer 7\n",
      "Epoch 1/5\n"
     ]
    },
    {
     "name": "stderr",
     "output_type": "stream",
     "text": [
      "2024-04-24 22:23:02.947301: E tensorflow/core/grappler/optimizers/meta_optimizer.cc:954] model_pruner failed: INVALID_ARGUMENT: Graph does not contain terminal node AssignAddVariableOp_2.\n"
     ]
    },
    {
     "name": "stdout",
     "output_type": "stream",
     "text": [
      "125/125 [==============================] - 3s 22ms/step - loss: 7.0872 - val_loss: 6.5599\n",
      "Epoch 2/5\n",
      "125/125 [==============================] - 2s 17ms/step - loss: 6.4219 - val_loss: 5.9566\n",
      "Epoch 3/5\n",
      "125/125 [==============================] - 2s 17ms/step - loss: 5.8764 - val_loss: 5.4520\n",
      "Epoch 4/5\n",
      "125/125 [==============================] - 2s 18ms/step - loss: 5.4301 - val_loss: 5.0425\n",
      "Epoch 5/5\n",
      "125/125 [==============================] - 2s 18ms/step - loss: 5.0666 - val_loss: 4.7037\n",
      "125/125 [==============================] - 1s 4ms/step\n",
      "-0.0014999999999999458\n",
      "32/32 [==============================] - 0s 3ms/step\n"
     ]
    },
    {
     "name": "stderr",
     "output_type": "stream",
     "text": [
      "Epochs:  89%|████████▉ | 8/9 [14:12<01:49, 109.78s/it]"
     ]
    },
    {
     "name": "stdout",
     "output_type": "stream",
     "text": [
      "The presence of win_on_pass in resblock 7 is 0.04600000000000004\n"
     ]
    },
    {
     "name": "stderr",
     "output_type": "stream",
     "text": [
      "Getting activation outputs: 100%|██████████| 157/157 [00:05<00:00, 29.37it/s]\n"
     ]
    },
    {
     "name": "stdout",
     "output_type": "stream",
     "text": [
      "Performing regression for layer 0\n",
      "Epoch 1/5\n"
     ]
    },
    {
     "name": "stderr",
     "output_type": "stream",
     "text": [
      "2024-04-24 22:23:25.447435: E tensorflow/core/grappler/optimizers/meta_optimizer.cc:954] model_pruner failed: INVALID_ARGUMENT: Graph does not contain terminal node AssignAddVariableOp_2.\n"
     ]
    },
    {
     "name": "stdout",
     "output_type": "stream",
     "text": [
      "125/125 [==============================] - 3s 21ms/step - loss: 2.5061 - val_loss: 2.4274\n",
      "Epoch 2/5\n",
      "125/125 [==============================] - 2s 17ms/step - loss: 1.9164 - val_loss: 2.0941\n",
      "Epoch 3/5\n",
      "125/125 [==============================] - 2s 17ms/step - loss: 1.6876 - val_loss: 1.8336\n",
      "Epoch 4/5\n",
      "125/125 [==============================] - 2s 18ms/step - loss: 1.5605 - val_loss: 1.7589\n",
      "Epoch 5/5\n",
      "125/125 [==============================] - 2s 17ms/step - loss: 1.4365 - val_loss: 1.6132\n",
      "125/125 [==============================] - 0s 3ms/step\n",
      "0.7769999999999999\n",
      "32/32 [==============================] - 0s 3ms/step\n",
      "The presence of win_on_pass in resblock 0 is 0.6279999999999999\n",
      "Performing regression for layer 1\n",
      "Epoch 1/5\n"
     ]
    },
    {
     "name": "stderr",
     "output_type": "stream",
     "text": [
      "2024-04-24 22:23:38.353365: E tensorflow/core/grappler/optimizers/meta_optimizer.cc:954] model_pruner failed: INVALID_ARGUMENT: Graph does not contain terminal node AssignAddVariableOp_2.\n"
     ]
    },
    {
     "name": "stdout",
     "output_type": "stream",
     "text": [
      "125/125 [==============================] - 3s 21ms/step - loss: 3.1624 - val_loss: 2.7777\n",
      "Epoch 2/5\n",
      "125/125 [==============================] - 2s 17ms/step - loss: 2.2392 - val_loss: 2.4160\n",
      "Epoch 3/5\n",
      "125/125 [==============================] - 2s 17ms/step - loss: 1.9483 - val_loss: 2.2294\n",
      "Epoch 4/5\n",
      "125/125 [==============================] - 2s 17ms/step - loss: 1.7276 - val_loss: 2.1046\n",
      "Epoch 5/5\n",
      "125/125 [==============================] - 2s 17ms/step - loss: 1.5919 - val_loss: 2.0036\n",
      "125/125 [==============================] - 0s 3ms/step\n",
      "0.7795000000000001\n",
      "32/32 [==============================] - 0s 3ms/step\n",
      "The presence of win_on_pass in resblock 1 is 0.5940000000000001\n",
      "Performing regression for layer 2\n",
      "Epoch 1/5\n"
     ]
    },
    {
     "name": "stderr",
     "output_type": "stream",
     "text": [
      "2024-04-24 22:23:50.917093: E tensorflow/core/grappler/optimizers/meta_optimizer.cc:954] model_pruner failed: INVALID_ARGUMENT: Graph does not contain terminal node AssignAddVariableOp_2.\n"
     ]
    },
    {
     "name": "stdout",
     "output_type": "stream",
     "text": [
      "125/125 [==============================] - 3s 21ms/step - loss: 3.6736 - val_loss: 3.2128\n",
      "Epoch 2/5\n",
      "125/125 [==============================] - 2s 17ms/step - loss: 2.4850 - val_loss: 2.6024\n",
      "Epoch 3/5\n",
      "125/125 [==============================] - 2s 17ms/step - loss: 2.0917 - val_loss: 2.3685\n",
      "Epoch 4/5\n",
      "125/125 [==============================] - 2s 17ms/step - loss: 1.8989 - val_loss: 2.1692\n",
      "Epoch 5/5\n",
      "125/125 [==============================] - 2s 17ms/step - loss: 1.6853 - val_loss: 2.0395\n",
      "125/125 [==============================] - 0s 3ms/step\n",
      "0.754\n",
      "32/32 [==============================] - 0s 3ms/step\n",
      "The presence of win_on_pass in resblock 2 is 0.5940000000000001\n",
      "Performing regression for layer 3\n",
      "Epoch 1/5\n"
     ]
    },
    {
     "name": "stderr",
     "output_type": "stream",
     "text": [
      "2024-04-24 22:24:03.477663: E tensorflow/core/grappler/optimizers/meta_optimizer.cc:954] model_pruner failed: INVALID_ARGUMENT: Graph does not contain terminal node AssignAddVariableOp_2.\n"
     ]
    },
    {
     "name": "stdout",
     "output_type": "stream",
     "text": [
      "125/125 [==============================] - 3s 22ms/step - loss: 2.5170 - val_loss: 2.2639\n",
      "Epoch 2/5\n",
      "125/125 [==============================] - 2s 17ms/step - loss: 1.9939 - val_loss: 2.0577\n",
      "Epoch 3/5\n",
      "125/125 [==============================] - 2s 17ms/step - loss: 1.7389 - val_loss: 1.9004\n",
      "Epoch 4/5\n",
      "125/125 [==============================] - 2s 17ms/step - loss: 1.5482 - val_loss: 1.8716\n",
      "Epoch 5/5\n",
      "125/125 [==============================] - 2s 17ms/step - loss: 1.4324 - val_loss: 1.7197\n",
      "125/125 [==============================] - 0s 3ms/step\n",
      "0.7895000000000001\n",
      "32/32 [==============================] - 0s 3ms/step\n",
      "The presence of win_on_pass in resblock 3 is 0.5940000000000001\n",
      "Performing regression for layer 4\n",
      "Epoch 1/5\n"
     ]
    },
    {
     "name": "stderr",
     "output_type": "stream",
     "text": [
      "2024-04-24 22:24:16.123534: E tensorflow/core/grappler/optimizers/meta_optimizer.cc:954] model_pruner failed: INVALID_ARGUMENT: Graph does not contain terminal node AssignAddVariableOp_2.\n"
     ]
    },
    {
     "name": "stdout",
     "output_type": "stream",
     "text": [
      "125/125 [==============================] - 3s 21ms/step - loss: 4.8632 - val_loss: 4.1639\n",
      "Epoch 2/5\n",
      "125/125 [==============================] - 2s 18ms/step - loss: 3.4593 - val_loss: 3.6731\n",
      "Epoch 3/5\n",
      "125/125 [==============================] - 2s 17ms/step - loss: 2.8149 - val_loss: 3.1796\n",
      "Epoch 4/5\n",
      "125/125 [==============================] - 2s 17ms/step - loss: 2.3962 - val_loss: 2.9349\n",
      "Epoch 5/5\n",
      "125/125 [==============================] - 2s 17ms/step - loss: 2.0455 - val_loss: 2.7754\n",
      "125/125 [==============================] - 0s 3ms/step\n",
      "0.7655000000000001\n",
      "32/32 [==============================] - 0s 3ms/step\n",
      "The presence of win_on_pass in resblock 4 is 0.6040000000000001\n",
      "Performing regression for layer 5\n",
      "Epoch 1/5\n"
     ]
    },
    {
     "name": "stderr",
     "output_type": "stream",
     "text": [
      "2024-04-24 22:24:28.760342: E tensorflow/core/grappler/optimizers/meta_optimizer.cc:954] model_pruner failed: INVALID_ARGUMENT: Graph does not contain terminal node AssignAddVariableOp_2.\n"
     ]
    },
    {
     "name": "stdout",
     "output_type": "stream",
     "text": [
      "125/125 [==============================] - 3s 21ms/step - loss: 2.6427 - val_loss: 2.5420\n",
      "Epoch 2/5\n",
      "125/125 [==============================] - 2s 17ms/step - loss: 2.1124 - val_loss: 2.1550\n",
      "Epoch 3/5\n",
      "125/125 [==============================] - 2s 17ms/step - loss: 1.8676 - val_loss: 2.0219\n",
      "Epoch 4/5\n",
      "125/125 [==============================] - 2s 18ms/step - loss: 1.7298 - val_loss: 1.8651\n",
      "Epoch 5/5\n",
      "125/125 [==============================] - 2s 17ms/step - loss: 1.5999 - val_loss: 1.8526\n",
      "125/125 [==============================] - 0s 3ms/step\n",
      "0.6735\n",
      "32/32 [==============================] - 0s 3ms/step\n",
      "The presence of win_on_pass in resblock 5 is 0.562\n",
      "Performing regression for layer 6\n",
      "Epoch 1/5\n"
     ]
    },
    {
     "name": "stderr",
     "output_type": "stream",
     "text": [
      "2024-04-24 22:24:41.381884: E tensorflow/core/grappler/optimizers/meta_optimizer.cc:954] model_pruner failed: INVALID_ARGUMENT: Graph does not contain terminal node AssignAddVariableOp_2.\n"
     ]
    },
    {
     "name": "stdout",
     "output_type": "stream",
     "text": [
      "125/125 [==============================] - 3s 21ms/step - loss: 8.0059 - val_loss: 6.7963\n",
      "Epoch 2/5\n",
      "125/125 [==============================] - 2s 17ms/step - loss: 7.1059 - val_loss: 6.1863\n",
      "Epoch 3/5\n",
      "125/125 [==============================] - 2s 17ms/step - loss: 6.3486 - val_loss: 5.6739\n",
      "Epoch 4/5\n",
      "125/125 [==============================] - 2s 17ms/step - loss: 5.7182 - val_loss: 5.2421\n",
      "Epoch 5/5\n",
      "125/125 [==============================] - 2s 17ms/step - loss: 5.1958 - val_loss: 4.8956\n",
      "125/125 [==============================] - 0s 2ms/step\n",
      "0.1915\n",
      "32/32 [==============================] - 0s 3ms/step\n",
      "The presence of win_on_pass in resblock 6 is 0.248\n",
      "Performing regression for layer 7\n",
      "Epoch 1/5\n"
     ]
    },
    {
     "name": "stderr",
     "output_type": "stream",
     "text": [
      "2024-04-24 22:24:53.653858: E tensorflow/core/grappler/optimizers/meta_optimizer.cc:954] model_pruner failed: INVALID_ARGUMENT: Graph does not contain terminal node AssignAddVariableOp_2.\n"
     ]
    },
    {
     "name": "stdout",
     "output_type": "stream",
     "text": [
      "125/125 [==============================] - 3s 20ms/step - loss: 9.3824 - val_loss: 9.1128\n",
      "Epoch 2/5\n",
      "125/125 [==============================] - 2s 17ms/step - loss: 8.0420 - val_loss: 7.9227\n",
      "Epoch 3/5\n",
      "125/125 [==============================] - 2s 17ms/step - loss: 6.9491 - val_loss: 6.9669\n",
      "Epoch 4/5\n",
      "125/125 [==============================] - 2s 17ms/step - loss: 6.1098 - val_loss: 6.2555\n",
      "Epoch 5/5\n",
      "125/125 [==============================] - 2s 17ms/step - loss: 5.4882 - val_loss: 5.7234\n",
      "125/125 [==============================] - 0s 2ms/step\n",
      "0.030999999999999917\n",
      "32/32 [==============================] - 0s 3ms/step\n"
     ]
    },
    {
     "name": "stderr",
     "output_type": "stream",
     "text": [
      "Epochs: 100%|██████████| 9/9 [16:02<00:00, 109.82s/it]"
     ]
    },
    {
     "name": "stdout",
     "output_type": "stream",
     "text": [
      "The presence of win_on_pass in resblock 7 is 0.008000000000000007\n"
     ]
    }
   ],
   "source": [
    "from tqdm import tqdm\n",
    "epochs_to_look_at = agents_to_sample\n",
    "\n",
    "bar = tqdm(total=len(epochs_to_look_at), desc=\"Epochs\")\n",
    "\n",
    "for epoch in epochs_to_look_at:\n",
    "    path = full_model_path + model_name + \"_\" + str(epoch) + \".keras\"\n",
    "    if resnet:\n",
    "        model = ResNet(board_size, path)\n",
    "    else:\n",
    "        model = ConvNet(board_size, path)\n",
    "\n",
    "    # Will have a length equal to the sum of the numer of rows in the positive and negative cases arrays\n",
    "    # And will contain 1s for positive cases and 0s for negative cases\n",
    "    # Is used as labels/targets for the regression\n",
    "    if BINARY:\n",
    "        all_cases = np.concatenate([positive_cases, negative_cases])\n",
    "        all_labels = [1] * positive_cases.shape[0] + [0] * negative_cases.shape[0]\n",
    "    else:\n",
    "        all_cases = np.array(positive_cases)\n",
    "        all_labels = negative_cases\n",
    "\n",
    "    all_labels = np.array(all_labels)\n",
    "    shuffled_indices = np.arange(all_labels.shape[0])\n",
    "\n",
    "    np.random.shuffle(shuffled_indices)\n",
    "\n",
    "    all_cases = all_cases[shuffled_indices]\n",
    "    all_labels = all_labels[shuffled_indices]\n",
    "\n",
    "    concept_presences = {}\n",
    "    \n",
    "    outputs = model.get_all_activation_values(all_cases)\n",
    "\n",
    "    # Merge outputs\n",
    "    merged_outputs = []\n",
    "    for output_batch in outputs:\n",
    "        for i, output_layer in enumerate(output_batch):\n",
    "            if len(merged_outputs) <= i:\n",
    "                merged_outputs.append([])\n",
    "            merged_outputs[i].extend(output_layer)\n",
    "\n",
    "    for i, layer_output in enumerate(merged_outputs):\n",
    "        merged_outputs[i] = np.array(merged_outputs[i])\n",
    "    \n",
    "    outputs = merged_outputs\n",
    "\n",
    "    # Perform regression\n",
    "    concept_presence_per_layer = []\n",
    "    for (i, output) in enumerate(outputs):\n",
    "        points = output.reshape((output.shape[0], np.prod(output.shape[1:])))\n",
    "        # So one has (n, k) samples where n is the number of positions, and k is the total number of activation values in layer i.\n",
    "        print(f\"Performing regression for layer {i}\")\n",
    "        score = linear_regression.perform_regression(\n",
    "            points=points[:POSITIONS_TO_CONSIDER], \n",
    "            targets=all_labels[:POSITIONS_TO_CONSIDER], \n",
    "            validation_points=points[POSITIONS_TO_CONSIDER:], \n",
    "            validation_targets=all_labels[POSITIONS_TO_CONSIDER:], \n",
    "            is_binary=BINARY,\n",
    "            epochs=epochs,\n",
    "            verbose=1\n",
    "        )\n",
    "        score = 0 if score < 0 else score\n",
    "        concept_presence_per_layer.append(score)\n",
    "\n",
    "        print(f\"The presence of {CONCEPT_NAME} in resblock {i} is {score}\")\n",
    "        \n",
    "    concept_presences[CONCEPT_NAME] = concept_presence_per_layer\n",
    "\n",
    "    concept_folder_setup_and_score('static', model_type, board_name, session_name, CONCEPT_NAME, epoch, concept_presence_per_layer)\n",
    "\n",
    "    bar.update()"
   ]
  }
 ],
 "metadata": {
  "kernelspec": {
   "display_name": "go-xai",
   "language": "python",
   "name": "python3"
  },
  "language_info": {
   "codemirror_mode": {
    "name": "ipython",
    "version": 3
   },
   "file_extension": ".py",
   "mimetype": "text/x-python",
   "name": "python",
   "nbconvert_exporter": "python",
   "pygments_lexer": "ipython3",
   "version": "3.8.18"
  }
 },
 "nbformat": 4,
 "nbformat_minor": 2
}
