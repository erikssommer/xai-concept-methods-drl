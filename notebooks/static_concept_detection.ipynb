{
 "cells": [
  {
   "cell_type": "markdown",
   "metadata": {},
   "source": [
    "### Notebook for concept detection in neural network"
   ]
  },
  {
   "cell_type": "code",
   "execution_count": 15,
   "metadata": {},
   "outputs": [],
   "source": [
    "%load_ext autoreload\n",
    "%autoreload 2"
   ]
  },
  {
   "cell_type": "code",
   "execution_count": 1,
   "metadata": {},
   "outputs": [],
   "source": [
    "import numpy as np\n",
    "import os\n",
    "import sys\n",
    "\n",
    "sys.path.append(os.path.abspath(os.path.join(os.path.pardir, 'src')))\n",
    "\n",
    "os.environ['TF_CPP_MIN_LOG_LEVEL'] = '2'  # or any {'0', '1', '2'}\n",
    "\n",
    "from concepts import static_concepts, linear_regression, generate_static_concept_datasets\n",
    "from policy import ConvNet, ResNet\n",
    "from utils import concept_folder_setup_and_score\n",
    "\n",
    "import tensorflow as tf\n",
    "\n",
    "# Set memory growth\n",
    "physical_devices = tf.config.list_physical_devices('GPU')\n",
    "tf.config.experimental.set_memory_growth(physical_devices[0], True)\n",
    "\n",
    "reward_function = \"zero_sum\" # \"concept_fn\", \"zero_sum\" or \"jem\"\n",
    "model_name = \"net\"\n",
    "session_name = \"probing\"\n",
    "board_size = 7\n",
    "board_name = f'{board_size}x{board_size}'\n",
    "resnet = True\n",
    "\n",
    "model_type = \"resnet\" if resnet else \"convnet\"\n",
    "\n",
    "agents_to_sample = [0, 10, 50, 100, 300, 500, 600, 800, 1000]\n",
    "\n",
    "full_model_path = f\"../models/saved_sessions/{model_type}/{reward_function}/board_size_{board_size}/{session_name}/\"\n",
    "\n",
    "CONCEPT_FUNC = static_concepts.difference_in_stones\n",
    "\n",
    "CONCEPT_NAME = static_concepts.difference_in_stones.__name__\n",
    "\n",
    "BINARY = False\n",
    "\n",
    "CASES_TO_SAMPLE = 2500 # 25000\n",
    "\n",
    "SAMPLE_RATIO = 0.5\n",
    "\n",
    "# Load the models\n",
    "def load_model(full_name, model_name, epoch):\n",
    "    model_path = full_name + model_name + \"_\" + str(epoch) + \".keras\"\n",
    "    if resnet:\n",
    "        model = ResNet(board_size, model_path)\n",
    "    else:\n",
    "        model = ConvNet(board_size, model_path)\n",
    "    return model\n",
    "\n",
    "agents = [load_model(full_model_path, model_name, epoch) for epoch in agents_to_sample]"
   ]
  },
  {
   "cell_type": "code",
   "execution_count": 2,
   "metadata": {},
   "outputs": [
    {
     "name": "stderr",
     "output_type": "stream",
     "text": [
      "Continuous cases for concept 'difference_in_stones': 3519it [05:04, 11.55it/s]                          \n"
     ]
    }
   ],
   "source": [
    "positive_cases, negative_cases = generate_static_concept_datasets(CASES_TO_SAMPLE, agents, board_size, CONCEPT_FUNC, sample_ratio=SAMPLE_RATIO, binary=BINARY)\n",
    "\n",
    "# Create numpy arrays\n",
    "positive_cases = np.array(positive_cases)\n",
    "negative_cases = np.array(negative_cases) # Target cases if continuous"
   ]
  },
  {
   "cell_type": "code",
   "execution_count": null,
   "metadata": {},
   "outputs": [],
   "source": [
    "# Print shapes\n",
    "print(\"Positive cases: \", positive_cases.shape)\n",
    "print(\"Negative cases: \", negative_cases.shape)"
   ]
  },
  {
   "cell_type": "code",
   "execution_count": 6,
   "metadata": {},
   "outputs": [],
   "source": [
    "if not BINARY:\n",
    "    print(\"Continuous case - skipping duplicates check\")\n",
    "else:\n",
    "    # Test if there are any duplicates accross the two sets\n",
    "    for i in range(len(positive_cases)):\n",
    "        for j in range(len(negative_cases)):\n",
    "            if np.array_equal(positive_cases[i], negative_cases[j]):\n",
    "                print(\"Duplicate found!\")\n",
    "                print(positive_cases[i])\n",
    "                print(negative_cases[j])\n",
    "                break"
   ]
  },
  {
   "cell_type": "code",
   "execution_count": null,
   "metadata": {},
   "outputs": [],
   "source": [
    "if not BINARY:\n",
    "    print(\"Continuous case - skipping duplicates check\")\n",
    "else:\n",
    "    # Find the number of any duplicates within the positive cases\n",
    "    duplicate_count = 0\n",
    "    for i in range(len(positive_cases)):\n",
    "        for j in range(i + 1, len(positive_cases)):\n",
    "            if np.array_equal(positive_cases[i], positive_cases[j]):\n",
    "                duplicate_count += 1\n",
    "                break\n",
    "\n",
    "    print(\"Duplicate count in positive cases: \", duplicate_count)\n",
    "\n",
    "    # Find the number of any duplicates within the negative cases\n",
    "    duplicate_count = 0\n",
    "    for i in range(len(negative_cases)):\n",
    "        for j in range(i + 1, len(negative_cases)):\n",
    "            if np.array_equal(negative_cases[i], negative_cases[j]):\n",
    "                duplicate_count += 1\n",
    "                break\n",
    "\n",
    "    print(\"Duplicate count in negative: \", duplicate_count)"
   ]
  },
  {
   "cell_type": "code",
   "execution_count": null,
   "metadata": {},
   "outputs": [],
   "source": [
    "from env import gogame\n",
    "# Print all the positive cases\n",
    "for i in range(0, 10):\n",
    "    print(f\"Positive case {i}:\")\n",
    "    print(positive_cases[i])\n",
    "    print(gogame.str(positive_cases[i], nn_format=True))\n",
    "    print()"
   ]
  },
  {
   "cell_type": "code",
   "execution_count": null,
   "metadata": {},
   "outputs": [],
   "source": [
    "from env import gogame\n",
    "\n",
    "if not BINARY:\n",
    "    # Print random cases from the negative cases\n",
    "    for i in range(100, 120):\n",
    "        print(negative_cases[i])\n",
    "        print(f'Target: {negative_cases[i]}')\n",
    "        print(gogame.str(negative_cases[i], nn_format=True))\n",
    "        print()"
   ]
  },
  {
   "cell_type": "code",
   "execution_count": 3,
   "metadata": {},
   "outputs": [
    {
     "name": "stdout",
     "output_type": "stream",
     "text": [
      "Positions to consider: 2000\n"
     ]
    }
   ],
   "source": [
    "# Positions to consider are 80% of the total positions\n",
    "if BINARY:\n",
    "    POSITIONS_TO_CONSIDER = int(0.8 * positive_cases.shape[0] * 2)\n",
    "    print(f\"Positions to consider: {POSITIONS_TO_CONSIDER}\")\n",
    "    #POSITIONS_TO_CONSIDER = 4000 #40000\n",
    "    VALIDATION_POSITIONS = 10000 #10000\n",
    "else:\n",
    "    POSITIONS_TO_CONSIDER = int(0.8 * positive_cases.shape[0])\n",
    "    print(f\"Positions to consider: {POSITIONS_TO_CONSIDER}\")\n",
    "    #POSITIONS_TO_CONSIDER = 4000 #40000\n",
    "    VALIDATION_POSITIONS = 10000\n",
    "\n",
    "epochs = 5"
   ]
  },
  {
   "cell_type": "code",
   "execution_count": 4,
   "metadata": {},
   "outputs": [
    {
     "name": "stdout",
     "output_type": "stream",
     "text": [
      "Regression score:  1.0\n"
     ]
    }
   ],
   "source": [
    "# First test if the concept can be regressed form the inputs\n",
    "name = \"input\"\n",
    "if BINARY:\n",
    "    all_cases = np.concatenate([positive_cases, negative_cases])\n",
    "    all_labels = [1] * positive_cases.shape[0] + [0] * negative_cases.shape[0]\n",
    "else:\n",
    "    all_cases = np.array(positive_cases)\n",
    "    all_labels = negative_cases\n",
    "\n",
    "all_labels = np.array(all_labels)\n",
    "shuffled_indices = np.arange(all_labels.shape[0])\n",
    "\n",
    "np.random.shuffle(shuffled_indices)\n",
    "\n",
    "all_cases = all_cases[shuffled_indices]\n",
    "all_labels = all_labels[shuffled_indices]\n",
    "\n",
    "points = all_cases.reshape(all_cases.shape[0], -1)\n",
    "\n",
    "# Use the regression\n",
    "score = linear_regression.perform_regression(\n",
    "    points=points[:POSITIONS_TO_CONSIDER], \n",
    "    targets=all_labels[:POSITIONS_TO_CONSIDER], \n",
    "    validation_points=points[POSITIONS_TO_CONSIDER:], \n",
    "    validation_targets=all_labels[POSITIONS_TO_CONSIDER:], \n",
    "    is_binary=BINARY,\n",
    "    epochs=epochs,\n",
    "    verbose=1\n",
    ")\n",
    "\n",
    "score = 0 if score < 0 else score\n",
    "\n",
    "print(\"Regression score: \", score)\n",
    "\n",
    "concept_folder_setup_and_score('static', model_type, board_name, session_name, CONCEPT_NAME, name, score)"
   ]
  },
  {
   "cell_type": "code",
   "execution_count": 5,
   "metadata": {},
   "outputs": [
    {
     "name": "stderr",
     "output_type": "stream",
     "text": [
      "Getting activation outputs: 100%|██████████| 79/79 [00:02<00:00, 28.69it/s]\n"
     ]
    },
    {
     "name": "stdout",
     "output_type": "stream",
     "text": [
      "Performing regression for layer 0\n",
      "The presence of difference_in_stones in resblock 0 is 0.9988720214318776\n",
      "Performing regression for layer 1\n",
      "The presence of difference_in_stones in resblock 1 is 0.9956920914021364\n",
      "Performing regression for layer 2\n",
      "The presence of difference_in_stones in resblock 2 is 0.9984781394303233\n",
      "Performing regression for layer 3\n",
      "The presence of difference_in_stones in resblock 3 is 0.9952664507929939\n",
      "Performing regression for layer 4\n",
      "The presence of difference_in_stones in resblock 4 is 0.9980416037401231\n",
      "Performing regression for layer 5\n"
     ]
    },
    {
     "name": "stderr",
     "output_type": "stream",
     "text": [
      "Epochs:  11%|█         | 1/9 [00:12<01:36, 12.08s/it]"
     ]
    },
    {
     "name": "stdout",
     "output_type": "stream",
     "text": [
      "The presence of difference_in_stones in resblock 5 is 0.9938543009446112\n",
      "Performing regression for layer 6\n",
      "The presence of difference_in_stones in resblock 6 is 0.4248891861648454\n",
      "Performing regression for layer 7\n",
      "The presence of difference_in_stones in resblock 7 is 0.5548650167787619\n"
     ]
    },
    {
     "name": "stderr",
     "output_type": "stream",
     "text": [
      "Getting activation outputs: 100%|██████████| 79/79 [00:02<00:00, 32.73it/s]\n"
     ]
    },
    {
     "name": "stdout",
     "output_type": "stream",
     "text": [
      "Performing regression for layer 0\n",
      "The presence of difference_in_stones in resblock 0 is 0.9984146089603839\n",
      "Performing regression for layer 1\n",
      "The presence of difference_in_stones in resblock 1 is 0.9954907257099095\n",
      "Performing regression for layer 2\n",
      "The presence of difference_in_stones in resblock 2 is 0.9981039142165937\n",
      "Performing regression for layer 3\n",
      "The presence of difference_in_stones in resblock 3 is 0.993636416222921\n",
      "Performing regression for layer 4\n",
      "The presence of difference_in_stones in resblock 4 is 0.9977512162532962\n",
      "Performing regression for layer 5\n"
     ]
    },
    {
     "name": "stderr",
     "output_type": "stream",
     "text": [
      "Epochs:  22%|██▏       | 2/9 [00:23<01:22, 11.76s/it]"
     ]
    },
    {
     "name": "stdout",
     "output_type": "stream",
     "text": [
      "The presence of difference_in_stones in resblock 5 is 0.993035740772833\n",
      "Performing regression for layer 6\n",
      "The presence of difference_in_stones in resblock 6 is 0.7781201894744492\n",
      "Performing regression for layer 7\n",
      "The presence of difference_in_stones in resblock 7 is 0.7736391963486167\n"
     ]
    },
    {
     "name": "stderr",
     "output_type": "stream",
     "text": [
      "Getting activation outputs: 100%|██████████| 79/79 [00:02<00:00, 32.47it/s]\n"
     ]
    },
    {
     "name": "stdout",
     "output_type": "stream",
     "text": [
      "Performing regression for layer 0\n",
      "The presence of difference_in_stones in resblock 0 is 0.9988528450711136\n",
      "Performing regression for layer 1\n",
      "The presence of difference_in_stones in resblock 1 is 0.9960524298135736\n",
      "Performing regression for layer 2\n",
      "The presence of difference_in_stones in resblock 2 is 0.998466126735921\n",
      "Performing regression for layer 3\n",
      "The presence of difference_in_stones in resblock 3 is 0.9946252791670271\n",
      "Performing regression for layer 4\n",
      "The presence of difference_in_stones in resblock 4 is 0.9979729126322778\n",
      "Performing regression for layer 5\n"
     ]
    },
    {
     "name": "stderr",
     "output_type": "stream",
     "text": [
      "Epochs:  33%|███▎      | 3/9 [00:35<01:10, 11.67s/it]"
     ]
    },
    {
     "name": "stdout",
     "output_type": "stream",
     "text": [
      "The presence of difference_in_stones in resblock 5 is 0.9946838502457951\n",
      "Performing regression for layer 6\n",
      "The presence of difference_in_stones in resblock 6 is 0.6869179042031477\n",
      "Performing regression for layer 7\n",
      "The presence of difference_in_stones in resblock 7 is 0.8643041943954065\n"
     ]
    },
    {
     "name": "stderr",
     "output_type": "stream",
     "text": [
      "Getting activation outputs: 100%|██████████| 79/79 [00:02<00:00, 33.17it/s]\n"
     ]
    },
    {
     "name": "stdout",
     "output_type": "stream",
     "text": [
      "Performing regression for layer 0\n",
      "The presence of difference_in_stones in resblock 0 is 0.9982554171934095\n",
      "Performing regression for layer 1\n",
      "The presence of difference_in_stones in resblock 1 is 0.9923798671748502\n",
      "Performing regression for layer 2\n",
      "The presence of difference_in_stones in resblock 2 is 0.9949013280844076\n",
      "Performing regression for layer 3\n",
      "The presence of difference_in_stones in resblock 3 is 0.9904849748806832\n",
      "Performing regression for layer 4\n",
      "The presence of difference_in_stones in resblock 4 is 0.9924838472485189\n",
      "Performing regression for layer 5\n"
     ]
    },
    {
     "name": "stderr",
     "output_type": "stream",
     "text": [
      "Epochs:  44%|████▍     | 4/9 [00:46<00:58, 11.65s/it]"
     ]
    },
    {
     "name": "stdout",
     "output_type": "stream",
     "text": [
      "The presence of difference_in_stones in resblock 5 is 0.9836313399700415\n",
      "Performing regression for layer 6\n",
      "The presence of difference_in_stones in resblock 6 is 0.3620453163989912\n",
      "Performing regression for layer 7\n",
      "The presence of difference_in_stones in resblock 7 is 0.7609115400287976\n"
     ]
    },
    {
     "name": "stderr",
     "output_type": "stream",
     "text": [
      "Getting activation outputs: 100%|██████████| 79/79 [00:02<00:00, 33.46it/s]\n"
     ]
    },
    {
     "name": "stdout",
     "output_type": "stream",
     "text": [
      "Performing regression for layer 0\n",
      "The presence of difference_in_stones in resblock 0 is 0.9972284302290596\n",
      "Performing regression for layer 1\n",
      "The presence of difference_in_stones in resblock 1 is 0.9914519718352478\n",
      "Performing regression for layer 2\n",
      "The presence of difference_in_stones in resblock 2 is 0.9845822318073667\n",
      "Performing regression for layer 3\n",
      "The presence of difference_in_stones in resblock 3 is 0.9763849548643112\n",
      "Performing regression for layer 4\n",
      "The presence of difference_in_stones in resblock 4 is 0.9779345175846151\n",
      "Performing regression for layer 5\n"
     ]
    },
    {
     "name": "stderr",
     "output_type": "stream",
     "text": [
      "Epochs:  56%|█████▌    | 5/9 [00:58<00:46, 11.66s/it]"
     ]
    },
    {
     "name": "stdout",
     "output_type": "stream",
     "text": [
      "The presence of difference_in_stones in resblock 5 is 0.9592506596610932\n",
      "Performing regression for layer 6\n",
      "The presence of difference_in_stones in resblock 6 is 0.4691942464214506\n",
      "Performing regression for layer 7\n",
      "The presence of difference_in_stones in resblock 7 is 0.6934863627269162\n"
     ]
    },
    {
     "name": "stderr",
     "output_type": "stream",
     "text": [
      "Getting activation outputs: 100%|██████████| 79/79 [00:02<00:00, 33.68it/s]\n"
     ]
    },
    {
     "name": "stdout",
     "output_type": "stream",
     "text": [
      "Performing regression for layer 0\n",
      "The presence of difference_in_stones in resblock 0 is 0.9925496139983698\n",
      "Performing regression for layer 1\n",
      "The presence of difference_in_stones in resblock 1 is 0.9814508608870064\n",
      "Performing regression for layer 2\n",
      "The presence of difference_in_stones in resblock 2 is 0.9639496042800275\n",
      "Performing regression for layer 3\n",
      "The presence of difference_in_stones in resblock 3 is 0.9451449222428385\n",
      "Performing regression for layer 4\n",
      "The presence of difference_in_stones in resblock 4 is 0.9533314566013488\n",
      "Performing regression for layer 5\n"
     ]
    },
    {
     "name": "stderr",
     "output_type": "stream",
     "text": [
      "Epochs:  67%|██████▋   | 6/9 [01:10<00:35, 11.73s/it]"
     ]
    },
    {
     "name": "stdout",
     "output_type": "stream",
     "text": [
      "The presence of difference_in_stones in resblock 5 is 0.9227247212830348\n",
      "Performing regression for layer 6\n",
      "The presence of difference_in_stones in resblock 6 is 0.4969554013141282\n",
      "Performing regression for layer 7\n",
      "The presence of difference_in_stones in resblock 7 is 0.3076537812826845\n"
     ]
    },
    {
     "name": "stderr",
     "output_type": "stream",
     "text": [
      "Getting activation outputs: 100%|██████████| 79/79 [00:02<00:00, 26.69it/s]\n"
     ]
    },
    {
     "name": "stdout",
     "output_type": "stream",
     "text": [
      "Performing regression for layer 0\n",
      "The presence of difference_in_stones in resblock 0 is 0.9909294233367105\n",
      "Performing regression for layer 1\n",
      "The presence of difference_in_stones in resblock 1 is 0.9813806638025661\n",
      "Performing regression for layer 2\n",
      "The presence of difference_in_stones in resblock 2 is 0.9791227723848356\n",
      "Performing regression for layer 3\n",
      "The presence of difference_in_stones in resblock 3 is 0.9624038344041701\n",
      "Performing regression for layer 4\n",
      "The presence of difference_in_stones in resblock 4 is 0.9680744028882156\n",
      "Performing regression for layer 5\n"
     ]
    },
    {
     "name": "stderr",
     "output_type": "stream",
     "text": [
      "Epochs:  78%|███████▊  | 7/9 [01:30<00:28, 14.46s/it]"
     ]
    },
    {
     "name": "stdout",
     "output_type": "stream",
     "text": [
      "The presence of difference_in_stones in resblock 5 is 0.9478175334557489\n",
      "Performing regression for layer 6\n",
      "The presence of difference_in_stones in resblock 6 is 0.788715376761382\n",
      "Performing regression for layer 7\n",
      "The presence of difference_in_stones in resblock 7 is 0.2558723390407809\n"
     ]
    },
    {
     "name": "stderr",
     "output_type": "stream",
     "text": [
      "Getting activation outputs: 100%|██████████| 79/79 [00:03<00:00, 24.72it/s]\n"
     ]
    },
    {
     "name": "stdout",
     "output_type": "stream",
     "text": [
      "Performing regression for layer 0\n",
      "The presence of difference_in_stones in resblock 0 is 0.9921267845471928\n",
      "Performing regression for layer 1\n",
      "The presence of difference_in_stones in resblock 1 is 0.9838192064173246\n",
      "Performing regression for layer 2\n",
      "The presence of difference_in_stones in resblock 2 is 0.980522994722465\n",
      "Performing regression for layer 3\n",
      "The presence of difference_in_stones in resblock 3 is 0.9581642942812386\n",
      "Performing regression for layer 4\n",
      "The presence of difference_in_stones in resblock 4 is 0.9687378054687441\n",
      "Performing regression for layer 5\n"
     ]
    },
    {
     "name": "stderr",
     "output_type": "stream",
     "text": [
      "Epochs:  89%|████████▉ | 8/9 [01:50<00:16, 16.39s/it]"
     ]
    },
    {
     "name": "stdout",
     "output_type": "stream",
     "text": [
      "The presence of difference_in_stones in resblock 5 is 0.9379759438814652\n",
      "Performing regression for layer 6\n",
      "The presence of difference_in_stones in resblock 6 is 0.7780874126460997\n",
      "Performing regression for layer 7\n",
      "The presence of difference_in_stones in resblock 7 is 0.22364389781686145\n"
     ]
    },
    {
     "name": "stderr",
     "output_type": "stream",
     "text": [
      "Getting activation outputs: 100%|██████████| 79/79 [00:03<00:00, 25.21it/s]\n"
     ]
    },
    {
     "name": "stdout",
     "output_type": "stream",
     "text": [
      "Performing regression for layer 0\n",
      "The presence of difference_in_stones in resblock 0 is 0.9920084772379316\n",
      "Performing regression for layer 1\n",
      "The presence of difference_in_stones in resblock 1 is 0.9812171712829092\n",
      "Performing regression for layer 2\n",
      "The presence of difference_in_stones in resblock 2 is 0.9812164440412986\n",
      "Performing regression for layer 3\n",
      "The presence of difference_in_stones in resblock 3 is 0.9701758151383912\n",
      "Performing regression for layer 4\n",
      "The presence of difference_in_stones in resblock 4 is 0.9716616726375378\n",
      "Performing regression for layer 5\n"
     ]
    },
    {
     "name": "stderr",
     "output_type": "stream",
     "text": [
      "Epochs: 100%|██████████| 9/9 [02:10<00:00, 17.46s/it]"
     ]
    },
    {
     "name": "stdout",
     "output_type": "stream",
     "text": [
      "The presence of difference_in_stones in resblock 5 is 0.9463226780828125\n",
      "Performing regression for layer 6\n",
      "The presence of difference_in_stones in resblock 6 is 0.7906450590092879\n",
      "Performing regression for layer 7\n",
      "The presence of difference_in_stones in resblock 7 is 0.2750066804423481\n"
     ]
    }
   ],
   "source": [
    "from tqdm import tqdm\n",
    "epochs_to_look_at = agents_to_sample\n",
    "\n",
    "bar = tqdm(total=len(epochs_to_look_at), desc=\"Epochs\")\n",
    "\n",
    "for epoch in epochs_to_look_at:\n",
    "    path = full_model_path + model_name + \"_\" + str(epoch) + \".keras\"\n",
    "    if resnet:\n",
    "        model = ResNet(board_size, path)\n",
    "    else:\n",
    "        model = ConvNet(board_size, path)\n",
    "\n",
    "    # Will have a length equal to the sum of the numer of rows in the positive and negative cases arrays\n",
    "    # And will contain 1s for positive cases and 0s for negative cases\n",
    "    # Is used as labels/targets for the regression\n",
    "    if BINARY:\n",
    "        all_cases = np.concatenate([positive_cases, negative_cases])\n",
    "        all_labels = [1] * positive_cases.shape[0] + [0] * negative_cases.shape[0]\n",
    "    else:\n",
    "        all_cases = np.array(positive_cases)\n",
    "        all_labels = negative_cases\n",
    "\n",
    "    all_labels = np.array(all_labels)\n",
    "    shuffled_indices = np.arange(all_labels.shape[0])\n",
    "\n",
    "    np.random.shuffle(shuffled_indices)\n",
    "\n",
    "    all_cases = all_cases[shuffled_indices]\n",
    "    all_labels = all_labels[shuffled_indices]\n",
    "\n",
    "    concept_presences = {}\n",
    "    \n",
    "    outputs = model.get_all_activation_values(all_cases)\n",
    "\n",
    "    # Merge outputs\n",
    "    merged_outputs = []\n",
    "    for output_batch in outputs:\n",
    "        for i, output_layer in enumerate(output_batch):\n",
    "            if len(merged_outputs) <= i:\n",
    "                merged_outputs.append([])\n",
    "            merged_outputs[i].extend(output_layer)\n",
    "\n",
    "    for i, layer_output in enumerate(merged_outputs):\n",
    "        merged_outputs[i] = np.array(merged_outputs[i])\n",
    "    \n",
    "    outputs = merged_outputs\n",
    "\n",
    "    # Perform regression\n",
    "    concept_presence_per_layer = []\n",
    "    for (i, output) in enumerate(outputs):\n",
    "        points = output.reshape((output.shape[0], np.prod(output.shape[1:])))\n",
    "        # So one has (n, k) samples where n is the number of positions, and k is the total number of activation values in layer i.\n",
    "        print(f\"Performing regression for layer {i}\")\n",
    "        score = linear_regression.perform_regression(\n",
    "            points=points[:POSITIONS_TO_CONSIDER], \n",
    "            targets=all_labels[:POSITIONS_TO_CONSIDER], \n",
    "            validation_points=points[POSITIONS_TO_CONSIDER:], \n",
    "            validation_targets=all_labels[POSITIONS_TO_CONSIDER:], \n",
    "            is_binary=BINARY,\n",
    "            epochs=epochs,\n",
    "            verbose=1\n",
    "        )\n",
    "        score = 0 if score < 0 else score\n",
    "        concept_presence_per_layer.append(score)\n",
    "\n",
    "        print(f\"The presence of {CONCEPT_NAME} in resblock {i} is {score}\")\n",
    "        \n",
    "    concept_presences[CONCEPT_NAME] = concept_presence_per_layer\n",
    "\n",
    "    concept_folder_setup_and_score('static', model_type, board_name, session_name, CONCEPT_NAME, epoch, concept_presence_per_layer)\n",
    "\n",
    "    bar.update()"
   ]
  }
 ],
 "metadata": {
  "kernelspec": {
   "display_name": "go-xai",
   "language": "python",
   "name": "python3"
  },
  "language_info": {
   "codemirror_mode": {
    "name": "ipython",
    "version": 3
   },
   "file_extension": ".py",
   "mimetype": "text/x-python",
   "name": "python",
   "nbconvert_exporter": "python",
   "pygments_lexer": "ipython3",
   "version": "3.8.18"
  }
 },
 "nbformat": 4,
 "nbformat_minor": 2
}
