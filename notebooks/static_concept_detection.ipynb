{
 "cells": [
  {
   "cell_type": "markdown",
   "metadata": {},
   "source": [
    "### Notebook for concept detection in neural network"
   ]
  },
  {
   "cell_type": "code",
   "execution_count": 1,
   "metadata": {},
   "outputs": [],
   "source": [
    "%load_ext autoreload\n",
    "%autoreload 2"
   ]
  },
  {
   "cell_type": "code",
   "execution_count": 34,
   "metadata": {},
   "outputs": [],
   "source": [
    "import numpy as np\n",
    "import os\n",
    "import sys\n",
    "from tqdm import tqdm\n",
    "import json\n",
    "import random\n",
    "import string\n",
    "\n",
    "sys.path.append(os.path.abspath(os.path.join(os.path.pardir, 'src')))\n",
    "\n",
    "from concepts import static_concepts, linear_regression\n",
    "import env\n",
    "from policy import ConvNet, ResNet\n",
    "\n",
    "import tensorflow as tf\n",
    "\n",
    "# Set memory growth\n",
    "physical_devices = tf.config.list_physical_devices('GPU')\n",
    "tf.config.experimental.set_memory_growth(physical_devices[0], True)\n",
    "\n",
    "model_name = \"net\"\n",
    "session_name = \"falcon\"\n",
    "board_size = 5\n",
    "board_name = f'{board_size}x{board_size}'\n",
    "resnet = False\n",
    "\n",
    "model_type = \"resnet\" if resnet else \"convnet\"\n",
    "\n",
    "agents_to_sample = [0, 10, 20, 60, 100, 500, 1000]\n",
    "\n",
    "full_model_path = f\"../models/saved_sessions/{model_type}/board_size_{board_size}/{session_name}/\"\n",
    "\n",
    "CONCEPT_FUNC = static_concepts.two_eyes\n",
    "\n",
    "CONCEPT_NAME = static_concepts.two_eyes.__name__\n",
    "\n",
    "CASES_TO_SAMPLE = 100 # 25000\n"
   ]
  },
  {
   "cell_type": "code",
   "execution_count": 35,
   "metadata": {},
   "outputs": [],
   "source": [
    "def load_model(full_name, model_name, epoch):\n",
    "    model_path = full_name + model_name + \"_\" + str(epoch) + \".keras\"\n",
    "    if resnet:\n",
    "        model = ResNet(board_size, model_path)\n",
    "    else:\n",
    "        model = ConvNet(board_size, model_path)\n",
    "    return model\n",
    "\n",
    "agents = [load_model(full_model_path, model_name, epoch) for epoch in agents_to_sample]"
   ]
  },
  {
   "cell_type": "code",
   "execution_count": 37,
   "metadata": {},
   "outputs": [
    {
     "name": "stderr",
     "output_type": "stream",
     "text": [
      "Positive cases:   0%|          | 0/100 [00:06<?, ?it/s]\n",
      "Positive cases: 105it [02:25,  1.85it/s]                        "
     ]
    }
   ],
   "source": [
    "def play_match(agents, board_size, concept_function):\n",
    "    go_env = env.GoEnv(board_size)\n",
    "    go_env.reset()\n",
    "\n",
    "    player_to_start = 1 if np.random.random() > 0.5 else 0\n",
    "    current_player = player_to_start\n",
    "\n",
    "    total_moves = board_size * board_size * 4\n",
    "    moves = 0\n",
    "    random_moves = False\n",
    "\n",
    "    positive_cases = []\n",
    "    negative_cases = []\n",
    "\n",
    "    sample_ratio = 0.8\n",
    "    alpha = 1\n",
    "\n",
    "    game_over = False\n",
    "\n",
    "    prev_turn_state = np.zeros((board_size, board_size))\n",
    "    temp_prev_turn_state = np.zeros((board_size, board_size))\n",
    "    prev_opposing_state = np.zeros((board_size, board_size))\n",
    "\n",
    "    while not game_over:\n",
    "        if moves == total_moves:\n",
    "            break\n",
    "\n",
    "        state = go_env.canonical_state()\n",
    "\n",
    "        valid_moves = go_env.valid_moves()\n",
    "\n",
    "        if current_player == 0:\n",
    "            state_copy = np.array([state[0], prev_turn_state, state[1], prev_opposing_state, np.zeros((board_size, board_size))])\n",
    "        else:\n",
    "            state_copy = np.array([state[0], prev_turn_state, state[1], prev_opposing_state, np.ones((board_size, board_size))])\n",
    "    \n",
    "        if np.random.random() < sample_ratio:\n",
    "            pos = concept_function(state)\n",
    "            if pos:\n",
    "                positive_cases.append(state_copy)\n",
    "            elif not pos:\n",
    "                negative_cases.append(state_copy)\n",
    "\n",
    "        if random_moves:\n",
    "            action = go_env.uniform_random_action()\n",
    "        else:\n",
    "            action, _ = agents[current_player].best_action(state_copy, valid_moves)\n",
    "\n",
    "        _, _, game_over, _ = go_env.step(action)\n",
    "\n",
    "        moves += 1\n",
    "\n",
    "        current_player = 1 - current_player\n",
    "        # Update the previous state\n",
    "        prev_turn_state = temp_prev_turn_state\n",
    "        prev_opposing_state = state[0]\n",
    "        temp_prev_turn_state = prev_opposing_state\n",
    "    \n",
    "    return positive_cases, negative_cases\n",
    "\n",
    "positive_cases = []\n",
    "negative_cases = []\n",
    "\n",
    "positive_bar = tqdm(total=CASES_TO_SAMPLE, desc=\"Positive cases\")\n",
    "\n",
    "while len(positive_cases) < CASES_TO_SAMPLE or len(negative_cases) < CASES_TO_SAMPLE:\n",
    "    for i in range(len(agents)):\n",
    "        for j in range(i + 1, len(agents)):\n",
    "            pos, neg = play_match([agents[i], agents[j]], board_size, CONCEPT_FUNC)\n",
    "\n",
    "            positive_cases.extend(pos)\n",
    "            negative_cases.extend(neg)\n",
    "\n",
    "            positive_bar.update(len(pos))\n",
    "\n",
    "positive_cases = positive_cases[:CASES_TO_SAMPLE]\n",
    "negative_cases = negative_cases[:CASES_TO_SAMPLE]\n",
    "\n",
    "# Create numpy arrays\n",
    "positive_cases = np.array(positive_cases)\n",
    "negative_cases = np.array(negative_cases)"
   ]
  },
  {
   "cell_type": "code",
   "execution_count": 38,
   "metadata": {},
   "outputs": [
    {
     "name": "stdout",
     "output_type": "stream",
     "text": [
      "Positive cases:  (100, 5, 5, 5)\n",
      "Negative cases:  (100, 5, 5, 5)\n"
     ]
    }
   ],
   "source": [
    "# Print shapes\n",
    "print(\"Positive cases: \", positive_cases.shape)\n",
    "print(\"Negative cases: \", negative_cases.shape)"
   ]
  },
  {
   "cell_type": "code",
   "execution_count": 6,
   "metadata": {},
   "outputs": [],
   "source": [
    "# Test if there are any duplicates accross the two sets\n",
    "for i in range(len(positive_cases)):\n",
    "    for j in range(len(negative_cases)):\n",
    "        if np.array_equal(positive_cases[i], negative_cases[j]):\n",
    "            print(\"Duplicate found!\")\n",
    "            print(positive_cases[i])\n",
    "            print(negative_cases[j])\n",
    "            break"
   ]
  },
  {
   "cell_type": "code",
   "execution_count": 39,
   "metadata": {},
   "outputs": [
    {
     "name": "stdout",
     "output_type": "stream",
     "text": [
      "Duplicate count in positive cases:  0\n",
      "Duplicate count in negative:  5\n"
     ]
    }
   ],
   "source": [
    "# Find the number of any duplicates within the positive cases\n",
    "duplicate_count = 0\n",
    "for i in range(len(positive_cases)):\n",
    "    for j in range(i + 1, len(positive_cases)):\n",
    "        if np.array_equal(positive_cases[i], positive_cases[j]):\n",
    "            duplicate_count += 1\n",
    "            break\n",
    "\n",
    "print(\"Duplicate count in positive cases: \", duplicate_count)\n",
    "\n",
    "# Find the number of any duplicates within the negative cases\n",
    "duplicate_count = 0\n",
    "for i in range(len(negative_cases)):\n",
    "    for j in range(i + 1, len(negative_cases)):\n",
    "        if np.array_equal(negative_cases[i], negative_cases[j]):\n",
    "            duplicate_count += 1\n",
    "            break\n",
    "\n",
    "print(\"Duplicate count in negative: \", duplicate_count)"
   ]
  },
  {
   "cell_type": "code",
   "execution_count": null,
   "metadata": {},
   "outputs": [],
   "source": [
    "from env import gogame\n",
    "# Print all the positive cases\n",
    "for i in range(len(positive_cases)):\n",
    "    print(f\"Positive case {i}:\")\n",
    "    print(positive_cases[i])\n",
    "    print(gogame.str(positive_cases[i], nn_format=True))\n",
    "    print()"
   ]
  },
  {
   "cell_type": "code",
   "execution_count": 40,
   "metadata": {},
   "outputs": [
    {
     "name": "stdout",
     "output_type": "stream",
     "text": [
      "Positions to consider: 160\n"
     ]
    }
   ],
   "source": [
    "# Positions to consider are 80% of the total positions\n",
    "POSITIONS_TO_CONSIDER = int(0.8 * positive_cases.shape[0] * 2)\n",
    "print(f\"Positions to consider: {POSITIONS_TO_CONSIDER}\")\n",
    "#POSITIONS_TO_CONSIDER = 4000 #40000\n",
    "VALIDATION_POSITIONS = 10000 #10000\n",
    "\n",
    "BINARY = True"
   ]
  },
  {
   "cell_type": "code",
   "execution_count": 43,
   "metadata": {},
   "outputs": [
    {
     "name": "stdout",
     "output_type": "stream",
     "text": [
      "Epoch 1/10\n"
     ]
    },
    {
     "name": "stderr",
     "output_type": "stream",
     "text": [
      "2024-02-11 17:54:01.122859: I tensorflow/core/grappler/optimizers/custom_graph_optimizer_registry.cc:114] Plugin optimizer for device_type GPU is enabled.\n",
      "2024-02-11 17:54:01.151971: E tensorflow/core/grappler/optimizers/meta_optimizer.cc:954] model_pruner failed: INVALID_ARGUMENT: Graph does not contain terminal node AssignAddVariableOp_2.\n"
     ]
    },
    {
     "name": "stdout",
     "output_type": "stream",
     "text": [
      "5/5 [==============================] - ETA: 0s - loss: 0.9067"
     ]
    },
    {
     "name": "stderr",
     "output_type": "stream",
     "text": [
      "2024-02-11 17:54:01.809922: I tensorflow/core/grappler/optimizers/custom_graph_optimizer_registry.cc:114] Plugin optimizer for device_type GPU is enabled.\n"
     ]
    },
    {
     "name": "stdout",
     "output_type": "stream",
     "text": [
      "5/5 [==============================] - 1s 150ms/step - loss: 0.9067 - val_loss: 0.8216\n",
      "Epoch 2/10\n",
      "5/5 [==============================] - 0s 63ms/step - loss: 0.9022 - val_loss: 0.8181\n",
      "Epoch 3/10\n",
      "5/5 [==============================] - 0s 64ms/step - loss: 0.8983 - val_loss: 0.8146\n",
      "Epoch 4/10\n",
      "5/5 [==============================] - 0s 55ms/step - loss: 0.8941 - val_loss: 0.8113\n",
      "Epoch 5/10\n",
      "5/5 [==============================] - 0s 56ms/step - loss: 0.8901 - val_loss: 0.8081\n",
      "Epoch 6/10\n",
      "5/5 [==============================] - 0s 71ms/step - loss: 0.8869 - val_loss: 0.8048\n",
      "Epoch 7/10\n",
      "5/5 [==============================] - 0s 68ms/step - loss: 0.8824 - val_loss: 0.8020\n",
      "Epoch 8/10\n",
      "5/5 [==============================] - 0s 67ms/step - loss: 0.8796 - val_loss: 0.7990\n",
      "Epoch 9/10\n",
      "5/5 [==============================] - 0s 57ms/step - loss: 0.8760 - val_loss: 0.7962\n",
      "Epoch 10/10\n",
      "5/5 [==============================] - 0s 65ms/step - loss: 0.8724 - val_loss: 0.7935\n",
      "WARNING:tensorflow:5 out of the last 15 calls to <function Model.make_predict_function.<locals>.predict_function at 0x7fc387b5bd30> triggered tf.function retracing. Tracing is expensive and the excessive number of tracings could be due to (1) creating @tf.function repeatedly in a loop, (2) passing tensors with different shapes, (3) passing Python objects instead of tensors. For (1), please define your @tf.function outside of the loop. For (2), @tf.function has reduce_retracing=True option that can avoid unnecessary retracing. For (3), please refer to https://www.tensorflow.org/guide/function#controlling_retracing and https://www.tensorflow.org/api_docs/python/tf/function for  more details.\n",
      "5/5 [==============================] - 0s 4ms/step\n",
      "-0.08750000000000002\n",
      "2/2 [==============================] - 0s 20ms/step\n",
      "Regression score:  0.1499999999999999\n"
     ]
    },
    {
     "name": "stderr",
     "output_type": "stream",
     "text": [
      "2024-02-11 17:54:04.603661: I tensorflow/core/grappler/optimizers/custom_graph_optimizer_registry.cc:114] Plugin optimizer for device_type GPU is enabled.\n",
      "2024-02-11 17:54:04.706157: I tensorflow/core/grappler/optimizers/custom_graph_optimizer_registry.cc:114] Plugin optimizer for device_type GPU is enabled.\n"
     ]
    }
   ],
   "source": [
    "# First test if the concept can be regressed form the inputs\n",
    "name = \"input\"\n",
    "all_cases = np.concatenate([positive_cases, negative_cases])\n",
    "all_labels = [1] * positive_cases.shape[0] + [0] * negative_cases.shape[0]\n",
    "all_labels = np.array(all_labels)\n",
    "shuffled_indices = np.arange(all_labels.shape[0])\n",
    "\n",
    "np.random.shuffle(shuffled_indices)\n",
    "\n",
    "all_cases = all_cases[shuffled_indices]\n",
    "all_labels = all_labels[shuffled_indices]\n",
    "\n",
    "points = all_cases.reshape(all_cases.shape[0], -1)\n",
    "\n",
    "# Use the regression\n",
    "score = linear_regression.perform_regression(\n",
    "    points=points[:POSITIONS_TO_CONSIDER], \n",
    "    targets=all_labels[:POSITIONS_TO_CONSIDER], \n",
    "    validation_points=points[POSITIONS_TO_CONSIDER:], \n",
    "    validation_targets=all_labels[POSITIONS_TO_CONSIDER:], \n",
    "    is_binary=BINARY,\n",
    "    epochs=10\n",
    ")\n",
    "\n",
    "print(\"Regression score: \", score)\n",
    "\n",
    "# Remove the files if they exist\n",
    "if os.path.exists(f\"../concept_presences/static/{model_type}/{board_name}/{session_name}/{CONCEPT_NAME}/\"):\n",
    "    # Test if epoch folder exists\n",
    "    if os.path.exists(f\"../concept_presences/static/{model_type}/{board_name}/{session_name}/{CONCEPT_NAME}/{name}\"):\n",
    "        # Remove all files in the epoch folder\n",
    "        # Fist save the \n",
    "        for file in os.listdir(f\"../concept_presences/static/{model_type}/{board_name}/{session_name}/{CONCEPT_NAME}/{name}\"):\n",
    "            os.remove(f\"../concept_presences/static/{model_type}/{board_name}/{session_name}/{CONCEPT_NAME}/{name}/{file}\")\n",
    "\n",
    "os.makedirs(\"../concept_presences\", exist_ok=True)\n",
    "os.makedirs(\"../concept_presences/static\", exist_ok=True)\n",
    "os.makedirs(f\"../concept_presences/static/{model_type}\", exist_ok=True)\n",
    "os.makedirs(f\"../concept_presences/static/{model_type}/{board_name}\", exist_ok=True)\n",
    "os.makedirs(f\"../concept_presences/static/{model_type}/{board_name}/{session_name}\", exist_ok=True)\n",
    "os.makedirs(f\"../concept_presences/static/{model_type}/{board_name}/{session_name}/{CONCEPT_NAME}\", exist_ok=True)\n",
    "os.makedirs(f\"../concept_presences/static/{model_type}/{board_name}/{session_name}/{CONCEPT_NAME}/{name}\", exist_ok=True)\n",
    "\n",
    "random_suffix = ''.join(random.choices(string.ascii_uppercase + string.digits, k=10))\n",
    "\n",
    "# Save concept presences in json file\n",
    "with open(f\"../concept_presences/static/{model_type}/{board_name}/{session_name}/{CONCEPT_NAME}/{name}/{random_suffix}.json\", \"w\") as f:\n",
    "    json.dump(score, f)"
   ]
  },
  {
   "cell_type": "code",
   "execution_count": 46,
   "metadata": {},
   "outputs": [
    {
     "name": "stderr",
     "output_type": "stream",
     "text": [
      "Getting activation outputs: 100%|██████████| 7/7 [00:00<00:00, 74.78it/s]"
     ]
    },
    {
     "name": "stdout",
     "output_type": "stream",
     "text": [
      "Performing regression for layer 0\n",
      "Epoch 1/10\n"
     ]
    },
    {
     "name": "stderr",
     "output_type": "stream",
     "text": [
      "\n",
      "2024-02-11 18:01:06.696791: I tensorflow/core/grappler/optimizers/custom_graph_optimizer_registry.cc:114] Plugin optimizer for device_type GPU is enabled.\n",
      "2024-02-11 18:01:06.720291: E tensorflow/core/grappler/optimizers/meta_optimizer.cc:954] model_pruner failed: INVALID_ARGUMENT: Graph does not contain terminal node AssignAddVariableOp_2.\n"
     ]
    },
    {
     "name": "stdout",
     "output_type": "stream",
     "text": [
      "4/5 [=======================>......] - ETA: 0s - loss: 1.1216"
     ]
    },
    {
     "name": "stderr",
     "output_type": "stream",
     "text": [
      "2024-02-11 18:01:07.491895: I tensorflow/core/grappler/optimizers/custom_graph_optimizer_registry.cc:114] Plugin optimizer for device_type GPU is enabled.\n"
     ]
    },
    {
     "name": "stdout",
     "output_type": "stream",
     "text": [
      "5/5 [==============================] - 1s 162ms/step - loss: 1.1156 - val_loss: 1.1119\n",
      "Epoch 2/10\n",
      "5/5 [==============================] - 0s 56ms/step - loss: 1.1061 - val_loss: 1.1055\n",
      "Epoch 3/10\n",
      "5/5 [==============================] - 0s 40ms/step - loss: 1.0988 - val_loss: 1.0990\n",
      "Epoch 4/10\n",
      "5/5 [==============================] - 0s 54ms/step - loss: 1.0912 - val_loss: 1.0928\n",
      "Epoch 5/10\n",
      "5/5 [==============================] - 0s 32ms/step - loss: 1.0841 - val_loss: 1.0868\n",
      "Epoch 6/10\n",
      "5/5 [==============================] - 0s 32ms/step - loss: 1.0770 - val_loss: 1.0812\n",
      "Epoch 7/10\n",
      "5/5 [==============================] - 0s 37ms/step - loss: 1.0705 - val_loss: 1.0759\n",
      "Epoch 8/10\n",
      "5/5 [==============================] - 0s 46ms/step - loss: 1.0641 - val_loss: 1.0707\n",
      "Epoch 9/10\n",
      "5/5 [==============================] - 0s 29ms/step - loss: 1.0585 - val_loss: 1.0657\n",
      "Epoch 10/10\n",
      "5/5 [==============================] - 0s 34ms/step - loss: 1.0525 - val_loss: 1.0608\n",
      "5/5 [==============================] - 0s 4ms/step\n",
      "0.4125000000000001\n",
      "2/2 [==============================] - 0s 14ms/step\n"
     ]
    },
    {
     "name": "stderr",
     "output_type": "stream",
     "text": [
      "2024-02-11 18:01:09.549864: I tensorflow/core/grappler/optimizers/custom_graph_optimizer_registry.cc:114] Plugin optimizer for device_type GPU is enabled.\n",
      "2024-02-11 18:01:09.663882: I tensorflow/core/grappler/optimizers/custom_graph_optimizer_registry.cc:114] Plugin optimizer for device_type GPU is enabled.\n"
     ]
    },
    {
     "name": "stdout",
     "output_type": "stream",
     "text": [
      "The presence of two_eyes in resblock 0 is 0.19999999999999996\n",
      "Performing regression for layer 1\n",
      "Epoch 1/10\n"
     ]
    },
    {
     "name": "stderr",
     "output_type": "stream",
     "text": [
      "2024-02-11 18:01:12.312092: I tensorflow/core/grappler/optimizers/custom_graph_optimizer_registry.cc:114] Plugin optimizer for device_type GPU is enabled.\n",
      "2024-02-11 18:01:12.344086: E tensorflow/core/grappler/optimizers/meta_optimizer.cc:954] model_pruner failed: INVALID_ARGUMENT: Graph does not contain terminal node AssignAddVariableOp_2.\n"
     ]
    },
    {
     "name": "stdout",
     "output_type": "stream",
     "text": [
      "3/5 [=================>............] - ETA: 0s - loss: 1.1727 "
     ]
    },
    {
     "name": "stderr",
     "output_type": "stream",
     "text": [
      "2024-02-11 18:01:12.956819: I tensorflow/core/grappler/optimizers/custom_graph_optimizer_registry.cc:114] Plugin optimizer for device_type GPU is enabled.\n"
     ]
    },
    {
     "name": "stdout",
     "output_type": "stream",
     "text": [
      "5/5 [==============================] - 4s 146ms/step - loss: 1.1768 - val_loss: 1.1818\n",
      "Epoch 2/10\n",
      "5/5 [==============================] - 0s 38ms/step - loss: 1.1668 - val_loss: 1.1733\n",
      "Epoch 3/10\n",
      "5/5 [==============================] - 0s 34ms/step - loss: 1.1575 - val_loss: 1.1652\n",
      "Epoch 4/10\n",
      "5/5 [==============================] - 0s 32ms/step - loss: 1.1486 - val_loss: 1.1574\n",
      "Epoch 5/10\n",
      "5/5 [==============================] - 0s 39ms/step - loss: 1.1401 - val_loss: 1.1499\n",
      "Epoch 6/10\n",
      "5/5 [==============================] - 0s 30ms/step - loss: 1.1317 - val_loss: 1.1426\n",
      "Epoch 7/10\n",
      "5/5 [==============================] - 0s 27ms/step - loss: 1.1243 - val_loss: 1.1354\n",
      "Epoch 8/10\n",
      "5/5 [==============================] - 0s 27ms/step - loss: 1.1166 - val_loss: 1.1284\n",
      "Epoch 9/10\n",
      "5/5 [==============================] - 0s 28ms/step - loss: 1.1087 - val_loss: 1.1218\n",
      "Epoch 10/10\n",
      "5/5 [==============================] - 0s 27ms/step - loss: 1.1018 - val_loss: 1.1151\n",
      "5/5 [==============================] - 0s 3ms/step\n",
      "0.2124999999999999\n",
      "2/2 [==============================] - 0s 10ms/step\n"
     ]
    },
    {
     "name": "stderr",
     "output_type": "stream",
     "text": [
      "2024-02-11 18:01:14.688000: I tensorflow/core/grappler/optimizers/custom_graph_optimizer_registry.cc:114] Plugin optimizer for device_type GPU is enabled.\n",
      "2024-02-11 18:01:14.788273: I tensorflow/core/grappler/optimizers/custom_graph_optimizer_registry.cc:114] Plugin optimizer for device_type GPU is enabled.\n"
     ]
    },
    {
     "name": "stdout",
     "output_type": "stream",
     "text": [
      "The presence of two_eyes in resblock 1 is 0.050000000000000044\n",
      "Performing regression for layer 2\n",
      "Epoch 1/10\n"
     ]
    },
    {
     "name": "stderr",
     "output_type": "stream",
     "text": [
      "2024-02-11 18:01:15.110733: I tensorflow/core/grappler/optimizers/custom_graph_optimizer_registry.cc:114] Plugin optimizer for device_type GPU is enabled.\n",
      "2024-02-11 18:01:15.133581: E tensorflow/core/grappler/optimizers/meta_optimizer.cc:954] model_pruner failed: INVALID_ARGUMENT: Graph does not contain terminal node AssignAddVariableOp_2.\n"
     ]
    },
    {
     "name": "stdout",
     "output_type": "stream",
     "text": [
      "5/5 [==============================] - ETA: 0s - loss: 1.2058"
     ]
    },
    {
     "name": "stderr",
     "output_type": "stream",
     "text": [
      "2024-02-11 18:01:15.700983: I tensorflow/core/grappler/optimizers/custom_graph_optimizer_registry.cc:114] Plugin optimizer for device_type GPU is enabled.\n"
     ]
    },
    {
     "name": "stdout",
     "output_type": "stream",
     "text": [
      "5/5 [==============================] - 1s 131ms/step - loss: 1.2058 - val_loss: 1.1961\n",
      "Epoch 2/10\n",
      "5/5 [==============================] - 0s 41ms/step - loss: 1.1952 - val_loss: 1.1866\n",
      "Epoch 3/10\n",
      "5/5 [==============================] - 0s 32ms/step - loss: 1.1846 - val_loss: 1.1773\n",
      "Epoch 4/10\n",
      "5/5 [==============================] - 0s 27ms/step - loss: 1.1744 - val_loss: 1.1683\n",
      "Epoch 5/10\n",
      "5/5 [==============================] - 0s 28ms/step - loss: 1.1648 - val_loss: 1.1598\n",
      "Epoch 6/10\n",
      "5/5 [==============================] - 0s 32ms/step - loss: 1.1554 - val_loss: 1.1517\n",
      "Epoch 7/10\n",
      "5/5 [==============================] - 0s 29ms/step - loss: 1.1462 - val_loss: 1.1439\n",
      "Epoch 8/10\n",
      "5/5 [==============================] - 0s 26ms/step - loss: 1.1381 - val_loss: 1.1362\n",
      "Epoch 9/10\n",
      "5/5 [==============================] - 0s 27ms/step - loss: 1.1295 - val_loss: 1.1287\n",
      "Epoch 10/10\n",
      "5/5 [==============================] - 0s 27ms/step - loss: 1.1213 - val_loss: 1.1215\n",
      "5/5 [==============================] - 0s 4ms/step\n",
      "0.02499999999999991\n",
      "2/2 [==============================] - 0s 13ms/step\n"
     ]
    },
    {
     "name": "stderr",
     "output_type": "stream",
     "text": [
      "2024-02-11 18:01:17.299666: I tensorflow/core/grappler/optimizers/custom_graph_optimizer_registry.cc:114] Plugin optimizer for device_type GPU is enabled.\n",
      "2024-02-11 18:01:17.405056: I tensorflow/core/grappler/optimizers/custom_graph_optimizer_registry.cc:114] Plugin optimizer for device_type GPU is enabled.\n"
     ]
    },
    {
     "name": "stdout",
     "output_type": "stream",
     "text": [
      "The presence of two_eyes in resblock 2 is 0.050000000000000044\n"
     ]
    },
    {
     "name": "stderr",
     "output_type": "stream",
     "text": [
      "Getting activation outputs: 100%|██████████| 7/7 [00:00<00:00, 96.02it/s]"
     ]
    },
    {
     "name": "stdout",
     "output_type": "stream",
     "text": [
      "Performing regression for layer 0\n",
      "Epoch 1/10\n"
     ]
    },
    {
     "name": "stderr",
     "output_type": "stream",
     "text": [
      "\n",
      "2024-02-11 18:01:18.060732: I tensorflow/core/grappler/optimizers/custom_graph_optimizer_registry.cc:114] Plugin optimizer for device_type GPU is enabled.\n",
      "2024-02-11 18:01:18.084988: E tensorflow/core/grappler/optimizers/meta_optimizer.cc:954] model_pruner failed: INVALID_ARGUMENT: Graph does not contain terminal node AssignAddVariableOp_2.\n"
     ]
    },
    {
     "name": "stdout",
     "output_type": "stream",
     "text": [
      "5/5 [==============================] - ETA: 0s - loss: 1.1276"
     ]
    },
    {
     "name": "stderr",
     "output_type": "stream",
     "text": [
      "2024-02-11 18:01:18.644192: I tensorflow/core/grappler/optimizers/custom_graph_optimizer_registry.cc:114] Plugin optimizer for device_type GPU is enabled.\n"
     ]
    },
    {
     "name": "stdout",
     "output_type": "stream",
     "text": [
      "5/5 [==============================] - 1s 130ms/step - loss: 1.1276 - val_loss: 1.1263\n",
      "Epoch 2/10\n",
      "5/5 [==============================] - 0s 45ms/step - loss: 1.1181 - val_loss: 1.1180\n",
      "Epoch 3/10\n",
      "5/5 [==============================] - 0s 47ms/step - loss: 1.1099 - val_loss: 1.1101\n",
      "Epoch 4/10\n",
      "5/5 [==============================] - 0s 33ms/step - loss: 1.1014 - val_loss: 1.1028\n",
      "Epoch 5/10\n",
      "5/5 [==============================] - 0s 30ms/step - loss: 1.0943 - val_loss: 1.0958\n",
      "Epoch 6/10\n",
      "5/5 [==============================] - 0s 31ms/step - loss: 1.0874 - val_loss: 1.0892\n",
      "Epoch 7/10\n",
      "5/5 [==============================] - 0s 28ms/step - loss: 1.0801 - val_loss: 1.0831\n",
      "Epoch 8/10\n",
      "5/5 [==============================] - 0s 33ms/step - loss: 1.0736 - val_loss: 1.0775\n",
      "Epoch 9/10\n",
      "5/5 [==============================] - 0s 26ms/step - loss: 1.0678 - val_loss: 1.0718\n",
      "Epoch 10/10\n",
      "5/5 [==============================] - 0s 28ms/step - loss: 1.0622 - val_loss: 1.0663\n",
      "5/5 [==============================] - 0s 4ms/step\n",
      "0.2250000000000001\n",
      "2/2 [==============================] - 0s 11ms/step\n"
     ]
    },
    {
     "name": "stderr",
     "output_type": "stream",
     "text": [
      "2024-02-11 18:01:20.405109: I tensorflow/core/grappler/optimizers/custom_graph_optimizer_registry.cc:114] Plugin optimizer for device_type GPU is enabled.\n",
      "2024-02-11 18:01:20.512071: I tensorflow/core/grappler/optimizers/custom_graph_optimizer_registry.cc:114] Plugin optimizer for device_type GPU is enabled.\n"
     ]
    },
    {
     "name": "stdout",
     "output_type": "stream",
     "text": [
      "The presence of two_eyes in resblock 0 is 0.050000000000000044\n",
      "Performing regression for layer 1\n",
      "Epoch 1/10\n"
     ]
    },
    {
     "name": "stderr",
     "output_type": "stream",
     "text": [
      "2024-02-11 18:01:20.862230: I tensorflow/core/grappler/optimizers/custom_graph_optimizer_registry.cc:114] Plugin optimizer for device_type GPU is enabled.\n",
      "2024-02-11 18:01:20.887729: E tensorflow/core/grappler/optimizers/meta_optimizer.cc:954] model_pruner failed: INVALID_ARGUMENT: Graph does not contain terminal node AssignAddVariableOp_2.\n"
     ]
    },
    {
     "name": "stdout",
     "output_type": "stream",
     "text": [
      "4/5 [=======================>......] - ETA: 0s - loss: 1.2105"
     ]
    },
    {
     "name": "stderr",
     "output_type": "stream",
     "text": [
      "2024-02-11 18:01:21.510046: I tensorflow/core/grappler/optimizers/custom_graph_optimizer_registry.cc:114] Plugin optimizer for device_type GPU is enabled.\n"
     ]
    },
    {
     "name": "stdout",
     "output_type": "stream",
     "text": [
      "5/5 [==============================] - 1s 141ms/step - loss: 1.2131 - val_loss: 1.2335\n",
      "Epoch 2/10\n",
      "5/5 [==============================] - 0s 40ms/step - loss: 1.1997 - val_loss: 1.2202\n",
      "Epoch 3/10\n",
      "5/5 [==============================] - 0s 34ms/step - loss: 1.1876 - val_loss: 1.2076\n",
      "Epoch 4/10\n",
      "5/5 [==============================] - 0s 31ms/step - loss: 1.1758 - val_loss: 1.1958\n",
      "Epoch 5/10\n",
      "5/5 [==============================] - 0s 75ms/step - loss: 1.1643 - val_loss: 1.1854\n",
      "Epoch 6/10\n",
      "5/5 [==============================] - 0s 48ms/step - loss: 1.1541 - val_loss: 1.1756\n",
      "Epoch 7/10\n",
      "5/5 [==============================] - 0s 29ms/step - loss: 1.1452 - val_loss: 1.1664\n",
      "Epoch 8/10\n",
      "5/5 [==============================] - 0s 31ms/step - loss: 1.1358 - val_loss: 1.1580\n",
      "Epoch 9/10\n",
      "5/5 [==============================] - 0s 27ms/step - loss: 1.1283 - val_loss: 1.1498\n",
      "Epoch 10/10\n",
      "5/5 [==============================] - 0s 29ms/step - loss: 1.1204 - val_loss: 1.1420\n",
      "5/5 [==============================] - 0s 4ms/step\n",
      "0.050000000000000044\n",
      "1/2 [==============>...............] - ETA: 0s"
     ]
    },
    {
     "name": "stderr",
     "output_type": "stream",
     "text": [
      "2024-02-11 18:01:23.436599: I tensorflow/core/grappler/optimizers/custom_graph_optimizer_registry.cc:114] Plugin optimizer for device_type GPU is enabled.\n",
      "2024-02-11 18:01:23.578941: I tensorflow/core/grappler/optimizers/custom_graph_optimizer_registry.cc:114] Plugin optimizer for device_type GPU is enabled.\n"
     ]
    },
    {
     "name": "stdout",
     "output_type": "stream",
     "text": [
      "2/2 [==============================] - 0s 33ms/step\n",
      "The presence of two_eyes in resblock 1 is 0.10000000000000009\n",
      "Performing regression for layer 2\n",
      "Epoch 1/10\n"
     ]
    },
    {
     "name": "stderr",
     "output_type": "stream",
     "text": [
      "2024-02-11 18:01:23.997910: I tensorflow/core/grappler/optimizers/custom_graph_optimizer_registry.cc:114] Plugin optimizer for device_type GPU is enabled.\n",
      "2024-02-11 18:01:24.023147: E tensorflow/core/grappler/optimizers/meta_optimizer.cc:954] model_pruner failed: INVALID_ARGUMENT: Graph does not contain terminal node AssignAddVariableOp_2.\n"
     ]
    },
    {
     "name": "stdout",
     "output_type": "stream",
     "text": [
      "3/5 [=================>............] - ETA: 0s - loss: 1.1953"
     ]
    },
    {
     "name": "stderr",
     "output_type": "stream",
     "text": [
      "2024-02-11 18:01:24.649190: I tensorflow/core/grappler/optimizers/custom_graph_optimizer_registry.cc:114] Plugin optimizer for device_type GPU is enabled.\n"
     ]
    },
    {
     "name": "stdout",
     "output_type": "stream",
     "text": [
      "5/5 [==============================] - 1s 139ms/step - loss: 1.1916 - val_loss: 1.1808\n",
      "Epoch 2/10\n",
      "5/5 [==============================] - 0s 41ms/step - loss: 1.1777 - val_loss: 1.1697\n",
      "Epoch 3/10\n",
      "5/5 [==============================] - 0s 36ms/step - loss: 1.1664 - val_loss: 1.1594\n",
      "Epoch 4/10\n",
      "5/5 [==============================] - 0s 37ms/step - loss: 1.1558 - val_loss: 1.1498\n",
      "Epoch 5/10\n",
      "5/5 [==============================] - 0s 32ms/step - loss: 1.1460 - val_loss: 1.1409\n",
      "Epoch 6/10\n",
      "5/5 [==============================] - 0s 30ms/step - loss: 1.1357 - val_loss: 1.1328\n",
      "Epoch 7/10\n",
      "5/5 [==============================] - 0s 29ms/step - loss: 1.1278 - val_loss: 1.1249\n",
      "Epoch 8/10\n",
      "5/5 [==============================] - 0s 32ms/step - loss: 1.1191 - val_loss: 1.1175\n",
      "Epoch 9/10\n",
      "5/5 [==============================] - 0s 33ms/step - loss: 1.1113 - val_loss: 1.1103\n",
      "Epoch 10/10\n",
      "5/5 [==============================] - 0s 33ms/step - loss: 1.1037 - val_loss: 1.1034\n",
      "5/5 [==============================] - 0s 5ms/step\n",
      "0.26249999999999996\n",
      "2/2 [==============================] - 0s 18ms/step\n"
     ]
    },
    {
     "name": "stderr",
     "output_type": "stream",
     "text": [
      "2024-02-11 18:01:26.405421: I tensorflow/core/grappler/optimizers/custom_graph_optimizer_registry.cc:114] Plugin optimizer for device_type GPU is enabled.\n",
      "2024-02-11 18:01:26.526311: I tensorflow/core/grappler/optimizers/custom_graph_optimizer_registry.cc:114] Plugin optimizer for device_type GPU is enabled.\n"
     ]
    },
    {
     "name": "stdout",
     "output_type": "stream",
     "text": [
      "The presence of two_eyes in resblock 2 is 0.19999999999999996\n"
     ]
    },
    {
     "name": "stderr",
     "output_type": "stream",
     "text": [
      "Getting activation outputs: 100%|██████████| 7/7 [00:00<00:00, 64.94it/s]"
     ]
    },
    {
     "name": "stdout",
     "output_type": "stream",
     "text": [
      "Performing regression for layer 0\n",
      "Epoch 1/10\n"
     ]
    },
    {
     "name": "stderr",
     "output_type": "stream",
     "text": [
      "\n",
      "2024-02-11 18:01:27.286944: I tensorflow/core/grappler/optimizers/custom_graph_optimizer_registry.cc:114] Plugin optimizer for device_type GPU is enabled.\n",
      "2024-02-11 18:01:27.314403: E tensorflow/core/grappler/optimizers/meta_optimizer.cc:954] model_pruner failed: INVALID_ARGUMENT: Graph does not contain terminal node AssignAddVariableOp_2.\n"
     ]
    },
    {
     "name": "stdout",
     "output_type": "stream",
     "text": [
      "4/5 [=======================>......] - ETA: 0s - loss: 1.0676"
     ]
    },
    {
     "name": "stderr",
     "output_type": "stream",
     "text": [
      "2024-02-11 18:01:28.159901: I tensorflow/core/grappler/optimizers/custom_graph_optimizer_registry.cc:114] Plugin optimizer for device_type GPU is enabled.\n"
     ]
    },
    {
     "name": "stdout",
     "output_type": "stream",
     "text": [
      "5/5 [==============================] - 2s 206ms/step - loss: 1.0584 - val_loss: 1.1304\n",
      "Epoch 2/10\n",
      "5/5 [==============================] - 1s 118ms/step - loss: 1.0507 - val_loss: 1.1227\n",
      "Epoch 3/10\n",
      "5/5 [==============================] - 0s 87ms/step - loss: 1.0434 - val_loss: 1.1149\n",
      "Epoch 4/10\n",
      "5/5 [==============================] - 1s 135ms/step - loss: 1.0362 - val_loss: 1.1076\n",
      "Epoch 5/10\n",
      "5/5 [==============================] - 0s 71ms/step - loss: 1.0295 - val_loss: 1.1001\n",
      "Epoch 6/10\n",
      "5/5 [==============================] - 0s 29ms/step - loss: 1.0228 - val_loss: 1.0928\n",
      "Epoch 7/10\n",
      "5/5 [==============================] - 0s 28ms/step - loss: 1.0158 - val_loss: 1.0860\n",
      "Epoch 8/10\n",
      "5/5 [==============================] - 0s 26ms/step - loss: 1.0093 - val_loss: 1.0790\n",
      "Epoch 9/10\n",
      "5/5 [==============================] - 0s 28ms/step - loss: 1.0025 - val_loss: 1.0728\n",
      "Epoch 10/10\n",
      "5/5 [==============================] - 0s 27ms/step - loss: 0.9964 - val_loss: 1.0661\n",
      "5/5 [==============================] - 0s 4ms/step\n",
      "0.32499999999999996\n",
      "2/2 [==============================] - 0s 13ms/step\n"
     ]
    },
    {
     "name": "stderr",
     "output_type": "stream",
     "text": [
      "2024-02-11 18:01:31.213142: I tensorflow/core/grappler/optimizers/custom_graph_optimizer_registry.cc:114] Plugin optimizer for device_type GPU is enabled.\n",
      "2024-02-11 18:01:31.320557: I tensorflow/core/grappler/optimizers/custom_graph_optimizer_registry.cc:114] Plugin optimizer for device_type GPU is enabled.\n"
     ]
    },
    {
     "name": "stdout",
     "output_type": "stream",
     "text": [
      "The presence of two_eyes in resblock 0 is 0.050000000000000044\n",
      "Performing regression for layer 1\n",
      "Epoch 1/10\n"
     ]
    },
    {
     "name": "stderr",
     "output_type": "stream",
     "text": [
      "2024-02-11 18:01:31.650535: I tensorflow/core/grappler/optimizers/custom_graph_optimizer_registry.cc:114] Plugin optimizer for device_type GPU is enabled.\n",
      "2024-02-11 18:01:31.675458: E tensorflow/core/grappler/optimizers/meta_optimizer.cc:954] model_pruner failed: INVALID_ARGUMENT: Graph does not contain terminal node AssignAddVariableOp_2.\n"
     ]
    },
    {
     "name": "stdout",
     "output_type": "stream",
     "text": [
      "3/5 [=================>............] - ETA: 0s - loss: 1.3567"
     ]
    },
    {
     "name": "stderr",
     "output_type": "stream",
     "text": [
      "2024-02-11 18:01:32.257866: I tensorflow/core/grappler/optimizers/custom_graph_optimizer_registry.cc:114] Plugin optimizer for device_type GPU is enabled.\n"
     ]
    },
    {
     "name": "stdout",
     "output_type": "stream",
     "text": [
      "5/5 [==============================] - 1s 136ms/step - loss: 1.3276 - val_loss: 1.2893\n",
      "Epoch 2/10\n",
      "5/5 [==============================] - 0s 38ms/step - loss: 1.2975 - val_loss: 1.2672\n",
      "Epoch 3/10\n",
      "5/5 [==============================] - 0s 40ms/step - loss: 1.2721 - val_loss: 1.2475\n",
      "Epoch 4/10\n",
      "5/5 [==============================] - 0s 34ms/step - loss: 1.2457 - val_loss: 1.2305\n",
      "Epoch 5/10\n",
      "5/5 [==============================] - 0s 90ms/step - loss: 1.2265 - val_loss: 1.2150\n",
      "Epoch 6/10\n",
      "5/5 [==============================] - 0s 36ms/step - loss: 1.2077 - val_loss: 1.2014\n",
      "Epoch 7/10\n",
      "5/5 [==============================] - 0s 51ms/step - loss: 1.1917 - val_loss: 1.1893\n",
      "Epoch 8/10\n",
      "5/5 [==============================] - 0s 39ms/step - loss: 1.1766 - val_loss: 1.1786\n",
      "Epoch 9/10\n",
      "5/5 [==============================] - 0s 30ms/step - loss: 1.1627 - val_loss: 1.1691\n",
      "Epoch 10/10\n",
      "5/5 [==============================] - 0s 28ms/step - loss: 1.1501 - val_loss: 1.1604\n",
      "5/5 [==============================] - 0s 4ms/step\n",
      "0.125\n",
      "2/2 [==============================] - 0s 10ms/step\n",
      "The presence of two_eyes in resblock 1 is 0.10000000000000009\n",
      "Performing regression for layer 2\n"
     ]
    },
    {
     "name": "stderr",
     "output_type": "stream",
     "text": [
      "2024-02-11 18:01:34.382630: I tensorflow/core/grappler/optimizers/custom_graph_optimizer_registry.cc:114] Plugin optimizer for device_type GPU is enabled.\n",
      "2024-02-11 18:01:34.485628: I tensorflow/core/grappler/optimizers/custom_graph_optimizer_registry.cc:114] Plugin optimizer for device_type GPU is enabled.\n"
     ]
    },
    {
     "name": "stdout",
     "output_type": "stream",
     "text": [
      "Epoch 1/10\n"
     ]
    },
    {
     "name": "stderr",
     "output_type": "stream",
     "text": [
      "2024-02-11 18:01:34.803431: I tensorflow/core/grappler/optimizers/custom_graph_optimizer_registry.cc:114] Plugin optimizer for device_type GPU is enabled.\n",
      "2024-02-11 18:01:34.827452: E tensorflow/core/grappler/optimizers/meta_optimizer.cc:954] model_pruner failed: INVALID_ARGUMENT: Graph does not contain terminal node AssignAddVariableOp_2.\n"
     ]
    },
    {
     "name": "stdout",
     "output_type": "stream",
     "text": [
      "3/5 [=================>............] - ETA: 0s - loss: 1.2037"
     ]
    },
    {
     "name": "stderr",
     "output_type": "stream",
     "text": [
      "2024-02-11 18:01:35.389192: I tensorflow/core/grappler/optimizers/custom_graph_optimizer_registry.cc:114] Plugin optimizer for device_type GPU is enabled.\n"
     ]
    },
    {
     "name": "stdout",
     "output_type": "stream",
     "text": [
      "5/5 [==============================] - 1s 133ms/step - loss: 1.2010 - val_loss: 1.1997\n",
      "Epoch 2/10\n",
      "5/5 [==============================] - 0s 35ms/step - loss: 1.1892 - val_loss: 1.1908\n",
      "Epoch 3/10\n",
      "5/5 [==============================] - 0s 33ms/step - loss: 1.1780 - val_loss: 1.1820\n",
      "Epoch 4/10\n",
      "5/5 [==============================] - 0s 25ms/step - loss: 1.1679 - val_loss: 1.1737\n",
      "Epoch 5/10\n",
      "5/5 [==============================] - 0s 38ms/step - loss: 1.1573 - val_loss: 1.1653\n",
      "Epoch 6/10\n",
      "5/5 [==============================] - 0s 26ms/step - loss: 1.1471 - val_loss: 1.1572\n",
      "Epoch 7/10\n",
      "5/5 [==============================] - 0s 37ms/step - loss: 1.1371 - val_loss: 1.1490\n",
      "Epoch 8/10\n",
      "5/5 [==============================] - 0s 26ms/step - loss: 1.1277 - val_loss: 1.1412\n",
      "Epoch 9/10\n",
      "5/5 [==============================] - 0s 35ms/step - loss: 1.1179 - val_loss: 1.1333\n",
      "Epoch 10/10\n",
      "5/5 [==============================] - 0s 28ms/step - loss: 1.1089 - val_loss: 1.1256\n",
      "5/5 [==============================] - 0s 10ms/step\n",
      "0.11250000000000004\n",
      "2/2 [==============================] - 0s 12ms/step\n"
     ]
    },
    {
     "name": "stderr",
     "output_type": "stream",
     "text": [
      "2024-02-11 18:01:37.057584: I tensorflow/core/grappler/optimizers/custom_graph_optimizer_registry.cc:114] Plugin optimizer for device_type GPU is enabled.\n",
      "2024-02-11 18:01:37.198412: I tensorflow/core/grappler/optimizers/custom_graph_optimizer_registry.cc:114] Plugin optimizer for device_type GPU is enabled.\n"
     ]
    },
    {
     "name": "stdout",
     "output_type": "stream",
     "text": [
      "The presence of two_eyes in resblock 2 is 0.1499999999999999\n"
     ]
    },
    {
     "name": "stderr",
     "output_type": "stream",
     "text": [
      "Getting activation outputs: 100%|██████████| 7/7 [00:00<00:00, 103.21it/s]"
     ]
    },
    {
     "name": "stdout",
     "output_type": "stream",
     "text": [
      "Performing regression for layer 0\n",
      "Epoch 1/10\n"
     ]
    },
    {
     "name": "stderr",
     "output_type": "stream",
     "text": [
      "\n",
      "2024-02-11 18:01:37.829686: I tensorflow/core/grappler/optimizers/custom_graph_optimizer_registry.cc:114] Plugin optimizer for device_type GPU is enabled.\n",
      "2024-02-11 18:01:37.862762: E tensorflow/core/grappler/optimizers/meta_optimizer.cc:954] model_pruner failed: INVALID_ARGUMENT: Graph does not contain terminal node AssignAddVariableOp_2.\n"
     ]
    },
    {
     "name": "stdout",
     "output_type": "stream",
     "text": [
      "5/5 [==============================] - ETA: 0s - loss: 1.1620"
     ]
    },
    {
     "name": "stderr",
     "output_type": "stream",
     "text": [
      "2024-02-11 18:01:38.504311: I tensorflow/core/grappler/optimizers/custom_graph_optimizer_registry.cc:114] Plugin optimizer for device_type GPU is enabled.\n"
     ]
    },
    {
     "name": "stdout",
     "output_type": "stream",
     "text": [
      "5/5 [==============================] - 1s 152ms/step - loss: 1.1620 - val_loss: 1.1377\n",
      "Epoch 2/10\n",
      "5/5 [==============================] - 0s 60ms/step - loss: 1.1484 - val_loss: 1.1277\n",
      "Epoch 3/10\n",
      "5/5 [==============================] - 0s 48ms/step - loss: 1.1380 - val_loss: 1.1185\n",
      "Epoch 4/10\n",
      "5/5 [==============================] - 0s 26ms/step - loss: 1.1259 - val_loss: 1.1107\n",
      "Epoch 5/10\n",
      "5/5 [==============================] - 0s 27ms/step - loss: 1.1157 - val_loss: 1.1034\n",
      "Epoch 6/10\n",
      "5/5 [==============================] - 0s 45ms/step - loss: 1.1061 - val_loss: 1.0965\n",
      "Epoch 7/10\n",
      "5/5 [==============================] - 0s 32ms/step - loss: 1.0985 - val_loss: 1.0898\n",
      "Epoch 8/10\n",
      "5/5 [==============================] - 0s 35ms/step - loss: 1.0895 - val_loss: 1.0832\n",
      "Epoch 9/10\n",
      "5/5 [==============================] - 0s 34ms/step - loss: 1.0816 - val_loss: 1.0769\n",
      "Epoch 10/10\n",
      "5/5 [==============================] - 0s 29ms/step - loss: 1.0740 - val_loss: 1.0706\n",
      "5/5 [==============================] - 0s 4ms/step\n",
      "0.07499999999999996\n",
      "2/2 [==============================] - 0s 12ms/step\n"
     ]
    },
    {
     "name": "stderr",
     "output_type": "stream",
     "text": [
      "2024-02-11 18:01:40.535781: I tensorflow/core/grappler/optimizers/custom_graph_optimizer_registry.cc:114] Plugin optimizer for device_type GPU is enabled.\n",
      "2024-02-11 18:01:40.641254: I tensorflow/core/grappler/optimizers/custom_graph_optimizer_registry.cc:114] Plugin optimizer for device_type GPU is enabled.\n"
     ]
    },
    {
     "name": "stdout",
     "output_type": "stream",
     "text": [
      "The presence of two_eyes in resblock 0 is 0.10000000000000009\n",
      "Performing regression for layer 1\n",
      "Epoch 1/10\n"
     ]
    },
    {
     "name": "stderr",
     "output_type": "stream",
     "text": [
      "2024-02-11 18:01:40.994858: I tensorflow/core/grappler/optimizers/custom_graph_optimizer_registry.cc:114] Plugin optimizer for device_type GPU is enabled.\n",
      "2024-02-11 18:01:41.023320: E tensorflow/core/grappler/optimizers/meta_optimizer.cc:954] model_pruner failed: INVALID_ARGUMENT: Graph does not contain terminal node AssignAddVariableOp_2.\n"
     ]
    },
    {
     "name": "stdout",
     "output_type": "stream",
     "text": [
      "5/5 [==============================] - ETA: 0s - loss: 1.2043"
     ]
    },
    {
     "name": "stderr",
     "output_type": "stream",
     "text": [
      "2024-02-11 18:01:41.619097: I tensorflow/core/grappler/optimizers/custom_graph_optimizer_registry.cc:114] Plugin optimizer for device_type GPU is enabled.\n"
     ]
    },
    {
     "name": "stdout",
     "output_type": "stream",
     "text": [
      "5/5 [==============================] - 1s 147ms/step - loss: 1.2043 - val_loss: 1.1896\n",
      "Epoch 2/10\n",
      "5/5 [==============================] - 0s 38ms/step - loss: 1.1885 - val_loss: 1.1746\n",
      "Epoch 3/10\n",
      "5/5 [==============================] - 0s 31ms/step - loss: 1.1759 - val_loss: 1.1599\n",
      "Epoch 4/10\n",
      "5/5 [==============================] - 0s 30ms/step - loss: 1.1624 - val_loss: 1.1463\n",
      "Epoch 5/10\n",
      "5/5 [==============================] - 0s 30ms/step - loss: 1.1506 - val_loss: 1.1335\n",
      "Epoch 6/10\n",
      "5/5 [==============================] - 0s 28ms/step - loss: 1.1388 - val_loss: 1.1216\n",
      "Epoch 7/10\n",
      "5/5 [==============================] - 0s 26ms/step - loss: 1.1283 - val_loss: 1.1100\n",
      "Epoch 8/10\n",
      "5/5 [==============================] - 0s 26ms/step - loss: 1.1170 - val_loss: 1.0995\n",
      "Epoch 9/10\n",
      "5/5 [==============================] - 0s 27ms/step - loss: 1.1068 - val_loss: 1.0892\n",
      "Epoch 10/10\n",
      "5/5 [==============================] - 0s 27ms/step - loss: 1.0967 - val_loss: 1.0793\n",
      "5/5 [==============================] - 0s 4ms/step\n",
      "0.19999999999999996\n",
      "2/2 [==============================] - 0s 13ms/step\n"
     ]
    },
    {
     "name": "stderr",
     "output_type": "stream",
     "text": [
      "2024-02-11 18:01:43.237151: I tensorflow/core/grappler/optimizers/custom_graph_optimizer_registry.cc:114] Plugin optimizer for device_type GPU is enabled.\n",
      "2024-02-11 18:01:43.351876: I tensorflow/core/grappler/optimizers/custom_graph_optimizer_registry.cc:114] Plugin optimizer for device_type GPU is enabled.\n"
     ]
    },
    {
     "name": "stdout",
     "output_type": "stream",
     "text": [
      "The presence of two_eyes in resblock 1 is 0.3999999999999999\n",
      "Performing regression for layer 2\n",
      "Epoch 1/10\n"
     ]
    },
    {
     "name": "stderr",
     "output_type": "stream",
     "text": [
      "2024-02-11 18:01:43.694039: I tensorflow/core/grappler/optimizers/custom_graph_optimizer_registry.cc:114] Plugin optimizer for device_type GPU is enabled.\n",
      "2024-02-11 18:01:43.720379: E tensorflow/core/grappler/optimizers/meta_optimizer.cc:954] model_pruner failed: INVALID_ARGUMENT: Graph does not contain terminal node AssignAddVariableOp_2.\n"
     ]
    },
    {
     "name": "stdout",
     "output_type": "stream",
     "text": [
      "5/5 [==============================] - ETA: 0s - loss: 1.1722"
     ]
    },
    {
     "name": "stderr",
     "output_type": "stream",
     "text": [
      "2024-02-11 18:01:44.288276: I tensorflow/core/grappler/optimizers/custom_graph_optimizer_registry.cc:114] Plugin optimizer for device_type GPU is enabled.\n"
     ]
    },
    {
     "name": "stdout",
     "output_type": "stream",
     "text": [
      "5/5 [==============================] - 1s 132ms/step - loss: 1.1722 - val_loss: 1.1517\n",
      "Epoch 2/10\n",
      "5/5 [==============================] - 0s 38ms/step - loss: 1.1619 - val_loss: 1.1434\n",
      "Epoch 3/10\n",
      "5/5 [==============================] - 0s 34ms/step - loss: 1.1523 - val_loss: 1.1354\n",
      "Epoch 4/10\n",
      "5/5 [==============================] - 0s 34ms/step - loss: 1.1429 - val_loss: 1.1273\n",
      "Epoch 5/10\n",
      "5/5 [==============================] - 0s 30ms/step - loss: 1.1340 - val_loss: 1.1193\n",
      "Epoch 6/10\n",
      "5/5 [==============================] - 0s 25ms/step - loss: 1.1248 - val_loss: 1.1116\n",
      "Epoch 7/10\n",
      "5/5 [==============================] - 0s 25ms/step - loss: 1.1155 - val_loss: 1.1038\n",
      "Epoch 8/10\n",
      "5/5 [==============================] - 0s 25ms/step - loss: 1.1067 - val_loss: 1.0963\n",
      "Epoch 9/10\n",
      "5/5 [==============================] - 0s 25ms/step - loss: 1.0982 - val_loss: 1.0886\n",
      "Epoch 10/10\n",
      "5/5 [==============================] - 0s 28ms/step - loss: 1.0893 - val_loss: 1.0810\n",
      "5/5 [==============================] - 0s 5ms/step\n",
      "0.08749999999999991\n",
      "2/2 [==============================] - 0s 12ms/step\n"
     ]
    },
    {
     "name": "stderr",
     "output_type": "stream",
     "text": [
      "2024-02-11 18:01:45.900339: I tensorflow/core/grappler/optimizers/custom_graph_optimizer_registry.cc:114] Plugin optimizer for device_type GPU is enabled.\n",
      "2024-02-11 18:01:46.019343: I tensorflow/core/grappler/optimizers/custom_graph_optimizer_registry.cc:114] Plugin optimizer for device_type GPU is enabled.\n"
     ]
    },
    {
     "name": "stdout",
     "output_type": "stream",
     "text": [
      "The presence of two_eyes in resblock 2 is 0.19999999999999996\n"
     ]
    },
    {
     "name": "stderr",
     "output_type": "stream",
     "text": [
      "Getting activation outputs: 100%|██████████| 7/7 [00:00<00:00, 113.94it/s]"
     ]
    },
    {
     "name": "stdout",
     "output_type": "stream",
     "text": [
      "Performing regression for layer 0\n",
      "Epoch 1/10\n"
     ]
    },
    {
     "name": "stderr",
     "output_type": "stream",
     "text": [
      "\n",
      "2024-02-11 18:01:46.684750: I tensorflow/core/grappler/optimizers/custom_graph_optimizer_registry.cc:114] Plugin optimizer for device_type GPU is enabled.\n",
      "2024-02-11 18:01:46.711642: E tensorflow/core/grappler/optimizers/meta_optimizer.cc:954] model_pruner failed: INVALID_ARGUMENT: Graph does not contain terminal node AssignAddVariableOp_2.\n"
     ]
    },
    {
     "name": "stdout",
     "output_type": "stream",
     "text": [
      "5/5 [==============================] - ETA: 0s - loss: 1.1456"
     ]
    },
    {
     "name": "stderr",
     "output_type": "stream",
     "text": [
      "2024-02-11 18:01:47.300972: I tensorflow/core/grappler/optimizers/custom_graph_optimizer_registry.cc:114] Plugin optimizer for device_type GPU is enabled.\n"
     ]
    },
    {
     "name": "stdout",
     "output_type": "stream",
     "text": [
      "5/5 [==============================] - 1s 137ms/step - loss: 1.1456 - val_loss: 1.1077\n",
      "Epoch 2/10\n",
      "5/5 [==============================] - 0s 51ms/step - loss: 1.1343 - val_loss: 1.0992\n",
      "Epoch 3/10\n",
      "5/5 [==============================] - 0s 27ms/step - loss: 1.1234 - val_loss: 1.0906\n",
      "Epoch 4/10\n",
      "5/5 [==============================] - 0s 40ms/step - loss: 1.1128 - val_loss: 1.0821\n",
      "Epoch 5/10\n",
      "5/5 [==============================] - 0s 26ms/step - loss: 1.1026 - val_loss: 1.0738\n",
      "Epoch 6/10\n",
      "5/5 [==============================] - 0s 25ms/step - loss: 1.0923 - val_loss: 1.0656\n",
      "Epoch 7/10\n",
      "5/5 [==============================] - 0s 28ms/step - loss: 1.0822 - val_loss: 1.0577\n",
      "Epoch 8/10\n",
      "5/5 [==============================] - 0s 27ms/step - loss: 1.0722 - val_loss: 1.0500\n",
      "Epoch 9/10\n",
      "5/5 [==============================] - 0s 24ms/step - loss: 1.0627 - val_loss: 1.0426\n",
      "Epoch 10/10\n",
      "5/5 [==============================] - 0s 28ms/step - loss: 1.0534 - val_loss: 1.0354\n",
      "5/5 [==============================] - 0s 4ms/step\n",
      "0.3125\n",
      "2/2 [==============================] - 0s 11ms/step\n"
     ]
    },
    {
     "name": "stderr",
     "output_type": "stream",
     "text": [
      "2024-02-11 18:01:49.006114: I tensorflow/core/grappler/optimizers/custom_graph_optimizer_registry.cc:114] Plugin optimizer for device_type GPU is enabled.\n",
      "2024-02-11 18:01:49.121187: I tensorflow/core/grappler/optimizers/custom_graph_optimizer_registry.cc:114] Plugin optimizer for device_type GPU is enabled.\n"
     ]
    },
    {
     "name": "stdout",
     "output_type": "stream",
     "text": [
      "The presence of two_eyes in resblock 0 is 0.25\n",
      "Performing regression for layer 1\n",
      "Epoch 1/10\n"
     ]
    },
    {
     "name": "stderr",
     "output_type": "stream",
     "text": [
      "2024-02-11 18:01:49.464142: I tensorflow/core/grappler/optimizers/custom_graph_optimizer_registry.cc:114] Plugin optimizer for device_type GPU is enabled.\n",
      "2024-02-11 18:01:49.487069: E tensorflow/core/grappler/optimizers/meta_optimizer.cc:954] model_pruner failed: INVALID_ARGUMENT: Graph does not contain terminal node AssignAddVariableOp_2.\n"
     ]
    },
    {
     "name": "stdout",
     "output_type": "stream",
     "text": [
      "5/5 [==============================] - ETA: 0s - loss: 1.1922"
     ]
    },
    {
     "name": "stderr",
     "output_type": "stream",
     "text": [
      "2024-02-11 18:01:50.261335: I tensorflow/core/grappler/optimizers/custom_graph_optimizer_registry.cc:114] Plugin optimizer for device_type GPU is enabled.\n"
     ]
    },
    {
     "name": "stdout",
     "output_type": "stream",
     "text": [
      "5/5 [==============================] - 1s 198ms/step - loss: 1.1922 - val_loss: 1.1663\n",
      "Epoch 2/10\n",
      "5/5 [==============================] - 1s 106ms/step - loss: 1.1782 - val_loss: 1.1554\n",
      "Epoch 3/10\n",
      "5/5 [==============================] - 1s 118ms/step - loss: 1.1647 - val_loss: 1.1450\n",
      "Epoch 4/10\n",
      "5/5 [==============================] - 0s 94ms/step - loss: 1.1513 - val_loss: 1.1350\n",
      "Epoch 5/10\n",
      "5/5 [==============================] - 0s 41ms/step - loss: 1.1397 - val_loss: 1.1251\n",
      "Epoch 6/10\n",
      "5/5 [==============================] - 0s 80ms/step - loss: 1.1270 - val_loss: 1.1157\n",
      "Epoch 7/10\n",
      "5/5 [==============================] - 0s 27ms/step - loss: 1.1152 - val_loss: 1.1065\n",
      "Epoch 8/10\n",
      "5/5 [==============================] - 0s 26ms/step - loss: 1.1037 - val_loss: 1.0976\n",
      "Epoch 9/10\n",
      "5/5 [==============================] - 0s 37ms/step - loss: 1.0923 - val_loss: 1.0887\n",
      "Epoch 10/10\n",
      "5/5 [==============================] - 0s 26ms/step - loss: 1.0814 - val_loss: 1.0800\n",
      "5/5 [==============================] - 0s 4ms/step\n",
      "0.4125000000000001\n",
      "2/2 [==============================] - 0s 14ms/step\n",
      "The presence of two_eyes in resblock 1 is 0.3500000000000001\n",
      "Performing regression for layer 2\n"
     ]
    },
    {
     "name": "stderr",
     "output_type": "stream",
     "text": [
      "2024-02-11 18:01:53.365233: I tensorflow/core/grappler/optimizers/custom_graph_optimizer_registry.cc:114] Plugin optimizer for device_type GPU is enabled.\n",
      "2024-02-11 18:01:53.467145: I tensorflow/core/grappler/optimizers/custom_graph_optimizer_registry.cc:114] Plugin optimizer for device_type GPU is enabled.\n"
     ]
    },
    {
     "name": "stdout",
     "output_type": "stream",
     "text": [
      "Epoch 1/10\n"
     ]
    },
    {
     "name": "stderr",
     "output_type": "stream",
     "text": [
      "2024-02-11 18:01:53.780605: I tensorflow/core/grappler/optimizers/custom_graph_optimizer_registry.cc:114] Plugin optimizer for device_type GPU is enabled.\n",
      "2024-02-11 18:01:53.811596: E tensorflow/core/grappler/optimizers/meta_optimizer.cc:954] model_pruner failed: INVALID_ARGUMENT: Graph does not contain terminal node AssignAddVariableOp_2.\n"
     ]
    },
    {
     "name": "stdout",
     "output_type": "stream",
     "text": [
      "3/5 [=================>............] - ETA: 0s - loss: 1.1761"
     ]
    },
    {
     "name": "stderr",
     "output_type": "stream",
     "text": [
      "2024-02-11 18:01:54.400987: I tensorflow/core/grappler/optimizers/custom_graph_optimizer_registry.cc:114] Plugin optimizer for device_type GPU is enabled.\n"
     ]
    },
    {
     "name": "stdout",
     "output_type": "stream",
     "text": [
      "5/5 [==============================] - 1s 134ms/step - loss: 1.1544 - val_loss: 1.1420\n",
      "Epoch 2/10\n",
      "5/5 [==============================] - 0s 39ms/step - loss: 1.1446 - val_loss: 1.1349\n",
      "Epoch 3/10\n",
      "5/5 [==============================] - 0s 31ms/step - loss: 1.1353 - val_loss: 1.1281\n",
      "Epoch 4/10\n",
      "5/5 [==============================] - 0s 25ms/step - loss: 1.1266 - val_loss: 1.1215\n",
      "Epoch 5/10\n",
      "5/5 [==============================] - 0s 31ms/step - loss: 1.1177 - val_loss: 1.1150\n",
      "Epoch 6/10\n",
      "5/5 [==============================] - 0s 37ms/step - loss: 1.1090 - val_loss: 1.1086\n",
      "Epoch 7/10\n",
      "5/5 [==============================] - 1s 125ms/step - loss: 1.1007 - val_loss: 1.1024\n",
      "Epoch 8/10\n",
      "5/5 [==============================] - 0s 102ms/step - loss: 1.0924 - val_loss: 1.0961\n",
      "Epoch 9/10\n",
      "5/5 [==============================] - 0s 29ms/step - loss: 1.0842 - val_loss: 1.0899\n",
      "Epoch 10/10\n",
      "5/5 [==============================] - 0s 26ms/step - loss: 1.0759 - val_loss: 1.0838\n",
      "5/5 [==============================] - 0s 8ms/step\n",
      "0.3999999999999999\n",
      "1/2 [==============>...............] - ETA: 0s"
     ]
    },
    {
     "name": "stderr",
     "output_type": "stream",
     "text": [
      "2024-02-11 18:01:56.884821: I tensorflow/core/grappler/optimizers/custom_graph_optimizer_registry.cc:114] Plugin optimizer for device_type GPU is enabled.\n",
      "2024-02-11 18:01:57.047260: I tensorflow/core/grappler/optimizers/custom_graph_optimizer_registry.cc:114] Plugin optimizer for device_type GPU is enabled.\n"
     ]
    },
    {
     "name": "stdout",
     "output_type": "stream",
     "text": [
      "2/2 [==============================] - 0s 21ms/step\n",
      "The presence of two_eyes in resblock 2 is 0.19999999999999996\n"
     ]
    },
    {
     "name": "stderr",
     "output_type": "stream",
     "text": [
      "Getting activation outputs: 100%|██████████| 7/7 [00:00<00:00, 25.84it/s]\n"
     ]
    },
    {
     "name": "stdout",
     "output_type": "stream",
     "text": [
      "Performing regression for layer 0\n",
      "Epoch 1/10\n"
     ]
    },
    {
     "name": "stderr",
     "output_type": "stream",
     "text": [
      "2024-02-11 18:01:58.220339: I tensorflow/core/grappler/optimizers/custom_graph_optimizer_registry.cc:114] Plugin optimizer for device_type GPU is enabled.\n",
      "2024-02-11 18:01:58.250138: E tensorflow/core/grappler/optimizers/meta_optimizer.cc:954] model_pruner failed: INVALID_ARGUMENT: Graph does not contain terminal node AssignAddVariableOp_2.\n"
     ]
    },
    {
     "name": "stdout",
     "output_type": "stream",
     "text": [
      "5/5 [==============================] - ETA: 0s - loss: 1.1295"
     ]
    },
    {
     "name": "stderr",
     "output_type": "stream",
     "text": [
      "2024-02-11 18:01:59.151235: I tensorflow/core/grappler/optimizers/custom_graph_optimizer_registry.cc:114] Plugin optimizer for device_type GPU is enabled.\n"
     ]
    },
    {
     "name": "stdout",
     "output_type": "stream",
     "text": [
      "5/5 [==============================] - 2s 206ms/step - loss: 1.1295 - val_loss: 1.1147\n",
      "Epoch 2/10\n",
      "5/5 [==============================] - 0s 49ms/step - loss: 1.1171 - val_loss: 1.1084\n",
      "Epoch 3/10\n",
      "5/5 [==============================] - 0s 105ms/step - loss: 1.1052 - val_loss: 1.1022\n",
      "Epoch 4/10\n",
      "5/5 [==============================] - 0s 43ms/step - loss: 1.0931 - val_loss: 1.0957\n",
      "Epoch 5/10\n",
      "5/5 [==============================] - 1s 123ms/step - loss: 1.0815 - val_loss: 1.0891\n",
      "Epoch 6/10\n",
      "5/5 [==============================] - 0s 32ms/step - loss: 1.0714 - val_loss: 1.0834\n",
      "Epoch 7/10\n",
      "5/5 [==============================] - 0s 36ms/step - loss: 1.0600 - val_loss: 1.0767\n",
      "Epoch 8/10\n",
      "5/5 [==============================] - 0s 28ms/step - loss: 1.0496 - val_loss: 1.0706\n",
      "Epoch 9/10\n",
      "5/5 [==============================] - 0s 29ms/step - loss: 1.0397 - val_loss: 1.0643\n",
      "Epoch 10/10\n",
      "5/5 [==============================] - 0s 30ms/step - loss: 1.0298 - val_loss: 1.0581\n",
      "5/5 [==============================] - 0s 5ms/step\n",
      "0.25\n",
      "2/2 [==============================] - 0s 17ms/step\n"
     ]
    },
    {
     "name": "stderr",
     "output_type": "stream",
     "text": [
      "2024-02-11 18:02:01.782487: I tensorflow/core/grappler/optimizers/custom_graph_optimizer_registry.cc:114] Plugin optimizer for device_type GPU is enabled.\n",
      "2024-02-11 18:02:01.905846: I tensorflow/core/grappler/optimizers/custom_graph_optimizer_registry.cc:114] Plugin optimizer for device_type GPU is enabled.\n"
     ]
    },
    {
     "name": "stdout",
     "output_type": "stream",
     "text": [
      "The presence of two_eyes in resblock 0 is 0.19999999999999996\n",
      "Performing regression for layer 1\n",
      "Epoch 1/10\n"
     ]
    },
    {
     "name": "stderr",
     "output_type": "stream",
     "text": [
      "2024-02-11 18:02:02.343530: I tensorflow/core/grappler/optimizers/custom_graph_optimizer_registry.cc:114] Plugin optimizer for device_type GPU is enabled.\n",
      "2024-02-11 18:02:02.369642: E tensorflow/core/grappler/optimizers/meta_optimizer.cc:954] model_pruner failed: INVALID_ARGUMENT: Graph does not contain terminal node AssignAddVariableOp_2.\n"
     ]
    },
    {
     "name": "stdout",
     "output_type": "stream",
     "text": [
      "1/5 [=====>........................] - ETA: 2s - loss: 1.1648"
     ]
    },
    {
     "ename": "KeyboardInterrupt",
     "evalue": "",
     "output_type": "error",
     "traceback": [
      "\u001b[0;31m---------------------------------------------------------------------------\u001b[0m",
      "\u001b[0;31mKeyboardInterrupt\u001b[0m                         Traceback (most recent call last)",
      "Cell \u001b[0;32mIn[46], line 46\u001b[0m\n\u001b[1;32m     44\u001b[0m \u001b[38;5;66;03m# So one has (n, k) samples where n is the number of positions, and k is the total number of activation values in layer i.\u001b[39;00m\n\u001b[1;32m     45\u001b[0m \u001b[38;5;28mprint\u001b[39m(\u001b[38;5;124mf\u001b[39m\u001b[38;5;124m\"\u001b[39m\u001b[38;5;124mPerforming regression for layer \u001b[39m\u001b[38;5;132;01m{\u001b[39;00mi\u001b[38;5;132;01m}\u001b[39;00m\u001b[38;5;124m\"\u001b[39m)\n\u001b[0;32m---> 46\u001b[0m score \u001b[38;5;241m=\u001b[39m \u001b[43mlinear_regression\u001b[49m\u001b[38;5;241;43m.\u001b[39;49m\u001b[43mperform_regression\u001b[49m\u001b[43m(\u001b[49m\n\u001b[1;32m     47\u001b[0m \u001b[43m    \u001b[49m\u001b[43mpoints\u001b[49m\u001b[38;5;241;43m=\u001b[39;49m\u001b[43mpoints\u001b[49m\u001b[43m[\u001b[49m\u001b[43m:\u001b[49m\u001b[43mPOSITIONS_TO_CONSIDER\u001b[49m\u001b[43m]\u001b[49m\u001b[43m,\u001b[49m\u001b[43m \u001b[49m\n\u001b[1;32m     48\u001b[0m \u001b[43m    \u001b[49m\u001b[43mtargets\u001b[49m\u001b[38;5;241;43m=\u001b[39;49m\u001b[43mall_labels\u001b[49m\u001b[43m[\u001b[49m\u001b[43m:\u001b[49m\u001b[43mPOSITIONS_TO_CONSIDER\u001b[49m\u001b[43m]\u001b[49m\u001b[43m,\u001b[49m\u001b[43m \u001b[49m\n\u001b[1;32m     49\u001b[0m \u001b[43m    \u001b[49m\u001b[43mvalidation_points\u001b[49m\u001b[38;5;241;43m=\u001b[39;49m\u001b[43mpoints\u001b[49m\u001b[43m[\u001b[49m\u001b[43mPOSITIONS_TO_CONSIDER\u001b[49m\u001b[43m:\u001b[49m\u001b[43m]\u001b[49m\u001b[43m,\u001b[49m\u001b[43m \u001b[49m\n\u001b[1;32m     50\u001b[0m \u001b[43m    \u001b[49m\u001b[43mvalidation_targets\u001b[49m\u001b[38;5;241;43m=\u001b[39;49m\u001b[43mall_labels\u001b[49m\u001b[43m[\u001b[49m\u001b[43mPOSITIONS_TO_CONSIDER\u001b[49m\u001b[43m:\u001b[49m\u001b[43m]\u001b[49m\u001b[43m,\u001b[49m\u001b[43m \u001b[49m\n\u001b[1;32m     51\u001b[0m \u001b[43m    \u001b[49m\u001b[43mis_binary\u001b[49m\u001b[38;5;241;43m=\u001b[39;49m\u001b[43mBINARY\u001b[49m\u001b[43m,\u001b[49m\n\u001b[1;32m     52\u001b[0m \u001b[43m    \u001b[49m\u001b[43mepochs\u001b[49m\u001b[38;5;241;43m=\u001b[39;49m\u001b[38;5;241;43m10\u001b[39;49m\n\u001b[1;32m     53\u001b[0m \u001b[43m\u001b[49m\u001b[43m)\u001b[49m\n\u001b[1;32m     54\u001b[0m concept_presence_per_layer\u001b[38;5;241m.\u001b[39mappend(score)\n\u001b[1;32m     56\u001b[0m \u001b[38;5;28mprint\u001b[39m(\u001b[38;5;124mf\u001b[39m\u001b[38;5;124m\"\u001b[39m\u001b[38;5;124mThe presence of \u001b[39m\u001b[38;5;132;01m{\u001b[39;00mCONCEPT_NAME\u001b[38;5;132;01m}\u001b[39;00m\u001b[38;5;124m in resblock \u001b[39m\u001b[38;5;132;01m{\u001b[39;00mi\u001b[38;5;132;01m}\u001b[39;00m\u001b[38;5;124m is \u001b[39m\u001b[38;5;132;01m{\u001b[39;00mscore\u001b[38;5;132;01m}\u001b[39;00m\u001b[38;5;124m\"\u001b[39m)\n",
      "File \u001b[0;32m~/github/go-xai/src/concepts/linear_regression.py:8\u001b[0m, in \u001b[0;36mperform_regression\u001b[0;34m(points, targets, validation_points, validation_targets, is_binary, epochs, dynamic)\u001b[0m\n\u001b[1;32m      6\u001b[0m \u001b[38;5;28;01mdef\u001b[39;00m \u001b[38;5;21mperform_regression\u001b[39m(points, targets, validation_points, validation_targets, is_binary, epochs\u001b[38;5;241m=\u001b[39m\u001b[38;5;241m50\u001b[39m, dynamic\u001b[38;5;241m=\u001b[39m\u001b[38;5;28;01mFalse\u001b[39;00m):\n\u001b[1;32m      7\u001b[0m     \u001b[38;5;28;01mif\u001b[39;00m is_binary:\n\u001b[0;32m----> 8\u001b[0m         \u001b[38;5;28;01mreturn\u001b[39;00m \u001b[43mperform_logistic_regression\u001b[49m\u001b[43m(\u001b[49m\n\u001b[1;32m      9\u001b[0m \u001b[43m            \u001b[49m\u001b[43mpoints\u001b[49m\u001b[43m,\u001b[49m\u001b[43m \u001b[49m\n\u001b[1;32m     10\u001b[0m \u001b[43m            \u001b[49m\u001b[43mtargets\u001b[49m\u001b[43m,\u001b[49m\u001b[43m \u001b[49m\n\u001b[1;32m     11\u001b[0m \u001b[43m            \u001b[49m\u001b[43mvalidation_points\u001b[49m\u001b[43m,\u001b[49m\u001b[43m \u001b[49m\n\u001b[1;32m     12\u001b[0m \u001b[43m            \u001b[49m\u001b[43mvalidation_targets\u001b[49m\u001b[43m,\u001b[49m\n\u001b[1;32m     13\u001b[0m \u001b[43m            \u001b[49m\u001b[43mepochs\u001b[49m\u001b[38;5;241;43m=\u001b[39;49m\u001b[43mepochs\u001b[49m\u001b[43m,\u001b[49m\n\u001b[1;32m     14\u001b[0m \u001b[43m            \u001b[49m\u001b[43mdynamic\u001b[49m\u001b[38;5;241;43m=\u001b[39;49m\u001b[43mdynamic\u001b[49m\n\u001b[1;32m     15\u001b[0m \u001b[43m        \u001b[49m\u001b[43m)\u001b[49m\n\u001b[1;32m     16\u001b[0m     \u001b[38;5;28;01melse\u001b[39;00m:\n\u001b[1;32m     17\u001b[0m         \u001b[38;5;28;01mreturn\u001b[39;00m perform_linear_regression(\n\u001b[1;32m     18\u001b[0m             points,\n\u001b[1;32m     19\u001b[0m             targets, \n\u001b[0;32m   (...)\u001b[0m\n\u001b[1;32m     22\u001b[0m             dynamic\u001b[38;5;241m=\u001b[39mdynamic\n\u001b[1;32m     23\u001b[0m         )\n",
      "File \u001b[0;32m~/github/go-xai/src/concepts/linear_regression.py:39\u001b[0m, in \u001b[0;36mperform_logistic_regression\u001b[0;34m(points, targets, validation_points, validation_targets, epochs, dynamic)\u001b[0m\n\u001b[1;32m     37\u001b[0m         model\u001b[38;5;241m.\u001b[39mfit(points, targets, epochs\u001b[38;5;241m=\u001b[39mepochs)\n\u001b[1;32m     38\u001b[0m     \u001b[38;5;28;01melse\u001b[39;00m:\n\u001b[0;32m---> 39\u001b[0m         \u001b[43mmodel\u001b[49m\u001b[38;5;241;43m.\u001b[39;49m\u001b[43mfit\u001b[49m\u001b[43m(\u001b[49m\u001b[43mpoints\u001b[49m\u001b[43m,\u001b[49m\u001b[43m \u001b[49m\u001b[43mtargets\u001b[49m\u001b[43m,\u001b[49m\u001b[43m \u001b[49m\u001b[43mvalidation_data\u001b[49m\u001b[38;5;241;43m=\u001b[39;49m\u001b[43m(\u001b[49m\u001b[43mvalidation_points\u001b[49m\u001b[43m,\u001b[49m\u001b[43m \u001b[49m\u001b[43mvalidation_targets\u001b[49m\u001b[43m)\u001b[49m\u001b[43m,\u001b[49m\u001b[43m \u001b[49m\u001b[43mepochs\u001b[49m\u001b[38;5;241;43m=\u001b[39;49m\u001b[43mepochs\u001b[49m\u001b[43m)\u001b[49m\n\u001b[1;32m     41\u001b[0m train_preds \u001b[38;5;241m=\u001b[39m model\u001b[38;5;241m.\u001b[39mpredict(points) \u001b[38;5;241m>\u001b[39m \u001b[38;5;241m0.5\u001b[39m\n\u001b[1;32m     42\u001b[0m \u001b[38;5;28mprint\u001b[39m(binary_accuracy_metric(targets, train_preds))\n",
      "File \u001b[0;32m~/miniconda3/envs/go-xai/lib/python3.8/site-packages/keras/utils/traceback_utils.py:65\u001b[0m, in \u001b[0;36mfilter_traceback.<locals>.error_handler\u001b[0;34m(*args, **kwargs)\u001b[0m\n\u001b[1;32m     63\u001b[0m filtered_tb \u001b[38;5;241m=\u001b[39m \u001b[38;5;28;01mNone\u001b[39;00m\n\u001b[1;32m     64\u001b[0m \u001b[38;5;28;01mtry\u001b[39;00m:\n\u001b[0;32m---> 65\u001b[0m     \u001b[38;5;28;01mreturn\u001b[39;00m \u001b[43mfn\u001b[49m\u001b[43m(\u001b[49m\u001b[38;5;241;43m*\u001b[39;49m\u001b[43margs\u001b[49m\u001b[43m,\u001b[49m\u001b[43m \u001b[49m\u001b[38;5;241;43m*\u001b[39;49m\u001b[38;5;241;43m*\u001b[39;49m\u001b[43mkwargs\u001b[49m\u001b[43m)\u001b[49m\n\u001b[1;32m     66\u001b[0m \u001b[38;5;28;01mexcept\u001b[39;00m \u001b[38;5;167;01mException\u001b[39;00m \u001b[38;5;28;01mas\u001b[39;00m e:\n\u001b[1;32m     67\u001b[0m     filtered_tb \u001b[38;5;241m=\u001b[39m _process_traceback_frames(e\u001b[38;5;241m.\u001b[39m__traceback__)\n",
      "File \u001b[0;32m~/miniconda3/envs/go-xai/lib/python3.8/site-packages/keras/engine/training.py:1685\u001b[0m, in \u001b[0;36mModel.fit\u001b[0;34m(self, x, y, batch_size, epochs, verbose, callbacks, validation_split, validation_data, shuffle, class_weight, sample_weight, initial_epoch, steps_per_epoch, validation_steps, validation_batch_size, validation_freq, max_queue_size, workers, use_multiprocessing)\u001b[0m\n\u001b[1;32m   1677\u001b[0m \u001b[38;5;28;01mwith\u001b[39;00m tf\u001b[38;5;241m.\u001b[39mprofiler\u001b[38;5;241m.\u001b[39mexperimental\u001b[38;5;241m.\u001b[39mTrace(\n\u001b[1;32m   1678\u001b[0m     \u001b[38;5;124m\"\u001b[39m\u001b[38;5;124mtrain\u001b[39m\u001b[38;5;124m\"\u001b[39m,\n\u001b[1;32m   1679\u001b[0m     epoch_num\u001b[38;5;241m=\u001b[39mepoch,\n\u001b[0;32m   (...)\u001b[0m\n\u001b[1;32m   1682\u001b[0m     _r\u001b[38;5;241m=\u001b[39m\u001b[38;5;241m1\u001b[39m,\n\u001b[1;32m   1683\u001b[0m ):\n\u001b[1;32m   1684\u001b[0m     callbacks\u001b[38;5;241m.\u001b[39mon_train_batch_begin(step)\n\u001b[0;32m-> 1685\u001b[0m     tmp_logs \u001b[38;5;241m=\u001b[39m \u001b[38;5;28;43mself\u001b[39;49m\u001b[38;5;241;43m.\u001b[39;49m\u001b[43mtrain_function\u001b[49m\u001b[43m(\u001b[49m\u001b[43miterator\u001b[49m\u001b[43m)\u001b[49m\n\u001b[1;32m   1686\u001b[0m     \u001b[38;5;28;01mif\u001b[39;00m data_handler\u001b[38;5;241m.\u001b[39mshould_sync:\n\u001b[1;32m   1687\u001b[0m         context\u001b[38;5;241m.\u001b[39masync_wait()\n",
      "File \u001b[0;32m~/miniconda3/envs/go-xai/lib/python3.8/site-packages/tensorflow/python/util/traceback_utils.py:150\u001b[0m, in \u001b[0;36mfilter_traceback.<locals>.error_handler\u001b[0;34m(*args, **kwargs)\u001b[0m\n\u001b[1;32m    148\u001b[0m filtered_tb \u001b[38;5;241m=\u001b[39m \u001b[38;5;28;01mNone\u001b[39;00m\n\u001b[1;32m    149\u001b[0m \u001b[38;5;28;01mtry\u001b[39;00m:\n\u001b[0;32m--> 150\u001b[0m   \u001b[38;5;28;01mreturn\u001b[39;00m \u001b[43mfn\u001b[49m\u001b[43m(\u001b[49m\u001b[38;5;241;43m*\u001b[39;49m\u001b[43margs\u001b[49m\u001b[43m,\u001b[49m\u001b[43m \u001b[49m\u001b[38;5;241;43m*\u001b[39;49m\u001b[38;5;241;43m*\u001b[39;49m\u001b[43mkwargs\u001b[49m\u001b[43m)\u001b[49m\n\u001b[1;32m    151\u001b[0m \u001b[38;5;28;01mexcept\u001b[39;00m \u001b[38;5;167;01mException\u001b[39;00m \u001b[38;5;28;01mas\u001b[39;00m e:\n\u001b[1;32m    152\u001b[0m   filtered_tb \u001b[38;5;241m=\u001b[39m _process_traceback_frames(e\u001b[38;5;241m.\u001b[39m__traceback__)\n",
      "File \u001b[0;32m~/miniconda3/envs/go-xai/lib/python3.8/site-packages/tensorflow/python/eager/polymorphic_function/polymorphic_function.py:894\u001b[0m, in \u001b[0;36mFunction.__call__\u001b[0;34m(self, *args, **kwds)\u001b[0m\n\u001b[1;32m    891\u001b[0m compiler \u001b[38;5;241m=\u001b[39m \u001b[38;5;124m\"\u001b[39m\u001b[38;5;124mxla\u001b[39m\u001b[38;5;124m\"\u001b[39m \u001b[38;5;28;01mif\u001b[39;00m \u001b[38;5;28mself\u001b[39m\u001b[38;5;241m.\u001b[39m_jit_compile \u001b[38;5;28;01melse\u001b[39;00m \u001b[38;5;124m\"\u001b[39m\u001b[38;5;124mnonXla\u001b[39m\u001b[38;5;124m\"\u001b[39m\n\u001b[1;32m    893\u001b[0m \u001b[38;5;28;01mwith\u001b[39;00m OptionalXlaContext(\u001b[38;5;28mself\u001b[39m\u001b[38;5;241m.\u001b[39m_jit_compile):\n\u001b[0;32m--> 894\u001b[0m   result \u001b[38;5;241m=\u001b[39m \u001b[38;5;28;43mself\u001b[39;49m\u001b[38;5;241;43m.\u001b[39;49m\u001b[43m_call\u001b[49m\u001b[43m(\u001b[49m\u001b[38;5;241;43m*\u001b[39;49m\u001b[43margs\u001b[49m\u001b[43m,\u001b[49m\u001b[43m \u001b[49m\u001b[38;5;241;43m*\u001b[39;49m\u001b[38;5;241;43m*\u001b[39;49m\u001b[43mkwds\u001b[49m\u001b[43m)\u001b[49m\n\u001b[1;32m    896\u001b[0m new_tracing_count \u001b[38;5;241m=\u001b[39m \u001b[38;5;28mself\u001b[39m\u001b[38;5;241m.\u001b[39mexperimental_get_tracing_count()\n\u001b[1;32m    897\u001b[0m without_tracing \u001b[38;5;241m=\u001b[39m (tracing_count \u001b[38;5;241m==\u001b[39m new_tracing_count)\n",
      "File \u001b[0;32m~/miniconda3/envs/go-xai/lib/python3.8/site-packages/tensorflow/python/eager/polymorphic_function/polymorphic_function.py:926\u001b[0m, in \u001b[0;36mFunction._call\u001b[0;34m(self, *args, **kwds)\u001b[0m\n\u001b[1;32m    923\u001b[0m   \u001b[38;5;28mself\u001b[39m\u001b[38;5;241m.\u001b[39m_lock\u001b[38;5;241m.\u001b[39mrelease()\n\u001b[1;32m    924\u001b[0m   \u001b[38;5;66;03m# In this case we have created variables on the first call, so we run the\u001b[39;00m\n\u001b[1;32m    925\u001b[0m   \u001b[38;5;66;03m# defunned version which is guaranteed to never create variables.\u001b[39;00m\n\u001b[0;32m--> 926\u001b[0m   \u001b[38;5;28;01mreturn\u001b[39;00m \u001b[38;5;28;43mself\u001b[39;49m\u001b[38;5;241;43m.\u001b[39;49m\u001b[43m_no_variable_creation_fn\u001b[49m\u001b[43m(\u001b[49m\u001b[38;5;241;43m*\u001b[39;49m\u001b[43margs\u001b[49m\u001b[43m,\u001b[49m\u001b[43m \u001b[49m\u001b[38;5;241;43m*\u001b[39;49m\u001b[38;5;241;43m*\u001b[39;49m\u001b[43mkwds\u001b[49m\u001b[43m)\u001b[49m  \u001b[38;5;66;03m# pylint: disable=not-callable\u001b[39;00m\n\u001b[1;32m    927\u001b[0m \u001b[38;5;28;01melif\u001b[39;00m \u001b[38;5;28mself\u001b[39m\u001b[38;5;241m.\u001b[39m_variable_creation_fn \u001b[38;5;129;01mis\u001b[39;00m \u001b[38;5;129;01mnot\u001b[39;00m \u001b[38;5;28;01mNone\u001b[39;00m:\n\u001b[1;32m    928\u001b[0m   \u001b[38;5;66;03m# Release the lock early so that multiple threads can perform the call\u001b[39;00m\n\u001b[1;32m    929\u001b[0m   \u001b[38;5;66;03m# in parallel.\u001b[39;00m\n\u001b[1;32m    930\u001b[0m   \u001b[38;5;28mself\u001b[39m\u001b[38;5;241m.\u001b[39m_lock\u001b[38;5;241m.\u001b[39mrelease()\n",
      "File \u001b[0;32m~/miniconda3/envs/go-xai/lib/python3.8/site-packages/tensorflow/python/eager/polymorphic_function/tracing_compiler.py:143\u001b[0m, in \u001b[0;36mTracingCompiler.__call__\u001b[0;34m(self, *args, **kwargs)\u001b[0m\n\u001b[1;32m    140\u001b[0m \u001b[38;5;28;01mwith\u001b[39;00m \u001b[38;5;28mself\u001b[39m\u001b[38;5;241m.\u001b[39m_lock:\n\u001b[1;32m    141\u001b[0m   (concrete_function,\n\u001b[1;32m    142\u001b[0m    filtered_flat_args) \u001b[38;5;241m=\u001b[39m \u001b[38;5;28mself\u001b[39m\u001b[38;5;241m.\u001b[39m_maybe_define_function(args, kwargs)\n\u001b[0;32m--> 143\u001b[0m \u001b[38;5;28;01mreturn\u001b[39;00m \u001b[43mconcrete_function\u001b[49m\u001b[38;5;241;43m.\u001b[39;49m\u001b[43m_call_flat\u001b[49m\u001b[43m(\u001b[49m\n\u001b[1;32m    144\u001b[0m \u001b[43m    \u001b[49m\u001b[43mfiltered_flat_args\u001b[49m\u001b[43m,\u001b[49m\u001b[43m \u001b[49m\u001b[43mcaptured_inputs\u001b[49m\u001b[38;5;241;43m=\u001b[39;49m\u001b[43mconcrete_function\u001b[49m\u001b[38;5;241;43m.\u001b[39;49m\u001b[43mcaptured_inputs\u001b[49m\u001b[43m)\u001b[49m\n",
      "File \u001b[0;32m~/miniconda3/envs/go-xai/lib/python3.8/site-packages/tensorflow/python/eager/polymorphic_function/monomorphic_function.py:1757\u001b[0m, in \u001b[0;36mConcreteFunction._call_flat\u001b[0;34m(self, args, captured_inputs, cancellation_manager)\u001b[0m\n\u001b[1;32m   1753\u001b[0m possible_gradient_type \u001b[38;5;241m=\u001b[39m gradients_util\u001b[38;5;241m.\u001b[39mPossibleTapeGradientTypes(args)\n\u001b[1;32m   1754\u001b[0m \u001b[38;5;28;01mif\u001b[39;00m (possible_gradient_type \u001b[38;5;241m==\u001b[39m gradients_util\u001b[38;5;241m.\u001b[39mPOSSIBLE_GRADIENT_TYPES_NONE\n\u001b[1;32m   1755\u001b[0m     \u001b[38;5;129;01mand\u001b[39;00m executing_eagerly):\n\u001b[1;32m   1756\u001b[0m   \u001b[38;5;66;03m# No tape is watching; skip to running the function.\u001b[39;00m\n\u001b[0;32m-> 1757\u001b[0m   \u001b[38;5;28;01mreturn\u001b[39;00m \u001b[38;5;28mself\u001b[39m\u001b[38;5;241m.\u001b[39m_build_call_outputs(\u001b[38;5;28;43mself\u001b[39;49m\u001b[38;5;241;43m.\u001b[39;49m\u001b[43m_inference_function\u001b[49m\u001b[38;5;241;43m.\u001b[39;49m\u001b[43mcall\u001b[49m\u001b[43m(\u001b[49m\n\u001b[1;32m   1758\u001b[0m \u001b[43m      \u001b[49m\u001b[43mctx\u001b[49m\u001b[43m,\u001b[49m\u001b[43m \u001b[49m\u001b[43margs\u001b[49m\u001b[43m,\u001b[49m\u001b[43m \u001b[49m\u001b[43mcancellation_manager\u001b[49m\u001b[38;5;241;43m=\u001b[39;49m\u001b[43mcancellation_manager\u001b[49m\u001b[43m)\u001b[49m)\n\u001b[1;32m   1759\u001b[0m forward_backward \u001b[38;5;241m=\u001b[39m \u001b[38;5;28mself\u001b[39m\u001b[38;5;241m.\u001b[39m_select_forward_and_backward_functions(\n\u001b[1;32m   1760\u001b[0m     args,\n\u001b[1;32m   1761\u001b[0m     possible_gradient_type,\n\u001b[1;32m   1762\u001b[0m     executing_eagerly)\n\u001b[1;32m   1763\u001b[0m forward_function, args_with_tangents \u001b[38;5;241m=\u001b[39m forward_backward\u001b[38;5;241m.\u001b[39mforward()\n",
      "File \u001b[0;32m~/miniconda3/envs/go-xai/lib/python3.8/site-packages/tensorflow/python/eager/polymorphic_function/monomorphic_function.py:381\u001b[0m, in \u001b[0;36m_EagerDefinedFunction.call\u001b[0;34m(self, ctx, args, cancellation_manager)\u001b[0m\n\u001b[1;32m    379\u001b[0m \u001b[38;5;28;01mwith\u001b[39;00m _InterpolateFunctionError(\u001b[38;5;28mself\u001b[39m):\n\u001b[1;32m    380\u001b[0m   \u001b[38;5;28;01mif\u001b[39;00m cancellation_manager \u001b[38;5;129;01mis\u001b[39;00m \u001b[38;5;28;01mNone\u001b[39;00m:\n\u001b[0;32m--> 381\u001b[0m     outputs \u001b[38;5;241m=\u001b[39m \u001b[43mexecute\u001b[49m\u001b[38;5;241;43m.\u001b[39;49m\u001b[43mexecute\u001b[49m\u001b[43m(\u001b[49m\n\u001b[1;32m    382\u001b[0m \u001b[43m        \u001b[49m\u001b[38;5;28;43mstr\u001b[39;49m\u001b[43m(\u001b[49m\u001b[38;5;28;43mself\u001b[39;49m\u001b[38;5;241;43m.\u001b[39;49m\u001b[43msignature\u001b[49m\u001b[38;5;241;43m.\u001b[39;49m\u001b[43mname\u001b[49m\u001b[43m)\u001b[49m\u001b[43m,\u001b[49m\n\u001b[1;32m    383\u001b[0m \u001b[43m        \u001b[49m\u001b[43mnum_outputs\u001b[49m\u001b[38;5;241;43m=\u001b[39;49m\u001b[38;5;28;43mself\u001b[39;49m\u001b[38;5;241;43m.\u001b[39;49m\u001b[43m_num_outputs\u001b[49m\u001b[43m,\u001b[49m\n\u001b[1;32m    384\u001b[0m \u001b[43m        \u001b[49m\u001b[43minputs\u001b[49m\u001b[38;5;241;43m=\u001b[39;49m\u001b[43margs\u001b[49m\u001b[43m,\u001b[49m\n\u001b[1;32m    385\u001b[0m \u001b[43m        \u001b[49m\u001b[43mattrs\u001b[49m\u001b[38;5;241;43m=\u001b[39;49m\u001b[43mattrs\u001b[49m\u001b[43m,\u001b[49m\n\u001b[1;32m    386\u001b[0m \u001b[43m        \u001b[49m\u001b[43mctx\u001b[49m\u001b[38;5;241;43m=\u001b[39;49m\u001b[43mctx\u001b[49m\u001b[43m)\u001b[49m\n\u001b[1;32m    387\u001b[0m   \u001b[38;5;28;01melse\u001b[39;00m:\n\u001b[1;32m    388\u001b[0m     outputs \u001b[38;5;241m=\u001b[39m execute\u001b[38;5;241m.\u001b[39mexecute_with_cancellation(\n\u001b[1;32m    389\u001b[0m         \u001b[38;5;28mstr\u001b[39m(\u001b[38;5;28mself\u001b[39m\u001b[38;5;241m.\u001b[39msignature\u001b[38;5;241m.\u001b[39mname),\n\u001b[1;32m    390\u001b[0m         num_outputs\u001b[38;5;241m=\u001b[39m\u001b[38;5;28mself\u001b[39m\u001b[38;5;241m.\u001b[39m_num_outputs,\n\u001b[0;32m   (...)\u001b[0m\n\u001b[1;32m    393\u001b[0m         ctx\u001b[38;5;241m=\u001b[39mctx,\n\u001b[1;32m    394\u001b[0m         cancellation_manager\u001b[38;5;241m=\u001b[39mcancellation_manager)\n",
      "File \u001b[0;32m~/miniconda3/envs/go-xai/lib/python3.8/site-packages/tensorflow/python/eager/execute.py:52\u001b[0m, in \u001b[0;36mquick_execute\u001b[0;34m(op_name, num_outputs, inputs, attrs, ctx, name)\u001b[0m\n\u001b[1;32m     50\u001b[0m \u001b[38;5;28;01mtry\u001b[39;00m:\n\u001b[1;32m     51\u001b[0m   ctx\u001b[38;5;241m.\u001b[39mensure_initialized()\n\u001b[0;32m---> 52\u001b[0m   tensors \u001b[38;5;241m=\u001b[39m \u001b[43mpywrap_tfe\u001b[49m\u001b[38;5;241;43m.\u001b[39;49m\u001b[43mTFE_Py_Execute\u001b[49m\u001b[43m(\u001b[49m\u001b[43mctx\u001b[49m\u001b[38;5;241;43m.\u001b[39;49m\u001b[43m_handle\u001b[49m\u001b[43m,\u001b[49m\u001b[43m \u001b[49m\u001b[43mdevice_name\u001b[49m\u001b[43m,\u001b[49m\u001b[43m \u001b[49m\u001b[43mop_name\u001b[49m\u001b[43m,\u001b[49m\n\u001b[1;32m     53\u001b[0m \u001b[43m                                      \u001b[49m\u001b[43minputs\u001b[49m\u001b[43m,\u001b[49m\u001b[43m \u001b[49m\u001b[43mattrs\u001b[49m\u001b[43m,\u001b[49m\u001b[43m \u001b[49m\u001b[43mnum_outputs\u001b[49m\u001b[43m)\u001b[49m\n\u001b[1;32m     54\u001b[0m \u001b[38;5;28;01mexcept\u001b[39;00m core\u001b[38;5;241m.\u001b[39m_NotOkStatusException \u001b[38;5;28;01mas\u001b[39;00m e:\n\u001b[1;32m     55\u001b[0m   \u001b[38;5;28;01mif\u001b[39;00m name \u001b[38;5;129;01mis\u001b[39;00m \u001b[38;5;129;01mnot\u001b[39;00m \u001b[38;5;28;01mNone\u001b[39;00m:\n",
      "\u001b[0;31mKeyboardInterrupt\u001b[0m: "
     ]
    }
   ],
   "source": [
    "epochs_to_look_at = agents_to_sample\n",
    "\n",
    "for epoch in epochs_to_look_at:\n",
    "    path = full_model_path + model_name + \"_\" + str(epoch) + \".keras\"\n",
    "    if resnet:\n",
    "        model = ResNet(board_size, path)\n",
    "    else:\n",
    "        model = ConvNet(board_size, path)\n",
    "\n",
    "    # Will have a length equal to the sum of the numer of rows in the positive and negative cases arrays\n",
    "    # And will contain 1s for positive cases and 0s for negative cases\n",
    "    # Is used as labels/targets for the regression\n",
    "    all_cases = np.concatenate([positive_cases, negative_cases])\n",
    "    all_labels = [1] * positive_cases.shape[0] + [0] * negative_cases.shape[0]\n",
    "    all_labels = np.array(all_labels)\n",
    "    shuffled_indices = np.arange(all_labels.shape[0])\n",
    "\n",
    "    np.random.shuffle(shuffled_indices)\n",
    "\n",
    "    all_cases = all_cases[shuffled_indices]\n",
    "    all_labels = all_labels[shuffled_indices]\n",
    "\n",
    "    concept_presences = {}\n",
    "    \n",
    "    outputs = model.get_all_activation_values(all_cases)\n",
    "\n",
    "    # Merge outputs\n",
    "    merged_outputs = []\n",
    "    for output_batch in outputs:\n",
    "        for i, output_layer in enumerate(output_batch):\n",
    "            if len(merged_outputs) <= i:\n",
    "                merged_outputs.append([])\n",
    "            merged_outputs[i].extend(output_layer)\n",
    "\n",
    "    for i, layer_output in enumerate(merged_outputs):\n",
    "        merged_outputs[i] = np.array(merged_outputs[i])\n",
    "    \n",
    "    outputs = merged_outputs\n",
    "\n",
    "    # Perform regression\n",
    "    concept_presence_per_layer = []\n",
    "    for (i, output) in enumerate(outputs):\n",
    "        points = output.reshape((output.shape[0], np.prod(output.shape[1:])))\n",
    "        # So one has (n, k) samples where n is the number of positions, and k is the total number of activation values in layer i.\n",
    "        print(f\"Performing regression for layer {i}\")\n",
    "        score = linear_regression.perform_regression(\n",
    "            points=points[:POSITIONS_TO_CONSIDER], \n",
    "            targets=all_labels[:POSITIONS_TO_CONSIDER], \n",
    "            validation_points=points[POSITIONS_TO_CONSIDER:], \n",
    "            validation_targets=all_labels[POSITIONS_TO_CONSIDER:], \n",
    "            is_binary=BINARY,\n",
    "            epochs=10\n",
    "        )\n",
    "        concept_presence_per_layer.append(score)\n",
    "\n",
    "        print(f\"The presence of {CONCEPT_NAME} in resblock {i} is {score}\")\n",
    "    concept_presences[CONCEPT_NAME] = concept_presence_per_layer\n",
    "\n",
    "    # Remove the files if they exist\n",
    "    if os.path.exists(f\"../concept_presences/static/{model_type}/{board_name}/{session_name}/{CONCEPT_NAME}\"):\n",
    "        # Test if epoch folder exists\n",
    "        if os.path.exists(f\"../concept_presences/static/{model_type}/{board_name}/{session_name}/{CONCEPT_NAME}/{epoch}\"):\n",
    "            # Remove all files in the epoch folder\n",
    "            # Fist save the \n",
    "            for file in os.listdir(f\"../concept_presences/static/{model_type}/{board_name}/{session_name}/{CONCEPT_NAME}/{epoch}\"):\n",
    "                os.remove(f\"../concept_presences/static/{model_type}/{board_name}/{session_name}/{CONCEPT_NAME}/{epoch}/{file}\")\n",
    "\n",
    "    os.makedirs(\"../concept_presences\", exist_ok=True)\n",
    "    os.makedirs(\"../concept_presences/static\", exist_ok=True)\n",
    "    os.makedirs(f\"../concept_presences/static/{model_type}\", exist_ok=True)\n",
    "    os.makedirs(f\"../concept_presences/static/{model_type}/{board_name}\", exist_ok=True)\n",
    "    os.makedirs(f\"../concept_presences/static/{model_type}/{board_name}/{session_name}\", exist_ok=True)\n",
    "    os.makedirs(f\"../concept_presences/static/{model_type}/{board_name}/{session_name}/{CONCEPT_NAME}\", exist_ok=True)\n",
    "    os.makedirs(f\"../concept_presences/static/{model_type}/{board_name}/{session_name}/{CONCEPT_NAME}/{epoch}\", exist_ok=True)\n",
    "\n",
    "    random_suffix = ''.join(random.choices(string.ascii_uppercase + string.digits, k=10))\n",
    "\n",
    "    # Save concept presences in json file\n",
    "    with open(f\"../concept_presences/static/{model_type}/{board_name}/{session_name}/{CONCEPT_NAME}/{epoch}/{random_suffix}.json\", \"w\") as f:\n",
    "        json.dump(concept_presences[CONCEPT_NAME], f)"
   ]
  }
 ],
 "metadata": {
  "kernelspec": {
   "display_name": "go-xai",
   "language": "python",
   "name": "python3"
  },
  "language_info": {
   "codemirror_mode": {
    "name": "ipython",
    "version": 3
   },
   "file_extension": ".py",
   "mimetype": "text/x-python",
   "name": "python",
   "nbconvert_exporter": "python",
   "pygments_lexer": "ipython3",
   "version": "3.8.18"
  }
 },
 "nbformat": 4,
 "nbformat_minor": 2
}
