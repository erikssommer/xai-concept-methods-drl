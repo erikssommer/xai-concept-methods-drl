{
 "cells": [
  {
   "cell_type": "markdown",
   "metadata": {},
   "source": [
    "### Notebook for concept detection in neural network"
   ]
  },
  {
   "cell_type": "code",
   "execution_count": 1,
   "metadata": {},
   "outputs": [],
   "source": [
    "%load_ext autoreload\n",
    "%autoreload 2"
   ]
  },
  {
   "cell_type": "code",
   "execution_count": 2,
   "metadata": {},
   "outputs": [],
   "source": [
    "import numpy as np\n",
    "import os\n",
    "import sys\n",
    "\n",
    "sys.path.append(os.path.abspath(os.path.join(os.path.pardir, 'src')))\n",
    "\n",
    "os.environ['TF_CPP_MIN_LOG_LEVEL'] = '2'  # or any {'0', '1', '2'}\n",
    "\n",
    "from concepts import static_concepts, linear_regression, generate_static_concept_datasets\n",
    "from policy import ConvNet, ResNet\n",
    "from utils import concept_folder_setup_and_score\n",
    "\n",
    "import tensorflow as tf\n",
    "\n",
    "# Set memory growth\n",
    "physical_devices = tf.config.list_physical_devices('GPU')\n",
    "tf.config.experimental.set_memory_growth(physical_devices[0], True)\n",
    "\n",
    "model_name = \"net\"\n",
    "session_name = \"falcon\"\n",
    "board_size = 7\n",
    "board_name = f'{board_size}x{board_size}'\n",
    "resnet = True\n",
    "\n",
    "model_type = \"resnet\" if resnet else \"convnet\"\n",
    "\n",
    "agents_to_sample = [0, 10, 20, 60, 100, 500]\n",
    "\n",
    "full_model_path = f\"../models/saved_sessions/{model_type}/board_size_{board_size}/{session_name}/\"\n",
    "\n",
    "CONCEPT_FUNC = static_concepts.one_eye\n",
    "\n",
    "CONCEPT_NAME = static_concepts.one_eye.__name__\n",
    "\n",
    "BINARY = True\n",
    "\n",
    "CASES_TO_SAMPLE = 200 # 25000\n",
    "\n",
    "# Load the models\n",
    "def load_model(full_name, model_name, epoch):\n",
    "    model_path = full_name + model_name + \"_\" + str(epoch) + \".keras\"\n",
    "    if resnet:\n",
    "        model = ResNet(board_size, model_path)\n",
    "    else:\n",
    "        model = ConvNet(board_size, model_path)\n",
    "    return model\n",
    "\n",
    "agents = [load_model(full_model_path, model_name, epoch) for epoch in agents_to_sample]"
   ]
  },
  {
   "cell_type": "code",
   "execution_count": 3,
   "metadata": {},
   "outputs": [
    {
     "name": "stderr",
     "output_type": "stream",
     "text": [
      "Positive cases for concept 'one_eye': 495it [00:29, 16.64it/s]                         \n"
     ]
    }
   ],
   "source": [
    "positive_cases, negative_cases = generate_static_concept_datasets(CASES_TO_SAMPLE, agents, board_size, CONCEPT_FUNC, binary=BINARY)\n",
    "\n",
    "# Create numpy arrays\n",
    "positive_cases = np.array(positive_cases)\n",
    "negative_cases = np.array(negative_cases)"
   ]
  },
  {
   "cell_type": "code",
   "execution_count": 4,
   "metadata": {},
   "outputs": [
    {
     "name": "stdout",
     "output_type": "stream",
     "text": [
      "Positive cases:  (200, 5, 7, 7)\n",
      "Negative cases:  (200, 5, 7, 7)\n"
     ]
    }
   ],
   "source": [
    "# Print shapes\n",
    "print(\"Positive cases: \", positive_cases.shape)\n",
    "print(\"Negative cases: \", negative_cases.shape)"
   ]
  },
  {
   "cell_type": "code",
   "execution_count": 6,
   "metadata": {},
   "outputs": [],
   "source": [
    "# Test if there are any duplicates accross the two sets\n",
    "for i in range(len(positive_cases)):\n",
    "    for j in range(len(negative_cases)):\n",
    "        if np.array_equal(positive_cases[i], negative_cases[j]):\n",
    "            print(\"Duplicate found!\")\n",
    "            print(positive_cases[i])\n",
    "            print(negative_cases[j])\n",
    "            break"
   ]
  },
  {
   "cell_type": "code",
   "execution_count": 5,
   "metadata": {},
   "outputs": [
    {
     "name": "stdout",
     "output_type": "stream",
     "text": [
      "Duplicate count in positive cases:  0\n",
      "Duplicate count in negative:  6\n"
     ]
    }
   ],
   "source": [
    "# Find the number of any duplicates within the positive cases\n",
    "duplicate_count = 0\n",
    "for i in range(len(positive_cases)):\n",
    "    for j in range(i + 1, len(positive_cases)):\n",
    "        if np.array_equal(positive_cases[i], positive_cases[j]):\n",
    "            duplicate_count += 1\n",
    "            break\n",
    "\n",
    "print(\"Duplicate count in positive cases: \", duplicate_count)\n",
    "\n",
    "# Find the number of any duplicates within the negative cases\n",
    "duplicate_count = 0\n",
    "for i in range(len(negative_cases)):\n",
    "    for j in range(i + 1, len(negative_cases)):\n",
    "        if np.array_equal(negative_cases[i], negative_cases[j]):\n",
    "            duplicate_count += 1\n",
    "            break\n",
    "\n",
    "print(\"Duplicate count in negative: \", duplicate_count)"
   ]
  },
  {
   "cell_type": "code",
   "execution_count": null,
   "metadata": {},
   "outputs": [],
   "source": [
    "from env import gogame\n",
    "# Print all the positive cases\n",
    "for i in range(len(positive_cases)):\n",
    "    print(f\"Positive case {i}:\")\n",
    "    print(positive_cases[i])\n",
    "    print(gogame.str(positive_cases[i], nn_format=True))\n",
    "    print()"
   ]
  },
  {
   "cell_type": "code",
   "execution_count": 9,
   "metadata": {},
   "outputs": [
    {
     "name": "stdout",
     "output_type": "stream",
     "text": [
      "Positions to consider: 320\n"
     ]
    }
   ],
   "source": [
    "# Positions to consider are 80% of the total positions\n",
    "if BINARY:\n",
    "    POSITIONS_TO_CONSIDER = int(0.8 * positive_cases.shape[0] * 2)\n",
    "    print(f\"Positions to consider: {POSITIONS_TO_CONSIDER}\")\n",
    "    #POSITIONS_TO_CONSIDER = 4000 #40000\n",
    "    VALIDATION_POSITIONS = 10000 #10000\n",
    "else:\n",
    "    POSITIONS_TO_CONSIDER = int(0.8 * positive_cases.shape[0])\n",
    "    print(f\"Positions to consider: {POSITIONS_TO_CONSIDER}\")\n",
    "    #POSITIONS_TO_CONSIDER = 4000 #40000\n",
    "    VALIDATION_POSITIONS = 10000\n",
    "\n",
    "epochs = 10"
   ]
  },
  {
   "cell_type": "code",
   "execution_count": 10,
   "metadata": {},
   "outputs": [
    {
     "name": "stdout",
     "output_type": "stream",
     "text": [
      "Epoch 1/10\n"
     ]
    },
    {
     "name": "stderr",
     "output_type": "stream",
     "text": [
      "2024-03-01 13:44:51.454821: E tensorflow/core/grappler/optimizers/meta_optimizer.cc:954] model_pruner failed: INVALID_ARGUMENT: Graph does not contain terminal node AssignAddVariableOp_2.\n"
     ]
    },
    {
     "name": "stdout",
     "output_type": "stream",
     "text": [
      "10/10 [==============================] - 1s 56ms/step - loss: 1.1178 - val_loss: 1.1400\n",
      "Epoch 2/10\n",
      "10/10 [==============================] - 0s 20ms/step - loss: 1.0947 - val_loss: 1.1203\n",
      "Epoch 3/10\n",
      "10/10 [==============================] - 0s 23ms/step - loss: 1.0742 - val_loss: 1.1015\n",
      "Epoch 4/10\n",
      "10/10 [==============================] - 0s 20ms/step - loss: 1.0544 - val_loss: 1.0842\n",
      "Epoch 5/10\n",
      "10/10 [==============================] - 0s 21ms/step - loss: 1.0366 - val_loss: 1.0681\n",
      "Epoch 6/10\n",
      "10/10 [==============================] - 0s 22ms/step - loss: 1.0201 - val_loss: 1.0532\n",
      "Epoch 7/10\n",
      "10/10 [==============================] - 0s 20ms/step - loss: 1.0044 - val_loss: 1.0397\n",
      "Epoch 8/10\n",
      "10/10 [==============================] - 0s 21ms/step - loss: 0.9908 - val_loss: 1.0272\n",
      "Epoch 9/10\n",
      "10/10 [==============================] - 0s 21ms/step - loss: 0.9781 - val_loss: 1.0156\n",
      "Epoch 10/10\n",
      "10/10 [==============================] - 0s 24ms/step - loss: 0.9665 - val_loss: 1.0051\n",
      "10/10 [==============================] - 0s 3ms/step\n",
      "-0.13124999999999998\n",
      "3/3 [==============================] - 0s 6ms/step\n",
      "Regression score:  0\n"
     ]
    }
   ],
   "source": [
    "# First test if the concept can be regressed form the inputs\n",
    "name = \"input\"\n",
    "if BINARY:\n",
    "    all_cases = np.concatenate([positive_cases, negative_cases])\n",
    "    all_labels = [1] * positive_cases.shape[0] + [0] * negative_cases.shape[0]\n",
    "else:\n",
    "    all_cases = np.array(positive_cases)\n",
    "    all_labels = negative_cases\n",
    "\n",
    "all_labels = np.array(all_labels)\n",
    "shuffled_indices = np.arange(all_labels.shape[0])\n",
    "\n",
    "np.random.shuffle(shuffled_indices)\n",
    "\n",
    "all_cases = all_cases[shuffled_indices]\n",
    "all_labels = all_labels[shuffled_indices]\n",
    "\n",
    "points = all_cases.reshape(all_cases.shape[0], -1)\n",
    "\n",
    "# Use the regression\n",
    "score = linear_regression.perform_regression(\n",
    "    points=points[:POSITIONS_TO_CONSIDER], \n",
    "    targets=all_labels[:POSITIONS_TO_CONSIDER], \n",
    "    validation_points=points[POSITIONS_TO_CONSIDER:], \n",
    "    validation_targets=all_labels[POSITIONS_TO_CONSIDER:], \n",
    "    is_binary=BINARY,\n",
    "    epochs=epochs,\n",
    "    verbose=1\n",
    ")\n",
    "\n",
    "score = 0 if score < 0 else score\n",
    "\n",
    "print(\"Regression score: \", score)\n",
    "\n",
    "concept_folder_setup_and_score('static', model_type, board_name, session_name, CONCEPT_NAME, name, score)"
   ]
  },
  {
   "cell_type": "code",
   "execution_count": 11,
   "metadata": {},
   "outputs": [
    {
     "name": "stderr",
     "output_type": "stream",
     "text": [
      "Epochs:   0%|          | 0/6 [00:00<?, ?it/s]"
     ]
    },
    {
     "name": "stderr",
     "output_type": "stream",
     "text": [
      "Getting activation outputs: 100%|██████████| 13/13 [00:00<00:00, 20.86it/s]\n"
     ]
    },
    {
     "name": "stdout",
     "output_type": "stream",
     "text": [
      "Performing regression for layer 0\n",
      "Epoch 1/10\n"
     ]
    },
    {
     "name": "stderr",
     "output_type": "stream",
     "text": [
      "2024-03-01 13:45:00.941086: E tensorflow/core/grappler/optimizers/meta_optimizer.cc:954] model_pruner failed: INVALID_ARGUMENT: Graph does not contain terminal node AssignAddVariableOp_2.\n"
     ]
    },
    {
     "name": "stdout",
     "output_type": "stream",
     "text": [
      "10/10 [==============================] - 1s 68ms/step - loss: 1.2621 - val_loss: 1.2482\n",
      "Epoch 2/10\n",
      "10/10 [==============================] - 0s 22ms/step - loss: 1.2391 - val_loss: 1.2266\n",
      "Epoch 3/10\n",
      "10/10 [==============================] - 0s 21ms/step - loss: 1.2183 - val_loss: 1.2056\n",
      "Epoch 4/10\n",
      "10/10 [==============================] - 0s 31ms/step - loss: 1.1975 - val_loss: 1.1856\n",
      "Epoch 5/10\n",
      "10/10 [==============================] - 0s 21ms/step - loss: 1.1778 - val_loss: 1.1663\n",
      "Epoch 6/10\n",
      "10/10 [==============================] - 0s 21ms/step - loss: 1.1584 - val_loss: 1.1478\n",
      "Epoch 7/10\n",
      "10/10 [==============================] - 0s 20ms/step - loss: 1.1399 - val_loss: 1.1298\n",
      "Epoch 8/10\n",
      "10/10 [==============================] - 0s 22ms/step - loss: 1.1219 - val_loss: 1.1123\n",
      "Epoch 9/10\n",
      "10/10 [==============================] - 0s 20ms/step - loss: 1.1044 - val_loss: 1.0951\n",
      "Epoch 10/10\n",
      "10/10 [==============================] - 0s 20ms/step - loss: 1.0873 - val_loss: 1.0783\n",
      "10/10 [==============================] - 0s 3ms/step\n",
      "0.11250000000000004\n",
      "3/3 [==============================] - 0s 6ms/step\n",
      "The presence of one_eye in resblock 0 is 0.10000000000000009\n",
      "Performing regression for layer 1\n",
      "Epoch 1/10\n"
     ]
    },
    {
     "name": "stderr",
     "output_type": "stream",
     "text": [
      "2024-03-01 13:45:04.337399: E tensorflow/core/grappler/optimizers/meta_optimizer.cc:954] model_pruner failed: INVALID_ARGUMENT: Graph does not contain terminal node AssignAddVariableOp_2.\n"
     ]
    },
    {
     "name": "stdout",
     "output_type": "stream",
     "text": [
      "10/10 [==============================] - 1s 53ms/step - loss: 1.2522 - val_loss: 1.2395\n",
      "Epoch 2/10\n",
      "10/10 [==============================] - 0s 20ms/step - loss: 1.2306 - val_loss: 1.2184\n",
      "Epoch 3/10\n",
      "10/10 [==============================] - 0s 20ms/step - loss: 1.2097 - val_loss: 1.1979\n",
      "Epoch 4/10\n",
      "10/10 [==============================] - 0s 21ms/step - loss: 1.1893 - val_loss: 1.1781\n",
      "Epoch 5/10\n",
      "10/10 [==============================] - 0s 21ms/step - loss: 1.1697 - val_loss: 1.1588\n",
      "Epoch 6/10\n",
      "10/10 [==============================] - 0s 20ms/step - loss: 1.1505 - val_loss: 1.1398\n",
      "Epoch 7/10\n",
      "10/10 [==============================] - 0s 21ms/step - loss: 1.1316 - val_loss: 1.1212\n",
      "Epoch 8/10\n",
      "10/10 [==============================] - 0s 23ms/step - loss: 1.1134 - val_loss: 1.1030\n",
      "Epoch 9/10\n",
      "10/10 [==============================] - 0s 20ms/step - loss: 1.0951 - val_loss: 1.0855\n",
      "Epoch 10/10\n",
      "10/10 [==============================] - 0s 22ms/step - loss: 1.0777 - val_loss: 1.0683\n",
      "10/10 [==============================] - 0s 4ms/step\n",
      "0.018750000000000044\n",
      "3/3 [==============================] - 0s 6ms/step\n",
      "The presence of one_eye in resblock 1 is 0.050000000000000044\n",
      "Performing regression for layer 2\n",
      "Epoch 1/10\n"
     ]
    },
    {
     "name": "stderr",
     "output_type": "stream",
     "text": [
      "2024-03-01 13:45:07.501419: E tensorflow/core/grappler/optimizers/meta_optimizer.cc:954] model_pruner failed: INVALID_ARGUMENT: Graph does not contain terminal node AssignAddVariableOp_2.\n"
     ]
    },
    {
     "name": "stdout",
     "output_type": "stream",
     "text": [
      "10/10 [==============================] - 1s 52ms/step - loss: 1.2504 - val_loss: 1.2355\n",
      "Epoch 2/10\n",
      "10/10 [==============================] - 0s 21ms/step - loss: 1.2301 - val_loss: 1.2154\n",
      "Epoch 3/10\n",
      "10/10 [==============================] - 0s 19ms/step - loss: 1.2098 - val_loss: 1.1965\n",
      "Epoch 4/10\n",
      "10/10 [==============================] - 0s 19ms/step - loss: 1.1911 - val_loss: 1.1782\n",
      "Epoch 5/10\n",
      "10/10 [==============================] - 0s 19ms/step - loss: 1.1729 - val_loss: 1.1606\n",
      "Epoch 6/10\n",
      "10/10 [==============================] - 0s 23ms/step - loss: 1.1551 - val_loss: 1.1437\n",
      "Epoch 7/10\n",
      "10/10 [==============================] - 0s 19ms/step - loss: 1.1380 - val_loss: 1.1272\n",
      "Epoch 8/10\n",
      "10/10 [==============================] - 0s 20ms/step - loss: 1.1214 - val_loss: 1.1110\n",
      "Epoch 9/10\n",
      "10/10 [==============================] - 0s 20ms/step - loss: 1.1047 - val_loss: 1.0953\n",
      "Epoch 10/10\n",
      "10/10 [==============================] - 0s 19ms/step - loss: 1.0886 - val_loss: 1.0798\n",
      "10/10 [==============================] - 0s 3ms/step\n",
      "0.018750000000000044\n",
      "3/3 [==============================] - 0s 6ms/step\n",
      "The presence of one_eye in resblock 2 is 0.050000000000000044\n",
      "Performing regression for layer 3\n",
      "Epoch 1/10\n"
     ]
    },
    {
     "name": "stderr",
     "output_type": "stream",
     "text": [
      "2024-03-01 13:45:10.517332: E tensorflow/core/grappler/optimizers/meta_optimizer.cc:954] model_pruner failed: INVALID_ARGUMENT: Graph does not contain terminal node AssignAddVariableOp_2.\n"
     ]
    },
    {
     "name": "stdout",
     "output_type": "stream",
     "text": [
      "10/10 [==============================] - 1s 50ms/step - loss: 1.2629 - val_loss: 1.2487\n",
      "Epoch 2/10\n",
      "10/10 [==============================] - 0s 22ms/step - loss: 1.2399 - val_loss: 1.2267\n",
      "Epoch 3/10\n",
      "10/10 [==============================] - 0s 20ms/step - loss: 1.2190 - val_loss: 1.2057\n",
      "Epoch 4/10\n",
      "10/10 [==============================] - 0s 19ms/step - loss: 1.1979 - val_loss: 1.1860\n",
      "Epoch 5/10\n",
      "10/10 [==============================] - 0s 17ms/step - loss: 1.1784 - val_loss: 1.1669\n",
      "Epoch 6/10\n",
      "10/10 [==============================] - 0s 19ms/step - loss: 1.1595 - val_loss: 1.1481\n",
      "Epoch 7/10\n",
      "10/10 [==============================] - 0s 19ms/step - loss: 1.1407 - val_loss: 1.1301\n",
      "Epoch 8/10\n",
      "10/10 [==============================] - 0s 19ms/step - loss: 1.1226 - val_loss: 1.1125\n",
      "Epoch 9/10\n",
      "10/10 [==============================] - 0s 21ms/step - loss: 1.1050 - val_loss: 1.0953\n",
      "Epoch 10/10\n",
      "10/10 [==============================] - 0s 20ms/step - loss: 1.0879 - val_loss: 1.0786\n",
      "10/10 [==============================] - 0s 3ms/step\n",
      "0.012499999999999956\n",
      "3/3 [==============================] - 0s 6ms/step\n",
      "The presence of one_eye in resblock 3 is 0.050000000000000044\n",
      "Performing regression for layer 4\n",
      "Epoch 1/10\n"
     ]
    },
    {
     "name": "stderr",
     "output_type": "stream",
     "text": [
      "2024-03-01 13:45:13.499415: E tensorflow/core/grappler/optimizers/meta_optimizer.cc:954] model_pruner failed: INVALID_ARGUMENT: Graph does not contain terminal node AssignAddVariableOp_2.\n"
     ]
    },
    {
     "name": "stdout",
     "output_type": "stream",
     "text": [
      "10/10 [==============================] - 1s 56ms/step - loss: 1.2975 - val_loss: 1.2882\n",
      "Epoch 2/10\n",
      "10/10 [==============================] - 0s 21ms/step - loss: 1.2699 - val_loss: 1.2613\n",
      "Epoch 3/10\n",
      "10/10 [==============================] - 0s 21ms/step - loss: 1.2442 - val_loss: 1.2378\n",
      "Epoch 4/10\n",
      "10/10 [==============================] - 0s 20ms/step - loss: 1.2213 - val_loss: 1.2168\n",
      "Epoch 5/10\n",
      "10/10 [==============================] - 0s 20ms/step - loss: 1.2006 - val_loss: 1.1970\n",
      "Epoch 6/10\n",
      "10/10 [==============================] - 0s 20ms/step - loss: 1.1815 - val_loss: 1.1781\n",
      "Epoch 7/10\n",
      "10/10 [==============================] - 0s 27ms/step - loss: 1.1629 - val_loss: 1.1603\n",
      "Epoch 8/10\n",
      "10/10 [==============================] - 0s 19ms/step - loss: 1.1450 - val_loss: 1.1431\n",
      "Epoch 9/10\n",
      "10/10 [==============================] - 0s 19ms/step - loss: 1.1277 - val_loss: 1.1265\n",
      "Epoch 10/10\n",
      "10/10 [==============================] - 0s 19ms/step - loss: 1.1108 - val_loss: 1.1103\n",
      "10/10 [==============================] - 0s 3ms/step\n",
      "0.018750000000000044\n",
      "3/3 [==============================] - 0s 6ms/step\n",
      "The presence of one_eye in resblock 4 is 0.050000000000000044\n",
      "Performing regression for layer 5\n",
      "Epoch 1/10\n"
     ]
    },
    {
     "name": "stderr",
     "output_type": "stream",
     "text": [
      "2024-03-01 13:45:16.588163: E tensorflow/core/grappler/optimizers/meta_optimizer.cc:954] model_pruner failed: INVALID_ARGUMENT: Graph does not contain terminal node AssignAddVariableOp_2.\n"
     ]
    },
    {
     "name": "stdout",
     "output_type": "stream",
     "text": [
      "10/10 [==============================] - 1s 53ms/step - loss: 1.2470 - val_loss: 1.2356\n",
      "Epoch 2/10\n",
      "10/10 [==============================] - 0s 21ms/step - loss: 1.2273 - val_loss: 1.2164\n",
      "Epoch 3/10\n",
      "10/10 [==============================] - 0s 20ms/step - loss: 1.2081 - val_loss: 1.1975\n",
      "Epoch 4/10\n",
      "10/10 [==============================] - 0s 19ms/step - loss: 1.1894 - val_loss: 1.1788\n",
      "Epoch 5/10\n",
      "10/10 [==============================] - 0s 20ms/step - loss: 1.1706 - val_loss: 1.1607\n",
      "Epoch 6/10\n",
      "10/10 [==============================] - 0s 20ms/step - loss: 1.1524 - val_loss: 1.1428\n",
      "Epoch 7/10\n",
      "10/10 [==============================] - 0s 19ms/step - loss: 1.1346 - val_loss: 1.1253\n",
      "Epoch 8/10\n",
      "10/10 [==============================] - 0s 19ms/step - loss: 1.1169 - val_loss: 1.1081\n",
      "Epoch 9/10\n",
      "10/10 [==============================] - 0s 21ms/step - loss: 1.0999 - val_loss: 1.0914\n",
      "Epoch 10/10\n",
      "10/10 [==============================] - 0s 20ms/step - loss: 1.0831 - val_loss: 1.0752\n",
      "10/10 [==============================] - 0s 3ms/step\n",
      "0.012499999999999956\n",
      "3/3 [==============================] - 0s 6ms/step\n",
      "The presence of one_eye in resblock 5 is 0.050000000000000044\n",
      "Performing regression for layer 6\n",
      "Epoch 1/10\n"
     ]
    },
    {
     "name": "stderr",
     "output_type": "stream",
     "text": [
      "2024-03-01 13:45:19.599573: E tensorflow/core/grappler/optimizers/meta_optimizer.cc:954] model_pruner failed: INVALID_ARGUMENT: Graph does not contain terminal node AssignAddVariableOp_2.\n"
     ]
    },
    {
     "name": "stdout",
     "output_type": "stream",
     "text": [
      "10/10 [==============================] - 1s 54ms/step - loss: 1.2803 - val_loss: 1.2529\n",
      "Epoch 2/10\n",
      "10/10 [==============================] - 0s 20ms/step - loss: 1.2363 - val_loss: 1.2219\n",
      "Epoch 3/10\n",
      "10/10 [==============================] - 0s 22ms/step - loss: 1.2100 - val_loss: 1.1993\n",
      "Epoch 4/10\n",
      "10/10 [==============================] - 0s 19ms/step - loss: 1.1888 - val_loss: 1.1814\n",
      "Epoch 5/10\n",
      "10/10 [==============================] - 0s 20ms/step - loss: 1.1706 - val_loss: 1.1648\n",
      "Epoch 6/10\n",
      "10/10 [==============================] - 0s 19ms/step - loss: 1.1532 - val_loss: 1.1488\n",
      "Epoch 7/10\n",
      "10/10 [==============================] - 0s 20ms/step - loss: 1.1365 - val_loss: 1.1331\n",
      "Epoch 8/10\n",
      "10/10 [==============================] - 0s 19ms/step - loss: 1.1198 - val_loss: 1.1176\n",
      "Epoch 9/10\n",
      "10/10 [==============================] - 0s 27ms/step - loss: 1.1032 - val_loss: 1.1026\n",
      "Epoch 10/10\n",
      "10/10 [==============================] - 0s 20ms/step - loss: 1.0874 - val_loss: 1.0878\n",
      "10/10 [==============================] - 0s 3ms/step\n",
      "0.19999999999999996\n",
      "3/3 [==============================] - 0s 6ms/step\n",
      "The presence of one_eye in resblock 6 is 0.2250000000000001\n",
      "Performing regression for layer 7\n",
      "Epoch 1/10\n"
     ]
    },
    {
     "name": "stderr",
     "output_type": "stream",
     "text": [
      "2024-03-01 13:45:22.677031: E tensorflow/core/grappler/optimizers/meta_optimizer.cc:954] model_pruner failed: INVALID_ARGUMENT: Graph does not contain terminal node AssignAddVariableOp_2.\n"
     ]
    },
    {
     "name": "stdout",
     "output_type": "stream",
     "text": [
      "10/10 [==============================] - 1s 55ms/step - loss: 0.7656 - val_loss: 0.7661\n",
      "Epoch 2/10\n",
      "10/10 [==============================] - 0s 22ms/step - loss: 0.7652 - val_loss: 0.7658\n",
      "Epoch 3/10\n",
      "10/10 [==============================] - 0s 20ms/step - loss: 0.7649 - val_loss: 0.7654\n",
      "Epoch 4/10\n",
      "10/10 [==============================] - 0s 20ms/step - loss: 0.7645 - val_loss: 0.7651\n",
      "Epoch 5/10\n",
      "10/10 [==============================] - 0s 19ms/step - loss: 0.7642 - val_loss: 0.7648\n",
      "Epoch 6/10\n",
      "10/10 [==============================] - 0s 19ms/step - loss: 0.7638 - val_loss: 0.7644\n",
      "Epoch 7/10\n",
      "10/10 [==============================] - 0s 20ms/step - loss: 0.7635 - val_loss: 0.7641\n",
      "Epoch 8/10\n",
      "10/10 [==============================] - 0s 19ms/step - loss: 0.7631 - val_loss: 0.7637\n",
      "Epoch 9/10\n",
      "10/10 [==============================] - 0s 20ms/step - loss: 0.7628 - val_loss: 0.7634\n",
      "Epoch 10/10\n",
      "10/10 [==============================] - 0s 19ms/step - loss: 0.7625 - val_loss: 0.7631\n",
      "10/10 [==============================] - 0s 3ms/step\n",
      "-0.012499999999999956\n",
      "3/3 [==============================] - 0s 6ms/step\n"
     ]
    },
    {
     "name": "stderr",
     "output_type": "stream",
     "text": [
      "Epochs:  17%|█▋        | 1/6 [00:25<02:09, 25.95s/it]"
     ]
    },
    {
     "name": "stdout",
     "output_type": "stream",
     "text": [
      "The presence of one_eye in resblock 7 is 0\n"
     ]
    },
    {
     "name": "stderr",
     "output_type": "stream",
     "text": [
      "Getting activation outputs: 100%|██████████| 13/13 [00:00<00:00, 33.23it/s]\n"
     ]
    },
    {
     "name": "stdout",
     "output_type": "stream",
     "text": [
      "Performing regression for layer 0\n",
      "Epoch 1/10\n"
     ]
    },
    {
     "name": "stderr",
     "output_type": "stream",
     "text": [
      "2024-03-01 13:45:26.590064: E tensorflow/core/grappler/optimizers/meta_optimizer.cc:954] model_pruner failed: INVALID_ARGUMENT: Graph does not contain terminal node AssignAddVariableOp_2.\n"
     ]
    },
    {
     "name": "stdout",
     "output_type": "stream",
     "text": [
      "10/10 [==============================] - 1s 54ms/step - loss: 1.2506 - val_loss: 1.2427\n",
      "Epoch 2/10\n",
      "10/10 [==============================] - 0s 21ms/step - loss: 1.2276 - val_loss: 1.2224\n",
      "Epoch 3/10\n",
      "10/10 [==============================] - 0s 20ms/step - loss: 1.2055 - val_loss: 1.2033\n",
      "Epoch 4/10\n",
      "10/10 [==============================] - 0s 19ms/step - loss: 1.1854 - val_loss: 1.1850\n",
      "Epoch 5/10\n",
      "10/10 [==============================] - 0s 21ms/step - loss: 1.1659 - val_loss: 1.1671\n",
      "Epoch 6/10\n",
      "10/10 [==============================] - 0s 20ms/step - loss: 1.1479 - val_loss: 1.1499\n",
      "Epoch 7/10\n",
      "10/10 [==============================] - 0s 20ms/step - loss: 1.1293 - val_loss: 1.1329\n",
      "Epoch 8/10\n",
      "10/10 [==============================] - 0s 19ms/step - loss: 1.1121 - val_loss: 1.1161\n",
      "Epoch 9/10\n",
      "10/10 [==============================] - 0s 19ms/step - loss: 1.0949 - val_loss: 1.0997\n",
      "Epoch 10/10\n",
      "10/10 [==============================] - 0s 20ms/step - loss: 1.0783 - val_loss: 1.0834\n",
      "10/10 [==============================] - 0s 3ms/step\n",
      "0.012499999999999956\n",
      "3/3 [==============================] - 0s 6ms/step\n",
      "The presence of one_eye in resblock 0 is 0\n",
      "Performing regression for layer 1\n",
      "Epoch 1/10\n"
     ]
    },
    {
     "name": "stderr",
     "output_type": "stream",
     "text": [
      "2024-03-01 13:45:29.608619: E tensorflow/core/grappler/optimizers/meta_optimizer.cc:954] model_pruner failed: INVALID_ARGUMENT: Graph does not contain terminal node AssignAddVariableOp_2.\n"
     ]
    },
    {
     "name": "stdout",
     "output_type": "stream",
     "text": [
      "10/10 [==============================] - 1s 56ms/step - loss: 1.2956 - val_loss: 1.2699\n",
      "Epoch 2/10\n",
      "10/10 [==============================] - 0s 22ms/step - loss: 1.2392 - val_loss: 1.2305\n",
      "Epoch 3/10\n",
      "10/10 [==============================] - 0s 21ms/step - loss: 1.1974 - val_loss: 1.1993\n",
      "Epoch 4/10\n",
      "10/10 [==============================] - 0s 20ms/step - loss: 1.1606 - val_loss: 1.1718\n",
      "Epoch 5/10\n",
      "10/10 [==============================] - 0s 19ms/step - loss: 1.1289 - val_loss: 1.1460\n",
      "Epoch 6/10\n",
      "10/10 [==============================] - 0s 20ms/step - loss: 1.1007 - val_loss: 1.1229\n",
      "Epoch 7/10\n",
      "10/10 [==============================] - 0s 19ms/step - loss: 1.0761 - val_loss: 1.1017\n",
      "Epoch 8/10\n",
      "10/10 [==============================] - 0s 20ms/step - loss: 1.0537 - val_loss: 1.0815\n",
      "Epoch 9/10\n",
      "10/10 [==============================] - 0s 21ms/step - loss: 1.0318 - val_loss: 1.0628\n",
      "Epoch 10/10\n",
      "10/10 [==============================] - 0s 20ms/step - loss: 1.0125 - val_loss: 1.0442\n",
      "10/10 [==============================] - 0s 3ms/step\n",
      "0.7375\n",
      "3/3 [==============================] - 0s 6ms/step\n",
      "The presence of one_eye in resblock 1 is 0.6499999999999999\n",
      "Performing regression for layer 2\n",
      "Epoch 1/10\n"
     ]
    },
    {
     "name": "stderr",
     "output_type": "stream",
     "text": [
      "2024-03-01 13:45:34.061029: E tensorflow/core/grappler/optimizers/meta_optimizer.cc:954] model_pruner failed: INVALID_ARGUMENT: Graph does not contain terminal node AssignAddVariableOp_2.\n"
     ]
    },
    {
     "name": "stdout",
     "output_type": "stream",
     "text": [
      "10/10 [==============================] - 1s 55ms/step - loss: 1.2322 - val_loss: 1.2376\n",
      "Epoch 2/10\n",
      "10/10 [==============================] - 0s 21ms/step - loss: 1.2096 - val_loss: 1.2173\n",
      "Epoch 3/10\n",
      "10/10 [==============================] - 0s 20ms/step - loss: 1.1890 - val_loss: 1.1984\n",
      "Epoch 4/10\n",
      "10/10 [==============================] - 0s 20ms/step - loss: 1.1687 - val_loss: 1.1791\n",
      "Epoch 5/10\n",
      "10/10 [==============================] - 0s 20ms/step - loss: 1.1488 - val_loss: 1.1595\n",
      "Epoch 6/10\n",
      "10/10 [==============================] - 0s 20ms/step - loss: 1.1295 - val_loss: 1.1408\n",
      "Epoch 7/10\n",
      "10/10 [==============================] - 0s 20ms/step - loss: 1.1109 - val_loss: 1.1220\n",
      "Epoch 8/10\n",
      "10/10 [==============================] - 0s 20ms/step - loss: 1.0925 - val_loss: 1.1049\n",
      "Epoch 9/10\n",
      "10/10 [==============================] - 0s 20ms/step - loss: 1.0747 - val_loss: 1.0885\n",
      "Epoch 10/10\n",
      "10/10 [==============================] - 0s 20ms/step - loss: 1.0577 - val_loss: 1.0708\n",
      "10/10 [==============================] - 0s 3ms/step\n",
      "0.46875\n",
      "3/3 [==============================] - 0s 5ms/step\n",
      "The presence of one_eye in resblock 2 is 0.42500000000000004\n",
      "Performing regression for layer 3\n",
      "Epoch 1/10\n"
     ]
    },
    {
     "name": "stderr",
     "output_type": "stream",
     "text": [
      "2024-03-01 13:45:37.039379: E tensorflow/core/grappler/optimizers/meta_optimizer.cc:954] model_pruner failed: INVALID_ARGUMENT: Graph does not contain terminal node AssignAddVariableOp_2.\n"
     ]
    },
    {
     "name": "stdout",
     "output_type": "stream",
     "text": [
      "10/10 [==============================] - 1s 52ms/step - loss: 1.2840 - val_loss: 1.2714\n",
      "Epoch 2/10\n",
      "10/10 [==============================] - 0s 21ms/step - loss: 1.2422 - val_loss: 1.2348\n",
      "Epoch 3/10\n",
      "10/10 [==============================] - 0s 21ms/step - loss: 1.2089 - val_loss: 1.2051\n",
      "Epoch 4/10\n",
      "10/10 [==============================] - 0s 23ms/step - loss: 1.1782 - val_loss: 1.1777\n",
      "Epoch 5/10\n",
      "10/10 [==============================] - 0s 20ms/step - loss: 1.1503 - val_loss: 1.1533\n",
      "Epoch 6/10\n",
      "10/10 [==============================] - 0s 20ms/step - loss: 1.1236 - val_loss: 1.1283\n",
      "Epoch 7/10\n",
      "10/10 [==============================] - 0s 19ms/step - loss: 1.0987 - val_loss: 1.1058\n",
      "Epoch 8/10\n",
      "10/10 [==============================] - 0s 20ms/step - loss: 1.0745 - val_loss: 1.0839\n",
      "Epoch 9/10\n",
      "10/10 [==============================] - 0s 20ms/step - loss: 1.0530 - val_loss: 1.0632\n",
      "Epoch 10/10\n",
      "10/10 [==============================] - 0s 27ms/step - loss: 1.0309 - val_loss: 1.0431\n",
      "10/10 [==============================] - 0s 3ms/step\n",
      "0.66875\n",
      "3/3 [==============================] - 0s 6ms/step\n",
      "The presence of one_eye in resblock 3 is 0.5249999999999999\n",
      "Performing regression for layer 4\n",
      "Epoch 1/10\n"
     ]
    },
    {
     "name": "stderr",
     "output_type": "stream",
     "text": [
      "2024-03-01 13:45:40.092358: E tensorflow/core/grappler/optimizers/meta_optimizer.cc:954] model_pruner failed: INVALID_ARGUMENT: Graph does not contain terminal node AssignAddVariableOp_2.\n"
     ]
    },
    {
     "name": "stdout",
     "output_type": "stream",
     "text": [
      "10/10 [==============================] - 1s 53ms/step - loss: 1.3099 - val_loss: 1.2794\n",
      "Epoch 2/10\n",
      "10/10 [==============================] - 0s 20ms/step - loss: 1.2720 - val_loss: 1.2444\n",
      "Epoch 3/10\n",
      "10/10 [==============================] - 0s 20ms/step - loss: 1.2403 - val_loss: 1.2124\n",
      "Epoch 4/10\n",
      "10/10 [==============================] - 0s 20ms/step - loss: 1.2088 - val_loss: 1.1869\n",
      "Epoch 5/10\n",
      "10/10 [==============================] - 0s 20ms/step - loss: 1.1800 - val_loss: 1.1612\n",
      "Epoch 6/10\n",
      "10/10 [==============================] - 0s 20ms/step - loss: 1.1530 - val_loss: 1.1375\n",
      "Epoch 7/10\n",
      "10/10 [==============================] - 0s 20ms/step - loss: 1.1274 - val_loss: 1.1148\n",
      "Epoch 8/10\n",
      "10/10 [==============================] - 0s 20ms/step - loss: 1.1032 - val_loss: 1.0939\n",
      "Epoch 9/10\n",
      "10/10 [==============================] - 0s 20ms/step - loss: 1.0793 - val_loss: 1.0739\n",
      "Epoch 10/10\n",
      "10/10 [==============================] - 0s 19ms/step - loss: 1.0577 - val_loss: 1.0542\n",
      "10/10 [==============================] - 0s 3ms/step\n",
      "0.6937500000000001\n",
      "3/3 [==============================] - 0s 6ms/step\n",
      "The presence of one_eye in resblock 4 is 0.675\n",
      "Performing regression for layer 5\n",
      "Epoch 1/10\n"
     ]
    },
    {
     "name": "stderr",
     "output_type": "stream",
     "text": [
      "2024-03-01 13:45:43.072029: E tensorflow/core/grappler/optimizers/meta_optimizer.cc:954] model_pruner failed: INVALID_ARGUMENT: Graph does not contain terminal node AssignAddVariableOp_2.\n"
     ]
    },
    {
     "name": "stdout",
     "output_type": "stream",
     "text": [
      "10/10 [==============================] - 1s 54ms/step - loss: 1.2604 - val_loss: 1.2341\n",
      "Epoch 2/10\n",
      "10/10 [==============================] - 0s 20ms/step - loss: 1.2226 - val_loss: 1.2069\n",
      "Epoch 3/10\n",
      "10/10 [==============================] - 0s 21ms/step - loss: 1.1983 - val_loss: 1.1859\n",
      "Epoch 4/10\n",
      "10/10 [==============================] - 0s 20ms/step - loss: 1.1741 - val_loss: 1.1656\n",
      "Epoch 5/10\n",
      "10/10 [==============================] - 0s 21ms/step - loss: 1.1517 - val_loss: 1.1482\n",
      "Epoch 6/10\n",
      "10/10 [==============================] - 0s 20ms/step - loss: 1.1292 - val_loss: 1.1289\n",
      "Epoch 7/10\n",
      "10/10 [==============================] - 0s 19ms/step - loss: 1.1072 - val_loss: 1.1081\n",
      "Epoch 8/10\n",
      "10/10 [==============================] - 0s 20ms/step - loss: 1.0871 - val_loss: 1.0897\n",
      "Epoch 9/10\n",
      "10/10 [==============================] - 0s 19ms/step - loss: 1.0682 - val_loss: 1.0724\n",
      "Epoch 10/10\n",
      "10/10 [==============================] - 0s 20ms/step - loss: 1.0482 - val_loss: 1.0548\n",
      "10/10 [==============================] - 0s 3ms/step\n",
      "0.5625\n",
      "3/3 [==============================] - 0s 6ms/step\n",
      "The presence of one_eye in resblock 5 is 0.55\n",
      "Performing regression for layer 6\n",
      "Epoch 1/10\n"
     ]
    },
    {
     "name": "stderr",
     "output_type": "stream",
     "text": [
      "2024-03-01 13:45:46.148054: E tensorflow/core/grappler/optimizers/meta_optimizer.cc:954] model_pruner failed: INVALID_ARGUMENT: Graph does not contain terminal node AssignAddVariableOp_2.\n"
     ]
    },
    {
     "name": "stdout",
     "output_type": "stream",
     "text": [
      "10/10 [==============================] - 1s 53ms/step - loss: 1.2718 - val_loss: 1.2458\n",
      "Epoch 2/10\n",
      "10/10 [==============================] - 0s 21ms/step - loss: 1.2450 - val_loss: 1.2219\n",
      "Epoch 3/10\n",
      "10/10 [==============================] - 0s 20ms/step - loss: 1.2198 - val_loss: 1.1990\n",
      "Epoch 4/10\n",
      "10/10 [==============================] - 0s 20ms/step - loss: 1.1957 - val_loss: 1.1760\n",
      "Epoch 5/10\n",
      "10/10 [==============================] - 0s 19ms/step - loss: 1.1719 - val_loss: 1.1554\n",
      "Epoch 6/10\n",
      "10/10 [==============================] - 0s 20ms/step - loss: 1.1490 - val_loss: 1.1346\n",
      "Epoch 7/10\n",
      "10/10 [==============================] - 0s 19ms/step - loss: 1.1270 - val_loss: 1.1139\n",
      "Epoch 8/10\n",
      "10/10 [==============================] - 0s 20ms/step - loss: 1.1052 - val_loss: 1.0941\n",
      "Epoch 9/10\n",
      "10/10 [==============================] - 0s 20ms/step - loss: 1.0844 - val_loss: 1.0750\n",
      "Epoch 10/10\n",
      "10/10 [==============================] - 0s 19ms/step - loss: 1.0640 - val_loss: 1.0569\n",
      "10/10 [==============================] - 0s 3ms/step\n",
      "0.65625\n",
      "3/3 [==============================] - 0s 6ms/step\n",
      "The presence of one_eye in resblock 6 is 0.6499999999999999\n",
      "Performing regression for layer 7\n",
      "Epoch 1/10\n"
     ]
    },
    {
     "name": "stderr",
     "output_type": "stream",
     "text": [
      "2024-03-01 13:45:49.135908: E tensorflow/core/grappler/optimizers/meta_optimizer.cc:954] model_pruner failed: INVALID_ARGUMENT: Graph does not contain terminal node AssignAddVariableOp_2.\n"
     ]
    },
    {
     "name": "stdout",
     "output_type": "stream",
     "text": [
      "10/10 [==============================] - 1s 56ms/step - loss: 0.8106 - val_loss: 0.7894\n",
      "Epoch 2/10\n",
      "10/10 [==============================] - 0s 21ms/step - loss: 0.8084 - val_loss: 0.7878\n",
      "Epoch 3/10\n",
      "10/10 [==============================] - 0s 20ms/step - loss: 0.8065 - val_loss: 0.7863\n",
      "Epoch 4/10\n",
      "10/10 [==============================] - 0s 21ms/step - loss: 0.8046 - val_loss: 0.7848\n",
      "Epoch 5/10\n",
      "10/10 [==============================] - 0s 20ms/step - loss: 0.8029 - val_loss: 0.7834\n",
      "Epoch 6/10\n",
      "10/10 [==============================] - 0s 23ms/step - loss: 0.8011 - val_loss: 0.7822\n",
      "Epoch 7/10\n",
      "10/10 [==============================] - 0s 20ms/step - loss: 0.7995 - val_loss: 0.7808\n",
      "Epoch 8/10\n",
      "10/10 [==============================] - 0s 20ms/step - loss: 0.7980 - val_loss: 0.7795\n",
      "Epoch 9/10\n",
      "10/10 [==============================] - 0s 20ms/step - loss: 0.7963 - val_loss: 0.7783\n",
      "Epoch 10/10\n",
      "10/10 [==============================] - 0s 20ms/step - loss: 0.7948 - val_loss: 0.7771\n",
      "10/10 [==============================] - 0s 3ms/step\n",
      "0.16874999999999996\n",
      "3/3 [==============================] - 0s 6ms/step\n"
     ]
    },
    {
     "name": "stderr",
     "output_type": "stream",
     "text": [
      "Epochs:  33%|███▎      | 2/6 [00:52<01:45, 26.26s/it]"
     ]
    },
    {
     "name": "stdout",
     "output_type": "stream",
     "text": [
      "The presence of one_eye in resblock 7 is 0.25\n"
     ]
    },
    {
     "name": "stderr",
     "output_type": "stream",
     "text": [
      "Getting activation outputs: 100%|██████████| 13/13 [00:00<00:00, 34.08it/s]\n"
     ]
    },
    {
     "name": "stdout",
     "output_type": "stream",
     "text": [
      "Performing regression for layer 0\n",
      "Epoch 1/10\n"
     ]
    },
    {
     "name": "stderr",
     "output_type": "stream",
     "text": [
      "2024-03-01 13:45:53.048545: E tensorflow/core/grappler/optimizers/meta_optimizer.cc:954] model_pruner failed: INVALID_ARGUMENT: Graph does not contain terminal node AssignAddVariableOp_2.\n"
     ]
    },
    {
     "name": "stdout",
     "output_type": "stream",
     "text": [
      "10/10 [==============================] - 1s 53ms/step - loss: 1.2652 - val_loss: 1.2658\n",
      "Epoch 2/10\n",
      "10/10 [==============================] - 0s 23ms/step - loss: 1.2421 - val_loss: 1.2408\n",
      "Epoch 3/10\n",
      "10/10 [==============================] - 0s 21ms/step - loss: 1.2195 - val_loss: 1.2192\n",
      "Epoch 4/10\n",
      "10/10 [==============================] - 0s 21ms/step - loss: 1.1999 - val_loss: 1.1987\n",
      "Epoch 5/10\n",
      "10/10 [==============================] - 0s 20ms/step - loss: 1.1812 - val_loss: 1.1797\n",
      "Epoch 6/10\n",
      "10/10 [==============================] - 0s 20ms/step - loss: 1.1636 - val_loss: 1.1612\n",
      "Epoch 7/10\n",
      "10/10 [==============================] - 0s 19ms/step - loss: 1.1465 - val_loss: 1.1436\n",
      "Epoch 8/10\n",
      "10/10 [==============================] - 0s 18ms/step - loss: 1.1299 - val_loss: 1.1262\n",
      "Epoch 9/10\n",
      "10/10 [==============================] - 0s 19ms/step - loss: 1.1136 - val_loss: 1.1092\n",
      "Epoch 10/10\n",
      "10/10 [==============================] - 0s 19ms/step - loss: 1.0974 - val_loss: 1.0926\n",
      "10/10 [==============================] - 0s 3ms/step\n",
      "0.06875000000000009\n",
      "3/3 [==============================] - 0s 7ms/step\n",
      "The presence of one_eye in resblock 0 is 0.050000000000000044\n",
      "Performing regression for layer 1\n",
      "Epoch 1/10\n"
     ]
    },
    {
     "name": "stderr",
     "output_type": "stream",
     "text": [
      "2024-03-01 13:45:56.045879: E tensorflow/core/grappler/optimizers/meta_optimizer.cc:954] model_pruner failed: INVALID_ARGUMENT: Graph does not contain terminal node AssignAddVariableOp_2.\n"
     ]
    },
    {
     "name": "stdout",
     "output_type": "stream",
     "text": [
      "10/10 [==============================] - 1s 57ms/step - loss: 1.6063 - val_loss: 1.4363\n",
      "Epoch 2/10\n",
      "10/10 [==============================] - 0s 21ms/step - loss: 1.4844 - val_loss: 1.3345\n",
      "Epoch 3/10\n",
      "10/10 [==============================] - 0s 21ms/step - loss: 1.3908 - val_loss: 1.2508\n",
      "Epoch 4/10\n",
      "10/10 [==============================] - 0s 20ms/step - loss: 1.3068 - val_loss: 1.1865\n",
      "Epoch 5/10\n",
      "10/10 [==============================] - 0s 20ms/step - loss: 1.2401 - val_loss: 1.1320\n",
      "Epoch 6/10\n",
      "10/10 [==============================] - 0s 20ms/step - loss: 1.1845 - val_loss: 1.0893\n",
      "Epoch 7/10\n",
      "10/10 [==============================] - 0s 20ms/step - loss: 1.1401 - val_loss: 1.0530\n",
      "Epoch 8/10\n",
      "10/10 [==============================] - 0s 20ms/step - loss: 1.1031 - val_loss: 1.0204\n",
      "Epoch 9/10\n",
      "10/10 [==============================] - 0s 20ms/step - loss: 1.0704 - val_loss: 0.9937\n",
      "Epoch 10/10\n",
      "10/10 [==============================] - 0s 22ms/step - loss: 1.0419 - val_loss: 0.9716\n",
      "10/10 [==============================] - 0s 3ms/step\n",
      "0.6312500000000001\n",
      "3/3 [==============================] - 0s 6ms/step\n",
      "The presence of one_eye in resblock 1 is 0.6499999999999999\n",
      "Performing regression for layer 2\n",
      "Epoch 1/10\n"
     ]
    },
    {
     "name": "stderr",
     "output_type": "stream",
     "text": [
      "2024-03-01 13:45:59.173132: E tensorflow/core/grappler/optimizers/meta_optimizer.cc:954] model_pruner failed: INVALID_ARGUMENT: Graph does not contain terminal node AssignAddVariableOp_2.\n"
     ]
    },
    {
     "name": "stdout",
     "output_type": "stream",
     "text": [
      "10/10 [==============================] - 1s 57ms/step - loss: 1.5423 - val_loss: 1.4329\n",
      "Epoch 2/10\n",
      "10/10 [==============================] - 0s 24ms/step - loss: 1.4279 - val_loss: 1.3598\n",
      "Epoch 3/10\n",
      "10/10 [==============================] - 0s 21ms/step - loss: 1.3664 - val_loss: 1.3061\n",
      "Epoch 4/10\n",
      "10/10 [==============================] - 0s 24ms/step - loss: 1.3131 - val_loss: 1.2517\n",
      "Epoch 5/10\n",
      "10/10 [==============================] - 0s 21ms/step - loss: 1.2606 - val_loss: 1.2071\n",
      "Epoch 6/10\n",
      "10/10 [==============================] - 0s 20ms/step - loss: 1.2184 - val_loss: 1.1673\n",
      "Epoch 7/10\n",
      "10/10 [==============================] - 0s 20ms/step - loss: 1.1808 - val_loss: 1.1311\n",
      "Epoch 8/10\n",
      "10/10 [==============================] - 0s 20ms/step - loss: 1.1455 - val_loss: 1.0998\n",
      "Epoch 9/10\n",
      "10/10 [==============================] - 0s 20ms/step - loss: 1.1155 - val_loss: 1.0713\n",
      "Epoch 10/10\n",
      "10/10 [==============================] - 0s 19ms/step - loss: 1.0875 - val_loss: 1.0465\n",
      "10/10 [==============================] - 0s 3ms/step\n",
      "0.5\n",
      "3/3 [==============================] - 0s 6ms/step\n",
      "The presence of one_eye in resblock 2 is 0.625\n",
      "Performing regression for layer 3\n",
      "Epoch 1/10\n"
     ]
    },
    {
     "name": "stderr",
     "output_type": "stream",
     "text": [
      "2024-03-01 13:46:02.314395: E tensorflow/core/grappler/optimizers/meta_optimizer.cc:954] model_pruner failed: INVALID_ARGUMENT: Graph does not contain terminal node AssignAddVariableOp_2.\n"
     ]
    },
    {
     "name": "stdout",
     "output_type": "stream",
     "text": [
      "10/10 [==============================] - 1s 61ms/step - loss: 1.1911 - val_loss: 1.1255\n",
      "Epoch 2/10\n",
      "10/10 [==============================] - 0s 20ms/step - loss: 1.1149 - val_loss: 1.0612\n",
      "Epoch 3/10\n",
      "10/10 [==============================] - 0s 21ms/step - loss: 1.0568 - val_loss: 1.0136\n",
      "Epoch 4/10\n",
      "10/10 [==============================] - 0s 20ms/step - loss: 1.0132 - val_loss: 0.9710\n",
      "Epoch 5/10\n",
      "10/10 [==============================] - 0s 20ms/step - loss: 0.9774 - val_loss: 0.9416\n",
      "Epoch 6/10\n",
      "10/10 [==============================] - 0s 21ms/step - loss: 0.9488 - val_loss: 0.9156\n",
      "Epoch 7/10\n",
      "10/10 [==============================] - 0s 20ms/step - loss: 0.9252 - val_loss: 0.8925\n",
      "Epoch 8/10\n",
      "10/10 [==============================] - 0s 20ms/step - loss: 0.9050 - val_loss: 0.8758\n",
      "Epoch 9/10\n",
      "10/10 [==============================] - 0s 20ms/step - loss: 0.8874 - val_loss: 0.8606\n",
      "Epoch 10/10\n",
      "10/10 [==============================] - 0s 21ms/step - loss: 0.8715 - val_loss: 0.8478\n",
      "10/10 [==============================] - 0s 3ms/step\n",
      "0.76875\n",
      "3/3 [==============================] - 0s 6ms/step\n",
      "The presence of one_eye in resblock 3 is 0.8\n",
      "Performing regression for layer 4\n",
      "Epoch 1/10\n"
     ]
    },
    {
     "name": "stderr",
     "output_type": "stream",
     "text": [
      "2024-03-01 13:46:05.454023: E tensorflow/core/grappler/optimizers/meta_optimizer.cc:954] model_pruner failed: INVALID_ARGUMENT: Graph does not contain terminal node AssignAddVariableOp_2.\n"
     ]
    },
    {
     "name": "stdout",
     "output_type": "stream",
     "text": [
      "10/10 [==============================] - 1s 60ms/step - loss: 1.5462 - val_loss: 1.4901\n",
      "Epoch 2/10\n",
      "10/10 [==============================] - 0s 23ms/step - loss: 1.4389 - val_loss: 1.3946\n",
      "Epoch 3/10\n",
      "10/10 [==============================] - 0s 21ms/step - loss: 1.3462 - val_loss: 1.3164\n",
      "Epoch 4/10\n",
      "10/10 [==============================] - 0s 21ms/step - loss: 1.2715 - val_loss: 1.2465\n",
      "Epoch 5/10\n",
      "10/10 [==============================] - 0s 22ms/step - loss: 1.2037 - val_loss: 1.1850\n",
      "Epoch 6/10\n",
      "10/10 [==============================] - 0s 20ms/step - loss: 1.1504 - val_loss: 1.1347\n",
      "Epoch 7/10\n",
      "10/10 [==============================] - 0s 20ms/step - loss: 1.1046 - val_loss: 1.0955\n",
      "Epoch 8/10\n",
      "10/10 [==============================] - 0s 20ms/step - loss: 1.0664 - val_loss: 1.0658\n",
      "Epoch 9/10\n",
      "10/10 [==============================] - 0s 22ms/step - loss: 1.0351 - val_loss: 1.0343\n",
      "Epoch 10/10\n",
      "10/10 [==============================] - 0s 22ms/step - loss: 1.0084 - val_loss: 1.0135\n",
      "10/10 [==============================] - 0s 3ms/step\n",
      "0.59375\n",
      "3/3 [==============================] - 0s 7ms/step\n",
      "The presence of one_eye in resblock 4 is 0.5249999999999999\n",
      "Performing regression for layer 5\n",
      "Epoch 1/10\n"
     ]
    },
    {
     "name": "stderr",
     "output_type": "stream",
     "text": [
      "2024-03-01 13:46:08.716889: E tensorflow/core/grappler/optimizers/meta_optimizer.cc:954] model_pruner failed: INVALID_ARGUMENT: Graph does not contain terminal node AssignAddVariableOp_2.\n"
     ]
    },
    {
     "name": "stdout",
     "output_type": "stream",
     "text": [
      "10/10 [==============================] - 1s 71ms/step - loss: 1.2908 - val_loss: 1.1982\n",
      "Epoch 2/10\n",
      "10/10 [==============================] - 0s 22ms/step - loss: 1.1649 - val_loss: 1.1095\n",
      "Epoch 3/10\n",
      "10/10 [==============================] - 0s 22ms/step - loss: 1.1105 - val_loss: 1.0600\n",
      "Epoch 4/10\n",
      "10/10 [==============================] - 0s 21ms/step - loss: 1.0649 - val_loss: 1.0300\n",
      "Epoch 5/10\n",
      "10/10 [==============================] - 0s 21ms/step - loss: 1.0398 - val_loss: 1.0133\n",
      "Epoch 6/10\n",
      "10/10 [==============================] - 0s 24ms/step - loss: 1.0130 - val_loss: 0.9876\n",
      "Epoch 7/10\n",
      "10/10 [==============================] - 0s 21ms/step - loss: 0.9916 - val_loss: 0.9680\n",
      "Epoch 8/10\n",
      "10/10 [==============================] - 0s 23ms/step - loss: 0.9725 - val_loss: 0.9538\n",
      "Epoch 9/10\n",
      "10/10 [==============================] - 0s 22ms/step - loss: 0.9536 - val_loss: 0.9414\n",
      "Epoch 10/10\n",
      "10/10 [==============================] - 0s 21ms/step - loss: 0.9370 - val_loss: 0.9295\n",
      "10/10 [==============================] - 0s 3ms/step\n",
      "0.6499999999999999\n",
      "3/3 [==============================] - 0s 7ms/step\n",
      "The presence of one_eye in resblock 5 is 0.75\n",
      "Performing regression for layer 6\n",
      "Epoch 1/10\n"
     ]
    },
    {
     "name": "stderr",
     "output_type": "stream",
     "text": [
      "2024-03-01 13:46:12.178628: E tensorflow/core/grappler/optimizers/meta_optimizer.cc:954] model_pruner failed: INVALID_ARGUMENT: Graph does not contain terminal node AssignAddVariableOp_2.\n"
     ]
    },
    {
     "name": "stdout",
     "output_type": "stream",
     "text": [
      "10/10 [==============================] - 1s 61ms/step - loss: 1.2843 - val_loss: 1.1989\n",
      "Epoch 2/10\n",
      "10/10 [==============================] - 0s 27ms/step - loss: 1.2195 - val_loss: 1.1468\n",
      "Epoch 3/10\n",
      "10/10 [==============================] - 0s 22ms/step - loss: 1.1759 - val_loss: 1.1151\n",
      "Epoch 4/10\n",
      "10/10 [==============================] - 0s 21ms/step - loss: 1.1455 - val_loss: 1.0897\n",
      "Epoch 5/10\n",
      "10/10 [==============================] - 0s 21ms/step - loss: 1.1180 - val_loss: 1.0686\n",
      "Epoch 6/10\n",
      "10/10 [==============================] - 0s 21ms/step - loss: 1.0925 - val_loss: 1.0515\n",
      "Epoch 7/10\n",
      "10/10 [==============================] - 0s 20ms/step - loss: 1.0661 - val_loss: 1.0328\n",
      "Epoch 8/10\n",
      "10/10 [==============================] - 0s 20ms/step - loss: 1.0433 - val_loss: 1.0151\n",
      "Epoch 9/10\n",
      "10/10 [==============================] - 0s 20ms/step - loss: 1.0213 - val_loss: 0.9985\n",
      "Epoch 10/10\n",
      "10/10 [==============================] - 0s 22ms/step - loss: 1.0011 - val_loss: 0.9837\n",
      "10/10 [==============================] - 0s 3ms/step\n",
      "0.6937500000000001\n",
      "3/3 [==============================] - 0s 7ms/step\n",
      "The presence of one_eye in resblock 6 is 0.7\n",
      "Performing regression for layer 7\n",
      "Epoch 1/10\n"
     ]
    },
    {
     "name": "stderr",
     "output_type": "stream",
     "text": [
      "2024-03-01 13:46:15.497023: E tensorflow/core/grappler/optimizers/meta_optimizer.cc:954] model_pruner failed: INVALID_ARGUMENT: Graph does not contain terminal node AssignAddVariableOp_2.\n"
     ]
    },
    {
     "name": "stdout",
     "output_type": "stream",
     "text": [
      "10/10 [==============================] - 1s 70ms/step - loss: 1.0727 - val_loss: 0.9228\n",
      "Epoch 2/10\n",
      "10/10 [==============================] - 0s 23ms/step - loss: 1.0681 - val_loss: 0.9185\n",
      "Epoch 3/10\n",
      "10/10 [==============================] - 0s 23ms/step - loss: 1.0636 - val_loss: 0.9141\n",
      "Epoch 4/10\n",
      "10/10 [==============================] - 0s 21ms/step - loss: 1.0591 - val_loss: 0.9099\n",
      "Epoch 5/10\n",
      "10/10 [==============================] - 0s 21ms/step - loss: 1.0546 - val_loss: 0.9057\n",
      "Epoch 6/10\n",
      "10/10 [==============================] - 0s 22ms/step - loss: 1.0502 - val_loss: 0.9015\n",
      "Epoch 7/10\n",
      "10/10 [==============================] - 0s 21ms/step - loss: 1.0461 - val_loss: 0.8971\n",
      "Epoch 8/10\n",
      "10/10 [==============================] - 0s 20ms/step - loss: 1.0417 - val_loss: 0.8930\n",
      "Epoch 9/10\n",
      "10/10 [==============================] - 0s 20ms/step - loss: 1.0374 - val_loss: 0.8889\n",
      "Epoch 10/10\n",
      "10/10 [==============================] - 0s 20ms/step - loss: 1.0332 - val_loss: 0.8850\n",
      "10/10 [==============================] - 0s 3ms/step\n",
      "-0.09375\n",
      "3/3 [==============================] - 0s 7ms/step\n"
     ]
    },
    {
     "name": "stderr",
     "output_type": "stream",
     "text": [
      "Epochs:  50%|█████     | 3/6 [01:20<01:21, 27.07s/it]"
     ]
    },
    {
     "name": "stdout",
     "output_type": "stream",
     "text": [
      "The presence of one_eye in resblock 7 is 0.0\n"
     ]
    },
    {
     "name": "stderr",
     "output_type": "stream",
     "text": [
      "Getting activation outputs: 100%|██████████| 13/13 [00:00<00:00, 35.03it/s]\n"
     ]
    },
    {
     "name": "stdout",
     "output_type": "stream",
     "text": [
      "Performing regression for layer 0\n",
      "Epoch 1/10\n"
     ]
    },
    {
     "name": "stderr",
     "output_type": "stream",
     "text": [
      "2024-03-01 13:46:21.030627: E tensorflow/core/grappler/optimizers/meta_optimizer.cc:954] model_pruner failed: INVALID_ARGUMENT: Graph does not contain terminal node AssignAddVariableOp_2.\n"
     ]
    },
    {
     "name": "stdout",
     "output_type": "stream",
     "text": [
      "10/10 [==============================] - 1s 59ms/step - loss: 1.2603 - val_loss: 1.2597\n",
      "Epoch 2/10\n",
      "10/10 [==============================] - 0s 22ms/step - loss: 1.2312 - val_loss: 1.2292\n",
      "Epoch 3/10\n",
      "10/10 [==============================] - 0s 21ms/step - loss: 1.2066 - val_loss: 1.2035\n",
      "Epoch 4/10\n",
      "10/10 [==============================] - 0s 20ms/step - loss: 1.1843 - val_loss: 1.1797\n",
      "Epoch 5/10\n",
      "10/10 [==============================] - 0s 21ms/step - loss: 1.1625 - val_loss: 1.1573\n",
      "Epoch 6/10\n",
      "10/10 [==============================] - 0s 20ms/step - loss: 1.1415 - val_loss: 1.1355\n",
      "Epoch 7/10\n",
      "10/10 [==============================] - 0s 20ms/step - loss: 1.1220 - val_loss: 1.1129\n",
      "Epoch 8/10\n",
      "10/10 [==============================] - 0s 20ms/step - loss: 1.1016 - val_loss: 1.0932\n",
      "Epoch 9/10\n",
      "10/10 [==============================] - 0s 20ms/step - loss: 1.0825 - val_loss: 1.0737\n",
      "Epoch 10/10\n",
      "10/10 [==============================] - 0s 22ms/step - loss: 1.0648 - val_loss: 1.0541\n",
      "10/10 [==============================] - 0s 3ms/step\n",
      "0.6937500000000001\n",
      "3/3 [==============================] - 0s 6ms/step\n",
      "The presence of one_eye in resblock 0 is 0.7250000000000001\n",
      "Performing regression for layer 1\n",
      "Epoch 1/10\n"
     ]
    },
    {
     "name": "stderr",
     "output_type": "stream",
     "text": [
      "2024-03-01 13:46:24.217021: E tensorflow/core/grappler/optimizers/meta_optimizer.cc:954] model_pruner failed: INVALID_ARGUMENT: Graph does not contain terminal node AssignAddVariableOp_2.\n"
     ]
    },
    {
     "name": "stdout",
     "output_type": "stream",
     "text": [
      "10/10 [==============================] - 1s 58ms/step - loss: 1.7158 - val_loss: 1.6273\n",
      "Epoch 2/10\n",
      "10/10 [==============================] - 0s 21ms/step - loss: 1.5093 - val_loss: 1.4781\n",
      "Epoch 3/10\n",
      "10/10 [==============================] - 0s 21ms/step - loss: 1.3868 - val_loss: 1.3592\n",
      "Epoch 4/10\n",
      "10/10 [==============================] - 0s 20ms/step - loss: 1.2763 - val_loss: 1.2656\n",
      "Epoch 5/10\n",
      "10/10 [==============================] - 0s 21ms/step - loss: 1.1909 - val_loss: 1.1950\n",
      "Epoch 6/10\n",
      "10/10 [==============================] - 0s 21ms/step - loss: 1.1242 - val_loss: 1.1414\n",
      "Epoch 7/10\n",
      "10/10 [==============================] - 0s 20ms/step - loss: 1.0700 - val_loss: 1.0920\n",
      "Epoch 8/10\n",
      "10/10 [==============================] - 0s 20ms/step - loss: 1.0259 - val_loss: 1.0552\n",
      "Epoch 9/10\n",
      "10/10 [==============================] - 0s 20ms/step - loss: 0.9897 - val_loss: 1.0230\n",
      "Epoch 10/10\n",
      "10/10 [==============================] - 0s 21ms/step - loss: 0.9599 - val_loss: 0.9976\n",
      "10/10 [==============================] - 0s 3ms/step\n",
      "0.66875\n",
      "3/3 [==============================] - 0s 6ms/step\n",
      "The presence of one_eye in resblock 1 is 0.7\n",
      "Performing regression for layer 2\n",
      "Epoch 1/10\n"
     ]
    },
    {
     "name": "stderr",
     "output_type": "stream",
     "text": [
      "2024-03-01 13:46:27.348292: E tensorflow/core/grappler/optimizers/meta_optimizer.cc:954] model_pruner failed: INVALID_ARGUMENT: Graph does not contain terminal node AssignAddVariableOp_2.\n"
     ]
    },
    {
     "name": "stdout",
     "output_type": "stream",
     "text": [
      "10/10 [==============================] - 1s 66ms/step - loss: 1.4822 - val_loss: 1.3943\n",
      "Epoch 2/10\n",
      "10/10 [==============================] - 0s 21ms/step - loss: 1.3828 - val_loss: 1.3091\n",
      "Epoch 3/10\n",
      "10/10 [==============================] - 0s 20ms/step - loss: 1.3058 - val_loss: 1.2406\n",
      "Epoch 4/10\n",
      "10/10 [==============================] - 0s 20ms/step - loss: 1.2407 - val_loss: 1.1787\n",
      "Epoch 5/10\n",
      "10/10 [==============================] - 0s 21ms/step - loss: 1.1836 - val_loss: 1.1277\n",
      "Epoch 6/10\n",
      "10/10 [==============================] - 0s 21ms/step - loss: 1.1358 - val_loss: 1.0846\n",
      "Epoch 7/10\n",
      "10/10 [==============================] - 0s 20ms/step - loss: 1.0951 - val_loss: 1.0469\n",
      "Epoch 8/10\n",
      "10/10 [==============================] - 0s 21ms/step - loss: 1.0630 - val_loss: 1.0131\n",
      "Epoch 9/10\n",
      "10/10 [==============================] - 0s 20ms/step - loss: 1.0290 - val_loss: 0.9903\n",
      "Epoch 10/10\n",
      "10/10 [==============================] - 0s 22ms/step - loss: 1.0017 - val_loss: 0.9653\n",
      "10/10 [==============================] - 0s 3ms/step\n",
      "0.6312500000000001\n",
      "3/3 [==============================] - 0s 6ms/step\n",
      "The presence of one_eye in resblock 2 is 0.575\n",
      "Performing regression for layer 3\n",
      "Epoch 1/10\n"
     ]
    },
    {
     "name": "stderr",
     "output_type": "stream",
     "text": [
      "2024-03-01 13:46:30.548499: E tensorflow/core/grappler/optimizers/meta_optimizer.cc:954] model_pruner failed: INVALID_ARGUMENT: Graph does not contain terminal node AssignAddVariableOp_2.\n"
     ]
    },
    {
     "name": "stdout",
     "output_type": "stream",
     "text": [
      "10/10 [==============================] - 1s 56ms/step - loss: 2.4447 - val_loss: 2.2084\n",
      "Epoch 2/10\n",
      "10/10 [==============================] - 0s 23ms/step - loss: 2.0087 - val_loss: 1.9079\n",
      "Epoch 3/10\n",
      "10/10 [==============================] - 0s 22ms/step - loss: 1.7808 - val_loss: 1.7154\n",
      "Epoch 4/10\n",
      "10/10 [==============================] - 0s 20ms/step - loss: 1.6204 - val_loss: 1.5447\n",
      "Epoch 5/10\n",
      "10/10 [==============================] - 0s 21ms/step - loss: 1.4771 - val_loss: 1.3960\n",
      "Epoch 6/10\n",
      "10/10 [==============================] - 0s 21ms/step - loss: 1.3682 - val_loss: 1.2811\n",
      "Epoch 7/10\n",
      "10/10 [==============================] - 0s 20ms/step - loss: 1.2804 - val_loss: 1.1932\n",
      "Epoch 8/10\n",
      "10/10 [==============================] - 0s 21ms/step - loss: 1.2136 - val_loss: 1.1267\n",
      "Epoch 9/10\n",
      "10/10 [==============================] - 0s 20ms/step - loss: 1.1611 - val_loss: 1.0739\n",
      "Epoch 10/10\n",
      "10/10 [==============================] - 0s 20ms/step - loss: 1.1223 - val_loss: 1.0309\n",
      "10/10 [==============================] - 0s 3ms/step\n",
      "0.53125\n",
      "3/3 [==============================] - 0s 6ms/step\n",
      "The presence of one_eye in resblock 3 is 0.5\n",
      "Performing regression for layer 4\n",
      "Epoch 1/10\n"
     ]
    },
    {
     "name": "stderr",
     "output_type": "stream",
     "text": [
      "2024-03-01 13:46:33.669819: E tensorflow/core/grappler/optimizers/meta_optimizer.cc:954] model_pruner failed: INVALID_ARGUMENT: Graph does not contain terminal node AssignAddVariableOp_2.\n"
     ]
    },
    {
     "name": "stdout",
     "output_type": "stream",
     "text": [
      "10/10 [==============================] - 1s 67ms/step - loss: 1.3056 - val_loss: 1.1995\n",
      "Epoch 2/10\n",
      "10/10 [==============================] - 0s 22ms/step - loss: 1.2252 - val_loss: 1.1314\n",
      "Epoch 3/10\n",
      "10/10 [==============================] - 0s 21ms/step - loss: 1.1644 - val_loss: 1.0804\n",
      "Epoch 4/10\n",
      "10/10 [==============================] - 0s 21ms/step - loss: 1.1134 - val_loss: 1.0355\n",
      "Epoch 5/10\n",
      "10/10 [==============================] - 0s 22ms/step - loss: 1.0679 - val_loss: 1.0031\n",
      "Epoch 6/10\n",
      "10/10 [==============================] - 0s 20ms/step - loss: 1.0324 - val_loss: 0.9743\n",
      "Epoch 7/10\n",
      "10/10 [==============================] - 0s 21ms/step - loss: 0.9986 - val_loss: 0.9473\n",
      "Epoch 8/10\n",
      "10/10 [==============================] - 0s 20ms/step - loss: 0.9689 - val_loss: 0.9218\n",
      "Epoch 9/10\n",
      "10/10 [==============================] - 0s 20ms/step - loss: 0.9450 - val_loss: 0.9040\n",
      "Epoch 10/10\n",
      "10/10 [==============================] - 0s 21ms/step - loss: 0.9217 - val_loss: 0.8870\n",
      "10/10 [==============================] - 0s 3ms/step\n",
      "0.6875\n",
      "3/3 [==============================] - 0s 6ms/step\n",
      "The presence of one_eye in resblock 4 is 0.75\n",
      "Performing regression for layer 5\n",
      "Epoch 1/10\n"
     ]
    },
    {
     "name": "stderr",
     "output_type": "stream",
     "text": [
      "2024-03-01 13:46:36.886929: E tensorflow/core/grappler/optimizers/meta_optimizer.cc:954] model_pruner failed: INVALID_ARGUMENT: Graph does not contain terminal node AssignAddVariableOp_2.\n"
     ]
    },
    {
     "name": "stdout",
     "output_type": "stream",
     "text": [
      "10/10 [==============================] - 1s 62ms/step - loss: 2.6526 - val_loss: 2.1306\n",
      "Epoch 2/10\n",
      "10/10 [==============================] - 0s 23ms/step - loss: 1.8491 - val_loss: 1.5882\n",
      "Epoch 3/10\n",
      "10/10 [==============================] - 0s 22ms/step - loss: 1.4706 - val_loss: 1.4014\n",
      "Epoch 4/10\n",
      "10/10 [==============================] - 0s 21ms/step - loss: 1.3382 - val_loss: 1.2969\n",
      "Epoch 5/10\n",
      "10/10 [==============================] - 0s 21ms/step - loss: 1.2438 - val_loss: 1.2032\n",
      "Epoch 6/10\n",
      "10/10 [==============================] - 0s 20ms/step - loss: 1.1728 - val_loss: 1.1407\n",
      "Epoch 7/10\n",
      "10/10 [==============================] - 0s 20ms/step - loss: 1.1257 - val_loss: 1.0975\n",
      "Epoch 8/10\n",
      "10/10 [==============================] - 0s 20ms/step - loss: 1.0913 - val_loss: 1.0638\n",
      "Epoch 9/10\n",
      "10/10 [==============================] - 0s 20ms/step - loss: 1.0617 - val_loss: 1.0308\n",
      "Epoch 10/10\n",
      "10/10 [==============================] - 0s 21ms/step - loss: 1.0381 - val_loss: 1.0043\n",
      "10/10 [==============================] - 0s 3ms/step\n",
      "0.6187499999999999\n",
      "3/3 [==============================] - 0s 7ms/step\n",
      "The presence of one_eye in resblock 5 is 0.6499999999999999\n",
      "Performing regression for layer 6\n",
      "Epoch 1/10\n"
     ]
    },
    {
     "name": "stderr",
     "output_type": "stream",
     "text": [
      "2024-03-01 13:46:40.071891: E tensorflow/core/grappler/optimizers/meta_optimizer.cc:954] model_pruner failed: INVALID_ARGUMENT: Graph does not contain terminal node AssignAddVariableOp_2.\n"
     ]
    },
    {
     "name": "stdout",
     "output_type": "stream",
     "text": [
      "10/10 [==============================] - 1s 68ms/step - loss: 1.2709 - val_loss: 1.2586\n",
      "Epoch 2/10\n",
      "10/10 [==============================] - 0s 22ms/step - loss: 1.2338 - val_loss: 1.2207\n",
      "Epoch 3/10\n",
      "10/10 [==============================] - 0s 21ms/step - loss: 1.1996 - val_loss: 1.1860\n",
      "Epoch 4/10\n",
      "10/10 [==============================] - 0s 21ms/step - loss: 1.1683 - val_loss: 1.1537\n",
      "Epoch 5/10\n",
      "10/10 [==============================] - 0s 20ms/step - loss: 1.1392 - val_loss: 1.1237\n",
      "Epoch 6/10\n",
      "10/10 [==============================] - 0s 20ms/step - loss: 1.1118 - val_loss: 1.0960\n",
      "Epoch 7/10\n",
      "10/10 [==============================] - 0s 21ms/step - loss: 1.0862 - val_loss: 1.0710\n",
      "Epoch 8/10\n",
      "10/10 [==============================] - 0s 20ms/step - loss: 1.0626 - val_loss: 1.0459\n",
      "Epoch 9/10\n",
      "10/10 [==============================] - 0s 20ms/step - loss: 1.0399 - val_loss: 1.0243\n",
      "Epoch 10/10\n",
      "10/10 [==============================] - 0s 21ms/step - loss: 1.0185 - val_loss: 1.0031\n",
      "10/10 [==============================] - 0s 3ms/step\n",
      "0.625\n",
      "3/3 [==============================] - 0s 6ms/step\n",
      "The presence of one_eye in resblock 6 is 0.6499999999999999\n",
      "Performing regression for layer 7\n",
      "Epoch 1/10\n"
     ]
    },
    {
     "name": "stderr",
     "output_type": "stream",
     "text": [
      "2024-03-01 13:46:43.299661: E tensorflow/core/grappler/optimizers/meta_optimizer.cc:954] model_pruner failed: INVALID_ARGUMENT: Graph does not contain terminal node AssignAddVariableOp_2.\n"
     ]
    },
    {
     "name": "stdout",
     "output_type": "stream",
     "text": [
      "10/10 [==============================] - 1s 60ms/step - loss: 1.3919 - val_loss: 1.1183\n",
      "Epoch 2/10\n",
      "10/10 [==============================] - 0s 22ms/step - loss: 1.3807 - val_loss: 1.1099\n",
      "Epoch 3/10\n",
      "10/10 [==============================] - 0s 22ms/step - loss: 1.3707 - val_loss: 1.1013\n",
      "Epoch 4/10\n",
      "10/10 [==============================] - 0s 24ms/step - loss: 1.3602 - val_loss: 1.0930\n",
      "Epoch 5/10\n",
      "10/10 [==============================] - 0s 20ms/step - loss: 1.3505 - val_loss: 1.0847\n",
      "Epoch 6/10\n",
      "10/10 [==============================] - 0s 21ms/step - loss: 1.3407 - val_loss: 1.0765\n",
      "Epoch 7/10\n",
      "10/10 [==============================] - 0s 20ms/step - loss: 1.3312 - val_loss: 1.0685\n",
      "Epoch 8/10\n",
      "10/10 [==============================] - 0s 21ms/step - loss: 1.3218 - val_loss: 1.0608\n",
      "Epoch 9/10\n",
      "10/10 [==============================] - 0s 21ms/step - loss: 1.3126 - val_loss: 1.0532\n",
      "Epoch 10/10\n",
      "10/10 [==============================] - 0s 20ms/step - loss: 1.3036 - val_loss: 1.0460\n",
      "10/10 [==============================] - 0s 3ms/step\n",
      "-0.08750000000000002\n",
      "3/3 [==============================] - 0s 7ms/step\n"
     ]
    },
    {
     "name": "stderr",
     "output_type": "stream",
     "text": [
      "Epochs:  67%|██████▋   | 4/6 [01:46<00:53, 26.76s/it]"
     ]
    },
    {
     "name": "stdout",
     "output_type": "stream",
     "text": [
      "The presence of one_eye in resblock 7 is 0.17500000000000004\n"
     ]
    },
    {
     "name": "stderr",
     "output_type": "stream",
     "text": [
      "Getting activation outputs: 100%|██████████| 13/13 [00:00<00:00, 28.97it/s]"
     ]
    },
    {
     "name": "stdout",
     "output_type": "stream",
     "text": [
      "Performing regression for layer 0\n",
      "Epoch 1/10\n"
     ]
    },
    {
     "name": "stderr",
     "output_type": "stream",
     "text": [
      "\n",
      "2024-03-01 13:46:47.386287: E tensorflow/core/grappler/optimizers/meta_optimizer.cc:954] model_pruner failed: INVALID_ARGUMENT: Graph does not contain terminal node AssignAddVariableOp_2.\n"
     ]
    },
    {
     "name": "stdout",
     "output_type": "stream",
     "text": [
      "10/10 [==============================] - 1s 65ms/step - loss: 1.2973 - val_loss: 1.2625\n",
      "Epoch 2/10\n",
      "10/10 [==============================] - 0s 22ms/step - loss: 1.2548 - val_loss: 1.2378\n",
      "Epoch 3/10\n",
      "10/10 [==============================] - 0s 22ms/step - loss: 1.2197 - val_loss: 1.2055\n",
      "Epoch 4/10\n",
      "10/10 [==============================] - 0s 21ms/step - loss: 1.1887 - val_loss: 1.1761\n",
      "Epoch 5/10\n",
      "10/10 [==============================] - 0s 23ms/step - loss: 1.1590 - val_loss: 1.1461\n",
      "Epoch 6/10\n",
      "10/10 [==============================] - 0s 21ms/step - loss: 1.1311 - val_loss: 1.1196\n",
      "Epoch 7/10\n",
      "10/10 [==============================] - 0s 20ms/step - loss: 1.1061 - val_loss: 1.0974\n",
      "Epoch 8/10\n",
      "10/10 [==============================] - 0s 20ms/step - loss: 1.0811 - val_loss: 1.0723\n",
      "Epoch 9/10\n",
      "10/10 [==============================] - 0s 20ms/step - loss: 1.0588 - val_loss: 1.0486\n",
      "Epoch 10/10\n",
      "10/10 [==============================] - 0s 21ms/step - loss: 1.0371 - val_loss: 1.0283\n",
      "10/10 [==============================] - 0s 3ms/step\n",
      "0.6875\n",
      "3/3 [==============================] - 0s 7ms/step\n",
      "The presence of one_eye in resblock 0 is 0.7\n",
      "Performing regression for layer 1\n",
      "Epoch 1/10\n"
     ]
    },
    {
     "name": "stderr",
     "output_type": "stream",
     "text": [
      "2024-03-01 13:46:50.629967: E tensorflow/core/grappler/optimizers/meta_optimizer.cc:954] model_pruner failed: INVALID_ARGUMENT: Graph does not contain terminal node AssignAddVariableOp_2.\n"
     ]
    },
    {
     "name": "stdout",
     "output_type": "stream",
     "text": [
      "10/10 [==============================] - 1s 59ms/step - loss: 1.7158 - val_loss: 1.5263\n",
      "Epoch 2/10\n",
      "10/10 [==============================] - 0s 22ms/step - loss: 1.4422 - val_loss: 1.3413\n",
      "Epoch 3/10\n",
      "10/10 [==============================] - 0s 22ms/step - loss: 1.2968 - val_loss: 1.2480\n",
      "Epoch 4/10\n",
      "10/10 [==============================] - 0s 20ms/step - loss: 1.1864 - val_loss: 1.1850\n",
      "Epoch 5/10\n",
      "10/10 [==============================] - 0s 20ms/step - loss: 1.1094 - val_loss: 1.1228\n",
      "Epoch 6/10\n",
      "10/10 [==============================] - 0s 21ms/step - loss: 1.0509 - val_loss: 1.0776\n",
      "Epoch 7/10\n",
      "10/10 [==============================] - 0s 29ms/step - loss: 1.0021 - val_loss: 1.0215\n",
      "Epoch 8/10\n",
      "10/10 [==============================] - 0s 22ms/step - loss: 0.9655 - val_loss: 0.9890\n",
      "Epoch 9/10\n",
      "10/10 [==============================] - 0s 21ms/step - loss: 0.9380 - val_loss: 0.9608\n",
      "Epoch 10/10\n",
      "10/10 [==============================] - 0s 20ms/step - loss: 0.9095 - val_loss: 0.9471\n",
      "10/10 [==============================] - 0s 3ms/step\n",
      "0.6812499999999999\n",
      "3/3 [==============================] - 0s 7ms/step\n",
      "The presence of one_eye in resblock 1 is 0.75\n",
      "Performing regression for layer 2\n",
      "Epoch 1/10\n"
     ]
    },
    {
     "name": "stderr",
     "output_type": "stream",
     "text": [
      "2024-03-01 13:46:53.873137: E tensorflow/core/grappler/optimizers/meta_optimizer.cc:954] model_pruner failed: INVALID_ARGUMENT: Graph does not contain terminal node AssignAddVariableOp_2.\n"
     ]
    },
    {
     "name": "stdout",
     "output_type": "stream",
     "text": [
      "10/10 [==============================] - 1s 62ms/step - loss: 1.3176 - val_loss: 1.3096\n",
      "Epoch 2/10\n",
      "10/10 [==============================] - 0s 22ms/step - loss: 1.2252 - val_loss: 1.2284\n",
      "Epoch 3/10\n",
      "10/10 [==============================] - 0s 21ms/step - loss: 1.1545 - val_loss: 1.1649\n",
      "Epoch 4/10\n",
      "10/10 [==============================] - 0s 21ms/step - loss: 1.1005 - val_loss: 1.1095\n",
      "Epoch 5/10\n",
      "10/10 [==============================] - 0s 21ms/step - loss: 1.0522 - val_loss: 1.0706\n",
      "Epoch 6/10\n",
      "10/10 [==============================] - 0s 20ms/step - loss: 1.0144 - val_loss: 1.0299\n",
      "Epoch 7/10\n",
      "10/10 [==============================] - 0s 20ms/step - loss: 0.9805 - val_loss: 1.0003\n",
      "Epoch 8/10\n",
      "10/10 [==============================] - 0s 20ms/step - loss: 0.9541 - val_loss: 0.9667\n",
      "Epoch 9/10\n",
      "10/10 [==============================] - 0s 21ms/step - loss: 0.9267 - val_loss: 0.9454\n",
      "Epoch 10/10\n",
      "10/10 [==============================] - 0s 21ms/step - loss: 0.9046 - val_loss: 0.9377\n",
      "10/10 [==============================] - 0s 3ms/step\n",
      "0.7\n",
      "3/3 [==============================] - 0s 8ms/step\n",
      "The presence of one_eye in resblock 2 is 0.7250000000000001\n",
      "Performing regression for layer 3\n",
      "Epoch 1/10\n"
     ]
    },
    {
     "name": "stderr",
     "output_type": "stream",
     "text": [
      "2024-03-01 13:46:57.079185: E tensorflow/core/grappler/optimizers/meta_optimizer.cc:954] model_pruner failed: INVALID_ARGUMENT: Graph does not contain terminal node AssignAddVariableOp_2.\n"
     ]
    },
    {
     "name": "stdout",
     "output_type": "stream",
     "text": [
      "10/10 [==============================] - 1s 64ms/step - loss: 1.6139 - val_loss: 1.7246\n",
      "Epoch 2/10\n",
      "10/10 [==============================] - 0s 23ms/step - loss: 1.4384 - val_loss: 1.6345\n",
      "Epoch 3/10\n",
      "10/10 [==============================] - 0s 22ms/step - loss: 1.3561 - val_loss: 1.5158\n",
      "Epoch 4/10\n",
      "10/10 [==============================] - 0s 21ms/step - loss: 1.2677 - val_loss: 1.4014\n",
      "Epoch 5/10\n",
      "10/10 [==============================] - 0s 21ms/step - loss: 1.1956 - val_loss: 1.3157\n",
      "Epoch 6/10\n",
      "10/10 [==============================] - 0s 20ms/step - loss: 1.1323 - val_loss: 1.2416\n",
      "Epoch 7/10\n",
      "10/10 [==============================] - 0s 29ms/step - loss: 1.0829 - val_loss: 1.1795\n",
      "Epoch 8/10\n",
      "10/10 [==============================] - 0s 23ms/step - loss: 1.0396 - val_loss: 1.1255\n",
      "Epoch 9/10\n",
      "10/10 [==============================] - 0s 20ms/step - loss: 1.0057 - val_loss: 1.0763\n",
      "Epoch 10/10\n",
      "10/10 [==============================] - 0s 20ms/step - loss: 0.9731 - val_loss: 1.0391\n",
      "10/10 [==============================] - 0s 3ms/step\n",
      "0.6125\n",
      "3/3 [==============================] - 0s 7ms/step\n",
      "The presence of one_eye in resblock 3 is 0.5249999999999999\n",
      "Performing regression for layer 4\n",
      "Epoch 1/10\n"
     ]
    },
    {
     "name": "stderr",
     "output_type": "stream",
     "text": [
      "2024-03-01 13:47:00.428942: E tensorflow/core/grappler/optimizers/meta_optimizer.cc:954] model_pruner failed: INVALID_ARGUMENT: Graph does not contain terminal node AssignAddVariableOp_2.\n"
     ]
    },
    {
     "name": "stdout",
     "output_type": "stream",
     "text": [
      "10/10 [==============================] - 1s 64ms/step - loss: 1.6506 - val_loss: 1.7092\n",
      "Epoch 2/10\n",
      "10/10 [==============================] - 0s 22ms/step - loss: 1.4984 - val_loss: 1.6022\n",
      "Epoch 3/10\n",
      "10/10 [==============================] - 0s 23ms/step - loss: 1.4031 - val_loss: 1.4944\n",
      "Epoch 4/10\n",
      "10/10 [==============================] - 0s 21ms/step - loss: 1.3168 - val_loss: 1.3935\n",
      "Epoch 5/10\n",
      "10/10 [==============================] - 0s 22ms/step - loss: 1.2443 - val_loss: 1.3160\n",
      "Epoch 6/10\n",
      "10/10 [==============================] - 0s 20ms/step - loss: 1.1803 - val_loss: 1.2446\n",
      "Epoch 7/10\n",
      "10/10 [==============================] - 0s 21ms/step - loss: 1.1248 - val_loss: 1.1894\n",
      "Epoch 8/10\n",
      "10/10 [==============================] - 0s 21ms/step - loss: 1.0785 - val_loss: 1.1405\n",
      "Epoch 9/10\n",
      "10/10 [==============================] - 0s 21ms/step - loss: 1.0382 - val_loss: 1.0948\n",
      "Epoch 10/10\n",
      "10/10 [==============================] - 0s 21ms/step - loss: 1.0021 - val_loss: 1.0605\n",
      "10/10 [==============================] - 0s 3ms/step\n",
      "0.6499999999999999\n",
      "3/3 [==============================] - 0s 7ms/step\n",
      "The presence of one_eye in resblock 4 is 0.575\n",
      "Performing regression for layer 5\n",
      "Epoch 1/10\n"
     ]
    },
    {
     "name": "stderr",
     "output_type": "stream",
     "text": [
      "2024-03-01 13:47:05.246970: E tensorflow/core/grappler/optimizers/meta_optimizer.cc:954] model_pruner failed: INVALID_ARGUMENT: Graph does not contain terminal node AssignAddVariableOp_2.\n"
     ]
    },
    {
     "name": "stdout",
     "output_type": "stream",
     "text": [
      "10/10 [==============================] - 3s 72ms/step - loss: 1.7068 - val_loss: 1.3641\n",
      "Epoch 2/10\n",
      "10/10 [==============================] - 0s 21ms/step - loss: 1.4610 - val_loss: 1.2604\n",
      "Epoch 3/10\n",
      "10/10 [==============================] - 0s 23ms/step - loss: 1.3633 - val_loss: 1.1827\n",
      "Epoch 4/10\n",
      "10/10 [==============================] - 0s 22ms/step - loss: 1.2851 - val_loss: 1.1256\n",
      "Epoch 5/10\n",
      "10/10 [==============================] - 0s 21ms/step - loss: 1.2278 - val_loss: 1.0814\n",
      "Epoch 6/10\n",
      "10/10 [==============================] - 0s 21ms/step - loss: 1.1879 - val_loss: 1.0455\n",
      "Epoch 7/10\n",
      "10/10 [==============================] - 0s 21ms/step - loss: 1.1414 - val_loss: 1.0170\n",
      "Epoch 8/10\n",
      "10/10 [==============================] - 0s 20ms/step - loss: 1.1050 - val_loss: 0.9897\n",
      "Epoch 9/10\n",
      "10/10 [==============================] - 0s 21ms/step - loss: 1.0740 - val_loss: 0.9653\n",
      "Epoch 10/10\n",
      "10/10 [==============================] - 0s 20ms/step - loss: 1.0438 - val_loss: 0.9452\n",
      "10/10 [==============================] - 0s 3ms/step\n",
      "0.60625\n",
      "3/3 [==============================] - 0s 6ms/step\n",
      "The presence of one_eye in resblock 5 is 0.6499999999999999\n",
      "Performing regression for layer 6\n",
      "Epoch 1/10\n"
     ]
    },
    {
     "name": "stderr",
     "output_type": "stream",
     "text": [
      "2024-03-01 13:47:08.573269: E tensorflow/core/grappler/optimizers/meta_optimizer.cc:954] model_pruner failed: INVALID_ARGUMENT: Graph does not contain terminal node AssignAddVariableOp_2.\n"
     ]
    },
    {
     "name": "stdout",
     "output_type": "stream",
     "text": [
      "10/10 [==============================] - 1s 62ms/step - loss: 1.2562 - val_loss: 1.3090\n",
      "Epoch 2/10\n",
      "10/10 [==============================] - 0s 22ms/step - loss: 1.2228 - val_loss: 1.2763\n",
      "Epoch 3/10\n",
      "10/10 [==============================] - 0s 21ms/step - loss: 1.1923 - val_loss: 1.2459\n",
      "Epoch 4/10\n",
      "10/10 [==============================] - 0s 20ms/step - loss: 1.1638 - val_loss: 1.2169\n",
      "Epoch 5/10\n",
      "10/10 [==============================] - 0s 21ms/step - loss: 1.1365 - val_loss: 1.1900\n",
      "Epoch 6/10\n",
      "10/10 [==============================] - 0s 21ms/step - loss: 1.1120 - val_loss: 1.1640\n",
      "Epoch 7/10\n",
      "10/10 [==============================] - 0s 21ms/step - loss: 1.0875 - val_loss: 1.1396\n",
      "Epoch 8/10\n",
      "10/10 [==============================] - 0s 20ms/step - loss: 1.0654 - val_loss: 1.1155\n",
      "Epoch 9/10\n",
      "10/10 [==============================] - 0s 22ms/step - loss: 1.0430 - val_loss: 1.0932\n",
      "Epoch 10/10\n",
      "10/10 [==============================] - 0s 20ms/step - loss: 1.0227 - val_loss: 1.0723\n",
      "10/10 [==============================] - 0s 3ms/step\n",
      "0.6875\n",
      "3/3 [==============================] - 0s 7ms/step\n",
      "The presence of one_eye in resblock 6 is 0.6000000000000001\n",
      "Performing regression for layer 7\n",
      "Epoch 1/10\n"
     ]
    },
    {
     "name": "stderr",
     "output_type": "stream",
     "text": [
      "2024-03-01 13:47:11.761845: E tensorflow/core/grappler/optimizers/meta_optimizer.cc:954] model_pruner failed: INVALID_ARGUMENT: Graph does not contain terminal node AssignAddVariableOp_2.\n"
     ]
    },
    {
     "name": "stdout",
     "output_type": "stream",
     "text": [
      "10/10 [==============================] - 1s 65ms/step - loss: 1.3392 - val_loss: 1.2872\n",
      "Epoch 2/10\n",
      "10/10 [==============================] - 0s 23ms/step - loss: 1.3342 - val_loss: 1.2837\n",
      "Epoch 3/10\n",
      "10/10 [==============================] - 0s 22ms/step - loss: 1.3300 - val_loss: 1.2804\n",
      "Epoch 4/10\n",
      "10/10 [==============================] - 0s 20ms/step - loss: 1.3251 - val_loss: 1.2770\n",
      "Epoch 5/10\n",
      "10/10 [==============================] - 0s 20ms/step - loss: 1.3208 - val_loss: 1.2736\n",
      "Epoch 6/10\n",
      "10/10 [==============================] - 0s 22ms/step - loss: 1.3164 - val_loss: 1.2704\n",
      "Epoch 7/10\n",
      "10/10 [==============================] - 0s 19ms/step - loss: 1.3120 - val_loss: 1.2671\n",
      "Epoch 8/10\n",
      "10/10 [==============================] - 0s 20ms/step - loss: 1.3080 - val_loss: 1.2638\n",
      "Epoch 9/10\n",
      "10/10 [==============================] - 0s 21ms/step - loss: 1.3035 - val_loss: 1.2606\n",
      "Epoch 10/10\n",
      "10/10 [==============================] - 0s 20ms/step - loss: 1.2996 - val_loss: 1.2575\n",
      "10/10 [==============================] - 0s 3ms/step\n",
      "-0.13749999999999996\n",
      "3/3 [==============================] - 0s 8ms/step\n"
     ]
    },
    {
     "name": "stderr",
     "output_type": "stream",
     "text": [
      "Epochs:  83%|████████▎ | 5/6 [02:15<00:27, 27.39s/it]"
     ]
    },
    {
     "name": "stdout",
     "output_type": "stream",
     "text": [
      "The presence of one_eye in resblock 7 is 0\n"
     ]
    },
    {
     "name": "stderr",
     "output_type": "stream",
     "text": [
      "Getting activation outputs: 100%|██████████| 13/13 [00:00<00:00, 35.42it/s]\n"
     ]
    },
    {
     "name": "stdout",
     "output_type": "stream",
     "text": [
      "Performing regression for layer 0\n",
      "Epoch 1/10\n"
     ]
    },
    {
     "name": "stderr",
     "output_type": "stream",
     "text": [
      "2024-03-01 13:47:15.815792: E tensorflow/core/grappler/optimizers/meta_optimizer.cc:954] model_pruner failed: INVALID_ARGUMENT: Graph does not contain terminal node AssignAddVariableOp_2.\n"
     ]
    },
    {
     "name": "stdout",
     "output_type": "stream",
     "text": [
      "10/10 [==============================] - 1s 68ms/step - loss: 1.8366 - val_loss: 1.4828\n",
      "Epoch 2/10\n",
      "10/10 [==============================] - 0s 23ms/step - loss: 1.5562 - val_loss: 1.3053\n",
      "Epoch 3/10\n",
      "10/10 [==============================] - 0s 21ms/step - loss: 1.4545 - val_loss: 1.2284\n",
      "Epoch 4/10\n",
      "10/10 [==============================] - 0s 21ms/step - loss: 1.3509 - val_loss: 1.1696\n",
      "Epoch 5/10\n",
      "10/10 [==============================] - 0s 21ms/step - loss: 1.2692 - val_loss: 1.1314\n",
      "Epoch 6/10\n",
      "10/10 [==============================] - 0s 20ms/step - loss: 1.2052 - val_loss: 1.0819\n",
      "Epoch 7/10\n",
      "10/10 [==============================] - 0s 21ms/step - loss: 1.1488 - val_loss: 1.0369\n",
      "Epoch 8/10\n",
      "10/10 [==============================] - 0s 20ms/step - loss: 1.1063 - val_loss: 1.0125\n",
      "Epoch 9/10\n",
      "10/10 [==============================] - 0s 20ms/step - loss: 1.0599 - val_loss: 0.9879\n",
      "Epoch 10/10\n",
      "10/10 [==============================] - 0s 21ms/step - loss: 1.0271 - val_loss: 0.9586\n",
      "10/10 [==============================] - 0s 3ms/step\n",
      "0.6375\n",
      "3/3 [==============================] - 0s 6ms/step\n",
      "The presence of one_eye in resblock 0 is 0.6000000000000001\n",
      "Performing regression for layer 1\n",
      "Epoch 1/10\n"
     ]
    },
    {
     "name": "stderr",
     "output_type": "stream",
     "text": [
      "2024-03-01 13:47:19.119944: E tensorflow/core/grappler/optimizers/meta_optimizer.cc:954] model_pruner failed: INVALID_ARGUMENT: Graph does not contain terminal node AssignAddVariableOp_2.\n"
     ]
    },
    {
     "name": "stdout",
     "output_type": "stream",
     "text": [
      "10/10 [==============================] - 1s 64ms/step - loss: 3.1231 - val_loss: 2.9289\n",
      "Epoch 2/10\n",
      "10/10 [==============================] - 0s 22ms/step - loss: 2.5389 - val_loss: 2.5268\n",
      "Epoch 3/10\n",
      "10/10 [==============================] - 0s 22ms/step - loss: 2.1003 - val_loss: 2.1402\n",
      "Epoch 4/10\n",
      "10/10 [==============================] - 0s 23ms/step - loss: 1.8354 - val_loss: 1.9362\n",
      "Epoch 5/10\n",
      "10/10 [==============================] - 0s 23ms/step - loss: 1.6372 - val_loss: 1.7878\n",
      "Epoch 6/10\n",
      "10/10 [==============================] - 0s 25ms/step - loss: 1.4910 - val_loss: 1.6600\n",
      "Epoch 7/10\n",
      "10/10 [==============================] - 0s 26ms/step - loss: 1.3732 - val_loss: 1.5823\n",
      "Epoch 8/10\n",
      "10/10 [==============================] - 0s 21ms/step - loss: 1.2896 - val_loss: 1.5201\n",
      "Epoch 9/10\n",
      "10/10 [==============================] - 0s 21ms/step - loss: 1.2138 - val_loss: 1.4765\n",
      "Epoch 10/10\n",
      "10/10 [==============================] - 0s 20ms/step - loss: 1.1579 - val_loss: 1.4254\n",
      "10/10 [==============================] - 0s 3ms/step\n",
      "0.6625000000000001\n",
      "3/3 [==============================] - 0s 8ms/step\n",
      "The presence of one_eye in resblock 1 is 0.575\n",
      "Performing regression for layer 2\n",
      "Epoch 1/10\n"
     ]
    },
    {
     "name": "stderr",
     "output_type": "stream",
     "text": [
      "2024-03-01 13:47:22.597977: E tensorflow/core/grappler/optimizers/meta_optimizer.cc:954] model_pruner failed: INVALID_ARGUMENT: Graph does not contain terminal node AssignAddVariableOp_2.\n"
     ]
    },
    {
     "name": "stdout",
     "output_type": "stream",
     "text": [
      "10/10 [==============================] - 1s 73ms/step - loss: 1.6435 - val_loss: 1.3960\n",
      "Epoch 2/10\n",
      "10/10 [==============================] - 0s 25ms/step - loss: 1.4859 - val_loss: 1.2862\n",
      "Epoch 3/10\n",
      "10/10 [==============================] - 0s 23ms/step - loss: 1.3673 - val_loss: 1.1993\n",
      "Epoch 4/10\n",
      "10/10 [==============================] - 0s 26ms/step - loss: 1.2733 - val_loss: 1.1355\n",
      "Epoch 5/10\n",
      "10/10 [==============================] - 0s 24ms/step - loss: 1.1952 - val_loss: 1.0868\n",
      "Epoch 6/10\n",
      "10/10 [==============================] - 0s 23ms/step - loss: 1.1322 - val_loss: 1.0490\n",
      "Epoch 7/10\n",
      "10/10 [==============================] - 0s 22ms/step - loss: 1.0755 - val_loss: 1.0216\n",
      "Epoch 8/10\n",
      "10/10 [==============================] - 0s 25ms/step - loss: 1.0321 - val_loss: 0.9960\n",
      "Epoch 9/10\n",
      "10/10 [==============================] - 0s 21ms/step - loss: 0.9930 - val_loss: 0.9767\n",
      "Epoch 10/10\n",
      "10/10 [==============================] - 0s 21ms/step - loss: 0.9588 - val_loss: 0.9608\n",
      "10/10 [==============================] - 0s 3ms/step\n",
      "0.6625000000000001\n",
      "3/3 [==============================] - 0s 6ms/step\n",
      "The presence of one_eye in resblock 2 is 0.6000000000000001\n",
      "Performing regression for layer 3\n",
      "Epoch 1/10\n"
     ]
    },
    {
     "name": "stderr",
     "output_type": "stream",
     "text": [
      "2024-03-01 13:47:26.175844: E tensorflow/core/grappler/optimizers/meta_optimizer.cc:954] model_pruner failed: INVALID_ARGUMENT: Graph does not contain terminal node AssignAddVariableOp_2.\n"
     ]
    },
    {
     "name": "stdout",
     "output_type": "stream",
     "text": [
      "10/10 [==============================] - 1s 69ms/step - loss: 3.1379 - val_loss: 2.7713\n",
      "Epoch 2/10\n",
      "10/10 [==============================] - 0s 23ms/step - loss: 2.6597 - val_loss: 2.4739\n",
      "Epoch 3/10\n",
      "10/10 [==============================] - 0s 25ms/step - loss: 2.2778 - val_loss: 2.1560\n",
      "Epoch 4/10\n",
      "10/10 [==============================] - 0s 25ms/step - loss: 1.9997 - val_loss: 1.8945\n",
      "Epoch 5/10\n",
      "10/10 [==============================] - 0s 22ms/step - loss: 1.7675 - val_loss: 1.7065\n",
      "Epoch 6/10\n",
      "10/10 [==============================] - 0s 20ms/step - loss: 1.6072 - val_loss: 1.5627\n",
      "Epoch 7/10\n",
      "10/10 [==============================] - 0s 23ms/step - loss: 1.4864 - val_loss: 1.4590\n",
      "Epoch 8/10\n",
      "10/10 [==============================] - 0s 22ms/step - loss: 1.3947 - val_loss: 1.3855\n",
      "Epoch 9/10\n",
      "10/10 [==============================] - 0s 21ms/step - loss: 1.3109 - val_loss: 1.3270\n",
      "Epoch 10/10\n",
      "10/10 [==============================] - 0s 20ms/step - loss: 1.2457 - val_loss: 1.2827\n",
      "10/10 [==============================] - 0s 3ms/step\n",
      "0.58125\n",
      "3/3 [==============================] - 0s 7ms/step\n",
      "The presence of one_eye in resblock 3 is 0.575\n",
      "Performing regression for layer 4\n",
      "Epoch 1/10\n"
     ]
    },
    {
     "name": "stderr",
     "output_type": "stream",
     "text": [
      "2024-03-01 13:47:29.638386: E tensorflow/core/grappler/optimizers/meta_optimizer.cc:954] model_pruner failed: INVALID_ARGUMENT: Graph does not contain terminal node AssignAddVariableOp_2.\n"
     ]
    },
    {
     "name": "stdout",
     "output_type": "stream",
     "text": [
      "10/10 [==============================] - 1s 70ms/step - loss: 1.8651 - val_loss: 1.9918\n",
      "Epoch 2/10\n",
      "10/10 [==============================] - 0s 24ms/step - loss: 1.7109 - val_loss: 1.8587\n",
      "Epoch 3/10\n",
      "10/10 [==============================] - 0s 23ms/step - loss: 1.5993 - val_loss: 1.7383\n",
      "Epoch 4/10\n",
      "10/10 [==============================] - 0s 22ms/step - loss: 1.4999 - val_loss: 1.6358\n",
      "Epoch 5/10\n",
      "10/10 [==============================] - 0s 20ms/step - loss: 1.4182 - val_loss: 1.5431\n",
      "Epoch 6/10\n",
      "10/10 [==============================] - 0s 22ms/step - loss: 1.3424 - val_loss: 1.4674\n",
      "Epoch 7/10\n",
      "10/10 [==============================] - 0s 20ms/step - loss: 1.2739 - val_loss: 1.4016\n",
      "Epoch 8/10\n",
      "10/10 [==============================] - 0s 21ms/step - loss: 1.2178 - val_loss: 1.3400\n",
      "Epoch 9/10\n",
      "10/10 [==============================] - 0s 23ms/step - loss: 1.1645 - val_loss: 1.2891\n",
      "Epoch 10/10\n",
      "10/10 [==============================] - 0s 21ms/step - loss: 1.1206 - val_loss: 1.2441\n",
      "10/10 [==============================] - 0s 3ms/step\n",
      "0.60625\n",
      "3/3 [==============================] - 0s 7ms/step\n",
      "The presence of one_eye in resblock 4 is 0.5249999999999999\n",
      "Performing regression for layer 5\n",
      "Epoch 1/10\n"
     ]
    },
    {
     "name": "stderr",
     "output_type": "stream",
     "text": [
      "2024-03-01 13:47:33.079217: E tensorflow/core/grappler/optimizers/meta_optimizer.cc:954] model_pruner failed: INVALID_ARGUMENT: Graph does not contain terminal node AssignAddVariableOp_2.\n"
     ]
    },
    {
     "name": "stdout",
     "output_type": "stream",
     "text": [
      "10/10 [==============================] - 1s 62ms/step - loss: 2.7930 - val_loss: 2.6243\n",
      "Epoch 2/10\n",
      "10/10 [==============================] - 0s 27ms/step - loss: 2.3661 - val_loss: 2.3095\n",
      "Epoch 3/10\n",
      "10/10 [==============================] - 0s 23ms/step - loss: 2.1046 - val_loss: 2.0334\n",
      "Epoch 4/10\n",
      "10/10 [==============================] - 0s 22ms/step - loss: 1.8769 - val_loss: 1.8369\n",
      "Epoch 5/10\n",
      "10/10 [==============================] - 0s 21ms/step - loss: 1.7162 - val_loss: 1.6896\n",
      "Epoch 6/10\n",
      "10/10 [==============================] - 0s 21ms/step - loss: 1.6013 - val_loss: 1.5694\n",
      "Epoch 7/10\n",
      "10/10 [==============================] - 0s 22ms/step - loss: 1.4927 - val_loss: 1.4915\n",
      "Epoch 8/10\n",
      "10/10 [==============================] - 0s 22ms/step - loss: 1.4121 - val_loss: 1.4312\n",
      "Epoch 9/10\n",
      "10/10 [==============================] - 0s 21ms/step - loss: 1.3513 - val_loss: 1.3801\n",
      "Epoch 10/10\n",
      "10/10 [==============================] - 0s 21ms/step - loss: 1.2884 - val_loss: 1.3279\n",
      "10/10 [==============================] - 0s 3ms/step\n",
      "0.5375000000000001\n",
      "3/3 [==============================] - 0s 7ms/step\n",
      "The presence of one_eye in resblock 5 is 0.55\n",
      "Performing regression for layer 6\n",
      "Epoch 1/10\n"
     ]
    },
    {
     "name": "stderr",
     "output_type": "stream",
     "text": [
      "2024-03-01 13:47:36.505207: E tensorflow/core/grappler/optimizers/meta_optimizer.cc:954] model_pruner failed: INVALID_ARGUMENT: Graph does not contain terminal node AssignAddVariableOp_2.\n"
     ]
    },
    {
     "name": "stdout",
     "output_type": "stream",
     "text": [
      "10/10 [==============================] - 1s 71ms/step - loss: 1.2588 - val_loss: 1.2307\n",
      "Epoch 2/10\n",
      "10/10 [==============================] - 0s 23ms/step - loss: 1.2303 - val_loss: 1.2044\n",
      "Epoch 3/10\n",
      "10/10 [==============================] - 0s 22ms/step - loss: 1.2049 - val_loss: 1.1793\n",
      "Epoch 4/10\n",
      "10/10 [==============================] - 0s 22ms/step - loss: 1.1793 - val_loss: 1.1562\n",
      "Epoch 5/10\n",
      "10/10 [==============================] - 0s 21ms/step - loss: 1.1563 - val_loss: 1.1345\n",
      "Epoch 6/10\n",
      "10/10 [==============================] - 0s 20ms/step - loss: 1.1347 - val_loss: 1.1138\n",
      "Epoch 7/10\n",
      "10/10 [==============================] - 0s 21ms/step - loss: 1.1133 - val_loss: 1.0945\n",
      "Epoch 8/10\n",
      "10/10 [==============================] - 0s 21ms/step - loss: 1.0939 - val_loss: 1.0756\n",
      "Epoch 9/10\n",
      "10/10 [==============================] - 0s 21ms/step - loss: 1.0746 - val_loss: 1.0579\n",
      "Epoch 10/10\n",
      "10/10 [==============================] - 0s 20ms/step - loss: 1.0563 - val_loss: 1.0407\n",
      "10/10 [==============================] - 0s 3ms/step\n",
      "0.5562499999999999\n",
      "3/3 [==============================] - 0s 7ms/step\n",
      "The presence of one_eye in resblock 6 is 0.55\n",
      "Performing regression for layer 7\n",
      "Epoch 1/10\n"
     ]
    },
    {
     "name": "stderr",
     "output_type": "stream",
     "text": [
      "2024-03-01 13:47:39.894950: E tensorflow/core/grappler/optimizers/meta_optimizer.cc:954] model_pruner failed: INVALID_ARGUMENT: Graph does not contain terminal node AssignAddVariableOp_2.\n"
     ]
    },
    {
     "name": "stdout",
     "output_type": "stream",
     "text": [
      "10/10 [==============================] - 1s 70ms/step - loss: 0.9897 - val_loss: 0.9636\n",
      "Epoch 2/10\n",
      "10/10 [==============================] - 0s 23ms/step - loss: 0.9857 - val_loss: 0.9593\n",
      "Epoch 3/10\n",
      "10/10 [==============================] - 0s 23ms/step - loss: 0.9820 - val_loss: 0.9549\n",
      "Epoch 4/10\n",
      "10/10 [==============================] - 0s 21ms/step - loss: 0.9779 - val_loss: 0.9509\n",
      "Epoch 5/10\n",
      "10/10 [==============================] - 0s 21ms/step - loss: 0.9745 - val_loss: 0.9466\n",
      "Epoch 6/10\n",
      "10/10 [==============================] - 0s 21ms/step - loss: 0.9707 - val_loss: 0.9426\n",
      "Epoch 7/10\n",
      "10/10 [==============================] - 0s 21ms/step - loss: 0.9675 - val_loss: 0.9384\n",
      "Epoch 8/10\n",
      "10/10 [==============================] - 0s 21ms/step - loss: 0.9637 - val_loss: 0.9348\n",
      "Epoch 9/10\n",
      "10/10 [==============================] - 0s 20ms/step - loss: 0.9606 - val_loss: 0.9309\n",
      "Epoch 10/10\n",
      "10/10 [==============================] - 0s 20ms/step - loss: 0.9572 - val_loss: 0.9271\n",
      "10/10 [==============================] - 0s 3ms/step\n",
      "-0.0625\n",
      "3/3 [==============================] - 0s 6ms/step\n"
     ]
    },
    {
     "name": "stderr",
     "output_type": "stream",
     "text": [
      "Epochs: 100%|██████████| 6/6 [02:43<00:00, 27.67s/it]"
     ]
    },
    {
     "name": "stdout",
     "output_type": "stream",
     "text": [
      "The presence of one_eye in resblock 7 is 0\n"
     ]
    }
   ],
   "source": [
    "from tqdm import tqdm\n",
    "epochs_to_look_at = agents_to_sample\n",
    "\n",
    "bar = tqdm(total=len(epochs_to_look_at), desc=\"Epochs\")\n",
    "\n",
    "for epoch in epochs_to_look_at:\n",
    "    path = full_model_path + model_name + \"_\" + str(epoch) + \".keras\"\n",
    "    if resnet:\n",
    "        model = ResNet(board_size, path)\n",
    "    else:\n",
    "        model = ConvNet(board_size, path)\n",
    "\n",
    "    # Will have a length equal to the sum of the numer of rows in the positive and negative cases arrays\n",
    "    # And will contain 1s for positive cases and 0s for negative cases\n",
    "    # Is used as labels/targets for the regression\n",
    "    if BINARY:\n",
    "        all_cases = np.concatenate([positive_cases, negative_cases])\n",
    "        all_labels = [1] * positive_cases.shape[0] + [0] * negative_cases.shape[0]\n",
    "    else:\n",
    "        all_cases = np.array(positive_cases)\n",
    "        all_labels = negative_cases\n",
    "\n",
    "    all_labels = np.array(all_labels)\n",
    "    shuffled_indices = np.arange(all_labels.shape[0])\n",
    "\n",
    "    np.random.shuffle(shuffled_indices)\n",
    "\n",
    "    all_cases = all_cases[shuffled_indices]\n",
    "    all_labels = all_labels[shuffled_indices]\n",
    "\n",
    "    concept_presences = {}\n",
    "    \n",
    "    outputs = model.get_all_activation_values(all_cases)\n",
    "\n",
    "    # Merge outputs\n",
    "    merged_outputs = []\n",
    "    for output_batch in outputs:\n",
    "        for i, output_layer in enumerate(output_batch):\n",
    "            if len(merged_outputs) <= i:\n",
    "                merged_outputs.append([])\n",
    "            merged_outputs[i].extend(output_layer)\n",
    "\n",
    "    for i, layer_output in enumerate(merged_outputs):\n",
    "        merged_outputs[i] = np.array(merged_outputs[i])\n",
    "    \n",
    "    outputs = merged_outputs\n",
    "\n",
    "    # Perform regression\n",
    "    concept_presence_per_layer = []\n",
    "    for (i, output) in enumerate(outputs):\n",
    "        points = output.reshape((output.shape[0], np.prod(output.shape[1:])))\n",
    "        # So one has (n, k) samples where n is the number of positions, and k is the total number of activation values in layer i.\n",
    "        print(f\"Performing regression for layer {i}\")\n",
    "        score = linear_regression.perform_regression(\n",
    "            points=points[:POSITIONS_TO_CONSIDER], \n",
    "            targets=all_labels[:POSITIONS_TO_CONSIDER], \n",
    "            validation_points=points[POSITIONS_TO_CONSIDER:], \n",
    "            validation_targets=all_labels[POSITIONS_TO_CONSIDER:], \n",
    "            is_binary=BINARY,\n",
    "            epochs=epochs,\n",
    "            verbose=1\n",
    "        )\n",
    "        score = 0 if score < 0 else score\n",
    "        concept_presence_per_layer.append(score)\n",
    "\n",
    "        print(f\"The presence of {CONCEPT_NAME} in resblock {i} is {score}\")\n",
    "        \n",
    "    concept_presences[CONCEPT_NAME] = concept_presence_per_layer\n",
    "\n",
    "    concept_folder_setup_and_score('static', model_type, board_name, session_name, CONCEPT_NAME, epoch, concept_presence_per_layer)\n",
    "\n",
    "    bar.update()"
   ]
  }
 ],
 "metadata": {
  "kernelspec": {
   "display_name": "go-xai",
   "language": "python",
   "name": "python3"
  },
  "language_info": {
   "codemirror_mode": {
    "name": "ipython",
    "version": 3
   },
   "file_extension": ".py",
   "mimetype": "text/x-python",
   "name": "python",
   "nbconvert_exporter": "python",
   "pygments_lexer": "ipython3",
   "version": "3.8.18"
  }
 },
 "nbformat": 4,
 "nbformat_minor": 2
}
