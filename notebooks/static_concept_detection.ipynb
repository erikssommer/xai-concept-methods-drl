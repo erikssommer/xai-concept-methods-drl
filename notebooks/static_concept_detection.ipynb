{
 "cells": [
  {
   "cell_type": "markdown",
   "metadata": {},
   "source": [
    "### Notebook for concept detection in neural network"
   ]
  },
  {
   "cell_type": "code",
   "execution_count": 15,
   "metadata": {},
   "outputs": [],
   "source": [
    "%load_ext autoreload\n",
    "%autoreload 2"
   ]
  },
  {
   "cell_type": "code",
   "execution_count": 1,
   "metadata": {},
   "outputs": [],
   "source": [
    "import numpy as np\n",
    "import os\n",
    "import sys\n",
    "\n",
    "sys.path.append(os.path.abspath(os.path.join(os.path.pardir, 'src')))\n",
    "\n",
    "os.environ['TF_CPP_MIN_LOG_LEVEL'] = '2'  # or any {'0', '1', '2'}\n",
    "\n",
    "from concepts import static_concepts, linear_regression, generate_static_concept_datasets\n",
    "from policy import ConvNet, ResNet\n",
    "from utils import concept_folder_setup_and_score\n",
    "\n",
    "import tensorflow as tf\n",
    "\n",
    "# Set memory growth\n",
    "physical_devices = tf.config.list_physical_devices('GPU')\n",
    "tf.config.experimental.set_memory_growth(physical_devices[0], True)\n",
    "\n",
    "reward_function = \"zero_sum\" # \"concept_fn\", \"zero_sum\" or \"jem\"\n",
    "model_name = \"net\"\n",
    "session_name = \"probing\"\n",
    "board_size = 7\n",
    "board_name = f'{board_size}x{board_size}'\n",
    "resnet = True\n",
    "\n",
    "model_type = \"resnet\" if resnet else \"convnet\"\n",
    "\n",
    "agents_to_sample = [0, 10, 50, 100, 300, 500, 600, 800, 1000]\n",
    "\n",
    "full_model_path = f\"../models/saved_sessions/{model_type}/{reward_function}/board_size_{board_size}/{session_name}/\"\n",
    "\n",
    "CONCEPT_FUNC = static_concepts.tsumego\n",
    "\n",
    "CONCEPT_NAME = static_concepts.tsumego.__name__\n",
    "\n",
    "BINARY = True\n",
    "\n",
    "CASES_TO_SAMPLE = 2500 # 25000\n",
    "\n",
    "SAMPLE_RATIO = 0.8\n",
    "\n",
    "# Load the models\n",
    "def load_model(full_name, model_name, epoch):\n",
    "    model_path = full_name + model_name + \"_\" + str(epoch) + \".keras\"\n",
    "    if resnet:\n",
    "        model = ResNet(board_size, model_path)\n",
    "    else:\n",
    "        model = ConvNet(board_size, model_path)\n",
    "    return model\n",
    "\n",
    "agents = [load_model(full_model_path, model_name, epoch) for epoch in agents_to_sample]"
   ]
  },
  {
   "cell_type": "code",
   "execution_count": 2,
   "metadata": {},
   "outputs": [
    {
     "name": "stderr",
     "output_type": "stream",
     "text": [
      "Positive cases for concept 'tsumego':   0%|          | 0/2500 [00:00<?, ?it/s]"
     ]
    },
    {
     "name": "stderr",
     "output_type": "stream",
     "text": [
      "Positive cases for concept 'tsumego': 2516it [2:28:31,  3.54s/it]                            \n"
     ]
    }
   ],
   "source": [
    "positive_cases, negative_cases = generate_static_concept_datasets(CASES_TO_SAMPLE, agents, board_size, CONCEPT_FUNC, sample_ratio=SAMPLE_RATIO, binary=BINARY)\n",
    "\n",
    "# Create numpy arrays\n",
    "positive_cases = np.array(positive_cases)\n",
    "negative_cases = np.array(negative_cases)"
   ]
  },
  {
   "cell_type": "code",
   "execution_count": 3,
   "metadata": {},
   "outputs": [
    {
     "name": "stdout",
     "output_type": "stream",
     "text": [
      "Positive cases:  (2500, 5, 7, 7)\n",
      "Negative cases:  (2500, 5, 7, 7)\n"
     ]
    }
   ],
   "source": [
    "# Print shapes\n",
    "print(\"Positive cases: \", positive_cases.shape)\n",
    "print(\"Negative cases: \", negative_cases.shape)"
   ]
  },
  {
   "cell_type": "code",
   "execution_count": 4,
   "metadata": {},
   "outputs": [],
   "source": [
    "# Test if there are any duplicates accross the two sets\n",
    "for i in range(len(positive_cases)):\n",
    "    for j in range(len(negative_cases)):\n",
    "        if np.array_equal(positive_cases[i], negative_cases[j]):\n",
    "            print(\"Duplicate found!\")\n",
    "            print(positive_cases[i])\n",
    "            print(negative_cases[j])\n",
    "            break"
   ]
  },
  {
   "cell_type": "code",
   "execution_count": 3,
   "metadata": {},
   "outputs": [
    {
     "name": "stdout",
     "output_type": "stream",
     "text": [
      "Duplicate count in positive cases:  1\n",
      "Duplicate count in negative:  13\n"
     ]
    }
   ],
   "source": [
    "# Find the number of any duplicates within the positive cases\n",
    "duplicate_count = 0\n",
    "for i in range(len(positive_cases)):\n",
    "    for j in range(i + 1, len(positive_cases)):\n",
    "        if np.array_equal(positive_cases[i], positive_cases[j]):\n",
    "            duplicate_count += 1\n",
    "            break\n",
    "\n",
    "print(\"Duplicate count in positive cases: \", duplicate_count)\n",
    "\n",
    "# Find the number of any duplicates within the negative cases\n",
    "duplicate_count = 0\n",
    "for i in range(len(negative_cases)):\n",
    "    for j in range(i + 1, len(negative_cases)):\n",
    "        if np.array_equal(negative_cases[i], negative_cases[j]):\n",
    "            duplicate_count += 1\n",
    "            break\n",
    "\n",
    "print(\"Duplicate count in negative: \", duplicate_count)"
   ]
  },
  {
   "cell_type": "code",
   "execution_count": null,
   "metadata": {},
   "outputs": [],
   "source": [
    "from env import gogame\n",
    "# Print all the positive cases\n",
    "for i in range(100, 120):\n",
    "    print(f\"Positive case {i}:\")\n",
    "    print(positive_cases[i])\n",
    "    print(gogame.str(positive_cases[i], nn_format=True))\n",
    "    print()"
   ]
  },
  {
   "cell_type": "code",
   "execution_count": 10,
   "metadata": {},
   "outputs": [
    {
     "name": "stdout",
     "output_type": "stream",
     "text": [
      "Positions to consider: 4000\n"
     ]
    }
   ],
   "source": [
    "# Positions to consider are 80% of the total positions\n",
    "if BINARY:\n",
    "    POSITIONS_TO_CONSIDER = int(0.8 * positive_cases.shape[0] * 2)\n",
    "    print(f\"Positions to consider: {POSITIONS_TO_CONSIDER}\")\n",
    "    #POSITIONS_TO_CONSIDER = 4000 #40000\n",
    "    VALIDATION_POSITIONS = 10000 #10000\n",
    "else:\n",
    "    POSITIONS_TO_CONSIDER = int(0.8 * positive_cases.shape[0])\n",
    "    print(f\"Positions to consider: {POSITIONS_TO_CONSIDER}\")\n",
    "    #POSITIONS_TO_CONSIDER = 4000 #40000\n",
    "    VALIDATION_POSITIONS = 10000\n",
    "\n",
    "epochs = 5"
   ]
  },
  {
   "cell_type": "code",
   "execution_count": 11,
   "metadata": {},
   "outputs": [
    {
     "name": "stdout",
     "output_type": "stream",
     "text": [
      "Epoch 1/5\n"
     ]
    },
    {
     "name": "stderr",
     "output_type": "stream",
     "text": [
      "2024-04-25 12:01:54.817147: E tensorflow/core/grappler/optimizers/meta_optimizer.cc:954] model_pruner failed: INVALID_ARGUMENT: Graph does not contain terminal node AssignAddVariableOp_2.\n"
     ]
    },
    {
     "name": "stdout",
     "output_type": "stream",
     "text": [
      "125/125 [==============================] - 4s 23ms/step - loss: 0.8561 - val_loss: 0.8107\n",
      "Epoch 2/5\n",
      "125/125 [==============================] - 2s 17ms/step - loss: 0.7851 - val_loss: 0.7559\n",
      "Epoch 3/5\n",
      "125/125 [==============================] - 2s 17ms/step - loss: 0.7394 - val_loss: 0.7202\n",
      "Epoch 4/5\n",
      "125/125 [==============================] - 2s 17ms/step - loss: 0.7075 - val_loss: 0.6951\n",
      "Epoch 5/5\n",
      "125/125 [==============================] - 2s 18ms/step - loss: 0.6832 - val_loss: 0.6749\n",
      "125/125 [==============================] - 0s 3ms/step\n",
      "0.5109999999999999\n",
      "32/32 [==============================] - 0s 3ms/step\n",
      "Regression score:  0.484\n"
     ]
    }
   ],
   "source": [
    "# First test if the concept can be regressed form the inputs\n",
    "name = \"input\"\n",
    "if BINARY:\n",
    "    all_cases = np.concatenate([positive_cases, negative_cases])\n",
    "    all_labels = [1] * positive_cases.shape[0] + [0] * negative_cases.shape[0]\n",
    "else:\n",
    "    all_cases = np.array(positive_cases)\n",
    "    all_labels = negative_cases\n",
    "\n",
    "all_labels = np.array(all_labels)\n",
    "shuffled_indices = np.arange(all_labels.shape[0])\n",
    "\n",
    "np.random.shuffle(shuffled_indices)\n",
    "\n",
    "all_cases = all_cases[shuffled_indices]\n",
    "all_labels = all_labels[shuffled_indices]\n",
    "\n",
    "points = all_cases.reshape(all_cases.shape[0], -1)\n",
    "\n",
    "# Use the regression\n",
    "score = linear_regression.perform_regression(\n",
    "    points=points[:POSITIONS_TO_CONSIDER], \n",
    "    targets=all_labels[:POSITIONS_TO_CONSIDER], \n",
    "    validation_points=points[POSITIONS_TO_CONSIDER:], \n",
    "    validation_targets=all_labels[POSITIONS_TO_CONSIDER:], \n",
    "    is_binary=BINARY,\n",
    "    epochs=epochs,\n",
    "    verbose=1\n",
    ")\n",
    "\n",
    "score = 0 if score < 0 else score\n",
    "\n",
    "print(\"Regression score: \", score)\n",
    "\n",
    "concept_folder_setup_and_score('static', model_type, board_name, session_name, CONCEPT_NAME, name, score)"
   ]
  },
  {
   "cell_type": "code",
   "execution_count": 9,
   "metadata": {},
   "outputs": [
    {
     "name": "stderr",
     "output_type": "stream",
     "text": [
      "Getting activation outputs: 100%|██████████| 157/157 [00:05<00:00, 30.81it/s]\n"
     ]
    },
    {
     "name": "stdout",
     "output_type": "stream",
     "text": [
      "Performing regression for layer 0\n",
      "Epoch 1/5\n"
     ]
    },
    {
     "name": "stderr",
     "output_type": "stream",
     "text": [
      "2024-04-25 11:44:00.116123: E tensorflow/core/grappler/optimizers/meta_optimizer.cc:954] model_pruner failed: INVALID_ARGUMENT: Graph does not contain terminal node AssignAddVariableOp_2.\n"
     ]
    },
    {
     "name": "stdout",
     "output_type": "stream",
     "text": [
      "125/125 [==============================] - 3s 19ms/step - loss: 1.2941 - val_loss: 1.0899\n",
      "Epoch 2/5\n",
      "125/125 [==============================] - 2s 16ms/step - loss: 0.9608 - val_loss: 0.8293\n",
      "Epoch 3/5\n",
      "125/125 [==============================] - 2s 16ms/step - loss: 0.7575 - val_loss: 0.6865\n",
      "Epoch 4/5\n",
      "125/125 [==============================] - 2s 17ms/step - loss: 0.6704 - val_loss: 0.6456\n",
      "Epoch 5/5\n",
      "125/125 [==============================] - 2s 16ms/step - loss: 0.6476 - val_loss: 0.6332\n",
      "125/125 [==============================] - 0s 3ms/step\n",
      "0.573\n",
      "32/32 [==============================] - 0s 4ms/step\n",
      "The presence of tsumego in resblock 0 is 0.6180000000000001\n",
      "Performing regression for layer 1\n",
      "Epoch 1/5\n"
     ]
    },
    {
     "name": "stderr",
     "output_type": "stream",
     "text": [
      "2024-04-25 11:44:12.181562: E tensorflow/core/grappler/optimizers/meta_optimizer.cc:954] model_pruner failed: INVALID_ARGUMENT: Graph does not contain terminal node AssignAddVariableOp_2.\n"
     ]
    },
    {
     "name": "stdout",
     "output_type": "stream",
     "text": [
      "125/125 [==============================] - 3s 19ms/step - loss: 1.2950 - val_loss: 1.0904\n",
      "Epoch 2/5\n",
      "125/125 [==============================] - 2s 17ms/step - loss: 0.9516 - val_loss: 0.8225\n",
      "Epoch 3/5\n",
      "125/125 [==============================] - 2s 17ms/step - loss: 0.7553 - val_loss: 0.6977\n",
      "Epoch 4/5\n",
      "125/125 [==============================] - 2s 18ms/step - loss: 0.6915 - val_loss: 0.6777\n",
      "Epoch 5/5\n",
      "125/125 [==============================] - 3s 20ms/step - loss: 0.6820 - val_loss: 0.6740\n",
      "125/125 [==============================] - 0s 3ms/step\n",
      "0.4125000000000001\n",
      "32/32 [==============================] - 0s 3ms/step\n",
      "The presence of tsumego in resblock 1 is 0.46399999999999997\n",
      "Performing regression for layer 2\n",
      "Epoch 1/5\n"
     ]
    },
    {
     "name": "stderr",
     "output_type": "stream",
     "text": [
      "2024-04-25 11:44:24.932669: E tensorflow/core/grappler/optimizers/meta_optimizer.cc:954] model_pruner failed: INVALID_ARGUMENT: Graph does not contain terminal node AssignAddVariableOp_2.\n"
     ]
    },
    {
     "name": "stdout",
     "output_type": "stream",
     "text": [
      "125/125 [==============================] - 3s 20ms/step - loss: 1.3047 - val_loss: 1.1080\n",
      "Epoch 2/5\n",
      "125/125 [==============================] - 2s 17ms/step - loss: 0.9794 - val_loss: 0.8509\n",
      "Epoch 3/5\n",
      "125/125 [==============================] - 2s 17ms/step - loss: 0.7763 - val_loss: 0.7012\n",
      "Epoch 4/5\n",
      "125/125 [==============================] - 2s 17ms/step - loss: 0.6809 - val_loss: 0.6532\n",
      "Epoch 5/5\n",
      "125/125 [==============================] - 2s 17ms/step - loss: 0.6531 - val_loss: 0.6371\n",
      "125/125 [==============================] - 0s 3ms/step\n",
      "0.609\n",
      "32/32 [==============================] - 0s 3ms/step\n",
      "The presence of tsumego in resblock 2 is 0.6619999999999999\n",
      "Performing regression for layer 3\n",
      "Epoch 1/5\n"
     ]
    },
    {
     "name": "stderr",
     "output_type": "stream",
     "text": [
      "2024-04-25 11:44:37.324715: E tensorflow/core/grappler/optimizers/meta_optimizer.cc:954] model_pruner failed: INVALID_ARGUMENT: Graph does not contain terminal node AssignAddVariableOp_2.\n"
     ]
    },
    {
     "name": "stdout",
     "output_type": "stream",
     "text": [
      "125/125 [==============================] - 3s 21ms/step - loss: 1.3070 - val_loss: 1.1047\n",
      "Epoch 2/5\n",
      "125/125 [==============================] - 2s 17ms/step - loss: 0.9636 - val_loss: 0.8334\n",
      "Epoch 3/5\n",
      "125/125 [==============================] - 2s 17ms/step - loss: 0.7643 - val_loss: 0.7032\n",
      "Epoch 4/5\n",
      "125/125 [==============================] - 2s 17ms/step - loss: 0.6956 - val_loss: 0.6796\n",
      "Epoch 5/5\n",
      "125/125 [==============================] - 2s 17ms/step - loss: 0.6831 - val_loss: 0.6735\n",
      "125/125 [==============================] - 0s 3ms/step\n",
      "0.3474999999999999\n",
      "32/32 [==============================] - 0s 3ms/step\n",
      "The presence of tsumego in resblock 3 is 0.4059999999999999\n",
      "Performing regression for layer 4\n",
      "Epoch 1/5\n"
     ]
    },
    {
     "name": "stderr",
     "output_type": "stream",
     "text": [
      "2024-04-25 11:44:49.942354: E tensorflow/core/grappler/optimizers/meta_optimizer.cc:954] model_pruner failed: INVALID_ARGUMENT: Graph does not contain terminal node AssignAddVariableOp_2.\n"
     ]
    },
    {
     "name": "stdout",
     "output_type": "stream",
     "text": [
      "125/125 [==============================] - 3s 20ms/step - loss: 1.3318 - val_loss: 1.1350\n",
      "Epoch 2/5\n",
      "125/125 [==============================] - 2s 17ms/step - loss: 1.0066 - val_loss: 0.8761\n",
      "Epoch 3/5\n",
      "125/125 [==============================] - 2s 18ms/step - loss: 0.7981 - val_loss: 0.7180\n",
      "Epoch 4/5\n",
      "125/125 [==============================] - 2s 17ms/step - loss: 0.6903 - val_loss: 0.6541\n",
      "Epoch 5/5\n",
      "125/125 [==============================] - 2s 17ms/step - loss: 0.6493 - val_loss: 0.6292\n",
      "125/125 [==============================] - 0s 3ms/step\n",
      "0.671\n",
      "32/32 [==============================] - 0s 3ms/step\n",
      "The presence of tsumego in resblock 4 is 0.708\n",
      "Performing regression for layer 5\n",
      "Epoch 1/5\n"
     ]
    },
    {
     "name": "stderr",
     "output_type": "stream",
     "text": [
      "2024-04-25 11:45:02.520973: E tensorflow/core/grappler/optimizers/meta_optimizer.cc:954] model_pruner failed: INVALID_ARGUMENT: Graph does not contain terminal node AssignAddVariableOp_2.\n"
     ]
    },
    {
     "name": "stdout",
     "output_type": "stream",
     "text": [
      "125/125 [==============================] - 3s 20ms/step - loss: 1.3201 - val_loss: 1.1243\n",
      "Epoch 2/5\n",
      "125/125 [==============================] - 2s 17ms/step - loss: 0.9914 - val_loss: 0.8622\n",
      "Epoch 3/5\n",
      "125/125 [==============================] - 2s 17ms/step - loss: 0.7895 - val_loss: 0.7203\n",
      "Epoch 4/5\n",
      "125/125 [==============================] - 2s 18ms/step - loss: 0.7073 - val_loss: 0.6821\n",
      "Epoch 5/5\n",
      "125/125 [==============================] - 2s 17ms/step - loss: 0.6836 - val_loss: 0.6696\n",
      "125/125 [==============================] - 0s 3ms/step\n",
      "0.5405\n",
      "32/32 [==============================] - 0s 3ms/step\n",
      "The presence of tsumego in resblock 5 is 0.5840000000000001\n",
      "Performing regression for layer 6\n",
      "Epoch 1/5\n"
     ]
    },
    {
     "name": "stderr",
     "output_type": "stream",
     "text": [
      "2024-04-25 11:45:15.156983: E tensorflow/core/grappler/optimizers/meta_optimizer.cc:954] model_pruner failed: INVALID_ARGUMENT: Graph does not contain terminal node AssignAddVariableOp_2.\n"
     ]
    },
    {
     "name": "stdout",
     "output_type": "stream",
     "text": [
      "125/125 [==============================] - 3s 20ms/step - loss: 0.7432 - val_loss: 0.7468\n",
      "Epoch 2/5\n",
      "125/125 [==============================] - 2s 17ms/step - loss: 0.7391 - val_loss: 0.7421\n",
      "Epoch 3/5\n",
      "125/125 [==============================] - 2s 17ms/step - loss: 0.7353 - val_loss: 0.7378\n",
      "Epoch 4/5\n",
      "125/125 [==============================] - 2s 17ms/step - loss: 0.7318 - val_loss: 0.7337\n",
      "Epoch 5/5\n",
      "125/125 [==============================] - 2s 18ms/step - loss: 0.7284 - val_loss: 0.7299\n",
      "125/125 [==============================] - 0s 3ms/step\n",
      "0.28400000000000003\n",
      "32/32 [==============================] - 0s 10ms/step\n",
      "The presence of tsumego in resblock 6 is 0.27\n",
      "Performing regression for layer 7\n",
      "Epoch 1/5\n"
     ]
    },
    {
     "name": "stderr",
     "output_type": "stream",
     "text": [
      "2024-04-25 11:45:29.658934: E tensorflow/core/grappler/optimizers/meta_optimizer.cc:954] model_pruner failed: INVALID_ARGUMENT: Graph does not contain terminal node AssignAddVariableOp_2.\n"
     ]
    },
    {
     "name": "stdout",
     "output_type": "stream",
     "text": [
      "125/125 [==============================] - 5s 21ms/step - loss: 0.8342 - val_loss: 0.8380\n",
      "Epoch 2/5\n",
      "125/125 [==============================] - 2s 17ms/step - loss: 0.8158 - val_loss: 0.8181\n",
      "Epoch 3/5\n",
      "125/125 [==============================] - 2s 17ms/step - loss: 0.8018 - val_loss: 0.8031\n",
      "Epoch 4/5\n",
      "125/125 [==============================] - 2s 17ms/step - loss: 0.7907 - val_loss: 0.7907\n",
      "Epoch 5/5\n",
      "125/125 [==============================] - 2s 17ms/step - loss: 0.7816 - val_loss: 0.7806\n",
      "125/125 [==============================] - 0s 3ms/step\n",
      "-0.07050000000000001\n",
      "32/32 [==============================] - 0s 3ms/step\n"
     ]
    },
    {
     "name": "stderr",
     "output_type": "stream",
     "text": [
      "Epochs:  11%|█         | 1/9 [01:48<14:26, 108.37s/it]"
     ]
    },
    {
     "name": "stdout",
     "output_type": "stream",
     "text": [
      "The presence of tsumego in resblock 7 is 0\n"
     ]
    },
    {
     "name": "stderr",
     "output_type": "stream",
     "text": [
      "Getting activation outputs: 100%|██████████| 157/157 [00:05<00:00, 27.17it/s]\n"
     ]
    },
    {
     "name": "stdout",
     "output_type": "stream",
     "text": [
      "Performing regression for layer 0\n",
      "Epoch 1/5\n"
     ]
    },
    {
     "name": "stderr",
     "output_type": "stream",
     "text": [
      "2024-04-25 11:45:49.282782: E tensorflow/core/grappler/optimizers/meta_optimizer.cc:954] model_pruner failed: INVALID_ARGUMENT: Graph does not contain terminal node AssignAddVariableOp_2.\n"
     ]
    },
    {
     "name": "stdout",
     "output_type": "stream",
     "text": [
      "125/125 [==============================] - 3s 20ms/step - loss: 1.2703 - val_loss: 1.0791\n",
      "Epoch 2/5\n",
      "125/125 [==============================] - 2s 17ms/step - loss: 0.9456 - val_loss: 0.8255\n",
      "Epoch 3/5\n",
      "125/125 [==============================] - 2s 17ms/step - loss: 0.7459 - val_loss: 0.6840\n",
      "Epoch 4/5\n",
      "125/125 [==============================] - 2s 17ms/step - loss: 0.6550 - val_loss: 0.6368\n",
      "Epoch 5/5\n",
      "125/125 [==============================] - 2s 19ms/step - loss: 0.6292 - val_loss: 0.6218\n",
      "125/125 [==============================] - 0s 3ms/step\n",
      "0.5625\n",
      "32/32 [==============================] - 0s 3ms/step\n",
      "The presence of tsumego in resblock 0 is 0.562\n",
      "Performing regression for layer 1\n",
      "Epoch 1/5\n"
     ]
    },
    {
     "name": "stderr",
     "output_type": "stream",
     "text": [
      "2024-04-25 11:46:02.046805: E tensorflow/core/grappler/optimizers/meta_optimizer.cc:954] model_pruner failed: INVALID_ARGUMENT: Graph does not contain terminal node AssignAddVariableOp_2.\n"
     ]
    },
    {
     "name": "stdout",
     "output_type": "stream",
     "text": [
      "125/125 [==============================] - 3s 20ms/step - loss: 1.2885 - val_loss: 1.0979\n",
      "Epoch 2/5\n",
      "125/125 [==============================] - 2s 17ms/step - loss: 0.9591 - val_loss: 0.8367\n",
      "Epoch 3/5\n",
      "125/125 [==============================] - 2s 17ms/step - loss: 0.7562 - val_loss: 0.6933\n",
      "Epoch 4/5\n",
      "125/125 [==============================] - 2s 17ms/step - loss: 0.6703 - val_loss: 0.6553\n",
      "Epoch 5/5\n",
      "125/125 [==============================] - 2s 17ms/step - loss: 0.6471 - val_loss: 0.6411\n",
      "125/125 [==============================] - 0s 3ms/step\n",
      "0.4950000000000001\n",
      "32/32 [==============================] - 0s 3ms/step\n",
      "The presence of tsumego in resblock 1 is 0.488\n",
      "Performing regression for layer 2\n",
      "Epoch 1/5\n"
     ]
    },
    {
     "name": "stderr",
     "output_type": "stream",
     "text": [
      "2024-04-25 11:46:14.636558: E tensorflow/core/grappler/optimizers/meta_optimizer.cc:954] model_pruner failed: INVALID_ARGUMENT: Graph does not contain terminal node AssignAddVariableOp_2.\n"
     ]
    },
    {
     "name": "stdout",
     "output_type": "stream",
     "text": [
      "125/125 [==============================] - 3s 22ms/step - loss: 1.2986 - val_loss: 1.1127\n",
      "Epoch 2/5\n",
      "125/125 [==============================] - 2s 19ms/step - loss: 0.9800 - val_loss: 0.8618\n",
      "Epoch 3/5\n",
      "125/125 [==============================] - 3s 23ms/step - loss: 0.7782 - val_loss: 0.7108\n",
      "Epoch 4/5\n",
      "125/125 [==============================] - 3s 20ms/step - loss: 0.6762 - val_loss: 0.6554\n",
      "Epoch 5/5\n",
      "125/125 [==============================] - 2s 17ms/step - loss: 0.6402 - val_loss: 0.6321\n",
      "125/125 [==============================] - 0s 3ms/step\n",
      "0.6045\n",
      "32/32 [==============================] - 0s 3ms/step\n",
      "The presence of tsumego in resblock 2 is 0.5820000000000001\n",
      "Performing regression for layer 3\n",
      "Epoch 1/5\n"
     ]
    },
    {
     "name": "stderr",
     "output_type": "stream",
     "text": [
      "2024-04-25 11:46:28.608281: E tensorflow/core/grappler/optimizers/meta_optimizer.cc:954] model_pruner failed: INVALID_ARGUMENT: Graph does not contain terminal node AssignAddVariableOp_2.\n"
     ]
    },
    {
     "name": "stdout",
     "output_type": "stream",
     "text": [
      "125/125 [==============================] - 3s 20ms/step - loss: 1.3159 - val_loss: 1.1306\n",
      "Epoch 2/5\n",
      "125/125 [==============================] - 2s 18ms/step - loss: 0.9963 - val_loss: 0.8709\n",
      "Epoch 3/5\n",
      "125/125 [==============================] - 2s 17ms/step - loss: 0.7949 - val_loss: 0.7300\n",
      "Epoch 4/5\n",
      "125/125 [==============================] - 2s 17ms/step - loss: 0.7069 - val_loss: 0.6854\n",
      "Epoch 5/5\n",
      "125/125 [==============================] - 2s 17ms/step - loss: 0.6812 - val_loss: 0.6717\n",
      "125/125 [==============================] - 0s 3ms/step\n",
      "0.48449999999999993\n",
      "32/32 [==============================] - 0s 3ms/step\n",
      "The presence of tsumego in resblock 3 is 0.48\n",
      "Performing regression for layer 4\n",
      "Epoch 1/5\n"
     ]
    },
    {
     "name": "stderr",
     "output_type": "stream",
     "text": [
      "2024-04-25 11:46:41.041861: E tensorflow/core/grappler/optimizers/meta_optimizer.cc:954] model_pruner failed: INVALID_ARGUMENT: Graph does not contain terminal node AssignAddVariableOp_2.\n"
     ]
    },
    {
     "name": "stdout",
     "output_type": "stream",
     "text": [
      "125/125 [==============================] - 3s 21ms/step - loss: 1.3314 - val_loss: 1.1598\n",
      "Epoch 2/5\n",
      "125/125 [==============================] - 2s 17ms/step - loss: 1.0425 - val_loss: 0.9289\n",
      "Epoch 3/5\n",
      "125/125 [==============================] - 2s 17ms/step - loss: 0.8449 - val_loss: 0.7695\n",
      "Epoch 4/5\n",
      "125/125 [==============================] - 2s 19ms/step - loss: 0.7273 - val_loss: 0.6891\n",
      "Epoch 5/5\n",
      "125/125 [==============================] - 2s 17ms/step - loss: 0.6679 - val_loss: 0.6539\n",
      "125/125 [==============================] - 0s 3ms/step\n",
      "0.6679999999999999\n",
      "32/32 [==============================] - 0s 3ms/step\n",
      "The presence of tsumego in resblock 4 is 0.6479999999999999\n",
      "Performing regression for layer 5\n",
      "Epoch 1/5\n"
     ]
    },
    {
     "name": "stderr",
     "output_type": "stream",
     "text": [
      "2024-04-25 11:46:53.852228: E tensorflow/core/grappler/optimizers/meta_optimizer.cc:954] model_pruner failed: INVALID_ARGUMENT: Graph does not contain terminal node AssignAddVariableOp_2.\n"
     ]
    },
    {
     "name": "stdout",
     "output_type": "stream",
     "text": [
      "125/125 [==============================] - 3s 20ms/step - loss: 1.3521 - val_loss: 1.1650\n",
      "Epoch 2/5\n",
      "125/125 [==============================] - 2s 17ms/step - loss: 1.0373 - val_loss: 0.9123\n",
      "Epoch 3/5\n",
      "125/125 [==============================] - 2s 17ms/step - loss: 0.8343 - val_loss: 0.7626\n",
      "Epoch 4/5\n",
      "125/125 [==============================] - 2s 18ms/step - loss: 0.7308 - val_loss: 0.6996\n",
      "Epoch 5/5\n",
      "125/125 [==============================] - 2s 17ms/step - loss: 0.6897 - val_loss: 0.6767\n",
      "125/125 [==============================] - 0s 3ms/step\n",
      "0.5245\n",
      "32/32 [==============================] - 0s 3ms/step\n",
      "The presence of tsumego in resblock 5 is 0.512\n",
      "Performing regression for layer 6\n",
      "Epoch 1/5\n"
     ]
    },
    {
     "name": "stderr",
     "output_type": "stream",
     "text": [
      "2024-04-25 11:47:06.248321: E tensorflow/core/grappler/optimizers/meta_optimizer.cc:954] model_pruner failed: INVALID_ARGUMENT: Graph does not contain terminal node AssignAddVariableOp_2.\n"
     ]
    },
    {
     "name": "stdout",
     "output_type": "stream",
     "text": [
      "125/125 [==============================] - 3s 19ms/step - loss: 0.6995 - val_loss: 0.7040\n",
      "Epoch 2/5\n",
      "125/125 [==============================] - 2s 17ms/step - loss: 0.6840 - val_loss: 0.6878\n",
      "Epoch 3/5\n",
      "125/125 [==============================] - 2s 17ms/step - loss: 0.6717 - val_loss: 0.6750\n",
      "Epoch 4/5\n",
      "125/125 [==============================] - 2s 18ms/step - loss: 0.6618 - val_loss: 0.6644\n",
      "Epoch 5/5\n",
      "125/125 [==============================] - 2s 18ms/step - loss: 0.6536 - val_loss: 0.6555\n",
      "125/125 [==============================] - 0s 3ms/step\n",
      "0.351\n",
      "32/32 [==============================] - 0s 3ms/step\n",
      "The presence of tsumego in resblock 6 is 0.32800000000000007\n",
      "Performing regression for layer 7\n",
      "Epoch 1/5\n"
     ]
    },
    {
     "name": "stderr",
     "output_type": "stream",
     "text": [
      "2024-04-25 11:47:18.732061: E tensorflow/core/grappler/optimizers/meta_optimizer.cc:954] model_pruner failed: INVALID_ARGUMENT: Graph does not contain terminal node AssignAddVariableOp_2.\n"
     ]
    },
    {
     "name": "stdout",
     "output_type": "stream",
     "text": [
      "125/125 [==============================] - 3s 21ms/step - loss: 0.9876 - val_loss: 0.9660\n",
      "Epoch 2/5\n",
      "125/125 [==============================] - 2s 17ms/step - loss: 0.9051 - val_loss: 0.8914\n",
      "Epoch 3/5\n",
      "125/125 [==============================] - 2s 17ms/step - loss: 0.8558 - val_loss: 0.8481\n",
      "Epoch 4/5\n",
      "125/125 [==============================] - 2s 17ms/step - loss: 0.8291 - val_loss: 0.8243\n",
      "Epoch 5/5\n",
      "125/125 [==============================] - 2s 18ms/step - loss: 0.8147 - val_loss: 0.8099\n",
      "125/125 [==============================] - 0s 3ms/step\n",
      "-0.05049999999999999\n",
      "32/32 [==============================] - 0s 3ms/step\n"
     ]
    },
    {
     "name": "stderr",
     "output_type": "stream",
     "text": [
      "Epochs:  22%|██▏       | 2/9 [03:37<12:41, 108.73s/it]"
     ]
    },
    {
     "name": "stdout",
     "output_type": "stream",
     "text": [
      "The presence of tsumego in resblock 7 is 0\n"
     ]
    },
    {
     "name": "stderr",
     "output_type": "stream",
     "text": [
      "Getting activation outputs: 100%|██████████| 157/157 [00:05<00:00, 29.60it/s]\n"
     ]
    },
    {
     "name": "stdout",
     "output_type": "stream",
     "text": [
      "Performing regression for layer 0\n",
      "Epoch 1/5\n"
     ]
    },
    {
     "name": "stderr",
     "output_type": "stream",
     "text": [
      "2024-04-25 11:47:37.672935: E tensorflow/core/grappler/optimizers/meta_optimizer.cc:954] model_pruner failed: INVALID_ARGUMENT: Graph does not contain terminal node AssignAddVariableOp_2.\n"
     ]
    },
    {
     "name": "stdout",
     "output_type": "stream",
     "text": [
      "125/125 [==============================] - 3s 21ms/step - loss: 1.2696 - val_loss: 1.0871\n",
      "Epoch 2/5\n",
      "125/125 [==============================] - 2s 19ms/step - loss: 0.9418 - val_loss: 0.8357\n",
      "Epoch 3/5\n",
      "125/125 [==============================] - 2s 18ms/step - loss: 0.7433 - val_loss: 0.6923\n",
      "Epoch 4/5\n",
      "125/125 [==============================] - 2s 18ms/step - loss: 0.6485 - val_loss: 0.6410\n",
      "Epoch 5/5\n",
      "125/125 [==============================] - 2s 18ms/step - loss: 0.6199 - val_loss: 0.6247\n",
      "125/125 [==============================] - 0s 3ms/step\n",
      "0.5880000000000001\n",
      "32/32 [==============================] - 0s 3ms/step\n",
      "The presence of tsumego in resblock 0 is 0.56\n",
      "Performing regression for layer 1\n",
      "Epoch 1/5\n"
     ]
    },
    {
     "name": "stderr",
     "output_type": "stream",
     "text": [
      "2024-04-25 11:47:50.733443: E tensorflow/core/grappler/optimizers/meta_optimizer.cc:954] model_pruner failed: INVALID_ARGUMENT: Graph does not contain terminal node AssignAddVariableOp_2.\n"
     ]
    },
    {
     "name": "stdout",
     "output_type": "stream",
     "text": [
      "125/125 [==============================] - 3s 22ms/step - loss: 1.3074 - val_loss: 1.1254\n",
      "Epoch 2/5\n",
      "125/125 [==============================] - 2s 18ms/step - loss: 0.9776 - val_loss: 0.8668\n",
      "Epoch 3/5\n",
      "125/125 [==============================] - 2s 18ms/step - loss: 0.7740 - val_loss: 0.7209\n",
      "Epoch 4/5\n",
      "125/125 [==============================] - 2s 18ms/step - loss: 0.6796 - val_loss: 0.6691\n",
      "Epoch 5/5\n",
      "125/125 [==============================] - 2s 18ms/step - loss: 0.6487 - val_loss: 0.6508\n",
      "125/125 [==============================] - 0s 3ms/step\n",
      "0.5005\n",
      "32/32 [==============================] - 0s 3ms/step\n",
      "The presence of tsumego in resblock 1 is 0.478\n",
      "Performing regression for layer 2\n",
      "Epoch 1/5\n"
     ]
    },
    {
     "name": "stderr",
     "output_type": "stream",
     "text": [
      "2024-04-25 11:48:03.793761: E tensorflow/core/grappler/optimizers/meta_optimizer.cc:954] model_pruner failed: INVALID_ARGUMENT: Graph does not contain terminal node AssignAddVariableOp_2.\n"
     ]
    },
    {
     "name": "stdout",
     "output_type": "stream",
     "text": [
      "125/125 [==============================] - 3s 21ms/step - loss: 1.3096 - val_loss: 1.1377\n",
      "Epoch 2/5\n",
      "125/125 [==============================] - 2s 19ms/step - loss: 0.9899 - val_loss: 0.8818\n",
      "Epoch 3/5\n",
      "125/125 [==============================] - 2s 17ms/step - loss: 0.7870 - val_loss: 0.7310\n",
      "Epoch 4/5\n",
      "125/125 [==============================] - 2s 17ms/step - loss: 0.6776 - val_loss: 0.6655\n",
      "Epoch 5/5\n",
      "125/125 [==============================] - 2s 18ms/step - loss: 0.6360 - val_loss: 0.6365\n",
      "125/125 [==============================] - 0s 3ms/step\n",
      "0.6405000000000001\n",
      "32/32 [==============================] - 0s 3ms/step\n",
      "The presence of tsumego in resblock 2 is 0.6160000000000001\n",
      "Performing regression for layer 3\n",
      "Epoch 1/5\n"
     ]
    },
    {
     "name": "stderr",
     "output_type": "stream",
     "text": [
      "2024-04-25 11:48:16.803681: E tensorflow/core/grappler/optimizers/meta_optimizer.cc:954] model_pruner failed: INVALID_ARGUMENT: Graph does not contain terminal node AssignAddVariableOp_2.\n"
     ]
    },
    {
     "name": "stdout",
     "output_type": "stream",
     "text": [
      "125/125 [==============================] - 3s 21ms/step - loss: 1.2989 - val_loss: 1.1157\n",
      "Epoch 2/5\n",
      "125/125 [==============================] - 2s 17ms/step - loss: 0.9788 - val_loss: 0.8635\n",
      "Epoch 3/5\n",
      "125/125 [==============================] - 3s 20ms/step - loss: 0.7794 - val_loss: 0.7238\n",
      "Epoch 4/5\n",
      "125/125 [==============================] - 2s 18ms/step - loss: 0.6927 - val_loss: 0.6800\n",
      "Epoch 5/5\n",
      "125/125 [==============================] - 3s 22ms/step - loss: 0.6660 - val_loss: 0.6645\n",
      "125/125 [==============================] - 0s 3ms/step\n",
      "0.6054999999999999\n",
      "32/32 [==============================] - 0s 4ms/step\n",
      "The presence of tsumego in resblock 3 is 0.5940000000000001\n",
      "Performing regression for layer 4\n",
      "Epoch 1/5\n"
     ]
    },
    {
     "name": "stderr",
     "output_type": "stream",
     "text": [
      "2024-04-25 11:48:30.860936: E tensorflow/core/grappler/optimizers/meta_optimizer.cc:954] model_pruner failed: INVALID_ARGUMENT: Graph does not contain terminal node AssignAddVariableOp_2.\n"
     ]
    },
    {
     "name": "stdout",
     "output_type": "stream",
     "text": [
      "125/125 [==============================] - 5s 37ms/step - loss: 1.3282 - val_loss: 1.1675\n",
      "Epoch 2/5\n",
      "125/125 [==============================] - 2s 18ms/step - loss: 1.0323 - val_loss: 0.9307\n",
      "Epoch 3/5\n",
      "125/125 [==============================] - 2s 18ms/step - loss: 0.8344 - val_loss: 0.7786\n",
      "Epoch 4/5\n",
      "125/125 [==============================] - 2s 17ms/step - loss: 0.7187 - val_loss: 0.6977\n",
      "Epoch 5/5\n",
      "125/125 [==============================] - 2s 18ms/step - loss: 0.6602 - val_loss: 0.6578\n",
      "125/125 [==============================] - 0s 3ms/step\n",
      "0.7030000000000001\n",
      "32/32 [==============================] - 0s 3ms/step\n",
      "The presence of tsumego in resblock 4 is 0.688\n",
      "Performing regression for layer 5\n",
      "Epoch 1/5\n"
     ]
    },
    {
     "name": "stderr",
     "output_type": "stream",
     "text": [
      "2024-04-25 11:48:45.908501: E tensorflow/core/grappler/optimizers/meta_optimizer.cc:954] model_pruner failed: INVALID_ARGUMENT: Graph does not contain terminal node AssignAddVariableOp_2.\n"
     ]
    },
    {
     "name": "stdout",
     "output_type": "stream",
     "text": [
      "125/125 [==============================] - 3s 20ms/step - loss: 1.2679 - val_loss: 1.0961\n",
      "Epoch 2/5\n",
      "125/125 [==============================] - 2s 18ms/step - loss: 0.9559 - val_loss: 0.8478\n",
      "Epoch 3/5\n",
      "125/125 [==============================] - 2s 17ms/step - loss: 0.7591 - val_loss: 0.7118\n",
      "Epoch 4/5\n",
      "125/125 [==============================] - 2s 17ms/step - loss: 0.6713 - val_loss: 0.6617\n",
      "Epoch 5/5\n",
      "125/125 [==============================] - 2s 17ms/step - loss: 0.6405 - val_loss: 0.6435\n",
      "125/125 [==============================] - 0s 3ms/step\n",
      "0.7529999999999999\n",
      "32/32 [==============================] - 0s 3ms/step\n",
      "The presence of tsumego in resblock 5 is 0.712\n",
      "Performing regression for layer 6\n",
      "Epoch 1/5\n"
     ]
    },
    {
     "name": "stderr",
     "output_type": "stream",
     "text": [
      "2024-04-25 11:48:58.455463: E tensorflow/core/grappler/optimizers/meta_optimizer.cc:954] model_pruner failed: INVALID_ARGUMENT: Graph does not contain terminal node AssignAddVariableOp_2.\n"
     ]
    },
    {
     "name": "stdout",
     "output_type": "stream",
     "text": [
      "125/125 [==============================] - 3s 21ms/step - loss: 0.8081 - val_loss: 0.7938\n",
      "Epoch 2/5\n",
      "125/125 [==============================] - 2s 17ms/step - loss: 0.7858 - val_loss: 0.7730\n",
      "Epoch 3/5\n",
      "125/125 [==============================] - 2s 17ms/step - loss: 0.7692 - val_loss: 0.7575\n",
      "Epoch 4/5\n",
      "125/125 [==============================] - 2s 17ms/step - loss: 0.7568 - val_loss: 0.7463\n",
      "Epoch 5/5\n",
      "125/125 [==============================] - 2s 17ms/step - loss: 0.7470 - val_loss: 0.7370\n",
      "125/125 [==============================] - 0s 3ms/step\n",
      "0.14900000000000002\n",
      "32/32 [==============================] - 0s 4ms/step\n",
      "The presence of tsumego in resblock 6 is 0.20399999999999996\n",
      "Performing regression for layer 7\n",
      "Epoch 1/5\n"
     ]
    },
    {
     "name": "stderr",
     "output_type": "stream",
     "text": [
      "2024-04-25 11:49:11.283413: E tensorflow/core/grappler/optimizers/meta_optimizer.cc:954] model_pruner failed: INVALID_ARGUMENT: Graph does not contain terminal node AssignAddVariableOp_2.\n"
     ]
    },
    {
     "name": "stdout",
     "output_type": "stream",
     "text": [
      "125/125 [==============================] - 3s 21ms/step - loss: 0.9818 - val_loss: 0.9677\n",
      "Epoch 2/5\n",
      "125/125 [==============================] - 2s 18ms/step - loss: 0.9231 - val_loss: 0.9104\n",
      "Epoch 3/5\n",
      "125/125 [==============================] - 2s 17ms/step - loss: 0.8774 - val_loss: 0.8666\n",
      "Epoch 4/5\n",
      "125/125 [==============================] - 2s 17ms/step - loss: 0.8432 - val_loss: 0.8336\n",
      "Epoch 5/5\n",
      "125/125 [==============================] - 2s 17ms/step - loss: 0.8173 - val_loss: 0.8090\n",
      "125/125 [==============================] - 0s 3ms/step\n",
      "-0.11599999999999999\n",
      "32/32 [==============================] - 0s 3ms/step\n"
     ]
    },
    {
     "name": "stderr",
     "output_type": "stream",
     "text": [
      "Epochs:  33%|███▎      | 3/9 [05:30<11:03, 110.59s/it]"
     ]
    },
    {
     "name": "stdout",
     "output_type": "stream",
     "text": [
      "The presence of tsumego in resblock 7 is 0\n"
     ]
    },
    {
     "name": "stderr",
     "output_type": "stream",
     "text": [
      "Getting activation outputs: 100%|██████████| 157/157 [00:05<00:00, 31.13it/s]\n"
     ]
    },
    {
     "name": "stdout",
     "output_type": "stream",
     "text": [
      "Performing regression for layer 0\n",
      "Epoch 1/5\n"
     ]
    },
    {
     "name": "stderr",
     "output_type": "stream",
     "text": [
      "2024-04-25 11:49:30.154967: E tensorflow/core/grappler/optimizers/meta_optimizer.cc:954] model_pruner failed: INVALID_ARGUMENT: Graph does not contain terminal node AssignAddVariableOp_2.\n"
     ]
    },
    {
     "name": "stdout",
     "output_type": "stream",
     "text": [
      "125/125 [==============================] - 3s 20ms/step - loss: 1.2939 - val_loss: 1.1067\n",
      "Epoch 2/5\n",
      "125/125 [==============================] - 2s 18ms/step - loss: 0.9617 - val_loss: 0.8428\n",
      "Epoch 3/5\n",
      "125/125 [==============================] - 2s 18ms/step - loss: 0.7558 - val_loss: 0.6972\n",
      "Epoch 4/5\n",
      "125/125 [==============================] - 2s 17ms/step - loss: 0.6669 - val_loss: 0.6568\n",
      "Epoch 5/5\n",
      "125/125 [==============================] - 2s 17ms/step - loss: 0.6450 - val_loss: 0.6443\n",
      "125/125 [==============================] - 0s 3ms/step\n",
      "0.6315\n",
      "32/32 [==============================] - 0s 3ms/step\n",
      "The presence of tsumego in resblock 0 is 0.6060000000000001\n",
      "Performing regression for layer 1\n",
      "Epoch 1/5\n"
     ]
    },
    {
     "name": "stderr",
     "output_type": "stream",
     "text": [
      "2024-04-25 11:49:43.031734: E tensorflow/core/grappler/optimizers/meta_optimizer.cc:954] model_pruner failed: INVALID_ARGUMENT: Graph does not contain terminal node AssignAddVariableOp_2.\n"
     ]
    },
    {
     "name": "stdout",
     "output_type": "stream",
     "text": [
      "125/125 [==============================] - 3s 21ms/step - loss: 1.3036 - val_loss: 1.1146\n",
      "Epoch 2/5\n",
      "125/125 [==============================] - 2s 19ms/step - loss: 0.9709 - val_loss: 0.8509\n",
      "Epoch 3/5\n",
      "125/125 [==============================] - 2s 18ms/step - loss: 0.7588 - val_loss: 0.6949\n",
      "Epoch 4/5\n",
      "125/125 [==============================] - 2s 17ms/step - loss: 0.6527 - val_loss: 0.6352\n",
      "Epoch 5/5\n",
      "125/125 [==============================] - 2s 18ms/step - loss: 0.6167 - val_loss: 0.6135\n",
      "125/125 [==============================] - 0s 3ms/step\n",
      "0.71\n",
      "32/32 [==============================] - 0s 3ms/step\n",
      "The presence of tsumego in resblock 1 is 0.698\n",
      "Performing regression for layer 2\n",
      "Epoch 1/5\n"
     ]
    },
    {
     "name": "stderr",
     "output_type": "stream",
     "text": [
      "2024-04-25 11:49:55.946410: E tensorflow/core/grappler/optimizers/meta_optimizer.cc:954] model_pruner failed: INVALID_ARGUMENT: Graph does not contain terminal node AssignAddVariableOp_2.\n"
     ]
    },
    {
     "name": "stdout",
     "output_type": "stream",
     "text": [
      "125/125 [==============================] - 3s 21ms/step - loss: 1.3163 - val_loss: 1.1434\n",
      "Epoch 2/5\n",
      "125/125 [==============================] - 2s 19ms/step - loss: 1.0173 - val_loss: 0.9166\n",
      "Epoch 3/5\n",
      "125/125 [==============================] - 2s 18ms/step - loss: 0.8278 - val_loss: 0.7613\n",
      "Epoch 4/5\n",
      "125/125 [==============================] - 2s 19ms/step - loss: 0.7053 - val_loss: 0.6704\n",
      "Epoch 5/5\n",
      "125/125 [==============================] - 2s 18ms/step - loss: 0.6372 - val_loss: 0.6216\n",
      "125/125 [==============================] - 0s 3ms/step\n",
      "0.786\n",
      "32/32 [==============================] - 0s 3ms/step\n",
      "The presence of tsumego in resblock 2 is 0.78\n",
      "Performing regression for layer 3\n",
      "Epoch 1/5\n"
     ]
    },
    {
     "name": "stderr",
     "output_type": "stream",
     "text": [
      "2024-04-25 11:50:09.157648: E tensorflow/core/grappler/optimizers/meta_optimizer.cc:954] model_pruner failed: INVALID_ARGUMENT: Graph does not contain terminal node AssignAddVariableOp_2.\n"
     ]
    },
    {
     "name": "stdout",
     "output_type": "stream",
     "text": [
      "125/125 [==============================] - 3s 21ms/step - loss: 1.3406 - val_loss: 1.1804\n",
      "Epoch 2/5\n",
      "125/125 [==============================] - 2s 19ms/step - loss: 1.0648 - val_loss: 0.9664\n",
      "Epoch 3/5\n",
      "125/125 [==============================] - 2s 17ms/step - loss: 0.8880 - val_loss: 0.8232\n",
      "Epoch 4/5\n",
      "125/125 [==============================] - 2s 18ms/step - loss: 0.7697 - val_loss: 0.7310\n",
      "Epoch 5/5\n",
      "125/125 [==============================] - 2s 18ms/step - loss: 0.6963 - val_loss: 0.6790\n",
      "125/125 [==============================] - 0s 3ms/step\n",
      "0.772\n",
      "32/32 [==============================] - 0s 3ms/step\n",
      "The presence of tsumego in resblock 3 is 0.786\n",
      "Performing regression for layer 4\n",
      "Epoch 1/5\n"
     ]
    },
    {
     "name": "stderr",
     "output_type": "stream",
     "text": [
      "2024-04-25 11:50:22.269854: E tensorflow/core/grappler/optimizers/meta_optimizer.cc:954] model_pruner failed: INVALID_ARGUMENT: Graph does not contain terminal node AssignAddVariableOp_2.\n"
     ]
    },
    {
     "name": "stdout",
     "output_type": "stream",
     "text": [
      "125/125 [==============================] - 3s 21ms/step - loss: 1.3059 - val_loss: 1.1482\n",
      "Epoch 2/5\n",
      "125/125 [==============================] - 2s 18ms/step - loss: 1.0463 - val_loss: 0.9687\n",
      "Epoch 3/5\n",
      "125/125 [==============================] - 2s 17ms/step - loss: 0.8956 - val_loss: 0.8387\n",
      "Epoch 4/5\n",
      "125/125 [==============================] - 2s 17ms/step - loss: 0.7845 - val_loss: 0.7456\n",
      "Epoch 5/5\n",
      "125/125 [==============================] - 2s 17ms/step - loss: 0.7079 - val_loss: 0.6899\n",
      "125/125 [==============================] - 0s 3ms/step\n",
      "0.79\n",
      "32/32 [==============================] - 0s 3ms/step\n",
      "The presence of tsumego in resblock 4 is 0.786\n",
      "Performing regression for layer 5\n",
      "Epoch 1/5\n"
     ]
    },
    {
     "name": "stderr",
     "output_type": "stream",
     "text": [
      "2024-04-25 11:50:34.828322: E tensorflow/core/grappler/optimizers/meta_optimizer.cc:954] model_pruner failed: INVALID_ARGUMENT: Graph does not contain terminal node AssignAddVariableOp_2.\n"
     ]
    },
    {
     "name": "stdout",
     "output_type": "stream",
     "text": [
      "125/125 [==============================] - 3s 22ms/step - loss: 1.3422 - val_loss: 1.1992\n",
      "Epoch 2/5\n",
      "125/125 [==============================] - 2s 17ms/step - loss: 1.0924 - val_loss: 1.0031\n",
      "Epoch 3/5\n",
      "125/125 [==============================] - 2s 17ms/step - loss: 0.9227 - val_loss: 0.8591\n",
      "Epoch 4/5\n",
      "125/125 [==============================] - 2s 17ms/step - loss: 0.8057 - val_loss: 0.7668\n",
      "Epoch 5/5\n",
      "125/125 [==============================] - 2s 17ms/step - loss: 0.7310 - val_loss: 0.7070\n",
      "125/125 [==============================] - 0s 3ms/step\n",
      "0.7865\n",
      "32/32 [==============================] - 0s 3ms/step\n",
      "The presence of tsumego in resblock 5 is 0.782\n",
      "Performing regression for layer 6\n",
      "Epoch 1/5\n"
     ]
    },
    {
     "name": "stderr",
     "output_type": "stream",
     "text": [
      "2024-04-25 11:50:47.373357: E tensorflow/core/grappler/optimizers/meta_optimizer.cc:954] model_pruner failed: INVALID_ARGUMENT: Graph does not contain terminal node AssignAddVariableOp_2.\n"
     ]
    },
    {
     "name": "stdout",
     "output_type": "stream",
     "text": [
      "125/125 [==============================] - 3s 20ms/step - loss: 0.8763 - val_loss: 0.8674\n",
      "Epoch 2/5\n",
      "125/125 [==============================] - 2s 17ms/step - loss: 0.8589 - val_loss: 0.8509\n",
      "Epoch 3/5\n",
      "125/125 [==============================] - 2s 18ms/step - loss: 0.8434 - val_loss: 0.8360\n",
      "Epoch 4/5\n",
      "125/125 [==============================] - 2s 17ms/step - loss: 0.8291 - val_loss: 0.8218\n",
      "Epoch 5/5\n",
      "125/125 [==============================] - 2s 17ms/step - loss: 0.8157 - val_loss: 0.8085\n",
      "125/125 [==============================] - 0s 3ms/step\n",
      "-0.0020000000000000018\n",
      "32/32 [==============================] - 0s 3ms/step\n",
      "The presence of tsumego in resblock 6 is 0.0\n",
      "Performing regression for layer 7\n",
      "Epoch 1/5\n"
     ]
    },
    {
     "name": "stderr",
     "output_type": "stream",
     "text": [
      "2024-04-25 11:50:59.788189: E tensorflow/core/grappler/optimizers/meta_optimizer.cc:954] model_pruner failed: INVALID_ARGUMENT: Graph does not contain terminal node AssignAddVariableOp_2.\n"
     ]
    },
    {
     "name": "stdout",
     "output_type": "stream",
     "text": [
      "125/125 [==============================] - 3s 21ms/step - loss: 2.6511 - val_loss: 2.3314\n",
      "Epoch 2/5\n",
      "125/125 [==============================] - 2s 18ms/step - loss: 2.1415 - val_loss: 1.8498\n",
      "Epoch 3/5\n",
      "125/125 [==============================] - 2s 18ms/step - loss: 1.6732 - val_loss: 1.4284\n",
      "Epoch 4/5\n",
      "125/125 [==============================] - 2s 19ms/step - loss: 1.2902 - val_loss: 1.1136\n",
      "Epoch 5/5\n",
      "125/125 [==============================] - 2s 18ms/step - loss: 1.0377 - val_loss: 0.9408\n",
      "125/125 [==============================] - 0s 3ms/step\n",
      "-0.008000000000000007\n",
      "32/32 [==============================] - 0s 3ms/step\n"
     ]
    },
    {
     "name": "stderr",
     "output_type": "stream",
     "text": [
      "Epochs:  44%|████▍     | 4/9 [07:18<09:09, 109.89s/it]"
     ]
    },
    {
     "name": "stdout",
     "output_type": "stream",
     "text": [
      "The presence of tsumego in resblock 7 is 0.018000000000000016\n"
     ]
    },
    {
     "name": "stderr",
     "output_type": "stream",
     "text": [
      "Getting activation outputs: 100%|██████████| 157/157 [00:05<00:00, 29.33it/s]\n"
     ]
    },
    {
     "name": "stdout",
     "output_type": "stream",
     "text": [
      "Performing regression for layer 0\n",
      "Epoch 1/5\n"
     ]
    },
    {
     "name": "stderr",
     "output_type": "stream",
     "text": [
      "2024-04-25 11:51:19.298697: E tensorflow/core/grappler/optimizers/meta_optimizer.cc:954] model_pruner failed: INVALID_ARGUMENT: Graph does not contain terminal node AssignAddVariableOp_2.\n"
     ]
    },
    {
     "name": "stdout",
     "output_type": "stream",
     "text": [
      "125/125 [==============================] - 3s 22ms/step - loss: 1.3059 - val_loss: 1.1108\n",
      "Epoch 2/5\n",
      "125/125 [==============================] - 2s 17ms/step - loss: 0.9622 - val_loss: 0.8390\n",
      "Epoch 3/5\n",
      "125/125 [==============================] - 2s 19ms/step - loss: 0.7531 - val_loss: 0.6976\n",
      "Epoch 4/5\n",
      "125/125 [==============================] - 2s 17ms/step - loss: 0.6703 - val_loss: 0.6637\n",
      "Epoch 5/5\n",
      "125/125 [==============================] - 2s 18ms/step - loss: 0.6527 - val_loss: 0.6544\n",
      "125/125 [==============================] - 0s 3ms/step\n",
      "0.6234999999999999\n",
      "32/32 [==============================] - 0s 4ms/step\n",
      "The presence of tsumego in resblock 0 is 0.6080000000000001\n",
      "Performing regression for layer 1\n",
      "Epoch 1/5\n"
     ]
    },
    {
     "name": "stderr",
     "output_type": "stream",
     "text": [
      "2024-04-25 11:51:32.442146: E tensorflow/core/grappler/optimizers/meta_optimizer.cc:954] model_pruner failed: INVALID_ARGUMENT: Graph does not contain terminal node AssignAddVariableOp_2.\n"
     ]
    },
    {
     "name": "stdout",
     "output_type": "stream",
     "text": [
      "125/125 [==============================] - 3s 21ms/step - loss: 1.2399 - val_loss: 1.0692\n",
      "Epoch 2/5\n",
      "125/125 [==============================] - 2s 18ms/step - loss: 0.9479 - val_loss: 0.8468\n",
      "Epoch 3/5\n",
      "125/125 [==============================] - 2s 18ms/step - loss: 0.7584 - val_loss: 0.6881\n",
      "Epoch 4/5\n",
      "125/125 [==============================] - 2s 18ms/step - loss: 0.6286 - val_loss: 0.5884\n",
      "Epoch 5/5\n",
      "125/125 [==============================] - 3s 24ms/step - loss: 0.5554 - val_loss: 0.5385\n",
      "125/125 [==============================] - 0s 3ms/step\n",
      "0.8145\n",
      "32/32 [==============================] - 0s 3ms/step\n",
      "The presence of tsumego in resblock 1 is 0.798\n",
      "Performing regression for layer 2\n",
      "Epoch 1/5\n"
     ]
    },
    {
     "name": "stderr",
     "output_type": "stream",
     "text": [
      "2024-04-25 11:51:46.398515: E tensorflow/core/grappler/optimizers/meta_optimizer.cc:954] model_pruner failed: INVALID_ARGUMENT: Graph does not contain terminal node AssignAddVariableOp_2.\n"
     ]
    },
    {
     "name": "stdout",
     "output_type": "stream",
     "text": [
      "125/125 [==============================] - 3s 22ms/step - loss: 1.2696 - val_loss: 1.0886\n",
      "Epoch 2/5\n",
      "125/125 [==============================] - 2s 18ms/step - loss: 0.9838 - val_loss: 0.8973\n",
      "Epoch 3/5\n",
      "125/125 [==============================] - 2s 18ms/step - loss: 0.8185 - val_loss: 0.7525\n",
      "Epoch 4/5\n",
      "125/125 [==============================] - 2s 17ms/step - loss: 0.6927 - val_loss: 0.6456\n",
      "Epoch 5/5\n",
      "125/125 [==============================] - 2s 17ms/step - loss: 0.6022 - val_loss: 0.5763\n",
      "125/125 [==============================] - 0s 3ms/step\n",
      "0.8200000000000001\n",
      "32/32 [==============================] - 2s 3ms/step\n",
      "The presence of tsumego in resblock 2 is 0.798\n",
      "Performing regression for layer 3\n",
      "Epoch 1/5\n"
     ]
    },
    {
     "name": "stderr",
     "output_type": "stream",
     "text": [
      "2024-04-25 11:52:01.290329: E tensorflow/core/grappler/optimizers/meta_optimizer.cc:954] model_pruner failed: INVALID_ARGUMENT: Graph does not contain terminal node AssignAddVariableOp_2.\n"
     ]
    },
    {
     "name": "stdout",
     "output_type": "stream",
     "text": [
      "125/125 [==============================] - 3s 20ms/step - loss: 1.2340 - val_loss: 1.0739\n",
      "Epoch 2/5\n",
      "125/125 [==============================] - 2s 17ms/step - loss: 0.9720 - val_loss: 0.8943\n",
      "Epoch 3/5\n",
      "125/125 [==============================] - 2s 17ms/step - loss: 0.8151 - val_loss: 0.7606\n",
      "Epoch 4/5\n",
      "125/125 [==============================] - 2s 17ms/step - loss: 0.6958 - val_loss: 0.6560\n",
      "Epoch 5/5\n",
      "125/125 [==============================] - 2s 18ms/step - loss: 0.6074 - val_loss: 0.5852\n",
      "125/125 [==============================] - 0s 3ms/step\n",
      "0.8194999999999999\n",
      "32/32 [==============================] - 0s 3ms/step\n",
      "The presence of tsumego in resblock 3 is 0.798\n",
      "Performing regression for layer 4\n",
      "Epoch 1/5\n"
     ]
    },
    {
     "name": "stderr",
     "output_type": "stream",
     "text": [
      "2024-04-25 11:52:13.650133: E tensorflow/core/grappler/optimizers/meta_optimizer.cc:954] model_pruner failed: INVALID_ARGUMENT: Graph does not contain terminal node AssignAddVariableOp_2.\n"
     ]
    },
    {
     "name": "stdout",
     "output_type": "stream",
     "text": [
      "125/125 [==============================] - 3s 20ms/step - loss: 1.2640 - val_loss: 1.1091\n",
      "Epoch 2/5\n",
      "125/125 [==============================] - 2s 17ms/step - loss: 1.0282 - val_loss: 0.9631\n",
      "Epoch 3/5\n",
      "125/125 [==============================] - 2s 17ms/step - loss: 0.8998 - val_loss: 0.8595\n",
      "Epoch 4/5\n",
      "125/125 [==============================] - 2s 17ms/step - loss: 0.7956 - val_loss: 0.7543\n",
      "Epoch 5/5\n",
      "125/125 [==============================] - 2s 17ms/step - loss: 0.7075 - val_loss: 0.6766\n",
      "125/125 [==============================] - 0s 3ms/step\n",
      "0.8420000000000001\n",
      "32/32 [==============================] - 0s 3ms/step\n",
      "The presence of tsumego in resblock 4 is 0.8260000000000001\n",
      "Performing regression for layer 5\n",
      "Epoch 1/5\n"
     ]
    },
    {
     "name": "stderr",
     "output_type": "stream",
     "text": [
      "2024-04-25 11:52:25.867148: E tensorflow/core/grappler/optimizers/meta_optimizer.cc:954] model_pruner failed: INVALID_ARGUMENT: Graph does not contain terminal node AssignAddVariableOp_2.\n"
     ]
    },
    {
     "name": "stdout",
     "output_type": "stream",
     "text": [
      "125/125 [==============================] - 3s 21ms/step - loss: 1.3676 - val_loss: 1.1957\n",
      "Epoch 2/5\n",
      "125/125 [==============================] - 2s 17ms/step - loss: 1.0952 - val_loss: 1.0190\n",
      "Epoch 3/5\n",
      "125/125 [==============================] - 2s 17ms/step - loss: 0.9494 - val_loss: 0.8914\n",
      "Epoch 4/5\n",
      "125/125 [==============================] - 2s 17ms/step - loss: 0.8357 - val_loss: 0.7899\n",
      "Epoch 5/5\n",
      "125/125 [==============================] - 2s 17ms/step - loss: 0.7436 - val_loss: 0.7124\n",
      "125/125 [==============================] - 0s 3ms/step\n",
      "0.8180000000000001\n",
      "32/32 [==============================] - 0s 3ms/step\n",
      "The presence of tsumego in resblock 5 is 0.804\n",
      "Performing regression for layer 6\n",
      "Epoch 1/5\n"
     ]
    },
    {
     "name": "stderr",
     "output_type": "stream",
     "text": [
      "2024-04-25 11:52:38.176823: E tensorflow/core/grappler/optimizers/meta_optimizer.cc:954] model_pruner failed: INVALID_ARGUMENT: Graph does not contain terminal node AssignAddVariableOp_2.\n"
     ]
    },
    {
     "name": "stdout",
     "output_type": "stream",
     "text": [
      "125/125 [==============================] - 3s 20ms/step - loss: 1.9610 - val_loss: 1.8219\n",
      "Epoch 2/5\n",
      "125/125 [==============================] - 2s 17ms/step - loss: 1.7487 - val_loss: 1.6347\n",
      "Epoch 3/5\n",
      "125/125 [==============================] - 2s 18ms/step - loss: 1.5987 - val_loss: 1.5061\n",
      "Epoch 4/5\n",
      "125/125 [==============================] - 2s 17ms/step - loss: 1.4946 - val_loss: 1.4146\n",
      "Epoch 5/5\n",
      "125/125 [==============================] - 2s 17ms/step - loss: 1.4174 - val_loss: 1.3476\n",
      "125/125 [==============================] - 0s 2ms/step\n",
      "-0.1735\n",
      "32/32 [==============================] - 0s 3ms/step\n",
      "The presence of tsumego in resblock 6 is 0\n",
      "Performing regression for layer 7\n",
      "Epoch 1/5\n"
     ]
    },
    {
     "name": "stderr",
     "output_type": "stream",
     "text": [
      "2024-04-25 11:52:50.591516: E tensorflow/core/grappler/optimizers/meta_optimizer.cc:954] model_pruner failed: INVALID_ARGUMENT: Graph does not contain terminal node AssignAddVariableOp_2.\n"
     ]
    },
    {
     "name": "stdout",
     "output_type": "stream",
     "text": [
      "125/125 [==============================] - 3s 20ms/step - loss: 1.4041 - val_loss: 1.1277\n",
      "Epoch 2/5\n",
      "125/125 [==============================] - 2s 17ms/step - loss: 1.0430 - val_loss: 0.8928\n",
      "Epoch 3/5\n",
      "125/125 [==============================] - 2s 17ms/step - loss: 0.8898 - val_loss: 0.8191\n",
      "Epoch 4/5\n",
      "125/125 [==============================] - 2s 18ms/step - loss: 0.8422 - val_loss: 0.7956\n",
      "Epoch 5/5\n",
      "125/125 [==============================] - 2s 17ms/step - loss: 0.8218 - val_loss: 0.7803\n",
      "125/125 [==============================] - 0s 2ms/step\n",
      "0.1964999999999999\n",
      "32/32 [==============================] - 0s 3ms/step\n"
     ]
    },
    {
     "name": "stderr",
     "output_type": "stream",
     "text": [
      "Epochs:  56%|█████▌    | 5/9 [09:09<07:19, 109.96s/it]"
     ]
    },
    {
     "name": "stdout",
     "output_type": "stream",
     "text": [
      "The presence of tsumego in resblock 7 is 0.272\n"
     ]
    },
    {
     "name": "stderr",
     "output_type": "stream",
     "text": [
      "Getting activation outputs: 100%|██████████| 157/157 [00:04<00:00, 32.14it/s]\n"
     ]
    },
    {
     "name": "stdout",
     "output_type": "stream",
     "text": [
      "Performing regression for layer 0\n",
      "Epoch 1/5\n"
     ]
    },
    {
     "name": "stderr",
     "output_type": "stream",
     "text": [
      "2024-04-25 11:53:08.847424: E tensorflow/core/grappler/optimizers/meta_optimizer.cc:954] model_pruner failed: INVALID_ARGUMENT: Graph does not contain terminal node AssignAddVariableOp_2.\n"
     ]
    },
    {
     "name": "stdout",
     "output_type": "stream",
     "text": [
      "125/125 [==============================] - 3s 20ms/step - loss: 1.3151 - val_loss: 1.1237\n",
      "Epoch 2/5\n",
      "125/125 [==============================] - 2s 17ms/step - loss: 0.9761 - val_loss: 0.8557\n",
      "Epoch 3/5\n",
      "125/125 [==============================] - 2s 18ms/step - loss: 0.7663 - val_loss: 0.7065\n",
      "Epoch 4/5\n",
      "125/125 [==============================] - 2s 17ms/step - loss: 0.6729 - val_loss: 0.6604\n",
      "Epoch 5/5\n",
      "125/125 [==============================] - 2s 17ms/step - loss: 0.6481 - val_loss: 0.6467\n",
      "125/125 [==============================] - 0s 3ms/step\n",
      "0.7605\n",
      "32/32 [==============================] - 0s 4ms/step\n",
      "The presence of tsumego in resblock 0 is 0.726\n",
      "Performing regression for layer 1\n",
      "Epoch 1/5\n"
     ]
    },
    {
     "name": "stderr",
     "output_type": "stream",
     "text": [
      "2024-04-25 11:53:21.369657: E tensorflow/core/grappler/optimizers/meta_optimizer.cc:954] model_pruner failed: INVALID_ARGUMENT: Graph does not contain terminal node AssignAddVariableOp_2.\n"
     ]
    },
    {
     "name": "stdout",
     "output_type": "stream",
     "text": [
      "125/125 [==============================] - 3s 20ms/step - loss: 1.1342 - val_loss: 1.0036\n",
      "Epoch 2/5\n",
      "125/125 [==============================] - 2s 17ms/step - loss: 0.9325 - val_loss: 0.8857\n",
      "Epoch 3/5\n",
      "125/125 [==============================] - 2s 17ms/step - loss: 0.8104 - val_loss: 0.7571\n",
      "Epoch 4/5\n",
      "125/125 [==============================] - 2s 18ms/step - loss: 0.7057 - val_loss: 0.6634\n",
      "Epoch 5/5\n",
      "125/125 [==============================] - 2s 17ms/step - loss: 0.6144 - val_loss: 0.5898\n",
      "125/125 [==============================] - 0s 3ms/step\n",
      "0.887\n",
      "32/32 [==============================] - 0s 4ms/step\n",
      "The presence of tsumego in resblock 1 is 0.8540000000000001\n",
      "Performing regression for layer 2\n",
      "Epoch 1/5\n"
     ]
    },
    {
     "name": "stderr",
     "output_type": "stream",
     "text": [
      "2024-04-25 11:53:33.894397: E tensorflow/core/grappler/optimizers/meta_optimizer.cc:954] model_pruner failed: INVALID_ARGUMENT: Graph does not contain terminal node AssignAddVariableOp_2.\n"
     ]
    },
    {
     "name": "stdout",
     "output_type": "stream",
     "text": [
      "125/125 [==============================] - 3s 20ms/step - loss: 1.2114 - val_loss: 1.0579\n",
      "Epoch 2/5\n",
      "125/125 [==============================] - 2s 17ms/step - loss: 0.9766 - val_loss: 0.9235\n",
      "Epoch 3/5\n",
      "125/125 [==============================] - 2s 17ms/step - loss: 0.8589 - val_loss: 0.8166\n",
      "Epoch 4/5\n",
      "125/125 [==============================] - 2s 17ms/step - loss: 0.7560 - val_loss: 0.7204\n",
      "Epoch 5/5\n",
      "125/125 [==============================] - 2s 18ms/step - loss: 0.6653 - val_loss: 0.6374\n",
      "125/125 [==============================] - 0s 3ms/step\n",
      "0.8965000000000001\n",
      "32/32 [==============================] - 0s 3ms/step\n",
      "The presence of tsumego in resblock 2 is 0.8919999999999999\n",
      "Performing regression for layer 3\n",
      "Epoch 1/5\n"
     ]
    },
    {
     "name": "stderr",
     "output_type": "stream",
     "text": [
      "2024-04-25 11:53:46.475796: E tensorflow/core/grappler/optimizers/meta_optimizer.cc:954] model_pruner failed: INVALID_ARGUMENT: Graph does not contain terminal node AssignAddVariableOp_2.\n"
     ]
    },
    {
     "name": "stdout",
     "output_type": "stream",
     "text": [
      "125/125 [==============================] - 4s 23ms/step - loss: 1.2671 - val_loss: 1.0581\n",
      "Epoch 2/5\n",
      "125/125 [==============================] - 2s 20ms/step - loss: 0.9939 - val_loss: 0.9204\n",
      "Epoch 3/5\n",
      "125/125 [==============================] - 2s 17ms/step - loss: 0.8716 - val_loss: 0.8211\n",
      "Epoch 4/5\n",
      "125/125 [==============================] - 2s 17ms/step - loss: 0.7716 - val_loss: 0.7268\n",
      "Epoch 5/5\n",
      "125/125 [==============================] - 2s 18ms/step - loss: 0.6821 - val_loss: 0.6561\n",
      "125/125 [==============================] - 1s 4ms/step\n",
      "0.8835\n",
      "32/32 [==============================] - 0s 3ms/step\n",
      "The presence of tsumego in resblock 3 is 0.8660000000000001\n",
      "Performing regression for layer 4\n",
      "Epoch 1/5\n"
     ]
    },
    {
     "name": "stderr",
     "output_type": "stream",
     "text": [
      "2024-04-25 11:54:00.150022: E tensorflow/core/grappler/optimizers/meta_optimizer.cc:954] model_pruner failed: INVALID_ARGUMENT: Graph does not contain terminal node AssignAddVariableOp_2.\n"
     ]
    },
    {
     "name": "stdout",
     "output_type": "stream",
     "text": [
      "125/125 [==============================] - 4s 22ms/step - loss: 1.3106 - val_loss: 1.1075\n",
      "Epoch 2/5\n",
      "125/125 [==============================] - 2s 18ms/step - loss: 1.0386 - val_loss: 0.9881\n",
      "Epoch 3/5\n",
      "125/125 [==============================] - 2s 18ms/step - loss: 0.9359 - val_loss: 0.8999\n",
      "Epoch 4/5\n",
      "125/125 [==============================] - 2s 18ms/step - loss: 0.8511 - val_loss: 0.8244\n",
      "Epoch 5/5\n",
      "125/125 [==============================] - 2s 18ms/step - loss: 0.7781 - val_loss: 0.7555\n",
      "125/125 [==============================] - 0s 3ms/step\n",
      "0.8734999999999999\n",
      "32/32 [==============================] - 0s 3ms/step\n",
      "The presence of tsumego in resblock 4 is 0.8660000000000001\n",
      "Performing regression for layer 5\n",
      "Epoch 1/5\n"
     ]
    },
    {
     "name": "stderr",
     "output_type": "stream",
     "text": [
      "2024-04-25 11:54:13.443002: E tensorflow/core/grappler/optimizers/meta_optimizer.cc:954] model_pruner failed: INVALID_ARGUMENT: Graph does not contain terminal node AssignAddVariableOp_2.\n"
     ]
    },
    {
     "name": "stdout",
     "output_type": "stream",
     "text": [
      "125/125 [==============================] - 3s 23ms/step - loss: 1.1612 - val_loss: 1.0510\n",
      "Epoch 2/5\n",
      "125/125 [==============================] - 2s 17ms/step - loss: 0.9942 - val_loss: 0.9341\n",
      "Epoch 3/5\n",
      "125/125 [==============================] - 2s 17ms/step - loss: 0.8854 - val_loss: 0.8408\n",
      "Epoch 4/5\n",
      "125/125 [==============================] - 2s 17ms/step - loss: 0.7947 - val_loss: 0.7599\n",
      "Epoch 5/5\n",
      "125/125 [==============================] - 2s 17ms/step - loss: 0.7155 - val_loss: 0.6874\n",
      "125/125 [==============================] - 0s 3ms/step\n",
      "0.8634999999999999\n",
      "32/32 [==============================] - 0s 3ms/step\n",
      "The presence of tsumego in resblock 5 is 0.8260000000000001\n",
      "Performing regression for layer 6\n",
      "Epoch 1/5\n"
     ]
    },
    {
     "name": "stderr",
     "output_type": "stream",
     "text": [
      "2024-04-25 11:54:26.402550: E tensorflow/core/grappler/optimizers/meta_optimizer.cc:954] model_pruner failed: INVALID_ARGUMENT: Graph does not contain terminal node AssignAddVariableOp_2.\n"
     ]
    },
    {
     "name": "stdout",
     "output_type": "stream",
     "text": [
      "125/125 [==============================] - 4s 23ms/step - loss: 1.6294 - val_loss: 1.5933\n",
      "Epoch 2/5\n",
      "125/125 [==============================] - 2s 20ms/step - loss: 1.5628 - val_loss: 1.5338\n",
      "Epoch 3/5\n",
      "125/125 [==============================] - 3s 22ms/step - loss: 1.5035 - val_loss: 1.4781\n",
      "Epoch 4/5\n",
      "125/125 [==============================] - 2s 18ms/step - loss: 1.4513 - val_loss: 1.4291\n",
      "Epoch 5/5\n",
      "125/125 [==============================] - 2s 19ms/step - loss: 1.4042 - val_loss: 1.3855\n",
      "125/125 [==============================] - 0s 3ms/step\n",
      "0.22100000000000009\n",
      "32/32 [==============================] - 0s 4ms/step\n",
      "The presence of tsumego in resblock 6 is 0.21799999999999997\n",
      "Performing regression for layer 7\n",
      "Epoch 1/5\n"
     ]
    },
    {
     "name": "stderr",
     "output_type": "stream",
     "text": [
      "2024-04-25 11:54:40.575341: E tensorflow/core/grappler/optimizers/meta_optimizer.cc:954] model_pruner failed: INVALID_ARGUMENT: Graph does not contain terminal node AssignAddVariableOp_2.\n"
     ]
    },
    {
     "name": "stdout",
     "output_type": "stream",
     "text": [
      "125/125 [==============================] - 3s 22ms/step - loss: 2.0601 - val_loss: 1.8375\n",
      "Epoch 2/5\n",
      "125/125 [==============================] - 2s 19ms/step - loss: 1.8206 - val_loss: 1.6962\n",
      "Epoch 3/5\n",
      "125/125 [==============================] - 2s 18ms/step - loss: 1.6762 - val_loss: 1.6006\n",
      "Epoch 4/5\n",
      "125/125 [==============================] - 3s 24ms/step - loss: 1.5744 - val_loss: 1.5224\n",
      "Epoch 5/5\n",
      "125/125 [==============================] - 2s 18ms/step - loss: 1.4907 - val_loss: 1.4494\n",
      "125/125 [==============================] - 0s 3ms/step\n",
      "0.021500000000000075\n",
      "32/32 [==============================] - 0s 3ms/step\n"
     ]
    },
    {
     "name": "stderr",
     "output_type": "stream",
     "text": [
      "Epochs:  67%|██████▋   | 6/9 [11:00<05:31, 110.55s/it]"
     ]
    },
    {
     "name": "stdout",
     "output_type": "stream",
     "text": [
      "The presence of tsumego in resblock 7 is 0\n"
     ]
    },
    {
     "name": "stderr",
     "output_type": "stream",
     "text": [
      "Getting activation outputs: 100%|██████████| 157/157 [00:06<00:00, 24.82it/s]\n"
     ]
    },
    {
     "name": "stdout",
     "output_type": "stream",
     "text": [
      "Performing regression for layer 0\n",
      "Epoch 1/5\n"
     ]
    },
    {
     "name": "stderr",
     "output_type": "stream",
     "text": [
      "2024-04-25 11:55:03.254130: E tensorflow/core/grappler/optimizers/meta_optimizer.cc:954] model_pruner failed: INVALID_ARGUMENT: Graph does not contain terminal node AssignAddVariableOp_2.\n"
     ]
    },
    {
     "name": "stdout",
     "output_type": "stream",
     "text": [
      "125/125 [==============================] - 4s 24ms/step - loss: 1.7534 - val_loss: 1.3209\n",
      "Epoch 2/5\n",
      "125/125 [==============================] - 2s 19ms/step - loss: 1.2911 - val_loss: 1.2047\n",
      "Epoch 3/5\n",
      "125/125 [==============================] - 2s 17ms/step - loss: 1.1759 - val_loss: 1.1348\n",
      "Epoch 4/5\n",
      "125/125 [==============================] - 2s 17ms/step - loss: 1.0891 - val_loss: 1.0599\n",
      "Epoch 5/5\n",
      "125/125 [==============================] - 2s 17ms/step - loss: 1.0057 - val_loss: 0.9924\n",
      "125/125 [==============================] - 0s 3ms/step\n",
      "0.9355\n",
      "32/32 [==============================] - 0s 3ms/step\n",
      "The presence of tsumego in resblock 0 is 0.9319999999999999\n",
      "Performing regression for layer 1\n",
      "Epoch 1/5\n"
     ]
    },
    {
     "name": "stderr",
     "output_type": "stream",
     "text": [
      "2024-04-25 11:55:19.071531: E tensorflow/core/grappler/optimizers/meta_optimizer.cc:954] model_pruner failed: INVALID_ARGUMENT: Graph does not contain terminal node AssignAddVariableOp_2.\n"
     ]
    },
    {
     "name": "stdout",
     "output_type": "stream",
     "text": [
      "125/125 [==============================] - 6s 21ms/step - loss: 2.0980 - val_loss: 1.4899\n",
      "Epoch 2/5\n",
      "125/125 [==============================] - 2s 17ms/step - loss: 1.4057 - val_loss: 1.3471\n",
      "Epoch 3/5\n",
      "125/125 [==============================] - 2s 18ms/step - loss: 1.2838 - val_loss: 1.2737\n",
      "Epoch 4/5\n",
      "125/125 [==============================] - 2s 17ms/step - loss: 1.1923 - val_loss: 1.2177\n",
      "Epoch 5/5\n",
      "125/125 [==============================] - 2s 17ms/step - loss: 1.1277 - val_loss: 1.1481\n",
      "125/125 [==============================] - 0s 3ms/step\n",
      "0.9495\n",
      "32/32 [==============================] - 0s 3ms/step\n",
      "The presence of tsumego in resblock 1 is 0.9179999999999999\n",
      "Performing regression for layer 2\n",
      "Epoch 1/5\n"
     ]
    },
    {
     "name": "stderr",
     "output_type": "stream",
     "text": [
      "2024-04-25 11:55:31.764978: E tensorflow/core/grappler/optimizers/meta_optimizer.cc:954] model_pruner failed: INVALID_ARGUMENT: Graph does not contain terminal node AssignAddVariableOp_2.\n"
     ]
    },
    {
     "name": "stdout",
     "output_type": "stream",
     "text": [
      "125/125 [==============================] - 3s 21ms/step - loss: 1.8835 - val_loss: 1.4931\n",
      "Epoch 2/5\n",
      "125/125 [==============================] - 2s 18ms/step - loss: 1.4075 - val_loss: 1.3740\n",
      "Epoch 3/5\n",
      "125/125 [==============================] - 2s 17ms/step - loss: 1.2873 - val_loss: 1.3210\n",
      "Epoch 4/5\n",
      "125/125 [==============================] - 2s 18ms/step - loss: 1.2025 - val_loss: 1.2428\n",
      "Epoch 5/5\n",
      "125/125 [==============================] - 2s 18ms/step - loss: 1.1386 - val_loss: 1.1924\n",
      "125/125 [==============================] - 0s 3ms/step\n",
      "0.9424999999999999\n",
      "32/32 [==============================] - 0s 4ms/step\n",
      "The presence of tsumego in resblock 2 is 0.9199999999999999\n",
      "Performing regression for layer 3\n",
      "Epoch 1/5\n"
     ]
    },
    {
     "name": "stderr",
     "output_type": "stream",
     "text": [
      "2024-04-25 11:55:44.889013: E tensorflow/core/grappler/optimizers/meta_optimizer.cc:954] model_pruner failed: INVALID_ARGUMENT: Graph does not contain terminal node AssignAddVariableOp_2.\n"
     ]
    },
    {
     "name": "stdout",
     "output_type": "stream",
     "text": [
      "125/125 [==============================] - 3s 21ms/step - loss: 1.8298 - val_loss: 1.4058\n",
      "Epoch 2/5\n",
      "125/125 [==============================] - 2s 18ms/step - loss: 1.3447 - val_loss: 1.3625\n",
      "Epoch 3/5\n",
      "125/125 [==============================] - 2s 18ms/step - loss: 1.2564 - val_loss: 1.2323\n",
      "Epoch 4/5\n",
      "125/125 [==============================] - 2s 17ms/step - loss: 1.1623 - val_loss: 1.1678\n",
      "Epoch 5/5\n",
      "125/125 [==============================] - 2s 18ms/step - loss: 1.0826 - val_loss: 1.0978\n",
      "125/125 [==============================] - 0s 3ms/step\n",
      "0.9624999999999999\n",
      "32/32 [==============================] - 0s 3ms/step\n",
      "The presence of tsumego in resblock 3 is 0.9279999999999999\n",
      "Performing regression for layer 4\n",
      "Epoch 1/5\n"
     ]
    },
    {
     "name": "stderr",
     "output_type": "stream",
     "text": [
      "2024-04-25 11:55:57.906474: E tensorflow/core/grappler/optimizers/meta_optimizer.cc:954] model_pruner failed: INVALID_ARGUMENT: Graph does not contain terminal node AssignAddVariableOp_2.\n"
     ]
    },
    {
     "name": "stdout",
     "output_type": "stream",
     "text": [
      "125/125 [==============================] - 3s 21ms/step - loss: 2.0327 - val_loss: 1.5804\n",
      "Epoch 2/5\n",
      "125/125 [==============================] - 2s 17ms/step - loss: 1.4481 - val_loss: 1.4616\n",
      "Epoch 3/5\n",
      "125/125 [==============================] - 2s 18ms/step - loss: 1.3389 - val_loss: 1.3878\n",
      "Epoch 4/5\n",
      "125/125 [==============================] - 2s 17ms/step - loss: 1.2263 - val_loss: 1.3310\n",
      "Epoch 5/5\n",
      "125/125 [==============================] - 2s 18ms/step - loss: 1.1533 - val_loss: 1.2764\n",
      "125/125 [==============================] - 0s 3ms/step\n",
      "0.9704999999999999\n",
      "32/32 [==============================] - 0s 3ms/step\n",
      "The presence of tsumego in resblock 4 is 0.8919999999999999\n",
      "Performing regression for layer 5\n",
      "Epoch 1/5\n"
     ]
    },
    {
     "name": "stderr",
     "output_type": "stream",
     "text": [
      "2024-04-25 11:56:10.840335: E tensorflow/core/grappler/optimizers/meta_optimizer.cc:954] model_pruner failed: INVALID_ARGUMENT: Graph does not contain terminal node AssignAddVariableOp_2.\n"
     ]
    },
    {
     "name": "stdout",
     "output_type": "stream",
     "text": [
      "125/125 [==============================] - 4s 24ms/step - loss: 1.7414 - val_loss: 1.6602\n",
      "Epoch 2/5\n",
      "125/125 [==============================] - 2s 17ms/step - loss: 1.4311 - val_loss: 1.4055\n",
      "Epoch 3/5\n",
      "125/125 [==============================] - 2s 17ms/step - loss: 1.3283 - val_loss: 1.3399\n",
      "Epoch 4/5\n",
      "125/125 [==============================] - 2s 17ms/step - loss: 1.2960 - val_loss: 1.2718\n",
      "Epoch 5/5\n",
      "125/125 [==============================] - 2s 18ms/step - loss: 1.2258 - val_loss: 1.2368\n",
      "125/125 [==============================] - 0s 3ms/step\n",
      "0.9315\n",
      "32/32 [==============================] - 0s 4ms/step\n",
      "The presence of tsumego in resblock 5 is 0.8959999999999999\n",
      "Performing regression for layer 6\n",
      "Epoch 1/5\n"
     ]
    },
    {
     "name": "stderr",
     "output_type": "stream",
     "text": [
      "2024-04-25 11:56:23.939857: E tensorflow/core/grappler/optimizers/meta_optimizer.cc:954] model_pruner failed: INVALID_ARGUMENT: Graph does not contain terminal node AssignAddVariableOp_2.\n"
     ]
    },
    {
     "name": "stdout",
     "output_type": "stream",
     "text": [
      "125/125 [==============================] - 3s 22ms/step - loss: 2.1465 - val_loss: 2.0684\n",
      "Epoch 2/5\n",
      "125/125 [==============================] - 2s 18ms/step - loss: 1.8817 - val_loss: 1.8229\n",
      "Epoch 3/5\n",
      "125/125 [==============================] - 2s 17ms/step - loss: 1.7014 - val_loss: 1.6661\n",
      "Epoch 4/5\n",
      "125/125 [==============================] - 2s 17ms/step - loss: 1.5911 - val_loss: 1.5708\n",
      "Epoch 5/5\n",
      "125/125 [==============================] - 2s 17ms/step - loss: 1.5193 - val_loss: 1.5064\n",
      "125/125 [==============================] - 0s 2ms/step\n",
      "0.563\n",
      "32/32 [==============================] - 0s 3ms/step\n",
      "The presence of tsumego in resblock 6 is 0.5660000000000001\n",
      "Performing regression for layer 7\n",
      "Epoch 1/5\n"
     ]
    },
    {
     "name": "stderr",
     "output_type": "stream",
     "text": [
      "2024-04-25 11:56:36.535783: E tensorflow/core/grappler/optimizers/meta_optimizer.cc:954] model_pruner failed: INVALID_ARGUMENT: Graph does not contain terminal node AssignAddVariableOp_2.\n"
     ]
    },
    {
     "name": "stdout",
     "output_type": "stream",
     "text": [
      "125/125 [==============================] - 3s 21ms/step - loss: 5.4933 - val_loss: 4.9572\n",
      "Epoch 2/5\n",
      "125/125 [==============================] - 2s 18ms/step - loss: 5.1280 - val_loss: 4.6447\n",
      "Epoch 3/5\n",
      "125/125 [==============================] - 2s 17ms/step - loss: 4.7933 - val_loss: 4.3559\n",
      "Epoch 4/5\n",
      "125/125 [==============================] - 2s 17ms/step - loss: 4.4843 - val_loss: 4.0850\n",
      "Epoch 5/5\n",
      "125/125 [==============================] - 2s 17ms/step - loss: 4.1965 - val_loss: 3.8315\n",
      "125/125 [==============================] - 0s 2ms/step\n",
      "0.2144999999999999\n",
      "32/32 [==============================] - 0s 4ms/step\n"
     ]
    },
    {
     "name": "stderr",
     "output_type": "stream",
     "text": [
      "Epochs:  78%|███████▊  | 7/9 [12:55<03:43, 111.81s/it]"
     ]
    },
    {
     "name": "stdout",
     "output_type": "stream",
     "text": [
      "The presence of tsumego in resblock 7 is 0.256\n"
     ]
    },
    {
     "name": "stderr",
     "output_type": "stream",
     "text": [
      "Getting activation outputs: 100%|██████████| 157/157 [00:06<00:00, 25.60it/s]\n"
     ]
    },
    {
     "name": "stdout",
     "output_type": "stream",
     "text": [
      "Performing regression for layer 0\n",
      "Epoch 1/5\n"
     ]
    },
    {
     "name": "stderr",
     "output_type": "stream",
     "text": [
      "2024-04-25 11:56:57.364952: E tensorflow/core/grappler/optimizers/meta_optimizer.cc:954] model_pruner failed: INVALID_ARGUMENT: Graph does not contain terminal node AssignAddVariableOp_2.\n"
     ]
    },
    {
     "name": "stdout",
     "output_type": "stream",
     "text": [
      "125/125 [==============================] - 3s 21ms/step - loss: 1.7748 - val_loss: 1.3769\n",
      "Epoch 2/5\n",
      "125/125 [==============================] - 2s 17ms/step - loss: 1.3190 - val_loss: 1.2364\n",
      "Epoch 3/5\n",
      "125/125 [==============================] - 2s 17ms/step - loss: 1.2071 - val_loss: 1.1536\n",
      "Epoch 4/5\n",
      "125/125 [==============================] - 2s 17ms/step - loss: 1.1197 - val_loss: 1.0917\n",
      "Epoch 5/5\n",
      "125/125 [==============================] - 2s 17ms/step - loss: 1.0548 - val_loss: 1.0200\n",
      "125/125 [==============================] - 0s 3ms/step\n",
      "0.9575\n",
      "32/32 [==============================] - 0s 3ms/step\n",
      "The presence of tsumego in resblock 0 is 0.94\n",
      "Performing regression for layer 1\n",
      "Epoch 1/5\n"
     ]
    },
    {
     "name": "stderr",
     "output_type": "stream",
     "text": [
      "2024-04-25 11:57:10.072617: E tensorflow/core/grappler/optimizers/meta_optimizer.cc:954] model_pruner failed: INVALID_ARGUMENT: Graph does not contain terminal node AssignAddVariableOp_2.\n"
     ]
    },
    {
     "name": "stdout",
     "output_type": "stream",
     "text": [
      "125/125 [==============================] - 3s 22ms/step - loss: 1.7423 - val_loss: 1.4207\n",
      "Epoch 2/5\n",
      "125/125 [==============================] - 2s 17ms/step - loss: 1.3185 - val_loss: 1.3122\n",
      "Epoch 3/5\n",
      "125/125 [==============================] - 2s 17ms/step - loss: 1.2180 - val_loss: 1.2556\n",
      "Epoch 4/5\n",
      "125/125 [==============================] - 2s 17ms/step - loss: 1.1486 - val_loss: 1.1739\n",
      "Epoch 5/5\n",
      "125/125 [==============================] - 2s 17ms/step - loss: 1.0847 - val_loss: 1.1369\n",
      "125/125 [==============================] - 0s 3ms/step\n",
      "0.9535\n",
      "32/32 [==============================] - 0s 3ms/step\n",
      "The presence of tsumego in resblock 1 is 0.8959999999999999\n",
      "Performing regression for layer 2\n",
      "Epoch 1/5\n"
     ]
    },
    {
     "name": "stderr",
     "output_type": "stream",
     "text": [
      "2024-04-25 11:57:22.878373: E tensorflow/core/grappler/optimizers/meta_optimizer.cc:954] model_pruner failed: INVALID_ARGUMENT: Graph does not contain terminal node AssignAddVariableOp_2.\n"
     ]
    },
    {
     "name": "stdout",
     "output_type": "stream",
     "text": [
      "125/125 [==============================] - 3s 21ms/step - loss: 2.6059 - val_loss: 1.6671\n",
      "Epoch 2/5\n",
      "125/125 [==============================] - 2s 17ms/step - loss: 1.5079 - val_loss: 1.4627\n",
      "Epoch 3/5\n",
      "125/125 [==============================] - 2s 19ms/step - loss: 1.3472 - val_loss: 1.3570\n",
      "Epoch 4/5\n",
      "125/125 [==============================] - 2s 19ms/step - loss: 1.2844 - val_loss: 1.3265\n",
      "Epoch 5/5\n",
      "125/125 [==============================] - 2s 20ms/step - loss: 1.2036 - val_loss: 1.2246\n",
      "125/125 [==============================] - 0s 3ms/step\n",
      "0.958\n",
      "32/32 [==============================] - 0s 3ms/step\n",
      "The presence of tsumego in resblock 2 is 0.9239999999999999\n",
      "Performing regression for layer 3\n",
      "Epoch 1/5\n"
     ]
    },
    {
     "name": "stderr",
     "output_type": "stream",
     "text": [
      "2024-04-25 11:57:36.374291: E tensorflow/core/grappler/optimizers/meta_optimizer.cc:954] model_pruner failed: INVALID_ARGUMENT: Graph does not contain terminal node AssignAddVariableOp_2.\n"
     ]
    },
    {
     "name": "stdout",
     "output_type": "stream",
     "text": [
      "125/125 [==============================] - 4s 26ms/step - loss: 1.8172 - val_loss: 1.4397\n",
      "Epoch 2/5\n",
      "125/125 [==============================] - 2s 18ms/step - loss: 1.3530 - val_loss: 1.3191\n",
      "Epoch 3/5\n",
      "125/125 [==============================] - 2s 18ms/step - loss: 1.2226 - val_loss: 1.2920\n",
      "Epoch 4/5\n",
      "125/125 [==============================] - 2s 20ms/step - loss: 1.1249 - val_loss: 1.1529\n",
      "Epoch 5/5\n",
      "125/125 [==============================] - 2s 18ms/step - loss: 1.0531 - val_loss: 1.0880\n",
      "125/125 [==============================] - 0s 3ms/step\n",
      "0.974\n",
      "32/32 [==============================] - 0s 3ms/step\n",
      "The presence of tsumego in resblock 3 is 0.9319999999999999\n",
      "Performing regression for layer 4\n",
      "Epoch 1/5\n"
     ]
    },
    {
     "name": "stderr",
     "output_type": "stream",
     "text": [
      "2024-04-25 11:57:50.646091: E tensorflow/core/grappler/optimizers/meta_optimizer.cc:954] model_pruner failed: INVALID_ARGUMENT: Graph does not contain terminal node AssignAddVariableOp_2.\n"
     ]
    },
    {
     "name": "stdout",
     "output_type": "stream",
     "text": [
      "125/125 [==============================] - 3s 21ms/step - loss: 2.6454 - val_loss: 1.8171\n",
      "Epoch 2/5\n",
      "125/125 [==============================] - 2s 17ms/step - loss: 1.6675 - val_loss: 1.6140\n",
      "Epoch 3/5\n",
      "125/125 [==============================] - 2s 18ms/step - loss: 1.4581 - val_loss: 1.4377\n",
      "Epoch 4/5\n",
      "125/125 [==============================] - 2s 17ms/step - loss: 1.3487 - val_loss: 1.3590\n",
      "Epoch 5/5\n",
      "125/125 [==============================] - 2s 17ms/step - loss: 1.2626 - val_loss: 1.3655\n",
      "125/125 [==============================] - 0s 3ms/step\n",
      "0.9275\n",
      "32/32 [==============================] - 0s 3ms/step\n",
      "The presence of tsumego in resblock 4 is 0.9159999999999999\n",
      "Performing regression for layer 5\n",
      "Epoch 1/5\n"
     ]
    },
    {
     "name": "stderr",
     "output_type": "stream",
     "text": [
      "2024-04-25 11:58:04.032027: E tensorflow/core/grappler/optimizers/meta_optimizer.cc:954] model_pruner failed: INVALID_ARGUMENT: Graph does not contain terminal node AssignAddVariableOp_2.\n"
     ]
    },
    {
     "name": "stdout",
     "output_type": "stream",
     "text": [
      "125/125 [==============================] - 3s 22ms/step - loss: 2.0681 - val_loss: 1.5071\n",
      "Epoch 2/5\n",
      "125/125 [==============================] - 2s 18ms/step - loss: 1.5411 - val_loss: 1.4498\n",
      "Epoch 3/5\n",
      "125/125 [==============================] - 2s 18ms/step - loss: 1.4306 - val_loss: 1.3803\n",
      "Epoch 4/5\n",
      "125/125 [==============================] - 2s 18ms/step - loss: 1.3389 - val_loss: 1.2463\n",
      "Epoch 5/5\n",
      "125/125 [==============================] - 2s 18ms/step - loss: 1.2587 - val_loss: 1.2019\n",
      "125/125 [==============================] - 0s 3ms/step\n",
      "0.9279999999999999\n",
      "32/32 [==============================] - 0s 5ms/step\n",
      "The presence of tsumego in resblock 5 is 0.9319999999999999\n",
      "Performing regression for layer 6\n",
      "Epoch 1/5\n"
     ]
    },
    {
     "name": "stderr",
     "output_type": "stream",
     "text": [
      "2024-04-25 11:58:17.253227: E tensorflow/core/grappler/optimizers/meta_optimizer.cc:954] model_pruner failed: INVALID_ARGUMENT: Graph does not contain terminal node AssignAddVariableOp_2.\n"
     ]
    },
    {
     "name": "stdout",
     "output_type": "stream",
     "text": [
      "125/125 [==============================] - 3s 22ms/step - loss: 13.9962 - val_loss: 13.3228\n",
      "Epoch 2/5\n",
      "125/125 [==============================] - 2s 17ms/step - loss: 11.2619 - val_loss: 10.4503\n",
      "Epoch 3/5\n",
      "125/125 [==============================] - 2s 17ms/step - loss: 8.7427 - val_loss: 7.8960\n",
      "Epoch 4/5\n",
      "125/125 [==============================] - 2s 17ms/step - loss: 6.5897 - val_loss: 5.8459\n",
      "Epoch 5/5\n",
      "125/125 [==============================] - 2s 18ms/step - loss: 4.9783 - val_loss: 4.4256\n",
      "125/125 [==============================] - 0s 3ms/step\n",
      "-0.02400000000000002\n",
      "32/32 [==============================] - 0s 3ms/step\n",
      "The presence of tsumego in resblock 6 is 0.014000000000000012\n",
      "Performing regression for layer 7\n",
      "Epoch 1/5\n"
     ]
    },
    {
     "name": "stderr",
     "output_type": "stream",
     "text": [
      "2024-04-25 11:58:30.026828: E tensorflow/core/grappler/optimizers/meta_optimizer.cc:954] model_pruner failed: INVALID_ARGUMENT: Graph does not contain terminal node AssignAddVariableOp_2.\n"
     ]
    },
    {
     "name": "stdout",
     "output_type": "stream",
     "text": [
      "125/125 [==============================] - 6s 45ms/step - loss: 4.4757 - val_loss: 3.8819\n",
      "Epoch 2/5\n",
      "125/125 [==============================] - 2s 17ms/step - loss: 3.9020 - val_loss: 3.4150\n",
      "Epoch 3/5\n",
      "125/125 [==============================] - 2s 17ms/step - loss: 3.5710 - val_loss: 3.1247\n",
      "Epoch 4/5\n",
      "125/125 [==============================] - 2s 17ms/step - loss: 3.3343 - val_loss: 2.9111\n",
      "Epoch 5/5\n",
      "125/125 [==============================] - 2s 17ms/step - loss: 3.1395 - val_loss: 2.7383\n",
      "125/125 [==============================] - 0s 3ms/step\n",
      "0.32200000000000006\n",
      "32/32 [==============================] - 0s 3ms/step\n"
     ]
    },
    {
     "name": "stderr",
     "output_type": "stream",
     "text": [
      "Epochs:  89%|████████▉ | 8/9 [14:51<01:53, 113.34s/it]"
     ]
    },
    {
     "name": "stdout",
     "output_type": "stream",
     "text": [
      "The presence of tsumego in resblock 7 is 0.3680000000000001\n"
     ]
    },
    {
     "name": "stderr",
     "output_type": "stream",
     "text": [
      "Getting activation outputs: 100%|██████████| 157/157 [00:05<00:00, 28.52it/s]\n"
     ]
    },
    {
     "name": "stdout",
     "output_type": "stream",
     "text": [
      "Performing regression for layer 0\n",
      "Epoch 1/5\n"
     ]
    },
    {
     "name": "stderr",
     "output_type": "stream",
     "text": [
      "2024-04-25 11:58:52.680657: E tensorflow/core/grappler/optimizers/meta_optimizer.cc:954] model_pruner failed: INVALID_ARGUMENT: Graph does not contain terminal node AssignAddVariableOp_2.\n"
     ]
    },
    {
     "name": "stdout",
     "output_type": "stream",
     "text": [
      "125/125 [==============================] - 3s 20ms/step - loss: 2.0671 - val_loss: 1.5131\n",
      "Epoch 2/5\n",
      "125/125 [==============================] - 2s 17ms/step - loss: 1.3783 - val_loss: 1.3640\n",
      "Epoch 3/5\n",
      "125/125 [==============================] - 2s 17ms/step - loss: 1.2493 - val_loss: 1.2748\n",
      "Epoch 4/5\n",
      "125/125 [==============================] - 2s 17ms/step - loss: 1.1860 - val_loss: 1.2002\n",
      "Epoch 5/5\n",
      "125/125 [==============================] - 2s 17ms/step - loss: 1.1204 - val_loss: 1.1390\n",
      "125/125 [==============================] - 0s 3ms/step\n",
      "0.958\n",
      "32/32 [==============================] - 0s 3ms/step\n",
      "The presence of tsumego in resblock 0 is 0.9119999999999999\n",
      "Performing regression for layer 1\n",
      "Epoch 1/5\n"
     ]
    },
    {
     "name": "stderr",
     "output_type": "stream",
     "text": [
      "2024-04-25 11:59:05.185526: E tensorflow/core/grappler/optimizers/meta_optimizer.cc:954] model_pruner failed: INVALID_ARGUMENT: Graph does not contain terminal node AssignAddVariableOp_2.\n"
     ]
    },
    {
     "name": "stdout",
     "output_type": "stream",
     "text": [
      "125/125 [==============================] - 3s 21ms/step - loss: 2.1244 - val_loss: 1.5729\n",
      "Epoch 2/5\n",
      "125/125 [==============================] - 2s 17ms/step - loss: 1.4053 - val_loss: 1.4267\n",
      "Epoch 3/5\n",
      "125/125 [==============================] - 2s 17ms/step - loss: 1.2701 - val_loss: 1.3401\n",
      "Epoch 4/5\n",
      "125/125 [==============================] - 2s 17ms/step - loss: 1.1944 - val_loss: 1.2753\n",
      "Epoch 5/5\n",
      "125/125 [==============================] - 2s 17ms/step - loss: 1.1397 - val_loss: 1.2303\n",
      "125/125 [==============================] - 0s 3ms/step\n",
      "0.9550000000000001\n",
      "32/32 [==============================] - 0s 3ms/step\n",
      "The presence of tsumego in resblock 1 is 0.8959999999999999\n",
      "Performing regression for layer 2\n",
      "Epoch 1/5\n"
     ]
    },
    {
     "name": "stderr",
     "output_type": "stream",
     "text": [
      "2024-04-25 11:59:17.779257: E tensorflow/core/grappler/optimizers/meta_optimizer.cc:954] model_pruner failed: INVALID_ARGUMENT: Graph does not contain terminal node AssignAddVariableOp_2.\n"
     ]
    },
    {
     "name": "stdout",
     "output_type": "stream",
     "text": [
      "125/125 [==============================] - 3s 20ms/step - loss: 2.4376 - val_loss: 1.6170\n",
      "Epoch 2/5\n",
      "125/125 [==============================] - 2s 18ms/step - loss: 1.5909 - val_loss: 1.4382\n",
      "Epoch 3/5\n",
      "125/125 [==============================] - 2s 17ms/step - loss: 1.4069 - val_loss: 1.3692\n",
      "Epoch 4/5\n",
      "125/125 [==============================] - 2s 17ms/step - loss: 1.3031 - val_loss: 1.3208\n",
      "Epoch 5/5\n",
      "125/125 [==============================] - 2s 17ms/step - loss: 1.2192 - val_loss: 1.2601\n",
      "125/125 [==============================] - 0s 3ms/step\n",
      "0.9455\n",
      "32/32 [==============================] - 0s 3ms/step\n",
      "The presence of tsumego in resblock 2 is 0.9179999999999999\n",
      "Performing regression for layer 3\n",
      "Epoch 1/5\n"
     ]
    },
    {
     "name": "stderr",
     "output_type": "stream",
     "text": [
      "2024-04-25 11:59:30.385591: E tensorflow/core/grappler/optimizers/meta_optimizer.cc:954] model_pruner failed: INVALID_ARGUMENT: Graph does not contain terminal node AssignAddVariableOp_2.\n"
     ]
    },
    {
     "name": "stdout",
     "output_type": "stream",
     "text": [
      "125/125 [==============================] - 3s 21ms/step - loss: 1.8554 - val_loss: 1.4590\n",
      "Epoch 2/5\n",
      "125/125 [==============================] - 2s 17ms/step - loss: 1.3750 - val_loss: 1.3747\n",
      "Epoch 3/5\n",
      "125/125 [==============================] - 2s 17ms/step - loss: 1.2317 - val_loss: 1.2841\n",
      "Epoch 4/5\n",
      "125/125 [==============================] - 2s 18ms/step - loss: 1.1647 - val_loss: 1.2533\n",
      "Epoch 5/5\n",
      "125/125 [==============================] - 2s 17ms/step - loss: 1.0767 - val_loss: 1.1325\n",
      "125/125 [==============================] - 0s 3ms/step\n",
      "0.9690000000000001\n",
      "32/32 [==============================] - 0s 3ms/step\n",
      "The presence of tsumego in resblock 3 is 0.9139999999999999\n",
      "Performing regression for layer 4\n",
      "Epoch 1/5\n"
     ]
    },
    {
     "name": "stderr",
     "output_type": "stream",
     "text": [
      "2024-04-25 11:59:43.064942: E tensorflow/core/grappler/optimizers/meta_optimizer.cc:954] model_pruner failed: INVALID_ARGUMENT: Graph does not contain terminal node AssignAddVariableOp_2.\n"
     ]
    },
    {
     "name": "stdout",
     "output_type": "stream",
     "text": [
      "125/125 [==============================] - 3s 21ms/step - loss: 2.6481 - val_loss: 1.9536\n",
      "Epoch 2/5\n",
      "125/125 [==============================] - 2s 17ms/step - loss: 1.7532 - val_loss: 1.7814\n",
      "Epoch 3/5\n",
      "125/125 [==============================] - 2s 17ms/step - loss: 1.5509 - val_loss: 1.5816\n",
      "Epoch 4/5\n",
      "125/125 [==============================] - 2s 17ms/step - loss: 1.3250 - val_loss: 1.5290\n",
      "Epoch 5/5\n",
      "125/125 [==============================] - 2s 18ms/step - loss: 1.2274 - val_loss: 1.4218\n",
      "125/125 [==============================] - 0s 3ms/step\n",
      "0.964\n",
      "32/32 [==============================] - 0s 3ms/step\n",
      "The presence of tsumego in resblock 4 is 0.9019999999999999\n",
      "Performing regression for layer 5\n",
      "Epoch 1/5\n"
     ]
    },
    {
     "name": "stderr",
     "output_type": "stream",
     "text": [
      "2024-04-25 11:59:55.704709: E tensorflow/core/grappler/optimizers/meta_optimizer.cc:954] model_pruner failed: INVALID_ARGUMENT: Graph does not contain terminal node AssignAddVariableOp_2.\n"
     ]
    },
    {
     "name": "stdout",
     "output_type": "stream",
     "text": [
      "125/125 [==============================] - 3s 21ms/step - loss: 2.4550 - val_loss: 1.5725\n",
      "Epoch 2/5\n",
      "125/125 [==============================] - 2s 18ms/step - loss: 1.5339 - val_loss: 1.4486\n",
      "Epoch 3/5\n",
      "125/125 [==============================] - 2s 19ms/step - loss: 1.4174 - val_loss: 1.3687\n",
      "Epoch 4/5\n",
      "125/125 [==============================] - 2s 18ms/step - loss: 1.3337 - val_loss: 1.3432\n",
      "Epoch 5/5\n",
      "125/125 [==============================] - 2s 18ms/step - loss: 1.2687 - val_loss: 1.3018\n",
      "125/125 [==============================] - 0s 3ms/step\n",
      "0.9279999999999999\n",
      "32/32 [==============================] - 0s 4ms/step\n",
      "The presence of tsumego in resblock 5 is 0.9059999999999999\n",
      "Performing regression for layer 6\n",
      "Epoch 1/5\n"
     ]
    },
    {
     "name": "stderr",
     "output_type": "stream",
     "text": [
      "2024-04-25 12:00:09.111268: E tensorflow/core/grappler/optimizers/meta_optimizer.cc:954] model_pruner failed: INVALID_ARGUMENT: Graph does not contain terminal node AssignAddVariableOp_2.\n"
     ]
    },
    {
     "name": "stdout",
     "output_type": "stream",
     "text": [
      "125/125 [==============================] - 3s 21ms/step - loss: 18.7762 - val_loss: 18.4375\n",
      "Epoch 2/5\n",
      "125/125 [==============================] - 2s 18ms/step - loss: 15.3742 - val_loss: 14.9755\n",
      "Epoch 3/5\n",
      "125/125 [==============================] - 2s 18ms/step - loss: 12.3616 - val_loss: 11.9417\n",
      "Epoch 4/5\n",
      "125/125 [==============================] - 2s 17ms/step - loss: 9.8685 - val_loss: 9.4711\n",
      "Epoch 5/5\n",
      "125/125 [==============================] - 2s 17ms/step - loss: 7.9814 - val_loss: 7.6597\n",
      "125/125 [==============================] - 0s 2ms/step\n",
      "-0.19999999999999996\n",
      "32/32 [==============================] - 0s 3ms/step\n",
      "The presence of tsumego in resblock 6 is 0\n",
      "Performing regression for layer 7\n",
      "Epoch 1/5\n"
     ]
    },
    {
     "name": "stderr",
     "output_type": "stream",
     "text": [
      "2024-04-25 12:00:21.610655: E tensorflow/core/grappler/optimizers/meta_optimizer.cc:954] model_pruner failed: INVALID_ARGUMENT: Graph does not contain terminal node AssignAddVariableOp_2.\n"
     ]
    },
    {
     "name": "stdout",
     "output_type": "stream",
     "text": [
      "125/125 [==============================] - 3s 22ms/step - loss: 4.6410 - val_loss: 4.2633\n",
      "Epoch 2/5\n",
      "125/125 [==============================] - 2s 19ms/step - loss: 4.3889 - val_loss: 4.0252\n",
      "Epoch 3/5\n",
      "125/125 [==============================] - 2s 18ms/step - loss: 4.1585 - val_loss: 3.7976\n",
      "Epoch 4/5\n",
      "125/125 [==============================] - 2s 18ms/step - loss: 3.9381 - val_loss: 3.5895\n",
      "Epoch 5/5\n",
      "125/125 [==============================] - 2s 17ms/step - loss: 3.7291 - val_loss: 3.3864\n",
      "125/125 [==============================] - 0s 2ms/step\n",
      "0.3660000000000001\n",
      "32/32 [==============================] - 0s 3ms/step\n"
     ]
    },
    {
     "name": "stderr",
     "output_type": "stream",
     "text": [
      "Epochs: 100%|██████████| 9/9 [16:40<00:00, 111.92s/it]"
     ]
    },
    {
     "name": "stdout",
     "output_type": "stream",
     "text": [
      "The presence of tsumego in resblock 7 is 0.3899999999999999\n"
     ]
    }
   ],
   "source": [
    "from tqdm import tqdm\n",
    "epochs_to_look_at = agents_to_sample\n",
    "\n",
    "bar = tqdm(total=len(epochs_to_look_at), desc=\"Epochs\")\n",
    "\n",
    "for epoch in epochs_to_look_at:\n",
    "    path = full_model_path + model_name + \"_\" + str(epoch) + \".keras\"\n",
    "    if resnet:\n",
    "        model = ResNet(board_size, path)\n",
    "    else:\n",
    "        model = ConvNet(board_size, path)\n",
    "\n",
    "    # Will have a length equal to the sum of the numer of rows in the positive and negative cases arrays\n",
    "    # And will contain 1s for positive cases and 0s for negative cases\n",
    "    # Is used as labels/targets for the regression\n",
    "    if BINARY:\n",
    "        all_cases = np.concatenate([positive_cases, negative_cases])\n",
    "        all_labels = [1] * positive_cases.shape[0] + [0] * negative_cases.shape[0]\n",
    "    else:\n",
    "        all_cases = np.array(positive_cases)\n",
    "        all_labels = negative_cases\n",
    "\n",
    "    all_labels = np.array(all_labels)\n",
    "    shuffled_indices = np.arange(all_labels.shape[0])\n",
    "\n",
    "    np.random.shuffle(shuffled_indices)\n",
    "\n",
    "    all_cases = all_cases[shuffled_indices]\n",
    "    all_labels = all_labels[shuffled_indices]\n",
    "\n",
    "    concept_presences = {}\n",
    "    \n",
    "    outputs = model.get_all_activation_values(all_cases)\n",
    "\n",
    "    # Merge outputs\n",
    "    merged_outputs = []\n",
    "    for output_batch in outputs:\n",
    "        for i, output_layer in enumerate(output_batch):\n",
    "            if len(merged_outputs) <= i:\n",
    "                merged_outputs.append([])\n",
    "            merged_outputs[i].extend(output_layer)\n",
    "\n",
    "    for i, layer_output in enumerate(merged_outputs):\n",
    "        merged_outputs[i] = np.array(merged_outputs[i])\n",
    "    \n",
    "    outputs = merged_outputs\n",
    "\n",
    "    # Perform regression\n",
    "    concept_presence_per_layer = []\n",
    "    for (i, output) in enumerate(outputs):\n",
    "        points = output.reshape((output.shape[0], np.prod(output.shape[1:])))\n",
    "        # So one has (n, k) samples where n is the number of positions, and k is the total number of activation values in layer i.\n",
    "        print(f\"Performing regression for layer {i}\")\n",
    "        score = linear_regression.perform_regression(\n",
    "            points=points[:POSITIONS_TO_CONSIDER], \n",
    "            targets=all_labels[:POSITIONS_TO_CONSIDER], \n",
    "            validation_points=points[POSITIONS_TO_CONSIDER:], \n",
    "            validation_targets=all_labels[POSITIONS_TO_CONSIDER:], \n",
    "            is_binary=BINARY,\n",
    "            epochs=epochs,\n",
    "            verbose=1\n",
    "        )\n",
    "        score = 0 if score < 0 else score\n",
    "        concept_presence_per_layer.append(score)\n",
    "\n",
    "        print(f\"The presence of {CONCEPT_NAME} in resblock {i} is {score}\")\n",
    "        \n",
    "    concept_presences[CONCEPT_NAME] = concept_presence_per_layer\n",
    "\n",
    "    concept_folder_setup_and_score('static', model_type, board_name, session_name, CONCEPT_NAME, epoch, concept_presence_per_layer)\n",
    "\n",
    "    bar.update()"
   ]
  }
 ],
 "metadata": {
  "kernelspec": {
   "display_name": "go-xai",
   "language": "python",
   "name": "python3"
  },
  "language_info": {
   "codemirror_mode": {
    "name": "ipython",
    "version": 3
   },
   "file_extension": ".py",
   "mimetype": "text/x-python",
   "name": "python",
   "nbconvert_exporter": "python",
   "pygments_lexer": "ipython3",
   "version": "3.8.18"
  }
 },
 "nbformat": 4,
 "nbformat_minor": 2
}
