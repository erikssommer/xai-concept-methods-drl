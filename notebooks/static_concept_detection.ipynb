{
 "cells": [
  {
   "cell_type": "markdown",
   "metadata": {},
   "source": [
    "### Notebook for concept detection in neural network"
   ]
  },
  {
   "cell_type": "code",
   "execution_count": 1,
   "metadata": {},
   "outputs": [],
   "source": [
    "%load_ext autoreload\n",
    "%autoreload 2"
   ]
  },
  {
   "cell_type": "code",
   "execution_count": 1,
   "metadata": {},
   "outputs": [],
   "source": [
    "import numpy as np\n",
    "import os\n",
    "import sys\n",
    "\n",
    "sys.path.append(os.path.abspath(os.path.join(os.path.pardir, 'src')))\n",
    "\n",
    "os.environ['TF_CPP_MIN_LOG_LEVEL'] = '2'  # or any {'0', '1', '2'}\n",
    "\n",
    "from concepts import static_concepts, linear_regression, generate_static_concept_datasets\n",
    "from policy import ConvNet, ResNet\n",
    "from utils import concept_folder_setup_and_score\n",
    "\n",
    "import tensorflow as tf\n",
    "\n",
    "# Set memory growth\n",
    "physical_devices = tf.config.list_physical_devices('GPU')\n",
    "tf.config.experimental.set_memory_growth(physical_devices[0], True)\n",
    "\n",
    "model_name = \"net\"\n",
    "session_name = \"falcon\"\n",
    "board_size = 7\n",
    "board_name = f'{board_size}x{board_size}'\n",
    "resnet = True\n",
    "\n",
    "model_type = \"resnet\" if resnet else \"convnet\"\n",
    "\n",
    "agents_to_sample = [0, 10, 20, 60, 100, 500]\n",
    "\n",
    "full_model_path = f\"../models/saved_sessions/{model_type}/board_size_{board_size}/{session_name}/\"\n",
    "\n",
    "CONCEPT_FUNC = static_concepts.tsumego\n",
    "\n",
    "CONCEPT_NAME = static_concepts.tsumego.__name__\n",
    "\n",
    "CASES_TO_SAMPLE = 100 # 25000\n",
    "\n",
    "# Load the models\n",
    "def load_model(full_name, model_name, epoch):\n",
    "    model_path = full_name + model_name + \"_\" + str(epoch) + \".keras\"\n",
    "    if resnet:\n",
    "        model = ResNet(board_size, model_path)\n",
    "    else:\n",
    "        model = ConvNet(board_size, model_path)\n",
    "    return model\n",
    "\n",
    "agents = [load_model(full_model_path, model_name, epoch) for epoch in agents_to_sample]"
   ]
  },
  {
   "cell_type": "code",
   "execution_count": 2,
   "metadata": {},
   "outputs": [
    {
     "name": "stderr",
     "output_type": "stream",
     "text": [
      "Positive cases:   0%|          | 0/100 [00:00<?, ?it/s]"
     ]
    },
    {
     "name": "stderr",
     "output_type": "stream",
     "text": [
      "Positive cases: 103it [04:49,  2.81s/it]                        \n"
     ]
    }
   ],
   "source": [
    "positive_cases, negative_cases = generate_static_concept_datasets(CASES_TO_SAMPLE, agents, board_size, CONCEPT_FUNC)\n",
    "\n",
    "# Create numpy arrays\n",
    "positive_cases = np.array(positive_cases)\n",
    "negative_cases = np.array(negative_cases)"
   ]
  },
  {
   "cell_type": "code",
   "execution_count": 3,
   "metadata": {},
   "outputs": [
    {
     "name": "stdout",
     "output_type": "stream",
     "text": [
      "Positive cases:  (100, 5, 7, 7)\n",
      "Negative cases:  (100, 5, 7, 7)\n"
     ]
    }
   ],
   "source": [
    "# Print shapes\n",
    "print(\"Positive cases: \", positive_cases.shape)\n",
    "print(\"Negative cases: \", negative_cases.shape)"
   ]
  },
  {
   "cell_type": "code",
   "execution_count": 7,
   "metadata": {},
   "outputs": [],
   "source": [
    "# Test if there are any duplicates accross the two sets\n",
    "for i in range(len(positive_cases)):\n",
    "    for j in range(len(negative_cases)):\n",
    "        if np.array_equal(positive_cases[i], negative_cases[j]):\n",
    "            print(\"Duplicate found!\")\n",
    "            print(positive_cases[i])\n",
    "            print(negative_cases[j])\n",
    "            break"
   ]
  },
  {
   "cell_type": "code",
   "execution_count": 4,
   "metadata": {},
   "outputs": [
    {
     "name": "stdout",
     "output_type": "stream",
     "text": [
      "Duplicate count in positive cases:  0\n",
      "Duplicate count in negative:  2\n"
     ]
    }
   ],
   "source": [
    "# Find the number of any duplicates within the positive cases\n",
    "duplicate_count = 0\n",
    "for i in range(len(positive_cases)):\n",
    "    for j in range(i + 1, len(positive_cases)):\n",
    "        if np.array_equal(positive_cases[i], positive_cases[j]):\n",
    "            duplicate_count += 1\n",
    "            break\n",
    "\n",
    "print(\"Duplicate count in positive cases: \", duplicate_count)\n",
    "\n",
    "# Find the number of any duplicates within the negative cases\n",
    "duplicate_count = 0\n",
    "for i in range(len(negative_cases)):\n",
    "    for j in range(i + 1, len(negative_cases)):\n",
    "        if np.array_equal(negative_cases[i], negative_cases[j]):\n",
    "            duplicate_count += 1\n",
    "            break\n",
    "\n",
    "print(\"Duplicate count in negative: \", duplicate_count)"
   ]
  },
  {
   "cell_type": "code",
   "execution_count": null,
   "metadata": {},
   "outputs": [],
   "source": [
    "from env import gogame\n",
    "# Print all the positive cases\n",
    "for i in range(len(positive_cases)):\n",
    "    print(f\"Positive case {i}:\")\n",
    "    print(positive_cases[i])\n",
    "    print(gogame.str(positive_cases[i], nn_format=True))\n",
    "    print()"
   ]
  },
  {
   "cell_type": "code",
   "execution_count": 5,
   "metadata": {},
   "outputs": [
    {
     "name": "stdout",
     "output_type": "stream",
     "text": [
      "Positions to consider: 160\n"
     ]
    }
   ],
   "source": [
    "# Positions to consider are 80% of the total positions\n",
    "POSITIONS_TO_CONSIDER = int(0.8 * positive_cases.shape[0] * 2)\n",
    "print(f\"Positions to consider: {POSITIONS_TO_CONSIDER}\")\n",
    "#POSITIONS_TO_CONSIDER = 4000 #40000\n",
    "VALIDATION_POSITIONS = 10000 #10000\n",
    "\n",
    "BINARY = True\n",
    "epochs = 50"
   ]
  },
  {
   "cell_type": "code",
   "execution_count": 6,
   "metadata": {},
   "outputs": [
    {
     "name": "stderr",
     "output_type": "stream",
     "text": [
      "2024-02-20 18:52:20.837572: E tensorflow/core/grappler/optimizers/meta_optimizer.cc:954] model_pruner failed: INVALID_ARGUMENT: Graph does not contain terminal node AssignAddVariableOp_2.\n"
     ]
    },
    {
     "name": "stdout",
     "output_type": "stream",
     "text": [
      "5/5 [==============================] - 0s 3ms/step\n",
      "0.2250000000000001\n",
      "2/2 [==============================] - 0s 10ms/step\n",
      "Regression score:  0.19999999999999996\n"
     ]
    }
   ],
   "source": [
    "# First test if the concept can be regressed form the inputs\n",
    "name = \"input\"\n",
    "all_cases = np.concatenate([positive_cases, negative_cases])\n",
    "all_labels = [1] * positive_cases.shape[0] + [0] * negative_cases.shape[0]\n",
    "all_labels = np.array(all_labels)\n",
    "shuffled_indices = np.arange(all_labels.shape[0])\n",
    "\n",
    "np.random.shuffle(shuffled_indices)\n",
    "\n",
    "all_cases = all_cases[shuffled_indices]\n",
    "all_labels = all_labels[shuffled_indices]\n",
    "\n",
    "points = all_cases.reshape(all_cases.shape[0], -1)\n",
    "\n",
    "# Use the regression\n",
    "score = linear_regression.perform_regression(\n",
    "    points=points[:POSITIONS_TO_CONSIDER], \n",
    "    targets=all_labels[:POSITIONS_TO_CONSIDER], \n",
    "    validation_points=points[POSITIONS_TO_CONSIDER:], \n",
    "    validation_targets=all_labels[POSITIONS_TO_CONSIDER:], \n",
    "    is_binary=BINARY,\n",
    "    epochs=epochs,\n",
    "    verbose=0\n",
    ")\n",
    "\n",
    "score = 0 if score < 0 else score\n",
    "\n",
    "print(\"Regression score: \", score)\n",
    "\n",
    "concept_folder_setup_and_score('static', model_type, board_name, session_name, CONCEPT_NAME, name, score)"
   ]
  },
  {
   "cell_type": "code",
   "execution_count": 7,
   "metadata": {},
   "outputs": [
    {
     "name": "stderr",
     "output_type": "stream",
     "text": [
      "Getting activation outputs: 100%|██████████| 7/7 [00:00<00:00, 17.86it/s]\n"
     ]
    },
    {
     "name": "stdout",
     "output_type": "stream",
     "text": [
      "Performing regression for layer 0\n"
     ]
    },
    {
     "name": "stderr",
     "output_type": "stream",
     "text": [
      "2024-02-20 18:52:31.872842: E tensorflow/core/grappler/optimizers/meta_optimizer.cc:954] model_pruner failed: INVALID_ARGUMENT: Graph does not contain terminal node AssignAddVariableOp_2.\n"
     ]
    },
    {
     "name": "stdout",
     "output_type": "stream",
     "text": [
      "5/5 [==============================] - 0s 3ms/step\n",
      "0.5125\n",
      "2/2 [==============================] - 0s 9ms/step\n",
      "The presence of tsumego in resblock 0 is 0.44999999999999996\n",
      "Performing regression for layer 1\n"
     ]
    },
    {
     "name": "stderr",
     "output_type": "stream",
     "text": [
      "2024-02-20 18:52:38.339631: E tensorflow/core/grappler/optimizers/meta_optimizer.cc:954] model_pruner failed: INVALID_ARGUMENT: Graph does not contain terminal node AssignAddVariableOp_2.\n"
     ]
    },
    {
     "name": "stdout",
     "output_type": "stream",
     "text": [
      "WARNING:tensorflow:5 out of the last 15 calls to <function Model.make_predict_function.<locals>.predict_function at 0x7fef22cd03a0> triggered tf.function retracing. Tracing is expensive and the excessive number of tracings could be due to (1) creating @tf.function repeatedly in a loop, (2) passing tensors with different shapes, (3) passing Python objects instead of tensors. For (1), please define your @tf.function outside of the loop. For (2), @tf.function has reduce_retracing=True option that can avoid unnecessary retracing. For (3), please refer to https://www.tensorflow.org/guide/function#controlling_retracing and https://www.tensorflow.org/api_docs/python/tf/function for  more details.\n",
      "5/5 [==============================] - 0s 3ms/step\n",
      "-0.012499999999999956\n",
      "2/2 [==============================] - 0s 8ms/step\n",
      "The presence of tsumego in resblock 1 is 0.19999999999999996\n",
      "Performing regression for layer 2\n"
     ]
    },
    {
     "name": "stderr",
     "output_type": "stream",
     "text": [
      "2024-02-20 18:52:44.707971: E tensorflow/core/grappler/optimizers/meta_optimizer.cc:954] model_pruner failed: INVALID_ARGUMENT: Graph does not contain terminal node AssignAddVariableOp_2.\n"
     ]
    },
    {
     "name": "stdout",
     "output_type": "stream",
     "text": [
      "WARNING:tensorflow:5 out of the last 15 calls to <function Model.make_predict_function.<locals>.predict_function at 0x7fef236eb3a0> triggered tf.function retracing. Tracing is expensive and the excessive number of tracings could be due to (1) creating @tf.function repeatedly in a loop, (2) passing tensors with different shapes, (3) passing Python objects instead of tensors. For (1), please define your @tf.function outside of the loop. For (2), @tf.function has reduce_retracing=True option that can avoid unnecessary retracing. For (3), please refer to https://www.tensorflow.org/guide/function#controlling_retracing and https://www.tensorflow.org/api_docs/python/tf/function for  more details.\n",
      "5/5 [==============================] - 0s 5ms/step\n",
      "0.6625000000000001\n",
      "2/2 [==============================] - 0s 9ms/step\n",
      "The presence of tsumego in resblock 2 is 0.6000000000000001\n",
      "Performing regression for layer 3\n"
     ]
    },
    {
     "name": "stderr",
     "output_type": "stream",
     "text": [
      "2024-02-20 18:52:51.091905: E tensorflow/core/grappler/optimizers/meta_optimizer.cc:954] model_pruner failed: INVALID_ARGUMENT: Graph does not contain terminal node AssignAddVariableOp_2.\n"
     ]
    },
    {
     "name": "stdout",
     "output_type": "stream",
     "text": [
      "5/5 [==============================] - 0s 3ms/step\n",
      "0.012499999999999956\n",
      "2/2 [==============================] - 0s 9ms/step\n",
      "The presence of tsumego in resblock 3 is 0.19999999999999996\n",
      "Performing regression for layer 4\n"
     ]
    },
    {
     "name": "stderr",
     "output_type": "stream",
     "text": [
      "2024-02-20 18:52:57.592199: E tensorflow/core/grappler/optimizers/meta_optimizer.cc:954] model_pruner failed: INVALID_ARGUMENT: Graph does not contain terminal node AssignAddVariableOp_2.\n"
     ]
    },
    {
     "name": "stdout",
     "output_type": "stream",
     "text": [
      "5/5 [==============================] - 0s 3ms/step\n",
      "0.6875\n",
      "2/2 [==============================] - 0s 9ms/step\n",
      "The presence of tsumego in resblock 4 is 0.55\n",
      "Performing regression for layer 5\n"
     ]
    },
    {
     "name": "stderr",
     "output_type": "stream",
     "text": [
      "2024-02-20 18:53:04.123006: E tensorflow/core/grappler/optimizers/meta_optimizer.cc:954] model_pruner failed: INVALID_ARGUMENT: Graph does not contain terminal node AssignAddVariableOp_2.\n"
     ]
    },
    {
     "name": "stdout",
     "output_type": "stream",
     "text": [
      "5/5 [==============================] - 0s 3ms/step\n",
      "0.23750000000000004\n",
      "2/2 [==============================] - 0s 9ms/step\n",
      "The presence of tsumego in resblock 5 is 0.25\n",
      "Performing regression for layer 6\n"
     ]
    },
    {
     "name": "stderr",
     "output_type": "stream",
     "text": [
      "2024-02-20 18:53:10.624161: E tensorflow/core/grappler/optimizers/meta_optimizer.cc:954] model_pruner failed: INVALID_ARGUMENT: Graph does not contain terminal node AssignAddVariableOp_2.\n"
     ]
    },
    {
     "name": "stdout",
     "output_type": "stream",
     "text": [
      "5/5 [==============================] - 0s 3ms/step\n",
      "0.8125\n",
      "2/2 [==============================] - 0s 9ms/step\n",
      "The presence of tsumego in resblock 6 is 0.7\n",
      "Performing regression for layer 7\n"
     ]
    },
    {
     "name": "stderr",
     "output_type": "stream",
     "text": [
      "2024-02-20 18:53:17.128903: E tensorflow/core/grappler/optimizers/meta_optimizer.cc:954] model_pruner failed: INVALID_ARGUMENT: Graph does not contain terminal node AssignAddVariableOp_2.\n"
     ]
    },
    {
     "name": "stdout",
     "output_type": "stream",
     "text": [
      "5/5 [==============================] - 0s 4ms/step\n",
      "-0.025000000000000022\n",
      "2/2 [==============================] - 0s 9ms/step\n"
     ]
    },
    {
     "name": "stderr",
     "output_type": "stream",
     "text": [
      "Epochs:  17%|█▋        | 1/6 [00:52<04:23, 52.67s/it]"
     ]
    },
    {
     "name": "stdout",
     "output_type": "stream",
     "text": [
      "The presence of tsumego in resblock 7 is 0\n"
     ]
    },
    {
     "name": "stderr",
     "output_type": "stream",
     "text": [
      "Getting activation outputs: 100%|██████████| 7/7 [00:00<00:00, 35.41it/s]\n"
     ]
    },
    {
     "name": "stdout",
     "output_type": "stream",
     "text": [
      "Performing regression for layer 0\n"
     ]
    },
    {
     "name": "stderr",
     "output_type": "stream",
     "text": [
      "2024-02-20 18:53:24.331547: E tensorflow/core/grappler/optimizers/meta_optimizer.cc:954] model_pruner failed: INVALID_ARGUMENT: Graph does not contain terminal node AssignAddVariableOp_2.\n"
     ]
    },
    {
     "name": "stdout",
     "output_type": "stream",
     "text": [
      "5/5 [==============================] - 0s 3ms/step\n",
      "0.7749999999999999\n",
      "2/2 [==============================] - 0s 10ms/step\n",
      "The presence of tsumego in resblock 0 is 0.6499999999999999\n",
      "Performing regression for layer 1\n"
     ]
    },
    {
     "name": "stderr",
     "output_type": "stream",
     "text": [
      "2024-02-20 18:53:30.829377: E tensorflow/core/grappler/optimizers/meta_optimizer.cc:954] model_pruner failed: INVALID_ARGUMENT: Graph does not contain terminal node AssignAddVariableOp_2.\n"
     ]
    },
    {
     "name": "stdout",
     "output_type": "stream",
     "text": [
      "5/5 [==============================] - 0s 3ms/step\n",
      "0.9875\n",
      "2/2 [==============================] - 0s 9ms/step\n",
      "The presence of tsumego in resblock 1 is 0.8500000000000001\n",
      "Performing regression for layer 2\n"
     ]
    },
    {
     "name": "stderr",
     "output_type": "stream",
     "text": [
      "2024-02-20 18:53:37.462207: E tensorflow/core/grappler/optimizers/meta_optimizer.cc:954] model_pruner failed: INVALID_ARGUMENT: Graph does not contain terminal node AssignAddVariableOp_2.\n"
     ]
    },
    {
     "name": "stdout",
     "output_type": "stream",
     "text": [
      "5/5 [==============================] - 0s 3ms/step\n",
      "0.9875\n",
      "2/2 [==============================] - 0s 10ms/step\n",
      "The presence of tsumego in resblock 2 is 0.8999999999999999\n",
      "Performing regression for layer 3\n"
     ]
    },
    {
     "name": "stderr",
     "output_type": "stream",
     "text": [
      "2024-02-20 18:53:45.218695: E tensorflow/core/grappler/optimizers/meta_optimizer.cc:954] model_pruner failed: INVALID_ARGUMENT: Graph does not contain terminal node AssignAddVariableOp_2.\n"
     ]
    },
    {
     "name": "stdout",
     "output_type": "stream",
     "text": [
      "5/5 [==============================] - 0s 3ms/step\n",
      "0.9875\n",
      "2/2 [==============================] - 0s 9ms/step\n",
      "The presence of tsumego in resblock 3 is 1.0\n",
      "Performing regression for layer 4\n"
     ]
    },
    {
     "name": "stderr",
     "output_type": "stream",
     "text": [
      "2024-02-20 18:53:51.786872: E tensorflow/core/grappler/optimizers/meta_optimizer.cc:954] model_pruner failed: INVALID_ARGUMENT: Graph does not contain terminal node AssignAddVariableOp_2.\n"
     ]
    },
    {
     "name": "stdout",
     "output_type": "stream",
     "text": [
      "5/5 [==============================] - 0s 3ms/step\n",
      "0.9750000000000001\n",
      "2/2 [==============================] - 0s 10ms/step\n",
      "The presence of tsumego in resblock 4 is 0.95\n",
      "Performing regression for layer 5\n"
     ]
    },
    {
     "name": "stderr",
     "output_type": "stream",
     "text": [
      "2024-02-20 18:53:58.317540: E tensorflow/core/grappler/optimizers/meta_optimizer.cc:954] model_pruner failed: INVALID_ARGUMENT: Graph does not contain terminal node AssignAddVariableOp_2.\n"
     ]
    },
    {
     "name": "stdout",
     "output_type": "stream",
     "text": [
      "5/5 [==============================] - 0s 3ms/step\n",
      "0.8500000000000001\n",
      "2/2 [==============================] - 0s 9ms/step\n",
      "The presence of tsumego in resblock 5 is 0.8500000000000001\n",
      "Performing regression for layer 6\n"
     ]
    },
    {
     "name": "stderr",
     "output_type": "stream",
     "text": [
      "2024-02-20 18:54:04.830238: E tensorflow/core/grappler/optimizers/meta_optimizer.cc:954] model_pruner failed: INVALID_ARGUMENT: Graph does not contain terminal node AssignAddVariableOp_2.\n"
     ]
    },
    {
     "name": "stdout",
     "output_type": "stream",
     "text": [
      "5/5 [==============================] - 0s 3ms/step\n",
      "0.9750000000000001\n",
      "2/2 [==============================] - 0s 10ms/step\n",
      "The presence of tsumego in resblock 6 is 0.95\n",
      "Performing regression for layer 7\n"
     ]
    },
    {
     "name": "stderr",
     "output_type": "stream",
     "text": [
      "2024-02-20 18:54:11.258359: E tensorflow/core/grappler/optimizers/meta_optimizer.cc:954] model_pruner failed: INVALID_ARGUMENT: Graph does not contain terminal node AssignAddVariableOp_2.\n"
     ]
    },
    {
     "name": "stdout",
     "output_type": "stream",
     "text": [
      "5/5 [==============================] - 0s 3ms/step\n",
      "0.08749999999999991\n",
      "2/2 [==============================] - 0s 9ms/step\n"
     ]
    },
    {
     "name": "stderr",
     "output_type": "stream",
     "text": [
      "Epochs:  33%|███▎      | 2/6 [01:46<03:33, 53.49s/it]"
     ]
    },
    {
     "name": "stdout",
     "output_type": "stream",
     "text": [
      "The presence of tsumego in resblock 7 is 0.050000000000000044\n"
     ]
    },
    {
     "name": "stderr",
     "output_type": "stream",
     "text": [
      "Getting activation outputs: 100%|██████████| 7/7 [00:00<00:00, 35.32it/s]\n"
     ]
    },
    {
     "name": "stdout",
     "output_type": "stream",
     "text": [
      "Performing regression for layer 0\n"
     ]
    },
    {
     "name": "stderr",
     "output_type": "stream",
     "text": [
      "2024-02-20 18:54:18.379998: E tensorflow/core/grappler/optimizers/meta_optimizer.cc:954] model_pruner failed: INVALID_ARGUMENT: Graph does not contain terminal node AssignAddVariableOp_2.\n"
     ]
    },
    {
     "name": "stdout",
     "output_type": "stream",
     "text": [
      "5/5 [==============================] - 0s 3ms/step\n",
      "0.9125000000000001\n",
      "2/2 [==============================] - 0s 9ms/step\n",
      "The presence of tsumego in resblock 0 is 0.8999999999999999\n",
      "Performing regression for layer 1\n"
     ]
    },
    {
     "name": "stderr",
     "output_type": "stream",
     "text": [
      "2024-02-20 18:54:24.846135: E tensorflow/core/grappler/optimizers/meta_optimizer.cc:954] model_pruner failed: INVALID_ARGUMENT: Graph does not contain terminal node AssignAddVariableOp_2.\n"
     ]
    },
    {
     "name": "stdout",
     "output_type": "stream",
     "text": [
      "5/5 [==============================] - 0s 3ms/step\n",
      "1.0\n",
      "2/2 [==============================] - 0s 9ms/step\n",
      "The presence of tsumego in resblock 1 is 0.95\n",
      "Performing regression for layer 2\n"
     ]
    },
    {
     "name": "stderr",
     "output_type": "stream",
     "text": [
      "2024-02-20 18:54:31.192192: E tensorflow/core/grappler/optimizers/meta_optimizer.cc:954] model_pruner failed: INVALID_ARGUMENT: Graph does not contain terminal node AssignAddVariableOp_2.\n"
     ]
    },
    {
     "name": "stdout",
     "output_type": "stream",
     "text": [
      "5/5 [==============================] - 0s 3ms/step\n",
      "0.9875\n",
      "2/2 [==============================] - 0s 9ms/step\n",
      "The presence of tsumego in resblock 2 is 0.8500000000000001\n",
      "Performing regression for layer 3\n"
     ]
    },
    {
     "name": "stderr",
     "output_type": "stream",
     "text": [
      "2024-02-20 18:54:37.715871: E tensorflow/core/grappler/optimizers/meta_optimizer.cc:954] model_pruner failed: INVALID_ARGUMENT: Graph does not contain terminal node AssignAddVariableOp_2.\n"
     ]
    },
    {
     "name": "stdout",
     "output_type": "stream",
     "text": [
      "5/5 [==============================] - 0s 3ms/step\n",
      "1.0\n",
      "2/2 [==============================] - 0s 9ms/step\n",
      "The presence of tsumego in resblock 3 is 1.0\n",
      "Performing regression for layer 4\n"
     ]
    },
    {
     "name": "stderr",
     "output_type": "stream",
     "text": [
      "2024-02-20 18:54:44.313214: E tensorflow/core/grappler/optimizers/meta_optimizer.cc:954] model_pruner failed: INVALID_ARGUMENT: Graph does not contain terminal node AssignAddVariableOp_2.\n"
     ]
    },
    {
     "name": "stdout",
     "output_type": "stream",
     "text": [
      "5/5 [==============================] - 0s 3ms/step\n",
      "1.0\n",
      "2/2 [==============================] - 0s 9ms/step\n",
      "The presence of tsumego in resblock 4 is 0.95\n",
      "Performing regression for layer 5\n"
     ]
    },
    {
     "name": "stderr",
     "output_type": "stream",
     "text": [
      "2024-02-20 18:54:50.920697: E tensorflow/core/grappler/optimizers/meta_optimizer.cc:954] model_pruner failed: INVALID_ARGUMENT: Graph does not contain terminal node AssignAddVariableOp_2.\n"
     ]
    },
    {
     "name": "stdout",
     "output_type": "stream",
     "text": [
      "5/5 [==============================] - 0s 3ms/step\n",
      "1.0\n",
      "2/2 [==============================] - 0s 9ms/step\n",
      "The presence of tsumego in resblock 5 is 1.0\n",
      "Performing regression for layer 6\n"
     ]
    },
    {
     "name": "stderr",
     "output_type": "stream",
     "text": [
      "2024-02-20 18:54:57.545593: E tensorflow/core/grappler/optimizers/meta_optimizer.cc:954] model_pruner failed: INVALID_ARGUMENT: Graph does not contain terminal node AssignAddVariableOp_2.\n"
     ]
    },
    {
     "name": "stdout",
     "output_type": "stream",
     "text": [
      "5/5 [==============================] - 0s 3ms/step\n",
      "1.0\n",
      "2/2 [==============================] - 0s 9ms/step\n",
      "The presence of tsumego in resblock 6 is 1.0\n",
      "Performing regression for layer 7\n"
     ]
    },
    {
     "name": "stderr",
     "output_type": "stream",
     "text": [
      "2024-02-20 18:55:04.198622: E tensorflow/core/grappler/optimizers/meta_optimizer.cc:954] model_pruner failed: INVALID_ARGUMENT: Graph does not contain terminal node AssignAddVariableOp_2.\n"
     ]
    },
    {
     "name": "stdout",
     "output_type": "stream",
     "text": [
      "5/5 [==============================] - 0s 3ms/step\n",
      "-0.21250000000000002\n",
      "2/2 [==============================] - 0s 10ms/step\n"
     ]
    },
    {
     "name": "stderr",
     "output_type": "stream",
     "text": [
      "Epochs:  50%|█████     | 3/6 [02:39<02:39, 53.27s/it]"
     ]
    },
    {
     "name": "stdout",
     "output_type": "stream",
     "text": [
      "The presence of tsumego in resblock 7 is 0\n"
     ]
    },
    {
     "name": "stderr",
     "output_type": "stream",
     "text": [
      "Getting activation outputs: 100%|██████████| 7/7 [00:00<00:00, 36.44it/s]\n"
     ]
    },
    {
     "name": "stdout",
     "output_type": "stream",
     "text": [
      "Performing regression for layer 0\n"
     ]
    },
    {
     "name": "stderr",
     "output_type": "stream",
     "text": [
      "2024-02-20 18:55:11.335709: E tensorflow/core/grappler/optimizers/meta_optimizer.cc:954] model_pruner failed: INVALID_ARGUMENT: Graph does not contain terminal node AssignAddVariableOp_2.\n"
     ]
    },
    {
     "name": "stdout",
     "output_type": "stream",
     "text": [
      "5/5 [==============================] - 0s 3ms/step\n",
      "0.9624999999999999\n",
      "2/2 [==============================] - 0s 10ms/step\n",
      "The presence of tsumego in resblock 0 is 0.8999999999999999\n",
      "Performing regression for layer 1\n"
     ]
    },
    {
     "name": "stderr",
     "output_type": "stream",
     "text": [
      "2024-02-20 18:55:18.030475: E tensorflow/core/grappler/optimizers/meta_optimizer.cc:954] model_pruner failed: INVALID_ARGUMENT: Graph does not contain terminal node AssignAddVariableOp_2.\n"
     ]
    },
    {
     "name": "stdout",
     "output_type": "stream",
     "text": [
      "5/5 [==============================] - 0s 3ms/step\n",
      "1.0\n",
      "2/2 [==============================] - 0s 9ms/step\n",
      "The presence of tsumego in resblock 1 is 1.0\n",
      "Performing regression for layer 2\n"
     ]
    },
    {
     "name": "stderr",
     "output_type": "stream",
     "text": [
      "2024-02-20 18:55:26.147299: E tensorflow/core/grappler/optimizers/meta_optimizer.cc:954] model_pruner failed: INVALID_ARGUMENT: Graph does not contain terminal node AssignAddVariableOp_2.\n"
     ]
    },
    {
     "name": "stdout",
     "output_type": "stream",
     "text": [
      "5/5 [==============================] - 0s 3ms/step\n",
      "1.0\n",
      "2/2 [==============================] - 0s 9ms/step\n",
      "The presence of tsumego in resblock 2 is 1.0\n",
      "Performing regression for layer 3\n"
     ]
    },
    {
     "name": "stderr",
     "output_type": "stream",
     "text": [
      "2024-02-20 18:55:32.844794: E tensorflow/core/grappler/optimizers/meta_optimizer.cc:954] model_pruner failed: INVALID_ARGUMENT: Graph does not contain terminal node AssignAddVariableOp_2.\n"
     ]
    },
    {
     "name": "stdout",
     "output_type": "stream",
     "text": [
      "5/5 [==============================] - 0s 3ms/step\n",
      "1.0\n",
      "2/2 [==============================] - 0s 9ms/step\n",
      "The presence of tsumego in resblock 3 is 0.8999999999999999\n",
      "Performing regression for layer 4\n"
     ]
    },
    {
     "name": "stderr",
     "output_type": "stream",
     "text": [
      "2024-02-20 18:55:39.652862: E tensorflow/core/grappler/optimizers/meta_optimizer.cc:954] model_pruner failed: INVALID_ARGUMENT: Graph does not contain terminal node AssignAddVariableOp_2.\n"
     ]
    },
    {
     "name": "stdout",
     "output_type": "stream",
     "text": [
      "5/5 [==============================] - 0s 3ms/step\n",
      "1.0\n",
      "2/2 [==============================] - 0s 10ms/step\n",
      "The presence of tsumego in resblock 4 is 0.95\n",
      "Performing regression for layer 5\n"
     ]
    },
    {
     "name": "stderr",
     "output_type": "stream",
     "text": [
      "2024-02-20 18:55:46.701282: E tensorflow/core/grappler/optimizers/meta_optimizer.cc:954] model_pruner failed: INVALID_ARGUMENT: Graph does not contain terminal node AssignAddVariableOp_2.\n"
     ]
    },
    {
     "name": "stdout",
     "output_type": "stream",
     "text": [
      "5/5 [==============================] - 0s 3ms/step\n",
      "1.0\n",
      "2/2 [==============================] - 0s 9ms/step\n",
      "The presence of tsumego in resblock 5 is 0.8500000000000001\n",
      "Performing regression for layer 6\n"
     ]
    },
    {
     "name": "stderr",
     "output_type": "stream",
     "text": [
      "2024-02-20 18:55:53.706099: E tensorflow/core/grappler/optimizers/meta_optimizer.cc:954] model_pruner failed: INVALID_ARGUMENT: Graph does not contain terminal node AssignAddVariableOp_2.\n"
     ]
    },
    {
     "name": "stdout",
     "output_type": "stream",
     "text": [
      "5/5 [==============================] - 0s 4ms/step\n",
      "1.0\n",
      "2/2 [==============================] - 0s 10ms/step\n",
      "The presence of tsumego in resblock 6 is 1.0\n",
      "Performing regression for layer 7\n"
     ]
    },
    {
     "name": "stderr",
     "output_type": "stream",
     "text": [
      "2024-02-20 18:56:00.304966: E tensorflow/core/grappler/optimizers/meta_optimizer.cc:954] model_pruner failed: INVALID_ARGUMENT: Graph does not contain terminal node AssignAddVariableOp_2.\n"
     ]
    },
    {
     "name": "stdout",
     "output_type": "stream",
     "text": [
      "5/5 [==============================] - 0s 3ms/step\n",
      "-0.025000000000000022\n",
      "2/2 [==============================] - 0s 10ms/step\n"
     ]
    },
    {
     "name": "stderr",
     "output_type": "stream",
     "text": [
      "Epochs:  67%|██████▋   | 4/6 [03:36<01:49, 54.52s/it]"
     ]
    },
    {
     "name": "stdout",
     "output_type": "stream",
     "text": [
      "The presence of tsumego in resblock 7 is 0.0\n"
     ]
    },
    {
     "name": "stderr",
     "output_type": "stream",
     "text": [
      "Getting activation outputs: 100%|██████████| 7/7 [00:00<00:00, 32.83it/s]\n"
     ]
    },
    {
     "name": "stdout",
     "output_type": "stream",
     "text": [
      "Performing regression for layer 0\n"
     ]
    },
    {
     "name": "stderr",
     "output_type": "stream",
     "text": [
      "2024-02-20 18:56:07.829958: E tensorflow/core/grappler/optimizers/meta_optimizer.cc:954] model_pruner failed: INVALID_ARGUMENT: Graph does not contain terminal node AssignAddVariableOp_2.\n"
     ]
    },
    {
     "name": "stdout",
     "output_type": "stream",
     "text": [
      "5/5 [==============================] - 0s 3ms/step\n",
      "0.9750000000000001\n",
      "2/2 [==============================] - 0s 10ms/step\n",
      "The presence of tsumego in resblock 0 is 0.8\n",
      "Performing regression for layer 1\n"
     ]
    },
    {
     "name": "stderr",
     "output_type": "stream",
     "text": [
      "2024-02-20 18:56:14.845455: E tensorflow/core/grappler/optimizers/meta_optimizer.cc:954] model_pruner failed: INVALID_ARGUMENT: Graph does not contain terminal node AssignAddVariableOp_2.\n"
     ]
    },
    {
     "name": "stdout",
     "output_type": "stream",
     "text": [
      "5/5 [==============================] - 0s 3ms/step\n",
      "0.9875\n",
      "2/2 [==============================] - 0s 11ms/step\n",
      "The presence of tsumego in resblock 1 is 0.8999999999999999\n",
      "Performing regression for layer 2\n"
     ]
    },
    {
     "name": "stderr",
     "output_type": "stream",
     "text": [
      "2024-02-20 18:56:21.960363: E tensorflow/core/grappler/optimizers/meta_optimizer.cc:954] model_pruner failed: INVALID_ARGUMENT: Graph does not contain terminal node AssignAddVariableOp_2.\n"
     ]
    },
    {
     "name": "stdout",
     "output_type": "stream",
     "text": [
      "5/5 [==============================] - 0s 3ms/step\n",
      "1.0\n",
      "2/2 [==============================] - 0s 10ms/step\n",
      "The presence of tsumego in resblock 2 is 1.0\n",
      "Performing regression for layer 3\n"
     ]
    },
    {
     "name": "stderr",
     "output_type": "stream",
     "text": [
      "2024-02-20 18:56:28.836548: E tensorflow/core/grappler/optimizers/meta_optimizer.cc:954] model_pruner failed: INVALID_ARGUMENT: Graph does not contain terminal node AssignAddVariableOp_2.\n"
     ]
    },
    {
     "name": "stdout",
     "output_type": "stream",
     "text": [
      "5/5 [==============================] - 0s 3ms/step\n",
      "1.0\n",
      "2/2 [==============================] - 0s 13ms/step\n",
      "The presence of tsumego in resblock 3 is 0.95\n",
      "Performing regression for layer 4\n"
     ]
    },
    {
     "name": "stderr",
     "output_type": "stream",
     "text": [
      "2024-02-20 18:56:35.748511: E tensorflow/core/grappler/optimizers/meta_optimizer.cc:954] model_pruner failed: INVALID_ARGUMENT: Graph does not contain terminal node AssignAddVariableOp_2.\n"
     ]
    },
    {
     "name": "stdout",
     "output_type": "stream",
     "text": [
      "5/5 [==============================] - 0s 3ms/step\n",
      "1.0\n",
      "2/2 [==============================] - 0s 9ms/step\n",
      "The presence of tsumego in resblock 4 is 1.0\n",
      "Performing regression for layer 5\n"
     ]
    },
    {
     "name": "stderr",
     "output_type": "stream",
     "text": [
      "2024-02-20 18:56:42.411330: E tensorflow/core/grappler/optimizers/meta_optimizer.cc:954] model_pruner failed: INVALID_ARGUMENT: Graph does not contain terminal node AssignAddVariableOp_2.\n"
     ]
    },
    {
     "name": "stdout",
     "output_type": "stream",
     "text": [
      "5/5 [==============================] - 0s 4ms/step\n",
      "1.0\n",
      "2/2 [==============================] - 0s 10ms/step\n",
      "The presence of tsumego in resblock 5 is 0.75\n",
      "Performing regression for layer 6\n"
     ]
    },
    {
     "name": "stderr",
     "output_type": "stream",
     "text": [
      "2024-02-20 18:56:49.283902: E tensorflow/core/grappler/optimizers/meta_optimizer.cc:954] model_pruner failed: INVALID_ARGUMENT: Graph does not contain terminal node AssignAddVariableOp_2.\n"
     ]
    },
    {
     "name": "stdout",
     "output_type": "stream",
     "text": [
      "5/5 [==============================] - 0s 3ms/step\n",
      "1.0\n",
      "2/2 [==============================] - 0s 11ms/step\n",
      "The presence of tsumego in resblock 6 is 0.95\n",
      "Performing regression for layer 7\n"
     ]
    },
    {
     "name": "stderr",
     "output_type": "stream",
     "text": [
      "2024-02-20 18:56:56.135299: E tensorflow/core/grappler/optimizers/meta_optimizer.cc:954] model_pruner failed: INVALID_ARGUMENT: Graph does not contain terminal node AssignAddVariableOp_2.\n"
     ]
    },
    {
     "name": "stdout",
     "output_type": "stream",
     "text": [
      "5/5 [==============================] - 0s 3ms/step\n",
      "0.2124999999999999\n",
      "2/2 [==============================] - 0s 10ms/step\n"
     ]
    },
    {
     "name": "stderr",
     "output_type": "stream",
     "text": [
      "Epochs:  83%|████████▎ | 5/6 [04:31<00:54, 54.94s/it]"
     ]
    },
    {
     "name": "stdout",
     "output_type": "stream",
     "text": [
      "The presence of tsumego in resblock 7 is 0.050000000000000044\n"
     ]
    },
    {
     "name": "stderr",
     "output_type": "stream",
     "text": [
      "Getting activation outputs: 100%|██████████| 7/7 [00:00<00:00, 35.98it/s]\n"
     ]
    },
    {
     "name": "stdout",
     "output_type": "stream",
     "text": [
      "Performing regression for layer 0\n"
     ]
    },
    {
     "name": "stderr",
     "output_type": "stream",
     "text": [
      "2024-02-20 18:57:04.911938: E tensorflow/core/grappler/optimizers/meta_optimizer.cc:954] model_pruner failed: INVALID_ARGUMENT: Graph does not contain terminal node AssignAddVariableOp_2.\n"
     ]
    },
    {
     "name": "stdout",
     "output_type": "stream",
     "text": [
      "5/5 [==============================] - 0s 3ms/step\n",
      "0.9875\n",
      "2/2 [==============================] - 0s 10ms/step\n",
      "The presence of tsumego in resblock 0 is 0.8999999999999999\n",
      "Performing regression for layer 1\n"
     ]
    },
    {
     "name": "stderr",
     "output_type": "stream",
     "text": [
      "2024-02-20 18:57:11.793115: E tensorflow/core/grappler/optimizers/meta_optimizer.cc:954] model_pruner failed: INVALID_ARGUMENT: Graph does not contain terminal node AssignAddVariableOp_2.\n"
     ]
    },
    {
     "name": "stdout",
     "output_type": "stream",
     "text": [
      "5/5 [==============================] - 0s 3ms/step\n",
      "1.0\n",
      "2/2 [==============================] - 0s 9ms/step\n",
      "The presence of tsumego in resblock 1 is 0.75\n",
      "Performing regression for layer 2\n"
     ]
    },
    {
     "name": "stderr",
     "output_type": "stream",
     "text": [
      "2024-02-20 18:57:18.486201: E tensorflow/core/grappler/optimizers/meta_optimizer.cc:954] model_pruner failed: INVALID_ARGUMENT: Graph does not contain terminal node AssignAddVariableOp_2.\n"
     ]
    },
    {
     "name": "stdout",
     "output_type": "stream",
     "text": [
      "5/5 [==============================] - 0s 4ms/step\n",
      "1.0\n",
      "2/2 [==============================] - 0s 9ms/step\n",
      "The presence of tsumego in resblock 2 is 0.8\n",
      "Performing regression for layer 3\n"
     ]
    },
    {
     "name": "stderr",
     "output_type": "stream",
     "text": [
      "2024-02-20 18:57:25.451319: E tensorflow/core/grappler/optimizers/meta_optimizer.cc:954] model_pruner failed: INVALID_ARGUMENT: Graph does not contain terminal node AssignAddVariableOp_2.\n"
     ]
    },
    {
     "name": "stdout",
     "output_type": "stream",
     "text": [
      "5/5 [==============================] - 0s 3ms/step\n",
      "1.0\n",
      "2/2 [==============================] - 0s 10ms/step\n",
      "The presence of tsumego in resblock 3 is 0.8\n",
      "Performing regression for layer 4\n"
     ]
    },
    {
     "name": "stderr",
     "output_type": "stream",
     "text": [
      "2024-02-20 18:57:32.545684: E tensorflow/core/grappler/optimizers/meta_optimizer.cc:954] model_pruner failed: INVALID_ARGUMENT: Graph does not contain terminal node AssignAddVariableOp_2.\n"
     ]
    },
    {
     "name": "stdout",
     "output_type": "stream",
     "text": [
      "5/5 [==============================] - 0s 3ms/step\n",
      "1.0\n",
      "2/2 [==============================] - 0s 10ms/step\n",
      "The presence of tsumego in resblock 4 is 0.75\n",
      "Performing regression for layer 5\n"
     ]
    },
    {
     "name": "stderr",
     "output_type": "stream",
     "text": [
      "2024-02-20 18:57:39.475500: E tensorflow/core/grappler/optimizers/meta_optimizer.cc:954] model_pruner failed: INVALID_ARGUMENT: Graph does not contain terminal node AssignAddVariableOp_2.\n"
     ]
    },
    {
     "name": "stdout",
     "output_type": "stream",
     "text": [
      "5/5 [==============================] - 0s 6ms/step\n",
      "1.0\n",
      "2/2 [==============================] - 0s 17ms/step\n",
      "The presence of tsumego in resblock 5 is 0.75\n",
      "Performing regression for layer 6\n"
     ]
    },
    {
     "name": "stderr",
     "output_type": "stream",
     "text": [
      "2024-02-20 18:57:47.262494: E tensorflow/core/grappler/optimizers/meta_optimizer.cc:954] model_pruner failed: INVALID_ARGUMENT: Graph does not contain terminal node AssignAddVariableOp_2.\n"
     ]
    },
    {
     "name": "stdout",
     "output_type": "stream",
     "text": [
      "5/5 [==============================] - 0s 10ms/step\n",
      "0.9750000000000001\n",
      "2/2 [==============================] - 0s 15ms/step\n",
      "The presence of tsumego in resblock 6 is 0.8500000000000001\n",
      "Performing regression for layer 7\n"
     ]
    },
    {
     "name": "stderr",
     "output_type": "stream",
     "text": [
      "2024-02-20 18:57:56.131338: E tensorflow/core/grappler/optimizers/meta_optimizer.cc:954] model_pruner failed: INVALID_ARGUMENT: Graph does not contain terminal node AssignAddVariableOp_2.\n"
     ]
    },
    {
     "name": "stdout",
     "output_type": "stream",
     "text": [
      "5/5 [==============================] - 0s 3ms/step\n",
      "0.4125000000000001\n",
      "2/2 [==============================] - 0s 11ms/step\n"
     ]
    },
    {
     "name": "stderr",
     "output_type": "stream",
     "text": [
      "Epochs: 100%|██████████| 6/6 [05:33<00:00, 57.19s/it]"
     ]
    },
    {
     "name": "stdout",
     "output_type": "stream",
     "text": [
      "The presence of tsumego in resblock 7 is 0.55\n"
     ]
    }
   ],
   "source": [
    "from tqdm import tqdm\n",
    "epochs_to_look_at = agents_to_sample\n",
    "\n",
    "bar = tqdm(total=len(epochs_to_look_at), desc=\"Epochs\")\n",
    "\n",
    "for epoch in epochs_to_look_at:\n",
    "    path = full_model_path + model_name + \"_\" + str(epoch) + \".keras\"\n",
    "    if resnet:\n",
    "        model = ResNet(board_size, path)\n",
    "    else:\n",
    "        model = ConvNet(board_size, path)\n",
    "\n",
    "    # Will have a length equal to the sum of the numer of rows in the positive and negative cases arrays\n",
    "    # And will contain 1s for positive cases and 0s for negative cases\n",
    "    # Is used as labels/targets for the regression\n",
    "    all_cases = np.concatenate([positive_cases, negative_cases])\n",
    "    all_labels = [1] * positive_cases.shape[0] + [0] * negative_cases.shape[0]\n",
    "    all_labels = np.array(all_labels)\n",
    "    shuffled_indices = np.arange(all_labels.shape[0])\n",
    "\n",
    "    np.random.shuffle(shuffled_indices)\n",
    "\n",
    "    all_cases = all_cases[shuffled_indices]\n",
    "    all_labels = all_labels[shuffled_indices]\n",
    "\n",
    "    concept_presences = {}\n",
    "    \n",
    "    outputs = model.get_all_activation_values(all_cases)\n",
    "\n",
    "    # Merge outputs\n",
    "    merged_outputs = []\n",
    "    for output_batch in outputs:\n",
    "        for i, output_layer in enumerate(output_batch):\n",
    "            if len(merged_outputs) <= i:\n",
    "                merged_outputs.append([])\n",
    "            merged_outputs[i].extend(output_layer)\n",
    "\n",
    "    for i, layer_output in enumerate(merged_outputs):\n",
    "        merged_outputs[i] = np.array(merged_outputs[i])\n",
    "    \n",
    "    outputs = merged_outputs\n",
    "\n",
    "    # Perform regression\n",
    "    concept_presence_per_layer = []\n",
    "    for (i, output) in enumerate(outputs):\n",
    "        points = output.reshape((output.shape[0], np.prod(output.shape[1:])))\n",
    "        # So one has (n, k) samples where n is the number of positions, and k is the total number of activation values in layer i.\n",
    "        print(f\"Performing regression for layer {i}\")\n",
    "        score = linear_regression.perform_regression(\n",
    "            points=points[:POSITIONS_TO_CONSIDER], \n",
    "            targets=all_labels[:POSITIONS_TO_CONSIDER], \n",
    "            validation_points=points[POSITIONS_TO_CONSIDER:], \n",
    "            validation_targets=all_labels[POSITIONS_TO_CONSIDER:], \n",
    "            is_binary=BINARY,\n",
    "            epochs=epochs,\n",
    "            verbose=0\n",
    "        )\n",
    "        score = 0 if score < 0 else score\n",
    "        concept_presence_per_layer.append(score)\n",
    "\n",
    "        print(f\"The presence of {CONCEPT_NAME} in resblock {i} is {score}\")\n",
    "        \n",
    "    concept_presences[CONCEPT_NAME] = concept_presence_per_layer\n",
    "\n",
    "    concept_folder_setup_and_score('static', model_type, board_name, session_name, CONCEPT_NAME, epoch, concept_presence_per_layer)\n",
    "\n",
    "    bar.update()"
   ]
  }
 ],
 "metadata": {
  "kernelspec": {
   "display_name": "go-xai",
   "language": "python",
   "name": "python3"
  },
  "language_info": {
   "codemirror_mode": {
    "name": "ipython",
    "version": 3
   },
   "file_extension": ".py",
   "mimetype": "text/x-python",
   "name": "python",
   "nbconvert_exporter": "python",
   "pygments_lexer": "ipython3",
   "version": "3.8.0"
  }
 },
 "nbformat": 4,
 "nbformat_minor": 2
}
