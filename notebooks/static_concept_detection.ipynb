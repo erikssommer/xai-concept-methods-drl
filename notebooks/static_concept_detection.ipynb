{
 "cells": [
  {
   "cell_type": "markdown",
   "metadata": {},
   "source": [
    "### Notebook for concept detection in neural network"
   ]
  },
  {
   "cell_type": "code",
   "execution_count": 15,
   "metadata": {},
   "outputs": [],
   "source": [
    "%load_ext autoreload\n",
    "%autoreload 2"
   ]
  },
  {
   "cell_type": "code",
   "execution_count": 2,
   "metadata": {},
   "outputs": [],
   "source": [
    "import numpy as np\n",
    "import os\n",
    "import sys\n",
    "\n",
    "sys.path.append(os.path.abspath(os.path.join(os.path.pardir, 'src')))\n",
    "\n",
    "os.environ['TF_CPP_MIN_LOG_LEVEL'] = '2'  # or any {'0', '1', '2'}\n",
    "\n",
    "from concepts import static_concepts, linear_regression, generate_static_concept_datasets\n",
    "from policy import ConvNet, ResNet\n",
    "from utils import concept_folder_setup_and_score\n",
    "\n",
    "import tensorflow as tf\n",
    "\n",
    "# Set memory growth\n",
    "physical_devices = tf.config.list_physical_devices('GPU')\n",
    "tf.config.experimental.set_memory_growth(physical_devices[0], True)\n",
    "\n",
    "reward_function = \"zero_sum\" # \"concept_fn\", \"zero_sum\" or \"jem\"\n",
    "model_name = \"net\"\n",
    "session_name = \"probing\"\n",
    "board_size = 7\n",
    "board_name = f'{board_size}x{board_size}'\n",
    "resnet = True\n",
    "\n",
    "model_type = \"resnet\" if resnet else \"convnet\"\n",
    "\n",
    "agents_to_sample = [0, 10, 50, 100, 300, 500, 600, 800, 1000]\n",
    "\n",
    "full_model_path = f\"../models/saved_sessions/{model_type}/{reward_function}/board_size_{board_size}/{session_name}/\"\n",
    "\n",
    "CONCEPT_FUNC = static_concepts.has_winning_move\n",
    "\n",
    "CONCEPT_NAME = static_concepts.has_winning_move.__name__\n",
    "\n",
    "BINARY = True\n",
    "\n",
    "CASES_TO_SAMPLE = 2500 # 25000\n",
    "\n",
    "SAMPLE_RATIO = 0.8\n",
    "\n",
    "# Load the models\n",
    "def load_model(full_name, model_name, epoch):\n",
    "    model_path = full_name + model_name + \"_\" + str(epoch) + \".keras\"\n",
    "    if resnet:\n",
    "        model = ResNet(board_size, model_path)\n",
    "    else:\n",
    "        model = ConvNet(board_size, model_path)\n",
    "    return model\n",
    "\n",
    "agents = [load_model(full_model_path, model_name, epoch) for epoch in agents_to_sample]"
   ]
  },
  {
   "cell_type": "code",
   "execution_count": 3,
   "metadata": {},
   "outputs": [
    {
     "name": "stderr",
     "output_type": "stream",
     "text": [
      "Positive cases for concept 'has_winning_move':   0%|          | 0/2500 [00:00<?, ?it/s]"
     ]
    },
    {
     "name": "stderr",
     "output_type": "stream",
     "text": [
      "Positive cases for concept 'has_winning_move': 2521it [1:17:58,  1.86s/it]                          \n"
     ]
    }
   ],
   "source": [
    "positive_cases, negative_cases = generate_static_concept_datasets(CASES_TO_SAMPLE, agents, board_size, CONCEPT_FUNC, sample_ratio=SAMPLE_RATIO, binary=BINARY)\n",
    "\n",
    "# Create numpy arrays\n",
    "positive_cases = np.array(positive_cases)\n",
    "negative_cases = np.array(negative_cases)"
   ]
  },
  {
   "cell_type": "code",
   "execution_count": 3,
   "metadata": {},
   "outputs": [
    {
     "name": "stdout",
     "output_type": "stream",
     "text": [
      "Positive cases:  (2500, 5, 7, 7)\n",
      "Negative cases:  (2500, 5, 7, 7)\n"
     ]
    }
   ],
   "source": [
    "# Print shapes\n",
    "print(\"Positive cases: \", positive_cases.shape)\n",
    "print(\"Negative cases: \", negative_cases.shape)"
   ]
  },
  {
   "cell_type": "code",
   "execution_count": 4,
   "metadata": {},
   "outputs": [],
   "source": [
    "# Test if there are any duplicates accross the two sets\n",
    "for i in range(len(positive_cases)):\n",
    "    for j in range(len(negative_cases)):\n",
    "        if np.array_equal(positive_cases[i], negative_cases[j]):\n",
    "            print(\"Duplicate found!\")\n",
    "            print(positive_cases[i])\n",
    "            print(negative_cases[j])\n",
    "            break"
   ]
  },
  {
   "cell_type": "code",
   "execution_count": 5,
   "metadata": {},
   "outputs": [
    {
     "name": "stdout",
     "output_type": "stream",
     "text": [
      "Duplicate count in positive cases:  0\n",
      "Duplicate count in negative:  22\n"
     ]
    }
   ],
   "source": [
    "# Find the number of any duplicates within the positive cases\n",
    "duplicate_count = 0\n",
    "for i in range(len(positive_cases)):\n",
    "    for j in range(i + 1, len(positive_cases)):\n",
    "        if np.array_equal(positive_cases[i], positive_cases[j]):\n",
    "            duplicate_count += 1\n",
    "            break\n",
    "\n",
    "print(\"Duplicate count in positive cases: \", duplicate_count)\n",
    "\n",
    "# Find the number of any duplicates within the negative cases\n",
    "duplicate_count = 0\n",
    "for i in range(len(negative_cases)):\n",
    "    for j in range(i + 1, len(negative_cases)):\n",
    "        if np.array_equal(negative_cases[i], negative_cases[j]):\n",
    "            duplicate_count += 1\n",
    "            break\n",
    "\n",
    "print(\"Duplicate count in negative: \", duplicate_count)"
   ]
  },
  {
   "cell_type": "code",
   "execution_count": null,
   "metadata": {},
   "outputs": [],
   "source": [
    "from env import gogame\n",
    "# Print all the positive cases\n",
    "for i in range(100, 120):\n",
    "    print(f\"Positive case {i}:\")\n",
    "    print(positive_cases[i])\n",
    "    print(gogame.str(positive_cases[i], nn_format=True))\n",
    "    print()"
   ]
  },
  {
   "cell_type": "code",
   "execution_count": 8,
   "metadata": {},
   "outputs": [
    {
     "name": "stdout",
     "output_type": "stream",
     "text": [
      "Positions to consider: 4000\n"
     ]
    }
   ],
   "source": [
    "# Positions to consider are 80% of the total positions\n",
    "if BINARY:\n",
    "    POSITIONS_TO_CONSIDER = int(0.8 * positive_cases.shape[0] * 2)\n",
    "    print(f\"Positions to consider: {POSITIONS_TO_CONSIDER}\")\n",
    "    #POSITIONS_TO_CONSIDER = 4000 #40000\n",
    "    VALIDATION_POSITIONS = 10000 #10000\n",
    "else:\n",
    "    POSITIONS_TO_CONSIDER = int(0.8 * positive_cases.shape[0])\n",
    "    print(f\"Positions to consider: {POSITIONS_TO_CONSIDER}\")\n",
    "    #POSITIONS_TO_CONSIDER = 4000 #40000\n",
    "    VALIDATION_POSITIONS = 10000\n",
    "\n",
    "epochs = 5"
   ]
  },
  {
   "cell_type": "code",
   "execution_count": 7,
   "metadata": {},
   "outputs": [
    {
     "name": "stderr",
     "output_type": "stream",
     "text": [
      "2024-04-24 15:22:45.468159: E tensorflow/core/grappler/optimizers/meta_optimizer.cc:954] model_pruner failed: INVALID_ARGUMENT: Graph does not contain terminal node AssignAddVariableOp_2.\n"
     ]
    },
    {
     "name": "stdout",
     "output_type": "stream",
     "text": [
      "125/125 [==============================] - 4s 19ms/step - loss: 1.0758 - val_loss: 0.9484\n",
      "125/125 [==============================] - 0s 3ms/step\n",
      "-0.10699999999999998\n",
      "32/32 [==============================] - 0s 3ms/step\n",
      "Regression score:  0\n"
     ]
    }
   ],
   "source": [
    "# First test if the concept can be regressed form the inputs\n",
    "name = \"input\"\n",
    "if BINARY:\n",
    "    all_cases = np.concatenate([positive_cases, negative_cases])\n",
    "    all_labels = [1] * positive_cases.shape[0] + [0] * negative_cases.shape[0]\n",
    "else:\n",
    "    all_cases = np.array(positive_cases)\n",
    "    all_labels = negative_cases\n",
    "\n",
    "all_labels = np.array(all_labels)\n",
    "shuffled_indices = np.arange(all_labels.shape[0])\n",
    "\n",
    "np.random.shuffle(shuffled_indices)\n",
    "\n",
    "all_cases = all_cases[shuffled_indices]\n",
    "all_labels = all_labels[shuffled_indices]\n",
    "\n",
    "points = all_cases.reshape(all_cases.shape[0], -1)\n",
    "\n",
    "# Use the regression\n",
    "score = linear_regression.perform_regression(\n",
    "    points=points[:POSITIONS_TO_CONSIDER], \n",
    "    targets=all_labels[:POSITIONS_TO_CONSIDER], \n",
    "    validation_points=points[POSITIONS_TO_CONSIDER:], \n",
    "    validation_targets=all_labels[POSITIONS_TO_CONSIDER:], \n",
    "    is_binary=BINARY,\n",
    "    epochs=epochs,\n",
    "    verbose=1\n",
    ")\n",
    "\n",
    "score = 0 if score < 0 else score\n",
    "\n",
    "print(\"Regression score: \", score)\n",
    "\n",
    "concept_folder_setup_and_score('static', model_type, board_name, session_name, CONCEPT_NAME, name, score)"
   ]
  },
  {
   "cell_type": "code",
   "execution_count": 9,
   "metadata": {},
   "outputs": [
    {
     "name": "stderr",
     "output_type": "stream",
     "text": [
      "Getting activation outputs: 100%|██████████| 157/157 [00:05<00:00, 28.59it/s]\n"
     ]
    },
    {
     "name": "stdout",
     "output_type": "stream",
     "text": [
      "Performing regression for layer 0\n",
      "Epoch 1/5\n"
     ]
    },
    {
     "name": "stderr",
     "output_type": "stream",
     "text": [
      "2024-04-24 15:23:08.058394: E tensorflow/core/grappler/optimizers/meta_optimizer.cc:954] model_pruner failed: INVALID_ARGUMENT: Graph does not contain terminal node AssignAddVariableOp_2.\n"
     ]
    },
    {
     "name": "stdout",
     "output_type": "stream",
     "text": [
      "125/125 [==============================] - 3s 20ms/step - loss: 1.2887 - val_loss: 1.1022\n",
      "Epoch 2/5\n",
      "125/125 [==============================] - 2s 17ms/step - loss: 0.9575 - val_loss: 0.8400\n",
      "Epoch 3/5\n",
      "125/125 [==============================] - 2s 17ms/step - loss: 0.7579 - val_loss: 0.7016\n",
      "Epoch 4/5\n",
      "125/125 [==============================] - 2s 17ms/step - loss: 0.6750 - val_loss: 0.6652\n",
      "Epoch 5/5\n",
      "125/125 [==============================] - 2s 16ms/step - loss: 0.6544 - val_loss: 0.6534\n",
      "125/125 [==============================] - 0s 3ms/step\n",
      "0.6225\n",
      "32/32 [==============================] - 0s 3ms/step\n",
      "The presence of has_winning_move in resblock 0 is 0.6220000000000001\n",
      "Performing regression for layer 1\n",
      "Epoch 1/5\n"
     ]
    },
    {
     "name": "stderr",
     "output_type": "stream",
     "text": [
      "2024-04-24 15:23:20.198767: E tensorflow/core/grappler/optimizers/meta_optimizer.cc:954] model_pruner failed: INVALID_ARGUMENT: Graph does not contain terminal node AssignAddVariableOp_2.\n"
     ]
    },
    {
     "name": "stdout",
     "output_type": "stream",
     "text": [
      "125/125 [==============================] - 3s 18ms/step - loss: 1.2913 - val_loss: 1.0988\n",
      "Epoch 2/5\n",
      "125/125 [==============================] - 2s 17ms/step - loss: 0.9515 - val_loss: 0.8314\n",
      "Epoch 3/5\n",
      "125/125 [==============================] - 2s 16ms/step - loss: 0.7564 - val_loss: 0.7108\n",
      "Epoch 4/5\n",
      "125/125 [==============================] - 2s 17ms/step - loss: 0.6949 - val_loss: 0.6903\n",
      "Epoch 5/5\n",
      "125/125 [==============================] - 2s 16ms/step - loss: 0.6851 - val_loss: 0.6856\n",
      "125/125 [==============================] - 0s 2ms/step\n",
      "0.08400000000000007\n",
      "32/32 [==============================] - 0s 3ms/step\n",
      "The presence of has_winning_move in resblock 1 is 0.07200000000000006\n",
      "Performing regression for layer 2\n",
      "Epoch 1/5\n"
     ]
    },
    {
     "name": "stderr",
     "output_type": "stream",
     "text": [
      "2024-04-24 15:23:31.979421: E tensorflow/core/grappler/optimizers/meta_optimizer.cc:954] model_pruner failed: INVALID_ARGUMENT: Graph does not contain terminal node AssignAddVariableOp_2.\n"
     ]
    },
    {
     "name": "stdout",
     "output_type": "stream",
     "text": [
      "125/125 [==============================] - 3s 19ms/step - loss: 1.3133 - val_loss: 1.1311\n",
      "Epoch 2/5\n",
      "125/125 [==============================] - 2s 16ms/step - loss: 0.9892 - val_loss: 0.8734\n",
      "Epoch 3/5\n",
      "125/125 [==============================] - 2s 16ms/step - loss: 0.7870 - val_loss: 0.7255\n",
      "Epoch 4/5\n",
      "125/125 [==============================] - 2s 15ms/step - loss: 0.6929 - val_loss: 0.6766\n",
      "Epoch 5/5\n",
      "125/125 [==============================] - 2s 15ms/step - loss: 0.6645 - val_loss: 0.6611\n",
      "125/125 [==============================] - 0s 3ms/step\n",
      "0.6599999999999999\n",
      "32/32 [==============================] - 0s 3ms/step\n",
      "The presence of has_winning_move in resblock 2 is 0.6659999999999999\n",
      "Performing regression for layer 3\n",
      "Epoch 1/5\n"
     ]
    },
    {
     "name": "stderr",
     "output_type": "stream",
     "text": [
      "2024-04-24 15:23:43.416734: E tensorflow/core/grappler/optimizers/meta_optimizer.cc:954] model_pruner failed: INVALID_ARGUMENT: Graph does not contain terminal node AssignAddVariableOp_2.\n"
     ]
    },
    {
     "name": "stdout",
     "output_type": "stream",
     "text": [
      "125/125 [==============================] - 3s 18ms/step - loss: 1.3037 - val_loss: 1.1138\n",
      "Epoch 2/5\n",
      "125/125 [==============================] - 2s 15ms/step - loss: 0.9667 - val_loss: 0.8466\n",
      "Epoch 3/5\n",
      "125/125 [==============================] - 2s 16ms/step - loss: 0.7672 - val_loss: 0.7166\n",
      "Epoch 4/5\n",
      "125/125 [==============================] - 2s 16ms/step - loss: 0.6962 - val_loss: 0.6887\n",
      "Epoch 5/5\n",
      "125/125 [==============================] - 2s 16ms/step - loss: 0.6819 - val_loss: 0.6824\n",
      "125/125 [==============================] - 0s 2ms/step\n",
      "0.1419999999999999\n",
      "32/32 [==============================] - 0s 3ms/step\n",
      "The presence of has_winning_move in resblock 3 is 0.1299999999999999\n",
      "Performing regression for layer 4\n",
      "Epoch 1/5\n"
     ]
    },
    {
     "name": "stderr",
     "output_type": "stream",
     "text": [
      "2024-04-24 15:23:54.804442: E tensorflow/core/grappler/optimizers/meta_optimizer.cc:954] model_pruner failed: INVALID_ARGUMENT: Graph does not contain terminal node AssignAddVariableOp_2.\n"
     ]
    },
    {
     "name": "stdout",
     "output_type": "stream",
     "text": [
      "125/125 [==============================] - 3s 18ms/step - loss: 1.3041 - val_loss: 1.1284\n",
      "Epoch 2/5\n",
      "125/125 [==============================] - 2s 16ms/step - loss: 0.9896 - val_loss: 0.8741\n",
      "Epoch 3/5\n",
      "125/125 [==============================] - 2s 16ms/step - loss: 0.7905 - val_loss: 0.7318\n",
      "Epoch 4/5\n",
      "125/125 [==============================] - 2s 16ms/step - loss: 0.6963 - val_loss: 0.6778\n",
      "Epoch 5/5\n",
      "125/125 [==============================] - 2s 16ms/step - loss: 0.6631 - val_loss: 0.6561\n",
      "125/125 [==============================] - 0s 3ms/step\n",
      "0.7430000000000001\n",
      "32/32 [==============================] - 0s 3ms/step\n",
      "The presence of has_winning_move in resblock 4 is 0.75\n",
      "Performing regression for layer 5\n",
      "Epoch 1/5\n"
     ]
    },
    {
     "name": "stderr",
     "output_type": "stream",
     "text": [
      "2024-04-24 15:24:06.183104: E tensorflow/core/grappler/optimizers/meta_optimizer.cc:954] model_pruner failed: INVALID_ARGUMENT: Graph does not contain terminal node AssignAddVariableOp_2.\n"
     ]
    },
    {
     "name": "stdout",
     "output_type": "stream",
     "text": [
      "125/125 [==============================] - 3s 19ms/step - loss: 1.2905 - val_loss: 1.1119\n",
      "Epoch 2/5\n",
      "125/125 [==============================] - 2s 15ms/step - loss: 0.9758 - val_loss: 0.8642\n",
      "Epoch 3/5\n",
      "125/125 [==============================] - 2s 15ms/step - loss: 0.7867 - val_loss: 0.7355\n",
      "Epoch 4/5\n",
      "125/125 [==============================] - 2s 15ms/step - loss: 0.7121 - val_loss: 0.6999\n",
      "Epoch 5/5\n",
      "125/125 [==============================] - 2s 15ms/step - loss: 0.6906 - val_loss: 0.6890\n",
      "125/125 [==============================] - 0s 2ms/step\n",
      "0.14949999999999997\n",
      "32/32 [==============================] - 0s 3ms/step\n",
      "The presence of has_winning_move in resblock 5 is 0.15799999999999992\n",
      "Performing regression for layer 6\n",
      "Epoch 1/5\n"
     ]
    },
    {
     "name": "stderr",
     "output_type": "stream",
     "text": [
      "2024-04-24 15:24:17.502070: E tensorflow/core/grappler/optimizers/meta_optimizer.cc:954] model_pruner failed: INVALID_ARGUMENT: Graph does not contain terminal node AssignAddVariableOp_2.\n"
     ]
    },
    {
     "name": "stdout",
     "output_type": "stream",
     "text": [
      "125/125 [==============================] - 3s 18ms/step - loss: 0.7389 - val_loss: 0.7422\n",
      "Epoch 2/5\n",
      "125/125 [==============================] - 2s 16ms/step - loss: 0.7359 - val_loss: 0.7392\n",
      "Epoch 3/5\n",
      "125/125 [==============================] - 2s 15ms/step - loss: 0.7331 - val_loss: 0.7363\n",
      "Epoch 4/5\n",
      "125/125 [==============================] - 2s 15ms/step - loss: 0.7303 - val_loss: 0.7335\n",
      "Epoch 5/5\n",
      "125/125 [==============================] - 2s 16ms/step - loss: 0.7277 - val_loss: 0.7310\n",
      "125/125 [==============================] - 0s 2ms/step\n",
      "0.22399999999999998\n",
      "32/32 [==============================] - 0s 3ms/step\n",
      "The presence of has_winning_move in resblock 6 is 0.16999999999999993\n",
      "Performing regression for layer 7\n",
      "Epoch 1/5\n"
     ]
    },
    {
     "name": "stderr",
     "output_type": "stream",
     "text": [
      "2024-04-24 15:24:28.718982: E tensorflow/core/grappler/optimizers/meta_optimizer.cc:954] model_pruner failed: INVALID_ARGUMENT: Graph does not contain terminal node AssignAddVariableOp_2.\n"
     ]
    },
    {
     "name": "stdout",
     "output_type": "stream",
     "text": [
      "125/125 [==============================] - 3s 20ms/step - loss: 0.8290 - val_loss: 0.8138\n",
      "Epoch 2/5\n",
      "125/125 [==============================] - 2s 17ms/step - loss: 0.8116 - val_loss: 0.8005\n",
      "Epoch 3/5\n",
      "125/125 [==============================] - 2s 19ms/step - loss: 0.7986 - val_loss: 0.7904\n",
      "Epoch 4/5\n",
      "125/125 [==============================] - 2s 19ms/step - loss: 0.7884 - val_loss: 0.7820\n",
      "Epoch 5/5\n",
      "125/125 [==============================] - 2s 17ms/step - loss: 0.7798 - val_loss: 0.7748\n",
      "125/125 [==============================] - 0s 3ms/step\n",
      "0.034499999999999975\n",
      "32/32 [==============================] - 0s 3ms/step\n"
     ]
    },
    {
     "name": "stderr",
     "output_type": "stream",
     "text": [
      "Epochs:  11%|█         | 1/9 [01:39<13:19, 99.99s/it]"
     ]
    },
    {
     "name": "stdout",
     "output_type": "stream",
     "text": [
      "The presence of has_winning_move in resblock 7 is 0.016000000000000014\n"
     ]
    },
    {
     "name": "stderr",
     "output_type": "stream",
     "text": [
      "Getting activation outputs: 100%|██████████| 157/157 [00:05<00:00, 31.40it/s]\n"
     ]
    },
    {
     "name": "stdout",
     "output_type": "stream",
     "text": [
      "Performing regression for layer 0\n",
      "Epoch 1/5\n"
     ]
    },
    {
     "name": "stderr",
     "output_type": "stream",
     "text": [
      "2024-04-24 15:24:47.526381: E tensorflow/core/grappler/optimizers/meta_optimizer.cc:954] model_pruner failed: INVALID_ARGUMENT: Graph does not contain terminal node AssignAddVariableOp_2.\n"
     ]
    },
    {
     "name": "stdout",
     "output_type": "stream",
     "text": [
      "125/125 [==============================] - 3s 20ms/step - loss: 1.2887 - val_loss: 1.0955\n",
      "Epoch 2/5\n",
      "125/125 [==============================] - 2s 19ms/step - loss: 0.9592 - val_loss: 0.8347\n",
      "Epoch 3/5\n",
      "125/125 [==============================] - 2s 17ms/step - loss: 0.7592 - val_loss: 0.6958\n",
      "Epoch 4/5\n",
      "125/125 [==============================] - 2s 17ms/step - loss: 0.6700 - val_loss: 0.6502\n",
      "Epoch 5/5\n",
      "125/125 [==============================] - 2s 17ms/step - loss: 0.6435 - val_loss: 0.6352\n",
      "125/125 [==============================] - 0s 3ms/step\n",
      "0.6935\n",
      "32/32 [==============================] - 0s 4ms/step\n",
      "The presence of has_winning_move in resblock 0 is 0.6779999999999999\n",
      "Performing regression for layer 1\n",
      "Epoch 1/5\n"
     ]
    },
    {
     "name": "stderr",
     "output_type": "stream",
     "text": [
      "2024-04-24 15:25:01.255309: E tensorflow/core/grappler/optimizers/meta_optimizer.cc:954] model_pruner failed: INVALID_ARGUMENT: Graph does not contain terminal node AssignAddVariableOp_2.\n"
     ]
    },
    {
     "name": "stdout",
     "output_type": "stream",
     "text": [
      "125/125 [==============================] - 3s 20ms/step - loss: 1.2875 - val_loss: 1.0930\n",
      "Epoch 2/5\n",
      "125/125 [==============================] - 2s 17ms/step - loss: 0.9575 - val_loss: 0.8335\n",
      "Epoch 3/5\n",
      "125/125 [==============================] - 2s 18ms/step - loss: 0.7621 - val_loss: 0.7047\n",
      "Epoch 4/5\n",
      "125/125 [==============================] - 2s 18ms/step - loss: 0.6887 - val_loss: 0.6734\n",
      "Epoch 5/5\n",
      "125/125 [==============================] - 2s 17ms/step - loss: 0.6705 - val_loss: 0.6621\n",
      "125/125 [==============================] - 0s 3ms/step\n",
      "0.5885\n",
      "32/32 [==============================] - 0s 3ms/step\n",
      "The presence of has_winning_move in resblock 1 is 0.6000000000000001\n",
      "Performing regression for layer 2\n",
      "Epoch 1/5\n"
     ]
    },
    {
     "name": "stderr",
     "output_type": "stream",
     "text": [
      "2024-04-24 15:25:13.709049: E tensorflow/core/grappler/optimizers/meta_optimizer.cc:954] model_pruner failed: INVALID_ARGUMENT: Graph does not contain terminal node AssignAddVariableOp_2.\n"
     ]
    },
    {
     "name": "stdout",
     "output_type": "stream",
     "text": [
      "125/125 [==============================] - 3s 20ms/step - loss: 1.3017 - val_loss: 1.1175\n",
      "Epoch 2/5\n",
      "125/125 [==============================] - 2s 16ms/step - loss: 0.9878 - val_loss: 0.8675\n",
      "Epoch 3/5\n",
      "125/125 [==============================] - 5s 38ms/step - loss: 0.7868 - val_loss: 0.7192\n",
      "Epoch 4/5\n",
      "125/125 [==============================] - 3s 27ms/step - loss: 0.6873 - val_loss: 0.6634\n",
      "Epoch 5/5\n",
      "125/125 [==============================] - 2s 16ms/step - loss: 0.6507 - val_loss: 0.6412\n",
      "125/125 [==============================] - 0s 3ms/step\n",
      "0.7535000000000001\n",
      "32/32 [==============================] - 0s 3ms/step\n",
      "The presence of has_winning_move in resblock 2 is 0.742\n",
      "Performing regression for layer 3\n",
      "Epoch 1/5\n"
     ]
    },
    {
     "name": "stderr",
     "output_type": "stream",
     "text": [
      "2024-04-24 15:25:29.813677: E tensorflow/core/grappler/optimizers/meta_optimizer.cc:954] model_pruner failed: INVALID_ARGUMENT: Graph does not contain terminal node AssignAddVariableOp_2.\n"
     ]
    },
    {
     "name": "stdout",
     "output_type": "stream",
     "text": [
      "125/125 [==============================] - 3s 18ms/step - loss: 1.3102 - val_loss: 1.1256\n",
      "Epoch 2/5\n",
      "125/125 [==============================] - 2s 15ms/step - loss: 0.9960 - val_loss: 0.8721\n",
      "Epoch 3/5\n",
      "125/125 [==============================] - 2s 15ms/step - loss: 0.7986 - val_loss: 0.7370\n",
      "Epoch 4/5\n",
      "125/125 [==============================] - 2s 15ms/step - loss: 0.7155 - val_loss: 0.6963\n",
      "Epoch 5/5\n",
      "125/125 [==============================] - 2s 15ms/step - loss: 0.6906 - val_loss: 0.6811\n",
      "125/125 [==============================] - 0s 2ms/step\n",
      "0.3425\n",
      "32/32 [==============================] - 0s 3ms/step\n",
      "The presence of has_winning_move in resblock 3 is 0.3919999999999999\n",
      "Performing regression for layer 4\n",
      "Epoch 1/5\n"
     ]
    },
    {
     "name": "stderr",
     "output_type": "stream",
     "text": [
      "2024-04-24 15:25:40.903771: E tensorflow/core/grappler/optimizers/meta_optimizer.cc:954] model_pruner failed: INVALID_ARGUMENT: Graph does not contain terminal node AssignAddVariableOp_2.\n"
     ]
    },
    {
     "name": "stdout",
     "output_type": "stream",
     "text": [
      "125/125 [==============================] - 3s 18ms/step - loss: 1.3170 - val_loss: 1.1426\n",
      "Epoch 2/5\n",
      "125/125 [==============================] - 2s 15ms/step - loss: 1.0173 - val_loss: 0.9075\n",
      "Epoch 3/5\n",
      "125/125 [==============================] - 2s 15ms/step - loss: 0.8234 - val_loss: 0.7588\n",
      "Epoch 4/5\n",
      "125/125 [==============================] - 2s 15ms/step - loss: 0.7199 - val_loss: 0.6935\n",
      "Epoch 5/5\n",
      "125/125 [==============================] - 2s 15ms/step - loss: 0.6725 - val_loss: 0.6595\n",
      "125/125 [==============================] - 0s 3ms/step\n",
      "0.7464999999999999\n",
      "32/32 [==============================] - 0s 3ms/step\n",
      "The presence of has_winning_move in resblock 4 is 0.722\n",
      "Performing regression for layer 5\n",
      "Epoch 1/5\n"
     ]
    },
    {
     "name": "stderr",
     "output_type": "stream",
     "text": [
      "2024-04-24 15:25:52.221849: E tensorflow/core/grappler/optimizers/meta_optimizer.cc:954] model_pruner failed: INVALID_ARGUMENT: Graph does not contain terminal node AssignAddVariableOp_2.\n"
     ]
    },
    {
     "name": "stdout",
     "output_type": "stream",
     "text": [
      "125/125 [==============================] - 3s 18ms/step - loss: 1.3356 - val_loss: 1.1600\n",
      "Epoch 2/5\n",
      "125/125 [==============================] - 2s 15ms/step - loss: 1.0342 - val_loss: 0.9149\n",
      "Epoch 3/5\n",
      "125/125 [==============================] - 2s 16ms/step - loss: 0.8351 - val_loss: 0.7672\n",
      "Epoch 4/5\n",
      "125/125 [==============================] - 2s 15ms/step - loss: 0.7366 - val_loss: 0.7104\n",
      "Epoch 5/5\n",
      "125/125 [==============================] - 2s 15ms/step - loss: 0.6995 - val_loss: 0.6868\n",
      "125/125 [==============================] - 0s 2ms/step\n",
      "0.494\n",
      "32/32 [==============================] - 0s 3ms/step\n",
      "The presence of has_winning_move in resblock 5 is 0.502\n",
      "Performing regression for layer 6\n",
      "Epoch 1/5\n"
     ]
    },
    {
     "name": "stderr",
     "output_type": "stream",
     "text": [
      "2024-04-24 15:26:03.336339: E tensorflow/core/grappler/optimizers/meta_optimizer.cc:954] model_pruner failed: INVALID_ARGUMENT: Graph does not contain terminal node AssignAddVariableOp_2.\n"
     ]
    },
    {
     "name": "stdout",
     "output_type": "stream",
     "text": [
      "125/125 [==============================] - 3s 18ms/step - loss: 0.8606 - val_loss: 0.8608\n",
      "Epoch 2/5\n",
      "125/125 [==============================] - 2s 18ms/step - loss: 0.8270 - val_loss: 0.8267\n",
      "Epoch 3/5\n",
      "125/125 [==============================] - 2s 18ms/step - loss: 0.8000 - val_loss: 0.7993\n",
      "Epoch 4/5\n",
      "125/125 [==============================] - 2s 15ms/step - loss: 0.7785 - val_loss: 0.7772\n",
      "Epoch 5/5\n",
      "125/125 [==============================] - 2s 16ms/step - loss: 0.7612 - val_loss: 0.7589\n",
      "125/125 [==============================] - 0s 2ms/step\n",
      "0.0774999999999999\n",
      "32/32 [==============================] - 0s 2ms/step\n",
      "The presence of has_winning_move in resblock 6 is 0.01200000000000001\n",
      "Performing regression for layer 7\n",
      "Epoch 1/5\n"
     ]
    },
    {
     "name": "stderr",
     "output_type": "stream",
     "text": [
      "2024-04-24 15:26:15.037719: E tensorflow/core/grappler/optimizers/meta_optimizer.cc:954] model_pruner failed: INVALID_ARGUMENT: Graph does not contain terminal node AssignAddVariableOp_2.\n"
     ]
    },
    {
     "name": "stdout",
     "output_type": "stream",
     "text": [
      "125/125 [==============================] - 3s 18ms/step - loss: 0.7960 - val_loss: 0.7824\n",
      "Epoch 2/5\n",
      "125/125 [==============================] - 2s 15ms/step - loss: 0.7822 - val_loss: 0.7735\n",
      "Epoch 3/5\n",
      "125/125 [==============================] - 2s 15ms/step - loss: 0.7723 - val_loss: 0.7651\n",
      "Epoch 4/5\n",
      "125/125 [==============================] - 2s 17ms/step - loss: 0.7634 - val_loss: 0.7571\n",
      "Epoch 5/5\n",
      "125/125 [==============================] - 15s 118ms/step - loss: 0.7550 - val_loss: 0.7491\n",
      "125/125 [==============================] - 1s 4ms/step\n",
      "0.2875000000000001\n",
      "32/32 [==============================] - 0s 4ms/step\n"
     ]
    },
    {
     "name": "stderr",
     "output_type": "stream",
     "text": [
      "Epochs:  22%|██▏       | 2/9 [03:37<12:53, 110.51s/it]"
     ]
    },
    {
     "name": "stdout",
     "output_type": "stream",
     "text": [
      "The presence of has_winning_move in resblock 7 is 0.28200000000000003\n"
     ]
    },
    {
     "name": "stderr",
     "output_type": "stream",
     "text": [
      "Getting activation outputs: 100%|██████████| 157/157 [01:45<00:00,  1.48it/s]\n"
     ]
    },
    {
     "name": "stdout",
     "output_type": "stream",
     "text": [
      "Performing regression for layer 0\n",
      "Epoch 1/5\n"
     ]
    },
    {
     "name": "stderr",
     "output_type": "stream",
     "text": [
      "2024-04-24 15:28:28.533705: E tensorflow/core/grappler/optimizers/meta_optimizer.cc:954] model_pruner failed: INVALID_ARGUMENT: Graph does not contain terminal node AssignAddVariableOp_2.\n"
     ]
    },
    {
     "name": "stdout",
     "output_type": "stream",
     "text": [
      "125/125 [==============================] - 12s 81ms/step - loss: 1.3045 - val_loss: 1.1174\n",
      "Epoch 2/5\n",
      "125/125 [==============================] - 3s 22ms/step - loss: 0.9861 - val_loss: 0.8671\n",
      "Epoch 3/5\n",
      "125/125 [==============================] - 2s 17ms/step - loss: 0.7869 - val_loss: 0.7199\n",
      "Epoch 4/5\n",
      "125/125 [==============================] - 2s 16ms/step - loss: 0.6859 - val_loss: 0.6635\n",
      "Epoch 5/5\n",
      "125/125 [==============================] - 2s 15ms/step - loss: 0.6492 - val_loss: 0.6392\n",
      "125/125 [==============================] - 0s 3ms/step\n",
      "0.7084999999999999\n",
      "32/32 [==============================] - 0s 3ms/step\n",
      "The presence of has_winning_move in resblock 0 is 0.704\n",
      "Performing regression for layer 1\n",
      "Epoch 1/5\n"
     ]
    },
    {
     "name": "stderr",
     "output_type": "stream",
     "text": [
      "2024-04-24 15:28:49.409301: E tensorflow/core/grappler/optimizers/meta_optimizer.cc:954] model_pruner failed: INVALID_ARGUMENT: Graph does not contain terminal node AssignAddVariableOp_2.\n"
     ]
    },
    {
     "name": "stdout",
     "output_type": "stream",
     "text": [
      "125/125 [==============================] - 3s 21ms/step - loss: 1.3078 - val_loss: 1.1141\n",
      "Epoch 2/5\n",
      "125/125 [==============================] - 2s 16ms/step - loss: 0.9823 - val_loss: 0.8608\n",
      "Epoch 3/5\n",
      "125/125 [==============================] - 2s 17ms/step - loss: 0.7850 - val_loss: 0.7223\n",
      "Epoch 4/5\n",
      "125/125 [==============================] - 2s 17ms/step - loss: 0.6982 - val_loss: 0.6793\n",
      "Epoch 5/5\n",
      "125/125 [==============================] - 2s 17ms/step - loss: 0.6691 - val_loss: 0.6611\n",
      "125/125 [==============================] - 0s 3ms/step\n",
      "0.7224999999999999\n",
      "32/32 [==============================] - 0s 3ms/step\n",
      "The presence of has_winning_move in resblock 1 is 0.726\n",
      "Performing regression for layer 2\n",
      "Epoch 1/5\n"
     ]
    },
    {
     "name": "stderr",
     "output_type": "stream",
     "text": [
      "2024-04-24 15:29:01.765918: E tensorflow/core/grappler/optimizers/meta_optimizer.cc:954] model_pruner failed: INVALID_ARGUMENT: Graph does not contain terminal node AssignAddVariableOp_2.\n"
     ]
    },
    {
     "name": "stdout",
     "output_type": "stream",
     "text": [
      "125/125 [==============================] - 3s 20ms/step - loss: 1.3135 - val_loss: 1.1310\n",
      "Epoch 2/5\n",
      "125/125 [==============================] - 2s 18ms/step - loss: 0.9977 - val_loss: 0.8780\n",
      "Epoch 3/5\n",
      "125/125 [==============================] - 2s 19ms/step - loss: 0.7929 - val_loss: 0.7251\n",
      "Epoch 4/5\n",
      "125/125 [==============================] - 2s 18ms/step - loss: 0.6884 - val_loss: 0.6608\n",
      "Epoch 5/5\n",
      "125/125 [==============================] - 2s 17ms/step - loss: 0.6448 - val_loss: 0.6308\n",
      "125/125 [==============================] - 1s 4ms/step\n",
      "0.7430000000000001\n",
      "32/32 [==============================] - 0s 3ms/step\n",
      "The presence of has_winning_move in resblock 2 is 0.748\n",
      "Performing regression for layer 3\n",
      "Epoch 1/5\n"
     ]
    },
    {
     "name": "stderr",
     "output_type": "stream",
     "text": [
      "2024-04-24 15:29:14.956205: E tensorflow/core/grappler/optimizers/meta_optimizer.cc:954] model_pruner failed: INVALID_ARGUMENT: Graph does not contain terminal node AssignAddVariableOp_2.\n"
     ]
    },
    {
     "name": "stdout",
     "output_type": "stream",
     "text": [
      "125/125 [==============================] - 3s 21ms/step - loss: 1.3063 - val_loss: 1.1171\n",
      "Epoch 2/5\n",
      "125/125 [==============================] - 2s 16ms/step - loss: 0.9815 - val_loss: 0.8540\n",
      "Epoch 3/5\n",
      "125/125 [==============================] - 2s 17ms/step - loss: 0.7798 - val_loss: 0.7147\n",
      "Epoch 4/5\n",
      "125/125 [==============================] - 2s 17ms/step - loss: 0.6946 - val_loss: 0.6728\n",
      "Epoch 5/5\n",
      "125/125 [==============================] - 2s 18ms/step - loss: 0.6693 - val_loss: 0.6576\n",
      "125/125 [==============================] - 0s 3ms/step\n",
      "0.6220000000000001\n",
      "32/32 [==============================] - 0s 3ms/step\n",
      "The presence of has_winning_move in resblock 3 is 0.6559999999999999\n",
      "Performing regression for layer 4\n",
      "Epoch 1/5\n"
     ]
    },
    {
     "name": "stderr",
     "output_type": "stream",
     "text": [
      "2024-04-24 15:29:27.495337: E tensorflow/core/grappler/optimizers/meta_optimizer.cc:954] model_pruner failed: INVALID_ARGUMENT: Graph does not contain terminal node AssignAddVariableOp_2.\n"
     ]
    },
    {
     "name": "stdout",
     "output_type": "stream",
     "text": [
      "125/125 [==============================] - 3s 20ms/step - loss: 1.3079 - val_loss: 1.1426\n",
      "Epoch 2/5\n",
      "125/125 [==============================] - 2s 17ms/step - loss: 1.0167 - val_loss: 0.9084\n",
      "Epoch 3/5\n",
      "125/125 [==============================] - 2s 16ms/step - loss: 0.8273 - val_loss: 0.7589\n",
      "Epoch 4/5\n",
      "125/125 [==============================] - 2s 16ms/step - loss: 0.7159 - val_loss: 0.6838\n",
      "Epoch 5/5\n",
      "125/125 [==============================] - 2s 17ms/step - loss: 0.6613 - val_loss: 0.6445\n",
      "125/125 [==============================] - 0s 3ms/step\n",
      "0.7404999999999999\n",
      "32/32 [==============================] - 0s 3ms/step\n",
      "The presence of has_winning_move in resblock 4 is 0.752\n",
      "Performing regression for layer 5\n",
      "Epoch 1/5\n"
     ]
    },
    {
     "name": "stderr",
     "output_type": "stream",
     "text": [
      "2024-04-24 15:29:39.799515: E tensorflow/core/grappler/optimizers/meta_optimizer.cc:954] model_pruner failed: INVALID_ARGUMENT: Graph does not contain terminal node AssignAddVariableOp_2.\n"
     ]
    },
    {
     "name": "stdout",
     "output_type": "stream",
     "text": [
      "125/125 [==============================] - 3s 19ms/step - loss: 1.3311 - val_loss: 1.1524\n",
      "Epoch 2/5\n",
      "125/125 [==============================] - 2s 16ms/step - loss: 1.0191 - val_loss: 0.8941\n",
      "Epoch 3/5\n",
      "125/125 [==============================] - 2s 16ms/step - loss: 0.8128 - val_loss: 0.7420\n",
      "Epoch 4/5\n",
      "125/125 [==============================] - 2s 16ms/step - loss: 0.7073 - val_loss: 0.6773\n",
      "Epoch 5/5\n",
      "125/125 [==============================] - 2s 16ms/step - loss: 0.6641 - val_loss: 0.6493\n",
      "125/125 [==============================] - 0s 3ms/step\n",
      "0.7184999999999999\n",
      "32/32 [==============================] - 0s 3ms/step\n",
      "The presence of has_winning_move in resblock 5 is 0.754\n",
      "Performing regression for layer 6\n",
      "Epoch 1/5\n"
     ]
    },
    {
     "name": "stderr",
     "output_type": "stream",
     "text": [
      "2024-04-24 15:29:51.528455: E tensorflow/core/grappler/optimizers/meta_optimizer.cc:954] model_pruner failed: INVALID_ARGUMENT: Graph does not contain terminal node AssignAddVariableOp_2.\n"
     ]
    },
    {
     "name": "stdout",
     "output_type": "stream",
     "text": [
      "125/125 [==============================] - 3s 20ms/step - loss: 0.7355 - val_loss: 0.7252\n",
      "Epoch 2/5\n",
      "125/125 [==============================] - 2s 16ms/step - loss: 0.7243 - val_loss: 0.7176\n",
      "Epoch 3/5\n",
      "125/125 [==============================] - 2s 16ms/step - loss: 0.7154 - val_loss: 0.7112\n",
      "Epoch 4/5\n",
      "125/125 [==============================] - 2s 16ms/step - loss: 0.7079 - val_loss: 0.7052\n",
      "Epoch 5/5\n",
      "125/125 [==============================] - 2s 16ms/step - loss: 0.7009 - val_loss: 0.6994\n",
      "125/125 [==============================] - 0s 2ms/step\n",
      "0.25249999999999995\n",
      "32/32 [==============================] - 0s 3ms/step\n",
      "The presence of has_winning_move in resblock 6 is 0.25\n",
      "Performing regression for layer 7\n",
      "Epoch 1/5\n"
     ]
    },
    {
     "name": "stderr",
     "output_type": "stream",
     "text": [
      "2024-04-24 15:30:05.985414: E tensorflow/core/grappler/optimizers/meta_optimizer.cc:954] model_pruner failed: INVALID_ARGUMENT: Graph does not contain terminal node AssignAddVariableOp_2.\n"
     ]
    },
    {
     "name": "stdout",
     "output_type": "stream",
     "text": [
      "125/125 [==============================] - 6s 19ms/step - loss: 0.8237 - val_loss: 0.8262\n",
      "Epoch 2/5\n",
      "125/125 [==============================] - 2s 16ms/step - loss: 0.7782 - val_loss: 0.7810\n",
      "Epoch 3/5\n",
      "125/125 [==============================] - 2s 16ms/step - loss: 0.7439 - val_loss: 0.7459\n",
      "Epoch 4/5\n",
      "125/125 [==============================] - 2s 16ms/step - loss: 0.7180 - val_loss: 0.7201\n",
      "Epoch 5/5\n",
      "125/125 [==============================] - 2s 16ms/step - loss: 0.6981 - val_loss: 0.6992\n",
      "125/125 [==============================] - 0s 2ms/step\n",
      "0.6034999999999999\n",
      "32/32 [==============================] - 0s 3ms/step\n"
     ]
    },
    {
     "name": "stderr",
     "output_type": "stream",
     "text": [
      "Epochs:  33%|███▎      | 3/9 [07:16<15:58, 159.73s/it]"
     ]
    },
    {
     "name": "stdout",
     "output_type": "stream",
     "text": [
      "The presence of has_winning_move in resblock 7 is 0.55\n"
     ]
    },
    {
     "name": "stderr",
     "output_type": "stream",
     "text": [
      "Getting activation outputs: 100%|██████████| 157/157 [00:04<00:00, 33.33it/s]\n"
     ]
    },
    {
     "name": "stdout",
     "output_type": "stream",
     "text": [
      "Performing regression for layer 0\n",
      "Epoch 1/5\n"
     ]
    },
    {
     "name": "stderr",
     "output_type": "stream",
     "text": [
      "2024-04-24 15:30:23.353180: E tensorflow/core/grappler/optimizers/meta_optimizer.cc:954] model_pruner failed: INVALID_ARGUMENT: Graph does not contain terminal node AssignAddVariableOp_2.\n"
     ]
    },
    {
     "name": "stdout",
     "output_type": "stream",
     "text": [
      "125/125 [==============================] - 3s 19ms/step - loss: 1.3116 - val_loss: 1.1133\n",
      "Epoch 2/5\n",
      "125/125 [==============================] - 2s 16ms/step - loss: 0.9791 - val_loss: 0.8491\n",
      "Epoch 3/5\n",
      "125/125 [==============================] - 2s 16ms/step - loss: 0.7727 - val_loss: 0.7026\n",
      "Epoch 4/5\n",
      "125/125 [==============================] - 2s 16ms/step - loss: 0.6809 - val_loss: 0.6571\n",
      "Epoch 5/5\n",
      "125/125 [==============================] - 2s 17ms/step - loss: 0.6542 - val_loss: 0.6413\n",
      "125/125 [==============================] - 1s 4ms/step\n",
      "0.6910000000000001\n",
      "32/32 [==============================] - 0s 3ms/step\n",
      "The presence of has_winning_move in resblock 0 is 0.696\n",
      "Performing regression for layer 1\n",
      "Epoch 1/5\n"
     ]
    },
    {
     "name": "stderr",
     "output_type": "stream",
     "text": [
      "2024-04-24 15:30:35.399649: E tensorflow/core/grappler/optimizers/meta_optimizer.cc:954] model_pruner failed: INVALID_ARGUMENT: Graph does not contain terminal node AssignAddVariableOp_2.\n"
     ]
    },
    {
     "name": "stdout",
     "output_type": "stream",
     "text": [
      "125/125 [==============================] - 3s 19ms/step - loss: 1.2885 - val_loss: 1.0894\n",
      "Epoch 2/5\n",
      "125/125 [==============================] - 2s 18ms/step - loss: 0.9560 - val_loss: 0.8277\n",
      "Epoch 3/5\n",
      "125/125 [==============================] - 2s 17ms/step - loss: 0.7502 - val_loss: 0.6757\n",
      "Epoch 4/5\n",
      "125/125 [==============================] - 2s 17ms/step - loss: 0.6479 - val_loss: 0.6197\n",
      "Epoch 5/5\n",
      "125/125 [==============================] - 3s 21ms/step - loss: 0.6119 - val_loss: 0.5962\n",
      "125/125 [==============================] - 0s 3ms/step\n",
      "0.774\n",
      "32/32 [==============================] - 0s 3ms/step\n",
      "The presence of has_winning_move in resblock 1 is 0.774\n",
      "Performing regression for layer 2\n",
      "Epoch 1/5\n"
     ]
    },
    {
     "name": "stderr",
     "output_type": "stream",
     "text": [
      "2024-04-24 15:30:48.334371: E tensorflow/core/grappler/optimizers/meta_optimizer.cc:954] model_pruner failed: INVALID_ARGUMENT: Graph does not contain terminal node AssignAddVariableOp_2.\n"
     ]
    },
    {
     "name": "stdout",
     "output_type": "stream",
     "text": [
      "125/125 [==============================] - 4s 23ms/step - loss: 1.3241 - val_loss: 1.1459\n",
      "Epoch 2/5\n",
      "125/125 [==============================] - 2s 17ms/step - loss: 1.0199 - val_loss: 0.9109\n",
      "Epoch 3/5\n",
      "125/125 [==============================] - 2s 18ms/step - loss: 0.8234 - val_loss: 0.7501\n",
      "Epoch 4/5\n",
      "125/125 [==============================] - 2s 20ms/step - loss: 0.6994 - val_loss: 0.6569\n",
      "Epoch 5/5\n",
      "125/125 [==============================] - 2s 19ms/step - loss: 0.6316 - val_loss: 0.6079\n",
      "125/125 [==============================] - 1s 5ms/step\n",
      "0.8180000000000001\n",
      "32/32 [==============================] - 0s 3ms/step\n",
      "The presence of has_winning_move in resblock 2 is 0.806\n",
      "Performing regression for layer 3\n",
      "Epoch 1/5\n"
     ]
    },
    {
     "name": "stderr",
     "output_type": "stream",
     "text": [
      "2024-04-24 15:31:02.168341: E tensorflow/core/grappler/optimizers/meta_optimizer.cc:954] model_pruner failed: INVALID_ARGUMENT: Graph does not contain terminal node AssignAddVariableOp_2.\n"
     ]
    },
    {
     "name": "stdout",
     "output_type": "stream",
     "text": [
      "125/125 [==============================] - 3s 20ms/step - loss: 1.3177 - val_loss: 1.1738\n",
      "Epoch 2/5\n",
      "125/125 [==============================] - 2s 17ms/step - loss: 1.0483 - val_loss: 0.9466\n",
      "Epoch 3/5\n",
      "125/125 [==============================] - 2s 17ms/step - loss: 0.8681 - val_loss: 0.8005\n",
      "Epoch 4/5\n",
      "125/125 [==============================] - 2s 18ms/step - loss: 0.7498 - val_loss: 0.7088\n",
      "Epoch 5/5\n",
      "125/125 [==============================] - 2s 17ms/step - loss: 0.6801 - val_loss: 0.6562\n",
      "125/125 [==============================] - 0s 3ms/step\n",
      "0.8154999999999999\n",
      "32/32 [==============================] - 0s 3ms/step\n",
      "The presence of has_winning_move in resblock 3 is 0.8140000000000001\n",
      "Performing regression for layer 4\n",
      "Epoch 1/5\n"
     ]
    },
    {
     "name": "stderr",
     "output_type": "stream",
     "text": [
      "2024-04-24 15:31:14.723422: E tensorflow/core/grappler/optimizers/meta_optimizer.cc:954] model_pruner failed: INVALID_ARGUMENT: Graph does not contain terminal node AssignAddVariableOp_2.\n"
     ]
    },
    {
     "name": "stdout",
     "output_type": "stream",
     "text": [
      "125/125 [==============================] - 3s 21ms/step - loss: 1.3462 - val_loss: 1.1809\n",
      "Epoch 2/5\n",
      "125/125 [==============================] - 2s 17ms/step - loss: 1.0840 - val_loss: 0.9940\n",
      "Epoch 3/5\n",
      "125/125 [==============================] - 2s 17ms/step - loss: 0.9270 - val_loss: 0.8637\n",
      "Epoch 4/5\n",
      "125/125 [==============================] - 2s 18ms/step - loss: 0.8160 - val_loss: 0.7677\n",
      "Epoch 5/5\n",
      "125/125 [==============================] - 2s 17ms/step - loss: 0.7326 - val_loss: 0.7040\n",
      "125/125 [==============================] - 0s 3ms/step\n",
      "0.8095000000000001\n",
      "32/32 [==============================] - 0s 3ms/step\n",
      "The presence of has_winning_move in resblock 4 is 0.792\n",
      "Performing regression for layer 5\n",
      "Epoch 1/5\n"
     ]
    },
    {
     "name": "stderr",
     "output_type": "stream",
     "text": [
      "2024-04-24 15:31:27.268255: E tensorflow/core/grappler/optimizers/meta_optimizer.cc:954] model_pruner failed: INVALID_ARGUMENT: Graph does not contain terminal node AssignAddVariableOp_2.\n"
     ]
    },
    {
     "name": "stdout",
     "output_type": "stream",
     "text": [
      "125/125 [==============================] - 3s 20ms/step - loss: 1.3287 - val_loss: 1.1832\n",
      "Epoch 2/5\n",
      "125/125 [==============================] - 2s 19ms/step - loss: 1.0773 - val_loss: 0.9792\n",
      "Epoch 3/5\n",
      "125/125 [==============================] - 2s 17ms/step - loss: 0.9080 - val_loss: 0.8405\n",
      "Epoch 4/5\n",
      "125/125 [==============================] - 2s 18ms/step - loss: 0.7913 - val_loss: 0.7491\n",
      "Epoch 5/5\n",
      "125/125 [==============================] - 2s 19ms/step - loss: 0.7186 - val_loss: 0.6888\n",
      "125/125 [==============================] - 0s 3ms/step\n",
      "0.7975000000000001\n",
      "32/32 [==============================] - 0s 3ms/step\n",
      "The presence of has_winning_move in resblock 5 is 0.802\n",
      "Performing regression for layer 6\n",
      "Epoch 1/5\n"
     ]
    },
    {
     "name": "stderr",
     "output_type": "stream",
     "text": [
      "2024-04-24 15:31:40.151762: E tensorflow/core/grappler/optimizers/meta_optimizer.cc:954] model_pruner failed: INVALID_ARGUMENT: Graph does not contain terminal node AssignAddVariableOp_2.\n"
     ]
    },
    {
     "name": "stdout",
     "output_type": "stream",
     "text": [
      "125/125 [==============================] - 3s 20ms/step - loss: 0.9389 - val_loss: 0.9016\n",
      "Epoch 2/5\n",
      "125/125 [==============================] - 2s 17ms/step - loss: 0.8971 - val_loss: 0.8690\n",
      "Epoch 3/5\n",
      "125/125 [==============================] - 2s 17ms/step - loss: 0.8758 - val_loss: 0.8498\n",
      "Epoch 4/5\n",
      "125/125 [==============================] - 2s 17ms/step - loss: 0.8597 - val_loss: 0.8333\n",
      "Epoch 5/5\n",
      "125/125 [==============================] - 2s 17ms/step - loss: 0.8452 - val_loss: 0.8196\n",
      "125/125 [==============================] - 0s 3ms/step\n",
      "-0.014499999999999957\n",
      "32/32 [==============================] - 0s 3ms/step\n",
      "The presence of has_winning_move in resblock 6 is 0.006000000000000005\n",
      "Performing regression for layer 7\n",
      "Epoch 1/5\n"
     ]
    },
    {
     "name": "stderr",
     "output_type": "stream",
     "text": [
      "2024-04-24 15:31:52.298069: E tensorflow/core/grappler/optimizers/meta_optimizer.cc:954] model_pruner failed: INVALID_ARGUMENT: Graph does not contain terminal node AssignAddVariableOp_2.\n"
     ]
    },
    {
     "name": "stdout",
     "output_type": "stream",
     "text": [
      "125/125 [==============================] - 3s 20ms/step - loss: 0.9528 - val_loss: 0.8615\n",
      "Epoch 2/5\n",
      "125/125 [==============================] - 2s 16ms/step - loss: 0.8527 - val_loss: 0.8366\n",
      "Epoch 3/5\n",
      "125/125 [==============================] - 2s 17ms/step - loss: 0.8339 - val_loss: 0.8341\n",
      "Epoch 4/5\n",
      "125/125 [==============================] - 2s 17ms/step - loss: 0.8284 - val_loss: 0.8285\n",
      "Epoch 5/5\n",
      "125/125 [==============================] - 2s 18ms/step - loss: 0.8229 - val_loss: 0.8224\n",
      "125/125 [==============================] - 0s 2ms/step\n",
      "-0.0010000000000000009\n",
      "32/32 [==============================] - 0s 3ms/step\n"
     ]
    },
    {
     "name": "stderr",
     "output_type": "stream",
     "text": [
      "Epochs:  44%|████▍     | 4/9 [09:03<11:34, 138.90s/it]"
     ]
    },
    {
     "name": "stdout",
     "output_type": "stream",
     "text": [
      "The presence of has_winning_move in resblock 7 is 0\n"
     ]
    },
    {
     "name": "stderr",
     "output_type": "stream",
     "text": [
      "Getting activation outputs: 100%|██████████| 157/157 [00:05<00:00, 29.81it/s]\n"
     ]
    },
    {
     "name": "stdout",
     "output_type": "stream",
     "text": [
      "Performing regression for layer 0\n",
      "Epoch 1/5\n"
     ]
    },
    {
     "name": "stderr",
     "output_type": "stream",
     "text": [
      "2024-04-24 15:32:10.951190: E tensorflow/core/grappler/optimizers/meta_optimizer.cc:954] model_pruner failed: INVALID_ARGUMENT: Graph does not contain terminal node AssignAddVariableOp_2.\n"
     ]
    },
    {
     "name": "stdout",
     "output_type": "stream",
     "text": [
      "125/125 [==============================] - 3s 21ms/step - loss: 1.2866 - val_loss: 1.1033\n",
      "Epoch 2/5\n",
      "125/125 [==============================] - 2s 18ms/step - loss: 0.9549 - val_loss: 0.8410\n",
      "Epoch 3/5\n",
      "125/125 [==============================] - 2s 18ms/step - loss: 0.7549 - val_loss: 0.7051\n",
      "Epoch 4/5\n",
      "125/125 [==============================] - 2s 19ms/step - loss: 0.6756 - val_loss: 0.6704\n",
      "Epoch 5/5\n",
      "125/125 [==============================] - 2s 18ms/step - loss: 0.6569 - val_loss: 0.6609\n",
      "125/125 [==============================] - 0s 3ms/step\n",
      "0.679\n",
      "32/32 [==============================] - 0s 3ms/step\n",
      "The presence of has_winning_move in resblock 0 is 0.6279999999999999\n",
      "Performing regression for layer 1\n",
      "Epoch 1/5\n"
     ]
    },
    {
     "name": "stderr",
     "output_type": "stream",
     "text": [
      "2024-04-24 15:32:24.217272: E tensorflow/core/grappler/optimizers/meta_optimizer.cc:954] model_pruner failed: INVALID_ARGUMENT: Graph does not contain terminal node AssignAddVariableOp_2.\n"
     ]
    },
    {
     "name": "stdout",
     "output_type": "stream",
     "text": [
      "125/125 [==============================] - 3s 21ms/step - loss: 1.2795 - val_loss: 1.0944\n",
      "Epoch 2/5\n",
      "125/125 [==============================] - 2s 17ms/step - loss: 0.9614 - val_loss: 0.8621\n",
      "Epoch 3/5\n",
      "125/125 [==============================] - 2s 17ms/step - loss: 0.7660 - val_loss: 0.7000\n",
      "Epoch 4/5\n",
      "125/125 [==============================] - 2s 17ms/step - loss: 0.6314 - val_loss: 0.5951\n",
      "Epoch 5/5\n",
      "125/125 [==============================] - 2s 18ms/step - loss: 0.5513 - val_loss: 0.5407\n",
      "125/125 [==============================] - 0s 3ms/step\n",
      "0.8320000000000001\n",
      "32/32 [==============================] - 0s 4ms/step\n",
      "The presence of has_winning_move in resblock 1 is 0.8\n",
      "Performing regression for layer 2\n",
      "Epoch 1/5\n"
     ]
    },
    {
     "name": "stderr",
     "output_type": "stream",
     "text": [
      "2024-04-24 15:32:36.802522: E tensorflow/core/grappler/optimizers/meta_optimizer.cc:954] model_pruner failed: INVALID_ARGUMENT: Graph does not contain terminal node AssignAddVariableOp_2.\n"
     ]
    },
    {
     "name": "stdout",
     "output_type": "stream",
     "text": [
      "125/125 [==============================] - 3s 21ms/step - loss: 1.2486 - val_loss: 1.0854\n",
      "Epoch 2/5\n",
      "125/125 [==============================] - 2s 17ms/step - loss: 0.9651 - val_loss: 0.8885\n",
      "Epoch 3/5\n",
      "125/125 [==============================] - 2s 17ms/step - loss: 0.7968 - val_loss: 0.7445\n",
      "Epoch 4/5\n",
      "125/125 [==============================] - 2s 17ms/step - loss: 0.6727 - val_loss: 0.6386\n",
      "Epoch 5/5\n",
      "125/125 [==============================] - 2s 18ms/step - loss: 0.5854 - val_loss: 0.5690\n",
      "125/125 [==============================] - 0s 3ms/step\n",
      "0.8485\n",
      "32/32 [==============================] - 0s 3ms/step\n",
      "The presence of has_winning_move in resblock 2 is 0.8260000000000001\n",
      "Performing regression for layer 3\n",
      "Epoch 1/5\n"
     ]
    },
    {
     "name": "stderr",
     "output_type": "stream",
     "text": [
      "2024-04-24 15:32:49.500990: E tensorflow/core/grappler/optimizers/meta_optimizer.cc:954] model_pruner failed: INVALID_ARGUMENT: Graph does not contain terminal node AssignAddVariableOp_2.\n"
     ]
    },
    {
     "name": "stdout",
     "output_type": "stream",
     "text": [
      "125/125 [==============================] - 3s 21ms/step - loss: 1.2767 - val_loss: 1.1000\n",
      "Epoch 2/5\n",
      "125/125 [==============================] - 2s 17ms/step - loss: 0.9959 - val_loss: 0.9139\n",
      "Epoch 3/5\n",
      "125/125 [==============================] - 2s 17ms/step - loss: 0.8363 - val_loss: 0.7768\n",
      "Epoch 4/5\n",
      "125/125 [==============================] - 2s 17ms/step - loss: 0.7134 - val_loss: 0.6725\n",
      "Epoch 5/5\n",
      "125/125 [==============================] - 2s 17ms/step - loss: 0.6226 - val_loss: 0.5980\n",
      "125/125 [==============================] - 0s 3ms/step\n",
      "0.8360000000000001\n",
      "32/32 [==============================] - 0s 3ms/step\n",
      "The presence of has_winning_move in resblock 3 is 0.8200000000000001\n",
      "Performing regression for layer 4\n",
      "Epoch 1/5\n"
     ]
    },
    {
     "name": "stderr",
     "output_type": "stream",
     "text": [
      "2024-04-24 15:33:02.105439: E tensorflow/core/grappler/optimizers/meta_optimizer.cc:954] model_pruner failed: INVALID_ARGUMENT: Graph does not contain terminal node AssignAddVariableOp_2.\n"
     ]
    },
    {
     "name": "stdout",
     "output_type": "stream",
     "text": [
      "125/125 [==============================] - 3s 21ms/step - loss: 1.2770 - val_loss: 1.1251\n",
      "Epoch 2/5\n",
      "125/125 [==============================] - 2s 18ms/step - loss: 1.0255 - val_loss: 0.9834\n",
      "Epoch 3/5\n",
      "125/125 [==============================] - 2s 17ms/step - loss: 0.8923 - val_loss: 0.8447\n",
      "Epoch 4/5\n",
      "125/125 [==============================] - 2s 17ms/step - loss: 0.7826 - val_loss: 0.7469\n",
      "Epoch 5/5\n",
      "125/125 [==============================] - 2s 17ms/step - loss: 0.6928 - val_loss: 0.6733\n",
      "125/125 [==============================] - 0s 3ms/step\n",
      "0.8400000000000001\n",
      "32/32 [==============================] - 0s 4ms/step\n",
      "The presence of has_winning_move in resblock 4 is 0.8160000000000001\n",
      "Performing regression for layer 5\n",
      "Epoch 1/5\n"
     ]
    },
    {
     "name": "stderr",
     "output_type": "stream",
     "text": [
      "2024-04-24 15:33:14.791219: E tensorflow/core/grappler/optimizers/meta_optimizer.cc:954] model_pruner failed: INVALID_ARGUMENT: Graph does not contain terminal node AssignAddVariableOp_2.\n"
     ]
    },
    {
     "name": "stdout",
     "output_type": "stream",
     "text": [
      "125/125 [==============================] - 5s 33ms/step - loss: 1.3583 - val_loss: 1.1852\n",
      "Epoch 2/5\n",
      "125/125 [==============================] - 2s 17ms/step - loss: 1.0704 - val_loss: 0.9969\n",
      "Epoch 3/5\n",
      "125/125 [==============================] - 2s 18ms/step - loss: 0.9151 - val_loss: 0.8652\n",
      "Epoch 4/5\n",
      "125/125 [==============================] - 2s 18ms/step - loss: 0.7978 - val_loss: 0.7619\n",
      "Epoch 5/5\n",
      "125/125 [==============================] - 2s 17ms/step - loss: 0.7075 - val_loss: 0.6892\n",
      "125/125 [==============================] - 1s 6ms/step\n",
      "0.8234999999999999\n",
      "32/32 [==============================] - 0s 5ms/step\n",
      "The presence of has_winning_move in resblock 5 is 0.788\n",
      "Performing regression for layer 6\n",
      "Epoch 1/5\n"
     ]
    },
    {
     "name": "stderr",
     "output_type": "stream",
     "text": [
      "2024-04-24 15:33:29.657638: E tensorflow/core/grappler/optimizers/meta_optimizer.cc:954] model_pruner failed: INVALID_ARGUMENT: Graph does not contain terminal node AssignAddVariableOp_2.\n"
     ]
    },
    {
     "name": "stdout",
     "output_type": "stream",
     "text": [
      "125/125 [==============================] - 4s 23ms/step - loss: 1.5986 - val_loss: 1.4818\n",
      "Epoch 2/5\n",
      "125/125 [==============================] - 2s 18ms/step - loss: 1.4672 - val_loss: 1.3821\n",
      "Epoch 3/5\n",
      "125/125 [==============================] - 2s 17ms/step - loss: 1.3797 - val_loss: 1.3124\n",
      "Epoch 4/5\n",
      "125/125 [==============================] - 2s 18ms/step - loss: 1.3152 - val_loss: 1.2577\n",
      "Epoch 5/5\n",
      "125/125 [==============================] - 2s 17ms/step - loss: 1.2617 - val_loss: 1.2105\n",
      "125/125 [==============================] - 0s 3ms/step\n",
      "-0.10350000000000004\n",
      "32/32 [==============================] - 0s 3ms/step\n",
      "The presence of has_winning_move in resblock 6 is 0\n",
      "Performing regression for layer 7\n",
      "Epoch 1/5\n"
     ]
    },
    {
     "name": "stderr",
     "output_type": "stream",
     "text": [
      "2024-04-24 15:33:42.591820: E tensorflow/core/grappler/optimizers/meta_optimizer.cc:954] model_pruner failed: INVALID_ARGUMENT: Graph does not contain terminal node AssignAddVariableOp_2.\n"
     ]
    },
    {
     "name": "stdout",
     "output_type": "stream",
     "text": [
      "125/125 [==============================] - 3s 19ms/step - loss: 1.3716 - val_loss: 1.2251\n",
      "Epoch 2/5\n",
      "125/125 [==============================] - 2s 17ms/step - loss: 1.0644 - val_loss: 1.0163\n",
      "Epoch 3/5\n",
      "125/125 [==============================] - 2s 17ms/step - loss: 0.9575 - val_loss: 0.9520\n",
      "Epoch 4/5\n",
      "125/125 [==============================] - 2s 17ms/step - loss: 0.9242 - val_loss: 0.9244\n",
      "Epoch 5/5\n",
      "125/125 [==============================] - 2s 17ms/step - loss: 0.9047 - val_loss: 0.9047\n",
      "125/125 [==============================] - 0s 3ms/step\n",
      "-0.0695\n",
      "32/32 [==============================] - 0s 6ms/step\n"
     ]
    },
    {
     "name": "stderr",
     "output_type": "stream",
     "text": [
      "Epochs:  56%|█████▌    | 5/9 [10:53<08:34, 128.61s/it]"
     ]
    },
    {
     "name": "stdout",
     "output_type": "stream",
     "text": [
      "The presence of has_winning_move in resblock 7 is 0\n"
     ]
    },
    {
     "name": "stderr",
     "output_type": "stream",
     "text": [
      "Getting activation outputs: 100%|██████████| 157/157 [00:04<00:00, 31.67it/s]\n"
     ]
    },
    {
     "name": "stdout",
     "output_type": "stream",
     "text": [
      "Performing regression for layer 0\n",
      "Epoch 1/5\n"
     ]
    },
    {
     "name": "stderr",
     "output_type": "stream",
     "text": [
      "2024-04-24 15:34:00.991729: E tensorflow/core/grappler/optimizers/meta_optimizer.cc:954] model_pruner failed: INVALID_ARGUMENT: Graph does not contain terminal node AssignAddVariableOp_2.\n"
     ]
    },
    {
     "name": "stdout",
     "output_type": "stream",
     "text": [
      "125/125 [==============================] - 3s 20ms/step - loss: 1.2889 - val_loss: 1.1026\n",
      "Epoch 2/5\n",
      "125/125 [==============================] - 2s 17ms/step - loss: 0.9568 - val_loss: 0.8408\n",
      "Epoch 3/5\n",
      "125/125 [==============================] - 2s 17ms/step - loss: 0.7533 - val_loss: 0.7003\n",
      "Epoch 4/5\n",
      "125/125 [==============================] - 2s 17ms/step - loss: 0.6674 - val_loss: 0.6607\n",
      "Epoch 5/5\n",
      "125/125 [==============================] - 2s 18ms/step - loss: 0.6452 - val_loss: 0.6480\n",
      "125/125 [==============================] - 0s 3ms/step\n",
      "0.772\n",
      "32/32 [==============================] - 0s 3ms/step\n",
      "The presence of has_winning_move in resblock 0 is 0.742\n",
      "Performing regression for layer 1\n",
      "Epoch 1/5\n"
     ]
    },
    {
     "name": "stderr",
     "output_type": "stream",
     "text": [
      "2024-04-24 15:34:13.505392: E tensorflow/core/grappler/optimizers/meta_optimizer.cc:954] model_pruner failed: INVALID_ARGUMENT: Graph does not contain terminal node AssignAddVariableOp_2.\n"
     ]
    },
    {
     "name": "stdout",
     "output_type": "stream",
     "text": [
      "125/125 [==============================] - 3s 20ms/step - loss: 1.1754 - val_loss: 1.0446\n",
      "Epoch 2/5\n",
      "125/125 [==============================] - 2s 17ms/step - loss: 0.9397 - val_loss: 0.8970\n",
      "Epoch 3/5\n",
      "125/125 [==============================] - 2s 17ms/step - loss: 0.8175 - val_loss: 0.7848\n",
      "Epoch 4/5\n",
      "125/125 [==============================] - 2s 17ms/step - loss: 0.7135 - val_loss: 0.6867\n",
      "Epoch 5/5\n",
      "125/125 [==============================] - 2s 17ms/step - loss: 0.6206 - val_loss: 0.5999\n",
      "125/125 [==============================] - 0s 3ms/step\n",
      "0.901\n",
      "32/32 [==============================] - 0s 3ms/step\n",
      "The presence of has_winning_move in resblock 1 is 0.8640000000000001\n",
      "Performing regression for layer 2\n",
      "Epoch 1/5\n"
     ]
    },
    {
     "name": "stderr",
     "output_type": "stream",
     "text": [
      "2024-04-24 15:34:25.753514: E tensorflow/core/grappler/optimizers/meta_optimizer.cc:954] model_pruner failed: INVALID_ARGUMENT: Graph does not contain terminal node AssignAddVariableOp_2.\n"
     ]
    },
    {
     "name": "stdout",
     "output_type": "stream",
     "text": [
      "125/125 [==============================] - 3s 20ms/step - loss: 1.2060 - val_loss: 1.0518\n",
      "Epoch 2/5\n",
      "125/125 [==============================] - 2s 17ms/step - loss: 0.9623 - val_loss: 0.9211\n",
      "Epoch 3/5\n",
      "125/125 [==============================] - 2s 17ms/step - loss: 0.8474 - val_loss: 0.8101\n",
      "Epoch 4/5\n",
      "125/125 [==============================] - 2s 17ms/step - loss: 0.7464 - val_loss: 0.7154\n",
      "Epoch 5/5\n",
      "125/125 [==============================] - 2s 17ms/step - loss: 0.6583 - val_loss: 0.6321\n",
      "125/125 [==============================] - 0s 3ms/step\n",
      "0.8945000000000001\n",
      "32/32 [==============================] - 0s 3ms/step\n",
      "The presence of has_winning_move in resblock 2 is 0.8640000000000001\n",
      "Performing regression for layer 3\n",
      "Epoch 1/5\n"
     ]
    },
    {
     "name": "stderr",
     "output_type": "stream",
     "text": [
      "2024-04-24 15:34:38.027150: E tensorflow/core/grappler/optimizers/meta_optimizer.cc:954] model_pruner failed: INVALID_ARGUMENT: Graph does not contain terminal node AssignAddVariableOp_2.\n"
     ]
    },
    {
     "name": "stdout",
     "output_type": "stream",
     "text": [
      "125/125 [==============================] - 3s 20ms/step - loss: 1.2004 - val_loss: 1.0428\n",
      "Epoch 2/5\n",
      "125/125 [==============================] - 2s 18ms/step - loss: 0.9549 - val_loss: 0.9000\n",
      "Epoch 3/5\n",
      "125/125 [==============================] - 2s 17ms/step - loss: 0.8351 - val_loss: 0.7948\n",
      "Epoch 4/5\n",
      "125/125 [==============================] - 2s 17ms/step - loss: 0.7345 - val_loss: 0.7009\n",
      "Epoch 5/5\n",
      "125/125 [==============================] - 2s 17ms/step - loss: 0.6445 - val_loss: 0.6207\n",
      "125/125 [==============================] - 0s 3ms/step\n",
      "0.8795\n",
      "32/32 [==============================] - 0s 3ms/step\n",
      "The presence of has_winning_move in resblock 3 is 0.8540000000000001\n",
      "Performing regression for layer 4\n",
      "Epoch 1/5\n"
     ]
    },
    {
     "name": "stderr",
     "output_type": "stream",
     "text": [
      "2024-04-24 15:34:50.494884: E tensorflow/core/grappler/optimizers/meta_optimizer.cc:954] model_pruner failed: INVALID_ARGUMENT: Graph does not contain terminal node AssignAddVariableOp_2.\n"
     ]
    },
    {
     "name": "stdout",
     "output_type": "stream",
     "text": [
      "125/125 [==============================] - 3s 20ms/step - loss: 1.3149 - val_loss: 1.1367\n",
      "Epoch 2/5\n",
      "125/125 [==============================] - 2s 17ms/step - loss: 1.0288 - val_loss: 1.0112\n",
      "Epoch 3/5\n",
      "125/125 [==============================] - 2s 16ms/step - loss: 0.9330 - val_loss: 0.9289\n",
      "Epoch 4/5\n",
      "125/125 [==============================] - 2s 18ms/step - loss: 0.8572 - val_loss: 0.8523\n",
      "Epoch 5/5\n",
      "125/125 [==============================] - 2s 17ms/step - loss: 0.7900 - val_loss: 0.7930\n",
      "125/125 [==============================] - 0s 3ms/step\n",
      "0.8799999999999999\n",
      "32/32 [==============================] - 0s 3ms/step\n",
      "The presence of has_winning_move in resblock 4 is 0.8180000000000001\n",
      "Performing regression for layer 5\n",
      "Epoch 1/5\n"
     ]
    },
    {
     "name": "stderr",
     "output_type": "stream",
     "text": [
      "2024-04-24 15:35:02.793957: E tensorflow/core/grappler/optimizers/meta_optimizer.cc:954] model_pruner failed: INVALID_ARGUMENT: Graph does not contain terminal node AssignAddVariableOp_2.\n"
     ]
    },
    {
     "name": "stdout",
     "output_type": "stream",
     "text": [
      "125/125 [==============================] - 3s 20ms/step - loss: 1.2694 - val_loss: 1.0915\n",
      "Epoch 2/5\n",
      "125/125 [==============================] - 2s 17ms/step - loss: 1.0102 - val_loss: 0.9658\n",
      "Epoch 3/5\n",
      "125/125 [==============================] - 2s 17ms/step - loss: 0.8992 - val_loss: 0.8847\n",
      "Epoch 4/5\n",
      "125/125 [==============================] - 2s 17ms/step - loss: 0.8080 - val_loss: 0.7866\n",
      "Epoch 5/5\n",
      "125/125 [==============================] - 2s 18ms/step - loss: 0.7280 - val_loss: 0.7139\n",
      "125/125 [==============================] - 0s 3ms/step\n",
      "0.8700000000000001\n",
      "32/32 [==============================] - 0s 3ms/step\n",
      "The presence of has_winning_move in resblock 5 is 0.8500000000000001\n",
      "Performing regression for layer 6\n",
      "Epoch 1/5\n"
     ]
    },
    {
     "name": "stderr",
     "output_type": "stream",
     "text": [
      "2024-04-24 15:35:15.151823: E tensorflow/core/grappler/optimizers/meta_optimizer.cc:954] model_pruner failed: INVALID_ARGUMENT: Graph does not contain terminal node AssignAddVariableOp_2.\n"
     ]
    },
    {
     "name": "stdout",
     "output_type": "stream",
     "text": [
      "125/125 [==============================] - 3s 20ms/step - loss: 1.0698 - val_loss: 1.1278\n",
      "Epoch 2/5\n",
      "125/125 [==============================] - 2s 17ms/step - loss: 1.0087 - val_loss: 1.0727\n",
      "Epoch 3/5\n",
      "125/125 [==============================] - 2s 17ms/step - loss: 0.9654 - val_loss: 1.0313\n",
      "Epoch 4/5\n",
      "125/125 [==============================] - 2s 17ms/step - loss: 0.9314 - val_loss: 0.9971\n",
      "Epoch 5/5\n",
      "125/125 [==============================] - 2s 16ms/step - loss: 0.9029 - val_loss: 0.9676\n",
      "125/125 [==============================] - 0s 2ms/step\n",
      "0.43900000000000006\n",
      "32/32 [==============================] - 0s 3ms/step\n",
      "The presence of has_winning_move in resblock 6 is 0.43599999999999994\n",
      "Performing regression for layer 7\n",
      "Epoch 1/5\n"
     ]
    },
    {
     "name": "stderr",
     "output_type": "stream",
     "text": [
      "2024-04-24 15:35:27.182236: E tensorflow/core/grappler/optimizers/meta_optimizer.cc:954] model_pruner failed: INVALID_ARGUMENT: Graph does not contain terminal node AssignAddVariableOp_2.\n"
     ]
    },
    {
     "name": "stdout",
     "output_type": "stream",
     "text": [
      "125/125 [==============================] - 3s 19ms/step - loss: 1.4831 - val_loss: 1.3913\n",
      "Epoch 2/5\n",
      "125/125 [==============================] - 2s 16ms/step - loss: 1.3308 - val_loss: 1.2739\n",
      "Epoch 3/5\n",
      "125/125 [==============================] - 2s 17ms/step - loss: 1.2353 - val_loss: 1.1962\n",
      "Epoch 4/5\n",
      "125/125 [==============================] - 2s 17ms/step - loss: 1.1658 - val_loss: 1.1341\n",
      "Epoch 5/5\n",
      "125/125 [==============================] - 2s 17ms/step - loss: 1.1075 - val_loss: 1.0788\n",
      "125/125 [==============================] - 0s 3ms/step\n",
      "0.20550000000000002\n",
      "32/32 [==============================] - 0s 3ms/step\n"
     ]
    },
    {
     "name": "stderr",
     "output_type": "stream",
     "text": [
      "Epochs:  67%|██████▋   | 6/9 [12:37<06:01, 120.35s/it]"
     ]
    },
    {
     "name": "stdout",
     "output_type": "stream",
     "text": [
      "The presence of has_winning_move in resblock 7 is 0.20599999999999996\n"
     ]
    },
    {
     "name": "stderr",
     "output_type": "stream",
     "text": [
      "Getting activation outputs: 100%|██████████| 157/157 [00:05<00:00, 26.59it/s]\n"
     ]
    },
    {
     "name": "stdout",
     "output_type": "stream",
     "text": [
      "Performing regression for layer 0\n",
      "Epoch 1/5\n"
     ]
    },
    {
     "name": "stderr",
     "output_type": "stream",
     "text": [
      "2024-04-24 15:35:47.544854: E tensorflow/core/grappler/optimizers/meta_optimizer.cc:954] model_pruner failed: INVALID_ARGUMENT: Graph does not contain terminal node AssignAddVariableOp_2.\n"
     ]
    },
    {
     "name": "stdout",
     "output_type": "stream",
     "text": [
      "125/125 [==============================] - 3s 20ms/step - loss: 1.7694 - val_loss: 1.4404\n",
      "Epoch 2/5\n",
      "125/125 [==============================] - 2s 17ms/step - loss: 1.3026 - val_loss: 1.2926\n",
      "Epoch 3/5\n",
      "125/125 [==============================] - 2s 17ms/step - loss: 1.1917 - val_loss: 1.1887\n",
      "Epoch 4/5\n",
      "125/125 [==============================] - 2s 18ms/step - loss: 1.1040 - val_loss: 1.1328\n",
      "Epoch 5/5\n",
      "125/125 [==============================] - 2s 17ms/step - loss: 1.0306 - val_loss: 1.0470\n",
      "125/125 [==============================] - 0s 3ms/step\n",
      "0.927\n",
      "32/32 [==============================] - 0s 3ms/step\n",
      "The presence of has_winning_move in resblock 0 is 0.8999999999999999\n",
      "Performing regression for layer 1\n",
      "Epoch 1/5\n"
     ]
    },
    {
     "name": "stderr",
     "output_type": "stream",
     "text": [
      "2024-04-24 15:36:00.265891: E tensorflow/core/grappler/optimizers/meta_optimizer.cc:954] model_pruner failed: INVALID_ARGUMENT: Graph does not contain terminal node AssignAddVariableOp_2.\n"
     ]
    },
    {
     "name": "stdout",
     "output_type": "stream",
     "text": [
      "125/125 [==============================] - 3s 20ms/step - loss: 1.8518 - val_loss: 1.5369\n",
      "Epoch 2/5\n",
      "125/125 [==============================] - 2s 17ms/step - loss: 1.3586 - val_loss: 1.4071\n",
      "Epoch 3/5\n",
      "125/125 [==============================] - 2s 17ms/step - loss: 1.2672 - val_loss: 1.3045\n",
      "Epoch 4/5\n",
      "125/125 [==============================] - 2s 17ms/step - loss: 1.1630 - val_loss: 1.2223\n",
      "Epoch 5/5\n",
      "125/125 [==============================] - 2s 18ms/step - loss: 1.0980 - val_loss: 1.1584\n",
      "125/125 [==============================] - 0s 3ms/step\n",
      "0.96\n",
      "32/32 [==============================] - 0s 3ms/step\n",
      "The presence of has_winning_move in resblock 1 is 0.8859999999999999\n",
      "Performing regression for layer 2\n",
      "Epoch 1/5\n"
     ]
    },
    {
     "name": "stderr",
     "output_type": "stream",
     "text": [
      "2024-04-24 15:36:12.965123: E tensorflow/core/grappler/optimizers/meta_optimizer.cc:954] model_pruner failed: INVALID_ARGUMENT: Graph does not contain terminal node AssignAddVariableOp_2.\n"
     ]
    },
    {
     "name": "stdout",
     "output_type": "stream",
     "text": [
      "125/125 [==============================] - 3s 21ms/step - loss: 2.1354 - val_loss: 1.6663\n",
      "Epoch 2/5\n",
      "125/125 [==============================] - 2s 17ms/step - loss: 1.4414 - val_loss: 1.4849\n",
      "Epoch 3/5\n",
      "125/125 [==============================] - 2s 17ms/step - loss: 1.3113 - val_loss: 1.3851\n",
      "Epoch 4/5\n",
      "125/125 [==============================] - 2s 17ms/step - loss: 1.2265 - val_loss: 1.3095\n",
      "Epoch 5/5\n",
      "125/125 [==============================] - 2s 17ms/step - loss: 1.1641 - val_loss: 1.2750\n",
      "125/125 [==============================] - 0s 3ms/step\n",
      "0.9365000000000001\n",
      "32/32 [==============================] - 0s 3ms/step\n",
      "The presence of has_winning_move in resblock 2 is 0.8340000000000001\n",
      "Performing regression for layer 3\n",
      "Epoch 1/5\n"
     ]
    },
    {
     "name": "stderr",
     "output_type": "stream",
     "text": [
      "2024-04-24 15:36:25.560116: E tensorflow/core/grappler/optimizers/meta_optimizer.cc:954] model_pruner failed: INVALID_ARGUMENT: Graph does not contain terminal node AssignAddVariableOp_2.\n"
     ]
    },
    {
     "name": "stdout",
     "output_type": "stream",
     "text": [
      "125/125 [==============================] - 3s 22ms/step - loss: 1.9405 - val_loss: 1.5597\n",
      "Epoch 2/5\n",
      "125/125 [==============================] - 2s 16ms/step - loss: 1.4012 - val_loss: 1.4266\n",
      "Epoch 3/5\n",
      "125/125 [==============================] - 2s 18ms/step - loss: 1.2714 - val_loss: 1.3405\n",
      "Epoch 4/5\n",
      "125/125 [==============================] - 2s 18ms/step - loss: 1.1786 - val_loss: 1.2567\n",
      "Epoch 5/5\n",
      "125/125 [==============================] - 2s 18ms/step - loss: 1.1044 - val_loss: 1.1452\n",
      "125/125 [==============================] - 2s 3ms/step\n",
      "0.946\n",
      "32/32 [==============================] - 0s 3ms/step\n",
      "The presence of has_winning_move in resblock 3 is 0.8799999999999999\n",
      "Performing regression for layer 4\n",
      "Epoch 1/5\n"
     ]
    },
    {
     "name": "stderr",
     "output_type": "stream",
     "text": [
      "2024-04-24 15:36:40.365606: E tensorflow/core/grappler/optimizers/meta_optimizer.cc:954] model_pruner failed: INVALID_ARGUMENT: Graph does not contain terminal node AssignAddVariableOp_2.\n"
     ]
    },
    {
     "name": "stdout",
     "output_type": "stream",
     "text": [
      "125/125 [==============================] - 3s 21ms/step - loss: 2.4491 - val_loss: 1.9122\n",
      "Epoch 2/5\n",
      "125/125 [==============================] - 2s 18ms/step - loss: 1.6569 - val_loss: 1.6709\n",
      "Epoch 3/5\n",
      "125/125 [==============================] - 2s 18ms/step - loss: 1.4258 - val_loss: 1.5776\n",
      "Epoch 4/5\n",
      "125/125 [==============================] - 2s 18ms/step - loss: 1.3041 - val_loss: 1.4452\n",
      "Epoch 5/5\n",
      "125/125 [==============================] - 2s 17ms/step - loss: 1.2211 - val_loss: 1.3817\n",
      "125/125 [==============================] - 0s 3ms/step\n",
      "0.9575\n",
      "32/32 [==============================] - 0s 3ms/step\n",
      "The presence of has_winning_move in resblock 4 is 0.8720000000000001\n",
      "Performing regression for layer 5\n",
      "Epoch 1/5\n"
     ]
    },
    {
     "name": "stderr",
     "output_type": "stream",
     "text": [
      "2024-04-24 15:36:53.464275: E tensorflow/core/grappler/optimizers/meta_optimizer.cc:954] model_pruner failed: INVALID_ARGUMENT: Graph does not contain terminal node AssignAddVariableOp_2.\n"
     ]
    },
    {
     "name": "stdout",
     "output_type": "stream",
     "text": [
      "125/125 [==============================] - 4s 23ms/step - loss: 2.2906 - val_loss: 1.6287\n",
      "Epoch 2/5\n",
      "125/125 [==============================] - 2s 17ms/step - loss: 1.5267 - val_loss: 1.5343\n",
      "Epoch 3/5\n",
      "125/125 [==============================] - 2s 19ms/step - loss: 1.4111 - val_loss: 1.4677\n",
      "Epoch 4/5\n",
      "125/125 [==============================] - 2s 18ms/step - loss: 1.3597 - val_loss: 1.4241\n",
      "Epoch 5/5\n",
      "125/125 [==============================] - 2s 18ms/step - loss: 1.3121 - val_loss: 1.3756\n",
      "125/125 [==============================] - 1s 4ms/step\n",
      "0.9005000000000001\n",
      "32/32 [==============================] - 0s 4ms/step\n",
      "The presence of has_winning_move in resblock 5 is 0.8540000000000001\n",
      "Performing regression for layer 6\n",
      "Epoch 1/5\n"
     ]
    },
    {
     "name": "stderr",
     "output_type": "stream",
     "text": [
      "2024-04-24 15:37:07.021274: E tensorflow/core/grappler/optimizers/meta_optimizer.cc:954] model_pruner failed: INVALID_ARGUMENT: Graph does not contain terminal node AssignAddVariableOp_2.\n"
     ]
    },
    {
     "name": "stdout",
     "output_type": "stream",
     "text": [
      "125/125 [==============================] - 3s 21ms/step - loss: 6.7140 - val_loss: 6.2523\n",
      "Epoch 2/5\n",
      "125/125 [==============================] - 2s 17ms/step - loss: 5.8561 - val_loss: 5.6350\n",
      "Epoch 3/5\n",
      "125/125 [==============================] - 2s 17ms/step - loss: 5.2237 - val_loss: 5.1371\n",
      "Epoch 4/5\n",
      "125/125 [==============================] - 2s 17ms/step - loss: 4.7100 - val_loss: 4.7014\n",
      "Epoch 5/5\n",
      "125/125 [==============================] - 2s 18ms/step - loss: 4.2682 - val_loss: 4.3134\n",
      "125/125 [==============================] - 0s 3ms/step\n",
      "0.08850000000000002\n",
      "32/32 [==============================] - 0s 4ms/step\n",
      "The presence of has_winning_move in resblock 6 is 0.10200000000000009\n",
      "Performing regression for layer 7\n",
      "Epoch 1/5\n"
     ]
    },
    {
     "name": "stderr",
     "output_type": "stream",
     "text": [
      "2024-04-24 15:37:19.602707: E tensorflow/core/grappler/optimizers/meta_optimizer.cc:954] model_pruner failed: INVALID_ARGUMENT: Graph does not contain terminal node AssignAddVariableOp_2.\n"
     ]
    },
    {
     "name": "stdout",
     "output_type": "stream",
     "text": [
      "125/125 [==============================] - 3s 20ms/step - loss: 5.8235 - val_loss: 5.5544\n",
      "Epoch 2/5\n",
      "125/125 [==============================] - 2s 17ms/step - loss: 5.4455 - val_loss: 5.1919\n",
      "Epoch 3/5\n",
      "125/125 [==============================] - 2s 17ms/step - loss: 5.1048 - val_loss: 4.8685\n",
      "Epoch 4/5\n",
      "125/125 [==============================] - 2s 17ms/step - loss: 4.7939 - val_loss: 4.5730\n",
      "Epoch 5/5\n",
      "125/125 [==============================] - 2s 17ms/step - loss: 4.5077 - val_loss: 4.2975\n",
      "125/125 [==============================] - 0s 3ms/step\n",
      "0.129\n",
      "32/32 [==============================] - 0s 3ms/step\n",
      "The presence of has_winning_move in resblock 7 is 0.1140000000000001\n"
     ]
    },
    {
     "name": "stderr",
     "output_type": "stream",
     "text": [
      "Getting activation outputs: 100%|██████████| 157/157 [00:05<00:00, 26.51it/s]\n"
     ]
    },
    {
     "name": "stdout",
     "output_type": "stream",
     "text": [
      "Performing regression for layer 0\n",
      "Epoch 1/5\n"
     ]
    },
    {
     "name": "stderr",
     "output_type": "stream",
     "text": [
      "2024-04-24 15:37:39.693040: E tensorflow/core/grappler/optimizers/meta_optimizer.cc:954] model_pruner failed: INVALID_ARGUMENT: Graph does not contain terminal node AssignAddVariableOp_2.\n"
     ]
    },
    {
     "name": "stdout",
     "output_type": "stream",
     "text": [
      "125/125 [==============================] - 3s 20ms/step - loss: 1.6280 - val_loss: 1.4091\n",
      "Epoch 2/5\n",
      "125/125 [==============================] - 2s 17ms/step - loss: 1.2930 - val_loss: 1.3067\n",
      "Epoch 3/5\n",
      "125/125 [==============================] - 2s 17ms/step - loss: 1.1849 - val_loss: 1.2115\n",
      "Epoch 4/5\n",
      "125/125 [==============================] - 2s 18ms/step - loss: 1.1117 - val_loss: 1.1228\n",
      "Epoch 5/5\n",
      "125/125 [==============================] - 2s 18ms/step - loss: 1.0256 - val_loss: 1.0559\n",
      "125/125 [==============================] - 0s 3ms/step\n",
      "0.9595\n",
      "32/32 [==============================] - 0s 3ms/step\n",
      "The presence of has_winning_move in resblock 0 is 0.9179999999999999\n",
      "Performing regression for layer 1\n",
      "Epoch 1/5\n"
     ]
    },
    {
     "name": "stderr",
     "output_type": "stream",
     "text": [
      "2024-04-24 15:37:52.438580: E tensorflow/core/grappler/optimizers/meta_optimizer.cc:954] model_pruner failed: INVALID_ARGUMENT: Graph does not contain terminal node AssignAddVariableOp_2.\n"
     ]
    },
    {
     "name": "stdout",
     "output_type": "stream",
     "text": [
      "125/125 [==============================] - 3s 21ms/step - loss: 1.7375 - val_loss: 1.4857\n",
      "Epoch 2/5\n",
      "125/125 [==============================] - 2s 17ms/step - loss: 1.3376 - val_loss: 1.3368\n",
      "Epoch 3/5\n",
      "125/125 [==============================] - 2s 18ms/step - loss: 1.2297 - val_loss: 1.2620\n",
      "Epoch 4/5\n",
      "125/125 [==============================] - 2s 17ms/step - loss: 1.1667 - val_loss: 1.2426\n",
      "Epoch 5/5\n",
      "125/125 [==============================] - 2s 17ms/step - loss: 1.0883 - val_loss: 1.1403\n",
      "125/125 [==============================] - 1s 4ms/step\n",
      "0.974\n",
      "32/32 [==============================] - 0s 4ms/step\n",
      "The presence of has_winning_move in resblock 1 is 0.9119999999999999\n",
      "Performing regression for layer 2\n",
      "Epoch 1/5\n"
     ]
    },
    {
     "name": "stderr",
     "output_type": "stream",
     "text": [
      "2024-04-24 15:38:05.385067: E tensorflow/core/grappler/optimizers/meta_optimizer.cc:954] model_pruner failed: INVALID_ARGUMENT: Graph does not contain terminal node AssignAddVariableOp_2.\n"
     ]
    },
    {
     "name": "stdout",
     "output_type": "stream",
     "text": [
      "125/125 [==============================] - 3s 21ms/step - loss: 2.2429 - val_loss: 1.7438\n",
      "Epoch 2/5\n",
      "125/125 [==============================] - 2s 17ms/step - loss: 1.5234 - val_loss: 1.4970\n",
      "Epoch 3/5\n",
      "125/125 [==============================] - 2s 17ms/step - loss: 1.3555 - val_loss: 1.3835\n",
      "Epoch 4/5\n",
      "125/125 [==============================] - 2s 18ms/step - loss: 1.2519 - val_loss: 1.2987\n",
      "Epoch 5/5\n",
      "125/125 [==============================] - 2s 18ms/step - loss: 1.1691 - val_loss: 1.2351\n",
      "125/125 [==============================] - 0s 3ms/step\n",
      "0.9530000000000001\n",
      "32/32 [==============================] - 0s 3ms/step\n",
      "The presence of has_winning_move in resblock 2 is 0.8979999999999999\n",
      "Performing regression for layer 3\n",
      "Epoch 1/5\n"
     ]
    },
    {
     "name": "stderr",
     "output_type": "stream",
     "text": [
      "2024-04-24 15:38:18.448281: E tensorflow/core/grappler/optimizers/meta_optimizer.cc:954] model_pruner failed: INVALID_ARGUMENT: Graph does not contain terminal node AssignAddVariableOp_2.\n"
     ]
    },
    {
     "name": "stdout",
     "output_type": "stream",
     "text": [
      "125/125 [==============================] - 3s 23ms/step - loss: 1.6951 - val_loss: 1.4592\n",
      "Epoch 2/5\n",
      "125/125 [==============================] - 2s 18ms/step - loss: 1.3551 - val_loss: 1.3520\n",
      "Epoch 3/5\n",
      "125/125 [==============================] - 2s 18ms/step - loss: 1.2136 - val_loss: 1.2681\n",
      "Epoch 4/5\n",
      "125/125 [==============================] - 2s 17ms/step - loss: 1.1216 - val_loss: 1.1810\n",
      "Epoch 5/5\n",
      "125/125 [==============================] - 2s 17ms/step - loss: 1.0425 - val_loss: 1.1203\n",
      "125/125 [==============================] - 0s 3ms/step\n",
      "0.9670000000000001\n",
      "32/32 [==============================] - 0s 3ms/step\n",
      "The presence of has_winning_move in resblock 3 is 0.8959999999999999\n",
      "Performing regression for layer 4\n",
      "Epoch 1/5\n"
     ]
    },
    {
     "name": "stderr",
     "output_type": "stream",
     "text": [
      "2024-04-24 15:38:31.549666: E tensorflow/core/grappler/optimizers/meta_optimizer.cc:954] model_pruner failed: INVALID_ARGUMENT: Graph does not contain terminal node AssignAddVariableOp_2.\n"
     ]
    },
    {
     "name": "stdout",
     "output_type": "stream",
     "text": [
      "125/125 [==============================] - 3s 21ms/step - loss: 2.1369 - val_loss: 1.9180\n",
      "Epoch 2/5\n",
      "125/125 [==============================] - 2s 18ms/step - loss: 1.5738 - val_loss: 1.6879\n",
      "Epoch 3/5\n",
      "125/125 [==============================] - 2s 17ms/step - loss: 1.3749 - val_loss: 1.5666\n",
      "Epoch 4/5\n",
      "125/125 [==============================] - 2s 17ms/step - loss: 1.2548 - val_loss: 1.4742\n",
      "Epoch 5/5\n",
      "125/125 [==============================] - 2s 18ms/step - loss: 1.1671 - val_loss: 1.4185\n",
      "125/125 [==============================] - 0s 3ms/step\n",
      "0.9544999999999999\n",
      "32/32 [==============================] - 0s 3ms/step\n",
      "The presence of has_winning_move in resblock 4 is 0.8799999999999999\n",
      "Performing regression for layer 5\n",
      "Epoch 1/5\n"
     ]
    },
    {
     "name": "stderr",
     "output_type": "stream",
     "text": [
      "2024-04-24 15:38:44.499195: E tensorflow/core/grappler/optimizers/meta_optimizer.cc:954] model_pruner failed: INVALID_ARGUMENT: Graph does not contain terminal node AssignAddVariableOp_2.\n"
     ]
    },
    {
     "name": "stdout",
     "output_type": "stream",
     "text": [
      "125/125 [==============================] - 3s 20ms/step - loss: 1.9897 - val_loss: 1.5884\n",
      "Epoch 2/5\n",
      "125/125 [==============================] - 2s 17ms/step - loss: 1.5041 - val_loss: 1.4851\n",
      "Epoch 3/5\n",
      "125/125 [==============================] - 2s 17ms/step - loss: 1.3650 - val_loss: 1.4168\n",
      "Epoch 4/5\n",
      "125/125 [==============================] - 2s 18ms/step - loss: 1.3075 - val_loss: 1.3824\n",
      "Epoch 5/5\n",
      "125/125 [==============================] - 2s 17ms/step - loss: 1.2233 - val_loss: 1.3078\n",
      "125/125 [==============================] - 0s 3ms/step\n",
      "0.919\n",
      "32/32 [==============================] - 0s 3ms/step\n",
      "The presence of has_winning_move in resblock 5 is 0.8620000000000001\n",
      "Performing regression for layer 6\n",
      "Epoch 1/5\n"
     ]
    },
    {
     "name": "stderr",
     "output_type": "stream",
     "text": [
      "2024-04-24 15:38:57.059421: E tensorflow/core/grappler/optimizers/meta_optimizer.cc:954] model_pruner failed: INVALID_ARGUMENT: Graph does not contain terminal node AssignAddVariableOp_2.\n"
     ]
    },
    {
     "name": "stdout",
     "output_type": "stream",
     "text": [
      "125/125 [==============================] - 3s 20ms/step - loss: 5.5185 - val_loss: 4.5900\n",
      "Epoch 2/5\n",
      "125/125 [==============================] - 2s 16ms/step - loss: 4.1302 - val_loss: 3.5382\n",
      "Epoch 3/5\n",
      "125/125 [==============================] - 2s 16ms/step - loss: 3.2698 - val_loss: 2.9773\n",
      "Epoch 4/5\n",
      "125/125 [==============================] - 2s 16ms/step - loss: 2.7937 - val_loss: 2.6808\n",
      "Epoch 5/5\n",
      "125/125 [==============================] - 2s 17ms/step - loss: 2.5327 - val_loss: 2.5154\n",
      "125/125 [==============================] - 0s 3ms/step\n",
      "0.2885\n",
      "32/32 [==============================] - 0s 3ms/step\n",
      "The presence of has_winning_move in resblock 6 is 0.254\n",
      "Performing regression for layer 7\n",
      "Epoch 1/5\n"
     ]
    },
    {
     "name": "stderr",
     "output_type": "stream",
     "text": [
      "2024-04-24 15:39:09.183642: E tensorflow/core/grappler/optimizers/meta_optimizer.cc:954] model_pruner failed: INVALID_ARGUMENT: Graph does not contain terminal node AssignAddVariableOp_2.\n"
     ]
    },
    {
     "name": "stdout",
     "output_type": "stream",
     "text": [
      "125/125 [==============================] - 3s 21ms/step - loss: 3.9182 - val_loss: 3.6830\n",
      "Epoch 2/5\n",
      "125/125 [==============================] - 2s 17ms/step - loss: 3.6501 - val_loss: 3.4291\n",
      "Epoch 3/5\n",
      "125/125 [==============================] - 2s 17ms/step - loss: 3.4057 - val_loss: 3.2012\n",
      "Epoch 4/5\n",
      "125/125 [==============================] - 2s 16ms/step - loss: 3.1829 - val_loss: 2.9954\n",
      "Epoch 5/5\n",
      "125/125 [==============================] - 2s 16ms/step - loss: 2.9806 - val_loss: 2.8088\n",
      "125/125 [==============================] - 0s 2ms/step\n",
      "0.3394999999999999\n",
      "32/32 [==============================] - 0s 3ms/step\n"
     ]
    },
    {
     "name": "stderr",
     "output_type": "stream",
     "text": [
      "Epochs:  89%|████████▉ | 8/9 [16:19<01:55, 115.13s/it]"
     ]
    },
    {
     "name": "stdout",
     "output_type": "stream",
     "text": [
      "The presence of has_winning_move in resblock 7 is 0.32200000000000006\n"
     ]
    },
    {
     "name": "stderr",
     "output_type": "stream",
     "text": [
      "Getting activation outputs: 100%|██████████| 157/157 [00:05<00:00, 26.39it/s]\n"
     ]
    },
    {
     "name": "stdout",
     "output_type": "stream",
     "text": [
      "Performing regression for layer 0\n",
      "Epoch 1/5\n"
     ]
    },
    {
     "name": "stderr",
     "output_type": "stream",
     "text": [
      "2024-04-24 15:39:28.892826: E tensorflow/core/grappler/optimizers/meta_optimizer.cc:954] model_pruner failed: INVALID_ARGUMENT: Graph does not contain terminal node AssignAddVariableOp_2.\n"
     ]
    },
    {
     "name": "stdout",
     "output_type": "stream",
     "text": [
      "125/125 [==============================] - 3s 21ms/step - loss: 1.7332 - val_loss: 1.3691\n",
      "Epoch 2/5\n",
      "125/125 [==============================] - 2s 17ms/step - loss: 1.3243 - val_loss: 1.2616\n",
      "Epoch 3/5\n",
      "125/125 [==============================] - 2s 17ms/step - loss: 1.2086 - val_loss: 1.2153\n",
      "Epoch 4/5\n",
      "125/125 [==============================] - 2s 17ms/step - loss: 1.1369 - val_loss: 1.1398\n",
      "Epoch 5/5\n",
      "125/125 [==============================] - 2s 17ms/step - loss: 1.0666 - val_loss: 1.0852\n",
      "125/125 [==============================] - 0s 3ms/step\n",
      "0.9644999999999999\n",
      "32/32 [==============================] - 0s 3ms/step\n",
      "The presence of has_winning_move in resblock 0 is 0.9099999999999999\n",
      "Performing regression for layer 1\n",
      "Epoch 1/5\n"
     ]
    },
    {
     "name": "stderr",
     "output_type": "stream",
     "text": [
      "2024-04-24 15:39:41.515555: E tensorflow/core/grappler/optimizers/meta_optimizer.cc:954] model_pruner failed: INVALID_ARGUMENT: Graph does not contain terminal node AssignAddVariableOp_2.\n"
     ]
    },
    {
     "name": "stdout",
     "output_type": "stream",
     "text": [
      "125/125 [==============================] - 3s 21ms/step - loss: 2.2008 - val_loss: 1.6092\n",
      "Epoch 2/5\n",
      "125/125 [==============================] - 2s 17ms/step - loss: 1.5346 - val_loss: 1.4723\n",
      "Epoch 3/5\n",
      "125/125 [==============================] - 2s 17ms/step - loss: 1.3448 - val_loss: 1.3615\n",
      "Epoch 4/5\n",
      "125/125 [==============================] - 2s 17ms/step - loss: 1.2360 - val_loss: 1.2819\n",
      "Epoch 5/5\n",
      "125/125 [==============================] - 2s 17ms/step - loss: 1.1706 - val_loss: 1.2529\n",
      "125/125 [==============================] - 0s 3ms/step\n",
      "0.9345000000000001\n",
      "32/32 [==============================] - 0s 4ms/step\n",
      "The presence of has_winning_move in resblock 1 is 0.8999999999999999\n",
      "Performing regression for layer 2\n",
      "Epoch 1/5\n"
     ]
    },
    {
     "name": "stderr",
     "output_type": "stream",
     "text": [
      "2024-04-24 15:39:56.336350: E tensorflow/core/grappler/optimizers/meta_optimizer.cc:954] model_pruner failed: INVALID_ARGUMENT: Graph does not contain terminal node AssignAddVariableOp_2.\n"
     ]
    },
    {
     "name": "stdout",
     "output_type": "stream",
     "text": [
      "125/125 [==============================] - 3s 22ms/step - loss: 2.7377 - val_loss: 1.8419\n",
      "Epoch 2/5\n",
      "125/125 [==============================] - 2s 17ms/step - loss: 1.6881 - val_loss: 1.6384\n",
      "Epoch 3/5\n",
      "125/125 [==============================] - 2s 17ms/step - loss: 1.4383 - val_loss: 1.5284\n",
      "Epoch 4/5\n",
      "125/125 [==============================] - 2s 17ms/step - loss: 1.3173 - val_loss: 1.4231\n",
      "Epoch 5/5\n",
      "125/125 [==============================] - 2s 17ms/step - loss: 1.2488 - val_loss: 1.3558\n",
      "125/125 [==============================] - 0s 3ms/step\n",
      "0.9475\n",
      "32/32 [==============================] - 0s 3ms/step\n",
      "The presence of has_winning_move in resblock 2 is 0.9079999999999999\n",
      "Performing regression for layer 3\n",
      "Epoch 1/5\n"
     ]
    },
    {
     "name": "stderr",
     "output_type": "stream",
     "text": [
      "2024-04-24 15:40:09.083545: E tensorflow/core/grappler/optimizers/meta_optimizer.cc:954] model_pruner failed: INVALID_ARGUMENT: Graph does not contain terminal node AssignAddVariableOp_2.\n"
     ]
    },
    {
     "name": "stdout",
     "output_type": "stream",
     "text": [
      "125/125 [==============================] - 3s 20ms/step - loss: 1.8931 - val_loss: 1.4768\n",
      "Epoch 2/5\n",
      "125/125 [==============================] - 2s 18ms/step - loss: 1.4423 - val_loss: 1.3767\n",
      "Epoch 3/5\n",
      "125/125 [==============================] - 2s 17ms/step - loss: 1.2793 - val_loss: 1.2954\n",
      "Epoch 4/5\n",
      "125/125 [==============================] - 2s 17ms/step - loss: 1.1917 - val_loss: 1.2161\n",
      "Epoch 5/5\n",
      "125/125 [==============================] - 2s 17ms/step - loss: 1.1082 - val_loss: 1.1613\n",
      "125/125 [==============================] - 0s 3ms/step\n",
      "0.9530000000000001\n",
      "32/32 [==============================] - 0s 3ms/step\n",
      "The presence of has_winning_move in resblock 3 is 0.9039999999999999\n",
      "Performing regression for layer 4\n",
      "Epoch 1/5\n"
     ]
    },
    {
     "name": "stderr",
     "output_type": "stream",
     "text": [
      "2024-04-24 15:40:21.552491: E tensorflow/core/grappler/optimizers/meta_optimizer.cc:954] model_pruner failed: INVALID_ARGUMENT: Graph does not contain terminal node AssignAddVariableOp_2.\n"
     ]
    },
    {
     "name": "stdout",
     "output_type": "stream",
     "text": [
      "125/125 [==============================] - 3s 20ms/step - loss: 3.1621 - val_loss: 2.0843\n",
      "Epoch 2/5\n",
      "125/125 [==============================] - 2s 17ms/step - loss: 1.8490 - val_loss: 1.8306\n",
      "Epoch 3/5\n",
      "125/125 [==============================] - 2s 18ms/step - loss: 1.5427 - val_loss: 1.6976\n",
      "Epoch 4/5\n",
      "125/125 [==============================] - 2s 17ms/step - loss: 1.3749 - val_loss: 1.6316\n",
      "Epoch 5/5\n",
      "125/125 [==============================] - 2s 17ms/step - loss: 1.2841 - val_loss: 1.5477\n",
      "125/125 [==============================] - 0s 3ms/step\n",
      "0.9470000000000001\n",
      "32/32 [==============================] - 0s 3ms/step\n",
      "The presence of has_winning_move in resblock 4 is 0.8819999999999999\n",
      "Performing regression for layer 5\n",
      "Epoch 1/5\n"
     ]
    },
    {
     "name": "stderr",
     "output_type": "stream",
     "text": [
      "2024-04-24 15:40:34.039745: E tensorflow/core/grappler/optimizers/meta_optimizer.cc:954] model_pruner failed: INVALID_ARGUMENT: Graph does not contain terminal node AssignAddVariableOp_2.\n"
     ]
    },
    {
     "name": "stdout",
     "output_type": "stream",
     "text": [
      "125/125 [==============================] - 3s 21ms/step - loss: 1.8620 - val_loss: 1.5297\n",
      "Epoch 2/5\n",
      "125/125 [==============================] - 2s 17ms/step - loss: 1.4888 - val_loss: 1.4291\n",
      "Epoch 3/5\n",
      "125/125 [==============================] - 2s 17ms/step - loss: 1.3638 - val_loss: 1.4704\n",
      "Epoch 4/5\n",
      "125/125 [==============================] - 2s 17ms/step - loss: 1.2791 - val_loss: 1.3254\n",
      "Epoch 5/5\n",
      "125/125 [==============================] - 2s 18ms/step - loss: 1.1911 - val_loss: 1.2656\n",
      "125/125 [==============================] - 0s 3ms/step\n",
      "0.9424999999999999\n",
      "32/32 [==============================] - 0s 3ms/step\n",
      "The presence of has_winning_move in resblock 5 is 0.8700000000000001\n",
      "Performing regression for layer 6\n",
      "Epoch 1/5\n"
     ]
    },
    {
     "name": "stderr",
     "output_type": "stream",
     "text": [
      "2024-04-24 15:40:46.542194: E tensorflow/core/grappler/optimizers/meta_optimizer.cc:954] model_pruner failed: INVALID_ARGUMENT: Graph does not contain terminal node AssignAddVariableOp_2.\n"
     ]
    },
    {
     "name": "stdout",
     "output_type": "stream",
     "text": [
      "125/125 [==============================] - 3s 20ms/step - loss: 23.8172 - val_loss: 21.9493\n",
      "Epoch 2/5\n",
      "125/125 [==============================] - 2s 17ms/step - loss: 20.2121 - val_loss: 18.3641\n",
      "Epoch 3/5\n",
      "125/125 [==============================] - 2s 16ms/step - loss: 16.6714 - val_loss: 14.9066\n",
      "Epoch 4/5\n",
      "125/125 [==============================] - 2s 16ms/step - loss: 13.2880 - val_loss: 11.6536\n",
      "Epoch 5/5\n",
      "125/125 [==============================] - 2s 16ms/step - loss: 10.1800 - val_loss: 8.7724\n",
      "125/125 [==============================] - 0s 2ms/step\n",
      "-0.18999999999999995\n",
      "32/32 [==============================] - 0s 3ms/step\n",
      "The presence of has_winning_move in resblock 6 is 0\n",
      "Performing regression for layer 7\n",
      "Epoch 1/5\n"
     ]
    },
    {
     "name": "stderr",
     "output_type": "stream",
     "text": [
      "2024-04-24 15:40:58.508857: E tensorflow/core/grappler/optimizers/meta_optimizer.cc:954] model_pruner failed: INVALID_ARGUMENT: Graph does not contain terminal node AssignAddVariableOp_2.\n"
     ]
    },
    {
     "name": "stdout",
     "output_type": "stream",
     "text": [
      "125/125 [==============================] - 3s 21ms/step - loss: 9.1976 - val_loss: 8.3977\n",
      "Epoch 2/5\n",
      "125/125 [==============================] - 2s 17ms/step - loss: 8.0296 - val_loss: 7.4322\n",
      "Epoch 3/5\n",
      "125/125 [==============================] - 2s 17ms/step - loss: 7.1523 - val_loss: 6.7310\n",
      "Epoch 4/5\n",
      "125/125 [==============================] - 2s 17ms/step - loss: 6.5031 - val_loss: 6.2132\n",
      "Epoch 5/5\n",
      "125/125 [==============================] - 2s 17ms/step - loss: 6.0194 - val_loss: 5.8356\n",
      "125/125 [==============================] - 0s 3ms/step\n",
      "0.10099999999999998\n",
      "32/32 [==============================] - 0s 3ms/step\n"
     ]
    },
    {
     "name": "stderr",
     "output_type": "stream",
     "text": [
      "Epochs: 100%|██████████| 9/9 [18:09<00:00, 113.35s/it]"
     ]
    },
    {
     "name": "stdout",
     "output_type": "stream",
     "text": [
      "The presence of has_winning_move in resblock 7 is 0.1120000000000001\n"
     ]
    }
   ],
   "source": [
    "from tqdm import tqdm\n",
    "epochs_to_look_at = agents_to_sample\n",
    "\n",
    "bar = tqdm(total=len(epochs_to_look_at), desc=\"Epochs\")\n",
    "\n",
    "for epoch in epochs_to_look_at:\n",
    "    path = full_model_path + model_name + \"_\" + str(epoch) + \".keras\"\n",
    "    if resnet:\n",
    "        model = ResNet(board_size, path)\n",
    "    else:\n",
    "        model = ConvNet(board_size, path)\n",
    "\n",
    "    # Will have a length equal to the sum of the numer of rows in the positive and negative cases arrays\n",
    "    # And will contain 1s for positive cases and 0s for negative cases\n",
    "    # Is used as labels/targets for the regression\n",
    "    if BINARY:\n",
    "        all_cases = np.concatenate([positive_cases, negative_cases])\n",
    "        all_labels = [1] * positive_cases.shape[0] + [0] * negative_cases.shape[0]\n",
    "    else:\n",
    "        all_cases = np.array(positive_cases)\n",
    "        all_labels = negative_cases\n",
    "\n",
    "    all_labels = np.array(all_labels)\n",
    "    shuffled_indices = np.arange(all_labels.shape[0])\n",
    "\n",
    "    np.random.shuffle(shuffled_indices)\n",
    "\n",
    "    all_cases = all_cases[shuffled_indices]\n",
    "    all_labels = all_labels[shuffled_indices]\n",
    "\n",
    "    concept_presences = {}\n",
    "    \n",
    "    outputs = model.get_all_activation_values(all_cases)\n",
    "\n",
    "    # Merge outputs\n",
    "    merged_outputs = []\n",
    "    for output_batch in outputs:\n",
    "        for i, output_layer in enumerate(output_batch):\n",
    "            if len(merged_outputs) <= i:\n",
    "                merged_outputs.append([])\n",
    "            merged_outputs[i].extend(output_layer)\n",
    "\n",
    "    for i, layer_output in enumerate(merged_outputs):\n",
    "        merged_outputs[i] = np.array(merged_outputs[i])\n",
    "    \n",
    "    outputs = merged_outputs\n",
    "\n",
    "    # Perform regression\n",
    "    concept_presence_per_layer = []\n",
    "    for (i, output) in enumerate(outputs):\n",
    "        points = output.reshape((output.shape[0], np.prod(output.shape[1:])))\n",
    "        # So one has (n, k) samples where n is the number of positions, and k is the total number of activation values in layer i.\n",
    "        print(f\"Performing regression for layer {i}\")\n",
    "        score = linear_regression.perform_regression(\n",
    "            points=points[:POSITIONS_TO_CONSIDER], \n",
    "            targets=all_labels[:POSITIONS_TO_CONSIDER], \n",
    "            validation_points=points[POSITIONS_TO_CONSIDER:], \n",
    "            validation_targets=all_labels[POSITIONS_TO_CONSIDER:], \n",
    "            is_binary=BINARY,\n",
    "            epochs=epochs,\n",
    "            verbose=1\n",
    "        )\n",
    "        score = 0 if score < 0 else score\n",
    "        concept_presence_per_layer.append(score)\n",
    "\n",
    "        print(f\"The presence of {CONCEPT_NAME} in resblock {i} is {score}\")\n",
    "        \n",
    "    concept_presences[CONCEPT_NAME] = concept_presence_per_layer\n",
    "\n",
    "    concept_folder_setup_and_score('static', model_type, board_name, session_name, CONCEPT_NAME, epoch, concept_presence_per_layer)\n",
    "\n",
    "    bar.update()"
   ]
  }
 ],
 "metadata": {
  "kernelspec": {
   "display_name": "go-xai",
   "language": "python",
   "name": "python3"
  },
  "language_info": {
   "codemirror_mode": {
    "name": "ipython",
    "version": 3
   },
   "file_extension": ".py",
   "mimetype": "text/x-python",
   "name": "python",
   "nbconvert_exporter": "python",
   "pygments_lexer": "ipython3",
   "version": "3.8.18"
  }
 },
 "nbformat": 4,
 "nbformat_minor": 2
}
