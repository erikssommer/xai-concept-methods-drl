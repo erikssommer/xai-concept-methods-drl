{
 "cells": [
  {
   "cell_type": "markdown",
   "metadata": {},
   "source": [
    "### Notebook for concept detection in neural network"
   ]
  },
  {
   "cell_type": "code",
   "execution_count": 1,
   "metadata": {},
   "outputs": [],
   "source": [
    "%load_ext autoreload\n",
    "%autoreload 2"
   ]
  },
  {
   "cell_type": "code",
   "execution_count": 1,
   "metadata": {},
   "outputs": [
    {
     "name": "stderr",
     "output_type": "stream",
     "text": [
      "2024-02-09 12:37:04.681247: I tensorflow/core/platform/cpu_feature_guard.cc:182] This TensorFlow binary is optimized to use available CPU instructions in performance-critical operations.\n",
      "To enable the following instructions: SSE4.1 SSE4.2 AVX AVX2 FMA, in other operations, rebuild TensorFlow with the appropriate compiler flags.\n"
     ]
    }
   ],
   "source": [
    "import numpy as np\n",
    "import os\n",
    "import sys\n",
    "from tqdm import tqdm\n",
    "import json\n",
    "import random\n",
    "import string\n",
    "\n",
    "sys.path.append(os.path.abspath(os.path.join(os.path.pardir, 'src')))\n",
    "\n",
    "from concepts import static_concepts, linear_regression\n",
    "import env\n",
    "from policy import ConvNet\n",
    "\n",
    "import tensorflow as tf\n",
    "\n",
    "# Set memory growth\n",
    "physical_devices = tf.config.list_physical_devices('GPU')\n",
    "tf.config.experimental.set_memory_growth(physical_devices[0], True)\n",
    "\n",
    "model_name = \"net\"\n",
    "session_name = \"falcon\"\n",
    "board_size = 5\n",
    "board_name = f'{board_size}x{board_size}'\n",
    "\n",
    "agents_to_sample = [10, 20, 60, 100, 500, 1000]\n",
    "\n",
    "full_model_path = f\"../models/saved_sessions/board_size_{board_size}/{session_name}/\"\n",
    "\n",
    "CONCEPT_FUNC = static_concepts.has_winning_move\n",
    "\n",
    "CONCEPT_NAME = static_concepts.has_winning_move.__name__\n",
    "\n",
    "CASES_TO_SAMPLE = 250 # 25000\n"
   ]
  },
  {
   "cell_type": "code",
   "execution_count": 2,
   "metadata": {},
   "outputs": [
    {
     "name": "stderr",
     "output_type": "stream",
     "text": [
      "2024-02-09 12:37:15.589897: I tensorflow/core/common_runtime/pluggable_device/pluggable_device_factory.cc:306] Could not identify NUMA node of platform GPU ID 0, defaulting to 0. Your kernel may not have been built with NUMA support.\n",
      "2024-02-09 12:37:15.589940: I tensorflow/core/common_runtime/pluggable_device/pluggable_device_factory.cc:272] Created TensorFlow device (/job:localhost/replica:0/task:0/device:GPU:0 with 0 MB memory) -> physical PluggableDevice (device: 0, name: METAL, pci bus id: <undefined>)\n"
     ]
    }
   ],
   "source": [
    "def load_model(full_name, model_name, epoch):\n",
    "    model_path = full_name + model_name + \"_\" + str(epoch) + \".keras\"\n",
    "    model = ConvNet(board_size, model_path)\n",
    "    return model\n",
    "\n",
    "agents = [load_model(full_model_path, model_name, epoch) for epoch in agents_to_sample]"
   ]
  },
  {
   "cell_type": "code",
   "execution_count": 5,
   "metadata": {},
   "outputs": [
    {
     "name": "stderr",
     "output_type": "stream",
     "text": [
      "Positive cases:   0%|          | 0/250 [00:54<?, ?it/s]\n",
      "Positive cases:  26%|██▌       | 65/250 [01:33<06:16,  2.04s/it]"
     ]
    },
    {
     "ename": "KeyboardInterrupt",
     "evalue": "",
     "output_type": "error",
     "traceback": [
      "\u001b[0;31m---------------------------------------------------------------------------\u001b[0m",
      "\u001b[0;31mKeyboardInterrupt\u001b[0m                         Traceback (most recent call last)",
      "Cell \u001b[0;32mIn[5], line 69\u001b[0m\n\u001b[1;32m     67\u001b[0m \u001b[38;5;28;01mfor\u001b[39;00m i \u001b[38;5;129;01min\u001b[39;00m \u001b[38;5;28mrange\u001b[39m(\u001b[38;5;28mlen\u001b[39m(agents)):\n\u001b[1;32m     68\u001b[0m     \u001b[38;5;28;01mfor\u001b[39;00m j \u001b[38;5;129;01min\u001b[39;00m \u001b[38;5;28mrange\u001b[39m(i \u001b[38;5;241m+\u001b[39m \u001b[38;5;241m1\u001b[39m, \u001b[38;5;28mlen\u001b[39m(agents)):\n\u001b[0;32m---> 69\u001b[0m         pos, neg \u001b[38;5;241m=\u001b[39m \u001b[43mplay_match\u001b[49m\u001b[43m(\u001b[49m\u001b[43m[\u001b[49m\u001b[43magents\u001b[49m\u001b[43m[\u001b[49m\u001b[43mi\u001b[49m\u001b[43m]\u001b[49m\u001b[43m,\u001b[49m\u001b[43m \u001b[49m\u001b[43magents\u001b[49m\u001b[43m[\u001b[49m\u001b[43mj\u001b[49m\u001b[43m]\u001b[49m\u001b[43m]\u001b[49m\u001b[43m,\u001b[49m\u001b[43m \u001b[49m\u001b[43mboard_size\u001b[49m\u001b[43m,\u001b[49m\u001b[43m \u001b[49m\u001b[43mCONCEPT_FUNC\u001b[49m\u001b[43m)\u001b[49m\n\u001b[1;32m     71\u001b[0m         positive_cases\u001b[38;5;241m.\u001b[39mextend(pos)\n\u001b[1;32m     72\u001b[0m         negative_cases\u001b[38;5;241m.\u001b[39mextend(neg)\n",
      "Cell \u001b[0;32mIn[5], line 38\u001b[0m, in \u001b[0;36mplay_match\u001b[0;34m(agents, board_size, concept_function)\u001b[0m\n\u001b[1;32m     35\u001b[0m     state_copy \u001b[38;5;241m=\u001b[39m np\u001b[38;5;241m.\u001b[39marray([state[\u001b[38;5;241m0\u001b[39m], prev_turn_state, state[\u001b[38;5;241m1\u001b[39m], prev_opposing_state, np\u001b[38;5;241m.\u001b[39mones((board_size, board_size))])\n\u001b[1;32m     37\u001b[0m \u001b[38;5;28;01mif\u001b[39;00m np\u001b[38;5;241m.\u001b[39mrandom\u001b[38;5;241m.\u001b[39mrandom() \u001b[38;5;241m<\u001b[39m sample_ratio:\n\u001b[0;32m---> 38\u001b[0m     pos \u001b[38;5;241m=\u001b[39m \u001b[43mconcept_function\u001b[49m\u001b[43m(\u001b[49m\u001b[43mstate\u001b[49m\u001b[43m)\u001b[49m\n\u001b[1;32m     39\u001b[0m     \u001b[38;5;28;01mif\u001b[39;00m pos:\n\u001b[1;32m     40\u001b[0m         positive_cases\u001b[38;5;241m.\u001b[39mappend(state_copy)\n",
      "File \u001b[0;32m~/github/go-xai/src/concepts/static_concepts.py:204\u001b[0m, in \u001b[0;36mhas_winning_move\u001b[0;34m(game_state)\u001b[0m\n\u001b[1;32m    201\u001b[0m \u001b[38;5;28;01mfor\u001b[39;00m i \u001b[38;5;129;01min\u001b[39;00m \u001b[38;5;28mrange\u001b[39m(\u001b[38;5;28mlen\u001b[39m(legal_moves)):\n\u001b[1;32m    202\u001b[0m     \u001b[38;5;28;01mif\u001b[39;00m legal_moves[i] \u001b[38;5;241m==\u001b[39m \u001b[38;5;241m1\u001b[39m:\n\u001b[1;32m    203\u001b[0m         \u001b[38;5;66;03m# Make a copy of the game state and play the move\u001b[39;00m\n\u001b[0;32m--> 204\u001b[0m         game_state_copy \u001b[38;5;241m=\u001b[39m \u001b[43mgame_state\u001b[49m\u001b[38;5;241;43m.\u001b[39;49m\u001b[43mcopy\u001b[49m\u001b[43m(\u001b[49m\u001b[43m)\u001b[49m\n\u001b[1;32m    205\u001b[0m         next_state \u001b[38;5;241m=\u001b[39m gogame\u001b[38;5;241m.\u001b[39mnext_state(game_state_copy, i, canonical\u001b[38;5;241m=\u001b[39m\u001b[38;5;28;01mTrue\u001b[39;00m)\n\u001b[1;32m    207\u001b[0m         \u001b[38;5;66;03m# Check if the next player has any legal moves remaining\u001b[39;00m\n",
      "\u001b[0;31mKeyboardInterrupt\u001b[0m: "
     ]
    }
   ],
   "source": [
    "def play_match(agents, board_size, concept_function):\n",
    "    go_env = env.GoEnv(board_size)\n",
    "    go_env.reset()\n",
    "\n",
    "    player_to_start = 1 if np.random.random() > 0.5 else 0\n",
    "    current_player = player_to_start\n",
    "\n",
    "    total_moves = board_size * board_size * 4\n",
    "    moves = 0\n",
    "    random_moves = False\n",
    "\n",
    "    positive_cases = []\n",
    "    negative_cases = []\n",
    "\n",
    "    sample_ratio = 0.8\n",
    "    alpha = 1\n",
    "\n",
    "    game_over = False\n",
    "\n",
    "    prev_turn_state = np.zeros((board_size, board_size))\n",
    "    temp_prev_turn_state = np.zeros((board_size, board_size))\n",
    "    prev_opposing_state = np.zeros((board_size, board_size))\n",
    "\n",
    "    while not game_over:\n",
    "        if moves == total_moves:\n",
    "            break\n",
    "\n",
    "        state = go_env.canonical_state()\n",
    "\n",
    "        valid_moves = go_env.valid_moves()\n",
    "\n",
    "        if current_player == 0:\n",
    "            state_copy = np.array([state[0], prev_turn_state, state[1], prev_opposing_state, np.zeros((board_size, board_size))])\n",
    "        else:\n",
    "            state_copy = np.array([state[0], prev_turn_state, state[1], prev_opposing_state, np.ones((board_size, board_size))])\n",
    "    \n",
    "        if np.random.random() < sample_ratio:\n",
    "            pos = concept_function(state)\n",
    "            if pos:\n",
    "                positive_cases.append(state_copy)\n",
    "            elif not pos:\n",
    "                negative_cases.append(state_copy)\n",
    "\n",
    "        if random_moves:\n",
    "            action = go_env.uniform_random_action()\n",
    "        else:\n",
    "            action, _ = agents[current_player].best_action(state_copy, valid_moves)\n",
    "\n",
    "        _, _, game_over, _ = go_env.step(action)\n",
    "\n",
    "        moves += 1\n",
    "\n",
    "        current_player = 1 - current_player\n",
    "        # Update the previous state\n",
    "        prev_turn_state = temp_prev_turn_state\n",
    "        prev_opposing_state = state[0]\n",
    "        temp_prev_turn_state = prev_opposing_state\n",
    "    \n",
    "    return positive_cases, negative_cases\n",
    "\n",
    "positive_cases = []\n",
    "negative_cases = []\n",
    "\n",
    "positive_bar = tqdm(total=CASES_TO_SAMPLE, desc=\"Positive cases\")\n",
    "\n",
    "while len(positive_cases) < CASES_TO_SAMPLE or len(negative_cases) < CASES_TO_SAMPLE:\n",
    "    for i in range(len(agents)):\n",
    "        for j in range(i + 1, len(agents)):\n",
    "            pos, neg = play_match([agents[i], agents[j]], board_size, CONCEPT_FUNC)\n",
    "\n",
    "            positive_cases.extend(pos)\n",
    "            negative_cases.extend(neg)\n",
    "\n",
    "            positive_bar.update(len(pos))\n",
    "\n",
    "positive_cases = positive_cases[:CASES_TO_SAMPLE]\n",
    "negative_cases = negative_cases[:CASES_TO_SAMPLE]\n",
    "\n",
    "# Create numpy arrays\n",
    "positive_cases = np.array(positive_cases)\n",
    "negative_cases = np.array(negative_cases)"
   ]
  },
  {
   "cell_type": "code",
   "execution_count": 9,
   "metadata": {},
   "outputs": [
    {
     "name": "stdout",
     "output_type": "stream",
     "text": [
      "Positive cases:  (250, 5, 5, 5)\n",
      "Negative cases:  (250, 5, 5, 5)\n"
     ]
    }
   ],
   "source": [
    "# Print shapes\n",
    "print(\"Positive cases: \", positive_cases.shape)\n",
    "print(\"Negative cases: \", negative_cases.shape)"
   ]
  },
  {
   "cell_type": "code",
   "execution_count": 6,
   "metadata": {},
   "outputs": [],
   "source": [
    "# Test if there are any duplicates accross the two sets\n",
    "for i in range(len(positive_cases)):\n",
    "    for j in range(len(negative_cases)):\n",
    "        if np.array_equal(positive_cases[i], negative_cases[j]):\n",
    "            print(\"Duplicate found!\")\n",
    "            print(positive_cases[i])\n",
    "            print(negative_cases[j])\n",
    "            break"
   ]
  },
  {
   "cell_type": "code",
   "execution_count": 11,
   "metadata": {},
   "outputs": [
    {
     "name": "stdout",
     "output_type": "stream",
     "text": [
      "Duplicate count in positive cases:  0\n",
      "Duplicate count in negative:  10\n"
     ]
    }
   ],
   "source": [
    "# Find the number of any duplicates within the positive cases\n",
    "duplicate_count = 0\n",
    "for i in range(len(positive_cases)):\n",
    "    for j in range(i + 1, len(positive_cases)):\n",
    "        if np.array_equal(positive_cases[i], positive_cases[j]):\n",
    "            duplicate_count += 1\n",
    "            break\n",
    "\n",
    "print(\"Duplicate count in positive cases: \", duplicate_count)\n",
    "\n",
    "# Find the number of any duplicates within the negative cases\n",
    "duplicate_count = 0\n",
    "for i in range(len(negative_cases)):\n",
    "    for j in range(i + 1, len(negative_cases)):\n",
    "        if np.array_equal(negative_cases[i], negative_cases[j]):\n",
    "            duplicate_count += 1\n",
    "            break\n",
    "\n",
    "print(\"Duplicate count in negative: \", duplicate_count)"
   ]
  },
  {
   "cell_type": "code",
   "execution_count": null,
   "metadata": {},
   "outputs": [],
   "source": [
    "# Print all the positive cases\n",
    "for i in range(len(positive_cases)):\n",
    "    print(f\"Positive case {i}:\")\n",
    "    print(positive_cases[i])\n",
    "    print()"
   ]
  },
  {
   "cell_type": "code",
   "execution_count": 12,
   "metadata": {},
   "outputs": [
    {
     "name": "stdout",
     "output_type": "stream",
     "text": [
      "Positions to consider: 400\n"
     ]
    }
   ],
   "source": [
    "# Positions to consider are 80% of the total positions\n",
    "POSITIONS_TO_CONSIDER = int(0.8 * positive_cases.shape[0] * 2)\n",
    "print(f\"Positions to consider: {POSITIONS_TO_CONSIDER}\")\n",
    "#POSITIONS_TO_CONSIDER = 4000 #40000\n",
    "VALIDATION_POSITIONS = 10000 #10000\n",
    "\n",
    "BINARY = True"
   ]
  },
  {
   "cell_type": "code",
   "execution_count": 13,
   "metadata": {},
   "outputs": [
    {
     "name": "stdout",
     "output_type": "stream",
     "text": [
      "Epoch 1/10\n"
     ]
    },
    {
     "name": "stderr",
     "output_type": "stream",
     "text": [
      "2024-02-09 00:19:27.965601: I tensorflow/core/grappler/optimizers/custom_graph_optimizer_registry.cc:114] Plugin optimizer for device_type GPU is enabled.\n",
      "2024-02-09 00:19:28.015228: E tensorflow/core/grappler/optimizers/meta_optimizer.cc:954] model_pruner failed: INVALID_ARGUMENT: Graph does not contain terminal node AssignAddVariableOp_2.\n"
     ]
    },
    {
     "name": "stdout",
     "output_type": "stream",
     "text": [
      "13/13 [==============================] - ETA: 0s - loss: 0.8480"
     ]
    },
    {
     "name": "stderr",
     "output_type": "stream",
     "text": [
      "2024-02-09 00:19:29.551429: I tensorflow/core/grappler/optimizers/custom_graph_optimizer_registry.cc:114] Plugin optimizer for device_type GPU is enabled.\n"
     ]
    },
    {
     "name": "stdout",
     "output_type": "stream",
     "text": [
      "13/13 [==============================] - 2s 65ms/step - loss: 0.8480 - val_loss: 0.8468\n",
      "Epoch 2/10\n",
      "13/13 [==============================] - 0s 29ms/step - loss: 0.8392 - val_loss: 0.8434\n",
      "Epoch 3/10\n",
      "13/13 [==============================] - 0s 25ms/step - loss: 0.8318 - val_loss: 0.8404\n",
      "Epoch 4/10\n",
      "13/13 [==============================] - 0s 25ms/step - loss: 0.8256 - val_loss: 0.8379\n",
      "Epoch 5/10\n",
      "13/13 [==============================] - 0s 25ms/step - loss: 0.8183 - val_loss: 0.8359\n",
      "Epoch 6/10\n",
      "13/13 [==============================] - 0s 24ms/step - loss: 0.8133 - val_loss: 0.8340\n",
      "Epoch 7/10\n",
      "13/13 [==============================] - 0s 25ms/step - loss: 0.8081 - val_loss: 0.8324\n",
      "Epoch 8/10\n",
      "13/13 [==============================] - 0s 26ms/step - loss: 0.8038 - val_loss: 0.8311\n",
      "Epoch 9/10\n",
      "13/13 [==============================] - 0s 24ms/step - loss: 0.7998 - val_loss: 0.8298\n",
      "Epoch 10/10\n",
      "13/13 [==============================] - 0s 24ms/step - loss: 0.7960 - val_loss: 0.8287\n",
      "13/13 [==============================] - 0s 4ms/step\n",
      "0.16999999999999993\n",
      "4/4 [==============================] - 0s 5ms/step\n"
     ]
    },
    {
     "name": "stderr",
     "output_type": "stream",
     "text": [
      "2024-02-09 00:19:32.814516: I tensorflow/core/grappler/optimizers/custom_graph_optimizer_registry.cc:114] Plugin optimizer for device_type GPU is enabled.\n"
     ]
    },
    {
     "name": "stdout",
     "output_type": "stream",
     "text": [
      "Regression score:  0.06000000000000005\n"
     ]
    }
   ],
   "source": [
    "# First test if the concept can be regressed form the inputs\n",
    "name = \"input\"\n",
    "all_cases = np.concatenate([positive_cases, negative_cases])\n",
    "all_labels = [1] * positive_cases.shape[0] + [0] * negative_cases.shape[0]\n",
    "all_labels = np.array(all_labels)\n",
    "shuffled_indices = np.arange(all_labels.shape[0])\n",
    "\n",
    "np.random.shuffle(shuffled_indices)\n",
    "\n",
    "all_cases = all_cases[shuffled_indices]\n",
    "all_labels = all_labels[shuffled_indices]\n",
    "\n",
    "points = all_cases.reshape(all_cases.shape[0], -1)\n",
    "\n",
    "# Use the regression\n",
    "score = linear_regression.perform_regression(\n",
    "    points=points[:POSITIONS_TO_CONSIDER], \n",
    "    targets=all_labels[:POSITIONS_TO_CONSIDER], \n",
    "    validation_points=points[POSITIONS_TO_CONSIDER:], \n",
    "    validation_targets=all_labels[POSITIONS_TO_CONSIDER:], \n",
    "    is_binary=BINARY,\n",
    "    epochs=10\n",
    ")\n",
    "\n",
    "print(\"Regression score: \", score)\n",
    "\n",
    "# Remove the files if they exist\n",
    "if os.path.exists(\"../concept_presences/static/{}/{}/{}/\".format(board_name, session_name, CONCEPT_NAME)):\n",
    "    # Test if epoch folder exists\n",
    "    if os.path.exists(\"../concept_presences/static/{}/{}/{}/{}\".format(board_name, session_name, CONCEPT_NAME, name)):\n",
    "        # Remove all files in the epoch folder\n",
    "        # Fist save the \n",
    "        for file in os.listdir(\"../concept_presences/static/{}/{}/{}/{}\".format(board_name, session_name, CONCEPT_NAME, name)):\n",
    "            os.remove(\"../concept_presences/static/{}/{}/{}/{}/{}\".format(board_name, session_name, CONCEPT_NAME, name, file))\n",
    "\n",
    "os.makedirs(\"../concept_presences\", exist_ok=True)\n",
    "os.makedirs(\"../concept_presences/static\", exist_ok=True)\n",
    "os.makedirs(\"../concept_presences/static/{}\".format(board_name), exist_ok=True)\n",
    "os.makedirs(\"../concept_presences/static/{}/{}\".format(board_name, session_name), exist_ok=True)\n",
    "os.makedirs(\"../concept_presences/static/{}/{}/{}\".format(board_name, session_name, CONCEPT_NAME), exist_ok=True)\n",
    "os.makedirs(\"../concept_presences/static/{}/{}/{}/{}\".format(board_name, session_name, CONCEPT_NAME, name), exist_ok=True)\n",
    "\n",
    "random_suffix = ''.join(random.choices(string.ascii_uppercase + string.digits, k=10))\n",
    "\n",
    "# Save concept presences in json file\n",
    "with open(\"../concept_presences/static/{}/{}/{}/{}/{}.json\".format(board_name, session_name, CONCEPT_NAME, name, random_suffix), \"w\") as f:\n",
    "    json.dump(score, f)"
   ]
  },
  {
   "cell_type": "code",
   "execution_count": 15,
   "metadata": {},
   "outputs": [
    {
     "name": "stderr",
     "output_type": "stream",
     "text": [
      "Getting activation outputs: 100%|██████████| 16/16 [00:00<00:00, 86.46it/s]\n"
     ]
    },
    {
     "name": "stdout",
     "output_type": "stream",
     "text": [
      "Performing regression for layer 0\n",
      "Epoch 1/10\n"
     ]
    },
    {
     "name": "stderr",
     "output_type": "stream",
     "text": [
      "2024-02-09 00:20:59.293121: I tensorflow/core/grappler/optimizers/custom_graph_optimizer_registry.cc:114] Plugin optimizer for device_type GPU is enabled.\n",
      "2024-02-09 00:20:59.331931: E tensorflow/core/grappler/optimizers/meta_optimizer.cc:954] model_pruner failed: INVALID_ARGUMENT: Graph does not contain terminal node AssignAddVariableOp_2.\n"
     ]
    },
    {
     "name": "stdout",
     "output_type": "stream",
     "text": [
      "13/13 [==============================] - ETA: 0s - loss: 1.0813"
     ]
    },
    {
     "name": "stderr",
     "output_type": "stream",
     "text": [
      "2024-02-09 00:21:00.463159: I tensorflow/core/grappler/optimizers/custom_graph_optimizer_registry.cc:114] Plugin optimizer for device_type GPU is enabled.\n"
     ]
    },
    {
     "name": "stdout",
     "output_type": "stream",
     "text": [
      "13/13 [==============================] - 2s 79ms/step - loss: 1.0813 - val_loss: 1.0605\n",
      "Epoch 2/10\n",
      "13/13 [==============================] - 0s 28ms/step - loss: 1.0675 - val_loss: 1.0466\n",
      "Epoch 3/10\n",
      "13/13 [==============================] - 0s 26ms/step - loss: 1.0542 - val_loss: 1.0335\n",
      "Epoch 4/10\n",
      "13/13 [==============================] - 0s 25ms/step - loss: 1.0414 - val_loss: 1.0211\n",
      "Epoch 5/10\n",
      "13/13 [==============================] - 0s 26ms/step - loss: 1.0291 - val_loss: 1.0094\n",
      "Epoch 6/10\n",
      "13/13 [==============================] - 0s 28ms/step - loss: 1.0171 - val_loss: 0.9979\n",
      "Epoch 7/10\n",
      "13/13 [==============================] - 0s 32ms/step - loss: 1.0053 - val_loss: 0.9870\n",
      "Epoch 8/10\n",
      "13/13 [==============================] - 0s 25ms/step - loss: 0.9937 - val_loss: 0.9762\n",
      "Epoch 9/10\n",
      "13/13 [==============================] - 0s 32ms/step - loss: 0.9823 - val_loss: 0.9653\n",
      "Epoch 10/10\n",
      "13/13 [==============================] - 0s 29ms/step - loss: 0.9712 - val_loss: 0.9545\n",
      "13/13 [==============================] - 0s 4ms/step\n",
      "0.18500000000000005\n",
      "4/4 [==============================] - 0s 15ms/step\n"
     ]
    },
    {
     "name": "stderr",
     "output_type": "stream",
     "text": [
      "2024-02-09 00:21:04.073644: I tensorflow/core/grappler/optimizers/custom_graph_optimizer_registry.cc:114] Plugin optimizer for device_type GPU is enabled.\n"
     ]
    },
    {
     "name": "stdout",
     "output_type": "stream",
     "text": [
      "The presence of has_winning_move in resblock 0 is 0.21999999999999997\n",
      "Performing regression for layer 1\n",
      "Epoch 1/10\n"
     ]
    },
    {
     "name": "stderr",
     "output_type": "stream",
     "text": [
      "2024-02-09 00:21:04.638938: I tensorflow/core/grappler/optimizers/custom_graph_optimizer_registry.cc:114] Plugin optimizer for device_type GPU is enabled.\n",
      "2024-02-09 00:21:04.673827: E tensorflow/core/grappler/optimizers/meta_optimizer.cc:954] model_pruner failed: INVALID_ARGUMENT: Graph does not contain terminal node AssignAddVariableOp_2.\n"
     ]
    },
    {
     "name": "stdout",
     "output_type": "stream",
     "text": [
      "13/13 [==============================] - ETA: 0s - loss: 1.1601"
     ]
    },
    {
     "name": "stderr",
     "output_type": "stream",
     "text": [
      "2024-02-09 00:21:05.614723: I tensorflow/core/grappler/optimizers/custom_graph_optimizer_registry.cc:114] Plugin optimizer for device_type GPU is enabled.\n"
     ]
    },
    {
     "name": "stdout",
     "output_type": "stream",
     "text": [
      "13/13 [==============================] - 2s 72ms/step - loss: 1.1601 - val_loss: 1.1393\n",
      "Epoch 2/10\n",
      "13/13 [==============================] - 0s 25ms/step - loss: 1.1401 - val_loss: 1.1185\n",
      "Epoch 3/10\n",
      "13/13 [==============================] - 0s 25ms/step - loss: 1.1200 - val_loss: 1.0993\n",
      "Epoch 4/10\n",
      "13/13 [==============================] - 0s 26ms/step - loss: 1.1017 - val_loss: 1.0811\n",
      "Epoch 5/10\n",
      "13/13 [==============================] - 0s 26ms/step - loss: 1.0838 - val_loss: 1.0640\n",
      "Epoch 6/10\n",
      "13/13 [==============================] - 0s 25ms/step - loss: 1.0665 - val_loss: 1.0472\n",
      "Epoch 7/10\n",
      "13/13 [==============================] - 0s 25ms/step - loss: 1.0498 - val_loss: 1.0307\n",
      "Epoch 8/10\n",
      "13/13 [==============================] - 0s 26ms/step - loss: 1.0336 - val_loss: 1.0146\n",
      "Epoch 9/10\n",
      "13/13 [==============================] - 0s 25ms/step - loss: 1.0180 - val_loss: 0.9993\n",
      "Epoch 10/10\n",
      "13/13 [==============================] - 0s 24ms/step - loss: 1.0026 - val_loss: 0.9848\n",
      "13/13 [==============================] - 0s 4ms/step\n",
      "0.014999999999999902\n",
      "4/4 [==============================] - 0s 5ms/step\n"
     ]
    },
    {
     "name": "stderr",
     "output_type": "stream",
     "text": [
      "2024-02-09 00:21:08.901704: I tensorflow/core/grappler/optimizers/custom_graph_optimizer_registry.cc:114] Plugin optimizer for device_type GPU is enabled.\n"
     ]
    },
    {
     "name": "stdout",
     "output_type": "stream",
     "text": [
      "The presence of has_winning_move in resblock 1 is 0.08000000000000007\n",
      "Performing regression for layer 2\n",
      "Epoch 1/10\n"
     ]
    },
    {
     "name": "stderr",
     "output_type": "stream",
     "text": [
      "2024-02-09 00:21:10.151972: I tensorflow/core/grappler/optimizers/custom_graph_optimizer_registry.cc:114] Plugin optimizer for device_type GPU is enabled.\n",
      "2024-02-09 00:21:10.186765: E tensorflow/core/grappler/optimizers/meta_optimizer.cc:954] model_pruner failed: INVALID_ARGUMENT: Graph does not contain terminal node AssignAddVariableOp_2.\n"
     ]
    },
    {
     "name": "stdout",
     "output_type": "stream",
     "text": [
      "13/13 [==============================] - ETA: 0s - loss: 1.1455"
     ]
    },
    {
     "name": "stderr",
     "output_type": "stream",
     "text": [
      "2024-02-09 00:21:11.002443: I tensorflow/core/grappler/optimizers/custom_graph_optimizer_registry.cc:114] Plugin optimizer for device_type GPU is enabled.\n"
     ]
    },
    {
     "name": "stdout",
     "output_type": "stream",
     "text": [
      "13/13 [==============================] - 2s 62ms/step - loss: 1.1455 - val_loss: 1.1220\n",
      "Epoch 2/10\n",
      "13/13 [==============================] - 0s 25ms/step - loss: 1.1248 - val_loss: 1.1018\n",
      "Epoch 3/10\n",
      "13/13 [==============================] - 0s 25ms/step - loss: 1.1053 - val_loss: 1.0823\n",
      "Epoch 4/10\n",
      "13/13 [==============================] - 0s 25ms/step - loss: 1.0862 - val_loss: 1.0636\n",
      "Epoch 5/10\n",
      "13/13 [==============================] - 0s 25ms/step - loss: 1.0678 - val_loss: 1.0459\n",
      "Epoch 6/10\n",
      "13/13 [==============================] - 0s 25ms/step - loss: 1.0501 - val_loss: 1.0287\n",
      "Epoch 7/10\n",
      "13/13 [==============================] - 0s 25ms/step - loss: 1.0328 - val_loss: 1.0116\n",
      "Epoch 8/10\n",
      "13/13 [==============================] - 0s 24ms/step - loss: 1.0159 - val_loss: 0.9953\n",
      "Epoch 9/10\n",
      "13/13 [==============================] - 0s 25ms/step - loss: 0.9994 - val_loss: 0.9792\n",
      "Epoch 10/10\n",
      "13/13 [==============================] - 0s 25ms/step - loss: 0.9834 - val_loss: 0.9635\n",
      "13/13 [==============================] - 0s 3ms/step\n",
      "-0.020000000000000018\n",
      "4/4 [==============================] - 0s 5ms/step\n"
     ]
    },
    {
     "name": "stderr",
     "output_type": "stream",
     "text": [
      "2024-02-09 00:21:14.175159: I tensorflow/core/grappler/optimizers/custom_graph_optimizer_registry.cc:114] Plugin optimizer for device_type GPU is enabled.\n"
     ]
    },
    {
     "name": "stdout",
     "output_type": "stream",
     "text": [
      "The presence of has_winning_move in resblock 2 is 0.08000000000000007\n"
     ]
    },
    {
     "name": "stderr",
     "output_type": "stream",
     "text": [
      "Getting activation outputs: 100%|██████████| 16/16 [00:00<00:00, 110.02it/s]\n"
     ]
    },
    {
     "name": "stdout",
     "output_type": "stream",
     "text": [
      "Performing regression for layer 0\n",
      "Epoch 1/10\n"
     ]
    },
    {
     "name": "stderr",
     "output_type": "stream",
     "text": [
      "2024-02-09 00:21:15.011776: I tensorflow/core/grappler/optimizers/custom_graph_optimizer_registry.cc:114] Plugin optimizer for device_type GPU is enabled.\n",
      "2024-02-09 00:21:15.044539: E tensorflow/core/grappler/optimizers/meta_optimizer.cc:954] model_pruner failed: INVALID_ARGUMENT: Graph does not contain terminal node AssignAddVariableOp_2.\n"
     ]
    },
    {
     "name": "stdout",
     "output_type": "stream",
     "text": [
      "13/13 [==============================] - ETA: 0s - loss: 1.1334"
     ]
    },
    {
     "name": "stderr",
     "output_type": "stream",
     "text": [
      "2024-02-09 00:21:15.850803: I tensorflow/core/grappler/optimizers/custom_graph_optimizer_registry.cc:114] Plugin optimizer for device_type GPU is enabled.\n"
     ]
    },
    {
     "name": "stdout",
     "output_type": "stream",
     "text": [
      "13/13 [==============================] - 1s 62ms/step - loss: 1.1334 - val_loss: 1.1043\n",
      "Epoch 2/10\n",
      "13/13 [==============================] - 0s 26ms/step - loss: 1.1136 - val_loss: 1.0822\n",
      "Epoch 3/10\n",
      "13/13 [==============================] - 0s 25ms/step - loss: 1.0959 - val_loss: 1.0646\n",
      "Epoch 4/10\n",
      "13/13 [==============================] - 0s 25ms/step - loss: 1.0807 - val_loss: 1.0485\n",
      "Epoch 5/10\n",
      "13/13 [==============================] - 0s 25ms/step - loss: 1.0668 - val_loss: 1.0330\n",
      "Epoch 6/10\n",
      "13/13 [==============================] - 0s 25ms/step - loss: 1.0532 - val_loss: 1.0201\n",
      "Epoch 7/10\n",
      "13/13 [==============================] - 0s 25ms/step - loss: 1.0406 - val_loss: 1.0069\n",
      "Epoch 8/10\n",
      "13/13 [==============================] - 0s 26ms/step - loss: 1.0279 - val_loss: 0.9949\n",
      "Epoch 9/10\n",
      "13/13 [==============================] - 0s 24ms/step - loss: 1.0156 - val_loss: 0.9829\n",
      "Epoch 10/10\n",
      "13/13 [==============================] - 0s 25ms/step - loss: 1.0036 - val_loss: 0.9717\n",
      "13/13 [==============================] - 0s 3ms/step\n",
      "0.125\n",
      "4/4 [==============================] - 0s 5ms/step\n"
     ]
    },
    {
     "name": "stderr",
     "output_type": "stream",
     "text": [
      "2024-02-09 00:21:19.070594: I tensorflow/core/grappler/optimizers/custom_graph_optimizer_registry.cc:114] Plugin optimizer for device_type GPU is enabled.\n"
     ]
    },
    {
     "name": "stdout",
     "output_type": "stream",
     "text": [
      "The presence of has_winning_move in resblock 0 is 0.24\n",
      "Performing regression for layer 1\n",
      "Epoch 1/10\n"
     ]
    },
    {
     "name": "stderr",
     "output_type": "stream",
     "text": [
      "2024-02-09 00:21:19.552898: I tensorflow/core/grappler/optimizers/custom_graph_optimizer_registry.cc:114] Plugin optimizer for device_type GPU is enabled.\n",
      "2024-02-09 00:21:19.584736: E tensorflow/core/grappler/optimizers/meta_optimizer.cc:954] model_pruner failed: INVALID_ARGUMENT: Graph does not contain terminal node AssignAddVariableOp_2.\n"
     ]
    },
    {
     "name": "stdout",
     "output_type": "stream",
     "text": [
      "13/13 [==============================] - ETA: 0s - loss: 1.1547"
     ]
    },
    {
     "name": "stderr",
     "output_type": "stream",
     "text": [
      "2024-02-09 00:21:20.398058: I tensorflow/core/grappler/optimizers/custom_graph_optimizer_registry.cc:114] Plugin optimizer for device_type GPU is enabled.\n"
     ]
    },
    {
     "name": "stdout",
     "output_type": "stream",
     "text": [
      "13/13 [==============================] - 1s 60ms/step - loss: 1.1547 - val_loss: 1.1656\n",
      "Epoch 2/10\n",
      "13/13 [==============================] - 0s 28ms/step - loss: 1.1248 - val_loss: 1.1315\n",
      "Epoch 3/10\n",
      "13/13 [==============================] - 0s 25ms/step - loss: 1.1005 - val_loss: 1.1057\n",
      "Epoch 4/10\n",
      "13/13 [==============================] - 0s 25ms/step - loss: 1.0806 - val_loss: 1.0837\n",
      "Epoch 5/10\n",
      "13/13 [==============================] - 0s 25ms/step - loss: 1.0636 - val_loss: 1.0628\n",
      "Epoch 6/10\n",
      "13/13 [==============================] - 0s 25ms/step - loss: 1.0472 - val_loss: 1.0449\n",
      "Epoch 7/10\n",
      "13/13 [==============================] - 0s 25ms/step - loss: 1.0315 - val_loss: 1.0282\n",
      "Epoch 8/10\n",
      "13/13 [==============================] - 0s 25ms/step - loss: 1.0164 - val_loss: 1.0124\n",
      "Epoch 9/10\n",
      "13/13 [==============================] - 0s 25ms/step - loss: 1.0012 - val_loss: 0.9970\n",
      "Epoch 10/10\n",
      "13/13 [==============================] - 0s 25ms/step - loss: 0.9865 - val_loss: 0.9826\n",
      "13/13 [==============================] - 0s 3ms/step\n",
      "0.355\n",
      "4/4 [==============================] - 0s 5ms/step\n"
     ]
    },
    {
     "name": "stderr",
     "output_type": "stream",
     "text": [
      "2024-02-09 00:21:23.624341: I tensorflow/core/grappler/optimizers/custom_graph_optimizer_registry.cc:114] Plugin optimizer for device_type GPU is enabled.\n"
     ]
    },
    {
     "name": "stdout",
     "output_type": "stream",
     "text": [
      "The presence of has_winning_move in resblock 1 is 0.32000000000000006\n",
      "Performing regression for layer 2\n",
      "Epoch 1/10\n"
     ]
    },
    {
     "name": "stderr",
     "output_type": "stream",
     "text": [
      "2024-02-09 00:21:24.092889: I tensorflow/core/grappler/optimizers/custom_graph_optimizer_registry.cc:114] Plugin optimizer for device_type GPU is enabled.\n",
      "2024-02-09 00:21:24.124994: E tensorflow/core/grappler/optimizers/meta_optimizer.cc:954] model_pruner failed: INVALID_ARGUMENT: Graph does not contain terminal node AssignAddVariableOp_2.\n"
     ]
    },
    {
     "name": "stdout",
     "output_type": "stream",
     "text": [
      "13/13 [==============================] - ETA: 0s - loss: 1.2015"
     ]
    },
    {
     "name": "stderr",
     "output_type": "stream",
     "text": [
      "2024-02-09 00:21:24.914670: I tensorflow/core/grappler/optimizers/custom_graph_optimizer_registry.cc:114] Plugin optimizer for device_type GPU is enabled.\n"
     ]
    },
    {
     "name": "stdout",
     "output_type": "stream",
     "text": [
      "13/13 [==============================] - 1s 62ms/step - loss: 1.2015 - val_loss: 1.2001\n",
      "Epoch 2/10\n",
      "13/13 [==============================] - 0s 27ms/step - loss: 1.1692 - val_loss: 1.1643\n",
      "Epoch 3/10\n",
      "13/13 [==============================] - 0s 26ms/step - loss: 1.1423 - val_loss: 1.1372\n",
      "Epoch 4/10\n",
      "13/13 [==============================] - 0s 25ms/step - loss: 1.1206 - val_loss: 1.1115\n",
      "Epoch 5/10\n",
      "13/13 [==============================] - 0s 25ms/step - loss: 1.1013 - val_loss: 1.0891\n",
      "Epoch 6/10\n",
      "13/13 [==============================] - 0s 25ms/step - loss: 1.0829 - val_loss: 1.0699\n",
      "Epoch 7/10\n",
      "13/13 [==============================] - 0s 25ms/step - loss: 1.0655 - val_loss: 1.0523\n",
      "Epoch 8/10\n",
      "13/13 [==============================] - 0s 26ms/step - loss: 1.0489 - val_loss: 1.0346\n",
      "Epoch 9/10\n",
      "13/13 [==============================] - 0s 25ms/step - loss: 1.0327 - val_loss: 1.0187\n",
      "Epoch 10/10\n",
      "13/13 [==============================] - 0s 25ms/step - loss: 1.0169 - val_loss: 1.0033\n",
      "13/13 [==============================] - 0s 3ms/step\n",
      "0.21500000000000008\n",
      "4/4 [==============================] - 0s 5ms/step\n"
     ]
    },
    {
     "name": "stderr",
     "output_type": "stream",
     "text": [
      "2024-02-09 00:21:28.169707: I tensorflow/core/grappler/optimizers/custom_graph_optimizer_registry.cc:114] Plugin optimizer for device_type GPU is enabled.\n"
     ]
    },
    {
     "name": "stdout",
     "output_type": "stream",
     "text": [
      "The presence of has_winning_move in resblock 2 is 0.21999999999999997\n"
     ]
    },
    {
     "name": "stderr",
     "output_type": "stream",
     "text": [
      "Getting activation outputs: 100%|██████████| 16/16 [00:00<00:00, 102.28it/s]\n"
     ]
    },
    {
     "name": "stdout",
     "output_type": "stream",
     "text": [
      "Performing regression for layer 0\n",
      "Epoch 1/10\n"
     ]
    },
    {
     "name": "stderr",
     "output_type": "stream",
     "text": [
      "2024-02-09 00:21:29.027263: I tensorflow/core/grappler/optimizers/custom_graph_optimizer_registry.cc:114] Plugin optimizer for device_type GPU is enabled.\n",
      "2024-02-09 00:21:29.060167: E tensorflow/core/grappler/optimizers/meta_optimizer.cc:954] model_pruner failed: INVALID_ARGUMENT: Graph does not contain terminal node AssignAddVariableOp_2.\n"
     ]
    },
    {
     "name": "stdout",
     "output_type": "stream",
     "text": [
      "13/13 [==============================] - ETA: 0s - loss: 1.1553"
     ]
    },
    {
     "name": "stderr",
     "output_type": "stream",
     "text": [
      "2024-02-09 00:21:29.903907: I tensorflow/core/grappler/optimizers/custom_graph_optimizer_registry.cc:114] Plugin optimizer for device_type GPU is enabled.\n"
     ]
    },
    {
     "name": "stdout",
     "output_type": "stream",
     "text": [
      "13/13 [==============================] - 1s 66ms/step - loss: 1.1553 - val_loss: 1.1463\n",
      "Epoch 2/10\n",
      "13/13 [==============================] - 0s 25ms/step - loss: 1.1177 - val_loss: 1.1108\n",
      "Epoch 3/10\n",
      "13/13 [==============================] - 0s 25ms/step - loss: 1.0884 - val_loss: 1.0852\n",
      "Epoch 4/10\n",
      "13/13 [==============================] - 0s 25ms/step - loss: 1.0681 - val_loss: 1.0637\n",
      "Epoch 5/10\n",
      "13/13 [==============================] - 0s 25ms/step - loss: 1.0501 - val_loss: 1.0466\n",
      "Epoch 6/10\n",
      "13/13 [==============================] - 0s 25ms/step - loss: 1.0339 - val_loss: 1.0316\n",
      "Epoch 7/10\n",
      "13/13 [==============================] - 0s 26ms/step - loss: 1.0187 - val_loss: 1.0169\n",
      "Epoch 8/10\n",
      "13/13 [==============================] - 0s 25ms/step - loss: 1.0046 - val_loss: 1.0031\n",
      "Epoch 9/10\n",
      "13/13 [==============================] - 0s 27ms/step - loss: 0.9907 - val_loss: 0.9904\n",
      "Epoch 10/10\n",
      "13/13 [==============================] - 0s 25ms/step - loss: 0.9771 - val_loss: 0.9779\n",
      "13/13 [==============================] - 0s 3ms/step\n",
      "0.43999999999999995\n",
      "4/4 [==============================] - 0s 5ms/step\n"
     ]
    },
    {
     "name": "stderr",
     "output_type": "stream",
     "text": [
      "2024-02-09 00:21:33.169604: I tensorflow/core/grappler/optimizers/custom_graph_optimizer_registry.cc:114] Plugin optimizer for device_type GPU is enabled.\n"
     ]
    },
    {
     "name": "stdout",
     "output_type": "stream",
     "text": [
      "The presence of has_winning_move in resblock 0 is 0.3400000000000001\n",
      "Performing regression for layer 1\n",
      "Epoch 1/10\n"
     ]
    },
    {
     "name": "stderr",
     "output_type": "stream",
     "text": [
      "2024-02-09 00:21:33.647003: I tensorflow/core/grappler/optimizers/custom_graph_optimizer_registry.cc:114] Plugin optimizer for device_type GPU is enabled.\n",
      "2024-02-09 00:21:33.682616: E tensorflow/core/grappler/optimizers/meta_optimizer.cc:954] model_pruner failed: INVALID_ARGUMENT: Graph does not contain terminal node AssignAddVariableOp_2.\n"
     ]
    },
    {
     "name": "stdout",
     "output_type": "stream",
     "text": [
      "13/13 [==============================] - ETA: 0s - loss: 1.1325"
     ]
    },
    {
     "name": "stderr",
     "output_type": "stream",
     "text": [
      "2024-02-09 00:21:34.531137: I tensorflow/core/grappler/optimizers/custom_graph_optimizer_registry.cc:114] Plugin optimizer for device_type GPU is enabled.\n"
     ]
    },
    {
     "name": "stdout",
     "output_type": "stream",
     "text": [
      "13/13 [==============================] - 1s 66ms/step - loss: 1.1325 - val_loss: 1.1153\n",
      "Epoch 2/10\n",
      "13/13 [==============================] - 0s 26ms/step - loss: 1.1100 - val_loss: 1.0957\n",
      "Epoch 3/10\n",
      "13/13 [==============================] - 0s 26ms/step - loss: 1.0901 - val_loss: 1.0788\n",
      "Epoch 4/10\n",
      "13/13 [==============================] - 0s 25ms/step - loss: 1.0707 - val_loss: 1.0607\n",
      "Epoch 5/10\n",
      "13/13 [==============================] - 0s 25ms/step - loss: 1.0524 - val_loss: 1.0436\n",
      "Epoch 6/10\n",
      "13/13 [==============================] - 0s 25ms/step - loss: 1.0342 - val_loss: 1.0278\n",
      "Epoch 7/10\n",
      "13/13 [==============================] - 0s 25ms/step - loss: 1.0169 - val_loss: 1.0115\n",
      "Epoch 8/10\n",
      "13/13 [==============================] - 0s 25ms/step - loss: 1.0001 - val_loss: 0.9966\n",
      "Epoch 9/10\n",
      "13/13 [==============================] - 0s 24ms/step - loss: 0.9830 - val_loss: 0.9815\n",
      "Epoch 10/10\n",
      "13/13 [==============================] - 0s 25ms/step - loss: 0.9668 - val_loss: 0.9665\n",
      "13/13 [==============================] - 0s 3ms/step\n",
      "0.6100000000000001\n",
      "4/4 [==============================] - 0s 5ms/step\n"
     ]
    },
    {
     "name": "stderr",
     "output_type": "stream",
     "text": [
      "2024-02-09 00:21:37.771148: I tensorflow/core/grappler/optimizers/custom_graph_optimizer_registry.cc:114] Plugin optimizer for device_type GPU is enabled.\n"
     ]
    },
    {
     "name": "stdout",
     "output_type": "stream",
     "text": [
      "The presence of has_winning_move in resblock 1 is 0.6399999999999999\n",
      "Performing regression for layer 2\n",
      "Epoch 1/10\n"
     ]
    },
    {
     "name": "stderr",
     "output_type": "stream",
     "text": [
      "2024-02-09 00:21:38.249521: I tensorflow/core/grappler/optimizers/custom_graph_optimizer_registry.cc:114] Plugin optimizer for device_type GPU is enabled.\n",
      "2024-02-09 00:21:38.282424: E tensorflow/core/grappler/optimizers/meta_optimizer.cc:954] model_pruner failed: INVALID_ARGUMENT: Graph does not contain terminal node AssignAddVariableOp_2.\n"
     ]
    },
    {
     "name": "stdout",
     "output_type": "stream",
     "text": [
      "13/13 [==============================] - ETA: 0s - loss: 1.2104"
     ]
    },
    {
     "name": "stderr",
     "output_type": "stream",
     "text": [
      "2024-02-09 00:21:39.175387: I tensorflow/core/grappler/optimizers/custom_graph_optimizer_registry.cc:114] Plugin optimizer for device_type GPU is enabled.\n"
     ]
    },
    {
     "name": "stdout",
     "output_type": "stream",
     "text": [
      "13/13 [==============================] - 1s 66ms/step - loss: 1.2104 - val_loss: 1.2043\n",
      "Epoch 2/10\n",
      "13/13 [==============================] - 0s 27ms/step - loss: 1.1754 - val_loss: 1.1680\n",
      "Epoch 3/10\n",
      "13/13 [==============================] - 0s 26ms/step - loss: 1.1454 - val_loss: 1.1391\n",
      "Epoch 4/10\n",
      "13/13 [==============================] - 0s 27ms/step - loss: 1.1209 - val_loss: 1.1139\n",
      "Epoch 5/10\n",
      "13/13 [==============================] - 0s 26ms/step - loss: 1.0984 - val_loss: 1.0922\n",
      "Epoch 6/10\n",
      "13/13 [==============================] - 0s 26ms/step - loss: 1.0777 - val_loss: 1.0739\n",
      "Epoch 7/10\n",
      "13/13 [==============================] - 0s 25ms/step - loss: 1.0590 - val_loss: 1.0556\n",
      "Epoch 8/10\n",
      "13/13 [==============================] - 0s 26ms/step - loss: 1.0409 - val_loss: 1.0378\n",
      "Epoch 9/10\n",
      "13/13 [==============================] - 0s 29ms/step - loss: 1.0230 - val_loss: 1.0222\n",
      "Epoch 10/10\n",
      "13/13 [==============================] - 0s 27ms/step - loss: 1.0061 - val_loss: 1.0065\n",
      "13/13 [==============================] - 0s 4ms/step\n",
      "0.575\n",
      "4/4 [==============================] - 0s 5ms/step\n"
     ]
    },
    {
     "name": "stderr",
     "output_type": "stream",
     "text": [
      "2024-02-09 00:21:42.582977: I tensorflow/core/grappler/optimizers/custom_graph_optimizer_registry.cc:114] Plugin optimizer for device_type GPU is enabled.\n"
     ]
    },
    {
     "name": "stdout",
     "output_type": "stream",
     "text": [
      "The presence of has_winning_move in resblock 2 is 0.48\n"
     ]
    },
    {
     "name": "stderr",
     "output_type": "stream",
     "text": [
      "Getting activation outputs: 100%|██████████| 16/16 [00:00<00:00, 101.75it/s]\n"
     ]
    },
    {
     "name": "stdout",
     "output_type": "stream",
     "text": [
      "Performing regression for layer 0\n",
      "Epoch 1/10\n"
     ]
    },
    {
     "name": "stderr",
     "output_type": "stream",
     "text": [
      "2024-02-09 00:21:43.469805: I tensorflow/core/grappler/optimizers/custom_graph_optimizer_registry.cc:114] Plugin optimizer for device_type GPU is enabled.\n",
      "2024-02-09 00:21:43.501679: E tensorflow/core/grappler/optimizers/meta_optimizer.cc:954] model_pruner failed: INVALID_ARGUMENT: Graph does not contain terminal node AssignAddVariableOp_2.\n"
     ]
    },
    {
     "name": "stdout",
     "output_type": "stream",
     "text": [
      "13/13 [==============================] - ETA: 0s - loss: 1.1575"
     ]
    },
    {
     "name": "stderr",
     "output_type": "stream",
     "text": [
      "2024-02-09 00:21:44.445117: I tensorflow/core/grappler/optimizers/custom_graph_optimizer_registry.cc:114] Plugin optimizer for device_type GPU is enabled.\n"
     ]
    },
    {
     "name": "stdout",
     "output_type": "stream",
     "text": [
      "13/13 [==============================] - 2s 74ms/step - loss: 1.1575 - val_loss: 1.1080\n",
      "Epoch 2/10\n",
      "13/13 [==============================] - 0s 26ms/step - loss: 1.1362 - val_loss: 1.0865\n",
      "Epoch 3/10\n",
      "13/13 [==============================] - 0s 27ms/step - loss: 1.1168 - val_loss: 1.0680\n",
      "Epoch 4/10\n",
      "13/13 [==============================] - 0s 25ms/step - loss: 1.0982 - val_loss: 1.0510\n",
      "Epoch 5/10\n",
      "13/13 [==============================] - 0s 26ms/step - loss: 1.0804 - val_loss: 1.0349\n",
      "Epoch 6/10\n",
      "13/13 [==============================] - 0s 25ms/step - loss: 1.0629 - val_loss: 1.0187\n",
      "Epoch 7/10\n",
      "13/13 [==============================] - 0s 25ms/step - loss: 1.0461 - val_loss: 1.0051\n",
      "Epoch 8/10\n",
      "13/13 [==============================] - 0s 25ms/step - loss: 1.0302 - val_loss: 0.9908\n",
      "Epoch 9/10\n",
      "13/13 [==============================] - 0s 25ms/step - loss: 1.0140 - val_loss: 0.9786\n",
      "Epoch 10/10\n",
      "13/13 [==============================] - 0s 25ms/step - loss: 0.9985 - val_loss: 0.9649\n",
      "13/13 [==============================] - 0s 4ms/step\n",
      "0.375\n",
      "4/4 [==============================] - 0s 5ms/step\n"
     ]
    },
    {
     "name": "stderr",
     "output_type": "stream",
     "text": [
      "2024-02-09 00:21:47.749065: I tensorflow/core/grappler/optimizers/custom_graph_optimizer_registry.cc:114] Plugin optimizer for device_type GPU is enabled.\n"
     ]
    },
    {
     "name": "stdout",
     "output_type": "stream",
     "text": [
      "The presence of has_winning_move in resblock 0 is 0.32000000000000006\n",
      "Performing regression for layer 1\n",
      "Epoch 1/10\n"
     ]
    },
    {
     "name": "stderr",
     "output_type": "stream",
     "text": [
      "2024-02-09 00:21:48.241237: I tensorflow/core/grappler/optimizers/custom_graph_optimizer_registry.cc:114] Plugin optimizer for device_type GPU is enabled.\n",
      "2024-02-09 00:21:48.272936: E tensorflow/core/grappler/optimizers/meta_optimizer.cc:954] model_pruner failed: INVALID_ARGUMENT: Graph does not contain terminal node AssignAddVariableOp_2.\n"
     ]
    },
    {
     "name": "stdout",
     "output_type": "stream",
     "text": [
      "13/13 [==============================] - ETA: 0s - loss: 1.2337"
     ]
    },
    {
     "name": "stderr",
     "output_type": "stream",
     "text": [
      "2024-02-09 00:21:49.210714: I tensorflow/core/grappler/optimizers/custom_graph_optimizer_registry.cc:114] Plugin optimizer for device_type GPU is enabled.\n"
     ]
    },
    {
     "name": "stdout",
     "output_type": "stream",
     "text": [
      "13/13 [==============================] - 2s 72ms/step - loss: 1.2337 - val_loss: 1.2220\n",
      "Epoch 2/10\n",
      "13/13 [==============================] - 0s 28ms/step - loss: 1.1970 - val_loss: 1.1802\n",
      "Epoch 3/10\n",
      "13/13 [==============================] - 0s 26ms/step - loss: 1.1688 - val_loss: 1.1472\n",
      "Epoch 4/10\n",
      "13/13 [==============================] - 0s 27ms/step - loss: 1.1435 - val_loss: 1.1212\n",
      "Epoch 5/10\n",
      "13/13 [==============================] - 0s 27ms/step - loss: 1.1215 - val_loss: 1.0984\n",
      "Epoch 6/10\n",
      "13/13 [==============================] - 0s 25ms/step - loss: 1.0998 - val_loss: 1.0805\n",
      "Epoch 7/10\n",
      "13/13 [==============================] - 0s 26ms/step - loss: 1.0787 - val_loss: 1.0604\n",
      "Epoch 8/10\n",
      "13/13 [==============================] - 0s 25ms/step - loss: 1.0581 - val_loss: 1.0421\n",
      "Epoch 9/10\n",
      "13/13 [==============================] - 0s 25ms/step - loss: 1.0383 - val_loss: 1.0244\n",
      "Epoch 10/10\n",
      "13/13 [==============================] - 0s 25ms/step - loss: 1.0191 - val_loss: 1.0082\n",
      "13/13 [==============================] - 0s 3ms/step\n",
      "0.4850000000000001\n",
      "4/4 [==============================] - 0s 5ms/step\n"
     ]
    },
    {
     "name": "stderr",
     "output_type": "stream",
     "text": [
      "2024-02-09 00:21:52.573103: I tensorflow/core/grappler/optimizers/custom_graph_optimizer_registry.cc:114] Plugin optimizer for device_type GPU is enabled.\n"
     ]
    },
    {
     "name": "stdout",
     "output_type": "stream",
     "text": [
      "The presence of has_winning_move in resblock 1 is 0.52\n",
      "Performing regression for layer 2\n",
      "Epoch 1/10\n"
     ]
    },
    {
     "name": "stderr",
     "output_type": "stream",
     "text": [
      "2024-02-09 00:21:53.063602: I tensorflow/core/grappler/optimizers/custom_graph_optimizer_registry.cc:114] Plugin optimizer for device_type GPU is enabled.\n",
      "2024-02-09 00:21:53.095718: E tensorflow/core/grappler/optimizers/meta_optimizer.cc:954] model_pruner failed: INVALID_ARGUMENT: Graph does not contain terminal node AssignAddVariableOp_2.\n"
     ]
    },
    {
     "name": "stdout",
     "output_type": "stream",
     "text": [
      "13/13 [==============================] - ETA: 0s - loss: 1.2141"
     ]
    },
    {
     "name": "stderr",
     "output_type": "stream",
     "text": [
      "2024-02-09 00:21:54.048280: I tensorflow/core/grappler/optimizers/custom_graph_optimizer_registry.cc:114] Plugin optimizer for device_type GPU is enabled.\n"
     ]
    },
    {
     "name": "stdout",
     "output_type": "stream",
     "text": [
      "13/13 [==============================] - 2s 75ms/step - loss: 1.2141 - val_loss: 1.2246\n",
      "Epoch 2/10\n",
      "13/13 [==============================] - 0s 26ms/step - loss: 1.1842 - val_loss: 1.1900\n",
      "Epoch 3/10\n",
      "13/13 [==============================] - 0s 27ms/step - loss: 1.1576 - val_loss: 1.1610\n",
      "Epoch 4/10\n",
      "13/13 [==============================] - 0s 26ms/step - loss: 1.1339 - val_loss: 1.1357\n",
      "Epoch 5/10\n",
      "13/13 [==============================] - 0s 27ms/step - loss: 1.1117 - val_loss: 1.1138\n",
      "Epoch 6/10\n",
      "13/13 [==============================] - 0s 25ms/step - loss: 1.0913 - val_loss: 1.0942\n",
      "Epoch 7/10\n",
      "13/13 [==============================] - 0s 25ms/step - loss: 1.0719 - val_loss: 1.0740\n",
      "Epoch 8/10\n",
      "13/13 [==============================] - 0s 26ms/step - loss: 1.0528 - val_loss: 1.0563\n",
      "Epoch 9/10\n",
      "13/13 [==============================] - 0s 28ms/step - loss: 1.0344 - val_loss: 1.0384\n",
      "Epoch 10/10\n",
      "13/13 [==============================] - 0s 25ms/step - loss: 1.0167 - val_loss: 1.0217\n",
      "13/13 [==============================] - 0s 4ms/step\n",
      "0.385\n",
      "4/4 [==============================] - 0s 5ms/step\n"
     ]
    },
    {
     "name": "stderr",
     "output_type": "stream",
     "text": [
      "2024-02-09 00:21:57.441780: I tensorflow/core/grappler/optimizers/custom_graph_optimizer_registry.cc:114] Plugin optimizer for device_type GPU is enabled.\n"
     ]
    },
    {
     "name": "stdout",
     "output_type": "stream",
     "text": [
      "The presence of has_winning_move in resblock 2 is 0.3600000000000001\n"
     ]
    },
    {
     "name": "stderr",
     "output_type": "stream",
     "text": [
      "Getting activation outputs: 100%|██████████| 16/16 [00:00<00:00, 102.55it/s]\n"
     ]
    },
    {
     "name": "stdout",
     "output_type": "stream",
     "text": [
      "Performing regression for layer 0\n",
      "Epoch 1/10\n"
     ]
    },
    {
     "name": "stderr",
     "output_type": "stream",
     "text": [
      "2024-02-09 00:21:58.327463: I tensorflow/core/grappler/optimizers/custom_graph_optimizer_registry.cc:114] Plugin optimizer for device_type GPU is enabled.\n",
      "2024-02-09 00:21:58.360466: E tensorflow/core/grappler/optimizers/meta_optimizer.cc:954] model_pruner failed: INVALID_ARGUMENT: Graph does not contain terminal node AssignAddVariableOp_2.\n"
     ]
    },
    {
     "name": "stdout",
     "output_type": "stream",
     "text": [
      "13/13 [==============================] - ETA: 0s - loss: 1.1723"
     ]
    },
    {
     "name": "stderr",
     "output_type": "stream",
     "text": [
      "2024-02-09 00:21:59.309382: I tensorflow/core/grappler/optimizers/custom_graph_optimizer_registry.cc:114] Plugin optimizer for device_type GPU is enabled.\n"
     ]
    },
    {
     "name": "stdout",
     "output_type": "stream",
     "text": [
      "13/13 [==============================] - 2s 74ms/step - loss: 1.1723 - val_loss: 1.1542\n",
      "Epoch 2/10\n",
      "13/13 [==============================] - 0s 28ms/step - loss: 1.1471 - val_loss: 1.1326\n",
      "Epoch 3/10\n",
      "13/13 [==============================] - 0s 28ms/step - loss: 1.1231 - val_loss: 1.1122\n",
      "Epoch 4/10\n",
      "13/13 [==============================] - 0s 26ms/step - loss: 1.1005 - val_loss: 1.0927\n",
      "Epoch 5/10\n",
      "13/13 [==============================] - 0s 26ms/step - loss: 1.0786 - val_loss: 1.0740\n",
      "Epoch 6/10\n",
      "13/13 [==============================] - 0s 26ms/step - loss: 1.0575 - val_loss: 1.0555\n",
      "Epoch 7/10\n",
      "13/13 [==============================] - 0s 26ms/step - loss: 1.0366 - val_loss: 1.0377\n",
      "Epoch 8/10\n",
      "13/13 [==============================] - 0s 26ms/step - loss: 1.0170 - val_loss: 1.0205\n",
      "Epoch 9/10\n",
      "13/13 [==============================] - 0s 25ms/step - loss: 0.9977 - val_loss: 1.0039\n",
      "Epoch 10/10\n",
      "13/13 [==============================] - 0s 28ms/step - loss: 0.9795 - val_loss: 0.9875\n",
      "13/13 [==============================] - 0s 4ms/step\n",
      "0.4850000000000001\n",
      "4/4 [==============================] - 0s 5ms/step\n"
     ]
    },
    {
     "name": "stderr",
     "output_type": "stream",
     "text": [
      "2024-02-09 00:22:02.745281: I tensorflow/core/grappler/optimizers/custom_graph_optimizer_registry.cc:114] Plugin optimizer for device_type GPU is enabled.\n"
     ]
    },
    {
     "name": "stdout",
     "output_type": "stream",
     "text": [
      "The presence of has_winning_move in resblock 0 is 0.48\n",
      "Performing regression for layer 1\n",
      "Epoch 1/10\n"
     ]
    },
    {
     "name": "stderr",
     "output_type": "stream",
     "text": [
      "2024-02-09 00:22:03.233490: I tensorflow/core/grappler/optimizers/custom_graph_optimizer_registry.cc:114] Plugin optimizer for device_type GPU is enabled.\n",
      "2024-02-09 00:22:03.265798: E tensorflow/core/grappler/optimizers/meta_optimizer.cc:954] model_pruner failed: INVALID_ARGUMENT: Graph does not contain terminal node AssignAddVariableOp_2.\n"
     ]
    },
    {
     "name": "stdout",
     "output_type": "stream",
     "text": [
      "13/13 [==============================] - ETA: 0s - loss: 1.1962"
     ]
    },
    {
     "name": "stderr",
     "output_type": "stream",
     "text": [
      "2024-02-09 00:22:04.214359: I tensorflow/core/grappler/optimizers/custom_graph_optimizer_registry.cc:114] Plugin optimizer for device_type GPU is enabled.\n"
     ]
    },
    {
     "name": "stdout",
     "output_type": "stream",
     "text": [
      "13/13 [==============================] - 2s 73ms/step - loss: 1.1962 - val_loss: 1.1771\n",
      "Epoch 2/10\n",
      "13/13 [==============================] - 0s 29ms/step - loss: 1.1619 - val_loss: 1.1466\n",
      "Epoch 3/10\n",
      "13/13 [==============================] - 0s 26ms/step - loss: 1.1312 - val_loss: 1.1191\n",
      "Epoch 4/10\n",
      "13/13 [==============================] - 0s 27ms/step - loss: 1.1041 - val_loss: 1.0932\n",
      "Epoch 5/10\n",
      "13/13 [==============================] - 0s 26ms/step - loss: 1.0789 - val_loss: 1.0698\n",
      "Epoch 6/10\n",
      "13/13 [==============================] - 0s 26ms/step - loss: 1.0552 - val_loss: 1.0480\n",
      "Epoch 7/10\n",
      "13/13 [==============================] - 0s 25ms/step - loss: 1.0320 - val_loss: 1.0278\n",
      "Epoch 8/10\n",
      "13/13 [==============================] - 0s 26ms/step - loss: 1.0106 - val_loss: 1.0081\n",
      "Epoch 9/10\n",
      "13/13 [==============================] - 0s 26ms/step - loss: 0.9897 - val_loss: 0.9895\n",
      "Epoch 10/10\n",
      "13/13 [==============================] - 0s 26ms/step - loss: 0.9700 - val_loss: 0.9718\n",
      "13/13 [==============================] - 0s 4ms/step\n",
      "0.565\n",
      "4/4 [==============================] - 0s 5ms/step\n"
     ]
    },
    {
     "name": "stderr",
     "output_type": "stream",
     "text": [
      "2024-02-09 00:22:07.608122: I tensorflow/core/grappler/optimizers/custom_graph_optimizer_registry.cc:114] Plugin optimizer for device_type GPU is enabled.\n"
     ]
    },
    {
     "name": "stdout",
     "output_type": "stream",
     "text": [
      "The presence of has_winning_move in resblock 1 is 0.6399999999999999\n",
      "Performing regression for layer 2\n",
      "Epoch 1/10\n"
     ]
    },
    {
     "name": "stderr",
     "output_type": "stream",
     "text": [
      "2024-02-09 00:22:08.095295: I tensorflow/core/grappler/optimizers/custom_graph_optimizer_registry.cc:114] Plugin optimizer for device_type GPU is enabled.\n",
      "2024-02-09 00:22:08.127853: E tensorflow/core/grappler/optimizers/meta_optimizer.cc:954] model_pruner failed: INVALID_ARGUMENT: Graph does not contain terminal node AssignAddVariableOp_2.\n"
     ]
    },
    {
     "name": "stdout",
     "output_type": "stream",
     "text": [
      "13/13 [==============================] - ETA: 0s - loss: 1.1694"
     ]
    },
    {
     "name": "stderr",
     "output_type": "stream",
     "text": [
      "2024-02-09 00:22:09.101516: I tensorflow/core/grappler/optimizers/custom_graph_optimizer_registry.cc:114] Plugin optimizer for device_type GPU is enabled.\n"
     ]
    },
    {
     "name": "stdout",
     "output_type": "stream",
     "text": [
      "13/13 [==============================] - 2s 74ms/step - loss: 1.1694 - val_loss: 1.1808\n",
      "Epoch 2/10\n",
      "13/13 [==============================] - 0s 27ms/step - loss: 1.1406 - val_loss: 1.1554\n",
      "Epoch 3/10\n",
      "13/13 [==============================] - 0s 27ms/step - loss: 1.1140 - val_loss: 1.1317\n",
      "Epoch 4/10\n",
      "13/13 [==============================] - 0s 26ms/step - loss: 1.0895 - val_loss: 1.1094\n",
      "Epoch 5/10\n",
      "13/13 [==============================] - 0s 27ms/step - loss: 1.0662 - val_loss: 1.0889\n",
      "Epoch 6/10\n",
      "13/13 [==============================] - 0s 28ms/step - loss: 1.0449 - val_loss: 1.0695\n",
      "Epoch 7/10\n",
      "13/13 [==============================] - 0s 26ms/step - loss: 1.0243 - val_loss: 1.0515\n",
      "Epoch 8/10\n",
      "13/13 [==============================] - 0s 25ms/step - loss: 1.0050 - val_loss: 1.0342\n",
      "Epoch 9/10\n",
      "13/13 [==============================] - 0s 26ms/step - loss: 0.9868 - val_loss: 1.0174\n",
      "Epoch 10/10\n",
      "13/13 [==============================] - 0s 26ms/step - loss: 0.9693 - val_loss: 1.0012\n",
      "13/13 [==============================] - 0s 4ms/step\n",
      "0.655\n",
      "4/4 [==============================] - 0s 5ms/step\n"
     ]
    },
    {
     "name": "stderr",
     "output_type": "stream",
     "text": [
      "2024-02-09 00:22:12.535847: I tensorflow/core/grappler/optimizers/custom_graph_optimizer_registry.cc:114] Plugin optimizer for device_type GPU is enabled.\n"
     ]
    },
    {
     "name": "stdout",
     "output_type": "stream",
     "text": [
      "The presence of has_winning_move in resblock 2 is 0.3600000000000001\n"
     ]
    },
    {
     "name": "stderr",
     "output_type": "stream",
     "text": [
      "Getting activation outputs: 100%|██████████| 16/16 [00:00<00:00, 104.14it/s]\n"
     ]
    },
    {
     "name": "stdout",
     "output_type": "stream",
     "text": [
      "Performing regression for layer 0\n",
      "Epoch 1/10\n"
     ]
    },
    {
     "name": "stderr",
     "output_type": "stream",
     "text": [
      "2024-02-09 00:22:13.414798: I tensorflow/core/grappler/optimizers/custom_graph_optimizer_registry.cc:114] Plugin optimizer for device_type GPU is enabled.\n",
      "2024-02-09 00:22:13.446970: E tensorflow/core/grappler/optimizers/meta_optimizer.cc:954] model_pruner failed: INVALID_ARGUMENT: Graph does not contain terminal node AssignAddVariableOp_2.\n"
     ]
    },
    {
     "name": "stdout",
     "output_type": "stream",
     "text": [
      "13/13 [==============================] - ETA: 0s - loss: 1.1517"
     ]
    },
    {
     "name": "stderr",
     "output_type": "stream",
     "text": [
      "2024-02-09 00:22:14.450492: I tensorflow/core/grappler/optimizers/custom_graph_optimizer_registry.cc:114] Plugin optimizer for device_type GPU is enabled.\n"
     ]
    },
    {
     "name": "stdout",
     "output_type": "stream",
     "text": [
      "13/13 [==============================] - 2s 79ms/step - loss: 1.1517 - val_loss: 1.1925\n",
      "Epoch 2/10\n",
      "13/13 [==============================] - 0s 27ms/step - loss: 1.1256 - val_loss: 1.1673\n",
      "Epoch 3/10\n",
      "13/13 [==============================] - 0s 27ms/step - loss: 1.1007 - val_loss: 1.1424\n",
      "Epoch 4/10\n",
      "13/13 [==============================] - 0s 27ms/step - loss: 1.0769 - val_loss: 1.1174\n",
      "Epoch 5/10\n",
      "13/13 [==============================] - 0s 27ms/step - loss: 1.0541 - val_loss: 1.0950\n",
      "Epoch 6/10\n",
      "13/13 [==============================] - 0s 26ms/step - loss: 1.0321 - val_loss: 1.0733\n",
      "Epoch 7/10\n",
      "13/13 [==============================] - 0s 27ms/step - loss: 1.0117 - val_loss: 1.0514\n",
      "Epoch 8/10\n",
      "13/13 [==============================] - 0s 26ms/step - loss: 0.9910 - val_loss: 1.0320\n",
      "Epoch 9/10\n",
      "13/13 [==============================] - 0s 26ms/step - loss: 0.9717 - val_loss: 1.0125\n",
      "Epoch 10/10\n",
      "13/13 [==============================] - 0s 26ms/step - loss: 0.9526 - val_loss: 0.9944\n",
      "13/13 [==============================] - 2s 4ms/step\n",
      "0.53\n",
      "4/4 [==============================] - 0s 6ms/step\n"
     ]
    },
    {
     "name": "stderr",
     "output_type": "stream",
     "text": [
      "2024-02-09 00:22:19.361743: I tensorflow/core/grappler/optimizers/custom_graph_optimizer_registry.cc:114] Plugin optimizer for device_type GPU is enabled.\n"
     ]
    },
    {
     "name": "stdout",
     "output_type": "stream",
     "text": [
      "The presence of has_winning_move in resblock 0 is 0.48\n",
      "Performing regression for layer 1\n",
      "Epoch 1/10\n"
     ]
    },
    {
     "name": "stderr",
     "output_type": "stream",
     "text": [
      "2024-02-09 00:22:19.877845: I tensorflow/core/grappler/optimizers/custom_graph_optimizer_registry.cc:114] Plugin optimizer for device_type GPU is enabled.\n",
      "2024-02-09 00:22:19.914236: E tensorflow/core/grappler/optimizers/meta_optimizer.cc:954] model_pruner failed: INVALID_ARGUMENT: Graph does not contain terminal node AssignAddVariableOp_2.\n"
     ]
    },
    {
     "name": "stdout",
     "output_type": "stream",
     "text": [
      "13/13 [==============================] - ETA: 0s - loss: 1.2492"
     ]
    },
    {
     "name": "stderr",
     "output_type": "stream",
     "text": [
      "2024-02-09 00:22:20.864773: I tensorflow/core/grappler/optimizers/custom_graph_optimizer_registry.cc:114] Plugin optimizer for device_type GPU is enabled.\n"
     ]
    },
    {
     "name": "stdout",
     "output_type": "stream",
     "text": [
      "13/13 [==============================] - 2s 74ms/step - loss: 1.2492 - val_loss: 1.2324\n",
      "Epoch 2/10\n",
      "13/13 [==============================] - 0s 29ms/step - loss: 1.2114 - val_loss: 1.2040\n",
      "Epoch 3/10\n",
      "13/13 [==============================] - 0s 27ms/step - loss: 1.1778 - val_loss: 1.1761\n",
      "Epoch 4/10\n",
      "13/13 [==============================] - 0s 26ms/step - loss: 1.1464 - val_loss: 1.1503\n",
      "Epoch 5/10\n",
      "13/13 [==============================] - 0s 25ms/step - loss: 1.1169 - val_loss: 1.1251\n",
      "Epoch 6/10\n",
      "13/13 [==============================] - 0s 25ms/step - loss: 1.0895 - val_loss: 1.1006\n",
      "Epoch 7/10\n",
      "13/13 [==============================] - 0s 25ms/step - loss: 1.0637 - val_loss: 1.0783\n",
      "Epoch 8/10\n",
      "13/13 [==============================] - 0s 27ms/step - loss: 1.0389 - val_loss: 1.0555\n",
      "Epoch 9/10\n",
      "13/13 [==============================] - 0s 27ms/step - loss: 1.0152 - val_loss: 1.0324\n",
      "Epoch 10/10\n",
      "13/13 [==============================] - 0s 27ms/step - loss: 0.9927 - val_loss: 1.0099\n",
      "13/13 [==============================] - 0s 4ms/step\n",
      "0.53\n",
      "4/4 [==============================] - 0s 5ms/step\n"
     ]
    },
    {
     "name": "stderr",
     "output_type": "stream",
     "text": [
      "2024-02-09 00:22:24.298790: I tensorflow/core/grappler/optimizers/custom_graph_optimizer_registry.cc:114] Plugin optimizer for device_type GPU is enabled.\n"
     ]
    },
    {
     "name": "stdout",
     "output_type": "stream",
     "text": [
      "The presence of has_winning_move in resblock 1 is 0.45999999999999996\n",
      "Performing regression for layer 2\n",
      "Epoch 1/10\n"
     ]
    },
    {
     "name": "stderr",
     "output_type": "stream",
     "text": [
      "2024-02-09 00:22:24.845202: I tensorflow/core/grappler/optimizers/custom_graph_optimizer_registry.cc:114] Plugin optimizer for device_type GPU is enabled.\n",
      "2024-02-09 00:22:24.883968: E tensorflow/core/grappler/optimizers/meta_optimizer.cc:954] model_pruner failed: INVALID_ARGUMENT: Graph does not contain terminal node AssignAddVariableOp_2.\n"
     ]
    },
    {
     "name": "stdout",
     "output_type": "stream",
     "text": [
      "13/13 [==============================] - ETA: 0s - loss: 1.2442"
     ]
    },
    {
     "name": "stderr",
     "output_type": "stream",
     "text": [
      "2024-02-09 00:22:25.898502: I tensorflow/core/grappler/optimizers/custom_graph_optimizer_registry.cc:114] Plugin optimizer for device_type GPU is enabled.\n"
     ]
    },
    {
     "name": "stdout",
     "output_type": "stream",
     "text": [
      "13/13 [==============================] - 2s 72ms/step - loss: 1.2442 - val_loss: 1.1743\n",
      "Epoch 2/10\n",
      "13/13 [==============================] - 0s 35ms/step - loss: 1.2132 - val_loss: 1.1526\n",
      "Epoch 3/10\n",
      "13/13 [==============================] - 0s 29ms/step - loss: 1.1845 - val_loss: 1.1318\n",
      "Epoch 4/10\n",
      "13/13 [==============================] - 0s 28ms/step - loss: 1.1582 - val_loss: 1.1124\n",
      "Epoch 5/10\n",
      "13/13 [==============================] - 0s 25ms/step - loss: 1.1329 - val_loss: 1.0940\n",
      "Epoch 6/10\n",
      "13/13 [==============================] - 0s 25ms/step - loss: 1.1090 - val_loss: 1.0760\n",
      "Epoch 7/10\n",
      "13/13 [==============================] - 0s 25ms/step - loss: 1.0864 - val_loss: 1.0589\n",
      "Epoch 8/10\n",
      "13/13 [==============================] - 0s 26ms/step - loss: 1.0648 - val_loss: 1.0423\n",
      "Epoch 9/10\n",
      "13/13 [==============================] - 0s 28ms/step - loss: 1.0441 - val_loss: 1.0262\n",
      "Epoch 10/10\n",
      "13/13 [==============================] - 0s 27ms/step - loss: 1.0244 - val_loss: 1.0108\n",
      "13/13 [==============================] - 0s 4ms/step\n",
      "0.32000000000000006\n",
      "4/4 [==============================] - 0s 5ms/step\n",
      "The presence of has_winning_move in resblock 2 is 0.3600000000000001\n"
     ]
    },
    {
     "name": "stderr",
     "output_type": "stream",
     "text": [
      "2024-02-09 00:22:29.432439: I tensorflow/core/grappler/optimizers/custom_graph_optimizer_registry.cc:114] Plugin optimizer for device_type GPU is enabled.\n"
     ]
    }
   ],
   "source": [
    "epochs_to_look_at = agents_to_sample\n",
    "\n",
    "for epoch in epochs_to_look_at:\n",
    "    path = full_model_path + model_name + \"_\" + str(epoch) + \".keras\"\n",
    "    model = ConvNet(board_size, path)\n",
    "\n",
    "    # Will have a length equal to the sum of the numer of rows in the positive and negative cases arrays\n",
    "    # And will contain 1s for positive cases and 0s for negative cases\n",
    "    # Is used as labels/targets for the regression\n",
    "    all_cases = np.concatenate([positive_cases, negative_cases])\n",
    "    all_labels = [1] * positive_cases.shape[0] + [0] * negative_cases.shape[0]\n",
    "    all_labels = np.array(all_labels)\n",
    "    shuffled_indices = np.arange(all_labels.shape[0])\n",
    "\n",
    "    np.random.shuffle(shuffled_indices)\n",
    "\n",
    "    all_cases = all_cases[shuffled_indices]\n",
    "    all_labels = all_labels[shuffled_indices]\n",
    "\n",
    "    concept_presences = {}\n",
    "    \n",
    "    outputs = model.get_all_activation_values(all_cases)\n",
    "\n",
    "    # Merge outputs\n",
    "    merged_outputs = []\n",
    "    for output_batch in outputs:\n",
    "        for i, output_layer in enumerate(output_batch):\n",
    "            if len(merged_outputs) <= i:\n",
    "                merged_outputs.append([])\n",
    "            merged_outputs[i].extend(output_layer)\n",
    "\n",
    "    for i, layer_output in enumerate(merged_outputs):\n",
    "        merged_outputs[i] = np.array(merged_outputs[i])\n",
    "    \n",
    "    outputs = merged_outputs\n",
    "\n",
    "    # Perform regression\n",
    "    concept_presence_per_layer = []\n",
    "    for (i, output) in enumerate(outputs):\n",
    "        points = output.reshape((output.shape[0], np.prod(output.shape[1:])))\n",
    "        # So one has (n, k) samples where n is the number of positions, and k is the total number of activation values in layer i.\n",
    "        print(f\"Performing regression for layer {i}\")\n",
    "        score = linear_regression.perform_regression(\n",
    "            points=points[:POSITIONS_TO_CONSIDER], \n",
    "            targets=all_labels[:POSITIONS_TO_CONSIDER], \n",
    "            validation_points=points[POSITIONS_TO_CONSIDER:], \n",
    "            validation_targets=all_labels[POSITIONS_TO_CONSIDER:], \n",
    "            is_binary=BINARY,\n",
    "            epochs=10\n",
    "        )\n",
    "        concept_presence_per_layer.append(score)\n",
    "\n",
    "        print(f\"The presence of {CONCEPT_NAME} in resblock {i} is {score}\")\n",
    "    concept_presences[CONCEPT_NAME] = concept_presence_per_layer\n",
    "\n",
    "    # Remove the files if they exist\n",
    "    if os.path.exists(\"../concept_presences/static/{}/{}/{}/\".format(board_name, session_name, CONCEPT_NAME)):\n",
    "        # Test if epoch folder exists\n",
    "        if os.path.exists(\"../concept_presences/static/{}/{}/{}/{}\".format(board_name, session_name, CONCEPT_NAME, epoch)):\n",
    "            # Remove all files in the epoch folder\n",
    "            # Fist save the \n",
    "            for file in os.listdir(\"../concept_presences/static/{}/{}/{}/{}\".format(board_name, session_name, CONCEPT_NAME, epoch)):\n",
    "                os.remove(\"../concept_presences/static/{}/{}/{}/{}/{}\".format(board_name, session_name, CONCEPT_NAME, epoch, file))\n",
    "\n",
    "    os.makedirs(\"../concept_presences\", exist_ok=True)\n",
    "    os.makedirs(\"../concept_presences/static\", exist_ok=True)\n",
    "    os.makedirs(\"../concept_presences/static/{}\".format(board_name), exist_ok=True)\n",
    "    os.makedirs(\"../concept_presences/static/{}/{}\".format(board_name, session_name), exist_ok=True)\n",
    "    os.makedirs(\"../concept_presences/static/{}/{}/{}\".format(board_name, session_name, CONCEPT_NAME), exist_ok=True)\n",
    "    os.makedirs(\"../concept_presences/static/{}/{}/{}/{}\".format(board_name, session_name, CONCEPT_NAME, epoch), exist_ok=True)\n",
    "\n",
    "    random_suffix = ''.join(random.choices(string.ascii_uppercase + string.digits, k=10))\n",
    "\n",
    "    # Save concept presences in json file\n",
    "    with open(\"../concept_presences/static//{}/{}/{}/{}/{}.json\".format(board_name, session_name, CONCEPT_NAME, epoch, random_suffix), \"w\") as f:\n",
    "        json.dump(concept_presences[CONCEPT_NAME], f)\n"
   ]
  }
 ],
 "metadata": {
  "kernelspec": {
   "display_name": "go-xai",
   "language": "python",
   "name": "python3"
  },
  "language_info": {
   "codemirror_mode": {
    "name": "ipython",
    "version": 3
   },
   "file_extension": ".py",
   "mimetype": "text/x-python",
   "name": "python",
   "nbconvert_exporter": "python",
   "pygments_lexer": "ipython3",
   "version": "3.8.0"
  }
 },
 "nbformat": 4,
 "nbformat_minor": 2
}
