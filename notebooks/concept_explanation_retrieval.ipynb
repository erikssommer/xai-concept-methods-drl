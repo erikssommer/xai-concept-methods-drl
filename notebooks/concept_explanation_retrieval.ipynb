{
 "cells": [
  {
   "cell_type": "markdown",
   "metadata": {},
   "source": [
    "# Benchmarking the cost of concept explanation retrieval"
   ]
  },
  {
   "cell_type": "code",
   "execution_count": 1,
   "metadata": {},
   "outputs": [
    {
     "name": "stdout",
     "output_type": "stream",
     "text": [
      "Loading dataset for board size 7\n"
     ]
    },
    {
     "name": "stderr",
     "output_type": "stream",
     "text": [
      "100%|██████████| 100/100 [00:22<00:00,  4.51it/s]\n"
     ]
    },
    {
     "name": "stdout",
     "output_type": "stream",
     "text": [
      "Average time for JEM:  0.22116482973098756\n"
     ]
    },
    {
     "name": "stderr",
     "output_type": "stream",
     "text": [
      "100%|██████████| 100/100 [00:01<00:00, 58.23it/s]\n"
     ]
    },
    {
     "name": "stdout",
     "output_type": "stream",
     "text": [
      "Average time for CBM:  0.01707709550857544\n"
     ]
    },
    {
     "name": "stderr",
     "output_type": "stream",
     "text": [
      "100%|██████████| 100/100 [00:00<00:00, 178.52it/s]\n"
     ]
    },
    {
     "name": "stdout",
     "output_type": "stream",
     "text": [
      "Average time for concept functions:  0.005563018321990967\n"
     ]
    },
    {
     "data": {
      "image/png": "[encoded data removed]",
      "text/plain": [
       "<Figure size 1000x600 with 1 Axes>"
      ]
     },
     "metadata": {},
     "output_type": "display_data"
    }
   ],
   "source": [
    "# Benchmarking joint embedding model, concept botleneck model and concept functions\n",
    "\n",
    "import os\n",
    "import sys\n",
    "os.environ['TF_CPP_MIN_LOG_LEVEL'] = '2'  # or any {'0', '1', '2'}\n",
    "\n",
    "sys.path.append(os.path.abspath(os.path.join(os.path.pardir, 'src')))\n",
    "\n",
    "import tensorflow as tf\n",
    "\n",
    "# Set memory growth\n",
    "physical_devices = tf.config.list_physical_devices('GPU')\n",
    "tf.config.experimental.set_memory_growth(physical_devices[0], True)\n",
    "\n",
    "from jem import data_utils, JointEmbeddingModel\n",
    "from policy import ConceptNet\n",
    "import numpy as np\n",
    "import time\n",
    "import matplotlib.pyplot as plt\n",
    "from tqdm import tqdm\n",
    "\n",
    "board_size = 7\n",
    "\n",
    "# Load the pickle file\n",
    "states, _, _, max_sent_len, vocab = data_utils.load_datasets_from_pickle(board_size)\n",
    "explanation_list = data_utils.get_explanation_list()\n",
    "\n",
    "# Shuffle the states\n",
    "indices = np.arange(len(states))\n",
    "np.random.shuffle(indices)\n",
    "states = states[indices]\n",
    "\n",
    "\n",
    "# Remove the index 2 from the explanation_list (two_eyes is not in the dataset)\n",
    "explanation_list = [explanation_list[i] for i in range(len(explanation_list)) if i != 2]\n",
    "\n",
    "# Load the joint embedding model\n",
    "jem = JointEmbeddingModel(load_path='../models/jem/joint_embedding_model.keras')\n",
    "cbm = ConceptNet(board_size, 7, None, False)\n",
    "\n",
    "# Benchmarking in average time how long it takes to predict an explanation\n",
    "n = 100 if len(states) > 100 else len(states)\n",
    "\n",
    "def concept_functions():\n",
    "    concept_list = data_utils.concept_functions_to_use()\n",
    "    # Remove the index 2 from the concept functions (two_eyes is not in the dataset)\n",
    "    concept_list = [concept_list[i] for i in range(len(concept_list)) if i != 2]\n",
    "    return concept_list\n",
    "\n",
    "\n",
    "jem_times = []\n",
    "for i in tqdm(range(n)):\n",
    "    start = time.time()\n",
    "    jem.predict_concept(states[i], \n",
    "                        explanation_list, \n",
    "                        vocab, \n",
    "                        max_sent_len, \n",
    "                        data_utils.convert_explanation_to_integers, \n",
    "                        concept_functions)\n",
    "    end = time.time()\n",
    "    jem_times.append(end - start)\n",
    "\n",
    "print('Average time for JEM: ', np.mean(jem_times))\n",
    "\n",
    "cbm_times = []\n",
    "for i in tqdm(range(n)):\n",
    "    start = time.time()\n",
    "    cbm.predict_concepts(states[i])\n",
    "    end = time.time()\n",
    "    cbm_times.append(end - start)\n",
    "\n",
    "print('Average time for CBM: ', np.mean(cbm_times))\n",
    "\n",
    "concept_functions_times = []\n",
    "for i in tqdm(range(n)):\n",
    "    start = time.time()\n",
    "    data_utils.get_explanation_from_state(states[i])\n",
    "    end = time.time()\n",
    "    concept_functions_times.append(end - start)\n",
    "\n",
    "print('Average time for concept functions: ', np.mean(concept_functions_times))\n",
    "\n",
    "# Plot the average time for each method\n",
    "methods = ['Joint Embedding Model', 'Concept Bottleneck Model', 'Concept Functions']\n",
    "times = [np.mean(jem_times), np.mean(cbm_times), np.mean(concept_functions_times)]\n",
    "plt.figure(figsize=(10, 6))\n",
    "plt.bar(methods, times)\n",
    "plt.ylabel('Average time (s)')\n",
    "plt.title('Average time concept retrieval')\n",
    "plt.show()"
   ]
  }
 ],
 "metadata": {
  "kernelspec": {
   "display_name": "go-xai",
   "language": "python",
   "name": "python3"
  },
  "language_info": {
   "codemirror_mode": {
    "name": "ipython",
    "version": 3
   },
   "file_extension": ".py",
   "mimetype": "text/x-python",
   "name": "python",
   "nbconvert_exporter": "python",
   "pygments_lexer": "ipython3",
   "version": "3.8.18"
  }
 },
 "nbformat": 4,
 "nbformat_minor": 2
}
