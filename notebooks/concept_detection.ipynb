{
 "cells": [
  {
   "cell_type": "code",
   "execution_count": null,
   "metadata": {},
   "outputs": [],
   "source": [
    "# Notebook for concept detection in neural network"
   ]
  },
  {
   "cell_type": "code",
   "execution_count": 10,
   "metadata": {},
   "outputs": [],
   "source": [
    "import numpy as np\n",
    "import os\n",
    "import sys\n",
    "from tqdm import tqdm\n",
    "\n",
    "sys.path.append(os.path.abspath(os.path.join(os.path.pardir, 'src')))\n",
    "\n",
    "import concepts\n",
    "import env\n",
    "from policy import ActorCriticNet\n",
    "\n",
    "model_name = \"net\"\n",
    "\n",
    "agents_to_sample = [0, 150, 300, 450, 600]\n",
    "\n",
    "full_model_path = \"../models/saved_sessions/board_size_5/\"\n",
    "board_size = 5\n",
    "dims = (4, 5, 5)\n",
    "\n",
    "CONCEPT_FUNC = concepts.concept_area_advantage\n",
    "\n",
    "CONCEPT_NAME = concepts.concept_area_advantage.__name__\n"
   ]
  },
  {
   "cell_type": "code",
   "execution_count": 11,
   "metadata": {},
   "outputs": [
    {
     "name": "stderr",
     "output_type": "stream",
     "text": [
      "WARNING:absl:Skipping variable loading for optimizer 'Adam', because it has 29 variables whereas the saved optimizer has 1 variables. \n"
     ]
    }
   ],
   "source": [
    "def load_model(full_name, model_name, epoch):\n",
    "    model_path = full_name + model_name + \"_\" + str(epoch) + \".keras\"\n",
    "    model = ActorCriticNet(board_size, model_path)\n",
    "    return model\n",
    "\n",
    "agents = [load_model(full_model_path, model_name, epoch) for epoch in agents_to_sample]"
   ]
  },
  {
   "cell_type": "code",
   "execution_count": 12,
   "metadata": {},
   "outputs": [],
   "source": [
    "def play_match(agents: list[ActorCriticNet], board_size, concept_function):\n",
    "    go_env = env.GoEnv(board_size)\n",
    "    state = go_env.reset()\n",
    "\n",
    "    player_to_start = 1 if np.random.random() > 0.5 else 0\n",
    "    current_player = player_to_start\n",
    "\n",
    "    positive_cases = []\n",
    "    negative_cases = []\n",
    "\n",
    "    sample_ratio = 0.2\n",
    "\n",
    "    game_over = False\n",
    "\n",
    "    while not game_over:\n",
    "        if np.random.random() < sample_ratio:\n",
    "            if concept_function(state):\n",
    "                positive_cases.append(state)\n",
    "            else:\n",
    "                negative_cases.append(state)\n",
    "        \n",
    "        action = agents[current_player].best_action(state)\n",
    "\n",
    "        state, _, game_over, _ = go_env.step(action)\n",
    "\n",
    "        current_player = (current_player + 1) % 2\n",
    "    \n",
    "    return positive_cases, negative_cases"
   ]
  },
  {
   "cell_type": "code",
   "execution_count": 13,
   "metadata": {},
   "outputs": [
    {
     "name": "stderr",
     "output_type": "stream",
     "text": [
      "Positive cases: 100%|██████████| 1000/1000 [01:42<00:00, 12.62it/s]"
     ]
    },
    {
     "name": "stderr",
     "output_type": "stream",
     "text": [
      "Positive cases: 100%|██████████| 1000/1000 [02:00<00:00, 12.62it/s]"
     ]
    }
   ],
   "source": [
    "positive_cases = []\n",
    "negative_cases = []\n",
    "\n",
    "CASES_TO_SAMPLE = 1000 # 25000\n",
    "\n",
    "positive_bar = tqdm(total=CASES_TO_SAMPLE, desc=\"Positive cases\")\n",
    "while len(positive_cases) < CASES_TO_SAMPLE:\n",
    "    pos, neg = play_match(agents, board_size, CONCEPT_FUNC)\n",
    "    positive_cases.extend(pos)\n",
    "    negative_cases.extend(neg)\n",
    "    positive_bar.update(len(pos))\n",
    "\n",
    "positive_cases = positive_cases[:CASES_TO_SAMPLE]\n",
    "negative_cases = negative_cases[:CASES_TO_SAMPLE]"
   ]
  },
  {
   "cell_type": "code",
   "execution_count": null,
   "metadata": {},
   "outputs": [],
   "source": [
    "positive_cases = np.array(positive_cases)\n",
    "negative_cases = np.array(negative_cases)\n",
    "\n",
    "print(\"Positive cases: \", positive_cases.shape)\n",
    "print(\"Negative cases: \", negative_cases.shape)"
   ]
  }
 ],
 "metadata": {
  "kernelspec": {
   "display_name": "go-xai",
   "language": "python",
   "name": "python3"
  },
  "language_info": {
   "codemirror_mode": {
    "name": "ipython",
    "version": 3
   },
   "file_extension": ".py",
   "mimetype": "text/x-python",
   "name": "python",
   "nbconvert_exporter": "python",
   "pygments_lexer": "ipython3",
   "version": "3.11.5"
  }
 },
 "nbformat": 4,
 "nbformat_minor": 2
}
