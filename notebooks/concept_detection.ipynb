{
 "cells": [
  {
   "cell_type": "markdown",
   "metadata": {},
   "source": [
    "### Notebook for concept detection in neural network"
   ]
  },
  {
   "cell_type": "code",
   "execution_count": 1,
   "metadata": {},
   "outputs": [
    {
     "name": "stderr",
     "output_type": "stream",
     "text": [
      "2023-10-16 13:36:45.728067: I tensorflow/core/platform/cpu_feature_guard.cc:182] This TensorFlow binary is optimized to use available CPU instructions in performance-critical operations.\n",
      "To enable the following instructions: AVX2 FMA, in other operations, rebuild TensorFlow with the appropriate compiler flags.\n"
     ]
    }
   ],
   "source": [
    "import numpy as np\n",
    "import os\n",
    "import sys\n",
    "from tqdm import tqdm\n",
    "import json\n",
    "import random\n",
    "import string\n",
    "\n",
    "sys.path.append(os.path.abspath(os.path.join(os.path.pardir, 'src')))\n",
    "\n",
    "import concepts\n",
    "import env\n",
    "from policy import ActorCriticNet\n",
    "\n",
    "model_name = \"net\"\n",
    "board_name = \"5x5\"\n",
    "\n",
    "agents_to_sample = [0, 150, 300, 450, 600]\n",
    "\n",
    "full_model_path = \"../models/saved_sessions/board_size_5/\"\n",
    "board_size = 5\n",
    "dims = (4, 5, 5)\n",
    "\n",
    "CONCEPT_FUNC = concepts.concept_area_advantage\n",
    "\n",
    "CONCEPT_NAME = concepts.concept_area_advantage.__name__\n"
   ]
  },
  {
   "cell_type": "code",
   "execution_count": 2,
   "metadata": {},
   "outputs": [
    {
     "name": "stderr",
     "output_type": "stream",
     "text": [
      "WARNING:absl:Skipping variable loading for optimizer 'Adam', because it has 29 variables whereas the saved optimizer has 1 variables. \n"
     ]
    }
   ],
   "source": [
    "def load_model(full_name, model_name, epoch):\n",
    "    model_path = full_name + model_name + \"_\" + str(epoch) + \".keras\"\n",
    "    model = ActorCriticNet(board_size, model_path)\n",
    "    return model\n",
    "\n",
    "agents = [load_model(full_model_path, model_name, epoch) for epoch in agents_to_sample]"
   ]
  },
  {
   "cell_type": "code",
   "execution_count": 3,
   "metadata": {},
   "outputs": [],
   "source": [
    "def play_match(agents: list[ActorCriticNet], board_size, concept_function):\n",
    "    go_env = env.GoEnv(board_size)\n",
    "    state = go_env.reset()\n",
    "\n",
    "    player_to_start = 1 if np.random.random() > 0.5 else 0\n",
    "    current_player = player_to_start\n",
    "\n",
    "    positive_cases = []\n",
    "    negative_cases = []\n",
    "\n",
    "    sample_ratio = 0.2\n",
    "\n",
    "    game_over = False\n",
    "\n",
    "    while not game_over:\n",
    "        # Remove array index 3 and 5 from the current state making it an shape of (4, 5, 5)\n",
    "        state_copy = np.delete(state, [3, 5], axis=0)\n",
    "        \n",
    "        if np.random.random() < sample_ratio:\n",
    "            if concept_function(state):\n",
    "                positive_cases.append(state_copy)\n",
    "            else:\n",
    "                negative_cases.append(state_copy)\n",
    "        \n",
    "        action = agents[current_player].best_action(state)\n",
    "\n",
    "        state, _, game_over, _ = go_env.step(action)\n",
    "\n",
    "        current_player = (current_player + 1) % 2\n",
    "    \n",
    "    return positive_cases, negative_cases"
   ]
  },
  {
   "cell_type": "code",
   "execution_count": 4,
   "metadata": {},
   "outputs": [
    {
     "name": "stderr",
     "output_type": "stream",
     "text": [
      "Positive cases:   0%|          | 0/1000 [00:00<?, ?it/s]"
     ]
    },
    {
     "name": "stderr",
     "output_type": "stream",
     "text": [
      "Positive cases: 100%|██████████| 1000/1000 [01:42<00:00,  4.68it/s]"
     ]
    }
   ],
   "source": [
    "positive_cases = []\n",
    "negative_cases = []\n",
    "\n",
    "CASES_TO_SAMPLE = 1000 # 25000\n",
    "\n",
    "positive_bar = tqdm(total=CASES_TO_SAMPLE, desc=\"Positive cases\")\n",
    "while len(positive_cases) < CASES_TO_SAMPLE:\n",
    "    pos, neg = play_match(agents, board_size, CONCEPT_FUNC)\n",
    "    positive_cases.extend(pos)\n",
    "    negative_cases.extend(neg)\n",
    "    positive_bar.update(len(pos))\n",
    "\n",
    "positive_cases = positive_cases[:CASES_TO_SAMPLE]\n",
    "negative_cases = negative_cases[:CASES_TO_SAMPLE]"
   ]
  },
  {
   "cell_type": "code",
   "execution_count": 5,
   "metadata": {},
   "outputs": [
    {
     "name": "stdout",
     "output_type": "stream",
     "text": [
      "Positive cases:  (1000, 4, 5, 5)\n",
      "Negative cases:  (1000, 4, 5, 5)\n"
     ]
    }
   ],
   "source": [
    "positive_cases = np.array(positive_cases)\n",
    "negative_cases = np.array(negative_cases)\n",
    "\n",
    "print(\"Positive cases: \", positive_cases.shape)\n",
    "print(\"Negative cases: \", negative_cases.shape)"
   ]
  },
  {
   "cell_type": "code",
   "execution_count": 9,
   "metadata": {},
   "outputs": [
    {
     "name": "stderr",
     "output_type": "stream",
     "text": [
      "WARNING:absl:Skipping variable loading for optimizer 'Adam', because it has 29 variables whereas the saved optimizer has 1 variables. \n",
      "100%|██████████| 63/63 [00:00<00:00, 253.43it/s]\n",
      "100%|██████████| 63/63 [00:00<00:00, 259.59it/s]\n",
      "100%|██████████| 63/63 [00:00<00:00, 157.94it/s]\n",
      "100%|██████████| 63/63 [00:00<00:00, 246.66it/s]\n",
      "100%|██████████| 63/63 [00:00<00:00, 235.48it/s]\n"
     ]
    }
   ],
   "source": [
    "epoch_to_look_at = [0, 150, 300, 450, 600]\n",
    "\n",
    "for epoch in epoch_to_look_at:\n",
    "    path = full_model_path + model_name + \"_\" + str(epoch) + \".keras\"\n",
    "    model = ActorCriticNet(board_size, path)\n",
    "    all_cases = np.concatenate([positive_cases, negative_cases])\n",
    "    all_labels = [1] * positive_cases.shape[0] + [0] * negative_cases.shape[0]\n",
    "    all_labels = np.array(all_labels)\n",
    "    shuffled_indices = np.arange(all_labels.shape[0])\n",
    "    np.random.shuffle(shuffled_indices)\n",
    "    all_cases = all_cases[shuffled_indices]\n",
    "    all_labels = all_labels[shuffled_indices]\n",
    "    POSITIONS_TO_CONSIDER = 40000\n",
    "    VALIDATION_POSITIONS = 10000\n",
    "\n",
    "    concept_presences = {}\n",
    "    \n",
    "    outputs = model.get_all_resblock_outputs(all_cases)\n",
    "\n",
    "    # Merge outputs\n",
    "    merged_outputs = []\n",
    "    for output_batch in outputs:\n",
    "        for i, output_layer in enumerate(output_batch):\n",
    "            if len(merged_outputs) <= i:\n",
    "                merged_outputs.append([])\n",
    "            merged_outputs[i].extend(output_layer)\n",
    "\n",
    "    for i, layer_output in enumerate(merged_outputs):\n",
    "        merged_outputs[i] = np.array(merged_outputs[i])\n",
    "    outputs = merged_outputs\n",
    "\n",
    "    # Perform regression\n",
    "    concept_presence_per_layer = []\n",
    "    for (i, output) in enumerate(outputs):\n",
    "        points = output.reshape((output.shape[0], np.prod(output.shape[1:])))\n",
    "        # So one has (n, k) samples where n is the number of positions, and k is the total number of activation values in layer i.\n",
    "        print(\"Performing regression for layer {}\".format(i))\n",
    "        # points = np.concatenate([points, actual_outputs], axis=1)\n",
    "        score = concepts.perform_regression(\n",
    "            points[:POSITIONS_TO_CONSIDER], \n",
    "            all_labels[:POSITIONS_TO_CONSIDER], \n",
    "            points[POSITIONS_TO_CONSIDER:], \n",
    "            all_labels[POSITIONS_TO_CONSIDER:], \n",
    "            True\n",
    "        )\n",
    "        concept_presence_per_layer.append(score)\n",
    "\n",
    "        print(\"The presence of {} in resblock {} is {}\".format(CONCEPT_NAME, i, score))\n",
    "    concept_presences[CONCEPT_NAME] = concept_presence_per_layer\n",
    "\n",
    "    # Save concept presences in json file\n",
    "    os.makedirs(\"../concept_presences\", exist_ok=True)\n",
    "    os.makedirs(\"../concept_presences/{}\".format(board_name), exist_ok=True)\n",
    "    os.makedirs(\"../concept_presences/{}/{}\".format(board_name, model_name), exist_ok=True)\n",
    "    os.makedirs(\"../concept_presences/{}/{}/{}\".format(board_name, model_name, CONCEPT_NAME), exist_ok=True)\n",
    "    os.makedirs(\"../concept_presences/{}/{}/{}/{}\".format(board_name, model_name, CONCEPT_NAME, epoch_to_look_at), exist_ok=True)\n",
    "\n",
    "    random_suffix = ''.join(random.choices(string.ascii_uppercase + string.digits, k=10))\n",
    "\n",
    "    with open(\"concept_presences/{}/{}/{}/{}/{}.json\".format(board_name, model_name, CONCEPT_NAME, epoch_to_look_at, random_suffix), \"w\") as f:\n",
    "        json.dump(concept_presences[CONCEPT_NAME], f)\n",
    "\n",
    "\n"
   ]
  }
 ],
 "metadata": {
  "kernelspec": {
   "display_name": "go-xai",
   "language": "python",
   "name": "python3"
  },
  "language_info": {
   "codemirror_mode": {
    "name": "ipython",
    "version": 3
   },
   "file_extension": ".py",
   "mimetype": "text/x-python",
   "name": "python",
   "nbconvert_exporter": "python",
   "pygments_lexer": "ipython3",
   "version": "3.11.5"
  }
 },
 "nbformat": 4,
 "nbformat_minor": 2
}
