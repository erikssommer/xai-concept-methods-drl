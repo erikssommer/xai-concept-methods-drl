{
 "cells": [
  {
   "cell_type": "code",
   "execution_count": null,
   "metadata": {},
   "outputs": [],
   "source": [
    "# Notebook for concept detection in neural network"
   ]
  },
  {
   "cell_type": "code",
   "execution_count": 8,
   "metadata": {},
   "outputs": [],
   "source": [
    "import numpy as np\n",
    "import os\n",
    "import sys\n",
    "\n",
    "sys.path.append(os.path.abspath(os.path.join(os.path.pardir, 'src')))\n",
    "\n",
    "import concepts\n",
    "import env\n",
    "\n",
    "model_name = \"net\"\n",
    "\n",
    "agents_to_sample = [0, 150, 300, 450, 600]\n",
    "\n",
    "full_model_path = \"../models/saved_sessions/board_size_5/\"\n",
    "board_size = 5\n",
    "dims = (4, 5, 5)\n",
    "\n",
    "CONCEPT_FUNC = concepts.concept_area_advantage\n",
    "\n",
    "CONCEPT_NAME = concepts.concept_area_advantage.__name__\n"
   ]
  },
  {
   "cell_type": "code",
   "execution_count": null,
   "metadata": {},
   "outputs": [],
   "source": [
    "from policy import ActorCriticNet\n",
    "\n",
    "def load_model(full_name, model_name, epoch):\n",
    "    model_path = full_name + model_name + \"_\" + str(epoch) + \".keras\"\n",
    "    model = ActorCriticNet(board_size, model_path)\n",
    "    return model\n",
    "\n",
    "agents = [load_model(full_model_path, model_name, epoch) for epoch in agents_to_sample]"
   ]
  },
  {
   "cell_type": "code",
   "execution_count": null,
   "metadata": {},
   "outputs": [],
   "source": [
    "def play_match(agents: list[ActorCriticNet], board_size, concept_function):\n",
    "    go_env = env.GoEnv(board_size)\n",
    "    state = go_env.reset()\n",
    "\n",
    "    player_to_start = 1 if np.random.random() > 0.5 else 0\n",
    "    current_player = player_to_start\n",
    "\n",
    "    positive_cases = []\n",
    "    negative_cases = []\n",
    "\n",
    "    sample_ratio = 0.2\n",
    "\n",
    "    game_over = False\n",
    "\n",
    "    while not game_over:\n",
    "        if np.random.random() < sample_ratio:\n",
    "            if concept_function(state):\n",
    "                positive_cases.append(state)\n",
    "            else:\n",
    "                negative_cases.append(state)\n",
    "        \n",
    "        action = agents[current_player].best_action(state)\n",
    "\n",
    "        state, _, game_over, _ = go_env.step(action)\n",
    "\n",
    "        current_player = (current_player + 1) % 2\n",
    "    \n",
    "    return positive_cases, negative_cases"
   ]
  }
 ],
 "metadata": {
  "kernelspec": {
   "display_name": "go-xai",
   "language": "python",
   "name": "python3"
  },
  "language_info": {
   "codemirror_mode": {
    "name": "ipython",
    "version": 3
   },
   "file_extension": ".py",
   "mimetype": "text/x-python",
   "name": "python",
   "nbconvert_exporter": "python",
   "pygments_lexer": "ipython3",
   "version": "3.11.5"
  }
 },
 "nbformat": 4,
 "nbformat_minor": 2
}
