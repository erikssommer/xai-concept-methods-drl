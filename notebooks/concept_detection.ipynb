{
 "cells": [
  {
   "cell_type": "markdown",
   "metadata": {},
   "source": [
    "### Notebook for concept detection in neural network"
   ]
  },
  {
   "cell_type": "code",
   "execution_count": 4,
   "metadata": {},
   "outputs": [],
   "source": [
    "import numpy as np\n",
    "import os\n",
    "import sys\n",
    "from tqdm import tqdm\n",
    "import json\n",
    "import random\n",
    "import string\n",
    "\n",
    "sys.path.append(os.path.abspath(os.path.join(os.path.pardir, 'src')))\n",
    "\n",
    "import concepts\n",
    "import env\n",
    "from policy import ActorCriticNet\n",
    "\n",
    "model_name = \"net\"\n",
    "session_name = \"starship\"\n",
    "board_name = \"5x5\"\n",
    "\n",
    "agents_to_sample = [0, 150, 300, 450, 600, 750, 900, 1050]\n",
    "\n",
    "full_model_path = f\"../models/saved_sessions/board_size_5/{session_name}/\"\n",
    "board_size = 5\n",
    "\n",
    "CONCEPT_FUNC = concepts.concept_win_on_pass\n",
    "\n",
    "CONCEPT_NAME = concepts.concept_win_on_pass.__name__\n"
   ]
  },
  {
   "cell_type": "code",
   "execution_count": 5,
   "metadata": {},
   "outputs": [
    {
     "name": "stderr",
     "output_type": "stream",
     "text": [
      "WARNING:absl:Skipping variable loading for optimizer 'Adam', because it has 29 variables whereas the saved optimizer has 1 variables. \n"
     ]
    }
   ],
   "source": [
    "def load_model(full_name, model_name, epoch):\n",
    "    model_path = full_name + model_name + \"_\" + str(epoch) + \".keras\"\n",
    "    model = ActorCriticNet(board_size, model_path)\n",
    "    return model\n",
    "\n",
    "agents = [load_model(full_model_path, model_name, epoch) for epoch in agents_to_sample]"
   ]
  },
  {
   "cell_type": "code",
   "execution_count": 6,
   "metadata": {},
   "outputs": [
    {
     "name": "stderr",
     "output_type": "stream",
     "text": [
      "Positive cases: 2501it [08:20,  9.08it/s]                          "
     ]
    }
   ],
   "source": [
    "def play_match(agents: list[ActorCriticNet], board_size, concept_function):\n",
    "    go_env = env.GoEnv(board_size)\n",
    "    state = go_env.reset()\n",
    "\n",
    "    player_to_start = 1 if np.random.random() > 0.5 else 0\n",
    "    current_player = player_to_start\n",
    "\n",
    "    positive_cases = []\n",
    "    negative_cases = []\n",
    "\n",
    "    sample_ratio = 0.2\n",
    "\n",
    "    game_over = False\n",
    "\n",
    "    while not game_over:\n",
    "        # Remove array index 3 and 5 from the current state making it an shape of (4, 5, 5)\n",
    "        state_copy = np.delete(state, [3, 5], axis=0)\n",
    "        \n",
    "        if np.random.random() < sample_ratio:\n",
    "            if concept_function(state):\n",
    "                positive_cases.append(state_copy)\n",
    "            else:\n",
    "                negative_cases.append(state_copy)\n",
    "        \n",
    "        action = agents[current_player].best_action(state)\n",
    "\n",
    "        state, _, game_over, _ = go_env.step(action)\n",
    "\n",
    "        current_player = (current_player + 1) % 2\n",
    "    \n",
    "    return positive_cases, negative_cases\n",
    "\n",
    "positive_cases = []\n",
    "negative_cases = []\n",
    "\n",
    "CASES_TO_SAMPLE = 2500 # 25000\n",
    "\n",
    "positive_bar = tqdm(total=CASES_TO_SAMPLE, desc=\"Positive cases\")\n",
    "while len(positive_cases) < CASES_TO_SAMPLE:\n",
    "    pos, neg = play_match(agents, board_size, CONCEPT_FUNC)\n",
    "    positive_cases.extend(pos)\n",
    "    negative_cases.extend(neg)\n",
    "    positive_bar.update(len(pos))\n",
    "\n",
    "positive_cases = positive_cases[:CASES_TO_SAMPLE]\n",
    "negative_cases = negative_cases[:CASES_TO_SAMPLE]"
   ]
  },
  {
   "cell_type": "code",
   "execution_count": 7,
   "metadata": {},
   "outputs": [
    {
     "name": "stdout",
     "output_type": "stream",
     "text": [
      "Positive cases:  (2500, 4, 5, 5)\n",
      "Negative cases:  (2500, 4, 5, 5)\n"
     ]
    }
   ],
   "source": [
    "positive_cases = np.array(positive_cases)\n",
    "negative_cases = np.array(negative_cases)\n",
    "\n",
    "print(\"Positive cases: \", positive_cases.shape)\n",
    "print(\"Negative cases: \", negative_cases.shape)"
   ]
  },
  {
   "cell_type": "code",
   "execution_count": 8,
   "metadata": {},
   "outputs": [
    {
     "name": "stderr",
     "output_type": "stream",
     "text": [
      "WARNING:absl:Skipping variable loading for optimizer 'Adam', because it has 29 variables whereas the saved optimizer has 1 variables. \n",
      "Getting resblock outputs: 100%|██████████| 157/157 [00:00<00:00, 246.29it/s]\n"
     ]
    },
    {
     "name": "stdout",
     "output_type": "stream",
     "text": [
      "Performing regression for layer 0\n",
      "The presence of concept_win_on_pass in resblock 0 is 0.9164571075474393\n",
      "Performing regression for layer 1\n",
      "The presence of concept_win_on_pass in resblock 1 is 0.922455791572831\n",
      "Performing regression for layer 2\n",
      "The presence of concept_win_on_pass in resblock 2 is 0.9224346859914258\n",
      "Performing regression for layer 3\n",
      "The presence of concept_win_on_pass in resblock 3 is 0.9295865936286436\n"
     ]
    },
    {
     "name": "stderr",
     "output_type": "stream",
     "text": [
      "Getting resblock outputs: 100%|██████████| 157/157 [00:00<00:00, 199.88it/s]\n"
     ]
    },
    {
     "name": "stdout",
     "output_type": "stream",
     "text": [
      "Performing regression for layer 0\n",
      "The presence of concept_win_on_pass in resblock 0 is 0.9215124496247492\n",
      "Performing regression for layer 1\n",
      "The presence of concept_win_on_pass in resblock 1 is 0.9232930653169809\n",
      "Performing regression for layer 2\n",
      "The presence of concept_win_on_pass in resblock 2 is 0.9224556395410389\n",
      "Performing regression for layer 3\n",
      "The presence of concept_win_on_pass in resblock 3 is 0.925773051727351\n"
     ]
    },
    {
     "name": "stderr",
     "output_type": "stream",
     "text": [
      "Getting resblock outputs: 100%|██████████| 157/157 [00:00<00:00, 274.55it/s]\n"
     ]
    },
    {
     "name": "stdout",
     "output_type": "stream",
     "text": [
      "Performing regression for layer 0\n",
      "The presence of concept_win_on_pass in resblock 0 is 0.9254687346907917\n",
      "Performing regression for layer 1\n",
      "The presence of concept_win_on_pass in resblock 1 is 0.9300903185637749\n",
      "Performing regression for layer 2\n",
      "The presence of concept_win_on_pass in resblock 2 is 0.9227880082193735\n",
      "Performing regression for layer 3\n",
      "The presence of concept_win_on_pass in resblock 3 is 0.9297454119417949\n"
     ]
    },
    {
     "name": "stderr",
     "output_type": "stream",
     "text": [
      "Getting resblock outputs: 100%|██████████| 157/157 [00:00<00:00, 261.48it/s]\n"
     ]
    },
    {
     "name": "stdout",
     "output_type": "stream",
     "text": [
      "Performing regression for layer 0\n",
      "The presence of concept_win_on_pass in resblock 0 is 0.9158411544681635\n",
      "Performing regression for layer 1\n",
      "The presence of concept_win_on_pass in resblock 1 is 0.9238500476325349\n",
      "Performing regression for layer 2\n",
      "The presence of concept_win_on_pass in resblock 2 is 0.9215737387161805\n",
      "Performing regression for layer 3\n",
      "The presence of concept_win_on_pass in resblock 3 is 0.9228595142289753\n"
     ]
    },
    {
     "name": "stderr",
     "output_type": "stream",
     "text": [
      "Getting resblock outputs: 100%|██████████| 157/157 [00:00<00:00, 275.86it/s]\n"
     ]
    },
    {
     "name": "stdout",
     "output_type": "stream",
     "text": [
      "Performing regression for layer 0\n",
      "The presence of concept_win_on_pass in resblock 0 is 0.9341621251080776\n",
      "Performing regression for layer 1\n",
      "The presence of concept_win_on_pass in resblock 1 is 0.9354035429485894\n",
      "Performing regression for layer 2\n",
      "The presence of concept_win_on_pass in resblock 2 is 0.9300050598536933\n",
      "Performing regression for layer 3\n",
      "The presence of concept_win_on_pass in resblock 3 is 0.9389120683478436\n"
     ]
    },
    {
     "name": "stderr",
     "output_type": "stream",
     "text": [
      "Getting resblock outputs: 100%|██████████| 157/157 [00:00<00:00, 255.70it/s]\n"
     ]
    },
    {
     "name": "stdout",
     "output_type": "stream",
     "text": [
      "Performing regression for layer 0\n",
      "The presence of concept_win_on_pass in resblock 0 is 0.9242121226531156\n",
      "Performing regression for layer 1\n",
      "The presence of concept_win_on_pass in resblock 1 is 0.9269028252586018\n",
      "Performing regression for layer 2\n",
      "The presence of concept_win_on_pass in resblock 2 is 0.9258865830280107\n",
      "Performing regression for layer 3\n",
      "The presence of concept_win_on_pass in resblock 3 is 0.9319163497347751\n"
     ]
    },
    {
     "name": "stderr",
     "output_type": "stream",
     "text": [
      "Getting resblock outputs: 100%|██████████| 157/157 [00:00<00:00, 282.69it/s]\n"
     ]
    },
    {
     "name": "stdout",
     "output_type": "stream",
     "text": [
      "Performing regression for layer 0\n",
      "The presence of concept_win_on_pass in resblock 0 is 0.9249211351725677\n",
      "Performing regression for layer 1\n",
      "The presence of concept_win_on_pass in resblock 1 is 0.9282121313423874\n",
      "Performing regression for layer 2\n",
      "The presence of concept_win_on_pass in resblock 2 is 0.926862253067785\n",
      "Performing regression for layer 3\n",
      "The presence of concept_win_on_pass in resblock 3 is 0.9287654112120789\n"
     ]
    },
    {
     "name": "stderr",
     "output_type": "stream",
     "text": [
      "Getting resblock outputs: 100%|██████████| 157/157 [00:00<00:00, 274.60it/s]\n"
     ]
    },
    {
     "name": "stdout",
     "output_type": "stream",
     "text": [
      "Performing regression for layer 0\n",
      "The presence of concept_win_on_pass in resblock 0 is 0.8952136574803451\n",
      "Performing regression for layer 1\n",
      "The presence of concept_win_on_pass in resblock 1 is 0.8974817630277223\n",
      "Performing regression for layer 2\n",
      "The presence of concept_win_on_pass in resblock 2 is 0.8897018440497726\n",
      "Performing regression for layer 3\n",
      "The presence of concept_win_on_pass in resblock 3 is 0.8937825462388166\n"
     ]
    },
    {
     "name": "stderr",
     "output_type": "stream",
     "text": [
      "Positive cases: 2501it [08:40,  9.08it/s]"
     ]
    }
   ],
   "source": [
    "epochs_to_look_at = [0, 150, 300, 450, 600, 750, 900, 1050]\n",
    "\n",
    "POSITIONS_TO_CONSIDER = 4000 #40000\n",
    "VALIDATION_POSITIONS = 10000 #10000\n",
    "\n",
    "for epoch in epochs_to_look_at:\n",
    "    path = full_model_path + model_name + \"_\" + str(epoch) + \".keras\"\n",
    "    model = ActorCriticNet(board_size, path)\n",
    "\n",
    "    # Will have a length equal to the sum of the numer of rows in the positive and negative cases arrays\n",
    "    # And will contain 1s for positive cases and 0s for negative cases\n",
    "    # Is used as labels/targets for the regression\n",
    "    all_cases = np.concatenate([positive_cases, negative_cases])\n",
    "    all_labels = [1] * positive_cases.shape[0] + [0] * negative_cases.shape[0]\n",
    "    all_labels = np.array(all_labels)\n",
    "    shuffled_indices = np.arange(all_labels.shape[0])\n",
    "\n",
    "    np.random.shuffle(shuffled_indices)\n",
    "\n",
    "    all_cases = all_cases[shuffled_indices]\n",
    "    all_labels = all_labels[shuffled_indices]\n",
    "\n",
    "    concept_presences = {}\n",
    "    \n",
    "    outputs = model.get_all_resblock_outputs(all_cases)\n",
    "\n",
    "    # Merge outputs\n",
    "    merged_outputs = []\n",
    "    for output_batch in outputs:\n",
    "        for i, output_layer in enumerate(output_batch):\n",
    "            if len(merged_outputs) <= i:\n",
    "                merged_outputs.append([])\n",
    "            merged_outputs[i].extend(output_layer)\n",
    "\n",
    "    for i, layer_output in enumerate(merged_outputs):\n",
    "        merged_outputs[i] = np.array(merged_outputs[i])\n",
    "    \n",
    "    outputs = merged_outputs\n",
    "\n",
    "    # Perform regression\n",
    "    concept_presence_per_layer = []\n",
    "    for (i, output) in enumerate(outputs):\n",
    "        points = output.reshape((output.shape[0], np.prod(output.shape[1:])))\n",
    "        # So one has (n, k) samples where n is the number of positions, and k is the total number of activation values in layer i.\n",
    "        print(f\"Performing regression for layer {i}\")\n",
    "        score = concepts.perform_regression(\n",
    "            points=points[:POSITIONS_TO_CONSIDER], \n",
    "            targets=all_labels[:POSITIONS_TO_CONSIDER], \n",
    "            validation_points=points[POSITIONS_TO_CONSIDER:], \n",
    "            validation_targets=all_labels[POSITIONS_TO_CONSIDER:], \n",
    "            is_binary=False\n",
    "        )\n",
    "        concept_presence_per_layer.append(score)\n",
    "\n",
    "        print(f\"The presence of {CONCEPT_NAME} in resblock {i} is {score}\")\n",
    "    concept_presences[CONCEPT_NAME] = concept_presence_per_layer\n",
    "\n",
    "    # Remove the files if they exist\n",
    "    if os.path.exists(\"../concept_presences/{}/{}/{}/\".format(board_name, session_name, CONCEPT_NAME)):\n",
    "        # Test if epoch folder exists\n",
    "        if os.path.exists(\"../concept_presences/{}/{}/{}/{}\".format(board_name, session_name, CONCEPT_NAME, epoch)):\n",
    "            # Remove all files in the epoch folder\n",
    "            for file in os.listdir(\"../concept_presences/{}/{}/{}/{}\".format(board_name, session_name, CONCEPT_NAME, epoch)):\n",
    "                os.remove(\"../concept_presences/{}/{}/{}/{}/{}\".format(board_name, session_name, CONCEPT_NAME, epoch, file))\n",
    "\n",
    "    os.makedirs(\"../concept_presences\", exist_ok=True)\n",
    "    os.makedirs(\"../concept_presences/{}\".format(board_name), exist_ok=True)\n",
    "    os.makedirs(\"../concept_presences/{}/{}\".format(board_name, session_name), exist_ok=True)\n",
    "    os.makedirs(\"../concept_presences/{}/{}/{}\".format(board_name, session_name, CONCEPT_NAME), exist_ok=True)\n",
    "    os.makedirs(\"../concept_presences/{}/{}/{}/{}\".format(board_name, session_name, CONCEPT_NAME, epoch), exist_ok=True)\n",
    "\n",
    "    random_suffix = ''.join(random.choices(string.ascii_uppercase + string.digits, k=10))\n",
    "\n",
    "    # Save concept presences in json file\n",
    "    with open(\"../concept_presences/{}/{}/{}/{}/{}.json\".format(board_name, session_name, CONCEPT_NAME, epoch, random_suffix), \"w\") as f:\n",
    "        json.dump(concept_presences[CONCEPT_NAME], f)\n",
    "\n",
    "\n"
   ]
  }
 ],
 "metadata": {
  "kernelspec": {
   "display_name": "go-xai",
   "language": "python",
   "name": "python3"
  },
  "language_info": {
   "codemirror_mode": {
    "name": "ipython",
    "version": 3
   },
   "file_extension": ".py",
   "mimetype": "text/x-python",
   "name": "python",
   "nbconvert_exporter": "python",
   "pygments_lexer": "ipython3",
   "version": "3.11.5"
  }
 },
 "nbformat": 4,
 "nbformat_minor": 2
}
