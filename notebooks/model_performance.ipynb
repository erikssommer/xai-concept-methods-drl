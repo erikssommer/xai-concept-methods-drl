{
 "cells": [
  {
   "cell_type": "markdown",
   "metadata": {},
   "source": [
    "### Notebook for model performance analysis"
   ]
  },
  {
   "cell_type": "code",
   "execution_count": null,
   "metadata": {},
   "outputs": [],
   "source": [
    "%load_ext autoreload\n",
    "%autoreload 2"
   ]
  },
  {
   "cell_type": "code",
   "execution_count": 3,
   "metadata": {},
   "outputs": [
    {
     "name": "stdout",
     "output_type": "stream",
     "text": [
      "Loading agents from ../models/saved_sessions/resnet/zero_sum/board_size_7/probing_2\n",
      "INFO:tensorflow:Assets written to: /var/folders/k4/t2xnyks517g9v60tdd71p4_00000gn/T/tmpv08mbvrd/assets\n"
     ]
    },
    {
     "name": "stderr",
     "output_type": "stream",
     "text": [
      "INFO:tensorflow:Assets written to: /var/folders/k4/t2xnyks517g9v60tdd71p4_00000gn/T/tmpv08mbvrd/assets\n"
     ]
    },
    {
     "name": "stdout",
     "output_type": "stream",
     "text": [
      "INFO:tensorflow:Assets written to: /var/folders/k4/t2xnyks517g9v60tdd71p4_00000gn/T/tmph15te3m2/assets\n"
     ]
    },
    {
     "name": "stderr",
     "output_type": "stream",
     "text": [
      "INFO:tensorflow:Assets written to: /var/folders/k4/t2xnyks517g9v60tdd71p4_00000gn/T/tmph15te3m2/assets\n"
     ]
    },
    {
     "name": "stdout",
     "output_type": "stream",
     "text": [
      "INFO:tensorflow:Assets written to: /var/folders/k4/t2xnyks517g9v60tdd71p4_00000gn/T/tmpvrlj5h13/assets\n"
     ]
    },
    {
     "name": "stderr",
     "output_type": "stream",
     "text": [
      "INFO:tensorflow:Assets written to: /var/folders/k4/t2xnyks517g9v60tdd71p4_00000gn/T/tmpvrlj5h13/assets\n"
     ]
    },
    {
     "name": "stdout",
     "output_type": "stream",
     "text": [
      "INFO:tensorflow:Assets written to: /var/folders/k4/t2xnyks517g9v60tdd71p4_00000gn/T/tmpmi2ie_ou/assets\n"
     ]
    },
    {
     "name": "stderr",
     "output_type": "stream",
     "text": [
      "INFO:tensorflow:Assets written to: /var/folders/k4/t2xnyks517g9v60tdd71p4_00000gn/T/tmpmi2ie_ou/assets\n"
     ]
    },
    {
     "name": "stdout",
     "output_type": "stream",
     "text": [
      "INFO:tensorflow:Assets written to: /var/folders/k4/t2xnyks517g9v60tdd71p4_00000gn/T/tmpm91velyv/assets\n"
     ]
    },
    {
     "name": "stderr",
     "output_type": "stream",
     "text": [
      "INFO:tensorflow:Assets written to: /var/folders/k4/t2xnyks517g9v60tdd71p4_00000gn/T/tmpm91velyv/assets\n"
     ]
    },
    {
     "name": "stdout",
     "output_type": "stream",
     "text": [
      "INFO:tensorflow:Assets written to: /var/folders/k4/t2xnyks517g9v60tdd71p4_00000gn/T/tmpad42vztu/assets\n"
     ]
    },
    {
     "name": "stderr",
     "output_type": "stream",
     "text": [
      "INFO:tensorflow:Assets written to: /var/folders/k4/t2xnyks517g9v60tdd71p4_00000gn/T/tmpad42vztu/assets\n"
     ]
    },
    {
     "name": "stdout",
     "output_type": "stream",
     "text": [
      "INFO:tensorflow:Assets written to: /var/folders/k4/t2xnyks517g9v60tdd71p4_00000gn/T/tmpyrzqn_57/assets\n"
     ]
    },
    {
     "name": "stderr",
     "output_type": "stream",
     "text": [
      "INFO:tensorflow:Assets written to: /var/folders/k4/t2xnyks517g9v60tdd71p4_00000gn/T/tmpyrzqn_57/assets\n"
     ]
    },
    {
     "name": "stdout",
     "output_type": "stream",
     "text": [
      "INFO:tensorflow:Assets written to: /var/folders/k4/t2xnyks517g9v60tdd71p4_00000gn/T/tmpibzkr407/assets\n"
     ]
    },
    {
     "name": "stderr",
     "output_type": "stream",
     "text": [
      "INFO:tensorflow:Assets written to: /var/folders/k4/t2xnyks517g9v60tdd71p4_00000gn/T/tmpibzkr407/assets\n"
     ]
    },
    {
     "name": "stdout",
     "output_type": "stream",
     "text": [
      "INFO:tensorflow:Assets written to: /var/folders/k4/t2xnyks517g9v60tdd71p4_00000gn/T/tmpbzlo5spy/assets\n"
     ]
    },
    {
     "name": "stderr",
     "output_type": "stream",
     "text": [
      "INFO:tensorflow:Assets written to: /var/folders/k4/t2xnyks517g9v60tdd71p4_00000gn/T/tmpbzlo5spy/assets\n"
     ]
    },
    {
     "name": "stdout",
     "output_type": "stream",
     "text": [
      "INFO: Agents are added to the tournament.\n"
     ]
    }
   ],
   "source": [
    "import os\n",
    "import sys\n",
    "os.environ['TF_CPP_MIN_LOG_LEVEL'] = '2'  # or any {'0', '1', '2'}\n",
    "import absl.logging\n",
    "\n",
    "absl.logging.set_verbosity(absl.logging.ERROR)\n",
    "\n",
    "sys.path.append(os.path.abspath(os.path.join(os.path.pardir, 'src')))\n",
    "\n",
    "from topp import Topp\n",
    "\n",
    "number_of_games = 10\n",
    "dirs = ['saved_sessions', 'model_performance', 'training']\n",
    "version = ['endeavor', 'falcon', 'starship', 'probing_2']\n",
    "greedy_move = False\n",
    "board_size = 7\n",
    "komi = 3.5\n",
    "render = False\n",
    "resnet = True\n",
    "fast_predictor = True\n",
    "model_type = 'resnet' if resnet else 'convnet'\n",
    "\n",
    "# Initialize the Tournament of Progressive Policies (TOPP)\n",
    "topp = Topp(board_size, number_of_games, render=render, komi=komi, dir=dirs[0], version=version[3], model_type=model_type)\n",
    "\n",
    "# Add the agents to the tournament\n",
    "topp.add_agents(greedy_move, resnet, fast_predictor)\n",
    "\n",
    "print(\"INFO: Agents are added to the tournament.\")"
   ]
  },
  {
   "cell_type": "code",
   "execution_count": 4,
   "metadata": {},
   "outputs": [
    {
     "name": "stderr",
     "output_type": "stream",
     "text": [
      "Playing tournament games: 100%|██████████| 9/9 [02:06<00:00, 14.11s/it]\n"
     ]
    },
    {
     "name": "stdout",
     "output_type": "stream",
     "text": [
      "Agent net_1000.keras won 62 times where 31 as black and 31 as white,                   lost 17 times, where 9 as black and 8 as white,                   and drew 1 times,                   played 40 times as black and 40 times as white\n",
      "Agent net_800.keras won 59 times where 29 as black and 30 as white,                   lost 20 times, where 10 as black and 10 as white,                   and drew 1 times,                   played 40 times as black and 40 times as white\n",
      "Agent net_600.keras won 50 times where 24 as black and 26 as white,                   lost 30 times, where 16 as black and 14 as white,                   and drew 0 times,                   played 40 times as black and 40 times as white\n",
      "Agent net_300.keras won 47 times where 20 as black and 27 as white,                   lost 33 times, where 20 as black and 13 as white,                   and drew 0 times,                   played 40 times as black and 40 times as white\n",
      "Agent net_500.keras won 33 times where 14 as black and 19 as white,                   lost 45 times, where 24 as black and 21 as white,                   and drew 2 times,                   played 40 times as black and 40 times as white\n",
      "Agent net_100.keras won 32 times where 13 as black and 19 as white,                   lost 45 times, where 25 as black and 20 as white,                   and drew 3 times,                   played 40 times as black and 40 times as white\n",
      "Agent net_50.keras won 31 times where 11 as black and 20 as white,                   lost 49 times, where 29 as black and 20 as white,                   and drew 0 times,                   played 40 times as black and 40 times as white\n",
      "Agent net_10.keras won 20 times where 7 as black and 13 as white,                   lost 56 times, where 33 as black and 23 as white,                   and drew 4 times,                   played 40 times as black and 40 times as white\n",
      "Agent net_0.keras won 19 times where 10 as black and 9 as white,                   lost 58 times, where 28 as black and 30 as white,                   and drew 3 times,                   played 40 times as black and 40 times as white\n"
     ]
    },
    {
     "data": {
      "image/png": "[encoded data removed]",
      "text/plain": [
       "<Figure size 1200x800 with 1 Axes>"
      ]
     },
     "metadata": {},
     "output_type": "display_data"
    }
   ],
   "source": [
    "# Run the tournament\n",
    "topp.run_tournament()\n",
    "\n",
    "# Get the results\n",
    "topp.get_results()\n",
    "\n",
    "# Plot the results\n",
    "topp.plot_results()"
   ]
  }
 ],
 "metadata": {
  "kernelspec": {
   "display_name": "go-xai",
   "language": "python",
   "name": "python3"
  },
  "language_info": {
   "codemirror_mode": {
    "name": "ipython",
    "version": 3
   },
   "file_extension": ".py",
   "mimetype": "text/x-python",
   "name": "python",
   "nbconvert_exporter": "python",
   "pygments_lexer": "ipython3",
   "version": "3.8.18"
  }
 },
 "nbformat": 4,
 "nbformat_minor": 2
}
