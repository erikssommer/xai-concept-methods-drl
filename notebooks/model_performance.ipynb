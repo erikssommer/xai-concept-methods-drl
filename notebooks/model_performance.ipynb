{
 "cells": [
  {
   "cell_type": "markdown",
   "metadata": {},
   "source": [
    "### Notebook for model performance analysis"
   ]
  },
  {
   "cell_type": "code",
   "execution_count": 4,
   "metadata": {},
   "outputs": [
    {
     "name": "stdout",
     "output_type": "stream",
     "text": [
      "The autoreload extension is already loaded. To reload it, use:\n",
      "  %reload_ext autoreload\n",
      "Loading agents from ../models/saved_sessions/resnet/board_size_7/falcon\n",
      "INFO:tensorflow:Assets written to: /var/folders/k4/t2xnyks517g9v60tdd71p4_00000gn/T/tmpfnn58lmk/assets\n"
     ]
    },
    {
     "name": "stderr",
     "output_type": "stream",
     "text": [
      "INFO:tensorflow:Assets written to: /var/folders/k4/t2xnyks517g9v60tdd71p4_00000gn/T/tmpfnn58lmk/assets\n"
     ]
    },
    {
     "name": "stdout",
     "output_type": "stream",
     "text": [
      "INFO:tensorflow:Assets written to: /var/folders/k4/t2xnyks517g9v60tdd71p4_00000gn/T/tmp66v03ga0/assets\n"
     ]
    },
    {
     "name": "stderr",
     "output_type": "stream",
     "text": [
      "INFO:tensorflow:Assets written to: /var/folders/k4/t2xnyks517g9v60tdd71p4_00000gn/T/tmp66v03ga0/assets\n"
     ]
    },
    {
     "name": "stdout",
     "output_type": "stream",
     "text": [
      "INFO:tensorflow:Assets written to: /var/folders/k4/t2xnyks517g9v60tdd71p4_00000gn/T/tmp9jsem2gx/assets\n"
     ]
    },
    {
     "name": "stderr",
     "output_type": "stream",
     "text": [
      "INFO:tensorflow:Assets written to: /var/folders/k4/t2xnyks517g9v60tdd71p4_00000gn/T/tmp9jsem2gx/assets\n"
     ]
    },
    {
     "name": "stdout",
     "output_type": "stream",
     "text": [
      "INFO:tensorflow:Assets written to: /var/folders/k4/t2xnyks517g9v60tdd71p4_00000gn/T/tmpa93y43dv/assets\n"
     ]
    },
    {
     "name": "stderr",
     "output_type": "stream",
     "text": [
      "INFO:tensorflow:Assets written to: /var/folders/k4/t2xnyks517g9v60tdd71p4_00000gn/T/tmpa93y43dv/assets\n"
     ]
    },
    {
     "name": "stdout",
     "output_type": "stream",
     "text": [
      "INFO:tensorflow:Assets written to: /var/folders/k4/t2xnyks517g9v60tdd71p4_00000gn/T/tmpevoaxj6c/assets\n"
     ]
    },
    {
     "name": "stderr",
     "output_type": "stream",
     "text": [
      "INFO:tensorflow:Assets written to: /var/folders/k4/t2xnyks517g9v60tdd71p4_00000gn/T/tmpevoaxj6c/assets\n"
     ]
    },
    {
     "name": "stdout",
     "output_type": "stream",
     "text": [
      "INFO:tensorflow:Assets written to: /var/folders/k4/t2xnyks517g9v60tdd71p4_00000gn/T/tmp6fpc79b0/assets\n"
     ]
    },
    {
     "name": "stderr",
     "output_type": "stream",
     "text": [
      "INFO:tensorflow:Assets written to: /var/folders/k4/t2xnyks517g9v60tdd71p4_00000gn/T/tmp6fpc79b0/assets\n"
     ]
    },
    {
     "name": "stdout",
     "output_type": "stream",
     "text": [
      "INFO: Agents are added to the tournament.\n",
      "Move cap reached in game between net_0.keras and net_10.keras, termination game!\n",
      "Agent net_500.keras won 10 times where 5 as black and 5 as white,                   lost 0 times, where 0 as black and 0 as white,                   and drew 0 times,                   played 5 times as black and 5 times as white\n",
      "Agent net_60.keras won 7 times where 4 as black and 3 as white,                   lost 3 times, where 1 as black and 2 as white,                   and drew 0 times,                   played 5 times as black and 5 times as white\n",
      "Agent net_0.keras won 4 times where 2 as black and 2 as white,                   lost 5 times, where 3 as black and 2 as white,                   and drew 1 times,                   played 5 times as black and 5 times as white\n",
      "Agent net_20.keras won 3 times where 0 as black and 3 as white,                   lost 7 times, where 5 as black and 2 as white,                   and drew 0 times,                   played 5 times as black and 5 times as white\n",
      "Agent net_100.keras won 3 times where 1 as black and 2 as white,                   lost 7 times, where 4 as black and 3 as white,                   and drew 0 times,                   played 5 times as black and 5 times as white\n",
      "Agent net_10.keras won 2 times where 1 as black and 1 as white,                   lost 7 times, where 3 as black and 4 as white,                   and drew 1 times,                   played 5 times as black and 5 times as white\n"
     ]
    },
    {
     "data": {
      "image/png": "[encoded data removed]",
      "text/plain": [
       "<Figure size 1200x800 with 1 Axes>"
      ]
     },
     "metadata": {},
     "output_type": "display_data"
    }
   ],
   "source": [
    "%load_ext autoreload\n",
    "%autoreload 2\n",
    "\n",
    "import os\n",
    "import sys\n",
    "os.environ['TF_CPP_MIN_LOG_LEVEL'] = '2'  # or any {'0', '1', '2'}\n",
    "import absl.logging\n",
    "\n",
    "absl.logging.set_verbosity(absl.logging.ERROR)\n",
    "\n",
    "sys.path.append(os.path.abspath(os.path.join(os.path.pardir, 'src')))\n",
    "\n",
    "from topp import Topp\n",
    "\n",
    "number_of_games = 2\n",
    "dirs = ['saved_sessions', 'model_performance', 'training']\n",
    "version = ['endeavor', 'falcon', 'starship']\n",
    "greedy_move = False\n",
    "board_size = 7\n",
    "render = False\n",
    "resnet = True\n",
    "fast_predictor = True\n",
    "model_type = 'resnet' if resnet else 'convnet'\n",
    "\n",
    "# Initialize the Tournament of Progressive Policies (TOPP)\n",
    "topp = Topp(board_size, number_of_games, render=render, komi=1.5, dir=dirs[0], version=version[1], model_type=model_type)\n",
    "\n",
    "# Add the agents to the tournament\n",
    "topp.add_agents(greedy_move, resnet, fast_predictor)\n",
    "\n",
    "print(\"INFO: Agents are added to the tournament.\")\n",
    "\n",
    "# Run the tournament\n",
    "topp.run_tournament()\n",
    "\n",
    "# Get the results\n",
    "topp.get_results()\n",
    "\n",
    "# Plot the results\n",
    "topp.plot_results()"
   ]
  }
 ],
 "metadata": {
  "kernelspec": {
   "display_name": "go-xai",
   "language": "python",
   "name": "python3"
  },
  "language_info": {
   "codemirror_mode": {
    "name": "ipython",
    "version": 3
   },
   "file_extension": ".py",
   "mimetype": "text/x-python",
   "name": "python",
   "nbconvert_exporter": "python",
   "pygments_lexer": "ipython3",
   "version": "3.8.18"
  }
 },
 "nbformat": 4,
 "nbformat_minor": 2
}
