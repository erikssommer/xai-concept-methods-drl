{
 "cells": [
  {
   "cell_type": "code",
   "execution_count": 18,
   "metadata": {},
   "outputs": [
    {
     "name": "stdout",
     "output_type": "stream",
     "text": [
      "The autoreload extension is already loaded. To reload it, use:\n",
      "  %reload_ext autoreload\n"
     ]
    }
   ],
   "source": [
    "%load_ext autoreload\n",
    "%autoreload 2"
   ]
  },
  {
   "cell_type": "code",
   "execution_count": 2,
   "metadata": {},
   "outputs": [
    {
     "name": "stdout",
     "output_type": "stream",
     "text": [
      "Model: \"model\"\n",
      "__________________________________________________________________________________________________\n",
      " Layer (type)                   Output Shape         Param #     Connected to                     \n",
      "==================================================================================================\n",
      " input_1 (InputLayer)           [(None, 4, 7, 7)]    0           []                               \n",
      "                                                                                                  \n",
      " conv2d (Conv2D)                (None, 4, 7, 4)      256         ['input_1[0][0]']                \n",
      "                                                                                                  \n",
      " conv2d_1 (Conv2D)              (None, 4, 7, 6)      222         ['conv2d[0][0]']                 \n",
      "                                                                                                  \n",
      " flatten (Flatten)              (None, 168)          0           ['conv2d_1[0][0]']               \n",
      "                                                                                                  \n",
      " input_2 (InputLayer)           [(None, 8)]          0           []                               \n",
      "                                                                                                  \n",
      " dense (Dense)                  (None, 64)           10816       ['flatten[0][0]']                \n",
      "                                                                                                  \n",
      " embedding (Embedding)          (None, 8, 32)        608         ['input_2[0][0]']                \n",
      "                                                                                                  \n",
      " dense_1 (Dense)                (None, 32)           2080        ['dense[0][0]']                  \n",
      "                                                                                                  \n",
      " lstm (LSTM)                    (None, 16)           3136        ['embedding[0][0]']              \n",
      "                                                                                                  \n",
      " final_state (Dense)            (None, 16)           528         ['dense_1[0][0]']                \n",
      "                                                                                                  \n",
      " final_explanation (ReLU)       (None, 16)           0           ['lstm[0][0]']                   \n",
      "                                                                                                  \n",
      " combined_output (Concatenate)  (None, 32)           0           ['final_state[0][0]',            \n",
      "                                                                  'final_explanation[0][0]']      \n",
      "                                                                                                  \n",
      "==================================================================================================\n",
      "Total params: 17,646\n",
      "Trainable params: 17,646\n",
      "Non-trainable params: 0\n",
      "__________________________________________________________________________________________________\n",
      "Epoch 1/10\n"
     ]
    },
    {
     "name": "stderr",
     "output_type": "stream",
     "text": [
      "2024-02-15 17:06:07.182826: E tensorflow/core/grappler/optimizers/meta_optimizer.cc:954] model_pruner failed: INVALID_ARGUMENT: Graph does not contain terminal node AssignAddVariableOp_10.\n"
     ]
    },
    {
     "name": "stdout",
     "output_type": "stream",
     "text": [
      "1/1 [==============================] - 6s 6s/step - loss: 4.7858 - combined_output_loss: 4.7858\n",
      "Epoch 2/10\n",
      "1/1 [==============================] - 0s 410ms/step - loss: 3.1257 - combined_output_loss: 3.1257\n",
      "Epoch 3/10\n",
      "1/1 [==============================] - 0s 380ms/step - loss: 2.1540 - combined_output_loss: 2.1540\n",
      "Epoch 4/10\n",
      "1/1 [==============================] - 0s 410ms/step - loss: 1.6137 - combined_output_loss: 1.6137\n",
      "Epoch 5/10\n",
      "1/1 [==============================] - 0s 384ms/step - loss: 1.3190 - combined_output_loss: 1.3190\n",
      "Epoch 6/10\n",
      "1/1 [==============================] - 0s 378ms/step - loss: 1.1557 - combined_output_loss: 1.1557\n",
      "Epoch 7/10\n",
      "1/1 [==============================] - 0s 364ms/step - loss: 1.0651 - combined_output_loss: 1.0651\n",
      "Epoch 8/10\n",
      "1/1 [==============================] - 0s 362ms/step - loss: 1.0133 - combined_output_loss: 1.0133\n",
      "Epoch 9/10\n",
      "1/1 [==============================] - 0s 374ms/step - loss: 0.9816 - combined_output_loss: 0.9816\n",
      "Epoch 10/10\n",
      "1/1 [==============================] - 0s 441ms/step - loss: 0.9603 - combined_output_loss: 0.9603\n"
     ]
    }
   ],
   "source": [
    "import os\n",
    "import sys\n",
    "import numpy as np\n",
    "import matplotlib as mpl\n",
    "import matplotlib.pyplot as plt\n",
    "\n",
    "sys.path.append(os.path.abspath(os.path.join(os.path.pardir, 'src')))\n",
    "\n",
    "os.environ['TF_CPP_MIN_LOG_LEVEL'] = '2'  # or any {'0', '1', '2'}\n",
    "import tensorflow as tf\n",
    "import absl.logging\n",
    "\n",
    "absl.logging.set_verbosity(absl.logging.ERROR)\n",
    "\n",
    "# Set memory growth\n",
    "physical_devices = tf.config.list_physical_devices('GPU')\n",
    "tf.config.experimental.set_memory_growth(physical_devices[0], True)\n",
    "\n",
    "from jem import JointEmbeddingModel, get_data\n",
    "\n",
    "lr = 0.001\n",
    "epochs = 10\n",
    "batch_size = 128\n",
    "num_epochs = 10\n",
    "input_state_embed = 64\n",
    "hidden_state_embed = 32\n",
    "output_state_embed = 16 \n",
    "exp_embed = 32\n",
    "output_exp_embed = 16\n",
    "\n",
    "# Load the data\n",
    "states, explinations, labels, vocab_size = get_data(batch_size=batch_size)\n",
    "max_sent_len = explinations.shape[1]\n",
    "\n",
    "jem = JointEmbeddingModel(vocab_size=vocab_size, max_sent_len=max_sent_len, learning_rate=lr)\n",
    "\n",
    "jem.fit(states, explinations, labels, batch_size=batch_size, epochs=epochs)\n",
    "\n",
    "jem.save_model('../models/jem/joint_embedding_model.keras')"
   ]
  },
  {
   "cell_type": "code",
   "execution_count": 3,
   "metadata": {},
   "outputs": [
    {
     "data": {
      "image/png": "[encoded data removed]",
      "text/plain": [
       "<Figure size 1600x1000 with 1 Axes>"
      ]
     },
     "metadata": {},
     "output_type": "display_data"
    }
   ],
   "source": [
    "# Import necessary modules\n",
    "from sklearn.manifold import TSNE\n",
    "import seaborn as sns\n",
    "import colorcet as cc\n",
    "\n",
    "# Define necessary variables\n",
    "state_embeddings = []\n",
    "\n",
    "# Get the embeddings\n",
    "for i in range(len(states)):\n",
    "    state_embed, exp_embed, _ = jem.predict(states[i], explinations[i])\n",
    "    state_embeddings.append(state_embed)\n",
    "\n",
    "new_state_embed = []\n",
    "\n",
    "for list_ in state_embeddings:\n",
    "    new_state_embed.append(list_[0])\n",
    "    \n",
    "new_state_embed = np.array(new_state_embed)\n",
    "\n",
    "# Fit the t-sne\n",
    "tsne = TSNE(n_components=2, perplexity=5)\n",
    "state_embed_tsne = tsne.fit_transform(new_state_embed)\n",
    "\n",
    "# Plot the t-sne\n",
    "palette = sns.color_palette(cc.glasbey, 2)\n",
    "plt.figure(figsize=(16,10))\n",
    "#sns.scatterplot(data=(state_embed_tsne[:,0], state_embed_tsne[:,1]), hue=explination_predictions, legend='full', palette=palette)\n",
    "sns.scatterplot(data=(state_embed_tsne[:,0], state_embed_tsne[:,1]), legend='full', palette=palette)\n",
    "plt.title('t-SNE of State Embeddings')\n",
    "plt.plot()\n",
    "plt.show()"
   ]
  }
 ],
 "metadata": {
  "kernelspec": {
   "display_name": "go-xai",
   "language": "python",
   "name": "python3"
  },
  "language_info": {
   "codemirror_mode": {
    "name": "ipython",
    "version": 3
   },
   "file_extension": ".py",
   "mimetype": "text/x-python",
   "name": "python",
   "nbconvert_exporter": "python",
   "pygments_lexer": "ipython3",
   "version": "3.8.18"
  }
 },
 "nbformat": 4,
 "nbformat_minor": 2
}
