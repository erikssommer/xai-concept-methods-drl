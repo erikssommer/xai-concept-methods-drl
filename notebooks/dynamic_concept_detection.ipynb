{
 "cells": [
  {
   "cell_type": "code",
   "execution_count": 31,
   "metadata": {},
   "outputs": [
    {
     "name": "stdout",
     "output_type": "stream",
     "text": [
      "The autoreload extension is already loaded. To reload it, use:\n",
      "  %reload_ext autoreload\n"
     ]
    }
   ],
   "source": [
    "%load_ext autoreload\n",
    "%autoreload 2"
   ]
  },
  {
   "cell_type": "code",
   "execution_count": 32,
   "metadata": {},
   "outputs": [],
   "source": [
    "import numpy as np\n",
    "import os\n",
    "import sys\n",
    "from tqdm import tqdm\n",
    "import json\n",
    "import random\n",
    "import string\n",
    "\n",
    "sys.path.append(os.path.abspath(os.path.join(os.path.pardir, 'src')))\n",
    "\n",
    "from concepts import dynamic_concepts, linear_regression\n",
    "import env\n",
    "from policy import ConvNet\n",
    "\n",
    "model_name = \"net\"\n",
    "session_name = \"endeavor\"\n",
    "board_size = 5\n",
    "board_name = f'{board_size}x{board_size}'\n",
    "\n",
    "agents_to_sample = [0, 100, 200, 300, 400, 500, 600, 700, 800, 900, 1000]\n",
    "\n",
    "full_model_path = f\"../models/saved_sessions/board_size_{board_size}/{session_name}/\"\n",
    "\n",
    "CONCEPT_FUNC = dynamic_concepts.game_start_sequence\n",
    "\n",
    "CONCEPT_NAME = dynamic_concepts.game_start_sequence.__name__\n",
    "\n",
    "CASES_TO_SAMPLE = 2500 # 25000"
   ]
  },
  {
   "cell_type": "code",
   "execution_count": 33,
   "metadata": {},
   "outputs": [],
   "source": [
    "def load_model(full_name, model_name, epoch):\n",
    "    model_path = full_name + model_name + \"_\" + str(epoch) + \".keras\"\n",
    "    model = ConvNet(board_size, model_path)\n",
    "    return model\n",
    "\n",
    "agents = [load_model(full_model_path, model_name, epoch) for epoch in agents_to_sample]"
   ]
  },
  {
   "cell_type": "code",
   "execution_count": 38,
   "metadata": {},
   "outputs": [
    {
     "name": "stdout",
     "output_type": "stream",
     "text": [
      "INFO:tensorflow:Assets written to: /var/folders/k4/t2xnyks517g9v60tdd71p4_00000gn/T/tmp1dsqzrgj/assets\n"
     ]
    },
    {
     "name": "stderr",
     "output_type": "stream",
     "text": [
      "INFO:tensorflow:Assets written to: /var/folders/k4/t2xnyks517g9v60tdd71p4_00000gn/T/tmp1dsqzrgj/assets\n",
      "2024-02-02 15:58:08.847640: I tensorflow/cc/saved_model/reader.cc:45] Reading SavedModel from: /var/folders/k4/t2xnyks517g9v60tdd71p4_00000gn/T/tmp1dsqzrgj\n",
      "2024-02-02 15:58:08.849194: I tensorflow/cc/saved_model/reader.cc:91] Reading meta graph with tags { serve }\n",
      "2024-02-02 15:58:08.849205: I tensorflow/cc/saved_model/reader.cc:132] Reading SavedModel debug info (if present) from: /var/folders/k4/t2xnyks517g9v60tdd71p4_00000gn/T/tmp1dsqzrgj\n",
      "2024-02-02 15:58:08.853628: I tensorflow/cc/saved_model/loader.cc:231] Restoring SavedModel bundle.\n",
      "2024-02-02 15:58:08.893257: I tensorflow/cc/saved_model/loader.cc:215] Running initialization op on SavedModel bundle at path: /var/folders/k4/t2xnyks517g9v60tdd71p4_00000gn/T/tmp1dsqzrgj\n",
      "2024-02-02 15:58:08.908528: I tensorflow/cc/saved_model/loader.cc:314] SavedModel load for tags { serve }; Status: success: OK. Took 60888 microseconds.\n"
     ]
    }
   ],
   "source": [
    "positive_cases = []\n",
    "negative_cases = []\n",
    "\n",
    "pos, neg = CONCEPT_FUNC()\n",
    "\n",
    "positive_cases.extend(pos)\n",
    "negative_cases.extend(neg)\n",
    "\n",
    "# Create numpy arrays \n",
    "positive_cases = np.array(positive_cases)\n",
    "negative_cases = np.array(negative_cases)"
   ]
  },
  {
   "cell_type": "code",
   "execution_count": 39,
   "metadata": {},
   "outputs": [
    {
     "name": "stdout",
     "output_type": "stream",
     "text": [
      "Positive cases:  (5, 6, 5, 5)\n",
      "Negative cases:  (5, 6, 5, 5)\n"
     ]
    }
   ],
   "source": [
    "# Print shapes\n",
    "print(\"Positive cases: \", positive_cases.shape)\n",
    "print(\"Negative cases: \", negative_cases.shape)\n",
    "\n",
    "# TODO: Game states are of wrong shape"
   ]
  },
  {
   "cell_type": "code",
   "execution_count": null,
   "metadata": {},
   "outputs": [],
   "source": [
    "# Test if there are any duplicates accross the two sets\n",
    "for i in range(len(positive_cases)):\n",
    "    for j in range(len(negative_cases)):\n",
    "        if np.array_equal(positive_cases[i], negative_cases[j]):\n",
    "            print(\"Duplicate found!\")\n",
    "            print(positive_cases[i])\n",
    "            print(negative_cases[j])\n",
    "            break"
   ]
  },
  {
   "cell_type": "code",
   "execution_count": null,
   "metadata": {},
   "outputs": [],
   "source": [
    "# Find the number of any duplicates within the positive cases\n",
    "duplicate_count = 0\n",
    "for i in range(len(positive_cases)):\n",
    "    for j in range(i + 1, len(positive_cases)):\n",
    "        if np.array_equal(positive_cases[i], positive_cases[j]):\n",
    "            duplicate_count += 1\n",
    "            break\n",
    "\n",
    "print(\"Duplicate count in positive cases: \", duplicate_count)\n",
    "\n",
    "# Find the number of any duplicates within the negative cases\n",
    "duplicate_count = 0\n",
    "for i in range(len(negative_cases)):\n",
    "    for j in range(i + 1, len(negative_cases)):\n",
    "        if np.array_equal(negative_cases[i], negative_cases[j]):\n",
    "            duplicate_count += 1\n",
    "            break\n",
    "\n",
    "print(\"Duplicate count in negative: \", duplicate_count)"
   ]
  },
  {
   "cell_type": "code",
   "execution_count": null,
   "metadata": {},
   "outputs": [],
   "source": [
    "# Print all the positive cases\n",
    "for i in range(len(positive_cases)):\n",
    "    print(f\"Positive case {i}:\")\n",
    "    print(positive_cases[i])\n",
    "    print()"
   ]
  },
  {
   "cell_type": "code",
   "execution_count": null,
   "metadata": {},
   "outputs": [],
   "source": [
    "# Positions to consider are 80% of the total positions\n",
    "POSITIONS_TO_CONSIDER = int(0.8 * positive_cases.shape[0] * 2)\n",
    "print(f\"Positions to consider: {POSITIONS_TO_CONSIDER}\")\n",
    "#POSITIONS_TO_CONSIDER = 4000 #40000\n",
    "VALIDATION_POSITIONS = 10000 #10000\n",
    "\n",
    "BINARY = True"
   ]
  },
  {
   "cell_type": "code",
   "execution_count": null,
   "metadata": {},
   "outputs": [],
   "source": [
    "# First test if the concept can be regressed form the inputs\n",
    "name = \"input\"\n",
    "all_cases = np.concatenate([positive_cases, negative_cases])\n",
    "all_labels = [1] * positive_cases.shape[0] + [0] * negative_cases.shape[0]\n",
    "all_labels = np.array(all_labels)\n",
    "shuffled_indices = np.arange(all_labels.shape[0])\n",
    "\n",
    "np.random.shuffle(shuffled_indices)\n",
    "\n",
    "all_cases = all_cases[shuffled_indices]\n",
    "all_labels = all_labels[shuffled_indices]\n",
    "\n",
    "points = all_cases.reshape(all_cases.shape[0], -1)\n",
    "\n",
    "# Use the regression\n",
    "score = linear_regression.perform_regression(\n",
    "    points=points[:POSITIONS_TO_CONSIDER], \n",
    "    targets=all_labels[:POSITIONS_TO_CONSIDER], \n",
    "    validation_points=points[POSITIONS_TO_CONSIDER:], \n",
    "    validation_targets=all_labels[POSITIONS_TO_CONSIDER:], \n",
    "    is_binary=BINARY\n",
    ")\n",
    "\n",
    "print(\"Regression score: \", score)\n",
    "\n",
    "# Remove the files if they exist\n",
    "if os.path.exists(\"../concept_presences/{}/{}/{}/\".format(board_name, session_name, CONCEPT_NAME)):\n",
    "    # Test if epoch folder exists\n",
    "    if os.path.exists(\"../concept_presences/{}/{}/{}/{}\".format(board_name, session_name, CONCEPT_NAME, name)):\n",
    "        # Remove all files in the epoch folder\n",
    "        # Fist save the \n",
    "        for file in os.listdir(\"../concept_presences/{}/{}/{}/{}\".format(board_name, session_name, CONCEPT_NAME, name)):\n",
    "            os.remove(\"../concept_presences/{}/{}/{}/{}/{}\".format(board_name, session_name, CONCEPT_NAME, name, file))\n",
    "\n",
    "os.makedirs(\"../concept_presences\", exist_ok=True)\n",
    "os.makedirs(\"../concept_presences/{}\".format(board_name), exist_ok=True)\n",
    "os.makedirs(\"../concept_presences/{}/{}\".format(board_name, session_name), exist_ok=True)\n",
    "os.makedirs(\"../concept_presences/{}/{}/{}\".format(board_name, session_name, CONCEPT_NAME), exist_ok=True)\n",
    "os.makedirs(\"../concept_presences/{}/{}/{}/{}\".format(board_name, session_name, CONCEPT_NAME, name), exist_ok=True)\n",
    "\n",
    "random_suffix = ''.join(random.choices(string.ascii_uppercase + string.digits, k=10))\n",
    "\n",
    "# Save concept presences in json file\n",
    "with open(\"../concept_presences/{}/{}/{}/{}/{}.json\".format(board_name, session_name, CONCEPT_NAME, name, random_suffix), \"w\") as f:\n",
    "    json.dump(score, f)"
   ]
  },
  {
   "cell_type": "code",
   "execution_count": null,
   "metadata": {},
   "outputs": [],
   "source": [
    "epochs_to_look_at = agents_to_sample\n",
    "\n",
    "for epoch in epochs_to_look_at:\n",
    "    path = full_model_path + model_name + \"_\" + str(epoch) + \".keras\"\n",
    "    model = ConvNet(board_size, path)\n",
    "\n",
    "    # Will have a length equal to the sum of the numer of rows in the positive and negative cases arrays\n",
    "    # And will contain 1s for positive cases and 0s for negative cases\n",
    "    # Is used as labels/targets for the regression\n",
    "    all_cases = np.concatenate([positive_cases, negative_cases])\n",
    "    all_labels = [1] * positive_cases.shape[0] + [0] * negative_cases.shape[0]\n",
    "    all_labels = np.array(all_labels)\n",
    "    shuffled_indices = np.arange(all_labels.shape[0])\n",
    "\n",
    "    np.random.shuffle(shuffled_indices)\n",
    "\n",
    "    all_cases = all_cases[shuffled_indices]\n",
    "    all_labels = all_labels[shuffled_indices]\n",
    "\n",
    "    concept_presences = {}\n",
    "    \n",
    "    outputs = model.get_all_activation_values(all_cases)\n",
    "\n",
    "    # Merge outputs\n",
    "    merged_outputs = []\n",
    "    for output_batch in outputs:\n",
    "        for i, output_layer in enumerate(output_batch):\n",
    "            if len(merged_outputs) <= i:\n",
    "                merged_outputs.append([])\n",
    "            merged_outputs[i].extend(output_layer)\n",
    "\n",
    "    for i, layer_output in enumerate(merged_outputs):\n",
    "        merged_outputs[i] = np.array(merged_outputs[i])\n",
    "    \n",
    "    outputs = merged_outputs\n",
    "\n",
    "    # Perform regression\n",
    "    concept_presence_per_layer = []\n",
    "    for (i, output) in enumerate(outputs):\n",
    "        points = output.reshape((output.shape[0], np.prod(output.shape[1:])))\n",
    "        # So one has (n, k) samples where n is the number of positions, and k is the total number of activation values in layer i.\n",
    "        print(f\"Performing regression for layer {i}\")\n",
    "        score = linear_regression.perform_regression(\n",
    "            points=points[:POSITIONS_TO_CONSIDER], \n",
    "            targets=all_labels[:POSITIONS_TO_CONSIDER], \n",
    "            validation_points=points[POSITIONS_TO_CONSIDER:], \n",
    "            validation_targets=all_labels[POSITIONS_TO_CONSIDER:], \n",
    "            is_binary=BINARY\n",
    "        )\n",
    "        concept_presence_per_layer.append(score)\n",
    "\n",
    "        print(f\"The presence of {CONCEPT_NAME} in resblock {i} is {score}\")\n",
    "    \n",
    "    concept_presences[CONCEPT_NAME] = concept_presence_per_layer\n",
    "\n",
    "    # Remove the files if they exist\n",
    "    if os.path.exists(\"../concept_presences/{}/{}/{}/\".format(board_name, session_name, CONCEPT_NAME)):\n",
    "        # Test if epoch folder exists\n",
    "        if os.path.exists(\"../concept_presences/{}/{}/{}/{}\".format(board_name, session_name, CONCEPT_NAME, epoch)):\n",
    "            # Remove all files in the epoch folder\n",
    "            # Fist save the \n",
    "            for file in os.listdir(\"../concept_presences/{}/{}/{}/{}\".format(board_name, session_name, CONCEPT_NAME, epoch)):\n",
    "                os.remove(\"../concept_presences/{}/{}/{}/{}/{}\".format(board_name, session_name, CONCEPT_NAME, epoch, file))\n",
    "\n",
    "    os.makedirs(\"../concept_presences\", exist_ok=True)\n",
    "    os.makedirs(\"../concept_presences/{}\".format(board_name), exist_ok=True)\n",
    "    os.makedirs(\"../concept_presences/{}/{}\".format(board_name, session_name), exist_ok=True)\n",
    "    os.makedirs(\"../concept_presences/{}/{}/{}\".format(board_name, session_name, CONCEPT_NAME), exist_ok=True)\n",
    "    os.makedirs(\"../concept_presences/{}/{}/{}/{}\".format(board_name, session_name, CONCEPT_NAME, epoch), exist_ok=True)\n",
    "\n",
    "    random_suffix = ''.join(random.choices(string.ascii_uppercase + string.digits, k=10))\n",
    "\n",
    "    # Save concept presences in json file\n",
    "    with open(\"../concept_presences/{}/{}/{}/{}/{}.json\".format(board_name, session_name, CONCEPT_NAME, epoch, random_suffix), \"w\") as f:\n",
    "        json.dump(concept_presences[CONCEPT_NAME], f)"
   ]
  }
 ],
 "metadata": {
  "kernelspec": {
   "display_name": "go-xai",
   "language": "python",
   "name": "python3"
  },
  "language_info": {
   "codemirror_mode": {
    "name": "ipython",
    "version": 3
   },
   "file_extension": ".py",
   "mimetype": "text/x-python",
   "name": "python",
   "nbconvert_exporter": "python",
   "pygments_lexer": "ipython3",
   "version": "3.11.5"
  }
 },
 "nbformat": 4,
 "nbformat_minor": 2
}
