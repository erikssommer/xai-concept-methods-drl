{
 "cells": [
  {
   "cell_type": "code",
   "execution_count": 31,
   "metadata": {},
   "outputs": [
    {
     "name": "stdout",
     "output_type": "stream",
     "text": [
      "The autoreload extension is already loaded. To reload it, use:\n",
      "  %reload_ext autoreload\n"
     ]
    }
   ],
   "source": [
    "%load_ext autoreload\n",
    "%autoreload 2"
   ]
  },
  {
   "cell_type": "code",
   "execution_count": 32,
   "metadata": {},
   "outputs": [],
   "source": [
    "import numpy as np\n",
    "import os\n",
    "import sys\n",
    "from tqdm import tqdm\n",
    "import json\n",
    "import random\n",
    "import string\n",
    "\n",
    "sys.path.append(os.path.abspath(os.path.join(os.path.pardir, 'src')))\n",
    "\n",
    "from concepts import dynamic_concepts, linear_regression\n",
    "import env\n",
    "from policy import ConvNet\n",
    "\n",
    "model_name = \"net\"\n",
    "session_name = \"endeavor\"\n",
    "board_size = 5\n",
    "board_name = f'{board_size}x{board_size}'\n",
    "\n",
    "agents_to_sample = [0, 100, 200, 300, 400, 500, 600, 700, 800, 900, 1000]\n",
    "\n",
    "full_model_path = f\"../models/saved_sessions/board_size_{board_size}/{session_name}/\"\n",
    "\n",
    "CONCEPT_FUNC = dynamic_concepts.game_start_sequence\n",
    "\n",
    "CONCEPT_NAME = dynamic_concepts.game_start_sequence.__name__\n",
    "\n",
    "CASES_TO_SAMPLE = 2500 # 25000"
   ]
  },
  {
   "cell_type": "code",
   "execution_count": 33,
   "metadata": {},
   "outputs": [],
   "source": [
    "def load_model(full_name, model_name, epoch):\n",
    "    model_path = full_name + model_name + \"_\" + str(epoch) + \".keras\"\n",
    "    model = ConvNet(board_size, model_path)\n",
    "    return model\n",
    "\n",
    "agents = [load_model(full_model_path, model_name, epoch) for epoch in agents_to_sample]"
   ]
  },
  {
   "cell_type": "code",
   "execution_count": 37,
   "metadata": {},
   "outputs": [
    {
     "name": "stdout",
     "output_type": "stream",
     "text": [
      "INFO:tensorflow:Assets written to: /var/folders/k4/t2xnyks517g9v60tdd71p4_00000gn/T/tmpbzslwdkl/assets\n"
     ]
    },
    {
     "name": "stderr",
     "output_type": "stream",
     "text": [
      "INFO:tensorflow:Assets written to: /var/folders/k4/t2xnyks517g9v60tdd71p4_00000gn/T/tmpbzslwdkl/assets\n",
      "2024-02-02 15:54:42.072232: I tensorflow/cc/saved_model/reader.cc:45] Reading SavedModel from: /var/folders/k4/t2xnyks517g9v60tdd71p4_00000gn/T/tmpbzslwdkl\n",
      "2024-02-02 15:54:42.074001: I tensorflow/cc/saved_model/reader.cc:91] Reading meta graph with tags { serve }\n",
      "2024-02-02 15:54:42.074013: I tensorflow/cc/saved_model/reader.cc:132] Reading SavedModel debug info (if present) from: /var/folders/k4/t2xnyks517g9v60tdd71p4_00000gn/T/tmpbzslwdkl\n",
      "2024-02-02 15:54:42.078619: I tensorflow/cc/saved_model/loader.cc:231] Restoring SavedModel bundle.\n",
      "2024-02-02 15:54:42.118472: I tensorflow/cc/saved_model/loader.cc:215] Running initialization op on SavedModel bundle at path: /var/folders/k4/t2xnyks517g9v60tdd71p4_00000gn/T/tmpbzslwdkl\n",
      "2024-02-02 15:54:42.134186: I tensorflow/cc/saved_model/loader.cc:314] SavedModel load for tags { serve }; Status: success: OK. Took 61954 microseconds.\n"
     ]
    },
    {
     "name": "stdout",
     "output_type": "stream",
     "text": [
      "0\n",
      "143\n",
      "1\n",
      "4\n",
      "20\n",
      "22\n",
      "0\n",
      "1\n",
      "4\n",
      "17\n",
      "19\n",
      "0\n",
      "6\n",
      "Positive cases: 5\n",
      "Negative cases: 5\n"
     ]
    }
   ],
   "source": [
    "positive_cases = []\n",
    "negative_cases = []\n",
    "\n",
    "pos, neg = CONCEPT_FUNC()\n",
    "\n",
    "positive_cases.extend(pos)\n",
    "negative_cases.extend(neg)\n",
    "\n",
    "print(f\"Positive cases: {len(positive_cases)}\")\n",
    "print(f\"Negative cases: {len(negative_cases)}\")"
   ]
  }
 ],
 "metadata": {
  "kernelspec": {
   "display_name": "go-xai",
   "language": "python",
   "name": "python3"
  },
  "language_info": {
   "codemirror_mode": {
    "name": "ipython",
    "version": 3
   },
   "file_extension": ".py",
   "mimetype": "text/x-python",
   "name": "python",
   "nbconvert_exporter": "python",
   "pygments_lexer": "ipython3",
   "version": "3.11.5"
  }
 },
 "nbformat": 4,
 "nbformat_minor": 2
}
